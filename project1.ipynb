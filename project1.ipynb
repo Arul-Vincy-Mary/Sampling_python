{
  "nbformat": 4,
  "nbformat_minor": 0,
  "metadata": {
    "colab": {
      "name": "project1",
      "provenance": [],
      "collapsed_sections": [],
      "mount_file_id": "1iRyxD6uCLJ3gqn2y_-a3PFjjjAC0PGIh",
      "authorship_tag": "ABX9TyNEr9m1jv+w2OArOFHZBr9r",
      "include_colab_link": true
    },
    "kernelspec": {
      "name": "python3",
      "display_name": "Python 3"
    },
    "language_info": {
      "name": "python"
    }
  },
  "cells": [
    {
      "cell_type": "markdown",
      "metadata": {
        "id": "view-in-github",
        "colab_type": "text"
      },
      "source": [
        "<a href=\"https://colab.research.google.com/github/Arul-Vincy-Mary/nerd/blob/main/project1.ipynb\" target=\"_parent\"><img src=\"https://colab.research.google.com/assets/colab-badge.svg\" alt=\"Open In Colab\"/></a>"
      ]
    },
    {
      "cell_type": "code",
      "metadata": {
        "id": "xnluN3T-Z_L9"
      },
      "source": [
        "#importing required library and package\n",
        "# data visualization\n",
        "pip install pyLDAvis\n",
        "import pyLDAvis.gensim_models\n",
        "import pyLDAvis\n",
        "\n",
        "#reading the dataset\n",
        "import numpy as np\n",
        "import pandas as pd\n",
        "import email\n",
        "\n",
        "#data cleaning\n",
        "! pip install texthero\n",
        "import texthero as hero\n",
        "import re\n",
        "\n",
        "#Tokenization\n",
        "import nltk\n",
        "nltk.download('punkt')\n",
        "from nltk.tokenize import word_tokenize\n",
        "# NLTK Stop words\n",
        "nltk.download('stopwords')\n",
        "from nltk.corpus import stopwords\n",
        "#spacy for lemmatization\n",
        "import spacy\n",
        "\n",
        "#model building\n",
        "import gensim\n",
        "import gensim.corpora as corpora\n",
        "from gensim.utils import simple_preprocess\n",
        "from gensim.models import CoherenceModel\n",
        "from gensim.models.phrases import Phrases, Phraser\n"
      ],
      "execution_count": null,
      "outputs": []
    },
    {
      "cell_type": "code",
      "metadata": {
        "id": "8dYCtyJjmyn9"
      },
      "source": [
        "from google.colab import drive\n",
        "drive.mount('/content/drive')"
      ],
      "execution_count": null,
      "outputs": []
    },
    {
      "cell_type": "code",
      "metadata": {
        "id": "-1Jsm7tqLqp3"
      },
      "source": [
        "import warnings\n",
        "warnings.filterwarnings(\"ignore\",category=DeprecationWarning)"
      ],
      "execution_count": null,
      "outputs": []
    },
    {
      "cell_type": "code",
      "metadata": {
        "id": "lL96Uj7eOprw"
      },
      "source": [
        "data = pd.read_csv(\"/content/drive/MyDrive/emails.csv\")"
      ],
      "execution_count": null,
      "outputs": []
    },
    {
      "cell_type": "code",
      "metadata": {
        "id": "6dI6SKjb7KzP",
        "colab": {
          "base_uri": "https://localhost:8080/",
          "height": 203
        },
        "outputId": "a4ffef4b-159a-47fc-f858-ecc92287ddc4"
      },
      "source": [
        "data.head()"
      ],
      "execution_count": null,
      "outputs": [
        {
          "output_type": "execute_result",
          "data": {
            "text/html": [
              "<div>\n",
              "<style scoped>\n",
              "    .dataframe tbody tr th:only-of-type {\n",
              "        vertical-align: middle;\n",
              "    }\n",
              "\n",
              "    .dataframe tbody tr th {\n",
              "        vertical-align: top;\n",
              "    }\n",
              "\n",
              "    .dataframe thead th {\n",
              "        text-align: right;\n",
              "    }\n",
              "</style>\n",
              "<table border=\"1\" class=\"dataframe\">\n",
              "  <thead>\n",
              "    <tr style=\"text-align: right;\">\n",
              "      <th></th>\n",
              "      <th>file</th>\n",
              "      <th>message</th>\n",
              "    </tr>\n",
              "  </thead>\n",
              "  <tbody>\n",
              "    <tr>\n",
              "      <th>0</th>\n",
              "      <td>allen-p/_sent_mail/1.</td>\n",
              "      <td>Message-ID: &lt;18782981.1075855378110.JavaMail.e...</td>\n",
              "    </tr>\n",
              "    <tr>\n",
              "      <th>1</th>\n",
              "      <td>allen-p/_sent_mail/10.</td>\n",
              "      <td>Message-ID: &lt;15464986.1075855378456.JavaMail.e...</td>\n",
              "    </tr>\n",
              "    <tr>\n",
              "      <th>2</th>\n",
              "      <td>allen-p/_sent_mail/100.</td>\n",
              "      <td>Message-ID: &lt;24216240.1075855687451.JavaMail.e...</td>\n",
              "    </tr>\n",
              "    <tr>\n",
              "      <th>3</th>\n",
              "      <td>allen-p/_sent_mail/1000.</td>\n",
              "      <td>Message-ID: &lt;13505866.1075863688222.JavaMail.e...</td>\n",
              "    </tr>\n",
              "    <tr>\n",
              "      <th>4</th>\n",
              "      <td>allen-p/_sent_mail/1001.</td>\n",
              "      <td>Message-ID: &lt;30922949.1075863688243.JavaMail.e...</td>\n",
              "    </tr>\n",
              "  </tbody>\n",
              "</table>\n",
              "</div>"
            ],
            "text/plain": [
              "                       file                                            message\n",
              "0     allen-p/_sent_mail/1.  Message-ID: <18782981.1075855378110.JavaMail.e...\n",
              "1    allen-p/_sent_mail/10.  Message-ID: <15464986.1075855378456.JavaMail.e...\n",
              "2   allen-p/_sent_mail/100.  Message-ID: <24216240.1075855687451.JavaMail.e...\n",
              "3  allen-p/_sent_mail/1000.  Message-ID: <13505866.1075863688222.JavaMail.e...\n",
              "4  allen-p/_sent_mail/1001.  Message-ID: <30922949.1075863688243.JavaMail.e..."
            ]
          },
          "metadata": {
            "tags": []
          },
          "execution_count": 4
        }
      ]
    },
    {
      "cell_type": "code",
      "metadata": {
        "colab": {
          "base_uri": "https://localhost:8080/"
        },
        "id": "aLl98d5q74eH",
        "outputId": "a4d6312e-6e6c-4a52-9ddc-80bec4dbd570"
      },
      "source": [
        "data.shape"
      ],
      "execution_count": null,
      "outputs": [
        {
          "output_type": "execute_result",
          "data": {
            "text/plain": [
              "(517401, 2)"
            ]
          },
          "metadata": {
            "tags": []
          },
          "execution_count": 5
        }
      ]
    },
    {
      "cell_type": "code",
      "metadata": {
        "id": "ug0_SkoS7wGn",
        "colab": {
          "base_uri": "https://localhost:8080/"
        },
        "outputId": "cb28a193-f809-4fa7-a0c2-a562ca98382f"
      },
      "source": [
        "#message\n",
        "print(data.loc[1]['message'])"
      ],
      "execution_count": null,
      "outputs": [
        {
          "output_type": "stream",
          "text": [
            "Message-ID: <15464986.1075855378456.JavaMail.evans@thyme>\n",
            "Date: Fri, 4 May 2001 13:51:00 -0700 (PDT)\n",
            "From: phillip.allen@enron.com\n",
            "To: john.lavorato@enron.com\n",
            "Subject: Re:\n",
            "Mime-Version: 1.0\n",
            "Content-Type: text/plain; charset=us-ascii\n",
            "Content-Transfer-Encoding: 7bit\n",
            "X-From: Phillip K Allen\n",
            "X-To: John J Lavorato <John J Lavorato/ENRON@enronXgate@ENRON>\n",
            "X-cc: \n",
            "X-bcc: \n",
            "X-Folder: \\Phillip_Allen_Jan2002_1\\Allen, Phillip K.\\'Sent Mail\n",
            "X-Origin: Allen-P\n",
            "X-FileName: pallen (Non-Privileged).pst\n",
            "\n",
            "Traveling to have a business meeting takes the fun out of the trip.  Especially if you have to prepare a presentation.  I would suggest holding the business plan meetings here then take a trip without any formal business meetings.  I would even try and get some honest opinions on whether a trip is even desired or necessary.\n",
            "\n",
            "As far as the business meetings, I think it would be more productive to try and stimulate discussions across the different groups about what is working and what is not.  Too often the presenter speaks and the others are quiet just waiting for their turn.   The meetings might be better if held in a round table discussion format.  \n",
            "\n",
            "My suggestion for where to go is Austin.  Play golf and rent a ski boat and jet ski's.  Flying somewhere takes too much time.\n",
            "\n"
          ],
          "name": "stdout"
        }
      ]
    },
    {
      "cell_type": "markdown",
      "metadata": {
        "id": "s6dW6F_q7dWx"
      },
      "source": [
        "Extract headers:"
      ]
    },
    {
      "cell_type": "code",
      "metadata": {
        "id": "zIVz0arz7bjh"
      },
      "source": [
        "# now we add those fields into our dataframe\n",
        "def get_field(field, messages):\n",
        "    column = []\n",
        "    for message in messages:\n",
        "        e = email.message_from_string(message)\n",
        "        column.append(e.get(field))\n",
        "    return column  "
      ],
      "execution_count": null,
      "outputs": []
    },
    {
      "cell_type": "code",
      "metadata": {
        "id": "B93VqryoVGCv",
        "colab": {
          "base_uri": "https://localhost:8080/",
          "height": 203
        },
        "outputId": "858eae9c-e4ce-42cc-f5b4-b54806f9c89b"
      },
      "source": [
        "data['subject'] = get_field(\"Subject\", data['message'])\n",
        "data['X-Folder'] = get_field(\"X-Folder\", data['message'])\n",
        "data['X-From'] = get_field(\"X-From\", data['message'])\n",
        "data['X-To'] = get_field(\"X-To\", data['message'])\n",
        "data.head()   "
      ],
      "execution_count": null,
      "outputs": [
        {
          "output_type": "execute_result",
          "data": {
            "text/html": [
              "<div>\n",
              "<style scoped>\n",
              "    .dataframe tbody tr th:only-of-type {\n",
              "        vertical-align: middle;\n",
              "    }\n",
              "\n",
              "    .dataframe tbody tr th {\n",
              "        vertical-align: top;\n",
              "    }\n",
              "\n",
              "    .dataframe thead th {\n",
              "        text-align: right;\n",
              "    }\n",
              "</style>\n",
              "<table border=\"1\" class=\"dataframe\">\n",
              "  <thead>\n",
              "    <tr style=\"text-align: right;\">\n",
              "      <th></th>\n",
              "      <th>file</th>\n",
              "      <th>message</th>\n",
              "      <th>subject</th>\n",
              "      <th>X-Folder</th>\n",
              "      <th>X-From</th>\n",
              "      <th>X-To</th>\n",
              "    </tr>\n",
              "  </thead>\n",
              "  <tbody>\n",
              "    <tr>\n",
              "      <th>0</th>\n",
              "      <td>allen-p/_sent_mail/1.</td>\n",
              "      <td>Message-ID: &lt;18782981.1075855378110.JavaMail.e...</td>\n",
              "      <td></td>\n",
              "      <td>\\Phillip_Allen_Jan2002_1\\Allen, Phillip K.\\'Se...</td>\n",
              "      <td>Phillip K Allen</td>\n",
              "      <td>Tim Belden &lt;Tim Belden/Enron@EnronXGate&gt;</td>\n",
              "    </tr>\n",
              "    <tr>\n",
              "      <th>1</th>\n",
              "      <td>allen-p/_sent_mail/10.</td>\n",
              "      <td>Message-ID: &lt;15464986.1075855378456.JavaMail.e...</td>\n",
              "      <td>Re:</td>\n",
              "      <td>\\Phillip_Allen_Jan2002_1\\Allen, Phillip K.\\'Se...</td>\n",
              "      <td>Phillip K Allen</td>\n",
              "      <td>John J Lavorato &lt;John J Lavorato/ENRON@enronXg...</td>\n",
              "    </tr>\n",
              "    <tr>\n",
              "      <th>2</th>\n",
              "      <td>allen-p/_sent_mail/100.</td>\n",
              "      <td>Message-ID: &lt;24216240.1075855687451.JavaMail.e...</td>\n",
              "      <td>Re: test</td>\n",
              "      <td>\\Phillip_Allen_Dec2000\\Notes Folders\\'sent mail</td>\n",
              "      <td>Phillip K Allen</td>\n",
              "      <td>Leah Van Arsdall</td>\n",
              "    </tr>\n",
              "    <tr>\n",
              "      <th>3</th>\n",
              "      <td>allen-p/_sent_mail/1000.</td>\n",
              "      <td>Message-ID: &lt;13505866.1075863688222.JavaMail.e...</td>\n",
              "      <td></td>\n",
              "      <td>\\Phillip_Allen_Dec2000\\Notes Folders\\'sent mail</td>\n",
              "      <td>Phillip K Allen</td>\n",
              "      <td>Randall L Gay</td>\n",
              "    </tr>\n",
              "    <tr>\n",
              "      <th>4</th>\n",
              "      <td>allen-p/_sent_mail/1001.</td>\n",
              "      <td>Message-ID: &lt;30922949.1075863688243.JavaMail.e...</td>\n",
              "      <td>Re: Hello</td>\n",
              "      <td>\\Phillip_Allen_Dec2000\\Notes Folders\\'sent mail</td>\n",
              "      <td>Phillip K Allen</td>\n",
              "      <td>Greg Piper</td>\n",
              "    </tr>\n",
              "  </tbody>\n",
              "</table>\n",
              "</div>"
            ],
            "text/plain": [
              "                       file  ...                                               X-To\n",
              "0     allen-p/_sent_mail/1.  ...           Tim Belden <Tim Belden/Enron@EnronXGate>\n",
              "1    allen-p/_sent_mail/10.  ...  John J Lavorato <John J Lavorato/ENRON@enronXg...\n",
              "2   allen-p/_sent_mail/100.  ...                                   Leah Van Arsdall\n",
              "3  allen-p/_sent_mail/1000.  ...                                      Randall L Gay\n",
              "4  allen-p/_sent_mail/1001.  ...                                         Greg Piper\n",
              "\n",
              "[5 rows x 6 columns]"
            ]
          },
          "metadata": {
            "tags": []
          },
          "execution_count": 5
        }
      ]
    },
    {
      "cell_type": "code",
      "metadata": {
        "id": "mgTFXPnbVo8H"
      },
      "source": [
        "sub = pd.DataFrame(data['subject'])"
      ],
      "execution_count": null,
      "outputs": []
    },
    {
      "cell_type": "code",
      "metadata": {
        "id": "BLpXNcKaV8ey"
      },
      "source": [
        "data\n",
        "#sub.head(10000)"
      ],
      "execution_count": null,
      "outputs": []
    },
    {
      "cell_type": "code",
      "metadata": {
        "id": "zv_5A_b87n80"
      },
      "source": [
        "#extract body of the message\n",
        "def body(messages):\n",
        "    column = []\n",
        "    for message in messages:\n",
        "        e = email.message_from_string(message)\n",
        "        column.append(e.get_payload())\n",
        "    return column"
      ],
      "execution_count": null,
      "outputs": []
    },
    {
      "cell_type": "code",
      "metadata": {
        "colab": {
          "base_uri": "https://localhost:8080/",
          "height": 287
        },
        "id": "UtuDm_KEVUZV",
        "outputId": "1d6bb248-3e0b-4d17-8048-ed1b13351c94"
      },
      "source": [
        "data['body'] = body(data['message'])\n",
        "data.head()"
      ],
      "execution_count": null,
      "outputs": [
        {
          "output_type": "execute_result",
          "data": {
            "text/html": [
              "<div>\n",
              "<style scoped>\n",
              "    .dataframe tbody tr th:only-of-type {\n",
              "        vertical-align: middle;\n",
              "    }\n",
              "\n",
              "    .dataframe tbody tr th {\n",
              "        vertical-align: top;\n",
              "    }\n",
              "\n",
              "    .dataframe thead th {\n",
              "        text-align: right;\n",
              "    }\n",
              "</style>\n",
              "<table border=\"1\" class=\"dataframe\">\n",
              "  <thead>\n",
              "    <tr style=\"text-align: right;\">\n",
              "      <th></th>\n",
              "      <th>file</th>\n",
              "      <th>message</th>\n",
              "      <th>subject</th>\n",
              "      <th>X-Folder</th>\n",
              "      <th>X-From</th>\n",
              "      <th>X-To</th>\n",
              "      <th>body</th>\n",
              "    </tr>\n",
              "  </thead>\n",
              "  <tbody>\n",
              "    <tr>\n",
              "      <th>0</th>\n",
              "      <td>allen-p/_sent_mail/1.</td>\n",
              "      <td>Message-ID: &lt;18782981.1075855378110.JavaMail.e...</td>\n",
              "      <td></td>\n",
              "      <td>\\Phillip_Allen_Jan2002_1\\Allen, Phillip K.\\'Se...</td>\n",
              "      <td>Phillip K Allen</td>\n",
              "      <td>Tim Belden &lt;Tim Belden/Enron@EnronXGate&gt;</td>\n",
              "      <td>Here is our forecast\\n\\n</td>\n",
              "    </tr>\n",
              "    <tr>\n",
              "      <th>1</th>\n",
              "      <td>allen-p/_sent_mail/10.</td>\n",
              "      <td>Message-ID: &lt;15464986.1075855378456.JavaMail.e...</td>\n",
              "      <td>Re:</td>\n",
              "      <td>\\Phillip_Allen_Jan2002_1\\Allen, Phillip K.\\'Se...</td>\n",
              "      <td>Phillip K Allen</td>\n",
              "      <td>John J Lavorato &lt;John J Lavorato/ENRON@enronXg...</td>\n",
              "      <td>Traveling to have a business meeting takes the...</td>\n",
              "    </tr>\n",
              "    <tr>\n",
              "      <th>2</th>\n",
              "      <td>allen-p/_sent_mail/100.</td>\n",
              "      <td>Message-ID: &lt;24216240.1075855687451.JavaMail.e...</td>\n",
              "      <td>Re: test</td>\n",
              "      <td>\\Phillip_Allen_Dec2000\\Notes Folders\\'sent mail</td>\n",
              "      <td>Phillip K Allen</td>\n",
              "      <td>Leah Van Arsdall</td>\n",
              "      <td>test successful.  way to go!!!</td>\n",
              "    </tr>\n",
              "    <tr>\n",
              "      <th>3</th>\n",
              "      <td>allen-p/_sent_mail/1000.</td>\n",
              "      <td>Message-ID: &lt;13505866.1075863688222.JavaMail.e...</td>\n",
              "      <td></td>\n",
              "      <td>\\Phillip_Allen_Dec2000\\Notes Folders\\'sent mail</td>\n",
              "      <td>Phillip K Allen</td>\n",
              "      <td>Randall L Gay</td>\n",
              "      <td>Randy,\\n\\n Can you send me a schedule of the s...</td>\n",
              "    </tr>\n",
              "    <tr>\n",
              "      <th>4</th>\n",
              "      <td>allen-p/_sent_mail/1001.</td>\n",
              "      <td>Message-ID: &lt;30922949.1075863688243.JavaMail.e...</td>\n",
              "      <td>Re: Hello</td>\n",
              "      <td>\\Phillip_Allen_Dec2000\\Notes Folders\\'sent mail</td>\n",
              "      <td>Phillip K Allen</td>\n",
              "      <td>Greg Piper</td>\n",
              "      <td>Let's shoot for Tuesday at 11:45.</td>\n",
              "    </tr>\n",
              "  </tbody>\n",
              "</table>\n",
              "</div>"
            ],
            "text/plain": [
              "                       file  ...                                               body\n",
              "0     allen-p/_sent_mail/1.  ...                          Here is our forecast\\n\\n \n",
              "1    allen-p/_sent_mail/10.  ...  Traveling to have a business meeting takes the...\n",
              "2   allen-p/_sent_mail/100.  ...                     test successful.  way to go!!!\n",
              "3  allen-p/_sent_mail/1000.  ...  Randy,\\n\\n Can you send me a schedule of the s...\n",
              "4  allen-p/_sent_mail/1001.  ...                Let's shoot for Tuesday at 11:45.  \n",
              "\n",
              "[5 rows x 7 columns]"
            ]
          },
          "metadata": {
            "tags": []
          },
          "execution_count": 8
        }
      ]
    },
    {
      "cell_type": "markdown",
      "metadata": {
        "id": "FtWnP6E5CORX"
      },
      "source": [
        "Look into X-Folder:"
      ]
    },
    {
      "cell_type": "code",
      "metadata": {
        "id": "YtOhoQCK-ptO",
        "colab": {
          "base_uri": "https://localhost:8080/"
        },
        "outputId": "2189a2e2-8723-4d48-bf17-9d762e0e42be"
      },
      "source": [
        "print(\"number of folders: \", data.shape[0])\n",
        "print(\"number of unique folders: \", data['X-Folder'].unique().shape[0])"
      ],
      "execution_count": null,
      "outputs": [
        {
          "output_type": "stream",
          "text": [
            "number of folders:  517401\n",
            "number of unique folders:  5336\n"
          ],
          "name": "stdout"
        }
      ]
    },
    {
      "cell_type": "code",
      "metadata": {
        "colab": {
          "base_uri": "https://localhost:8080/",
          "height": 52
        },
        "id": "eQs4MQJCC8nw",
        "outputId": "dbc0ad3f-c596-4eb2-cae4-a8426312770e"
      },
      "source": [
        "print(data['X-Folder'][0])\n",
        "\n",
        "# we only want last folder name\n",
        "data['X-Folder'][0].split(\"\\\\\")[-1]"
      ],
      "execution_count": null,
      "outputs": [
        {
          "output_type": "stream",
          "text": [
            "\\Phillip_Allen_Jan2002_1\\Allen, Phillip K.\\'Sent Mail\n"
          ],
          "name": "stdout"
        },
        {
          "output_type": "execute_result",
          "data": {
            "application/vnd.google.colaboratory.intrinsic+json": {
              "type": "string"
            },
            "text/plain": [
              "\"'Sent Mail\""
            ]
          },
          "metadata": {
            "tags": []
          },
          "execution_count": 10
        }
      ]
    },
    {
      "cell_type": "code",
      "metadata": {
        "colab": {
          "base_uri": "https://localhost:8080/",
          "height": 304
        },
        "id": "OapU6V7IDDQB",
        "outputId": "cf66de69-bf2e-477f-fb91-74d480ce94f4"
      },
      "source": [
        "def preprocess_folder(folders):\n",
        "    column = []\n",
        "    for folder in folders:\n",
        "        if (folder is None or folder == \"\"):\n",
        "            column.append(np.nan)\n",
        "        else:\n",
        "            column.append(folder.split(\"\\\\\")[-1].lower())\n",
        "    return column\n",
        "\n",
        "data['X-Folder'] = preprocess_folder(data['X-Folder'])\n",
        "data.head()"
      ],
      "execution_count": null,
      "outputs": [
        {
          "output_type": "execute_result",
          "data": {
            "text/html": [
              "<div>\n",
              "<style scoped>\n",
              "    .dataframe tbody tr th:only-of-type {\n",
              "        vertical-align: middle;\n",
              "    }\n",
              "\n",
              "    .dataframe tbody tr th {\n",
              "        vertical-align: top;\n",
              "    }\n",
              "\n",
              "    .dataframe thead th {\n",
              "        text-align: right;\n",
              "    }\n",
              "</style>\n",
              "<table border=\"1\" class=\"dataframe\">\n",
              "  <thead>\n",
              "    <tr style=\"text-align: right;\">\n",
              "      <th></th>\n",
              "      <th>file</th>\n",
              "      <th>message</th>\n",
              "      <th>subject</th>\n",
              "      <th>X-Folder</th>\n",
              "      <th>X-From</th>\n",
              "      <th>X-To</th>\n",
              "      <th>body</th>\n",
              "    </tr>\n",
              "  </thead>\n",
              "  <tbody>\n",
              "    <tr>\n",
              "      <th>0</th>\n",
              "      <td>allen-p/_sent_mail/1.</td>\n",
              "      <td>Message-ID: &lt;18782981.1075855378110.JavaMail.e...</td>\n",
              "      <td></td>\n",
              "      <td>'sent mail</td>\n",
              "      <td>Phillip K Allen</td>\n",
              "      <td>Tim Belden &lt;Tim Belden/Enron@EnronXGate&gt;</td>\n",
              "      <td>Here is our forecast\\n\\n</td>\n",
              "    </tr>\n",
              "    <tr>\n",
              "      <th>1</th>\n",
              "      <td>allen-p/_sent_mail/10.</td>\n",
              "      <td>Message-ID: &lt;15464986.1075855378456.JavaMail.e...</td>\n",
              "      <td>Re:</td>\n",
              "      <td>'sent mail</td>\n",
              "      <td>Phillip K Allen</td>\n",
              "      <td>John J Lavorato &lt;John J Lavorato/ENRON@enronXg...</td>\n",
              "      <td>Traveling to have a business meeting takes the...</td>\n",
              "    </tr>\n",
              "    <tr>\n",
              "      <th>2</th>\n",
              "      <td>allen-p/_sent_mail/100.</td>\n",
              "      <td>Message-ID: &lt;24216240.1075855687451.JavaMail.e...</td>\n",
              "      <td>Re: test</td>\n",
              "      <td>'sent mail</td>\n",
              "      <td>Phillip K Allen</td>\n",
              "      <td>Leah Van Arsdall</td>\n",
              "      <td>test successful.  way to go!!!</td>\n",
              "    </tr>\n",
              "    <tr>\n",
              "      <th>3</th>\n",
              "      <td>allen-p/_sent_mail/1000.</td>\n",
              "      <td>Message-ID: &lt;13505866.1075863688222.JavaMail.e...</td>\n",
              "      <td></td>\n",
              "      <td>'sent mail</td>\n",
              "      <td>Phillip K Allen</td>\n",
              "      <td>Randall L Gay</td>\n",
              "      <td>Randy,\\n\\n Can you send me a schedule of the s...</td>\n",
              "    </tr>\n",
              "    <tr>\n",
              "      <th>4</th>\n",
              "      <td>allen-p/_sent_mail/1001.</td>\n",
              "      <td>Message-ID: &lt;30922949.1075863688243.JavaMail.e...</td>\n",
              "      <td>Re: Hello</td>\n",
              "      <td>'sent mail</td>\n",
              "      <td>Phillip K Allen</td>\n",
              "      <td>Greg Piper</td>\n",
              "      <td>Let's shoot for Tuesday at 11:45.</td>\n",
              "    </tr>\n",
              "  </tbody>\n",
              "</table>\n",
              "</div>"
            ],
            "text/plain": [
              "                       file  ...                                               body\n",
              "0     allen-p/_sent_mail/1.  ...                          Here is our forecast\\n\\n \n",
              "1    allen-p/_sent_mail/10.  ...  Traveling to have a business meeting takes the...\n",
              "2   allen-p/_sent_mail/100.  ...                     test successful.  way to go!!!\n",
              "3  allen-p/_sent_mail/1000.  ...  Randy,\\n\\n Can you send me a schedule of the s...\n",
              "4  allen-p/_sent_mail/1001.  ...                Let's shoot for Tuesday at 11:45.  \n",
              "\n",
              "[5 rows x 7 columns]"
            ]
          },
          "metadata": {
            "tags": []
          },
          "execution_count": 11
        }
      ]
    },
    {
      "cell_type": "code",
      "metadata": {
        "colab": {
          "base_uri": "https://localhost:8080/"
        },
        "id": "0KocrjI5q3Yv",
        "outputId": "eef78260-30e1-4324-b8ab-ca63552dac24"
      },
      "source": [
        "# view some unique folders\n",
        "data['X-Folder'].unique()[0:40]"
      ],
      "execution_count": null,
      "outputs": [
        {
          "output_type": "execute_result",
          "data": {
            "text/plain": [
              "array([\"'sent mail\", 'all documents', 'contacts', 'deleted items',\n",
              "       'discussion threads', 'inbox', 'notes inbox', 'sent items', 'sent',\n",
              "       'straw', '2000 conference', 'active international', 'avaya', 'bmc',\n",
              "       'bridge', 'bristol babcock', 'colleen koenig', 'compaq',\n",
              "       'computer associates', 'continental airlines', 'cooper cameron',\n",
              "       'corestaff', 'dell', 'ebs', 'ees', 'enron europe', 'etol', 'fedex',\n",
              "       'ge', 'hp', 'human resources', \"kinko's\", 'nepco europe', 'nepco',\n",
              "       'oec', 'pcc values', 'personal', 'purchasing', 'requisite', 'sap'],\n",
              "      dtype=object)"
            ]
          },
          "metadata": {
            "tags": []
          },
          "execution_count": 14
        }
      ]
    },
    {
      "cell_type": "code",
      "metadata": {
        "id": "tWQr1jQRkqGN"
      },
      "source": [
        "#copy of the dataset\n",
        "data_1 = data.copy(deep=True)"
      ],
      "execution_count": null,
      "outputs": []
    },
    {
      "cell_type": "markdown",
      "metadata": {
        "id": "puBayS0FEJW8"
      },
      "source": [
        "Drop the following columns: file,message,date,subject,X-From,X-To"
      ]
    },
    {
      "cell_type": "code",
      "metadata": {
        "id": "iAwJaZglEHCB",
        "colab": {
          "base_uri": "https://localhost:8080/"
        },
        "outputId": "e87d09bb-f95c-4293-852f-033165400c8d"
      },
      "source": [
        "cols_to_drop = ['file','message','subject','X-From','X-To']\n",
        "data_1.drop(cols_to_drop, axis=1, inplace=True)\n",
        "data_1.head()\n",
        "data_1.shape"
      ],
      "execution_count": null,
      "outputs": [
        {
          "output_type": "execute_result",
          "data": {
            "text/plain": [
              "(517401, 2)"
            ]
          },
          "metadata": {
            "tags": []
          },
          "execution_count": 13
        }
      ]
    },
    {
      "cell_type": "code",
      "metadata": {
        "colab": {
          "base_uri": "https://localhost:8080/"
        },
        "id": "fNWPIgT8EWxa",
        "outputId": "a0cbcdb8-4b26-4105-a8f6-7d9c3a584345"
      },
      "source": [
        "#taking subset\n",
        "data_1 = data_1[data_1[\"X-Folder\"]==\"'sent mail\"]\n",
        "data_1['X-Folder'].nunique()\n",
        "data_1.columns\n",
        "data_1.shape"
      ],
      "execution_count": null,
      "outputs": [
        {
          "output_type": "execute_result",
          "data": {
            "text/plain": [
              "(30237, 2)"
            ]
          },
          "metadata": {
            "tags": []
          },
          "execution_count": 14
        }
      ]
    },
    {
      "cell_type": "code",
      "metadata": {
        "colab": {
          "base_uri": "https://localhost:8080/",
          "height": 203
        },
        "id": "t3ipBRsEr0F6",
        "outputId": "6c80c91f-b04d-4003-a00c-5d536dce2788"
      },
      "source": [
        "data_1.head()"
      ],
      "execution_count": null,
      "outputs": [
        {
          "output_type": "execute_result",
          "data": {
            "text/html": [
              "<div>\n",
              "<style scoped>\n",
              "    .dataframe tbody tr th:only-of-type {\n",
              "        vertical-align: middle;\n",
              "    }\n",
              "\n",
              "    .dataframe tbody tr th {\n",
              "        vertical-align: top;\n",
              "    }\n",
              "\n",
              "    .dataframe thead th {\n",
              "        text-align: right;\n",
              "    }\n",
              "</style>\n",
              "<table border=\"1\" class=\"dataframe\">\n",
              "  <thead>\n",
              "    <tr style=\"text-align: right;\">\n",
              "      <th></th>\n",
              "      <th>X-Folder</th>\n",
              "      <th>body</th>\n",
              "    </tr>\n",
              "  </thead>\n",
              "  <tbody>\n",
              "    <tr>\n",
              "      <th>0</th>\n",
              "      <td>'sent mail</td>\n",
              "      <td>Here is our forecast\\n\\n</td>\n",
              "    </tr>\n",
              "    <tr>\n",
              "      <th>1</th>\n",
              "      <td>'sent mail</td>\n",
              "      <td>Traveling to have a business meeting takes the...</td>\n",
              "    </tr>\n",
              "    <tr>\n",
              "      <th>2</th>\n",
              "      <td>'sent mail</td>\n",
              "      <td>test successful.  way to go!!!</td>\n",
              "    </tr>\n",
              "    <tr>\n",
              "      <th>3</th>\n",
              "      <td>'sent mail</td>\n",
              "      <td>Randy,\\n\\n Can you send me a schedule of the s...</td>\n",
              "    </tr>\n",
              "    <tr>\n",
              "      <th>4</th>\n",
              "      <td>'sent mail</td>\n",
              "      <td>Let's shoot for Tuesday at 11:45.</td>\n",
              "    </tr>\n",
              "  </tbody>\n",
              "</table>\n",
              "</div>"
            ],
            "text/plain": [
              "     X-Folder                                               body\n",
              "0  'sent mail                          Here is our forecast\\n\\n \n",
              "1  'sent mail  Traveling to have a business meeting takes the...\n",
              "2  'sent mail                     test successful.  way to go!!!\n",
              "3  'sent mail  Randy,\\n\\n Can you send me a schedule of the s...\n",
              "4  'sent mail                Let's shoot for Tuesday at 11:45.  "
            ]
          },
          "metadata": {
            "tags": []
          },
          "execution_count": 15
        }
      ]
    },
    {
      "cell_type": "code",
      "metadata": {
        "colab": {
          "base_uri": "https://localhost:8080/",
          "height": 203
        },
        "id": "IVYKbrlRYaFw",
        "outputId": "95efd681-1853-4314-a0c9-e4c5b3366fa6"
      },
      "source": [
        "df = data_1[:10000]\n",
        "df.head()"
      ],
      "execution_count": null,
      "outputs": [
        {
          "output_type": "execute_result",
          "data": {
            "text/html": [
              "<div>\n",
              "<style scoped>\n",
              "    .dataframe tbody tr th:only-of-type {\n",
              "        vertical-align: middle;\n",
              "    }\n",
              "\n",
              "    .dataframe tbody tr th {\n",
              "        vertical-align: top;\n",
              "    }\n",
              "\n",
              "    .dataframe thead th {\n",
              "        text-align: right;\n",
              "    }\n",
              "</style>\n",
              "<table border=\"1\" class=\"dataframe\">\n",
              "  <thead>\n",
              "    <tr style=\"text-align: right;\">\n",
              "      <th></th>\n",
              "      <th>X-Folder</th>\n",
              "      <th>body</th>\n",
              "    </tr>\n",
              "  </thead>\n",
              "  <tbody>\n",
              "    <tr>\n",
              "      <th>0</th>\n",
              "      <td>'sent mail</td>\n",
              "      <td>Here is our forecast\\n\\n</td>\n",
              "    </tr>\n",
              "    <tr>\n",
              "      <th>1</th>\n",
              "      <td>'sent mail</td>\n",
              "      <td>Traveling to have a business meeting takes the...</td>\n",
              "    </tr>\n",
              "    <tr>\n",
              "      <th>2</th>\n",
              "      <td>'sent mail</td>\n",
              "      <td>test successful.  way to go!!!</td>\n",
              "    </tr>\n",
              "    <tr>\n",
              "      <th>3</th>\n",
              "      <td>'sent mail</td>\n",
              "      <td>Randy,\\n\\n Can you send me a schedule of the s...</td>\n",
              "    </tr>\n",
              "    <tr>\n",
              "      <th>4</th>\n",
              "      <td>'sent mail</td>\n",
              "      <td>Let's shoot for Tuesday at 11:45.</td>\n",
              "    </tr>\n",
              "  </tbody>\n",
              "</table>\n",
              "</div>"
            ],
            "text/plain": [
              "     X-Folder                                               body\n",
              "0  'sent mail                          Here is our forecast\\n\\n \n",
              "1  'sent mail  Traveling to have a business meeting takes the...\n",
              "2  'sent mail                     test successful.  way to go!!!\n",
              "3  'sent mail  Randy,\\n\\n Can you send me a schedule of the s...\n",
              "4  'sent mail                Let's shoot for Tuesday at 11:45.  "
            ]
          },
          "metadata": {
            "tags": []
          },
          "execution_count": 16
        }
      ]
    },
    {
      "cell_type": "code",
      "metadata": {
        "id": "wNEiLtlytnBg"
      },
      "source": [
        "df_1 = df.copy(deep=True)"
      ],
      "execution_count": null,
      "outputs": []
    },
    {
      "cell_type": "code",
      "metadata": {
        "id": "v8CLt5V4t1T9",
        "colab": {
          "base_uri": "https://localhost:8080/",
          "height": 203
        },
        "outputId": "6e4d0706-3269-46cd-cdca-23af76738fe7"
      },
      "source": [
        "df_1.head()"
      ],
      "execution_count": null,
      "outputs": [
        {
          "output_type": "execute_result",
          "data": {
            "text/html": [
              "<div>\n",
              "<style scoped>\n",
              "    .dataframe tbody tr th:only-of-type {\n",
              "        vertical-align: middle;\n",
              "    }\n",
              "\n",
              "    .dataframe tbody tr th {\n",
              "        vertical-align: top;\n",
              "    }\n",
              "\n",
              "    .dataframe thead th {\n",
              "        text-align: right;\n",
              "    }\n",
              "</style>\n",
              "<table border=\"1\" class=\"dataframe\">\n",
              "  <thead>\n",
              "    <tr style=\"text-align: right;\">\n",
              "      <th></th>\n",
              "      <th>X-Folder</th>\n",
              "      <th>body</th>\n",
              "    </tr>\n",
              "  </thead>\n",
              "  <tbody>\n",
              "    <tr>\n",
              "      <th>0</th>\n",
              "      <td>'sent mail</td>\n",
              "      <td>Here is our forecast\\n\\n</td>\n",
              "    </tr>\n",
              "    <tr>\n",
              "      <th>1</th>\n",
              "      <td>'sent mail</td>\n",
              "      <td>Traveling to have a business meeting takes the...</td>\n",
              "    </tr>\n",
              "    <tr>\n",
              "      <th>2</th>\n",
              "      <td>'sent mail</td>\n",
              "      <td>test successful.  way to go!!!</td>\n",
              "    </tr>\n",
              "    <tr>\n",
              "      <th>3</th>\n",
              "      <td>'sent mail</td>\n",
              "      <td>Randy,\\n\\n Can you send me a schedule of the s...</td>\n",
              "    </tr>\n",
              "    <tr>\n",
              "      <th>4</th>\n",
              "      <td>'sent mail</td>\n",
              "      <td>Let's shoot for Tuesday at 11:45.</td>\n",
              "    </tr>\n",
              "  </tbody>\n",
              "</table>\n",
              "</div>"
            ],
            "text/plain": [
              "     X-Folder                                               body\n",
              "0  'sent mail                          Here is our forecast\\n\\n \n",
              "1  'sent mail  Traveling to have a business meeting takes the...\n",
              "2  'sent mail                     test successful.  way to go!!!\n",
              "3  'sent mail  Randy,\\n\\n Can you send me a schedule of the s...\n",
              "4  'sent mail                Let's shoot for Tuesday at 11:45.  "
            ]
          },
          "metadata": {
            "tags": []
          },
          "execution_count": 21
        }
      ]
    },
    {
      "cell_type": "markdown",
      "metadata": {
        "id": "HZRZJaofOLtT"
      },
      "source": [
        "Data cleaning"
      ]
    },
    {
      "cell_type": "code",
      "metadata": {
        "id": "RZenCburOBE9",
        "colab": {
          "base_uri": "https://localhost:8080/"
        },
        "outputId": "541c64a5-a83e-49b2-aed2-c670e9726ab9"
      },
      "source": [
        "for i in range(25):\n",
        "   print(\"################################################ EMAIL CONTENT NUMBER:\",i,\"############################################################################\")\n",
        "   print(df_1.body.iloc[i])"
      ],
      "execution_count": null,
      "outputs": [
        {
          "output_type": "stream",
          "text": [
            "################################################ EMAIL CONTENT NUMBER: 0 ############################################################################\n",
            "Here is our forecast\n",
            "\n",
            " \n",
            "################################################ EMAIL CONTENT NUMBER: 1 ############################################################################\n",
            "Traveling to have a business meeting takes the fun out of the trip.  Especially if you have to prepare a presentation.  I would suggest holding the business plan meetings here then take a trip without any formal business meetings.  I would even try and get some honest opinions on whether a trip is even desired or necessary.\n",
            "\n",
            "As far as the business meetings, I think it would be more productive to try and stimulate discussions across the different groups about what is working and what is not.  Too often the presenter speaks and the others are quiet just waiting for their turn.   The meetings might be better if held in a round table discussion format.  \n",
            "\n",
            "My suggestion for where to go is Austin.  Play golf and rent a ski boat and jet ski's.  Flying somewhere takes too much time.\n",
            "\n",
            "################################################ EMAIL CONTENT NUMBER: 2 ############################################################################\n",
            "test successful.  way to go!!!\n",
            "################################################ EMAIL CONTENT NUMBER: 3 ############################################################################\n",
            "Randy,\n",
            "\n",
            " Can you send me a schedule of the salary and level of everyone in the \n",
            "scheduling group.  Plus your thoughts on any changes that need to be made.  \n",
            "(Patti S for example)\n",
            "\n",
            "Phillip\n",
            "################################################ EMAIL CONTENT NUMBER: 4 ############################################################################\n",
            "Let's shoot for Tuesday at 11:45.  \n",
            "################################################ EMAIL CONTENT NUMBER: 5 ############################################################################\n",
            "Greg,\n",
            "\n",
            " How about either next Tuesday or Thursday?\n",
            "\n",
            "Phillip\n",
            "################################################ EMAIL CONTENT NUMBER: 6 ############################################################################\n",
            "Please cc the following distribution list with updates:\n",
            "\n",
            "Phillip Allen (pallen@enron.com)\n",
            "Mike Grigsby (mike.grigsby@enron.com)\n",
            "Keith Holst (kholst@enron.com)\n",
            "Monique Sanchez\n",
            "Frank Ermis\n",
            "John Lavorato\n",
            "\n",
            "\n",
            "Thank you for your help\n",
            "\n",
            "Phillip Allen\n",
            "\n",
            "################################################ EMAIL CONTENT NUMBER: 7 ############################################################################\n",
            "any morning between 10 and 11:30\n",
            "################################################ EMAIL CONTENT NUMBER: 8 ############################################################################\n",
            "1. login:  pallen pw: ke9davis\n",
            "\n",
            " I don't think these are required by the ISP \n",
            "\n",
            "  2.  static IP address\n",
            "\n",
            " IP: 64.216.90.105\n",
            " Sub: 255.255.255.248\n",
            " gate: 64.216.90.110\n",
            " DNS: 151.164.1.8\n",
            "\n",
            "  3.  Company: 0413\n",
            "        RC:  105891\n",
            "################################################ EMAIL CONTENT NUMBER: 9 ############################################################################\n",
            "---------------------- Forwarded by Phillip K Allen/HOU/ECT on 10/16/2000 \n",
            "01:42 PM ---------------------------\n",
            "\n",
            "\n",
            "\"Buckner, Buck\" <buck.buckner@honeywell.com> on 10/12/2000 01:12:21 PM\n",
            "To: \"'Pallen@Enron.com'\" <Pallen@Enron.com>\n",
            "cc:  \n",
            "Subject: FW: fixed forward or other Collar floor gas price terms\n",
            "\n",
            "\n",
            "Phillip,\n",
            "\n",
            "> As discussed  during our phone conversation, In a Parallon 75 microturbine\n",
            "> power generation deal for a national accounts customer, I am developing a\n",
            "> proposal to sell power to customer at fixed or collar/floor price. To do\n",
            "> so I need a corresponding term gas price for same. Microturbine is an\n",
            "> onsite generation product developed by Honeywell to generate electricity\n",
            "> on customer site (degen). using natural gas. In doing so,  I need your\n",
            "> best fixed price forward gas price deal for 1, 3, 5, 7 and 10 years for\n",
            "> annual/seasonal supply to microturbines to generate fixed kWh for\n",
            "> customer. We have the opportunity to sell customer kWh 's using\n",
            "> microturbine or sell them turbines themselves. kWh deal must have limited/\n",
            "> no risk forward gas price to make deal work. Therein comes Sempra energy\n",
            "> gas trading, truly you.\n",
            ">\n",
            "> We are proposing installing 180 - 240 units across a large number of\n",
            "> stores (60-100) in San Diego.\n",
            "> Store number varies because of installation hurdles face at small percent.\n",
            ">\n",
            "> For 6-8 hours a day  Microturbine run time:\n",
            "> Gas requirement for 180 microturbines 227 - 302 MMcf per year\n",
            "> Gas requirement for 240 microturbines 302 - 403 MMcf per year\n",
            ">\n",
            "> Gas will likely be consumed from May through September, during peak\n",
            "> electric period.\n",
            "> Gas price required: Burnertip price behind (LDC) San Diego Gas & Electric\n",
            "> Need detail breakout of commodity and transport cost (firm or\n",
            "> interruptible).\n",
            ">\n",
            "> Should you have additional questions, give me a call.\n",
            "> Let me assure you, this is real deal!!\n",
            ">\n",
            "> Buck Buckner, P.E., MBA\n",
            "> Manager, Business Development and Planning\n",
            "> Big Box Retail Sales\n",
            "> Honeywell Power Systems, Inc.\n",
            "> 8725 Pan American Frwy\n",
            "> Albuquerque, NM 87113\n",
            "> 505-798-6424\n",
            "> 505-798-6050x\n",
            "> 505-220-4129\n",
            "> 888/501-3145\n",
            "> \n",
            "\n",
            "################################################ EMAIL CONTENT NUMBER: 10 ############################################################################\n",
            "Mr. Buckner,\n",
            "\n",
            " For delivered gas behind San Diego, Enron Energy Services is the appropriate \n",
            "Enron entity.  I have forwarded your request to Zarin Imam at EES.  Her phone \n",
            "number is 713-853-7107.  \n",
            "\n",
            "Phillip Allen\n",
            "################################################ EMAIL CONTENT NUMBER: 11 ############################################################################\n",
            "Lucy,\n",
            "\n",
            " Here are the rentrolls:\n",
            "\n",
            "\n",
            "\n",
            " Open them and save in the rentroll folder.  Follow these steps so you don't \n",
            "misplace these files.\n",
            "\n",
            " 1.  Click on Save As\n",
            " 2.  Click on the drop down triangle under Save in:\n",
            " 3.  Click on the  (C): drive\n",
            " 4.  Click on the appropriate folder\n",
            " 5.  Click on Save:\n",
            "\n",
            "Phillip\n",
            "################################################ EMAIL CONTENT NUMBER: 12 ############################################################################\n",
            "---------------------- Forwarded by Phillip K Allen/HOU/ECT on 10/09/2000 \n",
            "02:16 PM ---------------------------\n",
            "\n",
            "\n",
            "Richard Burchfield\n",
            "10/06/2000 06:59 AM\n",
            "To: Phillip K Allen/HOU/ECT@ECT\n",
            "cc: Beth Perlman/HOU/ECT@ECT \n",
            "Subject: Consolidated positions: Issues & To Do list\n",
            "\n",
            "Phillip,\n",
            " Below is the issues & to do list as we go forward with documenting the \n",
            "requirements for consolidated physical/financial positions and transport \n",
            "trade capture. What we need to focus on is the first bullet in Allan's list; \n",
            "the need for a single set of requirements. Although the meeting with Keith, \n",
            "on Wednesday,  was informative the solution of creating a infinitely dynamic \n",
            "consolidated position screen, will be extremely difficult and time \n",
            "consuming.  Throughout the meeting on Wednesday, Keith alluded to the \n",
            "inability to get consensus amongst the traders on the presentation of the \n",
            "consolidated position, so the solution was to make it so that a trader can \n",
            "arrange the position screen to their liking (much like Excel). What needs to \n",
            "happen on Monday from 3 - 5 is a effort to design a desired layout for the \n",
            "consolidated position screen, this is critical. This does not exclude \n",
            "building a capability to create a more flexible position presentation for the \n",
            "future, but in order to create a plan that can be measured we need firm \n",
            "requirements. Also, to reiterate that the goals of this project is a project \n",
            "plan on consolidate physical/financial positions and transport trade capture. \n",
            "The other issues that have been raised will be capture as projects on to \n",
            "themselves, and will need to be prioritised as efforts outside of this \n",
            "project.\n",
            "\n",
            "I have been involved in most of the meetings and the discussions have been \n",
            "good. I believe there has been good communication between the teams, but now \n",
            "we need to have focus on the objectives we set out to solve.\n",
            "\n",
            "Richard  \n",
            "---------------------- Forwarded by Richard Burchfield/HOU/ECT on 10/06/2000 \n",
            "08:34 AM ---------------------------\n",
            "\n",
            "\n",
            "Allan Severude\n",
            "10/05/2000 06:03 PM\n",
            "To: Richard Burchfield/HOU/ECT@ECT\n",
            "cc: Peggy Alix/HOU/ECT@ECT, Russ Severson/HOU/ECT@ECT, Scott \n",
            "Mills/HOU/ECT@ECT, Kenny Ha/HOU/ECT@ECT \n",
            "Subject: Consolidated positions: Issues & To Do list\n",
            "\n",
            "\n",
            "From our initial set of meetings with the traders regarding consolidated \n",
            "positions, I think we still have the following issues:\n",
            "We don't have a single point of contact from the trading group.  We've had \n",
            "three meetings which brought out very different issues from different \n",
            "traders.  We really need a single point of contact to help drive the trader \n",
            "requirements and help come to a consensus regarding the requirements.\n",
            "We're getting hit with a lot of different requests, many of which appear to \n",
            "be outside the scope of position consolidation.\n",
            "\n",
            "Things left to do:\n",
            "I think it may be useful to try to formulate a high level project goal to \n",
            "make it as clear as possible what we're trying to accomplish with this \n",
            "project.  It'll help determine which requests fall under the project scope.\n",
            "Go through the list of requests to determine which are in scope for this \n",
            "project and which fall out of scope.\n",
            "For those in scope, work to define relative importance (priority) of each and \n",
            "work with traders to define the exact requirements of each.\n",
            "Define the desired lay out of the position manager screen: main view and all \n",
            "drill downs.\n",
            "Use the above to formulate a project plan.\n",
            "\n",
            "Things requested thus far (no particular order):\n",
            "Inclusion of Sitara physical deals into the TDS position manager and deal \n",
            "ticker.\n",
            "Customized rows and columns in the position manager (ad hoc rows/columns that \n",
            "add up existing position manager rows/columns).\n",
            "New drill down in the position manager to break out positions by: physical, \n",
            "transport, swaps, options, ...\n",
            "Addition of a curve tab to the position manager to show the real-time values \n",
            "of all curves on which the desk has a position.\n",
            "Ability to split the current position grid to allow daily positions to be \n",
            "shown directly above monthly positions.  Each grouped column in the top grid \n",
            "would be tied to a grouped column in the bottom grid.\n",
            "Ability to properly show curve shift for float-for-float deals; determine the \n",
            "appropriate positions to show for each:\n",
            "Gas Daily for monthly index,\n",
            "Physical gas for Nymex,\n",
            "Physical gas for Inside Ferc,\n",
            "Physical gas for Mid market.\n",
            "Ability for TDS to pull valuation results based on a TDS flag instead of \n",
            "using official valuations.\n",
            "Position and P&L aggregation across all gas desks.\n",
            "Ability to include the Gas Price book into TDS:\n",
            "Inclusion of spread options in our systems.  Ability to handle volatility \n",
            "skew and correlations.\n",
            "Ability to revalue all options incrementally throughout the trading day.  \n",
            "Approximate delta changes between valuations using instantaneous gamma or a \n",
            "gamma grid.\n",
            "Valuation of Gas Daily options.\n",
            "A new position screen for options (months x strike x delta).  TBD.\n",
            "Inclusion of positions for exotic options currently managed in spreadsheets.\n",
            "Ability to isolate the position change due to changed deals in the position \n",
            "manager.\n",
            "Ability to view change deal P&L in the TDS deal ticker.  Show new deal terms, \n",
            "prior deal terms, and net P&L affect of the change.\n",
            "Eliminate change deals with no economic impact from the TDS deal ticker.\n",
            "Position drill down in the position manager to isolate the impact of \n",
            "individual deals on the position total in a grid cell.\n",
            "Benchmark positions in TDS.\n",
            "Deployment of TDS in Canada. Currency and volume uom conversions. Implicit \n",
            "and explicit position break out issues.\n",
            "\n",
            "-- Allan.\n",
            "\n",
            "PS: Colleen is setting up a meeting tomorrow to discuss the direction for \n",
            "transport.  Hopefully we'll know much better where that part stands at that \n",
            "point.\n",
            "\n",
            "\n",
            "\n",
            "\n",
            "\n",
            "################################################ EMAIL CONTENT NUMBER: 13 ############################################################################\n",
            "---------------------- Forwarded by Phillip K Allen/HOU/ECT on 10/09/2000 \n",
            "02:00 PM ---------------------------\n",
            "\n",
            "\n",
            "Richard Burchfield\n",
            "10/06/2000 06:59 AM\n",
            "To: Phillip K Allen/HOU/ECT@ECT\n",
            "cc: Beth Perlman/HOU/ECT@ECT \n",
            "Subject: Consolidated positions: Issues & To Do list\n",
            "\n",
            "Phillip,\n",
            " Below is the issues & to do list as we go forward with documenting the \n",
            "requirements for consolidated physical/financial positions and transport \n",
            "trade capture. What we need to focus on is the first bullet in Allan's list; \n",
            "the need for a single set of requirements. Although the meeting with Keith, \n",
            "on Wednesday,  was informative the solution of creating a infinitely dynamic \n",
            "consolidated position screen, will be extremely difficult and time \n",
            "consuming.  Throughout the meeting on Wednesday, Keith alluded to the \n",
            "inability to get consensus amongst the traders on the presentation of the \n",
            "consolidated position, so the solution was to make it so that a trader can \n",
            "arrange the position screen to their liking (much like Excel). What needs to \n",
            "happen on Monday from 3 - 5 is a effort to design a desired layout for the \n",
            "consolidated position screen, this is critical. This does not exclude \n",
            "building a capability to create a more flexible position presentation for the \n",
            "future, but in order to create a plan that can be measured we need firm \n",
            "requirements. Also, to reiterate that the goals of this project is a project \n",
            "plan on consolidate physical/financial positions and transport trade capture. \n",
            "The other issues that have been raised will be capture as projects on to \n",
            "themselves, and will need to be prioritised as efforts outside of this \n",
            "project.\n",
            "\n",
            "I have been involved in most of the meetings and the discussions have been \n",
            "good. I believe there has been good communication between the teams, but now \n",
            "we need to have focus on the objectives we set out to solve.\n",
            "\n",
            "Richard  \n",
            "---------------------- Forwarded by Richard Burchfield/HOU/ECT on 10/06/2000 \n",
            "08:34 AM ---------------------------\n",
            "\n",
            "\n",
            "Allan Severude\n",
            "10/05/2000 06:03 PM\n",
            "To: Richard Burchfield/HOU/ECT@ECT\n",
            "cc: Peggy Alix/HOU/ECT@ECT, Russ Severson/HOU/ECT@ECT, Scott \n",
            "Mills/HOU/ECT@ECT, Kenny Ha/HOU/ECT@ECT \n",
            "Subject: Consolidated positions: Issues & To Do list\n",
            "\n",
            "\n",
            "From our initial set of meetings with the traders regarding consolidated \n",
            "positions, I think we still have the following issues:\n",
            "We don't have a single point of contact from the trading group.  We've had \n",
            "three meetings which brought out very different issues from different \n",
            "traders.  We really need a single point of contact to help drive the trader \n",
            "requirements and help come to a consensus regarding the requirements.\n",
            "We're getting hit with a lot of different requests, many of which appear to \n",
            "be outside the scope of position consolidation.\n",
            "\n",
            "Things left to do:\n",
            "I think it may be useful to try to formulate a high level project goal to \n",
            "make it as clear as possible what we're trying to accomplish with this \n",
            "project.  It'll help determine which requests fall under the project scope.\n",
            "Go through the list of requests to determine which are in scope for this \n",
            "project and which fall out of scope.\n",
            "For those in scope, work to define relative importance (priority) of each and \n",
            "work with traders to define the exact requirements of each.\n",
            "Define the desired lay out of the position manager screen: main view and all \n",
            "drill downs.\n",
            "Use the above to formulate a project plan.\n",
            "\n",
            "Things requested thus far (no particular order):\n",
            "Inclusion of Sitara physical deals into the TDS position manager and deal \n",
            "ticker.\n",
            "Customized rows and columns in the position manager (ad hoc rows/columns that \n",
            "add up existing position manager rows/columns).\n",
            "New drill down in the position manager to break out positions by: physical, \n",
            "transport, swaps, options, ...\n",
            "Addition of a curve tab to the position manager to show the real-time values \n",
            "of all curves on which the desk has a position.\n",
            "Ability to split the current position grid to allow daily positions to be \n",
            "shown directly above monthly positions.  Each grouped column in the top grid \n",
            "would be tied to a grouped column in the bottom grid.\n",
            "Ability to properly show curve shift for float-for-float deals; determine the \n",
            "appropriate positions to show for each:\n",
            "Gas Daily for monthly index,\n",
            "Physical gas for Nymex,\n",
            "Physical gas for Inside Ferc,\n",
            "Physical gas for Mid market.\n",
            "Ability for TDS to pull valuation results based on a TDS flag instead of \n",
            "using official valuations.\n",
            "Position and P&L aggregation across all gas desks.\n",
            "Ability to include the Gas Price book into TDS:\n",
            "Inclusion of spread options in our systems.  Ability to handle volatility \n",
            "skew and correlations.\n",
            "Ability to revalue all options incrementally throughout the trading day.  \n",
            "Approximate delta changes between valuations using instantaneous gamma or a \n",
            "gamma grid.\n",
            "Valuation of Gas Daily options.\n",
            "A new position screen for options (months x strike x delta).  TBD.\n",
            "Inclusion of positions for exotic options currently managed in spreadsheets.\n",
            "Ability to isolate the position change due to changed deals in the position \n",
            "manager.\n",
            "Ability to view change deal P&L in the TDS deal ticker.  Show new deal terms, \n",
            "prior deal terms, and net P&L affect of the change.\n",
            "Eliminate change deals with no economic impact from the TDS deal ticker.\n",
            "Position drill down in the position manager to isolate the impact of \n",
            "individual deals on the position total in a grid cell.\n",
            "Benchmark positions in TDS.\n",
            "Deployment of TDS in Canada. Currency and volume uom conversions. Implicit \n",
            "and explicit position break out issues.\n",
            "\n",
            "-- Allan.\n",
            "\n",
            "PS: Colleen is setting up a meeting tomorrow to discuss the direction for \n",
            "transport.  Hopefully we'll know much better where that part stands at that \n",
            "point.\n",
            "\n",
            "\n",
            "\n",
            "\n",
            "\n",
            "################################################ EMAIL CONTENT NUMBER: 14 ############################################################################\n",
            "Dave, \n",
            "\n",
            " Here are the names of the west desk members by category.  The origination \n",
            "side is very sparse.  \n",
            "\n",
            "\n",
            "\n",
            "\n",
            "\n",
            "Phillip\n",
            "\n",
            "################################################ EMAIL CONTENT NUMBER: 15 ############################################################################\n",
            "Paula,\n",
            "\n",
            " 35 million is fine\n",
            "\n",
            "Phillip\n",
            "################################################ EMAIL CONTENT NUMBER: 16 ############################################################################\n",
            "---------------------- Forwarded by Phillip K Allen/HOU/ECT on 10/04/2000 \n",
            "04:23 PM ---------------------------\n",
            "   \n",
            "\tEnron North America Corp.\n",
            "\t\n",
            "\tFrom:  Airam Arteaga                           10/04/2000 12:23 PM\n",
            "\t\n",
            "\n",
            "To: Phillip K Allen/HOU/ECT@ECT, Thomas A Martin/HOU/ECT@ECT, Scott \n",
            "Neal/HOU/ECT@ECT, John Arnold/HOU/ECT@ECT, Grant Masson/HOU/ECT@ECT, Ted \n",
            "Murphy/HOU/ECT@ECT, Vladimir Gorny/HOU/ECT@ECT, Frank Hayden/Corp/Enron@Enron\n",
            "cc: Rita Hennessy/NA/Enron@Enron, Ina Rangel/HOU/ECT@ECT, Laura \n",
            "Harder/Corp/Enron@Enron, Kimberly Brown/HOU/ECT@ECT, Araceli \n",
            "Romero/NA/Enron@Enron, Kimberly Hillis/HOU/ECT@ect \n",
            "Subject: Var, Reporting and Resources Meeting\n",
            "\n",
            "Please plan to attend the below  Meeting:\n",
            "\n",
            "\n",
            "                                Topic:  Var, Reporting and Resources Meeting\n",
            "        \n",
            "  Date:  Wednesday, October 11th\n",
            "\n",
            "  Time:  2:30 - 3:30 \n",
            "\n",
            "  Location: EB30C1\n",
            "\n",
            "  \n",
            "\n",
            " If you have any questions/conflicts, please feel free to call me.\n",
            "\n",
            "Thanks,\n",
            "Rain\n",
            "x.31560\n",
            "\n",
            "\n",
            "\n",
            "\n",
            "\n",
            "\n",
            "\n",
            "################################################ EMAIL CONTENT NUMBER: 17 ############################################################################\n",
            "Tim,\n",
            "\n",
            "mike grigsby is having problems with accessing the west power site.  Can you please make sure he has an active password.  \n",
            "\n",
            "Thank you,\n",
            "\n",
            "Phillip\n",
            "################################################ EMAIL CONTENT NUMBER: 18 ############################################################################\n",
            "---------------------- Forwarded by Phillip K Allen/HOU/ECT on 10/03/2000 \n",
            "04:30 PM ---------------------------\n",
            "\n",
            "\n",
            "\"George Richards\" <cbpres@austin.rr.com> on 10/03/2000 06:35:56 AM\n",
            "Please respond to <cbpres@austin.rr.com>\n",
            "To: \"Phillip Allen\" <pallen@enron.com>\n",
            "cc: \"Larry Lewter\" <retwell@mail.sanmarcos.net> \n",
            "Subject: Westgate\n",
            "\n",
            "\n",
            "Westgate\n",
            "\n",
            "Enclosed are demographics on the Westgate site from Investor's Alliance.\n",
            "Investor's Alliance says that these demographics are similar to the package\n",
            "on San Marcos that you received earlier.\n",
            "If there are any other questions or information requirements, let me know.\n",
            "Then, let me know your interest level in the Westgate project?\n",
            "\n",
            "San Marcos\n",
            "The property across the street from the Sagewood units in San Marcos is for\n",
            "sale and approved for 134 units.  The land is selling for $2.50 per square\n",
            "foot as it is one of only two remaining approved multifamily parcels in West\n",
            "San Marcos, which now has a moratorium on development.\n",
            "\n",
            "Several new studies we have looked at show that the rents for our duplexes\n",
            "and for these new units are going to be significantly higher, roughly $1.25\n",
            "per square foot if leased for the entire unit on a 12-month lease and\n",
            "$1.30-$1.40 psf if leased on a 12-month term, but by individual room.  This\n",
            "property will have the best location for student housing of all new\n",
            "projects, just as the duplexes do now.\n",
            "\n",
            "If this project is of serious interest to you, please let me know as there\n",
            "is a very, very short window of opportunity.  The equity requirement is not\n",
            "yet known, but it would be likely to be $300,000 to secure the land.  I will\n",
            "know more on this question later today.\n",
            "\n",
            "Sincerely,\n",
            "\n",
            "George W. Richards\n",
            "President, Creekside Builders, LLC\n",
            "\n",
            "\n",
            " - winmail.dat\n",
            "\n",
            "################################################ EMAIL CONTENT NUMBER: 19 ############################################################################\n",
            "---------------------- Forwarded by Phillip K Allen/HOU/ECT on 10/03/2000 \n",
            "04:13 PM ---------------------------\n",
            "\n",
            "\n",
            "Nancy Hall@ENRON\n",
            "10/02/2000 06:42 AM\n",
            "To: Mark Whitt/NA/Enron@Enron, Phillip K Allen/HOU/ECT@ECT, Paul T \n",
            "Lucci/NA/Enron@Enron, Paul Bieniawski/Corp/Enron@ENRON, Tyrell \n",
            "Harrison/NA/Enron@Enron\n",
            "cc: Jean Mrha/NA/Enron@Enron, Ina Rangel/HOU/ECT@ECT, Monica \n",
            "Jackson/Corp/Enron@ENRON \n",
            "Subject: Meeting re: Storage Strategies in the West\n",
            "\n",
            "There will be a meeting on Tuesday, Oct. 10th at 4:00pm in EB3270 regarding \n",
            "Storage Strategies in the West.  Please mark your calendars.\n",
            "\n",
            "Thank you!\n",
            "\n",
            "Regards,\n",
            "Nancy Hall\n",
            "ENA Denver office\n",
            "303-575-6490\n",
            "\n",
            "################################################ EMAIL CONTENT NUMBER: 20 ############################################################################\n",
            "Brenda,\n",
            "\n",
            "Please use the second check as the October payment.  If you have already \n",
            "tossed it, let me know so I can mail you another.\n",
            "\n",
            "Phillip\n",
            "################################################ EMAIL CONTENT NUMBER: 21 ############################################################################\n",
            "I think Fletch has a good CPA.  I am still doing my own.  \n",
            "################################################ EMAIL CONTENT NUMBER: 22 ############################################################################\n",
            "Brenda,\n",
            "\n",
            " Please use the second check as my October payment.  I have my copy of the \n",
            "original deal.  Do you want me to fax this to you?\n",
            "\n",
            "Phillip\n",
            "################################################ EMAIL CONTENT NUMBER: 23 ############################################################################\n",
            "---------------------- Forwarded by Phillip K Allen/HOU/ECT on 09/28/2000 \n",
            "01:09 PM ---------------------------\n",
            "   \n",
            "\t\n",
            "\t\n",
            "\tFrom:  Phillip K Allen                           09/28/2000 10:56 AM\n",
            "\t\n",
            "\n",
            "\n",
            "Liane,\n",
            "\n",
            " As we discussed yesterday, I am concerned there may have been an attempt to \n",
            "manipulate the  El Paso San Juan monthly index.  It appears that a single \n",
            "buyer entered the marketplace on both September 26 and 27 and paid above \n",
            "market prices ($4.70-$4.80) for San Juan gas.  At the time of these trades, \n",
            "offers for physical gas at significantly (10 to 15 cents) lower prices were \n",
            "bypassed in order to establish higher trades to report into the index \n",
            "calculation.  Additionally, these trades are out of line with the associated \n",
            "financial swaps for San Juan.\n",
            "\n",
            " We have compiled a list of financial and physical trades executed from \n",
            "September 25 to September 27.  These are the complete list of trades from \n",
            "Enron Online (EOL), Enron's direct phone conversations, and three brokerage \n",
            "firms (Amerex, APB, and Prebon).  Please see the attached spreadsheet for a \n",
            "trade by trade list and a summary.  We have also included a summary of gas \n",
            "daily prices to illustrate the value of San Juan based on several spread \n",
            "relationships.  The two key points from this data are as follows:\n",
            "\n",
            " 1.  The high physical prices on the 26th & 27th (4.75,4,80) are much greater \n",
            "than the high financial trades (4.6375,4.665) on those days. \n",
            "\n",
            " 2.  The spread relationship between San Juan and other points (Socal & \n",
            "Northwest)  is  consistent between the end of September and \n",
            "       October gas daily.  It doesn't make sense to have monthly indices that \n",
            "are dramatically different.\n",
            "\n",
            "\n",
            " I understand you review the trades submitted for outliers.  Hopefully, the \n",
            "trades submitted will reveal counterparty names and you will be able to \n",
            "determine that there was only one buyer in the 4.70's and these trades are \n",
            "outliers.  I wanted to give you some additional points of reference to aid in \n",
            "establishing a reasonable index.  It is Enron's belief that the trades at \n",
            "$4.70 and higher  were above market trades that should be excluded from the \n",
            "calculation of index.\n",
            "\n",
            " It is our desire to have reliable and accurate indices against which to \n",
            "conduct our physical and financial business.  Please contact me \n",
            "anytime I can assist you towards this goal.\n",
            "\n",
            "Sincerely,\n",
            "\n",
            "Phillip Allen\n",
            "\n",
            "\n",
            "\n",
            "################################################ EMAIL CONTENT NUMBER: 24 ############################################################################\n",
            "Liane,\n",
            "\n",
            " As we discussed yesterday, I am concerned there has been an attempt to \n",
            "manipulate the  El Paso San Juan monthly index.  A single buyer entered the \n",
            "marketplace on both September 26 and 27 and paid above market prices \n",
            "($4.70-$4.80) for San Juan gas with the intent to distort the index.  At the \n",
            "time of these trades, offers for physical gas at significantly (10 to 15 \n",
            "cents) lower prices were bypassed in order to establish higher trades to \n",
            "report into the index calculation.  Additionally, these trades are out of \n",
            "line with the associated financial swaps for San Juan.\n",
            "\n",
            " We have compiled a list of financial and physical trades executed from \n",
            "September 25 to September 27.  These are the complete list of trades from \n",
            "Enron Online (EOL), Enron's direct phone conversations, and three brokerage \n",
            "firms (Amerex, APB, and Prebon).  Please see the attached spreadsheet for a \n",
            "trade by trade list and a summary.  We have also included a summary of gas \n",
            "daily prices to illustrate the value of San Juan based on several spread \n",
            "relationships.  The two key points from this data are as follows:\n",
            "\n",
            " 1.  The high physical prices on the 26th & 27th (4.75,4,80) are much greater \n",
            "than the high financial trades (4.6375,4.665) on those days. \n",
            "\n",
            " 2.  The spread relationship between San Juan and other points (Socal & \n",
            "Northwest)  is  consistent between the end of September and \n",
            "       October gas daily.  It doesn't make sense to have monthly indeces that \n",
            "are dramatically different.\n",
            "\n",
            "\n",
            " I understand you review the trades submitted for outliers.  Hopefully, the \n",
            "trades submitted will reveal counterparty names and you will be able to \n",
            "determine that there was only one buyer in the 4.70's and these trades are \n",
            "outliers.  I wanted to give you some additional points of reference to aid in \n",
            "establishing a reasonable index.  It is Enron's belief that the trades at \n",
            "$4.70 and higher  were above market trades that should be excluded from the \n",
            "calculation of index.\n",
            "\n",
            " It is our desire to have reliable and accurate indeces against which to \n",
            "conduct our physical and financial business.  Please contact me \n",
            "anytime I can assist you towards this goal.\n",
            "\n",
            "Sincerely,\n",
            "\n",
            "Phillip Allen\n",
            "\n"
          ],
          "name": "stdout"
        }
      ]
    },
    {
      "cell_type": "code",
      "metadata": {
        "id": "-wpvbANlMGQs"
      },
      "source": [
        "#there are many emails contain From,To,Subject,cc,---forwarded by in the body itself which is really not required"
      ],
      "execution_count": null,
      "outputs": []
    },
    {
      "cell_type": "code",
      "metadata": {
        "colab": {
          "base_uri": "https://localhost:8080/"
        },
        "id": "edQGifmsK9Ey",
        "outputId": "c3a1a364-5faa-4244-f78b-c6a5b6da7b62"
      },
      "source": [
        "df.body.str.contains('[- ]*Forwarded by').value_counts()"
      ],
      "execution_count": null,
      "outputs": [
        {
          "output_type": "execute_result",
          "data": {
            "text/plain": [
              "False    6402\n",
              "True     3598\n",
              "Name: body, dtype: int64"
            ]
          },
          "metadata": {
            "tags": []
          },
          "execution_count": 18
        }
      ]
    },
    {
      "cell_type": "code",
      "metadata": {
        "colab": {
          "base_uri": "https://localhost:8080/"
        },
        "id": "5vV7OJ_iOW0n",
        "outputId": "5da9a9cd-aec5-4892-c9ad-005772d73322"
      },
      "source": [
        "df_1.body.str.contains('[- ]*Forwarded by').value_counts()"
      ],
      "execution_count": null,
      "outputs": [
        {
          "output_type": "execute_result",
          "data": {
            "text/plain": [
              "False    6402\n",
              "True     3598\n",
              "Name: body, dtype: int64"
            ]
          },
          "metadata": {
            "tags": []
          },
          "execution_count": 19
        }
      ]
    },
    {
      "cell_type": "markdown",
      "metadata": {
        "id": "JA-9PXmtOjA4"
      },
      "source": [
        "Looking at the forwarded texts:"
      ]
    },
    {
      "cell_type": "code",
      "metadata": {
        "id": "N2n5oJVGt--X"
      },
      "source": [
        "def deal_forwarded(row):\n",
        "    condition = '[- ]*Forwarded by[\\S\\s]*Subject:[\\S\\t ]*'                      \n",
        "    return re.sub(condition, '', row).strip()\n",
        "df_1['content1'] = df_1.body.map(deal_forwarded)    "
      ],
      "execution_count": null,
      "outputs": []
    },
    {
      "cell_type": "code",
      "metadata": {
        "colab": {
          "base_uri": "https://localhost:8080/"
        },
        "id": "Twk4BcbMOsUB",
        "outputId": "a7c15bc2-533b-4f29-f306-195fba4d3645"
      },
      "source": [
        "print(df_1.content1.str.contains('[- ]*Forwarded by').value_counts())"
      ],
      "execution_count": null,
      "outputs": [
        {
          "output_type": "stream",
          "text": [
            "False    9966\n",
            "True       34\n",
            "Name: content1, dtype: int64\n"
          ],
          "name": "stdout"
        }
      ]
    },
    {
      "cell_type": "code",
      "metadata": {
        "colab": {
          "base_uri": "https://localhost:8080/"
        },
        "id": "SIHtDG5xeTv7",
        "outputId": "7b3f0ee9-1a55-4406-cf86-07c59054fa5f"
      },
      "source": [
        "for email in df_1.content1[df_1.content1.str.contains('[- ]*Forwarded by')]:\n",
        "    print(email)\n",
        "    print(\"############################ END OF EMAIL ################################################################\")"
      ],
      "execution_count": null,
      "outputs": [
        {
          "output_type": "stream",
          "text": [
            "---------------------- Forwarded by Phillip K Allen/HOU/ECT on 09/28/2000 \n",
            "01:09 PM ---------------------------\n",
            "   \n",
            "\t\n",
            "\t\n",
            "\tFrom:  Phillip K Allen                           09/28/2000 10:56 AM\n",
            "\t\n",
            "\n",
            "\n",
            "Liane,\n",
            "\n",
            " As we discussed yesterday, I am concerned there may have been an attempt to \n",
            "manipulate the  El Paso San Juan monthly index.  It appears that a single \n",
            "buyer entered the marketplace on both September 26 and 27 and paid above \n",
            "market prices ($4.70-$4.80) for San Juan gas.  At the time of these trades, \n",
            "offers for physical gas at significantly (10 to 15 cents) lower prices were \n",
            "bypassed in order to establish higher trades to report into the index \n",
            "calculation.  Additionally, these trades are out of line with the associated \n",
            "financial swaps for San Juan.\n",
            "\n",
            " We have compiled a list of financial and physical trades executed from \n",
            "September 25 to September 27.  These are the complete list of trades from \n",
            "Enron Online (EOL), Enron's direct phone conversations, and three brokerage \n",
            "firms (Amerex, APB, and Prebon).  Please see the attached spreadsheet for a \n",
            "trade by trade list and a summary.  We have also included a summary of gas \n",
            "daily prices to illustrate the value of San Juan based on several spread \n",
            "relationships.  The two key points from this data are as follows:\n",
            "\n",
            " 1.  The high physical prices on the 26th & 27th (4.75,4,80) are much greater \n",
            "than the high financial trades (4.6375,4.665) on those days. \n",
            "\n",
            " 2.  The spread relationship between San Juan and other points (Socal & \n",
            "Northwest)  is  consistent between the end of September and \n",
            "       October gas daily.  It doesn't make sense to have monthly indices that \n",
            "are dramatically different.\n",
            "\n",
            "\n",
            " I understand you review the trades submitted for outliers.  Hopefully, the \n",
            "trades submitted will reveal counterparty names and you will be able to \n",
            "determine that there was only one buyer in the 4.70's and these trades are \n",
            "outliers.  I wanted to give you some additional points of reference to aid in \n",
            "establishing a reasonable index.  It is Enron's belief that the trades at \n",
            "$4.70 and higher  were above market trades that should be excluded from the \n",
            "calculation of index.\n",
            "\n",
            " It is our desire to have reliable and accurate indices against which to \n",
            "conduct our physical and financial business.  Please contact me \n",
            "anytime I can assist you towards this goal.\n",
            "\n",
            "Sincerely,\n",
            "\n",
            "Phillip Allen\n",
            "############################ END OF EMAIL ################################################################\n",
            "---------------------- Forwarded by Phillip K Allen/HOU/ECT on 09/26/2000 \n",
            "12:08 PM ---------------------------\n",
            "\n",
            "\n",
            "\tInvitation\n",
            "Chairperson: Richard Burchfield\n",
            "Sent by: Cindy Cicchetti\n",
            "\n",
            "Start: 09/27/2000 11:30 AM\n",
            "End: 09/27/2000 12:30 PM\n",
            "\n",
            "Description: Gas Trading Vision Meeting - Room EB2556\n",
            "\n",
            "\n",
            "\n",
            "This meeting repeats   starting on    (if the date occurs on a weekend the \n",
            "meeting ).\n",
            "Meeting Dates: \n",
            "\n",
            "\n",
            "\n",
            "Phillip K Allen/HOU/ECT\n",
            "Hunter S Shively/HOU/ECT\n",
            "Scott Mills/HOU/ECT\n",
            "Allan Severude/HOU/ECT\n",
            "Jeffrey C Gossett/HOU/ECT\n",
            "Colleen Sullivan/HOU/ECT\n",
            "Russ Severson/HOU/ECT\n",
            "Jayant Krishnaswamy/HOU/ECT\n",
            "Russell Long/HOU/ECT\n",
            "\n",
            "Detailed description:\n",
            "############################ END OF EMAIL ################################################################\n",
            "---------------------- Forwarded by Phillip K Allen/HOU/ECT on 09/25/2000 \n",
            "02:01 PM ---------------------------\n",
            "\n",
            "\n",
            "\tReschedule\n",
            "Chairperson: Richard Burchfield\n",
            "Sent by: Cindy Cicchetti\n",
            "\n",
            "Start: 09/28/2000 01:00 PM\n",
            "End: 09/28/2000 02:00 PM\n",
            "\n",
            "Description: Gas Physical/Financail Positions - Room 2537\n",
            "\n",
            "\n",
            "\n",
            "This meeting repeats   starting on    (if the date occurs on a weekend the \n",
            "meeting ).\n",
            "Meeting Dates: \n",
            "\n",
            "\n",
            "\n",
            "Fletcher J Sturm/HOU/ECT\n",
            "Scott Neal/HOU/ECT\n",
            "Hunter S Shively/HOU/ECT\n",
            "Phillip K Allen/HOU/ECT\n",
            "Allan Severude/HOU/ECT\n",
            "Scott Mills/HOU/ECT\n",
            "Russ Severson/HOU/ECT\n",
            "\n",
            "Detailed description:\n",
            "   The meeting with Richard Burchfield/HOU/ECT was rescheduled.  \n",
            "\n",
            "On   09/28/2000 03:00:00 PM CDT \n",
            "For   1 hour  \n",
            "With:   Richard Burchfield/HOU/ECT (Chairperson)  \n",
            "  Fletcher J Sturm/HOU/ECT (Invited)  \n",
            "  Scott Neal/HOU/ECT (Invited)  \n",
            "  Hunter S Shively/HOU/ECT (Invited)  \n",
            "  Phillip K Allen/HOU/ECT (Invited)  \n",
            "  Allan Severude/HOU/ECT (Invited)  \n",
            "  Scott Mills/HOU/ECT (Invited)  \n",
            "  Russ Severson/HOU/ECT (Invited)  \n",
            "\n",
            "Gas Physical/Financail Positions - Room 2537\n",
            "############################ END OF EMAIL ################################################################\n",
            "---------------------- Forwarded by Phillip K Allen/HOU/ECT on 09/25/2000 \n",
            "02:00 PM ---------------------------\n",
            "\n",
            "\n",
            "\tInvitation\n",
            "Chairperson: Richard Burchfield\n",
            "Sent by: Cindy Cicchetti\n",
            "\n",
            "Start: 09/27/2000 01:00 PM\n",
            "End: 09/27/2000 02:00 PM\n",
            "\n",
            "Description: Gas Physical/Financail Positions - Room 2537\n",
            "\n",
            "\n",
            "\n",
            "This meeting repeats   starting on    (if the date occurs on a weekend the \n",
            "meeting ).\n",
            "Meeting Dates: \n",
            "\n",
            "\n",
            "\n",
            "Fletcher J Sturm/HOU/ECT\n",
            "Scott Neal/HOU/ECT\n",
            "Hunter S Shively/HOU/ECT\n",
            "Phillip K Allen/HOU/ECT\n",
            "Allan Severude/HOU/ECT\n",
            "Scott Mills/HOU/ECT\n",
            "Russ Severson/HOU/ECT\n",
            "\n",
            "Detailed description:\n",
            "############################ END OF EMAIL ################################################################\n",
            "all you big boy...\n",
            "---------------------- Forwarded by John Arnold/HOU/ECT on 09/07/2000 05:14 \n",
            "PM ---------------------------\n",
            "\n",
            "\n",
            "\tInvitation\n",
            "Chairperson: Julie Pechersky\n",
            "\n",
            "Start: 09/12/2000 04:30 PM\n",
            "End: 09/12/2000 05:30 PM\n",
            "\n",
            "Description: 3-DAY MEETING TO EVALUATE MARKET DATA FRONT END APPLICATION\n",
            "\n",
            "\n",
            "\n",
            "This meeting repeats   starting on    (if the date occurs on a weekend the \n",
            "meeting ).\n",
            "Meeting Dates: \n",
            "\n",
            "\n",
            "\n",
            "John Arnold/HOU/ECT\n",
            "Hunter S Shively/HOU/ECT\n",
            "Phillip K Allen/HOU/ECT\n",
            "Thomas A Martin/HOU/ECT\n",
            "Scott Neal/HOU/ECT\n",
            "John Sieckman/Corp/Enron\n",
            "\n",
            "Detailed description:\n",
            "Please plan to attend a one hour demonstration of Globalview's product on  \n",
            "Tuesday,September 12, Reuter's product\n",
            " on Wednesday, September 13, and Bridge's product on Thursday, September 14.  \n",
            "Your participation in this project is\n",
            " essential in choosing the application that you and others on your floor will \n",
            "utilize in the future.  Each day, your group's  demo will\n",
            " take place from 4:30-5:30.  I will send a reminder email with the location.  \n",
            "If for some reason there is a day that you \n",
            "can not attend, please work to find someone else to come in your place.\n",
            " Please contact me with any questions at x-39225\n",
            "############################ END OF EMAIL ################################################################\n",
            "what is this???\n",
            "\n",
            "\n",
            "   \n",
            "\t\n",
            "\t\n",
            "\tFrom:  Jennifer Fraser                           12/27/2000 12:19 PM\n",
            "\t\n",
            "\n",
            "To: Bill Berkeland/Corp/Enron@Enron, John Arnold/HOU/ECT@ECT, Jennifer \n",
            "Shipos/HOU/ECT@ECT\n",
            "cc:  \n",
            "Subject: NG YEAR ENd Quiz\n",
            "\n",
            "\n",
            "---------------------- Forwarded by Jennifer Fraser/HOU/ECT on 27/12/2000 \n",
            "18:21 ---------------------------\n",
            "\n",
            "\n",
            "RBrown5658@aol.com@wwwww.aescon.com on 27/12/2000 12:04:03\n",
            "Supplemental Bonus question: See no 12---- Is Jeff Shankman's picture there\n",
            "\n",
            "Here is your year end NG quiz.  Forgive pore spelling please!\n",
            "\n",
            "1.   On Jan 4, 2000, what was the settle price of the prompt month Nymex\n",
            "contract?\n",
            "\n",
            "2.   What caused numerous OTC energy brokerages to consolidate or go out of\n",
            "business in 2000?\n",
            "\n",
            "3.   Every 11 years, an astronomical event occurs that correlates with high\n",
            "energy prics.  This is one of those years.  What is the event?\n",
            "\n",
            "4.   What trading company's motto is \"unrelenting thinking?\"\n",
            "\n",
            "5.   What is intellectual capital?  Where was the idea of it conceived?\n",
            "\n",
            "6.   If a supertrader is wearing a blue shirt with white collar and cuffs,\n",
            "what is the appropriate foot accesory:  red socks, sandals or \"spats\"?\n",
            "\n",
            "7.   On March 31, 2000, what was the settle of the prompt month Nymex\n",
            "contract?\n",
            "\n",
            "8.   What is the name of a prominent national weather service that doesn't\n",
            "provide intra-day Canadian air temp graphics?\n",
            "\n",
            "9.   What is a \"polar pig\"?   Who coined the phrase?\n",
            "\n",
            "10.  What do Nicholas Leeson and Value-at-Risk have in common?\n",
            "\n",
            "11.  What type of food is served at the restaurant in Houston which houses\n",
            "the famous bar - \"Club No Minors\"?\n",
            "\n",
            "12.  What is the name of the small town in Texas where the Natural Gas\n",
            "Traders Hall of Fame is allegedly located?\n",
            "\n",
            "13.  What is the name of the $1.59 grocery store tabloid that predicted our\n",
            "current weather on Sept. 12, 2000?\n",
            "\n",
            "14.  What are the names of the three northern hemisphere weather models used\n",
            "today?\n",
            "\n",
            "15.  In the year 2000, what astrological event had a 100% correlation with\n",
            "counter-trend price moves?\n",
            "\n",
            "16.  On Feb 3, 2001, what astrological event will occur that some floor\n",
            "traders say will affect price of NG?\n",
            "\n",
            "17.  In the year 2000, one Houston oil company paid $160 million to learn the\n",
            "hard way that OPEC can do what?\n",
            "\n",
            "18.  What was the highest IFGMR index posted to date?\n",
            "\n",
            "19.  What city issued warrants for the arrest of several of its gas utility's\n",
            "executives in 2000?\n",
            "\n",
            "20.  Who is the president of Enron Online?\n",
            "\n",
            "21.  During 2000's Shell Open golf tourney, within a 25 cent window what was\n",
            "the average price of the prompt month Nymex contract?\n",
            "\n",
            "22.  What weather event struck Ft. Worth, Texas on March 28, 2000?\n",
            "\n",
            "23.  How many Nobel laureates advised the supertraders at failed Long Term\n",
            "Capital Management?\n",
            "\n",
            "24.  What is a \"deal cop\"?\n",
            "\n",
            "25.  The AGA states upon its web page that portion of the gas business that\n",
            "it represents.  Which of the following is that group? Traders, marketers,\n",
            "pipelines, utilities, home consumers, producers, industrials?\n",
            "\n",
            "26.  What type of meat product was used to verbally describe AGA's Chris\n",
            "McGill's reaction to the notion that there would be a shortage of gas supply\n",
            "this winter?\n",
            "\n",
            "27.  How many utilities have been rumored to be considering bankruptcy in\n",
            "California due to high energy prices?\n",
            "\n",
            "28.  The original design for Alliance pipeline was conceived where and drawn\n",
            "on what?\n",
            "\n",
            "29.  Which of the following is considered to be improper to put on a\n",
            "Philadelphia Gas Works expense account: business mileage, business meals,\n",
            "business lodging or artworks?\n",
            "\n",
            "30.  At a late night industry party during Gas Fair this year, two female\n",
            "brokers were mistakenly hassled by Houston Police as possibly being of what\n",
            "occupation?\n",
            "############################ END OF EMAIL ################################################################\n",
            "---------------------- Forwarded by John House/HOU/ECT on 11/01/2000 09:56 AM \n",
            "---------------------------\n",
            "\n",
            "\n",
            "> For a laugh follow these directions\n",
            ">  >1. Dial Deutsche Bank/National Discount Brokers at 800-888-3999 (toll\n",
            ">  > > free)\n",
            ">  > > 2. Listen to all of the options.\n",
            ">  > > 3. After hearing the 7th option, hit 7.\n",
            ">  > >\n",
            ">  > > Every company should have an Option 7.\n",
            ">\n",
            "############################ END OF EMAIL ################################################################\n",
            "Mime-Version: 1.0\n",
            "Content-type: multipart/mixed;     Boundary\n",
            "=\"0__=gRjU3g3DdNHRLETh4IbvJ2IChHmQmynsQVgHXJrmiOacRXExmVXXRHpG\"\n",
            "Content-Disposition: inline\n",
            "Content-Length: 30764\n",
            "\n",
            "\n",
            "\n",
            "\n",
            "---------------------- Forwarded by Caroline\n",
            "Mitchell/Chicago/Kirkland-Ellis on\n",
            "10/11/2000 12:32 PM ---------------------------\n",
            ">\n",
            ">   <<a_little_closer (1).jpg>>\n",
            "\n",
            "\n",
            "(See attached file: a_little_closer (1).jpg)\n",
            "\n",
            "\n",
            "\n",
            "\n",
            "******************************************************************************\n",
            "\n",
            "The information contained in this communication is confidential, may\n",
            "be attorney-client privileged, may constitute inside information, and is\n",
            "intended only for the use of the addressee.  It is the property of\n",
            "Kirkland & Ellis.  Unauthorized use, disclosure or copying of this\n",
            "communication or any part thereof is strictly prohibited and may be\n",
            "unlawful.  If you have received this communication in error, please\n",
            "notify us immediately by return e-mail or by e-mail to\n",
            "postmaster@kirkland.com, and destroy this communication and all\n",
            "copies thereof, including all attachments.\n",
            "******************************************************************************\n",
            "############################ END OF EMAIL ################################################################\n",
            "Hang Bui@ECT\n",
            "04/12/2000 02:15 PM\n",
            "To: Binh Pham/HOU/ECT@ECT, Dana Davis/HOU/ECT@ECT, Misti Day/HOU/ECT@ECT, \n",
            "Shanna Husser/Corp/Enron@Enron, tbui@valv.com, mtran2@lsu.edu, \n",
            "tdoan2@lsu.edu, tnguy66@lsu.edu, pnguy22@lsu.edu @ ENRON\n",
            "cc:  \n",
            "\n",
            "Subject: Fw: Women's conference\n",
            "\n",
            "\n",
            "---------------------- Forwarded by Hang Bui/HOU/ECT on 04/12/2000 02:14 PM \n",
            "---------------------------\n",
            "\n",
            "\n",
            "\n",
            "\n",
            "A Report From the 2000 World Women's Liberation Conference The\n",
            " first speaker, a lady from England stood up and said,\"During last years'\n",
            "conference we spoke about being more assertive with our husbands.\n",
            " Well, after the conference I went home and told my husband,\n",
            " Barrington,that I would no longer cook for him and that he would have to do\n",
            "it himself!\n",
            " After the first day, I saw nothing.  After the second day, I saw\n",
            "nothing.But on the third day, I saw that he had cooked a wonderful roast\n",
            "lamb.\" The crowd cheered.\n",
            " The second speaker, a lady from Russia stood up and said, \"After last\n",
            "years'conference I went home and told my husband, Ivan, that I would no\n",
            "longer do his laundry and that he would have to do it himself.\n",
            "After the first day, I saw nothing.  After the second day, I saw nothing.But\n",
            "on the third day, I saw that he had done not only his own washing, but my\n",
            "washing as well.\" The crowd again cheered.\n",
            " The third speaker, a Cajun lady from Thibodaux, Louisiana, stood\n",
            " up and said, \"Afta last years' conference, I went rat home and tole dat\n",
            "lazy Coonass husband'a mine, Boudreaux, dat I wadn't gonna do no mo'a his\n",
            "cookin', cleanin' or shoppin' and dat he wuz gonna have to do it all fer\n",
            "hissef.\"  The crowd got to their feet and roared approval.  When it became\n",
            "quiet, she continued, \"And I tole'em I wadn't gonna be\n",
            "doin'no mo cleanin' em nasty crawfeesh, giggin' no mo boolfrogs and water\n",
            "dawgs, skinnin' none'a dem musrats and nutrias or check'n no mo\n",
            "catfeesh trotlines.\"\n",
            "The crowd went wild - the cheering and clapping lasted for at\n",
            "least five minutes. Well, the fust day,I didn't saw nuttin'.  Afta the\n",
            "second day, I didn't saw nuttin'too. But afta the thud day, I could saw a\n",
            "little bit outta my left eye.\"\n",
            "############################ END OF EMAIL ################################################################\n",
            "---------------------- Forwarded by Hang Bui/HOU/ECT on 04/12/2000 02:14 PM \n",
            "---------------------------\n",
            "\n",
            "\n",
            "\n",
            "\n",
            "A Report From the 2000 World Women's Liberation Conference The\n",
            " first speaker, a lady from England stood up and said,\"During last years'\n",
            "conference we spoke about being more assertive with our husbands.\n",
            " Well, after the conference I went home and told my husband,\n",
            " Barrington,that I would no longer cook for him and that he would have to do\n",
            "it himself!\n",
            " After the first day, I saw nothing.  After the second day, I saw\n",
            "nothing.But on the third day, I saw that he had cooked a wonderful roast\n",
            "lamb.\" The crowd cheered.\n",
            " The second speaker, a lady from Russia stood up and said, \"After last\n",
            "years'conference I went home and told my husband, Ivan, that I would no\n",
            "longer do his laundry and that he would have to do it himself.\n",
            "After the first day, I saw nothing.  After the second day, I saw nothing.But\n",
            "on the third day, I saw that he had done not only his own washing, but my\n",
            "washing as well.\" The crowd again cheered.\n",
            " The third speaker, a Cajun lady from Thibodaux, Louisiana, stood\n",
            " up and said, \"Afta last years' conference, I went rat home and tole dat\n",
            "lazy Coonass husband'a mine, Boudreaux, dat I wadn't gonna do no mo'a his\n",
            "cookin', cleanin' or shoppin' and dat he wuz gonna have to do it all fer\n",
            "hissef.\"  The crowd got to their feet and roared approval.  When it became\n",
            "quiet, she continued, \"And I tole'em I wadn't gonna be\n",
            "doin'no mo cleanin' em nasty crawfeesh, giggin' no mo boolfrogs and water\n",
            "dawgs, skinnin' none'a dem musrats and nutrias or check'n no mo\n",
            "catfeesh trotlines.\"\n",
            "The crowd went wild - the cheering and clapping lasted for at\n",
            "least five minutes. Well, the fust day,I didn't saw nuttin'.  Afta the\n",
            "second day, I didn't saw nuttin'too. But afta the thud day, I could saw a\n",
            "little bit outta my left eye.\"\n",
            "############################ END OF EMAIL ################################################################\n",
            "This request is approved.  Your request forms that you send still don't \n",
            "provide enough information in layman's terms so that I know what you are \n",
            "asking to be approved.  Are we working on this? \n",
            "\n",
            "\n",
            "Below you will find a copy of a request that is awaiting your approval.    \n",
            "Please advise us as to your approval or rejection of this request by way of \n",
            "email.\n",
            "\n",
            "I thank you in advance for your cooperation in this matter.\n",
            "\n",
            "Leola Barnett\n",
            "IRM\n",
            "x3-7965\n",
            "---------------------- Forwarded by Information Risk Management/HOU/ECT on \n",
            "09/26/2000 03:44 PM ---------------------------\n",
            "\n",
            "\t Security Resource Request System\t\t\t\tPending VP Approval\n",
            " Resource Request\t\t\t\t\tHow to find the status of this request...\n",
            "\tGeneral Information\t\tInitials: \t\t\n",
            "\t     \t\t\t\t\n",
            "Requestor:\tRebecca Ford/HOU/ECT\tPhone:\t3-7723\t\t\n",
            "Requested For:\t\tGregory Carraway/Corp/Enron\t\t\t\n",
            "Request Type:\tUpdate Access\t\t\t\t\n",
            "RC #:\t105613\tWO #:\t\t\t\n",
            "Company #:\t0413\tPriority:\tHigh\t\t\n",
            "Manager:\tRebecca Ford\tVP:\tSally Beck\t\t\n",
            "Location:\t\t\tHouston\t\t\n",
            "\t\t\t\t\tIn the Request Processing section, see the status column for each requested \n",
            "resource.\n",
            "\t\t\t\t\tLook at the overall status of the request in the title bar above. The status \n",
            "will display Closed when your request is complete.\n",
            "\t\t\t\t\tClick the \"Status\" button below.\n",
            "Comments:\n",
            "\t\t\t\t\tRequest #: RFOD-4NVM7P\n",
            "\t\t\t\t\tSubmitted: 09/05/2000 11:34:29 AM\n",
            "\n",
            "\t       \t\t\t\t\n",
            "\tName\tCost\tStatus\tImplementation Comments\t\n",
            "\tApplication/Database\t\t\t\t\n",
            "\tTerminal Server 1-800 Number\n",
            "Terminal Server 4.0\t\n",
            "\tNot Started\n",
            "Not Started\t\t\n",
            "\t\t\t\t\t\n",
            "\t\t\t\t\t\n",
            "\n",
            "\n",
            "\tRequest Processing Path                 \t\t\n",
            "Processed By\tStatus\tWhen\tComments\n",
            "\n",
            "\n",
            "\tManager\tApproved\t09/05 11:34 AM\t\n",
            "\t\t\t\t\n",
            "\n",
            "\n",
            "\tVP\t\t\t\n",
            "\t\t\t\t\n",
            "\n",
            "\n",
            "\tSecurity\t\t\t\n",
            "\t\t\t\t\n",
            "\n",
            "\tImplementation\t\t\t\n",
            "\n",
            "\n",
            "\n",
            "\n",
            "\t\tEditing History (Only the last five (5) are shown)\t\n",
            "\t\t\t\n",
            "Edit #\tPast Authors\tEdit Dates\t\n",
            "1\n",
            "2\n",
            "3\n",
            "4\tRebecca Ford\n",
            "Rebecca Ford\n",
            "Rebecca Ford\n",
            "Rebecca Ford \t09/05/2000 11:22:22 AM\n",
            "09/05/2000 11:34:07 AM\n",
            "09/05/2000 11:34:27 AM\n",
            "09/05/2000 11:34:29 AM\n",
            "############################ END OF EMAIL ################################################################\n",
            "I can never tell from these things what they are asking to be approved.   \n",
            "Since Gregory's address looks as if he is at Corp., just let me know who he \n",
            "is and what I am being asked to approve.  Please reply with history \n",
            "attached.  Thanks. --Sally \n",
            "\n",
            "\n",
            "Below you will find a copy of a request that is awaiting your approval.    \n",
            "Please advise us as to your approval or rejection of this request by way of \n",
            "email.\n",
            "\n",
            "I thank you in advance for your cooperation in this matter.\n",
            "\n",
            "Leola Barnett\n",
            "IRM\n",
            "x3-7965\n",
            "---------------------- Forwarded by Information Risk Management/HOU/ECT on \n",
            "09/26/2000 03:44 PM ---------------------------\n",
            "\n",
            "\t Security Resource Request System\t\t\t\tPending VP Approval\n",
            " Resource Request\t\t\t\t\tHow to find the status of this request...\n",
            "\tGeneral Information\t\tInitials: \t\t\n",
            "\t     \t\t\t\t\n",
            "Requestor:\tRebecca Ford/HOU/ECT\tPhone:\t3-7723\t\t\n",
            "Requested For:\t\tGregory Carraway/Corp/Enron\t\t\t\n",
            "Request Type:\tUpdate Access\t\t\t\t\n",
            "RC #:\t105613\tWO #:\t\t\t\n",
            "Company #:\t0413\tPriority:\tHigh\t\t\n",
            "Manager:\tRebecca Ford\tVP:\tSally Beck\t\t\n",
            "Location:\t\t\tHouston\t\t\n",
            "\t\t\t\t\tIn the Request Processing section, see the status column for each requested \n",
            "resource.\n",
            "\t\t\t\t\tLook at the overall status of the request in the title bar above. The status \n",
            "will display Closed when your request is complete.\n",
            "\t\t\t\t\tClick the \"Status\" button below.\n",
            "Comments:\n",
            "\t\t\t\t\tRequest #: RFOD-4NVM7P\n",
            "\t\t\t\t\tSubmitted: 09/05/2000 11:34:29 AM\n",
            "\n",
            "\t       \t\t\t\t\n",
            "\tName\tCost\tStatus\tImplementation Comments\t\n",
            "\tApplication/Database\t\t\t\t\n",
            "\tTerminal Server 1-800 Number\n",
            "Terminal Server 4.0\t\n",
            "\tNot Started\n",
            "Not Started\t\t\n",
            "\t\t\t\t\t\n",
            "\t\t\t\t\t\n",
            "\n",
            "\n",
            "\tRequest Processing Path                 \t\t\n",
            "Processed By\tStatus\tWhen\tComments\n",
            "\n",
            "\n",
            "\tManager\tApproved\t09/05 11:34 AM\t\n",
            "\t\t\t\t\n",
            "\n",
            "\n",
            "\tVP\t\t\t\n",
            "\t\t\t\t\n",
            "\n",
            "\n",
            "\tSecurity\t\t\t\n",
            "\t\t\t\t\n",
            "\n",
            "\tImplementation\t\t\t\n",
            "\n",
            "\n",
            "\n",
            "\n",
            "\t\tEditing History (Only the last five (5) are shown)\t\n",
            "\t\t\t\n",
            "Edit #\tPast Authors\tEdit Dates\t\n",
            "1\n",
            "2\n",
            "3\n",
            "4\tRebecca Ford\n",
            "Rebecca Ford\n",
            "Rebecca Ford\n",
            "Rebecca Ford \t09/05/2000 11:22:22 AM\n",
            "09/05/2000 11:34:07 AM\n",
            "09/05/2000 11:34:27 AM\n",
            "09/05/2000 11:34:29 AM\n",
            "############################ END OF EMAIL ################################################################\n",
            "This is fine.  --Sally \n",
            "\n",
            "\n",
            "\n",
            "\n",
            "Information Risk Management\n",
            "09/26/2000 03:43 PM\n",
            "To: Sally Beck/HOU/ECT@ECT\n",
            "cc:  \n",
            "Subject: Your approval please\n",
            "\n",
            "Below you will find a copy of a request that is awaiting your approval.    \n",
            "Please advise us as to your approval or rejection of this request by way of \n",
            "email.\n",
            "\n",
            "I thank you in advance for your cooperation in this matter.\n",
            "\n",
            "Leola Barnett\n",
            "IRM\n",
            "x3-7965\n",
            "---------------------- Forwarded by Information Risk Management/HOU/ECT on \n",
            "09/26/2000 03:43 PM ---------------------------\n",
            "\n",
            "\t Security Resource Request System\t\t\t\tPending VP Approval\n",
            " Resource Request\t\t\t\t\tHow to find the status of this request...\n",
            "\tGeneral Information\t\tInitials: \t\t\n",
            "\t     \t\t\t\t\n",
            "Requestor:\tSandra R McNichols/HOU/ECT\tPhone:\t\t\t\n",
            "Requested For:\t\tAngela Barnett/HOU/ECT\t\t\t\n",
            "Request Type:\tUpdate Access\t\t\t\t\n",
            "RC #:\t105590\tWO #:\t\t\t\n",
            "Company #:\t0413\tPriority:\tNormal\t\t\n",
            "Manager:\tCarolyn Gilley\tVP:\tSally Beck\t\t\n",
            "Location:\t\t\tHouston\t\t\n",
            "\t\t\t\t\tIn the Request Processing section, see the status column for each requested \n",
            "resource.\n",
            "\t\t\t\t\tLook at the overall status of the request in the title bar above. The status \n",
            "will display Closed when your request is complete.\n",
            "\t\t\t\t\tClick the \"Status\" button below.\n",
            "Comments:\n",
            "\t\t\tPlease set up same as for Mark Thorne\t\tRequest #: SRMN-4P5CQ5\n",
            "\t\t\t\t\tSubmitted: 09/13/2000 04:18:30 AM\n",
            "\n",
            "\t       \t\t\t\t\n",
            "\tName\tCost\tStatus\tImplementation Comments\t\n",
            "\tApplication/Database\t\t\t\t\n",
            "\tTerminal Server 1-800 Number\n",
            "Terminal Server Printer Setup\t\n",
            "\tNot Started\n",
            "Not Started\t\t\n",
            "\t\t\t\t\t\n",
            "\t\t\t\t\t\n",
            "\n",
            "\n",
            "\tRequest Processing Path                 \t\t\n",
            "Processed By\tStatus\tWhen\tComments\n",
            "\n",
            "\n",
            "\tManager\tApproved\t09/14 10:01 AM\t\n",
            "\t\t\t\t\n",
            "\n",
            "\n",
            "\tVP\t\t\t\n",
            "\t\t\t\t\n",
            "\n",
            "\n",
            "\tSecurity\t\t\t\n",
            "\t\t\t\t\n",
            "\n",
            "\tImplementation\t\t\t\n",
            "\n",
            "\n",
            "\n",
            "\n",
            "\t\tEditing History (Only the last five (5) are shown)\t\n",
            "\t\t\t\n",
            "Edit #\tPast Authors\tEdit Dates\t\n",
            "1\n",
            "2\n",
            "3\n",
            "4\tSandra R McNichols\n",
            "Sandra R McNichols\n",
            "Sandra R McNichols\n",
            "Carolyn Gilley \t09/13/2000 04:18:02 AM\n",
            "09/13/2000 04:18:28 AM\n",
            "09/13/2000 04:18:30 AM\n",
            "09/14/2000 10:01:09 AM\n",
            "############################ END OF EMAIL ################################################################\n",
            "Requesting update access for what?  (can't tell from this request what it is \n",
            "that you want me to approve) \n",
            "\n",
            "Is this request for Sheila Glover or Rebecca Ford?  (unclear) \n",
            "\n",
            "Next to Sheila's name is the word Trader.  Is this supposed to be her \n",
            "title?   She is not a trader.  She is a Business Controller.  \n",
            "\n",
            "Can you provide some clarification so that I can act upon this?  Thanks for \n",
            "your earlier phone message, Leola.  This is still a bad process and the \n",
            "information is not sufficient to give an approval.  \n",
            "\n",
            "\n",
            "\n",
            "\n",
            "Information Risk Management\n",
            "08/03/2000 09:46 AM\n",
            "To: Sally Beck/HOU/ECT@ECT\n",
            "cc:  \n",
            "Subject: For your approval\n",
            "\n",
            "Below you will find a copy of a request that is awaiting your approval.    \n",
            "Please advise us as to your approval or rejection of this request by way of \n",
            "email.\n",
            "\n",
            "I thank you in advance for your cooperation in this matter.\n",
            "\n",
            "Leola Barnett\n",
            "IRM\n",
            "X37965\n",
            "---------------------- Forwarded by Information Risk Management/HOU/ECT on \n",
            "08/03/2000 09:44 AM ---------------------------\n",
            "\n",
            "\t Security Resource Request System\t\t\t\tPending VP Approval\n",
            " Resource Request\t\t\t\t\tHow to find the status of this request...\n",
            "\tGeneral Information\t\tInitials: \t\t\n",
            "\t     \t\t\t\t\n",
            "Requestor:\tRebecca Ford/HOU/ECT\tPhone:\t3-7723\t\t\n",
            "Requested For:\t\tSheila Glover/HOU/ECT\tTrader\t\t\n",
            "Request Type:\tUpdate Access\t\t\t\t\n",
            "RC #:\t0849\tWO #:\t\t\t\n",
            "Company #:\t413\tPriority:\tHigh\t\t\n",
            "Manager:\tSheila Glover\tVP:\tSally Beck\t\t\n",
            "Location:\t\t\tHouston\t\t\n",
            "\t\t\t\t\tIn the Request Processing section, see the status column for each requested \n",
            "resource.\n",
            "\t\t\t\t\tLook at the overall status of the request in the title bar above. The status \n",
            "will display Closed when your request is complete.\n",
            "\t\t\t\t\tClick the \"Status\" button below.\n",
            "Comments:\n",
            "\t\t\t\t\tRequest #: RFOD-4MSVBN\n",
            "\t\t\t\t\tSubmitted: 08/01/2000 06:21:09 PM\n",
            "\n",
            "\t       \t\t\t\t\n",
            "\tName\tCost\tStatus\tImplementation Comments\t\n",
            "\tApplication/Database\t\t\t\t\n",
            "\tTerminal Server 1-800 Number\n",
            "Terminal Server 4.0\t\n",
            "\tNot Started\n",
            "Not Started\t\t\n",
            "\t\t\t\t\t\n",
            "\t\t\t\t\t\n",
            "\n",
            "\n",
            "\tRequest Processing Path                 \t\t\n",
            "Processed By\tStatus\tWhen\tComments\n",
            "\n",
            "\n",
            "\tManager\tApproved\t08/01 06:41 PM\t\n",
            "\t\t\t\t\n",
            "\n",
            "\n",
            "\tVP\t\t\t\n",
            "\t\t\t\t\n",
            "\n",
            "\n",
            "\tSecurity\t\t\t\n",
            "\t\t\t\t\n",
            "\n",
            "\tImplementation\t\t\t\n",
            "\n",
            "\n",
            "\n",
            "\n",
            "\t\tEditing History (Only the last five (5) are shown)\t\n",
            "\t\t\t\n",
            "Edit #\tPast Authors\tEdit Dates\t\n",
            "3\n",
            "4\n",
            "5\n",
            "6\n",
            "7\tRebecca Ford\n",
            "Rebecca Ford\n",
            "Rebecca Ford\n",
            "Rebecca Ford\n",
            "Sheila Glover \t08/01/2000 06:20:30 PM\n",
            "08/01/2000 06:20:34 PM\n",
            "08/01/2000 06:21:08 PM\n",
            "08/01/2000 06:21:09 PM\n",
            "08/01/2000 06:41:47 PM\n",
            "############################ END OF EMAIL ################################################################\n",
            "This is my first day back from vacation.  We need to augement e:mail so that \n",
            "requests sent when someone is on vacation can be routed elsewhere if urgent. \n",
            "\n",
            "This is request is approved.  \n",
            "\n",
            "Why are there so many different formats for granting systems access?  Some \n",
            "have an approval button, some don't.  You requested a return e:mail.  It \n",
            "seems as if each time I look at one of these it is different.  The status \n",
            "button and detail button below contain no information.    \n",
            "\n",
            "\n",
            "\n",
            "\n",
            "\n",
            "\n",
            "Information Risk Management\n",
            "07/17/2000 11:36 AM\n",
            "To: Sally Beck/HOU/ECT@ECT\n",
            "cc:  \n",
            "Subject: For Sally Beck's approval\n",
            "\n",
            "Below you will find a copy of a request that is awaiting your approval.    \n",
            "Please advise us as to your approval or rejection of this request by way of \n",
            "email.\n",
            "\n",
            "I thank you in advance for your cooperation in this matter.\n",
            "\n",
            "Leola Barnett\n",
            "IRM\n",
            "X37965\n",
            "---------------------- Forwarded by Information Risk Management/HOU/ECT on \n",
            "07/17/2000 11:34 AM ---------------------------\n",
            "\n",
            "\t Security Resource Request System\t\t\t\tPending VP Approval\n",
            " Resource Request\t\t\t\t\tHow to find the status of this request...\n",
            "\tGeneral Information\t\tInitials: \t\t\n",
            "\t     \t\t\t\t\n",
            "Requestor:\tJackie Morgan/HOU/ECT\tPhone:\t713-853-9177\t\t\n",
            "Requested For:\t\tJackie Morgan/HOU/ECT\t\t\t\n",
            "Request Type:\tUpdate Access\t\t\t\t\n",
            "RC #:\t2939\tWO #:\t\t\t\n",
            "Company #:\t413\tPriority:\tHigh\t\t\n",
            "Manager:\tMichael Eiben\tVP:\tSally Beck\t\t\n",
            "Location:\t\t\tHouston\t\t\n",
            "\t\t\t\t\tIn the Request Processing section, see the status column for each requested \n",
            "resource.\n",
            "\t\t\t\t\tLook at the overall status of the request in the title bar above. The status \n",
            "will display Closed when your request is complete.\n",
            "\t\t\t\t\tClick the \"Status\" button below.\n",
            "Comments:\n",
            "\t\t\tAdvised this PM that I will need Terminal Server Access for use by 8:00 am \n",
            "06/15/2000.\t\tRequest #: JMON-4LAQS3\n",
            "\t\t\t\t\tSubmitted: 06/14/2000 02:50:52 PM\n",
            "\n",
            "\t       \t\t\t\t\n",
            "\tName\tCost\tStatus\tImplementation Comments\t\n",
            "\tApplication/Database\t\t\t\t\n",
            "\tTerminal Server 1-800 Number\n",
            "Terminal Server 4.0\t\n",
            "\tNot Started\n",
            "Not Started\t\t\n",
            "\t\t\t\t\t\n",
            "\t\t\t\t\t\n",
            "\n",
            "\n",
            "\tRequest Processing Path                 \t\t\n",
            "Processed By\tStatus\tWhen\tComments\n",
            "\n",
            "\n",
            "\tManager\tApproved\t06/14 03:37 PM\t\n",
            "\t\t\t\t\n",
            "\n",
            "\n",
            "\tVP\t\t\t\n",
            "\t\t\t\t\n",
            "\n",
            "\n",
            "\tSecurity\t\t\t\n",
            "\t\t\t\t\n",
            "\n",
            "\tImplementation\t\t\t\n",
            "\n",
            "\n",
            "\n",
            "\n",
            "\t\tEditing History (Only the last five (5) are shown)\t\n",
            "\t\t\t\n",
            "Edit #\tPast Authors\tEdit Dates\t\n",
            "1\n",
            "2\n",
            "3\n",
            "4\n",
            "5\tJackie Morgan\n",
            "Jackie Morgan\n",
            "Jackie Morgan\n",
            "Jackie Morgan\n",
            "Michael Eiben \t06/14/2000 02:49:08 PM\n",
            "06/14/2000 02:49:56 PM\n",
            "06/14/2000 02:50:48 PM\n",
            "06/14/2000 02:50:52 PM\n",
            "06/14/2000 03:37:12 PM\n",
            "############################ END OF EMAIL ################################################################\n",
            "Approved.  Pls. process.  Thx.  Sally Beck\n",
            "\n",
            "---------------------- Forwarded by Sally Beck/HOU/ECT on 12/28/99 11:33 AM \n",
            "---------------------------\n",
            "############################ END OF EMAIL ################################################################\n",
            "Yes, I can make March 30th work.  I will put that on my calendar.  --Sally \n",
            "\n",
            "\n",
            "\n",
            "\n",
            "Kathy McMahon@ENRON\n",
            "03/09/2001 11:06 AM\n",
            "To: Sally Beck/HOU/ECT@ECT\n",
            "cc:  \n",
            "Subject: Lunch w/ Cindy Olson\n",
            "\n",
            "\n",
            "Sally, Cindy has a BOD mtg. at the Houston African American Museum on 3/28.  \n",
            "We've just recv'd the schedule.\n",
            "\n",
            "Will Friday, March 30, work for you?\n",
            "\n",
            "Thanks,\n",
            "Kathy\n",
            "ext. 3-6232\n",
            "\n",
            "\n",
            "---------------------- Forwarded by Kathy McMahon/NA/Enron on 03/09/2001 \n",
            "11:05 AM ---------------------------\n",
            "\n",
            "\n",
            "\tCalendar Entry\n",
            "\n",
            "\n",
            "Brief description:\n",
            "Date:\n",
            "Time:\n",
            "\n",
            "LUNCH - Sally Beck - (location TBD) - meet in lobby at 11:30\n",
            "03/30/2001\n",
            "11:30 AM - 01:00 PM\n",
            "\n",
            "\n",
            "Detailed description:\n",
            "\n",
            "\n",
            "\n",
            "_________________________________________________________________________\n",
            "Chairperson: Cindy Olson/Corp/Enron\n",
            "Sent by: Kathy McMahon/NA/Enron\n",
            "This meeting repeats   starting on    (if the date occurs on a weekend the \n",
            "meeting ).\n",
            "############################ END OF EMAIL ################################################################\n",
            "Kay, are we in London during this event?\n",
            "Regards\n",
            "Delainey\n",
            "\n",
            "\n",
            "Dave/Janet\n",
            "\n",
            "If you are in Europe that week, I would really appreciate you both coming \n",
            "along and showing us all how to line dance, (we hear you're both really good \n",
            "at it).\n",
            "\n",
            "Regards\n",
            "\n",
            "Matthew\n",
            "---------------------- Forwarded by Kerry Ferrari/LON/ECT on 14/02/2001 16:33 \n",
            "---------------------------\n",
            "\n",
            "\n",
            "\tCalendar Entry\n",
            "\n",
            "\n",
            "Brief description:\n",
            "Date:\n",
            "Time:\n",
            "\n",
            "EES Europe Night Out @ Texas Embassy!!\n",
            "06/03/2001\n",
            "18:30 - 23:00\n",
            "\n",
            "\n",
            "Detailed description:\n",
            "\n",
            "EES Europe Team Event\n",
            "On Tuesday 6th March @ 18.30\n",
            "Mosey on down to the Texas Embassy\n",
            "                         \n",
            "For Line Dancing with a Live band, Food & Drink \n",
            "                     \n",
            "\n",
            "Texas Embassy\n",
            "1 Cockspur Street\n",
            "Trafalgar Square\n",
            "London SW1Y 5DL\n",
            "\n",
            "Please accept this invite, if you intend to come.\n",
            "\n",
            "Invitations have been sent to: Enron Europe EES Group\n",
            "_________________________________________________________________________\n",
            "Chairperson: Kerry Ferrari/LON/ECT\n",
            "############################ END OF EMAIL ################################################################\n",
            "---------------------- Forwarded by David W Delainey/HOU/ECT on 11/22/2000 \n",
            "02:53 PM ---------------------------\n",
            "\n",
            "\n",
            "\tInvitation\n",
            "Chairperson: Steve Pruett\n",
            "\n",
            "Start: 11/28/2000 10:30 AM\n",
            "End: 11/28/2000 11:00 AM\n",
            "\n",
            "Description: Delainey review - Sale of Vastar assets to BP for $25 MM, \n",
            "Cypress S. Riceville prospect recommendation\n",
            "\n",
            "\n",
            "\n",
            "This meeting repeats   starting on    (if the date occurs on a weekend the \n",
            "meeting ).\n",
            "Meeting Dates: \n",
            "\n",
            "\n",
            "\n",
            "david delainey\n",
            "SCOTT JOSEY\n",
            "C John Thompson/Corp/Enron\n",
            "Craig Fox\n",
            "\n",
            "Detailed description:\n",
            "############################ END OF EMAIL ################################################################\n",
            "We did buy 5,000 from Beamont Meth.  The sale on 603107 should have been confirmed at 18,000 and the buy on deal 611178 should have been confirmed at 5,000 for the 9th.\n",
            "\n",
            "D\n",
            "\n",
            "\n",
            "Aimee Lannou   03/19/2001 09:44 AM\n",
            "\n",
            "To:\tDaren J Farmer/HOU/ECT@ECT, Tess Ray/ENRON@enronXgate @ ENRON\n",
            "cc:\t \n",
            "Subject:\tRE: FW: Feb-01 Invoice   \n",
            "\n",
            "Daren - did we have a purchase from Beaumont Methonal on 2/9?  I show a deal of 5.000 on deal 611178.  I confirmed a total of 13.000 (deal 603107) for that day.  Were we buying back 5.000 or was the deal reduced to 13000?\n",
            "\n",
            "Aimee\n",
            "\n",
            "\n",
            "From:\tTess Ray/ENRON@enronXgate on 03/19/2001 08:51 AM\n",
            "To:\tAimee Lannou/HOU/ECT@ECT\n",
            "cc:\tBuddy Majorwitz/HOU/ECT@ECT \n",
            "Subject:\tRE: FW: Feb-01 Invoice\n",
            "\n",
            "OK thanks! Will be there shortly. Also, Joanie received a call from Beaumont stating that there is a sale to HPL on 2/9 for 5,000 mmbtu. This was reflected on the supply  draft and Buddy Majorrwitz looked into this before he/we released invoice and said that there were no sales to HPL from Beaumont. Do you have any support or documentation re: any/ all 02/01 prod. sales to HPL ? If so, can I also get a copy of that support to fax to customer?\n",
            "\n",
            " -----Original Message-----\n",
            "From: \tLannou, Aimee  \n",
            "Sent:\tMonday, March 19, 2001 8:45 AM\n",
            "To:\tRay, Tess\n",
            "Subject:\tRE: FW: Feb-01 Invoice\n",
            "\n",
            "My location is 3507f.   \n",
            "\n",
            "\n",
            "\n",
            "From:\tTess Ray/ENRON@enronXgate on 03/19/2001 07:48 AM\n",
            "To:\tAimee Lannou/HOU/ECT@ECT\n",
            "cc:\tBuddy Majorwitz/HOU/ECT@ECT, Joanie H Ngo/HOU/ECT@ECT \n",
            "Subject:\tRE: FW: Feb-01 Invoice\n",
            "\n",
            "Ok, thanks! Can I get a copy of your support so that I can fax to customer this a.m.?  Please let me know your location.\n",
            "Thanks,\n",
            "Tess\n",
            "\n",
            " -----Original Message-----\n",
            "From: \tLannou, Aimee  \n",
            "Sent:\tFriday, March 16, 2001 4:10 PM\n",
            "To:\tRay, Tess\n",
            "Subject:\tRe: FW: Feb-01 Invoice\n",
            "\n",
            "I still handle meter 1428.  I checked my notes for 2/13.  There was an intraday change from 18.000 to 0.  When it was changed to 0, the meter had already flowed 3.811.  It is a valid volume.  If you have anymore questions, please let me know.\n",
            "\n",
            "Aimee  \n",
            "\n",
            "\n",
            "\n",
            "From:\tTess Ray/ENRON@enronXgate on 03/16/2001 03:53 PM\n",
            "To:\tAimee Lannou/HOU/ECT@ECT\n",
            "cc:\tBuddy Majorwitz/HOU/ECT@ECT, Joanie H Ngo/HOU/ECT@ECT \n",
            "Subject:\tFW: Feb-01 Invoice\n",
            "\n",
            "Aimee -\n",
            "Per conversation with Rosa Brown and Thu (In Volumes Management, Beaumont Methanol is a swing deal, by which the gas sales allocations are handled by the scheduletr. Thu indicated that you were the scheduler for meter # 981428.\n",
            "\n",
            "Do you still handle the sales allocations for  HPL meter # 981428? If so, can you confirm 02-01 sales (on HPL, Meter # 981428., Sales Deal # 603107), to Beaumont Methanol (which we've invoiced them ), vs. Chyral Hankins' e-mial to buddy Majorwitz below? The only date that is really in question is sales for flow date 02-13-01 (She reflects noms of 0 vs. the 3,811 mmbtu that we invoiced them).\n",
            "\n",
            "Thanks,\n",
            "Tess Ray\n",
            "\n",
            " -----Original Message-----\n",
            "From: \tNgo, Joanie  \n",
            "Sent:\tFriday, March 16, 2001 3:21 PM\n",
            "To:\tRay, Tess\n",
            "Subject:\tFeb-01 Invoice\n",
            "\n",
            "Tess, can you follow up on this and let me know if you have any questions.  Thank you!\n",
            "---------------------- Forwarded by Joanie H Ngo/HOU/ECT on 03/16/2001 03:10 PM ---------------------------\n",
            "   \n",
            "??Z5??J/?3OI?yr??<M8.?__:/?s?:??\t\n",
            "\n",
            "\n",
            "\n",
            "\n",
            "\n",
            "\n",
            "\n",
            "\n",
            "\n",
            "\n",
            "\n",
            "\n",
            "\n",
            "\n",
            "\n",
            "\n",
            "\n",
            "<Embedded StdOleLink>\n",
            "############################ END OF EMAIL ################################################################\n",
            "We did buy 5,000 from Beamont Meth.  The sale on 603107 should have been=20\n",
            "confirmed at 18,000 and the buy on deal 611178 should have been confirmed a=\n",
            "t=20\n",
            "5,000 for the 9th.\n",
            "\n",
            "D\n",
            "\n",
            "\n",
            "Aimee Lannou   03/19/2001 09:44 AM\n",
            "\n",
            "To: Daren J Farmer/HOU/ECT@ECT, Tess Ray/ENRON@enronXgate @ ENRON\n",
            "cc: =20\n",
            "Subject: RE: FW: Feb-01 Invoice =20\n",
            "\n",
            "Daren - did we have a purchase from Beaumont Methonal on 2/9?  I show a dea=\n",
            "l=20\n",
            "of 5.000 on deal 611178.  I confirmed a total of 13.000 (deal 603107) for=\n",
            "=20\n",
            "that day.  Were we buying back 5.000 or was the deal reduced to 13000?\n",
            "\n",
            "Aimee\n",
            "\n",
            "\n",
            "From: Tess Ray/ENRON@enronXgate on 03/19/2001 08:51 AM\n",
            "To: Aimee Lannou/HOU/ECT@ECT\n",
            "cc: Buddy Majorwitz/HOU/ECT@ECT=20\n",
            "Subject: RE: FW: Feb-01 Invoice\n",
            "\n",
            "OK thanks! Will be there shortly. Also, Joanie received a call from Beaumon=\n",
            "t=20\n",
            "stating that there is a sale to HPL on 2/9 for 5,000 mmbtu. This was=20\n",
            "reflected on the supply  draft and Buddy Majorrwitz looked into this before=\n",
            "=20\n",
            "he/we released invoice and said that there were no sales to HPL from=20\n",
            "Beaumont. Do you have any support or documentation re: any/ all 02/01 prod.=\n",
            "=20\n",
            "sales to HPL ? If so, can I also get a copy of that support to fax to=20\n",
            "customer?\n",
            "\n",
            " -----Original Message-----\n",
            "From:  Lannou, Aimee =20\n",
            "Sent: Monday, March 19, 2001 8:45 AM\n",
            "To: Ray, Tess\n",
            "Subject: RE: FW: Feb-01 Invoice\n",
            "\n",
            "My location is 3507f.  =20\n",
            "\n",
            "\n",
            "\n",
            "From: Tess Ray/ENRON@enronXgate on 03/19/2001 07:48 AM\n",
            "To: Aimee Lannou/HOU/ECT@ECT\n",
            "cc: Buddy Majorwitz/HOU/ECT@ECT, Joanie H Ngo/HOU/ECT@ECT=20\n",
            "Subject: RE: FW: Feb-01 Invoice\n",
            "\n",
            "Ok, thanks! Can I get a copy of your support so that I can fax to customer=\n",
            "=20\n",
            "this a.m.?  Please let me know your location.\n",
            "Thanks,\n",
            "Tess\n",
            "\n",
            " -----Original Message-----\n",
            "From:  Lannou, Aimee =20\n",
            "Sent: Friday, March 16, 2001 4:10 PM\n",
            "To: Ray, Tess\n",
            "Subject: Re: FW: Feb-01 Invoice\n",
            "\n",
            "I still handle meter 1428.  I checked my notes for 2/13.  There was an=20\n",
            "intraday change from 18.000 to 0.  When it was changed to 0, the meter had=\n",
            "=20\n",
            "already flowed 3.811.  It is a valid volume.  If you have anymore questions=\n",
            ",=20\n",
            "please let me know.\n",
            "\n",
            "Aimee =20\n",
            "\n",
            "\n",
            "\n",
            "From: Tess Ray/ENRON@enronXgate on 03/16/2001 03:53 PM\n",
            "To: Aimee Lannou/HOU/ECT@ECT\n",
            "cc: Buddy Majorwitz/HOU/ECT@ECT, Joanie H Ngo/HOU/ECT@ECT=20\n",
            "Subject: FW: Feb-01 Invoice\n",
            "\n",
            "Aimee =01)\n",
            "Per conversation with Rosa Brown and Thu (In Volumes Management, Beaumont=\n",
            "=20\n",
            "Methanol is a swing deal, by which the gas sales allocations are handled by=\n",
            "=20\n",
            "the scheduletr. Thu indicated that you were the scheduler for meter # 98142=\n",
            "8.\n",
            "\n",
            "Do you still handle the sales allocations for  HPL meter # 981428? If so, c=\n",
            "an=20\n",
            "you confirm 02-01 sales (on HPL, Meter # 981428., Sales Deal # 603107), to=\n",
            "=20\n",
            "Beaumont Methanol (which we=01,ve invoiced them ), vs. Chyral Hankins=01, e=\n",
            "-mial to=20\n",
            "buddy Majorwitz below? The only date that is really in question is sales fo=\n",
            "r=20\n",
            "flow date 02-13-01 (She reflects noms of 0 vs. the 3,811 mmbtu that we=20\n",
            "invoiced them).\n",
            "\n",
            "Thanks,\n",
            "Tess Ray\n",
            "\n",
            " -----Original Message-----\n",
            "From:  Ngo, Joanie =20\n",
            "Sent: Friday, March 16, 2001 3:21 PM\n",
            "To: Ray, Tess\n",
            "Subject: Feb-01 Invoice\n",
            "\n",
            "Tess, can you follow up on this and let me know if you have any questions. =\n",
            "=20\n",
            "Thank you!\n",
            "---------------------- Forwarded by Joanie H Ngo/HOU/ECT on 03/16/2001 03:1=\n",
            "0=20\n",
            "PM ---------------------------\n",
            "  =20\n",
            "o?Z5??J/?3OI=01pyr=07?<M8.?__:/\"s-:?~\n",
            "############################ END OF EMAIL ################################################################\n",
            "Liz, \n",
            "\n",
            "Do you want to take this on?\n",
            "\n",
            "D\n",
            "---------------------- Forwarded by Daren J Farmer/HOU/ECT on 02/05/2001 \n",
            "02:36 PM ---------------------------\n",
            "\n",
            "\n",
            "\tInvitation\n",
            "Chairperson: Terry Sanvido\n",
            "\n",
            "Start: 02/08/2001 02:00 PM\n",
            "End: 02/08/2001 03:00 PM\n",
            "\n",
            "Description: Sitara Reporting mtg in 2556\n",
            "\n",
            "\n",
            "\n",
            "This meeting repeats   starting on    (if the date occurs on a weekend the \n",
            "meeting ).\n",
            "Meeting Dates: \n",
            "\n",
            "\n",
            "\n",
            "Dana Docherty/NA/Enron\n",
            "Sylvia A Campos/HOU/ECT\n",
            "Julie Meyers/HOU/ECT\n",
            "David Baumbach/HOU/ECT\n",
            "Kam Keiser/HOU/ECT\n",
            "George D Smith/NA/Enron\n",
            "Edward Terry/HOU/ECT\n",
            "Kevin Heal/CAL/ECT\n",
            "Victor Lamadrid/HOU/ECT\n",
            "Patti Sullivan/HOU/ECT\n",
            "Kathryn Bussell/HOU/ECT\n",
            "Hunter S Shively/HOU/ECT\n",
            "Tori Kuykendall/HOU/ECT\n",
            "Karen Politsky/CAL/ECT\n",
            "Chris Germany/HOU/ECT\n",
            "Scott Goodell/Corp/Enron\n",
            "Mark McClure/HOU/ECT\n",
            "Daren J Farmer/HOU/ECT\n",
            "Randall L Gay/HOU/ECT\n",
            "Katherine L Kelly/HOU/ECT\n",
            "Bryce Baxter/HOU/ECT\n",
            "Stacey Richardson/HOU/ECT\n",
            "Debbie R Brackett/HOU/ECT\n",
            "\n",
            "Detailed description:\n",
            "Discuss new reporting requirements\n",
            "############################ END OF EMAIL ################################################################\n",
            "Please forward this to all ETS lawyers.  DF\n",
            "\n",
            "All:  Please take a look at this article.  El Paso's inartful internal documents are creating the same kind of fun for them that Microsoft had during the recent antitrust unpleasantness.  I know that we can't control the way people think about issues such as market behavior, price strategy, etc.  We can, however, remind ourselves and our clients to be very precise and careful in the way we talk about, and particularly, write about, such issues.  I'd like each of us and our clients to keep problems like El Paso's and Microsoft's in mind when we put pen to paper or fingers to keyboard.  Thanks.  df       \n",
            "\n",
            "---------------------- Forwarded by Drew Fossum/ET&S/Enron on 03/27/2001 12:06 PM ---------------------------\n",
            "\n",
            "\n",
            "\n",
            "\n",
            "\n",
            "Business/Financial Desk; Section A\n",
            "Deal for Use of Gas Pipeline Stirs Dispute on Competition\n",
            "By RICHARD A. OPPEL Jr. and LOWELL BERGMAN\n",
            "\n",
            "03/26/2001\n",
            "The New York Times\n",
            "Page 1, Column 4\n",
            "c. 2001 New York Times Company\n",
            "\n",
            "Early last year, the El Paso Natural Gas Company took bids from two dozen companies for the right to ship enough natural gas through its pipeline from Texas and New Mexico to meet one-sixth of the daily demand of energy-starved California. \n",
            "The winner: El Paso's sister company, the El Paso Merchant Energy Company, which buys, sells and trades natural gas. The bidding was not close. El Paso Merchant offered twice as much for the capacity as the other companies bid, in total, for bits and pieces.\n",
            "Why pay so much more? California officials, who are pressing a complaint against El Paso at the Federal Energy Regulatory Commission, say the answer is simple. The state contends that El Paso Merchant, with help from its sister company, saw the transaction as a way to manipulate the price of natural gas by using its control of pipeline capacity. \n",
            "According to sealed documents obtained by The New York Times that are part of filings in the federal case, executives at El Paso Merchant said internally that the deal would give them ''more control'' of gas markets, including the ''ability to influence the physical market'' to benefit the company's financial positions. \n",
            "El Paso executives called the accusations fanciful, and in a formal response to California's complaint, said the state ''grossly distorted'' company documents by quoting words and phrases out of context. \n",
            "The dispute opens a window on an important debate about oversight of the natural gas industry, which fuels a growing share of the nation's electric power plants. \n",
            "At issue is whether current safeguards do enough to prevent anticompetitive abuses in the marketing and trading of natural gas, and whether federal regulators adequately enforce existing rules. In particular, many industry officials question whether regulated pipeline companies are able to favor unregulated sister companies that trade natural gas and are free to maximize profits. \n",
            "More than 200,000 miles of interstate pipelines crisscross the country, moving natural gas from Canada, the Southwest and other producing regions to fuel factories, power utilities and heat houses. \n",
            "Not long ago, many parts of the country had excess pipeline capacity. But experts say that several regions, including California, New York and New England, now face constraints as demand soars for gas to fuel power plants. \n",
            "In California, state officials and utility executives said the documents in the federal case, and El Paso's actions, were proof that the state's energy crisis stemmed not just from an ill-conceived deregulation plan but from price manipulation and profiteering. \n",
            "''They are the market maker with this pipeline,'' said Loretta Lynch, the president of the California Public Utilities Commission, which has struggled to cope with skyrocketing power prices and supply shortages. \n",
            "El Paso ''sets the price in California,'' Ms. Lynch said, and what it did was intentional. ''It has affected the price,'' she said, ''for everything related to heat and electrical power prices in the state.'' \n",
            "California's complaint to the federal agency contends that El Paso Merchant ''has hoarded capacity and refused to attractively price unused capacity'' on the pipeline. The state also charges that El Paso Natural Gas, the pipeline's owner, has had no incentive to spur competition, by offering discounts to other users, because the two companies are corporate siblings. The state said that El Paso had violated federal natural gas statutes that prohibit anticompetitive behavior. \n",
            "The sealed filings in the El Paso case indicated that the company expected to make money by widening the ''basis spread'' -- the difference between what gas can be bought for in producing basins of Texas and New Mexico, at one end of the pipeline, and its price on delivery to Southern California. \n",
            "As it turned out, spreads widened enormously over the last year as the price of gas soared in California, adding to costs for wholesale electricity that pushed the biggest utilities near bankruptcy. California utilities paid $6.2 billion above competitive prices for wholesale electricity over the last 10 months, state officials estimated. The utilities are not allowed to recoup the costs from customers. While the cost of 1,000 cubic feet of gas typically is less than $1 higher at the California end of the pipeline, spot prices in the state rose to almost $50 more than the Texas-New Mexico price in December. \n",
            "To executives of the parent company, the El Paso Corporation, the accusations of market manipulation are ludicrous. \n",
            "High gas prices in California, El Paso executives said in interviews, are easily explained by soaring demand, the poor credit standing of the state's utilities and the failure of the utilities to retain pipeline capacity or store enough gas for winter. \n",
            "''The idea that anybody is holding back on California is really ridiculous,'' said Clark C. Smith, president of El Paso Merchant's operations in North America. \n",
            "Some El Paso customers, though, agreed with California officials. The Pacific Gas & Electric Company, the San Francisco-based utility, condemned El Paso in a filing with the federal agency after its lawyers reviewed the sealed company documents. \n",
            "''It is now very clear from the business records of El Paso Energy Corporation,'' the utility said in the filing, ''that the business strategy El Paso Merchant was authorized at the highest corporate levels to pursue involved manipulation of price spreads.'' \n",
            "The agency has not ruled on California's complaint, which asks that the deal between El Paso Natural Gas and El Paso Merchant be invalidated. Based on the agency's history of policing energy providers lightly, many industry observers predicted that the complaint would be dismissed, perhaps as soon as the agency's public meeting on Wednesday. \n",
            "Nonetheless, El Paso Merchant is feeling some pressure. The subsidiary said recently that it planned to relinquish control of all but about 22 percent of the capacity on the pipeline to California, rather than exercise an option that would have allowed it to retain the entire capacity of 1.2 billion cubic feet of gas a day. \n",
            "Critics said they believed El Paso made the move in hopes of lessening the chance of government action. El Paso executives deny that but do say that their decision was influenced by the backlash over the arrangement. \n",
            "Surrendering the pipeline capacity made for a ''gut-wrenching'' decision, Mr. Smith said, but was ''a first-class gesture'' to California. El Paso Merchant paid $38.5 million to control the pipeline capacity from March 1, 2000, until May 31, 2001. While Mr. Clark said he did not know the return on that investment, he acknowledged that it was lucrative. \n",
            "''No doubt about it,'' Mr. Clark said, ''we made good money.'' \n",
            "The question of whether El Paso's conduct has driven gas prices higher is expected to be scrutinized by legislators in Sacramento this week. The company also faces several lawsuits, including one by the city of Los Angeles, that accuse it of conspiring with other companies to prevent pipeline projects that could have eased California's energy crisis. El Paso denied the accusation. \n",
            "With pipeline capacity and gas supplies tighter, concerns about anticompetitive behavior have increased as price volatility has created soaring profits for energy marketers and traders. \n",
            "Dynegy Inc., a Houston-based energy trader, was once the target of complaints to federal regulators that it had artificially raised prices by abusing capacity that it controlled on El Paso's pipeline to California. \n",
            "In a filing with regulators in January, Dynegy contended that pipeline companies routinely favored affiliates. ''Abuses abound because of financial windfalls, difficulty of detection, lengthy investigations and increased complexity of the market,'' the company said. \n",
            "''There are some red flags right now,'' said William L. Massey, a member of the Federal Energy Regulatory Commission since 1993. Mr. Massey said he was troubled by the potential for abuses when pipeline companies own gas and power marketing subsidiaries as well as electric plants fueled by natural gas. El Paso is in all those businesses. \n",
            "''What the commission ought to be serious about is: What are the forces at work? Is it simply robust markets responding to true supply-and-demand signals, or is it a market defined by market power and some measure of affiliate abuse?'' he said. \n",
            "Many in the industry do not believe changes are needed. \n",
            "''There are rules in place today that protect against affiliate abuse,'' said Stanley Horton, chief executive for gas pipeline operations at the Enron Corporation and chairman of the Interstate Natural Gas Association of America, the industry's trade group, referring to the rules under which California has brought its complaint about El Paso. \n",
            "To its critics, El Paso epitomizes the competitive concerns. It operates the nation's largest network of interstate pipelines and owns one of the largest reserves of natural gas. With its recent acquisition of the Coastal Corporation, another large pipeline operator, El Paso has a market capitalization of $32 billion. \n",
            "At a conference at El Paso headquarters in Houston in February, analysts heard executives predict net profits of $1.7 billion this year. El Paso's much better known rival, Enron, with its headquarters a few blocks away, is expected to earn about $1.4 billion. \n",
            "El Paso Merchant provides the strongest growth. Two years ago, the unit's profits, before interest payments and taxes, were $99 million; this year, it is expected to have $700 million in North America alone. In its latest quarterly report, El Paso attributed those profits, in part, to ''commodity market and trading margins'' that were enhanced by ''power price volatility, particularly in the Western United States.'' \n",
            "Critics contend that El Paso set out to exploit those conditions. According to the sealed filings, on Feb. 14, 2000, the day before El Paso Merchant was awarded the pipeline capacity, executives made a presentation to William A. Wise, chief executive of the parent company, laying out the rationale for the bid. \n",
            "The presentation outlined what it termed ''strategic advantages,'' including ''more control of total physical markets'' and the ''ability to influence the physical market to the benefit of any financial/hedge position,'' according to the sealed filings. The passages suggested that El Paso expected the deal to give it sway over the market for trading actual volumes of gas and to support financial transactions it had entered into with other parties to limit its risk. \n",
            "For every one-cent increase in the spread on gas prices, the presentation said, El Paso Merchant stood to make an additional $2.4 million. \n",
            "Under the heading ''Challenges,'' according to the sealed filings, the presentation stated that storage was needed ''to help manipulate physical spreads, adding to the overall transport/storage cost.'' \n",
            "On April 14, according to the sealed filings, El Paso Merchant's president at the time, Greg G. Jenkins, wrote a memorandum to Mr. Wise involving an update for directors meeting later that month. The memorandum stated: ''We will make money two ways: 1) increase the load factor, 2) widen the basis spread.'' \n",
            "The language appears to suggest that El Paso Merchant would profit by increasing the gas flow in the pipeline -- the load factor -- while increasing the difference between what gas could be bought for at one end and what it could be sold for at the other end -- the basis spread. \n",
            "In an interview, Mr. Smith, the El Paso Merchant executive, said that the unit's prices, and profits, on bulk gas sales in California were locked in months in advance, so that the company could not benefit from rising prices in the spot market. \n",
            "Otherwise, Mr. Smith declined to provide any details about money made on the pipeline deal or about financial terms of the transactions that locked in prices ahead of time. In addition, Mr. Smith said that nearly all of El Paso Merchant's pipeline capacity was used every day when prices spiked late last year, with no capacity withheld to increase prices. \n",
            "The company did not respond last week to a request to discuss information in the sealed documents. But El Paso Merchant, in a filing with federal regulators, said California's complaint had ''misconstrued and incorrectly interpreted'' what it termed ''snippets of data.'' \n",
            "About This Report \n",
            "This article and others on California's energy problems are part of a joint effort with the PBS series ''Frontline'' that will result in a documentary later this year.\n",
            "\n",
            "\n",
            "Photo: The El Paso Natural Gas pipeline passes near Topock, Ariz. A dispute over bidding for its use has spurred a debate about oversight of the industry. (John Gurzinski for The New York Times)(pg. A17) Chart: ''Boom Times'' Operating revenue and net income soared last year at the El Paso Corpor 2/3ation, which sells, transports and trades natural gas. Graphs of the operating revenue and the net income for the El Paso Corporation. (Source: Company reports)(pg. A17) Chart: ''A Spike in Prices'' The spot price for natural gas produced in the Permian Basin of West Texas doubled last year. But the price that power generators paid when the gas was delivered to Southern California rose almost 10-fold. State regulators say the gap is evidence of market manipulation. Graph showing the spot price of gas delivered to Southern California and the spot price of gas bought in the Permian Basin, from September to March. (Source: Gas Daily)(pg. A17) \n",
            "\n",
            "\n",
            "\n",
            "Copyright ? 2000 Dow Jones & Company, Inc. All Rights Reserved.\n",
            "############################ END OF EMAIL ################################################################\n",
            "Whaaasssssuuup.  Sack--you need to update me on where the hell you are these \n",
            "days.  Flying jets in Denver?  Chicago?  Where?  Reed, you need to check your \n",
            "emails more than once every 6 months.  Huet, I'll call you on the apple data \n",
            "tonight or tomorrow.   Loon, since I sent you a cool email, you need to \n",
            "invite me to at least one boondoggle on Wednesday (Dougie is going to the \n",
            "Fascist convention in Philadelphia all next week to schmooze).  Carmany, you \n",
            "are just weak--you need a wife and about 7 kids to throttle your lifestyle \n",
            "back a bit.  Egg and Kate--I have nothing mean to say to you just now, but \n",
            "I'll work on it.  DF   \n",
            "---------------------- Forwarded by Drew Fossum/ET&S/Enron on 07/28/2000 \n",
            "02:19 PM ---------------------------\n",
            "\n",
            "\n",
            " - boredmtg.exe\n",
            "############################ END OF EMAIL ################################################################\n",
            "pls print.  thanks. df\n",
            "\n",
            "\n",
            "Please see attached memo from Lou Soldano.  Thank you.\n",
            "\n",
            "\n",
            "---------------------- Forwarded by Jan Cobden/ET&S/Enron on 05/12/2000 10:03 \n",
            "AM ---------------------------\n",
            "############################ END OF EMAIL ################################################################\n",
            "I finally stumbled over something that forced me to get my shit together and \n",
            "update my email addresses on you guys.  Its been a strong couple of weeks for \n",
            "the merchant storage business!  First you guys (and FERC) finally put the \n",
            "last nail in CNG and Penn Fuels' coffins on Tioga, then old Larry,John and \n",
            "Dill finally dust off Lodi and get going!  Wow!  I shouldn't have joined the \n",
            "evil empire quite so fast!\n",
            "\n",
            "Seriously, congratulations on starting construction up in PA.  I ran into my \n",
            "old law partner Hill out in DC last week and got a great update on the recent \n",
            "battles against those drips at CNG and Penn Fuel.  Siggy, what are you going \n",
            "to do without Carol Lynn to fight with?????  Best wishes for continued \n",
            "success!  DF \n",
            "---------------------- Forwarded by Drew Fossum/ET&S/Enron on 02/29/2000 \n",
            "10:08 AM ---------------------------\n",
            "\n",
            "\n",
            "CA Merchant Storage Plant Passes Major Test\n",
            "\n",
            "     California regulators Thursday released a final environmental impact \n",
            "report for the\n",
            "     state's second merchant underground natural gas storage project in the \n",
            "Sacramento\n",
            "     Valley of northern California. Absent new opposition from surrounding \n",
            "landowners,\n",
            "     Texas-based Western Hub Properties hopes to have its $80 million storage \n",
            "project\n",
            "     operating by the end of this year, following a year's delay in the \n",
            "approval process for\n",
            "     environmental review. \n",
            "\n",
            "     Western Hub is also pursuing a similar-sized underground storage project \n",
            "in Texas and\n",
            "     it has identified a site for a second California storage operation in \n",
            "the Bakersfield area,\n",
            "     according to Jim Fossum, Western's California operations manager. \n",
            "\n",
            "     Final approval of the Lodi Gas Storage Project located south of \n",
            "Sacramento should\n",
            "     come in May, Fossum said, meaning that construction could begin this \n",
            "summer and be\n",
            "     operational before the end of the year. \"We see the environmental report \n",
            "as the 'light at\n",
            "     the end of the tunnel',\" Fossum said. \n",
            "\n",
            "     Under California's environmental review process (CEQA), the California \n",
            "Public Utilities\n",
            "     Commission (CPUC) prepared a draft environmental report (EIR) \n",
            "identifying the\n",
            "     project's environmental impacts and mitigation measures. The draft then \n",
            "was circulated\n",
            "     to appropriate public agencies and the general public for comment before \n",
            "the final\n",
            "     report can be issued. Three public hearings on the draft report were \n",
            "held by the CPUC\n",
            "     last October. \n",
            "\n",
            "     Under the CPUC's procedures, a proposed decision from the administrative \n",
            "law judge\n",
            "     for the case is due by mid-March, after which there is a 30-day period \n",
            "before the\n",
            "     project can come before the five-member commission for a final decision, \n",
            "a CPUC\n",
            "     spokesperson said. \n",
            "\n",
            "     \"We hope to be on-line, and that is 'hope', this year because we already \n",
            "have our\n",
            "     compressors and pipe, so it is just a matter of getting crews there and \n",
            "that can go pretty\n",
            "     quickly,\" Fossum said. \"In the best of all worlds it would be this year; \n",
            "in the worst case,\n",
            "     it would be a year from now.\" \n",
            "\n",
            "     Western Hub has some of its customers lined up, and it is in current \n",
            "discussions with\n",
            "     others, said Fossum, declining for competitive reasons to even identify \n",
            "the types of\n",
            "     customers, although they are expected to be large shippers, marketers, \n",
            "power plant\n",
            "     operators and other large industrial customers. \n",
            "\n",
            "     The Lodi project is designed for full operation as having a 12 Bcf \n",
            "working capacity,\n",
            "     with 400 MMcf/d injection and 500 MMcf/d withdrawal capacities. It will \n",
            "be\n",
            "     connected to Pacific Gas and Electric Co.'s backbone transmission system \n",
            "through a\n",
            "     35-mile pipeline consisting of three miles of 30-inch-diameter and 32 \n",
            "miles of\n",
            "     24-inch-diameter pipe. During the past year's delay in start-up, Western \n",
            "has \"moved\n",
            "     the pipeline around a bit, but not a whole lot,\" Fossum said. \"to make \n",
            "accommodations\n",
            "     to nearby farmers.\" \n",
            "\n",
            "     Western Hub's similar-sized Texas project is south of San Antonio and \n",
            "would be\n",
            "     connected with three natural gas transmission systems in the area: \n",
            "Houston Pipeline,\n",
            "     PG&E --- Texas (bought recently by El Paso) and the City of San Antonio. \n",
            "\"We\n",
            "     expect to have it on-line the same time as Lodi,\" Fossum said. \n",
            "\n",
            "     Fossum said Western is \"moving ahead\" with a second California site in \n",
            "the Bakersfield\n",
            "     area, but he declined to give any further details, noting Western Hub \n",
            "expects to have\n",
            "     more definitive information next month. He did say that if a second \n",
            "California project\n",
            "     moves ahead, Western expects to have it operational by early 2002. \n",
            "\n",
            "     Unlike northern California, storage in the Bakersfield area would not \n",
            "have to connect\n",
            "     with the local utility transmission system of Southern California Gas. \n",
            "The combined\n",
            "     Kern River/ Mojave interstate pipeline also comes into the area.\n",
            "############################ END OF EMAIL ################################################################\n",
            "Congratulations!  Sounds like the merchant storage business has had a good \n",
            "couple of weeks with you guys clearing your environmental hurdles and the \n",
            "Tioga guys finally starting construction!  I may have acted rashly in joining \n",
            "the evil empire--should have jumped into the storage business instead!  \n",
            "\n",
            "Tom, are you the point guy for marketing the project?  I'd like to hook you \n",
            "up with our Transwestern marketing guys on possible deals to backstop \n",
            "Transwestern's \"Park and Ride\" service.  We are currently authorized by FERC \n",
            "to use PG&E market center service for that purpose, but I suspect firm or \n",
            "interruptible Lodi service  would be better suited for what we need.     \n",
            "\n",
            "Best wishes for continued success!  \n",
            "\n",
            "---------------------- Forwarded by Drew Fossum/ET&S/Enron on 02/29/2000 \n",
            "09:58 AM ---------------------------\n",
            "\n",
            "\n",
            "CA Merchant Storage Plant Passes Major Test\n",
            "\n",
            "     California regulators Thursday released a final environmental impact \n",
            "report for the\n",
            "     state's second merchant underground natural gas storage project in the \n",
            "Sacramento\n",
            "     Valley of northern California. Absent new opposition from surrounding \n",
            "landowners,\n",
            "     Texas-based Western Hub Properties hopes to have its $80 million storage \n",
            "project\n",
            "     operating by the end of this year, following a year's delay in the \n",
            "approval process for\n",
            "     environmental review. \n",
            "\n",
            "     Western Hub is also pursuing a similar-sized underground storage project \n",
            "in Texas and\n",
            "     it has identified a site for a second California storage operation in \n",
            "the Bakersfield area,\n",
            "     according to Jim Fossum, Western's California operations manager. \n",
            "\n",
            "     Final approval of the Lodi Gas Storage Project located south of \n",
            "Sacramento should\n",
            "     come in May, Fossum said, meaning that construction could begin this \n",
            "summer and be\n",
            "     operational before the end of the year. \"We see the environmental report \n",
            "as the 'light at\n",
            "     the end of the tunnel',\" Fossum said. \n",
            "\n",
            "     Under California's environmental review process (CEQA), the California \n",
            "Public Utilities\n",
            "     Commission (CPUC) prepared a draft environmental report (EIR) \n",
            "identifying the\n",
            "     project's environmental impacts and mitigation measures. The draft then \n",
            "was circulated\n",
            "     to appropriate public agencies and the general public for comment before \n",
            "the final\n",
            "     report can be issued. Three public hearings on the draft report were \n",
            "held by the CPUC\n",
            "     last October. \n",
            "\n",
            "     Under the CPUC's procedures, a proposed decision from the administrative \n",
            "law judge\n",
            "     for the case is due by mid-March, after which there is a 30-day period \n",
            "before the\n",
            "     project can come before the five-member commission for a final decision, \n",
            "a CPUC\n",
            "     spokesperson said. \n",
            "\n",
            "     \"We hope to be on-line, and that is 'hope', this year because we already \n",
            "have our\n",
            "     compressors and pipe, so it is just a matter of getting crews there and \n",
            "that can go pretty\n",
            "     quickly,\" Fossum said. \"In the best of all worlds it would be this year; \n",
            "in the worst case,\n",
            "     it would be a year from now.\" \n",
            "\n",
            "     Western Hub has some of its customers lined up, and it is in current \n",
            "discussions with\n",
            "     others, said Fossum, declining for competitive reasons to even identify \n",
            "the types of\n",
            "     customers, although they are expected to be large shippers, marketers, \n",
            "power plant\n",
            "     operators and other large industrial customers. \n",
            "\n",
            "     The Lodi project is designed for full operation as having a 12 Bcf \n",
            "working capacity,\n",
            "     with 400 MMcf/d injection and 500 MMcf/d withdrawal capacities. It will \n",
            "be\n",
            "     connected to Pacific Gas and Electric Co.'s backbone transmission system \n",
            "through a\n",
            "     35-mile pipeline consisting of three miles of 30-inch-diameter and 32 \n",
            "miles of\n",
            "     24-inch-diameter pipe. During the past year's delay in start-up, Western \n",
            "has \"moved\n",
            "     the pipeline around a bit, but not a whole lot,\" Fossum said. \"to make \n",
            "accommodations\n",
            "     to nearby farmers.\" \n",
            "\n",
            "     Western Hub's similar-sized Texas project is south of San Antonio and \n",
            "would be\n",
            "     connected with three natural gas transmission systems in the area: \n",
            "Houston Pipeline,\n",
            "     PG&E --- Texas (bought recently by El Paso) and the City of San Antonio. \n",
            "\"We\n",
            "     expect to have it on-line the same time as Lodi,\" Fossum said. \n",
            "\n",
            "     Fossum said Western is \"moving ahead\" with a second California site in \n",
            "the Bakersfield\n",
            "     area, but he declined to give any further details, noting Western Hub \n",
            "expects to have\n",
            "     more definitive information next month. He did say that if a second \n",
            "California project\n",
            "     moves ahead, Western expects to have it operational by early 2002. \n",
            "\n",
            "     Unlike northern California, storage in the Bakersfield area would not \n",
            "have to connect\n",
            "     with the local utility transmission system of Southern California Gas. \n",
            "The combined\n",
            "     Kern River/ Mojave interstate pipeline also comes into the area.\n",
            "############################ END OF EMAIL ################################################################\n",
            "???  What rumor was this press release responding to?  What did you do to=\n",
            "=20\n",
            "drive the stock price down by $5?  I don't hear nuthin in Omaha so you've=\n",
            "=20\n",
            "gotta keep me plugged in!  DF\n",
            "---------------------- Forwarded by Drew Fossum/ET&S/Enron on 02/24/2000=20\n",
            "12:31 PM ---------------------------\n",
            "\n",
            "This article appeared in Enerfax today:\n",
            "\n",
            "\n",
            "Enron Not Looking for New Business M&A in 2000\n",
            "\n",
            "    Enron does not expect any mergers or acquisitions of new business and i=\n",
            "s\n",
            "not interested in selling its pipelines. Enron will seek opportunities to\n",
            "fill-in its businesses with asset purchases, rather  than purchasing new\n",
            "businesses. It will be giving a detailed view of its telecommunications\n",
            "business at an analysts meeting in Houston today. Enron says Europe, Latin\n",
            "America=01,s southern cone and Japan provide great opportunity. Enron=01,s =\n",
            "EnCom\n",
            "unit=01,s recently teamed with the Japanese firm Orix to participate in the\n",
            "retail electricity sales business when the Japan market is opened, currentl=\n",
            "y\n",
            "scheduled for this March. Enron plans to use EnronOnline as its vehicle to\n",
            "enter the European market. EnronOnline, the global Internet-based transacti=\n",
            "on\n",
            "system for wholesale energy and other commodities, will soon allow it to\n",
            "reduce back-office costs in a transaction substantially. In addition to bei=\n",
            "ng\n",
            "able to cut the $1,000-$1,500 per transaction as much as 80-90%, EnronOnlin=\n",
            "e\n",
            "will create an environment where a buyer or seller of natural gas or power\n",
            "will be able to more easily, with a computer mouse click, process complex\n",
            "power and natural gas transactions.\n",
            "############################ END OF EMAIL ################################################################\n",
            "You guys are making us and our shareholders rich.  I hope you are having fu=\n",
            "n=20\n",
            "doing it.  Keep up the good work!  DF\n",
            "---------------------- Forwarded by Drew Fossum/ET&S/Enron on 01/14/2000=20\n",
            "09:18 AM ---------------------------\n",
            "\n",
            "\n",
            "FYI, a daily report put out by CIBC illustrating their view on the emerging=\n",
            "=20\n",
            "market...\n",
            "\n",
            "Daily Teletimes  CIBC World Markets\n",
            "\n",
            "We had a very informative meeting with Enron=01,s management yesterday--Jef=\n",
            "f=20\n",
            "Skilling, CEO of Enron (ENE - Buy) as well as Ken Rice, CEO of Enron=20\n",
            "Communications and their Software VP, David Berberian and others. Enron has=\n",
            "=20\n",
            "built out a substantial fiber network and begun to make substantial moves=\n",
            "=20\n",
            "towards developing a bandwidth trading market.  We don=01,t believe that a =\n",
            "lot=20\n",
            "of telecom investors understand how well thought out and agressive Enron=20\n",
            "plans on being in this market.  It appears that Enron is now planning to=20\n",
            "articulate its strategy- specifically at their investor conference on Janua=\n",
            "ry=20\n",
            "20th in New York.  While details will have to wait until the 20th, Enron is=\n",
            "=20\n",
            "essentially aiming to build a gateway tieing in all the major long-distance=\n",
            "=20\n",
            "networks, guaranteeing premium quality and pricing in doing so (i.e. a =20\n",
            "=01&Network of Networks=018).  While ENE does plan to use its own network t=\n",
            "o carry=20\n",
            "traffic, it plans to focus largely on seamlessly integrating capacity bough=\n",
            "t=20\n",
            "on other carriers networks.  Operationally, this boils down to a very smart=\n",
            "=20\n",
            "switching system that gives customers the capabilities and reliability of a=\n",
            "=20\n",
            "single network at the front-end while integrating capacity sourced from=20\n",
            "multiple networks on the back end, creating more robust overall transport=\n",
            "=20\n",
            "capabilities.  ENE believes that this integration of multiple networks will=\n",
            "=20\n",
            "offer greater path diversity, reliability, and efficiency than any=20\n",
            "single-network solution.  We note that Enron=01,s multi-sourcing approach i=\n",
            "s=20\n",
            "tailor-made to foster the development of a robust capacity trading market (=\n",
            "as=20\n",
            "discussed in our recent bandwidth trading report).  Given Enron=01,s domina=\n",
            "nce=20\n",
            "of the electricity and natural gas markets, we believe that there is no=20\n",
            "better positioned company to create and capitalize on such a market in=20\n",
            "bandwidth.   While we await further details, we did leave the meeting with =\n",
            "a=20\n",
            "much greater understanding of and confidence in ENE=01,s overall telecom=20\n",
            "strategy.  We believe that their telecom business could create tens of=20\n",
            "billions of dollars of shareholder value if ENE executes well.  We recommen=\n",
            "d=20\n",
            "that telecom investors make an effort to attend the Jan. 20 meeting.=20\n",
            "\n",
            "Tim Horan 212-667-5459\n",
            "############################ END OF EMAIL ################################################################\n",
            "Bill, attached is a memo prepared by Susan Scott that does a good job of \n",
            "answering the several questions that you had about the situation at Topock.  \n",
            "Note that in Susan's first answer, PG&E has no obligation to Transwestern to \n",
            "accept gas at Topock.  They may well have obligations to their own \n",
            "transportation customers or sales customers that have to be satisfied with \n",
            "Topock receipts, but that doesn't give TW any rights against PG&E.  I realize \n",
            "these are not comforting answers, but I wanted us all to have a realistic \n",
            "understanding of where we are.  I'm running this by Lou in case he has a \n",
            "different spin on the history or the agreements.  Thanks. DF \n",
            "---------------------- Forwarded by Drew Fossum/ET&S/Enron on 01/11/2000 \n",
            "02:44 PM ---------------------------\n",
            "############################ END OF EMAIL ################################################################\n",
            "Here are the draft handouts for tomorrow's meeting with Stan.  Please channel \n",
            "any comments or questions to Steve Kirk so he and Martha can get a final set \n",
            "to me in Houston before the 1:30 meeting.  (Martha--pls get the final version \n",
            "to me through Steve Harris and I'll get a copy for Stan.)\n",
            "---------------------- Forwarded by Drew Fossum/ET&S/Enron on 12/20/99 04:43 \n",
            "PM ---------------------------\n",
            "############################ END OF EMAIL ################################################################\n",
            "Please forward this to all ETS lawyers.  DF\n",
            "\n",
            "All:  Please take a look at this article.  El Paso's inartful internal \n",
            "documents are creating the same kind of fun for them that Microsoft had \n",
            "during the recent antitrust unpleasantness.  I know that we can't control the \n",
            "way people think about issues such as market behavior, price strategy, etc.  \n",
            "We can, however, remind ourselves and our clients to be very precise and \n",
            "careful in the way we talk about, and particularly, write about, such \n",
            "issues.  I'd like each of us and our clients to keep problems like El Paso's \n",
            "and Microsoft's in mind when we put pen to paper or fingers to keyboard.  \n",
            "Thanks.  df       \n",
            "\n",
            "---------------------- Forwarded by Drew Fossum/ET&S/Enron on 03/27/2001 \n",
            "12:06 PM ---------------------------\n",
            "\n",
            "\n",
            "\n",
            "\n",
            "\n",
            "Business/Financial Desk; Section A\n",
            "Deal for Use of Gas Pipeline Stirs Dispute on Competition\n",
            "By RICHARD A. OPPEL Jr. and LOWELL BERGMAN\n",
            "\n",
            "03/26/2001\n",
            "The New York Times\n",
            "Page 1, Column 4\n",
            "c. 2001 New York Times Company\n",
            "\n",
            "Early last year, the El Paso Natural Gas Company took bids from two dozen \n",
            "companies for the right to ship enough natural gas through its pipeline from \n",
            "Texas and New Mexico to meet one-sixth of the daily demand of energy-starved \n",
            "California. \n",
            "The winner: El Paso's sister company, the El Paso Merchant Energy Company, \n",
            "which buys, sells and trades natural gas. The bidding was not close. El Paso \n",
            "Merchant offered twice as much for the capacity as the other companies bid, \n",
            "in total, for bits and pieces.\n",
            "Why pay so much more? California officials, who are pressing a complaint \n",
            "against El Paso at the Federal Energy Regulatory Commission, say the answer \n",
            "is simple. The state contends that El Paso Merchant, with help from its \n",
            "sister company, saw the transaction as a way to manipulate the price of \n",
            "natural gas by using its control of pipeline capacity. \n",
            "According to sealed documents obtained by The New York Times that are part of \n",
            "filings in the federal case, executives at El Paso Merchant said internally \n",
            "that the deal would give them ''more control'' of gas markets, including the \n",
            "''ability to influence the physical market'' to benefit the company's \n",
            "financial positions. \n",
            "El Paso executives called the accusations fanciful, and in a formal response \n",
            "to California's complaint, said the state ''grossly distorted'' company \n",
            "documents by quoting words and phrases out of context. \n",
            "The dispute opens a window on an important debate about oversight of the \n",
            "natural gas industry, which fuels a growing share of the nation's electric \n",
            "power plants. \n",
            "At issue is whether current safeguards do enough to prevent anticompetitive \n",
            "abuses in the marketing and trading of natural gas, and whether federal \n",
            "regulators adequately enforce existing rules. In particular, many industry \n",
            "officials question whether regulated pipeline companies are able to favor \n",
            "unregulated sister companies that trade natural gas and are free to maximize \n",
            "profits. \n",
            "More than 200,000 miles of interstate pipelines crisscross the country, \n",
            "moving natural gas from Canada, the Southwest and other producing regions to \n",
            "fuel factories, power utilities and heat houses. \n",
            "Not long ago, many parts of the country had excess pipeline capacity. But \n",
            "experts say that several regions, including California, New York and New \n",
            "England, now face constraints as demand soars for gas to fuel power plants. \n",
            "In California, state officials and utility executives said the documents in \n",
            "the federal case, and El Paso's actions, were proof that the state's energy \n",
            "crisis stemmed not just from an ill-conceived deregulation plan but from \n",
            "price manipulation and profiteering. \n",
            "''They are the market maker with this pipeline,'' said Loretta Lynch, the \n",
            "president of the California Public Utilities Commission, which has struggled \n",
            "to cope with skyrocketing power prices and supply shortages. \n",
            "El Paso ''sets the price in California,'' Ms. Lynch said, and what it did was \n",
            "intentional. ''It has affected the price,'' she said, ''for everything \n",
            "related to heat and electrical power prices in the state.'' \n",
            "California's complaint to the federal agency contends that El Paso Merchant \n",
            "''has hoarded capacity and refused to attractively price unused capacity'' on \n",
            "the pipeline. The state also charges that El Paso Natural Gas, the pipeline's \n",
            "owner, has had no incentive to spur competition, by offering discounts to \n",
            "other users, because the two companies are corporate siblings. The state said \n",
            "that El Paso had violated federal natural gas statutes that prohibit \n",
            "anticompetitive behavior. \n",
            "The sealed filings in the El Paso case indicated that the company expected to \n",
            "make money by widening the ''basis spread'' -- the difference between what \n",
            "gas can be bought for in producing basins of Texas and New Mexico, at one end \n",
            "of the pipeline, and its price on delivery to Southern California. \n",
            "As it turned out, spreads widened enormously over the last year as the price \n",
            "of gas soared in California, adding to costs for wholesale electricity that \n",
            "pushed the biggest utilities near bankruptcy. California utilities paid $6.2 \n",
            "billion above competitive prices for wholesale electricity over the last 10 \n",
            "months, state officials estimated. The utilities are not allowed to recoup \n",
            "the costs from customers. While the cost of 1,000 cubic feet of gas typically \n",
            "is less than $1 higher at the California end of the pipeline, spot prices in \n",
            "the state rose to almost $50 more than the Texas-New Mexico price in \n",
            "December. \n",
            "To executives of the parent company, the El Paso Corporation, the accusations \n",
            "of market manipulation are ludicrous. \n",
            "High gas prices in California, El Paso executives said in interviews, are \n",
            "easily explained by soaring demand, the poor credit standing of the state's \n",
            "utilities and the failure of the utilities to retain pipeline capacity or \n",
            "store enough gas for winter. \n",
            "''The idea that anybody is holding back on California is really ridiculous,'' \n",
            "said Clark C. Smith, president of El Paso Merchant's operations in North \n",
            "America. \n",
            "Some El Paso customers, though, agreed with California officials. The Pacific \n",
            "Gas & Electric Company, the San Francisco-based utility, condemned El Paso in \n",
            "a filing with the federal agency after its lawyers reviewed the sealed \n",
            "company documents. \n",
            "''It is now very clear from the business records of El Paso Energy \n",
            "Corporation,'' the utility said in the filing, ''that the business strategy \n",
            "El Paso Merchant was authorized at the highest corporate levels to pursue \n",
            "involved manipulation of price spreads.'' \n",
            "The agency has not ruled on California's complaint, which asks that the deal \n",
            "between El Paso Natural Gas and El Paso Merchant be invalidated. Based on the \n",
            "agency's history of policing energy providers lightly, many industry \n",
            "observers predicted that the complaint would be dismissed, perhaps as soon as \n",
            "the agency's public meeting on Wednesday. \n",
            "Nonetheless, El Paso Merchant is feeling some pressure. The subsidiary said \n",
            "recently that it planned to relinquish control of all but about 22 percent of \n",
            "the capacity on the pipeline to California, rather than exercise an option \n",
            "that would have allowed it to retain the entire capacity of 1.2 billion cubic \n",
            "feet of gas a day. \n",
            "Critics said they believed El Paso made the move in hopes of lessening the \n",
            "chance of government action. El Paso executives deny that but do say that \n",
            "their decision was influenced by the backlash over the arrangement. \n",
            "Surrendering the pipeline capacity made for a ''gut-wrenching'' decision, Mr. \n",
            "Smith said, but was ''a first-class gesture'' to California. El Paso Merchant \n",
            "paid $38.5 million to control the pipeline capacity from March 1, 2000, until \n",
            "May 31, 2001. While Mr. Clark said he did not know the return on that \n",
            "investment, he acknowledged that it was lucrative. \n",
            "''No doubt about it,'' Mr. Clark said, ''we made good money.'' \n",
            "The question of whether El Paso's conduct has driven gas prices higher is \n",
            "expected to be scrutinized by legislators in Sacramento this week. The \n",
            "company also faces several lawsuits, including one by the city of Los \n",
            "Angeles, that accuse it of conspiring with other companies to prevent \n",
            "pipeline projects that could have eased California's energy crisis. El Paso \n",
            "denied the accusation. \n",
            "With pipeline capacity and gas supplies tighter, concerns about \n",
            "anticompetitive behavior have increased as price volatility has created \n",
            "soaring profits for energy marketers and traders. \n",
            "Dynegy Inc., a Houston-based energy trader, was once the target of complaints \n",
            "to federal regulators that it had artificially raised prices by abusing \n",
            "capacity that it controlled on El Paso's pipeline to California. \n",
            "In a filing with regulators in January, Dynegy contended that pipeline \n",
            "companies routinely favored affiliates. ''Abuses abound because of financial \n",
            "windfalls, difficulty of detection, lengthy investigations and increased \n",
            "complexity of the market,'' the company said. \n",
            "''There are some red flags right now,'' said William L. Massey, a member of \n",
            "the Federal Energy Regulatory Commission since 1993. Mr. Massey said he was \n",
            "troubled by the potential for abuses when pipeline companies own gas and \n",
            "power marketing subsidiaries as well as electric plants fueled by natural \n",
            "gas. El Paso is in all those businesses. \n",
            "''What the commission ought to be serious about is: What are the forces at \n",
            "work? Is it simply robust markets responding to true supply-and-demand \n",
            "signals, or is it a market defined by market power and some measure of \n",
            "affiliate abuse?'' he said. \n",
            "Many in the industry do not believe changes are needed. \n",
            "''There are rules in place today that protect against affiliate abuse,'' said \n",
            "Stanley Horton, chief executive for gas pipeline operations at the Enron \n",
            "Corporation and chairman of the Interstate Natural Gas Association of \n",
            "America, the industry's trade group, referring to the rules under which \n",
            "California has brought its complaint about El Paso. \n",
            "To its critics, El Paso epitomizes the competitive concerns. It operates the \n",
            "nation's largest network of interstate pipelines and owns one of the largest \n",
            "reserves of natural gas. With its recent acquisition of the Coastal \n",
            "Corporation, another large pipeline operator, El Paso has a market \n",
            "capitalization of $32 billion. \n",
            "At a conference at El Paso headquarters in Houston in February, analysts \n",
            "heard executives predict net profits of $1.7 billion this year. El Paso's \n",
            "much better known rival, Enron, with its headquarters a few blocks away, is \n",
            "expected to earn about $1.4 billion. \n",
            "El Paso Merchant provides the strongest growth. Two years ago, the unit's \n",
            "profits, before interest payments and taxes, were $99 million; this year, it \n",
            "is expected to have $700 million in North America alone. In its latest \n",
            "quarterly report, El Paso attributed those profits, in part, to ''commodity \n",
            "market and trading margins'' that were enhanced by ''power price volatility, \n",
            "particularly in the Western United States.'' \n",
            "Critics contend that El Paso set out to exploit those conditions. According \n",
            "to the sealed filings, on Feb. 14, 2000, the day before El Paso Merchant was \n",
            "awarded the pipeline capacity, executives made a presentation to William A. \n",
            "Wise, chief executive of the parent company, laying out the rationale for the \n",
            "bid. \n",
            "The presentation outlined what it termed ''strategic advantages,'' including \n",
            "''more control of total physical markets'' and the ''ability to influence the \n",
            "physical market to the benefit of any financial/hedge position,'' according \n",
            "to the sealed filings. The passages suggested that El Paso expected the deal \n",
            "to give it sway over the market for trading actual volumes of gas and to \n",
            "support financial transactions it had entered into with other parties to \n",
            "limit its risk. \n",
            "For every one-cent increase in the spread on gas prices, the presentation \n",
            "said, El Paso Merchant stood to make an additional $2.4 million. \n",
            "Under the heading ''Challenges,'' according to the sealed filings, the \n",
            "presentation stated that storage was needed ''to help manipulate physical \n",
            "spreads, adding to the overall transport/storage cost.'' \n",
            "On April 14, according to the sealed filings, El Paso Merchant's president at \n",
            "the time, Greg G. Jenkins, wrote a memorandum to Mr. Wise involving an update \n",
            "for directors meeting later that month. The memorandum stated: ''We will make \n",
            "money two ways: 1) increase the load factor, 2) widen the basis spread.'' \n",
            "The language appears to suggest that El Paso Merchant would profit by \n",
            "increasing the gas flow in the pipeline -- the load factor -- while \n",
            "increasing the difference between what gas could be bought for at one end and \n",
            "what it could be sold for at the other end -- the basis spread. \n",
            "In an interview, Mr. Smith, the El Paso Merchant executive, said that the \n",
            "unit's prices, and profits, on bulk gas sales in California were locked in \n",
            "months in advance, so that the company could not benefit from rising prices \n",
            "in the spot market. \n",
            "Otherwise, Mr. Smith declined to provide any details about money made on the \n",
            "pipeline deal or about financial terms of the transactions that locked in \n",
            "prices ahead of time. In addition, Mr. Smith said that nearly all of El Paso \n",
            "Merchant's pipeline capacity was used every day when prices spiked late last \n",
            "year, with no capacity withheld to increase prices. \n",
            "The company did not respond last week to a request to discuss information in \n",
            "the sealed documents. But El Paso Merchant, in a filing with federal \n",
            "regulators, said California's complaint had ''misconstrued and incorrectly \n",
            "interpreted'' what it termed ''snippets of data.'' \n",
            "About This Report \n",
            "This article and others on California's energy problems are part of a joint \n",
            "effort with the PBS series ''Frontline'' that will result in a documentary \n",
            "later this year.\n",
            "\n",
            "\n",
            "Photo: The El Paso Natural Gas pipeline passes near Topock, Ariz. A dispute \n",
            "over bidding for its use has spurred a debate about oversight of the \n",
            "industry. (John Gurzinski for The New York Times)(pg. A17) Chart: ''Boom \n",
            "Times'' Operating revenue and net income soared last year at the El Paso \n",
            "Corpor 2/3ation, which sells, transports and trades natural gas. Graphs of \n",
            "the operating revenue and the net income for the El Paso Corporation. \n",
            "(Source: Company reports)(pg. A17) Chart: ''A Spike in Prices'' The spot \n",
            "price for natural gas produced in the Permian Basin of West Texas doubled \n",
            "last year. But the price that power generators paid when the gas was \n",
            "delivered to Southern California rose almost 10-fold. State regulators say \n",
            "the gap is evidence of market manipulation. Graph showing the spot price of \n",
            "gas delivered to Southern California and the spot price of gas bought in the \n",
            "Permian Basin, from September to March. (Source: Gas Daily)(pg. A17) \n",
            "\n",
            "\n",
            "Copyright , 2000 Dow Jones & Company, Inc. All Rights Reserved.\n",
            "############################ END OF EMAIL ################################################################\n",
            "---------------------- Forwarded by Gloria G Barkowsky/HOU/ECT on 01/14/2000 \n",
            "11:00 AM ---------------------------\n",
            "\n",
            "Chris - Deal #103857 in Sitara have 0 volumes expected, but actuals have come \n",
            "in\n",
            "on the direct meters.  It should show volumes in Sitara for 09/99.\n",
            "Can you correct these?  We need them done asap.  Sorry!  Let me know.\n",
            "Thanks, Gloria 3-7118\n",
            "############################ END OF EMAIL ################################################################\n",
            "I received the item.\n",
            "\n",
            "DG\n",
            "\n",
            "\n",
            "\n",
            "\n",
            "Tabitha Mohon@ENRON\n",
            "02/09/2001 02:50 PM\n",
            "To: Darron C Giron/HOU/ECT@ECT\n",
            "cc: John Chambers/Enron@EnronXGate \n",
            "Subject: PO# 21010401\n",
            "\n",
            "John/Darren,\n",
            "\n",
            "We are in the process of cleaning our files and found this purchase order is \n",
            "still open.  Could you please check to see if you have received this item(s) \n",
            "and let me know so that we can get it out of the system.\n",
            "\n",
            "Thank you,\n",
            "Tabitha\n",
            "---------------------- Forwarded by Tabitha Mohon/NA/Enron on 02/09/2001 \n",
            "02:53 PM ---------------------------\n",
            "\n",
            "ECT Hardware Request\tRequest #:ECTH-4T4MQ6\n",
            "\tRequest Status:In Process\n",
            "\n",
            "\t\t\t\tRequest information:\n",
            "Requested By:\tJohn Chambers\t\tPhone:\t713-345-3960\n",
            "Requested For:\tDarron C Giron\t\tLocation:\tEB3265D\n",
            "SAP Cost Center #:\t105614\t\tUser Mgr Approval:\tDarron C Giron\n",
            "CO #:\t5413\t\tWO # / Project #:\t\n",
            "CO Name:\t?\t\tUser Phone:\t\n",
            "Priority:\tNormal\t\tDue Date:\t\n",
            "Request Type:\tUpgrade Existing\t\tRequest Date:\t01/18/2001 10:48:14 AM\n",
            "RAM:\t\t\tCD-ROM:\t\n",
            "Docking Station:\t\t\tLocal Printer:\t\n",
            "Justification:\t\t\t\t\n",
            "User Selected HW:\t\t\t\tMaintenance kit for HP LJ 8100 DN\n",
            "P/N C3914-69001\n",
            "Price $399.00\n",
            "Vendor Eagan\n",
            "User Comments:\t\t\t\t\n",
            "\n",
            "\n",
            "Hardware selected for this request: \n",
            "Item Number\tItem Name\t\n",
            "C3914-69001\tMaintenance Kit for HP LJ 8100N\t\n",
            "\n",
            "\n",
            "\tComments and process information:\n",
            "IS Group Comments:\tDR\n",
            "Ops Group Comments:\t\n",
            "Date Completed:\t\n",
            "PO Assigned:\t\n",
            "\n",
            "\n",
            "Revision History:\tDonna Ruff\n",
            "Donna Ruff\n",
            "Donna Ruff\n",
            "Donna Ruff\t01/18/2001 04:17:37 PM\n",
            "01/18/2001 02:33:50 PM\n",
            "01/18/2001 02:33:48 PM\n",
            "01/18/2001 11:16:27 AM\n",
            "############################ END OF EMAIL ################################################################\n"
          ],
          "name": "stdout"
        }
      ]
    },
    {
      "cell_type": "markdown",
      "metadata": {
        "id": "BGDBrENhRmZK"
      },
      "source": [
        "there is one more pattern:"
      ]
    },
    {
      "cell_type": "code",
      "metadata": {
        "id": "huatm38xO2QS"
      },
      "source": [
        "def deal_forwarded_patternless(row):\n",
        "    condition = '[- ]*Forwarded by[\\S\\s]*[-]+'\n",
        "    return re.sub(condition, '', row).strip()\n",
        "df_1['content2'] = df_1.content1.map(deal_forwarded_patternless)    "
      ],
      "execution_count": null,
      "outputs": []
    },
    {
      "cell_type": "code",
      "metadata": {
        "colab": {
          "base_uri": "https://localhost:8080/"
        },
        "id": "dKOiP5PlRuyd",
        "outputId": "5bf0a750-5788-4531-b32f-7d6590c5368a"
      },
      "source": [
        "print(df_1.content2.str.contains('[- ]Forwarded by').value_counts())"
      ],
      "execution_count": null,
      "outputs": [
        {
          "output_type": "stream",
          "text": [
            "False    10000\n",
            "Name: content2, dtype: int64\n"
          ],
          "name": "stdout"
        }
      ]
    },
    {
      "cell_type": "markdown",
      "metadata": {
        "id": "-JmxPUtTRzz9"
      },
      "source": [
        "now there is no forwards in the data!. \n",
        "Again check the data"
      ]
    },
    {
      "cell_type": "code",
      "metadata": {
        "colab": {
          "base_uri": "https://localhost:8080/",
          "height": 203
        },
        "id": "7U29v_LsOGFA",
        "outputId": "1b894a56-a470-484b-8022-7a086a6d0408"
      },
      "source": [
        "df_1.head()"
      ],
      "execution_count": null,
      "outputs": [
        {
          "output_type": "execute_result",
          "data": {
            "text/html": [
              "<div>\n",
              "<style scoped>\n",
              "    .dataframe tbody tr th:only-of-type {\n",
              "        vertical-align: middle;\n",
              "    }\n",
              "\n",
              "    .dataframe tbody tr th {\n",
              "        vertical-align: top;\n",
              "    }\n",
              "\n",
              "    .dataframe thead th {\n",
              "        text-align: right;\n",
              "    }\n",
              "</style>\n",
              "<table border=\"1\" class=\"dataframe\">\n",
              "  <thead>\n",
              "    <tr style=\"text-align: right;\">\n",
              "      <th></th>\n",
              "      <th>X-Folder</th>\n",
              "      <th>body</th>\n",
              "      <th>content1</th>\n",
              "      <th>content2</th>\n",
              "    </tr>\n",
              "  </thead>\n",
              "  <tbody>\n",
              "    <tr>\n",
              "      <th>0</th>\n",
              "      <td>'sent mail</td>\n",
              "      <td>Here is our forecast\\n\\n</td>\n",
              "      <td>Here is our forecast</td>\n",
              "      <td>Here is our forecast</td>\n",
              "    </tr>\n",
              "    <tr>\n",
              "      <th>1</th>\n",
              "      <td>'sent mail</td>\n",
              "      <td>Traveling to have a business meeting takes the...</td>\n",
              "      <td>Traveling to have a business meeting takes the...</td>\n",
              "      <td>Traveling to have a business meeting takes the...</td>\n",
              "    </tr>\n",
              "    <tr>\n",
              "      <th>2</th>\n",
              "      <td>'sent mail</td>\n",
              "      <td>test successful.  way to go!!!</td>\n",
              "      <td>test successful.  way to go!!!</td>\n",
              "      <td>test successful.  way to go!!!</td>\n",
              "    </tr>\n",
              "    <tr>\n",
              "      <th>3</th>\n",
              "      <td>'sent mail</td>\n",
              "      <td>Randy,\\n\\n Can you send me a schedule of the s...</td>\n",
              "      <td>Randy,\\n\\n Can you send me a schedule of the s...</td>\n",
              "      <td>Randy,\\n\\n Can you send me a schedule of the s...</td>\n",
              "    </tr>\n",
              "    <tr>\n",
              "      <th>4</th>\n",
              "      <td>'sent mail</td>\n",
              "      <td>Let's shoot for Tuesday at 11:45.</td>\n",
              "      <td>Let's shoot for Tuesday at 11:45.</td>\n",
              "      <td>Let's shoot for Tuesday at 11:45.</td>\n",
              "    </tr>\n",
              "  </tbody>\n",
              "</table>\n",
              "</div>"
            ],
            "text/plain": [
              "     X-Folder  ...                                           content2\n",
              "0  'sent mail  ...                               Here is our forecast\n",
              "1  'sent mail  ...  Traveling to have a business meeting takes the...\n",
              "2  'sent mail  ...                     test successful.  way to go!!!\n",
              "3  'sent mail  ...  Randy,\\n\\n Can you send me a schedule of the s...\n",
              "4  'sent mail  ...                  Let's shoot for Tuesday at 11:45.\n",
              "\n",
              "[5 rows x 4 columns]"
            ]
          },
          "metadata": {
            "tags": []
          },
          "execution_count": 28
        }
      ]
    },
    {
      "cell_type": "code",
      "metadata": {
        "id": "nMexPUIjO1Di"
      },
      "source": [
        "#copy\n",
        "df_2 = df_1.copy(deep=True)"
      ],
      "execution_count": null,
      "outputs": []
    },
    {
      "cell_type": "code",
      "metadata": {
        "id": "l7EtcD-QWady"
      },
      "source": [
        "#Getting the final content2 out:\n",
        "emails = pd.DataFrame(df_2['content2'])"
      ],
      "execution_count": null,
      "outputs": []
    },
    {
      "cell_type": "code",
      "metadata": {
        "id": "j2aSUyXfg031"
      },
      "source": [
        "#Removing the emails that are empty:\n",
        "emails = emails.loc[~(emails.content2=='')]\n",
        "emails = emails.rename(columns={'content2':'body'}).reset_index(drop=True)"
      ],
      "execution_count": null,
      "outputs": []
    },
    {
      "cell_type": "code",
      "metadata": {
        "colab": {
          "base_uri": "https://localhost:8080/",
          "height": 220
        },
        "id": "7Uykb_4Ig-1x",
        "outputId": "ac3a9728-e375-4658-84aa-154456c8d0dc"
      },
      "source": [
        "print(emails.shape)\n",
        "emails.head()"
      ],
      "execution_count": null,
      "outputs": [
        {
          "output_type": "stream",
          "text": [
            "(9922, 1)\n"
          ],
          "name": "stdout"
        },
        {
          "output_type": "execute_result",
          "data": {
            "text/html": [
              "<div>\n",
              "<style scoped>\n",
              "    .dataframe tbody tr th:only-of-type {\n",
              "        vertical-align: middle;\n",
              "    }\n",
              "\n",
              "    .dataframe tbody tr th {\n",
              "        vertical-align: top;\n",
              "    }\n",
              "\n",
              "    .dataframe thead th {\n",
              "        text-align: right;\n",
              "    }\n",
              "</style>\n",
              "<table border=\"1\" class=\"dataframe\">\n",
              "  <thead>\n",
              "    <tr style=\"text-align: right;\">\n",
              "      <th></th>\n",
              "      <th>body</th>\n",
              "    </tr>\n",
              "  </thead>\n",
              "  <tbody>\n",
              "    <tr>\n",
              "      <th>0</th>\n",
              "      <td>Here is our forecast</td>\n",
              "    </tr>\n",
              "    <tr>\n",
              "      <th>1</th>\n",
              "      <td>Traveling to have a business meeting takes the...</td>\n",
              "    </tr>\n",
              "    <tr>\n",
              "      <th>2</th>\n",
              "      <td>test successful.  way to go!!!</td>\n",
              "    </tr>\n",
              "    <tr>\n",
              "      <th>3</th>\n",
              "      <td>Randy,\\n\\n Can you send me a schedule of the s...</td>\n",
              "    </tr>\n",
              "    <tr>\n",
              "      <th>4</th>\n",
              "      <td>Let's shoot for Tuesday at 11:45.</td>\n",
              "    </tr>\n",
              "  </tbody>\n",
              "</table>\n",
              "</div>"
            ],
            "text/plain": [
              "                                                body\n",
              "0                               Here is our forecast\n",
              "1  Traveling to have a business meeting takes the...\n",
              "2                     test successful.  way to go!!!\n",
              "3  Randy,\\n\\n Can you send me a schedule of the s...\n",
              "4                  Let's shoot for Tuesday at 11:45."
            ]
          },
          "metadata": {
            "tags": []
          },
          "execution_count": 28
        }
      ]
    },
    {
      "cell_type": "code",
      "metadata": {
        "colab": {
          "base_uri": "https://localhost:8080/"
        },
        "id": "bb3B95QIxE1o",
        "outputId": "17119890-119a-4386-fd02-fe29f74b0dee"
      },
      "source": [
        "emails1 = emails.drop_duplicates(subset='body', keep='first',inplace=False)\n",
        "emails1.shape"
      ],
      "execution_count": null,
      "outputs": [
        {
          "output_type": "execute_result",
          "data": {
            "text/plain": [
              "(9631, 1)"
            ]
          },
          "metadata": {
            "tags": []
          },
          "execution_count": 29
        }
      ]
    },
    {
      "cell_type": "code",
      "metadata": {
        "id": "isoscqFWLsJo"
      },
      "source": [
        "emails2 = emails1.copy(deep=True)"
      ],
      "execution_count": null,
      "outputs": []
    },
    {
      "cell_type": "code",
      "metadata": {
        "colab": {
          "base_uri": "https://localhost:8080/"
        },
        "id": "1-ZmPnpMLe9t",
        "outputId": "53ad3b32-a637-46ae-d721-d1c2c002ab30"
      },
      "source": [
        "emails.shape"
      ],
      "execution_count": null,
      "outputs": [
        {
          "output_type": "execute_result",
          "data": {
            "text/plain": [
              "(9922, 1)"
            ]
          },
          "metadata": {
            "tags": []
          },
          "execution_count": 31
        }
      ]
    },
    {
      "cell_type": "code",
      "metadata": {
        "id": "Ky4iwbaILkmU",
        "colab": {
          "base_uri": "https://localhost:8080/",
          "height": 203
        },
        "outputId": "b540a8bb-e663-4b6d-da73-ba55cafc5858"
      },
      "source": [
        "#converting uppercase into lower case\n",
        "emails2['body'] = emails2['body'].str.lower()\n",
        "emails2.head()"
      ],
      "execution_count": null,
      "outputs": [
        {
          "output_type": "execute_result",
          "data": {
            "text/html": [
              "<div>\n",
              "<style scoped>\n",
              "    .dataframe tbody tr th:only-of-type {\n",
              "        vertical-align: middle;\n",
              "    }\n",
              "\n",
              "    .dataframe tbody tr th {\n",
              "        vertical-align: top;\n",
              "    }\n",
              "\n",
              "    .dataframe thead th {\n",
              "        text-align: right;\n",
              "    }\n",
              "</style>\n",
              "<table border=\"1\" class=\"dataframe\">\n",
              "  <thead>\n",
              "    <tr style=\"text-align: right;\">\n",
              "      <th></th>\n",
              "      <th>body</th>\n",
              "    </tr>\n",
              "  </thead>\n",
              "  <tbody>\n",
              "    <tr>\n",
              "      <th>0</th>\n",
              "      <td>here is our forecast</td>\n",
              "    </tr>\n",
              "    <tr>\n",
              "      <th>1</th>\n",
              "      <td>traveling to have a business meeting takes the...</td>\n",
              "    </tr>\n",
              "    <tr>\n",
              "      <th>2</th>\n",
              "      <td>test successful.  way to go!!!</td>\n",
              "    </tr>\n",
              "    <tr>\n",
              "      <th>3</th>\n",
              "      <td>randy,\\n\\n can you send me a schedule of the s...</td>\n",
              "    </tr>\n",
              "    <tr>\n",
              "      <th>4</th>\n",
              "      <td>let's shoot for tuesday at 11:45.</td>\n",
              "    </tr>\n",
              "  </tbody>\n",
              "</table>\n",
              "</div>"
            ],
            "text/plain": [
              "                                                body\n",
              "0                               here is our forecast\n",
              "1  traveling to have a business meeting takes the...\n",
              "2                     test successful.  way to go!!!\n",
              "3  randy,\\n\\n can you send me a schedule of the s...\n",
              "4                  let's shoot for tuesday at 11:45."
            ]
          },
          "metadata": {
            "tags": []
          },
          "execution_count": 32
        }
      ]
    },
    {
      "cell_type": "code",
      "metadata": {
        "id": "tvUMhX6NYaVZ",
        "colab": {
          "base_uri": "https://localhost:8080/",
          "height": 203
        },
        "outputId": "3da575a7-c921-4772-dec0-53343b8e08a5"
      },
      "source": [
        "#converting uppercase into lower case\n",
        "emails['body'] = emails['body'].str.lower()\n",
        "emails.head()"
      ],
      "execution_count": null,
      "outputs": [
        {
          "output_type": "execute_result",
          "data": {
            "text/html": [
              "<div>\n",
              "<style scoped>\n",
              "    .dataframe tbody tr th:only-of-type {\n",
              "        vertical-align: middle;\n",
              "    }\n",
              "\n",
              "    .dataframe tbody tr th {\n",
              "        vertical-align: top;\n",
              "    }\n",
              "\n",
              "    .dataframe thead th {\n",
              "        text-align: right;\n",
              "    }\n",
              "</style>\n",
              "<table border=\"1\" class=\"dataframe\">\n",
              "  <thead>\n",
              "    <tr style=\"text-align: right;\">\n",
              "      <th></th>\n",
              "      <th>body</th>\n",
              "    </tr>\n",
              "  </thead>\n",
              "  <tbody>\n",
              "    <tr>\n",
              "      <th>0</th>\n",
              "      <td>here is our forecast</td>\n",
              "    </tr>\n",
              "    <tr>\n",
              "      <th>1</th>\n",
              "      <td>traveling to have a business meeting takes the...</td>\n",
              "    </tr>\n",
              "    <tr>\n",
              "      <th>2</th>\n",
              "      <td>test successful.  way to go!!!</td>\n",
              "    </tr>\n",
              "    <tr>\n",
              "      <th>3</th>\n",
              "      <td>randy,\\n\\n can you send me a schedule of the s...</td>\n",
              "    </tr>\n",
              "    <tr>\n",
              "      <th>4</th>\n",
              "      <td>let's shoot for tuesday at 11:45.</td>\n",
              "    </tr>\n",
              "  </tbody>\n",
              "</table>\n",
              "</div>"
            ],
            "text/plain": [
              "                                                body\n",
              "0                               here is our forecast\n",
              "1  traveling to have a business meeting takes the...\n",
              "2                     test successful.  way to go!!!\n",
              "3  randy,\\n\\n can you send me a schedule of the s...\n",
              "4                  let's shoot for tuesday at 11:45."
            ]
          },
          "metadata": {
            "tags": []
          },
          "execution_count": 33
        }
      ]
    },
    {
      "cell_type": "code",
      "metadata": {
        "id": "owymhe-OZehZ"
      },
      "source": [
        "#remove contracted\n",
        "def change_contracted_words(body):\n",
        "  column = []\n",
        "  Apos_dict={\"'s\":\" is\",\"n't\":\" not\",\"'m\":\" am\",\"'ll\":\" will\",\n",
        "             \"'d\":\" would\",\"'ve\":\" have\",\"'re\":\" are\"}\n",
        "  \n",
        "  for file in emails['body']:\n",
        "    for key,value in Apos_dict.items():\n",
        "      if key in file:\n",
        "        file = file.replace(key,value)\n",
        "    column.append(file)\n",
        "  \n",
        "  return column"
      ],
      "execution_count": null,
      "outputs": []
    },
    {
      "cell_type": "code",
      "metadata": {
        "id": "X_SH0f8EMawP"
      },
      "source": [
        "emails['body'] = change_contracted_words(emails['body'])"
      ],
      "execution_count": null,
      "outputs": []
    },
    {
      "cell_type": "code",
      "metadata": {
        "id": "lfd-qbdzMAq0"
      },
      "source": [
        "#remove contracted\n",
        "def change_contracted_words(body):\n",
        "  column = []\n",
        "  Apos_dict={\"'s\":\" is\",\"n't\":\" not\",\"'m\":\" am\",\"'ll\":\" will\",\n",
        "             \"'d\":\" would\",\"'ve\":\" have\",\"'re\":\" are\"}\n",
        "  \n",
        "  for file in emails2['body']:\n",
        "    for key,value in Apos_dict.items():\n",
        "      if key in file:\n",
        "        file = file.replace(key,value)\n",
        "    column.append(file)\n",
        "  \n",
        "  return column"
      ],
      "execution_count": null,
      "outputs": []
    },
    {
      "cell_type": "code",
      "metadata": {
        "id": "A08vtFe9Zkfy"
      },
      "source": [
        "emails2['body'] = change_contracted_words(emails2['body'])"
      ],
      "execution_count": null,
      "outputs": []
    },
    {
      "cell_type": "code",
      "metadata": {
        "colab": {
          "base_uri": "https://localhost:8080/"
        },
        "id": "_TNtHR9fM45f",
        "outputId": "b0e2652f-b2a5-41df-ec13-0d40098661e5"
      },
      "source": [
        "print(emails.shape)\n",
        "print(emails2.shape)"
      ],
      "execution_count": null,
      "outputs": [
        {
          "output_type": "stream",
          "text": [
            "(9922, 1)\n",
            "(9631, 1)\n"
          ],
          "name": "stdout"
        }
      ]
    },
    {
      "cell_type": "code",
      "metadata": {
        "id": "QYSIb2G12Tg0"
      },
      "source": [
        "def remove_duplicates(row):\n",
        "    condition = '[a-zA-Z]+(@|\\.)[a-zA-Z.]+'\n",
        "    return re.sub(condition, '', str(row)).strip()"
      ],
      "execution_count": null,
      "outputs": []
    },
    {
      "cell_type": "code",
      "metadata": {
        "id": "UGDG3HJ3mAWo"
      },
      "source": [
        "emails['body'] = emails.body.map(remove_duplicates)"
      ],
      "execution_count": null,
      "outputs": []
    },
    {
      "cell_type": "code",
      "metadata": {
        "id": "qVKEpkLdZoc7"
      },
      "source": [
        "! pip install texthero"
      ],
      "execution_count": null,
      "outputs": []
    },
    {
      "cell_type": "code",
      "metadata": {
        "id": "pC8KSSm0ZtGh",
        "colab": {
          "base_uri": "https://localhost:8080/"
        },
        "outputId": "72e41126-c8e2-4a3a-e0c5-023306ecb075"
      },
      "source": [
        "import texthero as hero"
      ],
      "execution_count": null,
      "outputs": [
        {
          "output_type": "stream",
          "text": [
            "[nltk_data] Downloading package stopwords to /root/nltk_data...\n",
            "[nltk_data]   Unzipping corpora/stopwords.zip.\n"
          ],
          "name": "stderr"
        }
      ]
    },
    {
      "cell_type": "code",
      "metadata": {
        "id": "4aOXtI3UZxgy"
      },
      "source": [
        "emails['body'] = hero.remove_urls(emails['body'])"
      ],
      "execution_count": null,
      "outputs": []
    },
    {
      "cell_type": "code",
      "metadata": {
        "id": "GbcKcIYMN4o4"
      },
      "source": [
        "emails2['body'] = hero.remove_urls(emails2['body'])"
      ],
      "execution_count": null,
      "outputs": []
    },
    {
      "cell_type": "code",
      "metadata": {
        "id": "AoLn1rUCmRux"
      },
      "source": [
        "emails['body'] = hero.remove_html_tags(emails['body'])"
      ],
      "execution_count": null,
      "outputs": []
    },
    {
      "cell_type": "code",
      "metadata": {
        "id": "seFHcUd7OBXk"
      },
      "source": [
        "emails2['body'] = hero.remove_html_tags(emails2['body'])"
      ],
      "execution_count": null,
      "outputs": []
    },
    {
      "cell_type": "code",
      "metadata": {
        "id": "V0xikZIrmZhM"
      },
      "source": [
        "emails['body'] = hero.remove_digits(emails['body'])"
      ],
      "execution_count": null,
      "outputs": []
    },
    {
      "cell_type": "code",
      "metadata": {
        "id": "Sf_4OIp7OGce"
      },
      "source": [
        "emails2['body'] = hero.remove_digits(emails2['body'])"
      ],
      "execution_count": null,
      "outputs": []
    },
    {
      "cell_type": "code",
      "metadata": {
        "id": "_nKrA7U6meO-"
      },
      "source": [
        "emails['body'] = hero.remove_punctuation(emails['body'])"
      ],
      "execution_count": null,
      "outputs": []
    },
    {
      "cell_type": "code",
      "metadata": {
        "id": "86O9KdLpOMPV"
      },
      "source": [
        "emails2['body'] = hero.remove_punctuation(emails2['body'])"
      ],
      "execution_count": null,
      "outputs": []
    },
    {
      "cell_type": "code",
      "metadata": {
        "id": "PoCUUUOwmkQU"
      },
      "source": [
        "emails['body'] = hero.remove_brackets(emails['body'])"
      ],
      "execution_count": null,
      "outputs": []
    },
    {
      "cell_type": "code",
      "metadata": {
        "id": "S4nQHxEdOR28"
      },
      "source": [
        "emails2['body'] = hero.remove_brackets(emails2['body'])"
      ],
      "execution_count": null,
      "outputs": []
    },
    {
      "cell_type": "code",
      "metadata": {
        "id": "i3kJkFkfmotm"
      },
      "source": [
        "emails['body'] = hero.remove_diacritics(emails['body'])"
      ],
      "execution_count": null,
      "outputs": []
    },
    {
      "cell_type": "code",
      "metadata": {
        "id": "tUAVfPJOOY-F"
      },
      "source": [
        "emails2['body'] = hero.remove_diacritics(emails2['body'])"
      ],
      "execution_count": null,
      "outputs": []
    },
    {
      "cell_type": "code",
      "metadata": {
        "id": "U3epR8U9muXe"
      },
      "source": [
        "emails['body'] = hero.remove_whitespace(emails['body'])"
      ],
      "execution_count": null,
      "outputs": []
    },
    {
      "cell_type": "code",
      "metadata": {
        "id": "wUB4YxnD1hj2"
      },
      "source": [
        ""
      ],
      "execution_count": null,
      "outputs": []
    },
    {
      "cell_type": "code",
      "metadata": {
        "id": "yeXeV1YKOfKk"
      },
      "source": [
        "emails2['body'] = hero.remove_whitespace(emails2['body'])"
      ],
      "execution_count": null,
      "outputs": []
    },
    {
      "cell_type": "code",
      "metadata": {
        "id": "3HQWAfyZQ4Eu"
      },
      "source": [
        "emails['body'].isnull().sum()"
      ],
      "execution_count": null,
      "outputs": []
    },
    {
      "cell_type": "code",
      "metadata": {
        "colab": {
          "base_uri": "https://localhost:8080/"
        },
        "id": "6Bv-nb54h6-I",
        "outputId": "de537d09-03d4-40fa-b034-e5279d31472c"
      },
      "source": [
        "emails.shape #without duplicate,with removing duplicate words"
      ],
      "execution_count": null,
      "outputs": [
        {
          "output_type": "execute_result",
          "data": {
            "text/plain": [
              "(9922, 1)"
            ]
          },
          "metadata": {
            "tags": []
          },
          "execution_count": 57
        }
      ]
    },
    {
      "cell_type": "code",
      "metadata": {
        "colab": {
          "base_uri": "https://localhost:8080/"
        },
        "id": "8fofniuAOloO",
        "outputId": "a3488df7-5100-4788-c648-0660568b6411"
      },
      "source": [
        "emails2.shape #with removing duplicates, without removing duplicate words"
      ],
      "execution_count": null,
      "outputs": [
        {
          "output_type": "execute_result",
          "data": {
            "text/plain": [
              "(9631, 1)"
            ]
          },
          "metadata": {
            "tags": []
          },
          "execution_count": 58
        }
      ]
    },
    {
      "cell_type": "code",
      "metadata": {
        "id": "iVJVSXl8ihUa"
      },
      "source": [
        "emails_1 = emails.copy(deep=True)"
      ],
      "execution_count": null,
      "outputs": []
    },
    {
      "cell_type": "code",
      "metadata": {
        "id": "Fd6rTe9pPDq2"
      },
      "source": [
        "emails_2 = emails2.copy(deep=True)"
      ],
      "execution_count": null,
      "outputs": []
    },
    {
      "cell_type": "markdown",
      "metadata": {
        "id": "LZBXfyGv2doi"
      },
      "source": [
        "Model building"
      ]
    },
    {
      "cell_type": "code",
      "metadata": {
        "id": "oIW5XFuorGkn"
      },
      "source": [
        "import gensim\n",
        "import gensim.corpora as corpora\n",
        "from gensim.utils import simple_preprocess\n",
        "from gensim.models import CoherenceModel\n",
        "from gensim.models.phrases import Phrases, Phraser"
      ],
      "execution_count": null,
      "outputs": []
    },
    {
      "cell_type": "code",
      "metadata": {
        "colab": {
          "base_uri": "https://localhost:8080/"
        },
        "id": "hi7qDJuUuBWO",
        "outputId": "550a808a-353e-45d0-b734-132427262548"
      },
      "source": [
        "#Tokenization\n",
        "import nltk\n",
        "nltk.download('punkt')\n",
        "from nltk.tokenize import word_tokenize\n",
        "# NLTK Stop words\n",
        "nltk.download('stopwords')\n",
        "from nltk.corpus import stopwords\n",
        "#spacy for lemmatization\n",
        "import spacy"
      ],
      "execution_count": null,
      "outputs": [
        {
          "output_type": "stream",
          "text": [
            "[nltk_data] Downloading package punkt to /root/nltk_data...\n",
            "[nltk_data]   Unzipping tokenizers/punkt.zip.\n",
            "[nltk_data] Downloading package stopwords to /root/nltk_data...\n",
            "[nltk_data]   Package stopwords is already up-to-date!\n"
          ],
          "name": "stderr"
        }
      ]
    },
    {
      "cell_type": "code",
      "metadata": {
        "colab": {
          "base_uri": "https://localhost:8080/",
          "height": 417
        },
        "id": "-JOuU_joinFj",
        "outputId": "730f20eb-4ad1-4389-c313-1d0ea296624e"
      },
      "source": [
        "emails_1['nltk_tokens'] = emails_1['body'].map(lambda r: word_tokenize(r))\n",
        "emails_1"
      ],
      "execution_count": null,
      "outputs": [
        {
          "output_type": "execute_result",
          "data": {
            "text/html": [
              "<div>\n",
              "<style scoped>\n",
              "    .dataframe tbody tr th:only-of-type {\n",
              "        vertical-align: middle;\n",
              "    }\n",
              "\n",
              "    .dataframe tbody tr th {\n",
              "        vertical-align: top;\n",
              "    }\n",
              "\n",
              "    .dataframe thead th {\n",
              "        text-align: right;\n",
              "    }\n",
              "</style>\n",
              "<table border=\"1\" class=\"dataframe\">\n",
              "  <thead>\n",
              "    <tr style=\"text-align: right;\">\n",
              "      <th></th>\n",
              "      <th>body</th>\n",
              "      <th>nltk_tokens</th>\n",
              "    </tr>\n",
              "  </thead>\n",
              "  <tbody>\n",
              "    <tr>\n",
              "      <th>0</th>\n",
              "      <td>here is our forecast</td>\n",
              "      <td>[here, is, our, forecast]</td>\n",
              "    </tr>\n",
              "    <tr>\n",
              "      <th>1</th>\n",
              "      <td>traveling to have a business meeting takes the...</td>\n",
              "      <td>[traveling, to, have, a, business, meeting, ta...</td>\n",
              "    </tr>\n",
              "    <tr>\n",
              "      <th>2</th>\n",
              "      <td>test successful way to go</td>\n",
              "      <td>[test, successful, way, to, go]</td>\n",
              "    </tr>\n",
              "    <tr>\n",
              "      <th>3</th>\n",
              "      <td>randy can you send me a schedule of the salary...</td>\n",
              "      <td>[randy, can, you, send, me, a, schedule, of, t...</td>\n",
              "    </tr>\n",
              "    <tr>\n",
              "      <th>4</th>\n",
              "      <td>let is shoot for tuesday at</td>\n",
              "      <td>[let, is, shoot, for, tuesday, at]</td>\n",
              "    </tr>\n",
              "    <tr>\n",
              "      <th>...</th>\n",
              "      <td>...</td>\n",
              "      <td>...</td>\n",
              "    </tr>\n",
              "    <tr>\n",
              "      <th>9917</th>\n",
              "      <td>rick unfortunately i had to cancel i had a sic...</td>\n",
              "      <td>[rick, unfortunately, i, had, to, cancel, i, h...</td>\n",
              "    </tr>\n",
              "    <tr>\n",
              "      <th>9918</th>\n",
              "      <td>hi guys here is a spreadsheet with the list of...</td>\n",
              "      <td>[hi, guys, here, is, a, spreadsheet, with, the...</td>\n",
              "    </tr>\n",
              "    <tr>\n",
              "      <th>9919</th>\n",
              "      <td>i think everyone got the list make sure we are...</td>\n",
              "      <td>[i, think, everyone, got, the, list, make, sur...</td>\n",
              "    </tr>\n",
              "    <tr>\n",
              "      <th>9920</th>\n",
              "      <td>troy i am out of the office this morning i wil...</td>\n",
              "      <td>[troy, i, am, out, of, the, office, this, morn...</td>\n",
              "    </tr>\n",
              "    <tr>\n",
              "      <th>9921</th>\n",
              "      <td>shawn unfortunately i am out of the office thi...</td>\n",
              "      <td>[shawn, unfortunately, i, am, out, of, the, of...</td>\n",
              "    </tr>\n",
              "  </tbody>\n",
              "</table>\n",
              "<p>9922 rows × 2 columns</p>\n",
              "</div>"
            ],
            "text/plain": [
              "                                                   body                                        nltk_tokens\n",
              "0                                  here is our forecast                          [here, is, our, forecast]\n",
              "1     traveling to have a business meeting takes the...  [traveling, to, have, a, business, meeting, ta...\n",
              "2                             test successful way to go                    [test, successful, way, to, go]\n",
              "3     randy can you send me a schedule of the salary...  [randy, can, you, send, me, a, schedule, of, t...\n",
              "4                           let is shoot for tuesday at                 [let, is, shoot, for, tuesday, at]\n",
              "...                                                 ...                                                ...\n",
              "9917  rick unfortunately i had to cancel i had a sic...  [rick, unfortunately, i, had, to, cancel, i, h...\n",
              "9918  hi guys here is a spreadsheet with the list of...  [hi, guys, here, is, a, spreadsheet, with, the...\n",
              "9919  i think everyone got the list make sure we are...  [i, think, everyone, got, the, list, make, sur...\n",
              "9920  troy i am out of the office this morning i wil...  [troy, i, am, out, of, the, office, this, morn...\n",
              "9921  shawn unfortunately i am out of the office thi...  [shawn, unfortunately, i, am, out, of, the, of...\n",
              "\n",
              "[9922 rows x 2 columns]"
            ]
          },
          "metadata": {
            "tags": []
          },
          "execution_count": 63
        }
      ]
    },
    {
      "cell_type": "code",
      "metadata": {
        "colab": {
          "base_uri": "https://localhost:8080/",
          "height": 417
        },
        "id": "AqzHW6a8PUqh",
        "outputId": "f5f53d11-e6df-4bf3-b4d6-9cefd28f440f"
      },
      "source": [
        "emails_2['nltk_tokens'] = emails_2['body'].map(lambda r: word_tokenize(r))\n",
        "emails_2"
      ],
      "execution_count": null,
      "outputs": [
        {
          "output_type": "execute_result",
          "data": {
            "text/html": [
              "<div>\n",
              "<style scoped>\n",
              "    .dataframe tbody tr th:only-of-type {\n",
              "        vertical-align: middle;\n",
              "    }\n",
              "\n",
              "    .dataframe tbody tr th {\n",
              "        vertical-align: top;\n",
              "    }\n",
              "\n",
              "    .dataframe thead th {\n",
              "        text-align: right;\n",
              "    }\n",
              "</style>\n",
              "<table border=\"1\" class=\"dataframe\">\n",
              "  <thead>\n",
              "    <tr style=\"text-align: right;\">\n",
              "      <th></th>\n",
              "      <th>body</th>\n",
              "      <th>nltk_tokens</th>\n",
              "    </tr>\n",
              "  </thead>\n",
              "  <tbody>\n",
              "    <tr>\n",
              "      <th>0</th>\n",
              "      <td>here is our forecast</td>\n",
              "      <td>[here, is, our, forecast]</td>\n",
              "    </tr>\n",
              "    <tr>\n",
              "      <th>1</th>\n",
              "      <td>traveling to have a business meeting takes the...</td>\n",
              "      <td>[traveling, to, have, a, business, meeting, ta...</td>\n",
              "    </tr>\n",
              "    <tr>\n",
              "      <th>2</th>\n",
              "      <td>test successful way to go</td>\n",
              "      <td>[test, successful, way, to, go]</td>\n",
              "    </tr>\n",
              "    <tr>\n",
              "      <th>3</th>\n",
              "      <td>randy can you send me a schedule of the salary...</td>\n",
              "      <td>[randy, can, you, send, me, a, schedule, of, t...</td>\n",
              "    </tr>\n",
              "    <tr>\n",
              "      <th>4</th>\n",
              "      <td>let is shoot for tuesday at</td>\n",
              "      <td>[let, is, shoot, for, tuesday, at]</td>\n",
              "    </tr>\n",
              "    <tr>\n",
              "      <th>...</th>\n",
              "      <td>...</td>\n",
              "      <td>...</td>\n",
              "    </tr>\n",
              "    <tr>\n",
              "      <th>9917</th>\n",
              "      <td>rick unfortunately i had to cancel i had a sic...</td>\n",
              "      <td>[rick, unfortunately, i, had, to, cancel, i, h...</td>\n",
              "    </tr>\n",
              "    <tr>\n",
              "      <th>9918</th>\n",
              "      <td>hi guys here is a spreadsheet with the list of...</td>\n",
              "      <td>[hi, guys, here, is, a, spreadsheet, with, the...</td>\n",
              "    </tr>\n",
              "    <tr>\n",
              "      <th>9919</th>\n",
              "      <td>i think everyone got the list make sure we are...</td>\n",
              "      <td>[i, think, everyone, got, the, list, make, sur...</td>\n",
              "    </tr>\n",
              "    <tr>\n",
              "      <th>9920</th>\n",
              "      <td>troy i am out of the office this morning i wil...</td>\n",
              "      <td>[troy, i, am, out, of, the, office, this, morn...</td>\n",
              "    </tr>\n",
              "    <tr>\n",
              "      <th>9921</th>\n",
              "      <td>shawn unfortunately i am out of the office thi...</td>\n",
              "      <td>[shawn, unfortunately, i, am, out, of, the, of...</td>\n",
              "    </tr>\n",
              "  </tbody>\n",
              "</table>\n",
              "<p>9631 rows × 2 columns</p>\n",
              "</div>"
            ],
            "text/plain": [
              "                                                   body                                        nltk_tokens\n",
              "0                                  here is our forecast                          [here, is, our, forecast]\n",
              "1     traveling to have a business meeting takes the...  [traveling, to, have, a, business, meeting, ta...\n",
              "2                             test successful way to go                    [test, successful, way, to, go]\n",
              "3     randy can you send me a schedule of the salary...  [randy, can, you, send, me, a, schedule, of, t...\n",
              "4                           let is shoot for tuesday at                 [let, is, shoot, for, tuesday, at]\n",
              "...                                                 ...                                                ...\n",
              "9917  rick unfortunately i had to cancel i had a sic...  [rick, unfortunately, i, had, to, cancel, i, h...\n",
              "9918  hi guys here is a spreadsheet with the list of...  [hi, guys, here, is, a, spreadsheet, with, the...\n",
              "9919  i think everyone got the list make sure we are...  [i, think, everyone, got, the, list, make, sur...\n",
              "9920  troy i am out of the office this morning i wil...  [troy, i, am, out, of, the, office, this, morn...\n",
              "9921  shawn unfortunately i am out of the office thi...  [shawn, unfortunately, i, am, out, of, the, of...\n",
              "\n",
              "[9631 rows x 2 columns]"
            ]
          },
          "metadata": {
            "tags": []
          },
          "execution_count": 64
        }
      ]
    },
    {
      "cell_type": "code",
      "metadata": {
        "id": "N7S6iiLpi2c1"
      },
      "source": [
        "data_words = emails_1['nltk_tokens'].values.tolist()"
      ],
      "execution_count": null,
      "outputs": []
    },
    {
      "cell_type": "code",
      "metadata": {
        "id": "giIujFDPQSgy"
      },
      "source": [
        "data_words_1 = emails_2['nltk_tokens'].values.tolist()"
      ],
      "execution_count": null,
      "outputs": []
    },
    {
      "cell_type": "code",
      "metadata": {
        "id": "JdcQdXr1jvuE"
      },
      "source": [
        "# Build the bigram and trigram models\n",
        "bigram = gensim.models.Phrases(data_words, min_count=5, threshold=100) # higher threshold fewer phrases.\n",
        "trigram = gensim.models.Phrases(bigram[data_words], threshold=100)"
      ],
      "execution_count": null,
      "outputs": []
    },
    {
      "cell_type": "code",
      "metadata": {
        "id": "q28dpukDQbnC"
      },
      "source": [
        "# Build the bigram and trigram models\n",
        "bigram_1 = gensim.models.Phrases(data_words_1, min_count=5, threshold=100) # higher threshold fewer phrases.\n",
        "trigram_1 = gensim.models.Phrases(bigram_1[data_words_1], threshold=100)"
      ],
      "execution_count": null,
      "outputs": []
    },
    {
      "cell_type": "code",
      "metadata": {
        "id": "VMazvv6J5Vm1"
      },
      "source": [
        "bigram_mod = Phraser(bigram)\n",
        "trigram_mod = Phraser(trigram)"
      ],
      "execution_count": null,
      "outputs": []
    },
    {
      "cell_type": "code",
      "metadata": {
        "id": "HiHENPlsQplq"
      },
      "source": [
        "bigram_mod_1 = Phraser(bigram_1)\n",
        "trigram_mod_1 = Phraser(trigram_1)"
      ],
      "execution_count": null,
      "outputs": []
    },
    {
      "cell_type": "code",
      "metadata": {
        "id": "fTB2Nt3TcdkT"
      },
      "source": [
        "# Define functions for stopwords, bigrams, trigrams and lemmatization\n",
        "def remove_stopwords(texts):\n",
        "    return [[word for word in simple_preprocess(str(doc)) if word not in stop_words] for doc in texts]\n",
        "def make_bigrams(texts):\n",
        "    return [bigram_mod[doc] for doc in texts]\n",
        "def make_trigrams(texts):\n",
        "    return [trigram_mod[bigram_mod[doc]] for doc in texts]"
      ],
      "execution_count": null,
      "outputs": []
    },
    {
      "cell_type": "code",
      "metadata": {
        "id": "fgFg-NvAQ72O"
      },
      "source": [
        "# Define functions for stopwords, bigrams, trigrams and lemmatization\n",
        "def remove_stopwords(texts):\n",
        "    return [[word for word in simple_preprocess(str(doc)) if word not in stop_words] for doc in texts]\n",
        "def make_bigrams(texts):\n",
        "    return [bigram_mod_1[doc] for doc in texts]\n",
        "def make_trigrams(texts):\n",
        "    return [trigram_mod_1[bigram_mod_1[doc]] for doc in texts]"
      ],
      "execution_count": null,
      "outputs": []
    },
    {
      "cell_type": "code",
      "metadata": {
        "id": "kz9s-1SPcjo0"
      },
      "source": [
        "def lemmatization(texts, allowed_postags=['NOUN', 'ADJ','VERB','ADV']):\n",
        "    \"\"\"https://spacy.io/api/annotation\"\"\"\n",
        "    texts_out = []\n",
        "    for sent in texts:\n",
        "        doc = nlp(\" \".join(sent)) \n",
        "        texts_out.append([token.lemma_ for token in doc if token.pos_ in allowed_postags])\n",
        "    return texts_out"
      ],
      "execution_count": null,
      "outputs": []
    },
    {
      "cell_type": "code",
      "metadata": {
        "id": "BIRuW0Svr3lS"
      },
      "source": [
        "stop_words = stopwords.words('english')"
      ],
      "execution_count": null,
      "outputs": []
    },
    {
      "cell_type": "code",
      "metadata": {
        "id": "8XML6NcGke44"
      },
      "source": [
        "# Remove Stop Words\n",
        "data_stopwords = remove_stopwords(data_words)"
      ],
      "execution_count": null,
      "outputs": []
    },
    {
      "cell_type": "code",
      "metadata": {
        "id": "BO8Z_dtMRIa9"
      },
      "source": [
        "# Remove Stop Words\n",
        "data_words_nostops_1 = remove_stopwords(data_words_1)"
      ],
      "execution_count": null,
      "outputs": []
    },
    {
      "cell_type": "code",
      "metadata": {
        "id": "xpqocTWAc9_k"
      },
      "source": [
        "# Form Bigrams\n",
        "bigram_words = make_bigrams(data_stopwords)"
      ],
      "execution_count": null,
      "outputs": []
    },
    {
      "cell_type": "code",
      "metadata": {
        "id": "maP5NkiBRPrP"
      },
      "source": [
        "# Form Bigrams\n",
        "data_words_bigrams_1 = make_bigrams(data_words_nostops_1)"
      ],
      "execution_count": null,
      "outputs": []
    },
    {
      "cell_type": "code",
      "metadata": {
        "id": "3X7vwTe6dr9M"
      },
      "source": [
        "# Initialize spacy 'en' model, keeping only tagger component (for efficiency)\n",
        "nlp = spacy.load(\"en\", disable=['parser', 'ner'])"
      ],
      "execution_count": null,
      "outputs": []
    },
    {
      "cell_type": "code",
      "metadata": {
        "id": "96tM1c_7d0PM"
      },
      "source": [
        "# Do lemmatization keeping only noun, adj, vb, adv\n",
        "data_lemmatized = lemmatization(bigram_words, allowed_postags=['NOUN', 'ADJ', 'VERB', 'ADV'])"
      ],
      "execution_count": null,
      "outputs": []
    },
    {
      "cell_type": "code",
      "metadata": {
        "id": "j-6ktHSCRX1E"
      },
      "source": [
        "# Do lemmatization keeping only noun, adj, vb, adv\n",
        "data_lemmatized_1 = lemmatization(data_words_bigrams_1, allowed_postags=['NOUN', 'ADJ', 'VERB', 'ADV'])"
      ],
      "execution_count": null,
      "outputs": []
    },
    {
      "cell_type": "code",
      "metadata": {
        "id": "ZHYC1hWueQE7"
      },
      "source": [
        "# Create Dictionary\n",
        "id2word = corpora.Dictionary(data_lemmatized)"
      ],
      "execution_count": null,
      "outputs": []
    },
    {
      "cell_type": "code",
      "metadata": {
        "id": "OvT7-4x2RoT-"
      },
      "source": [
        "# Create Dictionary\n",
        "id2word_1 = corpora.Dictionary(data_lemmatized_1)"
      ],
      "execution_count": null,
      "outputs": []
    },
    {
      "cell_type": "code",
      "metadata": {
        "id": "LwAwJGWjeT80"
      },
      "source": [
        "#Create Corpus\n",
        "texts = data_lemmatized"
      ],
      "execution_count": null,
      "outputs": []
    },
    {
      "cell_type": "code",
      "metadata": {
        "id": "sIlMq_-WRyDo"
      },
      "source": [
        "#Create Corpus\n",
        "texts_1 = data_lemmatized_1"
      ],
      "execution_count": null,
      "outputs": []
    },
    {
      "cell_type": "code",
      "metadata": {
        "id": "m0LtneTNeYCc"
      },
      "source": [
        "#Term Document Frequency\n",
        "corpus = [id2word.doc2bow(text) for text in texts]"
      ],
      "execution_count": null,
      "outputs": []
    },
    {
      "cell_type": "code",
      "metadata": {
        "id": "ePUg77s8R4xf"
      },
      "source": [
        "#Term Document Frequency\n",
        "corpus_1 = [id2word_1.doc2bow(text) for text in texts]"
      ],
      "execution_count": null,
      "outputs": []
    },
    {
      "cell_type": "code",
      "metadata": {
        "id": "o7RrcXa-ecSS"
      },
      "source": [
        "# Build LDA model\n",
        "lda_model = gensim.models.ldamodel.LdaModel(corpus=corpus,\n",
        "                                            id2word=id2word,\n",
        "                                            num_topics=10, \n",
        "                                            random_state=100,\n",
        "                                            update_every=1,\n",
        "                                            chunksize=100,\n",
        "                                            passes=10,\n",
        "                                            alpha='auto',\n",
        "                                            per_word_topics=True)"
      ],
      "execution_count": null,
      "outputs": []
    },
    {
      "cell_type": "code",
      "metadata": {
        "id": "86e-XfCZrQIV"
      },
      "source": [
        "lda_model_2 = gensim.models.ldamodel.LdaModel(corpus=corpus,\n",
        "                                            id2word=id2word,\n",
        "                                            num_topics=10, \n",
        "                                            random_state=100,\n",
        "                                            update_every=1,\n",
        "                                            chunksize=100,\n",
        "                                            passes=50,\n",
        "                                            alpha='auto',\n",
        "                                            per_word_topics=True)"
      ],
      "execution_count": null,
      "outputs": []
    },
    {
      "cell_type": "code",
      "metadata": {
        "id": "ZiOXMjKLrl_w"
      },
      "source": [
        "lda_model_21 = gensim.models.ldamodel.LdaModel(corpus=corpus,\n",
        "                                            id2word=id2word,\n",
        "                                            num_topics=10,\n",
        "                                            passes=50)"
      ],
      "execution_count": null,
      "outputs": []
    },
    {
      "cell_type": "code",
      "metadata": {
        "id": "NLNv3QZ_R-hn"
      },
      "source": [
        "# Build LDA model\n",
        "lda_model_1 = gensim.models.ldamodel.LdaModel(corpus=corpus_1,\n",
        "                                            id2word=id2word_1,\n",
        "                                            num_topics=10, \n",
        "                                            random_state=100,\n",
        "                                            update_every=1,\n",
        "                                            chunksize=100,\n",
        "                                            passes=10,\n",
        "                                            alpha='auto',\n",
        "                                            per_word_topics=True)"
      ],
      "execution_count": null,
      "outputs": []
    },
    {
      "cell_type": "code",
      "metadata": {
        "id": "ZxegrWnivM0k"
      },
      "source": [
        "lda_model_11 = gensim.models.ldamodel.LdaModel(corpus=corpus_1,\n",
        "                                            id2word=id2word_1,\n",
        "                                            num_topics=10, \n",
        "                                            random_state=100,\n",
        "                                            update_every=1,\n",
        "                                            chunksize=100,\n",
        "                                            passes=50,\n",
        "                                            alpha='auto',\n",
        "                                            per_word_topics=True)"
      ],
      "execution_count": null,
      "outputs": []
    },
    {
      "cell_type": "code",
      "metadata": {
        "id": "ICaKIkZCvYqg"
      },
      "source": [
        "lda_model_111 = gensim.models.ldamodel.LdaModel(corpus=corpus_1,\n",
        "                                            id2word=id2word_1,\n",
        "                                            num_topics=10,\n",
        "                                            passes=50)"
      ],
      "execution_count": null,
      "outputs": []
    },
    {
      "cell_type": "code",
      "metadata": {
        "colab": {
          "base_uri": "https://localhost:8080/"
        },
        "id": "kSPM4dxMxRu5",
        "outputId": "588f8bfa-00cd-46ff-8ce8-b2f7b00989cf"
      },
      "source": [
        "from pprint import pprint\n",
        "# Print the Keyword in the 10 topics\n",
        "pprint(lda_model_11.print_topics())\n",
        "doc_lda_11 = lda_model_11[corpus]\n",
        "doc_lda_11"
      ],
      "execution_count": null,
      "outputs": [
        {
          "output_type": "stream",
          "text": [
            "[(0,\n",
            "  '0.044*\"pool\" + 0.035*\"ca\" + 0.032*\"move\" + 0.031*\"file\" + 0.028*\"create\" + '\n",
            "  '0.027*\"correct\" + 0.022*\"deliver\" + 0.019*\"item\" + 0.019*\"believe\" + '\n",
            "  '0.019*\"point\"'),\n",
            " (1,\n",
            "  '0.024*\"ball\" + 0.022*\"year\" + 0.021*\"hit\" + 0.019*\"bad\" + 0.019*\"draw\" + '\n",
            "  '0.018*\"old\" + 0.016*\"yard\" + 0.016*\"stuff\" + 0.015*\"stop\" + '\n",
            "  '0.011*\"husband\"'),\n",
            " (2,\n",
            "  '0.080*\"deal\" + 0.051*\"gas\" + 0.031*\"volume\" + 0.025*\"capacity\" + '\n",
            "  '0.021*\"buy\" + 0.020*\"price\" + 0.019*\"month\" + 0.017*\"power\" + 0.017*\"sell\" '\n",
            "  '+ 0.017*\"market\"'),\n",
            " (3,\n",
            "  '0.053*\"thank\" + 0.025*\"question\" + 0.018*\"number\" + 0.018*\"change\" + '\n",
            "  '0.018*\"storage\" + 0.017*\"need\" + 0.017*\"follow\" + 0.016*\"information\" + '\n",
            "  '0.015*\"request\" + 0.013*\"meeting\"'),\n",
            " (4,\n",
            "  '0.032*\"say\" + 0.022*\"utility\" + 0.016*\"nominate\" + 0.014*\"state\" + '\n",
            "  '0.013*\"pass\" + 0.012*\"nomination\" + 0.011*\"tax\" + 0.011*\"senior\" + '\n",
            "  '0.010*\"organization\" + 0.009*\"expire\"'),\n",
            " (5,\n",
            "  '0.062*\"may\" + 0.048*\"time\" + 0.026*\"schedule\" + 0.025*\"pm\" + 0.022*\"guy\" + '\n",
            "  '0.021*\"people\" + 0.019*\"first\" + 0.019*\"leave\" + 0.019*\"take\" + '\n",
            "  '0.018*\"person\"'),\n",
            " (6,\n",
            "  '0.043*\"use\" + 0.033*\"email\" + 0.032*\"receive\" + 0.029*\"order\" + '\n",
            "  '0.027*\"mail\" + 0.021*\"access\" + 0.021*\"problem\" + 0.017*\"sign\" + '\n",
            "  '0.017*\"account\" + 0.017*\"notice\"'),\n",
            " (7,\n",
            "  '0.043*\"know\" + 0.033*\"go\" + 0.030*\"would\" + 0.029*\"let\" + 0.026*\"get\" + '\n",
            "  '0.024*\"subject\" + 0.022*\"need\" + 0.022*\"think\" + 0.020*\"see\" + '\n",
            "  '0.019*\"make\"'),\n",
            " (8,\n",
            "  '0.071*\"way\" + 0.015*\"big\" + 0.015*\"little\" + 0.014*\"say\" + 0.014*\"space\" + '\n",
            "  '0.010*\"even\" + 0.009*\"flip\" + 0.008*\"withdraw\" + 0.008*\"completely\" + '\n",
            "  '0.008*\"summer\"'),\n",
            " (9,\n",
            "  '0.072*\"contract\" + 0.036*\"ce\" + 0.032*\"rate\" + 0.030*\"service\" + '\n",
            "  '0.017*\"invoice\" + 0.016*\"cost\" + 0.016*\"agreement\" + 0.016*\"effective\" + '\n",
            "  '0.014*\"provide\" + 0.014*\"total\"')]\n"
          ],
          "name": "stdout"
        },
        {
          "output_type": "execute_result",
          "data": {
            "text/plain": [
              "<gensim.interfaces.TransformedCorpus at 0x7fa7d2943350>"
            ]
          },
          "metadata": {
            "tags": []
          },
          "execution_count": 94
        }
      ]
    },
    {
      "cell_type": "code",
      "metadata": {
        "colab": {
          "base_uri": "https://localhost:8080/"
        },
        "id": "EKdkRIOPxiEr",
        "outputId": "88944b98-3924-49bf-c4f1-b6221a0064d3"
      },
      "source": [
        "from pprint import pprint\n",
        "# Print the Keyword in the 10 topics\n",
        "pprint(lda_model_111.print_topics())\n",
        "doc_lda_111 = lda_model_111[corpus]\n",
        "doc_lda_111"
      ],
      "execution_count": null,
      "outputs": [
        {
          "output_type": "stream",
          "text": [
            "[(0,\n",
            "  '0.019*\"new\" + 0.018*\"transwestern\" + 0.014*\"way\" + 0.010*\"draw\" + '\n",
            "  '0.010*\"subject\" + 0.010*\"report\" + 0.009*\"offer\" + 0.008*\"space\" + '\n",
            "  '0.008*\"president\" + 0.008*\"due\"'),\n",
            " (1,\n",
            "  '0.026*\"company\" + 0.021*\"trade\" + 0.014*\"offer\" + 0.012*\"product\" + '\n",
            "  '0.012*\"buy\" + 0.011*\"share\" + 0.009*\"option\" + 0.009*\"order\" + 0.009*\"open\" '\n",
            "  '+ 0.008*\"trader\"'),\n",
            " (2,\n",
            "  '0.041*\"meeting\" + 0.029*\"thank\" + 0.020*\"schedule\" + 0.019*\"time\" + '\n",
            "  '0.019*\"attend\" + 0.015*\"team\" + 0.015*\"date\" + 0.013*\"question\" + '\n",
            "  '0.013*\"call\" + 0.012*\"would\"'),\n",
            " (3,\n",
            "  '0.046*\"deal\" + 0.024*\"contract\" + 0.021*\"gas\" + 0.018*\"thank\" + '\n",
            "  '0.017*\"volume\" + 0.015*\"need\" + 0.015*\"know\" + 0.012*\"let\" + 0.012*\"month\" '\n",
            "  '+ 0.012*\"day\"'),\n",
            " (4,\n",
            "  '0.023*\"thank\" + 0.021*\"request\" + 0.013*\"information\" + 0.012*\"send\" + '\n",
            "  '0.012*\"receive\" + 0.012*\"mail\" + 0.010*\"name\" + 0.010*\"may\" + '\n",
            "  '0.010*\"approval\" + 0.010*\"attach\"'),\n",
            " (5,\n",
            "  '0.012*\"market\" + 0.012*\"would\" + 0.011*\"power\" + 0.010*\"gas\" + 0.009*\"say\" '\n",
            "  '+ 0.009*\"project\" + 0.008*\"year\" + 0.008*\"price\" + 0.007*\"issue\" + '\n",
            "  '0.007*\"may\"'),\n",
            " (6,\n",
            "  '0.017*\"say\" + 0.013*\"man\" + 0.008*\"take\" + 0.007*\"year\" + 0.006*\"woman\" + '\n",
            "  '0.006*\"see\" + 0.006*\"old\" + 0.006*\"people\" + 0.006*\"get\" + 0.005*\"life\"'),\n",
            " (7,\n",
            "  '0.014*\"business\" + 0.012*\"would\" + 0.011*\"group\" + 0.010*\"work\" + '\n",
            "  '0.009*\"team\" + 0.008*\"report\" + 0.008*\"operation\" + 0.007*\"process\" + '\n",
            "  '0.006*\"review\" + 0.006*\"risk\"'),\n",
            " (8,\n",
            "  '0.026*\"go\" + 0.026*\"know\" + 0.023*\"would\" + 0.022*\"get\" + 0.019*\"think\" + '\n",
            "  '0.018*\"subject\" + 0.016*\"let\" + 0.015*\"want\" + 0.013*\"work\" + 0.013*\"good\"'),\n",
            " (9,\n",
            "  '0.010*\"think\" + 0.009*\"year\" + 0.008*\"get\" + 0.007*\"demand\" + 0.007*\"sell\" '\n",
            "  '+ 0.007*\"go\" + 0.007*\"price\" + 0.007*\"last\" + 0.007*\"move\" + 0.006*\"next\"')]\n"
          ],
          "name": "stdout"
        },
        {
          "output_type": "execute_result",
          "data": {
            "text/plain": [
              "<gensim.interfaces.TransformedCorpus at 0x7fa7d295bed0>"
            ]
          },
          "metadata": {
            "tags": []
          },
          "execution_count": 95
        }
      ]
    },
    {
      "cell_type": "code",
      "metadata": {
        "colab": {
          "base_uri": "https://localhost:8080/"
        },
        "id": "FtqTZaiTs6ma",
        "outputId": "603c3854-77a3-4673-f503-1cd8b7b95d0c"
      },
      "source": [
        "from pprint import pprint\n",
        "# Print the Keyword in the 10 topics\n",
        "pprint(lda_model_2.print_topics())\n",
        "doc_lda_2 = lda_model_2[corpus]\n",
        "doc_lda_2"
      ],
      "execution_count": null,
      "outputs": [
        {
          "output_type": "stream",
          "text": [
            "[(0,\n",
            "  '0.057*\"thank\" + 0.046*\"know\" + 0.044*\"need\" + 0.037*\"let\" + 0.031*\"subject\" '\n",
            "  '+ 0.029*\"call\" + 0.025*\"send\" + 0.021*\"question\" + 0.019*\"change\" + '\n",
            "  '0.018*\"number\"'),\n",
            " (1,\n",
            "  '0.021*\"say\" + 0.019*\"night\" + 0.017*\"ball\" + 0.016*\"woman\" + 0.015*\"hit\" + '\n",
            "  '0.013*\"little\" + 0.013*\"old\" + 0.013*\"home\" + 0.012*\"mailto\" + '\n",
            "  '0.012*\"drive\"'),\n",
            " (2,\n",
            "  '0.067*\"contract\" + 0.038*\"capacity\" + 0.029*\"rate\" + 0.018*\"pay\" + '\n",
            "  '0.016*\"pipeline\" + 0.016*\"invoice\" + 0.015*\"cost\" + 0.015*\"agreement\" + '\n",
            "  '0.014*\"release\" + 0.013*\"total\"'),\n",
            " (3,\n",
            "  '0.057*\"company\" + 0.040*\"production\" + 0.034*\"man\" + 0.019*\"employee\" + '\n",
            "  '0.017*\"lunch\" + 0.014*\"pro\" + 0.013*\"energy\" + 0.013*\"internet\" + '\n",
            "  '0.012*\"evening\" + 0.012*\"grant\"'),\n",
            " (4,\n",
            "  '0.025*\"follow\" + 0.024*\"service\" + 0.021*\"request\" + 0.019*\"system\" + '\n",
            "  '0.019*\"customer\" + 0.019*\"meeting\" + 0.017*\"schedule\" + 0.016*\"date\" + '\n",
            "  '0.014*\"information\" + 0.013*\"report\"'),\n",
            " (5,\n",
            "  '0.169*\"deal\" + 0.066*\"volume\" + 0.043*\"month\" + 0.036*\"sell\" + 0.030*\"sale\" '\n",
            "  '+ 0.024*\"transport\" + 0.021*\"purchase\" + 0.017*\"enter\" + 0.017*\"create\" + '\n",
            "  '0.014*\"book\"'),\n",
            " (6,\n",
            "  '0.112*\"gas\" + 0.047*\"ce\" + 0.043*\"price\" + 0.038*\"power\" + 0.036*\"market\" + '\n",
            "  '0.024*\"demand\" + 0.018*\"balance\" + 0.017*\"fuel\" + 0.016*\"flow\" + '\n",
            "  '0.014*\"daily\"'),\n",
            " (7,\n",
            "  '0.034*\"pool\" + 0.033*\"name\" + 0.032*\"pm\" + 0.031*\"list\" + 0.027*\"ca\" + '\n",
            "  '0.025*\"access\" + 0.024*\"address\" + 0.023*\"update\" + 0.021*\"contact\" + '\n",
            "  '0.020*\"team\"'),\n",
            " (8,\n",
            "  '0.037*\"would\" + 0.034*\"go\" + 0.028*\"get\" + 0.024*\"take\" + 0.024*\"think\" + '\n",
            "  '0.018*\"want\" + 0.018*\"see\" + 0.018*\"make\" + 0.016*\"way\" + 0.016*\"work\"'),\n",
            " (9,\n",
            "  '0.028*\"meter\" + 0.027*\"say\" + 0.016*\"utility\" + 0.014*\"year\" + '\n",
            "  '0.013*\"state\" + 0.011*\"transmission\" + 0.010*\"control\" + 0.009*\"reason\" + '\n",
            "  '0.009*\"agent\" + 0.008*\"supply\"')]\n"
          ],
          "name": "stdout"
        },
        {
          "output_type": "execute_result",
          "data": {
            "text/plain": [
              "<gensim.interfaces.TransformedCorpus at 0x7fa7d29674d0>"
            ]
          },
          "metadata": {
            "tags": []
          },
          "execution_count": 90
        }
      ]
    },
    {
      "cell_type": "code",
      "metadata": {
        "colab": {
          "base_uri": "https://localhost:8080/"
        },
        "id": "D-jSsWBDt8uI",
        "outputId": "d4789831-ee56-4125-884f-ed15faa0aaa4"
      },
      "source": [
        "from pprint import pprint\n",
        "# Print the Keyword in the 10 topics\n",
        "pprint(lda_model_21.print_topics())\n",
        "doc_lda_21 = lda_model_21[corpus]\n",
        "doc_lda_21"
      ],
      "execution_count": null,
      "outputs": [
        {
          "output_type": "stream",
          "text": [
            "[(0,\n",
            "  '0.024*\"send\" + 0.022*\"email\" + 0.020*\"message\" + 0.020*\"subject\" + '\n",
            "  '0.019*\"mail\" + 0.017*\"may\" + 0.016*\"request\" + 0.015*\"receive\" + '\n",
            "  '0.015*\"address\" + 0.010*\"thank\"'),\n",
            " (1,\n",
            "  '0.026*\"go\" + 0.020*\"get\" + 0.018*\"think\" + 0.014*\"would\" + 0.013*\"know\" + '\n",
            "  '0.012*\"good\" + 0.012*\"subject\" + 0.012*\"see\" + 0.012*\"say\" + 0.011*\"want\"'),\n",
            " (2,\n",
            "  '0.016*\"review\" + 0.014*\"request\" + 0.014*\"thank\" + 0.013*\"list\" + '\n",
            "  '0.012*\"information\" + 0.011*\"date\" + 0.010*\"access\" + 0.010*\"process\" + '\n",
            "  '0.010*\"attach\" + 0.010*\"use\"'),\n",
            " (3,\n",
            "  '0.014*\"power\" + 0.014*\"would\" + 0.012*\"market\" + 0.011*\"project\" + '\n",
            "  '0.010*\"company\" + 0.010*\"gas\" + 0.009*\"price\" + 0.009*\"cost\" + 0.009*\"say\" '\n",
            "  '+ 0.009*\"ce\"'),\n",
            " (4,\n",
            "  '0.014*\"game\" + 0.013*\"team\" + 0.010*\"play\" + 0.010*\"year\" + 0.008*\"run\" + '\n",
            "  '0.007*\"season\" + 0.006*\"last\" + 0.006*\"player\" + 0.006*\"man\" + 0.006*\"use\"'),\n",
            " (5,\n",
            "  '0.042*\"deal\" + 0.022*\"contract\" + 0.020*\"gas\" + 0.015*\"volume\" + '\n",
            "  '0.015*\"thank\" + 0.014*\"need\" + 0.012*\"capacity\" + 0.012*\"know\" + '\n",
            "  '0.011*\"day\" + 0.011*\"month\"'),\n",
            " (6,\n",
            "  '0.017*\"business\" + 0.013*\"team\" + 0.012*\"group\" + 0.010*\"operation\" + '\n",
            "  '0.009*\"work\" + 0.008*\"report\" + 0.008*\"support\" + 0.007*\"risk\" + '\n",
            "  '0.007*\"process\" + 0.007*\"include\"'),\n",
            " (7,\n",
            "  '0.025*\"trade\" + 0.017*\"product\" + 0.013*\"open\" + 0.012*\"position\" + '\n",
            "  '0.011*\"close\" + 0.010*\"trading\" + 0.010*\"curve\" + 0.009*\"book\" + '\n",
            "  '0.009*\"trader\" + 0.009*\"origination\"'),\n",
            " (8,\n",
            "  '0.011*\"way\" + 0.011*\"year\" + 0.010*\"new\" + 0.010*\"program\" + '\n",
            "  '0.010*\"interview\" + 0.009*\"summer\" + 0.008*\"offer\" + 0.007*\"subject\" + '\n",
            "  '0.006*\"demand\" + 0.006*\"analyst\"'),\n",
            " (9,\n",
            "  '0.039*\"thank\" + 0.034*\"would\" + 0.032*\"know\" + 0.027*\"let\" + '\n",
            "  '0.024*\"meeting\" + 0.018*\"call\" + 0.017*\"week\" + 0.015*\"time\" + '\n",
            "  '0.014*\"schedule\" + 0.014*\"need\"')]\n"
          ],
          "name": "stdout"
        },
        {
          "output_type": "execute_result",
          "data": {
            "text/plain": [
              "<gensim.interfaces.TransformedCorpus at 0x7fa7d2967ad0>"
            ]
          },
          "metadata": {
            "tags": []
          },
          "execution_count": 91
        }
      ]
    },
    {
      "cell_type": "code",
      "metadata": {
        "id": "b98kMORbuZuo"
      },
      "source": [
        ""
      ],
      "execution_count": null,
      "outputs": []
    },
    {
      "cell_type": "code",
      "metadata": {
        "colab": {
          "base_uri": "https://localhost:8080/"
        },
        "id": "--hrBWvJSMDv",
        "outputId": "d824e546-988c-4c48-80f5-f8fdf5ae42d2"
      },
      "source": [
        "from pprint import pprint\n",
        "# Print the Keyword in the 10 topics\n",
        "pprint(lda_model.print_topics())\n",
        "doc_lda = lda_model[corpus]\n",
        "doc_lda"
      ],
      "execution_count": null,
      "outputs": [
        {
          "output_type": "stream",
          "text": [
            "[(0,\n",
            "  '0.059*\"thank\" + 0.040*\"need\" + 0.032*\"subject\" + 0.031*\"know\" + '\n",
            "  '0.029*\"call\" + 0.029*\"let\" + 0.026*\"send\" + 0.021*\"question\" + '\n",
            "  '0.020*\"change\" + 0.020*\"buy\"'),\n",
            " (1,\n",
            "  '0.035*\"say\" + 0.019*\"ball\" + 0.018*\"night\" + 0.017*\"little\" + 0.016*\"woman\" '\n",
            "  '+ 0.016*\"hit\" + 0.013*\"go\" + 0.013*\"yard\" + 0.012*\"old\" + 0.012*\"mailto\"'),\n",
            " (2,\n",
            "  '0.070*\"contract\" + 0.038*\"capacity\" + 0.030*\"rate\" + 0.021*\"pay\" + '\n",
            "  '0.017*\"invoice\" + 0.016*\"pipeline\" + 0.015*\"cost\" + 0.015*\"release\" + '\n",
            "  '0.014*\"agreement\" + 0.014*\"total\"'),\n",
            " (3,\n",
            "  '0.058*\"company\" + 0.041*\"production\" + 0.037*\"man\" + 0.018*\"employee\" + '\n",
            "  '0.018*\"lunch\" + 0.016*\"pro\" + 0.014*\"energy\" + 0.014*\"internet\" + '\n",
            "  '0.013*\"evening\" + 0.012*\"grant\"'),\n",
            " (4,\n",
            "  '0.026*\"follow\" + 0.024*\"service\" + 0.021*\"request\" + 0.020*\"customer\" + '\n",
            "  '0.019*\"system\" + 0.017*\"meeting\" + 0.016*\"date\" + 0.016*\"schedule\" + '\n",
            "  '0.013*\"provide\" + 0.013*\"information\"'),\n",
            " (5,\n",
            "  '0.177*\"deal\" + 0.069*\"volume\" + 0.038*\"sell\" + 0.031*\"sale\" + '\n",
            "  '0.025*\"transport\" + 0.022*\"month\" + 0.022*\"purchase\" + 0.019*\"enter\" + '\n",
            "  '0.018*\"create\" + 0.016*\"book\"'),\n",
            " (6,\n",
            "  '0.113*\"gas\" + 0.049*\"ce\" + 0.043*\"price\" + 0.038*\"power\" + 0.035*\"market\" + '\n",
            "  '0.026*\"demand\" + 0.019*\"balance\" + 0.018*\"month\" + 0.017*\"fuel\" + '\n",
            "  '0.015*\"flow\"'),\n",
            " (7,\n",
            "  '0.036*\"pool\" + 0.034*\"pm\" + 0.033*\"name\" + 0.031*\"list\" + 0.028*\"ca\" + '\n",
            "  '0.025*\"access\" + 0.024*\"address\" + 0.024*\"update\" + 0.021*\"contact\" + '\n",
            "  '0.021*\"information\"'),\n",
            " (8,\n",
            "  '0.035*\"would\" + 0.031*\"go\" + 0.024*\"take\" + 0.023*\"think\" + 0.023*\"get\" + '\n",
            "  '0.022*\"make\" + 0.021*\"know\" + 0.018*\"way\" + 0.018*\"want\" + 0.016*\"work\"'),\n",
            " (9,\n",
            "  '0.031*\"say\" + 0.027*\"meter\" + 0.017*\"utility\" + 0.014*\"year\" + '\n",
            "  '0.012*\"state\" + 0.011*\"transmission\" + 0.011*\"control\" + 0.009*\"agent\" + '\n",
            "  '0.009*\"senior\" + 0.009*\"tax\"')]\n"
          ],
          "name": "stdout"
        },
        {
          "output_type": "execute_result",
          "data": {
            "text/plain": [
              "<gensim.interfaces.TransformedCorpus at 0x7fb235f68490>"
            ]
          },
          "metadata": {
            "tags": []
          },
          "execution_count": 99
        }
      ]
    },
    {
      "cell_type": "code",
      "metadata": {
        "colab": {
          "base_uri": "https://localhost:8080/"
        },
        "id": "8cy6BD0DSPbz",
        "outputId": "4abf1498-57ca-4f8d-a344-d51a664a1a20"
      },
      "source": [
        "#from pprint import pprint\n",
        "# Print the Keyword in the 10 topics\n",
        "pprint(lda_model_1.print_topics())\n",
        "doc_lda_1 = lda_model_1[corpus]\n",
        "doc_lda_1"
      ],
      "execution_count": null,
      "outputs": [
        {
          "output_type": "stream",
          "text": [
            "[(0,\n",
            "  '0.047*\"pool\" + 0.037*\"ca\" + 0.031*\"move\" + 0.030*\"file\" + 0.028*\"create\" + '\n",
            "  '0.027*\"correct\" + 0.022*\"deliver\" + 0.020*\"believe\" + 0.019*\"item\" + '\n",
            "  '0.019*\"point\"'),\n",
            " (1,\n",
            "  '0.027*\"ball\" + 0.023*\"hit\" + 0.021*\"bad\" + 0.020*\"year\" + 0.019*\"yard\" + '\n",
            "  '0.018*\"old\" + 0.016*\"stuff\" + 0.016*\"draw\" + 0.016*\"stop\" + '\n",
            "  '0.013*\"husband\"'),\n",
            " (2,\n",
            "  '0.083*\"deal\" + 0.053*\"gas\" + 0.032*\"volume\" + 0.025*\"capacity\" + '\n",
            "  '0.022*\"buy\" + 0.020*\"price\" + 0.018*\"month\" + 0.018*\"sell\" + 0.018*\"power\" '\n",
            "  '+ 0.017*\"company\"'),\n",
            " (3,\n",
            "  '0.056*\"thank\" + 0.024*\"question\" + 0.018*\"change\" + 0.018*\"need\" + '\n",
            "  '0.018*\"storage\" + 0.018*\"number\" + 0.017*\"follow\" + 0.016*\"information\" + '\n",
            "  '0.015*\"request\" + 0.012*\"meeting\"'),\n",
            " (4,\n",
            "  '0.032*\"say\" + 0.023*\"utility\" + 0.017*\"nominate\" + 0.014*\"pass\" + '\n",
            "  '0.013*\"state\" + 0.013*\"nomination\" + 0.012*\"senior\" + 0.012*\"tax\" + '\n",
            "  '0.011*\"organization\" + 0.009*\"expire\"'),\n",
            " (5,\n",
            "  '0.064*\"may\" + 0.042*\"time\" + 0.027*\"pm\" + 0.027*\"schedule\" + 0.023*\"guy\" + '\n",
            "  '0.020*\"person\" + 0.019*\"leave\" + 0.019*\"first\" + 0.018*\"ticket\" + '\n",
            "  '0.017*\"hold\"'),\n",
            " (6,\n",
            "  '0.040*\"use\" + 0.032*\"receive\" + 0.031*\"email\" + 0.030*\"order\" + '\n",
            "  '0.028*\"mail\" + 0.022*\"problem\" + 0.019*\"sign\" + 0.019*\"account\" + '\n",
            "  '0.017*\"fax\" + 0.017*\"notice\"'),\n",
            " (7,\n",
            "  '0.043*\"know\" + 0.033*\"go\" + 0.029*\"would\" + 0.029*\"let\" + 0.026*\"get\" + '\n",
            "  '0.024*\"subject\" + 0.022*\"think\" + 0.022*\"need\" + 0.021*\"see\" + '\n",
            "  '0.019*\"make\"'),\n",
            " (8,\n",
            "  '0.077*\"way\" + 0.017*\"little\" + 0.015*\"big\" + 0.015*\"say\" + 0.014*\"space\" + '\n",
            "  '0.011*\"even\" + 0.010*\"flip\" + 0.009*\"completely\" + 0.009*\"withdraw\" + '\n",
            "  '0.009*\"people\"'),\n",
            " (9,\n",
            "  '0.076*\"contract\" + 0.039*\"ce\" + 0.032*\"rate\" + 0.030*\"service\" + '\n",
            "  '0.019*\"invoice\" + 0.017*\"effective\" + 0.016*\"cost\" + 0.015*\"agreement\" + '\n",
            "  '0.015*\"pay\" + 0.015*\"total\"')]\n"
          ],
          "name": "stdout"
        },
        {
          "output_type": "execute_result",
          "data": {
            "text/plain": [
              "<gensim.interfaces.TransformedCorpus at 0x7fb235f76310>"
            ]
          },
          "metadata": {
            "tags": []
          },
          "execution_count": 100
        }
      ]
    },
    {
      "cell_type": "code",
      "metadata": {
        "colab": {
          "base_uri": "https://localhost:8080/"
        },
        "id": "W7dfpphuOHD2",
        "outputId": "3143c5c7-580b-4905-95c5-a793e6e27189"
      },
      "source": [
        "from pprint import pprint\n",
        "# Print the Keyword in the 10 topics\n",
        "pprint(lda_model.print_topics())\n",
        "doc_lda = lda_model[corpus]\n",
        "doc_lda"
      ],
      "execution_count": null,
      "outputs": [
        {
          "output_type": "stream",
          "text": [
            "[(0,\n",
            "  '0.054*\"thank\" + 0.053*\"know\" + 0.042*\"need\" + 0.036*\"let\" + 0.030*\"subject\" '\n",
            "  '+ 0.027*\"call\" + 0.020*\"make\" + 0.019*\"see\" + 0.018*\"send\" + 0.018*\"get\"'),\n",
            " (1,\n",
            "  '0.053*\"schedule\" + 0.051*\"meeting\" + 0.034*\"meter\" + 0.031*\"balance\" + '\n",
            "  '0.031*\"discuss\" + 0.030*\"plan\" + 0.024*\"meet\" + 0.020*\"attend\" + '\n",
            "  '0.019*\"item\" + 0.018*\"hold\"'),\n",
            " (2,\n",
            "  '0.082*\"deal\" + 0.050*\"gas\" + 0.044*\"contract\" + 0.031*\"volume\" + '\n",
            "  '0.026*\"month\" + 0.025*\"capacity\" + 0.022*\"ce\" + 0.020*\"price\" + '\n",
            "  '0.019*\"rate\" + 0.018*\"power\"'),\n",
            " (3,\n",
            "  '0.092*\"change\" + 0.038*\"transport\" + 0.034*\"comment\" + 0.026*\"marketing\" + '\n",
            "  '0.023*\"ee\" + 0.022*\"ena\" + 0.021*\"agree\" + 0.016*\"currently\" + 0.015*\"bid\" '\n",
            "  '+ 0.013*\"post\"'),\n",
            " (4,\n",
            "  '0.022*\"order\" + 0.017*\"person\" + 0.017*\"continue\" + 0.016*\"move\" + '\n",
            "  '0.013*\"issue\" + 0.012*\"group\" + 0.012*\"new\" + 0.012*\"area\" + '\n",
            "  '0.011*\"deliver\" + 0.011*\"work\"'),\n",
            " (5,\n",
            "  '0.033*\"service\" + 0.030*\"company\" + 0.018*\"provide\" + 0.017*\"agreement\" + '\n",
            "  '0.016*\"business\" + 0.016*\"report\" + 0.015*\"energy\" + 0.012*\"year\" + '\n",
            "  '0.012*\"project\" + 0.010*\"may\"'),\n",
            " (6,\n",
            "  '0.047*\"go\" + 0.039*\"think\" + 0.034*\"way\" + 0.031*\"say\" + 0.021*\"get\" + '\n",
            "  '0.015*\"come\" + 0.015*\"good\" + 0.014*\"ca\" + 0.013*\"little\" + 0.012*\"man\"'),\n",
            " (7,\n",
            "  '0.027*\"information\" + 0.025*\"request\" + 0.024*\"date\" + 0.023*\"pm\" + '\n",
            "  '0.022*\"follow\" + 0.021*\"name\" + 0.020*\"book\" + 0.020*\"receive\" + '\n",
            "  '0.019*\"mail\" + 0.018*\"email\"'),\n",
            " (8,\n",
            "  '0.025*\"woman\" + 0.019*\"golf\" + 0.013*\"club\" + 0.012*\"agent\" + 0.011*\"tax\" + '\n",
            "  '0.011*\"final\" + 0.010*\"station\" + 0.009*\"fly\" + 0.009*\"expire\" + '\n",
            "  '0.009*\"deadline\"'),\n",
            " (9,\n",
            "  '0.081*\"would\" + 0.047*\"take\" + 0.043*\"day\" + 0.032*\"time\" + 0.029*\"week\" + '\n",
            "  '0.024*\"last\" + 0.021*\"pool\" + 0.019*\"production\" + 0.018*\"next\" + '\n",
            "  '0.017*\"tell\"')]\n"
          ],
          "name": "stdout"
        },
        {
          "output_type": "execute_result",
          "data": {
            "text/plain": [
              "<gensim.interfaces.TransformedCorpus at 0x7f6e9e081ad0>"
            ]
          },
          "metadata": {
            "tags": []
          },
          "execution_count": 72
        }
      ]
    },
    {
      "cell_type": "code",
      "metadata": {
        "colab": {
          "base_uri": "https://localhost:8080/"
        },
        "id": "ZXeERTLr_o0S",
        "outputId": "2b256ed0-c73d-4983-97bf-3e29cc8a8f3a"
      },
      "source": [
        "from pprint import pprint\n",
        "# Print the Keyword in the 10 topics\n",
        "pprint(lda_model.print_topics())\n",
        "doc_lda = lda_model[corpus]\n",
        "doc_lda"
      ],
      "execution_count": null,
      "outputs": [
        {
          "output_type": "stream",
          "text": [
            "[(0,\n",
            "  '0.061*\"storage\" + 0.054*\"customer\" + 0.038*\"order\" + 0.029*\"charge\" + '\n",
            "  '0.027*\"file\" + 0.025*\"ee\" + 0.024*\"notice\" + 0.024*\"fuel\" + 0.019*\"late\" + '\n",
            "  '0.016*\"item\"'),\n",
            " (1,\n",
            "  '0.048*\"thank\" + 0.047*\"know\" + 0.034*\"need\" + 0.033*\"let\" + 0.032*\"would\" + '\n",
            "  '0.026*\"subject\" + 0.024*\"call\" + 0.022*\"may\" + 0.019*\"question\" + '\n",
            "  '0.019*\"make\"'),\n",
            " (2,\n",
            "  '0.037*\"book\" + 0.032*\"time\" + 0.031*\"schedule\" + 0.030*\"meeting\" + '\n",
            "  '0.022*\"group\" + 0.019*\"plan\" + 0.017*\"afternoon\" + 0.015*\"date\" + '\n",
            "  '0.015*\"team\" + 0.014*\"woman\"'),\n",
            " (3,\n",
            "  '0.090*\"deal\" + 0.048*\"contract\" + 0.045*\"gas\" + 0.035*\"volume\" + '\n",
            "  '0.027*\"month\" + 0.024*\"ce\" + 0.023*\"change\" + 0.019*\"rate\" + 0.017*\"sale\" + '\n",
            "  '0.017*\"sell\"'),\n",
            " (4,\n",
            "  '0.030*\"power\" + 0.029*\"market\" + 0.021*\"company\" + 0.017*\"demand\" + '\n",
            "  '0.015*\"gas\" + 0.015*\"person\" + 0.014*\"move\" + 0.014*\"year\" + 0.013*\"supply\" '\n",
            "  '+ 0.013*\"continue\"'),\n",
            " (5,\n",
            "  '0.135*\"way\" + 0.035*\"pay\" + 0.023*\"do\" + 0.021*\"first\" + 0.021*\"check\" + '\n",
            "  '0.019*\"balance\" + 0.015*\"special\" + 0.012*\"already\" + 0.012*\"even\" + '\n",
            "  '0.011*\"hit\"'),\n",
            " (6,\n",
            "  '0.050*\"go\" + 0.036*\"get\" + 0.035*\"think\" + 0.024*\"see\" + 0.022*\"take\" + '\n",
            "  '0.020*\"look\" + 0.018*\"still\" + 0.018*\"week\" + 0.018*\"good\" + 0.017*\"back\"'),\n",
            " (7,\n",
            "  '0.037*\"capacity\" + 0.029*\"information\" + 0.027*\"service\" + 0.023*\"request\" '\n",
            "  '+ 0.020*\"provide\" + 0.019*\"include\" + 0.014*\"effective\" + 0.013*\"cost\" + '\n",
            "  '0.013*\"process\" + 0.012*\"report\"'),\n",
            " (8,\n",
            "  '0.067*\"ca\" + 0.043*\"production\" + 0.030*\"love\" + 0.019*\"bill\" + 0.016*\"say\" '\n",
            "  '+ 0.016*\"little\" + 0.015*\"drive\" + 0.012*\"car\" + 0.009*\"home\" + '\n",
            "  '0.009*\"husband\"'),\n",
            " (9,\n",
            "  '0.047*\"pool\" + 0.033*\"access\" + 0.030*\"man\" + 0.029*\"enter\" + 0.023*\"tax\" + '\n",
            "  '0.018*\"fare\" + 0.016*\"stop\" + 0.016*\"free\" + 0.015*\"use\" + 0.014*\"click\"')]\n"
          ],
          "name": "stdout"
        },
        {
          "output_type": "execute_result",
          "data": {
            "text/plain": [
              "<gensim.interfaces.TransformedCorpus at 0x7f86ddcc54d0>"
            ]
          },
          "metadata": {
            "tags": []
          },
          "execution_count": 74
        }
      ]
    },
    {
      "cell_type": "code",
      "metadata": {
        "id": "lX9uAwM3fhvi",
        "colab": {
          "base_uri": "https://localhost:8080/"
        },
        "outputId": "999db9e7-f32d-4590-eb95-8dbb72a18772"
      },
      "source": [
        "# Compute Perplexity\n",
        "print('\\nPerplexity: ', lda_model.log_perplexity(corpus))"
      ],
      "execution_count": null,
      "outputs": [
        {
          "output_type": "stream",
          "text": [
            "\n",
            "Perplexity:  -7.905786537165682\n"
          ],
          "name": "stdout"
        }
      ]
    },
    {
      "cell_type": "code",
      "metadata": {
        "colab": {
          "base_uri": "https://localhost:8080/"
        },
        "id": "6Lb_URREx3zE",
        "outputId": "e23c8654-548e-4276-db10-6075f0f6f9c5"
      },
      "source": [
        "# Compute Perplexity\n",
        "print('\\nPerplexity: ', lda_model_2.log_perplexity(corpus))"
      ],
      "execution_count": null,
      "outputs": [
        {
          "output_type": "stream",
          "text": [
            "\n",
            "Perplexity:  -7.837687450407686\n"
          ],
          "name": "stdout"
        }
      ]
    },
    {
      "cell_type": "code",
      "metadata": {
        "colab": {
          "base_uri": "https://localhost:8080/"
        },
        "id": "wdSjEoVQx8Z1",
        "outputId": "0860c475-a5d1-4cbb-f28f-c55a4f9bba2e"
      },
      "source": [
        "# Compute Perplexity\n",
        "print('\\nPerplexity: ', lda_model_21.log_perplexity(corpus))"
      ],
      "execution_count": null,
      "outputs": [
        {
          "output_type": "stream",
          "text": [
            "\n",
            "Perplexity:  -7.394131997743233\n"
          ],
          "name": "stdout"
        }
      ]
    },
    {
      "cell_type": "code",
      "metadata": {
        "colab": {
          "base_uri": "https://localhost:8080/"
        },
        "id": "2F5BwXwMyCwm",
        "outputId": "6e73db2b-0df1-47e3-dd3b-c079216eb05b"
      },
      "source": [
        "# Compute Perplexity\n",
        "print('\\nPerplexity: ', lda_model_11.log_perplexity(corpus))"
      ],
      "execution_count": null,
      "outputs": [
        {
          "output_type": "stream",
          "text": [
            "\n",
            "Perplexity:  -10.799611141185338\n"
          ],
          "name": "stdout"
        }
      ]
    },
    {
      "cell_type": "code",
      "metadata": {
        "colab": {
          "base_uri": "https://localhost:8080/"
        },
        "id": "SxJaRE4syFSs",
        "outputId": "8c48feed-786b-40d7-f6e8-13724cf480a7"
      },
      "source": [
        "# Compute Perplexity\n",
        "print('\\nPerplexity: ', lda_model_111.log_perplexity(corpus))"
      ],
      "execution_count": null,
      "outputs": [
        {
          "output_type": "stream",
          "text": [
            "\n",
            "Perplexity:  -9.48567249920657\n"
          ],
          "name": "stdout"
        }
      ]
    },
    {
      "cell_type": "code",
      "metadata": {
        "colab": {
          "base_uri": "https://localhost:8080/"
        },
        "id": "t2q6u_YGf2se",
        "outputId": "192899e1-e03c-4e3e-8f1e-b86e83f175f5"
      },
      "source": [
        "# Compute Coherence Score\n",
        "coherence_model_lda = CoherenceModel(model=lda_model, texts=data_lemmatized, dictionary=id2word, coherence='c_v')\n",
        "coherence_lda = coherence_model_lda.get_coherence()\n",
        "print('\\nCoherence Score: ', coherence_lda)"
      ],
      "execution_count": null,
      "outputs": [
        {
          "output_type": "stream",
          "text": [
            "\n",
            "Coherence Score:  0.40661377273123467\n"
          ],
          "name": "stdout"
        }
      ]
    },
    {
      "cell_type": "code",
      "metadata": {
        "colab": {
          "base_uri": "https://localhost:8080/"
        },
        "id": "VAW4b6OlyeWl",
        "outputId": "4751a90e-2c45-4797-f3cf-5217480b80c8"
      },
      "source": [
        "# Compute Coherence Score\n",
        "coherence_model_lda_11 = CoherenceModel(model=lda_model_11, texts=data_lemmatized_1, dictionary=id2word_1, coherence='c_v')\n",
        "coherence_lda_11 = coherence_model_lda_11.get_coherence()\n",
        "print('\\nCoherence Score: ', coherence_lda_11)"
      ],
      "execution_count": null,
      "outputs": [
        {
          "output_type": "stream",
          "text": [
            "\n",
            "Coherence Score:  0.3610365247783123\n"
          ],
          "name": "stdout"
        }
      ]
    },
    {
      "cell_type": "code",
      "metadata": {
        "colab": {
          "base_uri": "https://localhost:8080/"
        },
        "id": "OfxE_Gb6ywKY",
        "outputId": "35010ce4-6dbe-48e2-a082-537b2f1c27d8"
      },
      "source": [
        "# Compute Coherence Score\n",
        "coherence_model_lda_111 = CoherenceModel(model=lda_model_111, texts=data_lemmatized_1, dictionary=id2word_1, coherence='c_v')\n",
        "coherence_lda_111 = coherence_model_lda_111.get_coherence()\n",
        "print('\\nCoherence Score: ', coherence_lda_111)"
      ],
      "execution_count": null,
      "outputs": [
        {
          "output_type": "stream",
          "text": [
            "\n",
            "Coherence Score:  0.44379659593137494\n"
          ],
          "name": "stdout"
        }
      ]
    },
    {
      "cell_type": "markdown",
      "metadata": {
        "id": "xc1OnBI5g5Uk"
      },
      "source": [
        "Data vizulaisation:"
      ]
    },
    {
      "cell_type": "code",
      "metadata": {
        "id": "TYBDxyGbhxuq"
      },
      "source": [
        "import pyLDAvis.gensim_models\n",
        "import pyLDAvis"
      ],
      "execution_count": null,
      "outputs": []
    },
    {
      "cell_type": "code",
      "metadata": {
        "id": "rQA3sKrzh2Bu"
      },
      "source": [
        "#Visualize the topics\n",
        "pyLDAvis.enable_notebook()\n",
        "vis = pyLDAvis.gensim_models.prepare(lda_model, corpus, id2word)"
      ],
      "execution_count": null,
      "outputs": []
    },
    {
      "cell_type": "code",
      "metadata": {
        "id": "2fkietBLzLIs",
        "colab": {
          "base_uri": "https://localhost:8080/",
          "height": 861
        },
        "outputId": "ee41b46d-6405-4c7e-8671-53185255c65f"
      },
      "source": [
        "pyLDAvis.display(vis)"
      ],
      "execution_count": null,
      "outputs": [
        {
          "output_type": "execute_result",
          "data": {
            "text/html": [
              "\n",
              "<link rel=\"stylesheet\" type=\"text/css\" href=\"https://cdn.jsdelivr.net/gh/bmabey/pyLDAvis@3.3.1/pyLDAvis/js/ldavis.v1.0.0.css\">\n",
              "\n",
              "\n",
              "<div id=\"ldavis_el5531401127551583529905680057\"></div>\n",
              "<script type=\"text/javascript\">\n",
              "\n",
              "var ldavis_el5531401127551583529905680057_data = {\"mdsDat\": {\"x\": [0.3017116194335651, 0.0038584555588071215, -0.13086394544785188, 0.26367080185736025, 0.018710904729285858, 0.03187349301019385, -0.05663026504702911, -0.15860921425301822, -0.14042004662022914, -0.133301803221084], \"y\": [0.00417397215070771, -0.2850154275490291, -0.09612870812532286, 0.1547632291994794, -0.1245665970484617, 0.04592914842992267, -0.1204311758129355, 0.09500253308694737, 0.1317883527804101, 0.19448467288828258], \"topics\": [1, 2, 3, 4, 5, 6, 7, 8, 9, 10], \"cluster\": [1, 1, 1, 1, 1, 1, 1, 1, 1, 1], \"Freq\": [18.085477514444165, 12.96685074653848, 11.327150349103588, 11.159914412618466, 11.083509566175586, 10.859898184544212, 9.891120892940569, 5.5660819022359895, 4.95195973180326, 4.108036699595686]}, \"tinfo\": {\"Term\": [\"deal\", \"would\", \"thank\", \"know\", \"change\", \"gas\", \"need\", \"go\", \"contract\", \"let\", \"take\", \"day\", \"think\", \"subject\", \"schedule\", \"call\", \"way\", \"volume\", \"meeting\", \"service\", \"company\", \"say\", \"week\", \"month\", \"time\", \"capacity\", \"get\", \"information\", \"ce\", \"request\", \"know\", \"let\", \"subject\", \"storage\", \"call\", \"cc\", \"ticket\", \"nee\", \"check\", \"phone\", \"tomorrow\", \"notice\", \"fax\", \"copy\", \"late\", \"dg\", \"together\", \"thank\", \"friend\", \"sheet\", \"receipt\", \"swing\", \"reservation\", \"interested\", \"pass\", \"dinner\", \"please\", \"guess\", \"tonight\", \"letter\", \"need\", \"today\", \"sure\", \"send\", \"soon\", \"attach\", \"want\", \"look\", \"see\", \"give\", \"find\", \"help\", \"work\", \"still\", \"make\", \"question\", \"get\", \"also\", \"number\", \"back\", \"may\", \"new\", \"go\", \"try\", \"set\", \"deal\", \"gas\", \"contract\", \"volume\", \"month\", \"capacity\", \"ce\", \"price\", \"rate\", \"power\", \"sell\", \"sale\", \"purchase\", \"demand\", \"invoice\", \"pipeline\", \"total\", \"charge\", \"supply\", \"fuel\", \"flow\", \"daily\", \"utility\", \"bill\", \"pricing\", \"index\", \"stop\", \"shipper\", \"citygate\", \"estimate\", \"release\", \"enter\", \"term\", \"cost\", \"pay\", \"create\", \"customer\", \"buy\", \"market\", \"use\", \"service\", \"company\", \"agreement\", \"project\", \"bad\", \"program\", \"opportunity\", \"management\", \"commodity\", \"specific\", \"transmission\", \"section\", \"control\", \"unit\", \"requirement\", \"incremental\", \"avoid\", \"nature\", \"kind\", \"organization\", \"discount\", \"execute\", \"asset\", \"legal\", \"stock\", \"propose\", \"involve\", \"share\", \"action\", \"gather\", \"energy\", \"report\", \"business\", \"provide\", \"year\", \"support\", \"require\", \"account\", \"include\", \"customer\", \"value\", \"may\", \"current\", \"way\", \"ca\", \"little\", \"man\", \"love\", \"thing\", \"ball\", \"hear\", \"hit\", \"old\", \"life\", \"lunch\", \"stuff\", \"big\", \"always\", \"maybe\", \"yard\", \"away\", \"car\", \"receive_quality\", \"actually\", \"wo\", \"never\", \"pro\", \"pretty\", \"twice\", \"flip\", \"husband\", \"lot\", \"regulated_service\", \"say\", \"think\", \"go\", \"much\", \"run\", \"come\", \"good\", \"hope\", \"get\", \"buy\", \"guy\", \"well\", \"mean\", \"right\", \"see\", \"year\", \"make\", \"back\", \"order\", \"person\", \"continue\", \"move\", \"area\", \"deliver\", \"position\", \"curve\", \"transaction\", \"option\", \"unify\", \"space\", \"transportation\", \"concern\", \"nominate\", \"learn\", \"room\", \"head\", \"party\", \"join\", \"second\", \"trading\", \"couple\", \"physical\", \"trade\", \"become\", \"break\", \"website\", \"master\", \"confirmation\", \"understand\", \"begin\", \"many\", \"team\", \"believe\", \"group\", \"issue\", \"several\", \"new\", \"work\", \"system\", \"market\", \"first\", \"also\", \"point\", \"problem\", \"week\", \"pool\", \"production\", \"next\", \"morning\", \"like\", \"correct\", \"afternoon\", \"later\", \"feel\", \"weekend\", \"yesterday\", \"approval\", \"yet\", \"instead\", \"evening\", \"visit\", \"ok\", \"verify\", \"wife\", \"suggest\", \"special\", \"ever\", \"remember\", \"course\", \"event\", \"thought\", \"speak\", \"th\", \"trip\", \"would\", \"last\", \"take\", \"tell\", \"really\", \"ask\", \"day\", \"time\", \"put\", \"first\", \"however\", \"may\", \"keep\", \"could\", \"use\", \"information\", \"request\", \"date\", \"pm\", \"name\", \"list\", \"mail\", \"contact\", \"receive\", \"access\", \"note\", \"update\", \"address\", \"desk\", \"type\", \"manager\", \"product\", \"delivery\", \"transco\", \"basis\", \"approve\", \"application\", \"zone\", \"select\", \"grant\", \"extend\", \"column\", \"vacation\", \"advise\", \"page\", \"book\", \"email\", \"follow\", \"internet\", \"system\", \"available\", \"use\", \"include\", \"message\", \"process\", \"question\", \"number\", \"schedule\", \"meeting\", \"meter\", \"balance\", \"discuss\", \"plan\", \"meet\", \"attend\", \"item\", \"match\", \"segment\", \"discussion\", \"resource\", \"forget\", \"lawyer\", \"apply\", \"clear\", \"statement\", \"card\", \"present\", \"manual\", \"usage\", \"locate\", \"pre\", \"procedure\", \"hotel\", \"maintenance\", \"wonder\", \"status\", \"version\", \"telescope\", \"wait\", \"activity\", \"hold\", \"open\", \"prior\", \"review\", \"close\", \"office\", \"change\", \"transport\", \"comment\", \"marketing\", \"ee\", \"ena\", \"bid\", \"post\", \"agree\", \"injection\", \"analyst\", \"withdrawal\", \"directly\", \"indicate\", \"interview\", \"quarter\", \"path\", \"withdraw\", \"director\", \"track\", \"associate\", \"staff\", \"sitara\", \"counterparty\", \"role\", \"addition\", \"recognize\", \"shall\", \"loss\", \"link\", \"buying\", \"rebook\", \"currently\", \"end\", \"original\", \"however\", \"follow\", \"woman\", \"golf\", \"club\", \"agent\", \"tax\", \"final\", \"station\", \"fly\", \"expire\", \"deadline\", \"policy\", \"agency\", \"fare\", \"negotiate\", \"law\", \"double\", \"dog\", \"bottle\", \"walk\", \"partner\", \"bed\", \"mouth\", \"airport\", \"foot\", \"shirt\", \"authorize\", \"seek\", \"city\", \"true\", \"assistant\", \"toilet\", \"pear\", \"travel\", \"happen\", \"sign\", \"turn\"], \"Freq\": [4673.0, 3944.0, 4297.0, 4197.0, 2002.0, 2832.0, 3368.0, 3213.0, 2485.0, 2877.0, 2337.0, 2372.0, 2192.0, 2361.0, 1283.0, 2156.0, 1667.0, 1772.0, 1239.0, 1641.0, 1510.0, 1640.0, 1370.0, 1474.0, 1963.0, 1399.0, 2524.0, 1184.0, 1246.0, 1079.0, 4195.89065820619, 2876.3468175981443, 2360.475881796725, 1253.3933382828225, 2153.660160175183, 664.5524205401247, 616.2850974671769, 610.220676480112, 577.5706924655458, 563.6655675932628, 531.8176234694646, 484.35141763878175, 474.84252835403277, 432.11094867587803, 401.64974525222743, 417.2261556230117, 308.54131741662496, 4280.242284457854, 273.58517346857957, 264.21058489994067, 260.66165433873647, 250.6730247383196, 246.63525654720704, 211.7114975616202, 211.22033485748406, 202.55026223283636, 194.49004181576257, 194.02993546024052, 193.8656117618398, 190.44620259749965, 3311.0728104733666, 1025.5961468296812, 913.8929378573084, 1429.8864013799384, 536.7606943718113, 548.4604309801229, 1377.4107308606262, 1297.237447526006, 1468.6944736576033, 1045.0224003444682, 713.328934868959, 780.0463124344819, 1277.558757380773, 895.4246149243719, 1610.2374638338242, 1218.1210765046478, 1396.0030577523785, 1072.9036571178322, 881.2404811447539, 731.9999452250548, 1106.3326886224695, 890.1023354872543, 923.377838280977, 637.599791032153, 635.4407935349171, 4672.521294827951, 2831.0152332127195, 2483.964731589656, 1771.1540250132307, 1473.7595072318247, 1397.9621826707705, 1245.6326678752569, 1117.8399188878861, 1069.0043215988094, 1013.025084831816, 978.079221421615, 871.6495986364198, 708.7401032445066, 642.1973444166482, 619.3109833968408, 563.7308793468882, 489.1119012559517, 476.1616798572697, 452.14047370563793, 431.7574771091309, 373.8593920763172, 364.13088931747086, 323.4479297008339, 313.3618374738036, 302.64013353926646, 299.95112106884625, 271.2622530711547, 264.86930274614485, 257.1499849738811, 229.53610807685868, 544.7790079824907, 446.7563628111433, 464.8437112286333, 462.55962636155914, 621.0249467098605, 414.94503013951504, 663.1130207219027, 714.2707533187262, 549.3822645624887, 607.2187756207231, 1640.431652116562, 1509.8348211704858, 857.7711834904082, 581.439426392301, 481.9483237222688, 449.50143834767476, 434.4390666716713, 408.7879289322495, 386.92597259238886, 378.2691273572223, 330.57578538826874, 313.4363792329036, 301.19604969617313, 300.98217001893204, 299.094143874251, 261.24548489402986, 259.98116082770156, 259.7026064139511, 257.5161703878065, 247.46387178673433, 242.14235217866275, 235.0416301069273, 229.85100865212672, 228.7608533276132, 219.95734576108438, 218.43469258280894, 217.6600750810576, 202.85305072964977, 199.9229476921705, 197.79892116873322, 736.363758869268, 777.452002676505, 787.6412092348125, 887.5112069301703, 611.2561441765013, 413.77939472952175, 325.42792600013803, 403.4919047617654, 481.08342047326755, 431.5088249464083, 316.46488125298475, 505.6735966666645, 306.3956627422897, 1666.0272272720308, 708.4096168877363, 626.9319919295673, 602.4825100875515, 573.1014566239928, 449.574731009334, 394.1806221900588, 377.0732496032443, 369.106193737845, 354.09378830230725, 349.50192692725955, 324.58019386974655, 319.2959995052437, 311.61595632581214, 273.04268564799355, 260.52309800436217, 261.3847281696869, 240.63988027808853, 237.57230836665082, 239.19429555483438, 225.43226158030245, 225.0323157903346, 223.90904246472394, 219.86544978876955, 215.5115017304167, 203.42686253471814, 195.28677466202043, 192.10196548109437, 183.18025026508286, 187.63269311569235, 1504.1889652332889, 1908.9825663958766, 2289.216098268773, 543.3271527390035, 271.118222660792, 741.8273854718133, 718.947899231687, 476.1327529265999, 1025.837221423937, 599.831462973888, 448.4706784015649, 401.14968099625287, 266.030380226656, 388.84004098032415, 494.0669579810356, 390.8200481983497, 506.5862040242314, 352.1041934987233, 1049.1910070196511, 836.1398976641848, 832.1756923845059, 759.6493182613467, 597.3205040580049, 554.2604573416176, 446.77397778419777, 431.1698387903196, 415.58601026440635, 399.8413264510024, 390.8005445826779, 377.73691039298944, 363.73587346914167, 360.88553224997224, 348.1328653476446, 345.69407120541297, 327.59341834297066, 321.09908966756063, 315.25646012794334, 312.67861391772897, 312.53793339351745, 301.7149871223358, 279.88460405971625, 269.29884696175105, 205.9139702011791, 197.4400946575109, 184.6581268517884, 180.9357812482599, 177.77371505723428, 172.75827342951226, 361.1942151751232, 343.11749157226546, 444.640157305707, 433.2926671892659, 402.46296003981377, 606.5250362471157, 636.59312346533, 373.90716583942583, 597.6023626902756, 553.5761890812486, 460.82330295871947, 429.0335756274856, 410.56665581824564, 445.3932278417435, 364.4177216626152, 366.8937441236333, 1369.470355947134, 997.3343316023357, 915.280326974778, 855.6150989509255, 628.3201466831217, 591.2484641725536, 577.8754587751494, 564.1588227812157, 386.4386008115968, 384.6796713361327, 375.8590954280537, 349.37024247163873, 307.15848359130086, 307.01747227402257, 281.9519183671437, 281.24876763856867, 281.0430014778066, 272.610998952905, 270.13717334604365, 262.54487847837794, 250.08628593238612, 232.0936584770589, 231.87348757698663, 219.42446864235177, 219.21453618775845, 218.06452828464316, 214.77080707738185, 207.9451767580805, 200.06263747388263, 197.61544955417648, 3832.727227737705, 1129.3749091055263, 2249.7442411279553, 819.6365810260409, 413.28907920811037, 670.3730766917114, 2064.851389749621, 1542.3188950820386, 401.73293249933477, 490.0587163002848, 374.3377333455211, 686.3742156956954, 332.92034043529804, 333.82411594075825, 281.9876864429079, 1183.2502699968386, 1078.7490143050004, 1020.649405455117, 992.0691261737815, 898.3389734668128, 762.6069284877153, 838.9253724043609, 667.2969574938385, 873.4278610114303, 648.8697406205855, 620.0305786338981, 609.117378795319, 596.0117294619074, 557.5347676355316, 450.1505605503665, 436.576597126079, 433.6349904121727, 409.24345994658955, 366.6959076825317, 356.4354248972558, 273.98283742704274, 250.6214889666405, 250.4835096922147, 221.62945175694256, 215.20037649507933, 208.11797865354768, 192.06416273727294, 189.6931435173313, 188.50015565674977, 187.04979890672956, 884.8051362563285, 789.2536409795699, 945.404923099859, 218.333551566735, 613.5889487920623, 390.5519509991219, 786.380378008087, 491.40547549833667, 367.8623129356792, 374.2132349280023, 467.40709311749094, 387.83741667218027, 1282.8026666853484, 1238.4541511040923, 817.3569721098343, 761.1294223075037, 748.4544846155932, 730.2185360247869, 585.6451557580581, 488.2214460326793, 473.7066346705453, 244.23646013561915, 241.51713084917392, 241.0118425485173, 238.98196612027144, 218.55194455232092, 196.37380220028425, 188.73714065537413, 188.600181469803, 179.994776188106, 176.9635802274008, 153.95683366682206, 152.4873676927887, 137.74299238144437, 125.13957832459289, 123.80454997872503, 122.2081542569095, 118.52203487274835, 117.96989330948757, 115.15757307493561, 113.46056494096307, 113.28801999254615, 212.25402553918693, 202.62701468211884, 420.5022277469354, 449.8896390219987, 302.3864135005567, 235.1012211228443, 248.64130288894472, 189.0592525763902, 158.05803320337262, 2001.4363622117555, 821.6467397854725, 736.9322336347255, 563.9690814440692, 509.42601023061127, 475.642423532507, 325.69790690308093, 276.7135049101502, 446.50579788339473, 236.86595033476712, 234.99332183950136, 225.07475908940054, 221.28974838085324, 216.82823731483666, 213.14730980292447, 203.21302341651645, 182.31671497082888, 171.92232022430537, 170.3902357801661, 167.2846963475163, 163.19434798173344, 156.45840686078074, 153.88672328038652, 149.02524979467893, 143.57075471726932, 138.07334300528598, 137.65917272399605, 130.82827337015206, 115.73147053580767, 112.86934431097792, 112.88336017444713, 133.3117388625245, 354.9586643956364, 241.75735531838083, 140.77562573454546, 157.885023700718, 145.0219372126454, 445.4081349471481, 334.41169223891063, 225.94524557990363, 219.34745515386507, 199.02677502389813, 197.83972233813557, 172.5457976216939, 157.00342328387165, 156.6301273127907, 153.31063501463902, 147.95329712470624, 132.77339627652174, 127.86675480009053, 111.27493508315955, 110.16244937837085, 109.25378847126602, 108.83987675844047, 105.68953707884866, 104.06164641349406, 101.248555710246, 98.78647890551807, 94.55900472504614, 92.63908310418792, 89.55218613533361, 84.5898227114563, 82.98038307759396, 82.19594179095796, 80.74607298147302, 79.64176072316545, 73.11095902618385, 74.5681042987925, 84.67237032940453, 122.32701911678745, 129.41397564443204, 116.8604001516467, 105.4297304600357], \"Total\": [4673.0, 3944.0, 4297.0, 4197.0, 2002.0, 2832.0, 3368.0, 3213.0, 2485.0, 2877.0, 2337.0, 2372.0, 2192.0, 2361.0, 1283.0, 2156.0, 1667.0, 1772.0, 1239.0, 1641.0, 1510.0, 1640.0, 1370.0, 1474.0, 1963.0, 1399.0, 2524.0, 1184.0, 1246.0, 1079.0, 4197.005573910325, 2877.461684725645, 2361.5907793693605, 1254.50839698203, 2156.4544948727194, 665.6672651187941, 617.3999698328432, 611.3356163051728, 578.6855888052138, 564.7805125362596, 532.9324607952285, 485.4665029923009, 475.95760907187423, 433.2257808604349, 402.76501278833217, 418.4829131001667, 309.6562995222723, 4297.183132806034, 274.70052786123085, 265.3254938223254, 261.77668995512016, 251.78878357712537, 247.7512619196209, 212.82644044124012, 212.33556920855915, 203.66526011539617, 195.60504358430768, 195.14481323041036, 194.98055773199624, 191.56116652031125, 3368.0778227376263, 1044.0970214690828, 943.2587856435215, 1515.5109329151792, 556.5138719953407, 588.1564408618889, 1601.3424008545105, 1526.265309793604, 1963.7687215126998, 1326.3991562419903, 856.9749884322366, 953.9863683620098, 1833.6662921524116, 1173.5336281924192, 2635.6395926281684, 1817.4640431617484, 2524.262260914609, 1902.7533538030273, 1471.6717480653322, 1091.9062871330445, 2710.4657023093305, 2007.501665365497, 3213.6012129082433, 897.4281972420237, 928.2182118627679, 4673.650706046672, 2832.1446355507837, 2485.094100563764, 1772.2834055199492, 1474.8889417603343, 1399.0915505093515, 1246.7625897270664, 1118.9693195502566, 1070.1337065802793, 1014.1545014579422, 979.2086404938185, 872.7790532063894, 709.8697009157315, 643.3268169104063, 620.4404348870535, 564.8602702030298, 490.2413690953774, 477.29115270274247, 453.2698804733925, 432.8868976004191, 374.98871377185355, 365.2602385140082, 324.57791401185676, 314.491218585011, 303.76953858635005, 301.08055577847784, 272.3934495103013, 265.99875288976386, 258.2797078714955, 230.6654225069565, 574.3766634866145, 495.62234701263793, 524.9883176539739, 547.4704067150285, 913.752769205837, 501.5534101996095, 1134.9209176522008, 1315.124073659223, 1057.947014070704, 1863.1472274355708, 1641.4998291383642, 1510.9031958377034, 858.8392842102925, 582.5074773906824, 483.0178129364162, 450.5696982885392, 435.5071729485922, 409.856115796555, 387.9943137564045, 379.337324291758, 331.6440119182298, 314.50472098516394, 302.2642180073117, 302.05039446444044, 300.16236540686276, 262.3137054551317, 261.04958149030733, 260.77228470261986, 258.5851034096944, 248.53222701914194, 243.2106465874332, 236.10993753342134, 230.91907174689266, 229.82902058625447, 221.02547470337387, 219.50278127517953, 218.72839543163488, 203.92116726870165, 200.99129064505868, 198.86727586712425, 762.7623002745751, 827.6208169095623, 852.2488900622776, 1167.9947836397955, 1006.2966355055747, 611.3477555274221, 422.6545630584447, 632.7585289276188, 1017.2243838002604, 1134.9209176522008, 548.863933377298, 2710.4657023093305, 519.25483344916, 1667.1422125758197, 709.5244753319425, 628.046824696157, 603.5972519422871, 574.2162376320592, 450.68945010447715, 395.29620815212047, 378.1879909133938, 370.2215326149499, 355.2085483138989, 350.6168292881988, 325.6951272447396, 320.4107738923005, 312.73073456570046, 274.1575212027342, 261.6378572152929, 262.5138265645013, 241.75470774201227, 238.68716136245345, 240.34805154084484, 226.5471870105669, 226.1470580696462, 225.02383957541818, 220.98085262225266, 216.62621639534876, 204.5419635407272, 196.4116038681021, 193.21698883467042, 184.29496764193692, 188.81951474187423, 1640.735203131255, 2192.222082102654, 3213.6012129082433, 642.5925710704889, 286.8288140914984, 994.9616456546881, 1182.2598554516833, 656.6510518529373, 2524.262260914609, 1315.124073659223, 793.2493531081932, 644.7891590362034, 308.42684448850446, 781.1547738278001, 1963.7687215126998, 1006.2966355055747, 2635.6395926281684, 1091.9062871330445, 1050.2722739472774, 837.221251607489, 833.256893932913, 760.7305736680873, 598.4016793525894, 555.3416866862876, 447.8550596428529, 432.251205945169, 416.66722167011307, 400.92245286956575, 391.8817914741102, 378.8181856085816, 364.81704362593405, 361.96667552068294, 349.2143321237234, 346.7754518087316, 328.67476555532494, 322.18060007825005, 316.3376196401418, 313.7597686283096, 313.6192710160495, 302.7960743311972, 280.9657816561917, 270.3801166865366, 206.99520435641938, 198.52122371527395, 185.73939182577047, 182.01701574594807, 178.85539315387254, 173.8395135465732, 388.25068338481003, 369.44769071102377, 493.6962228918147, 524.6253962151218, 481.2482752027052, 807.7105826085975, 866.1791958916253, 554.1524504183681, 2007.501665365497, 1833.6662921524116, 1075.3796922042457, 1057.947014070704, 954.7398088041997, 1902.7533538030273, 647.4544275409941, 818.538466164181, 1370.5720390926829, 998.436223546298, 916.382194580089, 856.7167310620905, 629.421857863542, 592.3501107834757, 578.977209521964, 565.2605618863165, 387.54028378065215, 385.7813926955618, 376.9607227096344, 350.47190952632485, 308.260036430285, 308.1191608120918, 283.0540166735209, 282.3504756521899, 282.1449236629028, 273.7126971110695, 271.2389238638713, 263.646966783487, 251.18793368260614, 233.19576850511655, 232.97522821111212, 220.52611427943415, 220.31635768199604, 219.16630635066016, 215.87240945584352, 209.04679517920536, 201.164388058334, 198.71721715751931, 3944.353891498919, 1155.440450681103, 2337.751994680446, 843.42421012575, 423.50197342739546, 710.4852613751868, 2372.890012104765, 1963.4044116127754, 554.8209130018294, 954.7398088041997, 603.0389159925425, 2710.4657023093305, 583.5358581022332, 1321.1767304420455, 1863.1472274355708, 1184.3589588493446, 1079.8576016426048, 1021.7582684012684, 993.1778704758353, 899.4478193731499, 763.7155783213017, 840.2590839876082, 668.4055983707198, 874.9139166525183, 649.9783839668337, 621.1392775497777, 610.2260811935402, 597.1203493877273, 558.6434935803854, 451.259277312187, 437.6856323135709, 434.74387413884523, 410.3521721621514, 367.8055260278876, 357.54427725308284, 275.09141817574556, 251.73003355936368, 251.59242505787103, 222.7382647880461, 216.309031852437, 209.22663404561416, 193.173030410963, 190.80193207156958, 189.60876881470446, 188.1584545706517, 943.095075233904, 1073.3485076965728, 1450.2346108243312, 228.08848256357408, 1075.3796922042457, 558.5651603988102, 1863.1472274355708, 1017.2243838002604, 588.0611930887432, 650.1991502030567, 1817.4640431617484, 1471.6717480653322, 1283.8718652615341, 1239.523275119723, 818.4261781544284, 762.1990787643731, 749.5236285685006, 731.298443141453, 586.7143464764475, 489.29050599014323, 474.7758144942289, 245.30575542361737, 242.58660950938446, 242.08090779006062, 240.05137610811903, 219.62130152373044, 197.44303213122186, 189.80665090410005, 189.6695295276813, 181.06392449377526, 178.03302110720344, 155.02602920994002, 153.55655681814454, 138.81245924414634, 126.20885226765536, 124.87361121325475, 123.2772638392963, 119.5911305056149, 119.03902594270876, 116.2269318574371, 114.5296816478857, 114.3571591721068, 215.21497874872983, 236.02881636914287, 617.8564609328108, 677.5796195410669, 420.8461330691208, 357.3695346851555, 493.1005893292117, 472.98905767368916, 525.0369875870572, 2002.5438105011585, 822.7541769529998, 738.039671586908, 565.0767026735496, 510.5335602882221, 476.74990512301247, 326.80530440546727, 277.82096822409255, 448.41691423123547, 237.9735400660287, 236.10093814354934, 226.1823865175376, 222.39740516556665, 217.93583439773593, 214.2549917209085, 204.32070146064171, 183.42410667760564, 173.0300657784913, 171.49763494550635, 168.3923617075094, 164.301755460764, 157.5657308705132, 154.99425016689588, 150.13270927326786, 144.67805254532013, 139.18076362863005, 138.7666337409912, 131.9361489400982, 116.83890571859126, 113.97716487483537, 113.99137623562731, 137.38710000611835, 420.33261047134596, 729.2400932837279, 194.0613974067368, 603.0389159925425, 1450.2346108243312, 446.51472904703206, 335.5184777457792, 227.0524924154453, 220.4540090801494, 200.13319211942897, 198.9461485816466, 173.65229656149813, 158.11011779915913, 157.73674450905, 154.41728232913977, 149.05964031351078, 133.87985400214473, 128.99505769363472, 112.38148315413075, 111.2687790024282, 110.36066098442987, 109.94635107161272, 106.7962289250444, 105.16800576247459, 102.35504336049574, 99.89294390768586, 95.6663572094372, 93.74642027475745, 90.65865011214606, 85.69654442562585, 84.08696478550223, 83.30240785001206, 81.8526681474071, 80.74827596799214, 74.21770368808008, 75.71172468273862, 93.83580523295852, 185.5988887066137, 310.5578815816738, 529.1166579911259, 319.82899646930497], \"Category\": [\"Default\", \"Default\", \"Default\", \"Default\", \"Default\", \"Default\", \"Default\", \"Default\", \"Default\", \"Default\", \"Default\", \"Default\", \"Default\", \"Default\", \"Default\", \"Default\", \"Default\", \"Default\", \"Default\", \"Default\", \"Default\", \"Default\", \"Default\", \"Default\", \"Default\", \"Default\", \"Default\", \"Default\", \"Default\", \"Default\", \"Topic1\", \"Topic1\", \"Topic1\", \"Topic1\", \"Topic1\", \"Topic1\", \"Topic1\", \"Topic1\", \"Topic1\", \"Topic1\", \"Topic1\", \"Topic1\", \"Topic1\", \"Topic1\", \"Topic1\", \"Topic1\", \"Topic1\", \"Topic1\", \"Topic1\", \"Topic1\", \"Topic1\", \"Topic1\", \"Topic1\", \"Topic1\", \"Topic1\", \"Topic1\", \"Topic1\", \"Topic1\", \"Topic1\", \"Topic1\", \"Topic1\", \"Topic1\", \"Topic1\", \"Topic1\", \"Topic1\", \"Topic1\", \"Topic1\", \"Topic1\", \"Topic1\", \"Topic1\", \"Topic1\", \"Topic1\", \"Topic1\", \"Topic1\", \"Topic1\", \"Topic1\", \"Topic1\", \"Topic1\", \"Topic1\", \"Topic1\", \"Topic1\", \"Topic1\", \"Topic1\", \"Topic1\", \"Topic1\", \"Topic2\", \"Topic2\", \"Topic2\", \"Topic2\", \"Topic2\", \"Topic2\", \"Topic2\", \"Topic2\", \"Topic2\", \"Topic2\", \"Topic2\", \"Topic2\", \"Topic2\", \"Topic2\", \"Topic2\", \"Topic2\", \"Topic2\", \"Topic2\", \"Topic2\", \"Topic2\", \"Topic2\", \"Topic2\", \"Topic2\", \"Topic2\", \"Topic2\", \"Topic2\", \"Topic2\", \"Topic2\", \"Topic2\", \"Topic2\", \"Topic2\", \"Topic2\", \"Topic2\", \"Topic2\", \"Topic2\", \"Topic2\", \"Topic2\", \"Topic2\", \"Topic2\", \"Topic2\", \"Topic3\", \"Topic3\", \"Topic3\", \"Topic3\", \"Topic3\", \"Topic3\", \"Topic3\", \"Topic3\", \"Topic3\", \"Topic3\", \"Topic3\", \"Topic3\", \"Topic3\", \"Topic3\", \"Topic3\", \"Topic3\", \"Topic3\", \"Topic3\", \"Topic3\", \"Topic3\", \"Topic3\", \"Topic3\", \"Topic3\", \"Topic3\", \"Topic3\", \"Topic3\", \"Topic3\", \"Topic3\", \"Topic3\", \"Topic3\", \"Topic3\", \"Topic3\", \"Topic3\", \"Topic3\", \"Topic3\", \"Topic3\", \"Topic3\", \"Topic3\", \"Topic3\", \"Topic3\", \"Topic3\", \"Topic3\", \"Topic3\", \"Topic4\", \"Topic4\", \"Topic4\", \"Topic4\", \"Topic4\", \"Topic4\", \"Topic4\", \"Topic4\", \"Topic4\", \"Topic4\", \"Topic4\", \"Topic4\", \"Topic4\", \"Topic4\", \"Topic4\", \"Topic4\", \"Topic4\", \"Topic4\", \"Topic4\", \"Topic4\", \"Topic4\", \"Topic4\", \"Topic4\", \"Topic4\", \"Topic4\", \"Topic4\", \"Topic4\", \"Topic4\", \"Topic4\", \"Topic4\", \"Topic4\", \"Topic4\", \"Topic4\", \"Topic4\", \"Topic4\", \"Topic4\", \"Topic4\", \"Topic4\", \"Topic4\", \"Topic4\", \"Topic4\", \"Topic4\", \"Topic4\", \"Topic4\", \"Topic4\", \"Topic4\", \"Topic4\", \"Topic4\", \"Topic5\", \"Topic5\", \"Topic5\", \"Topic5\", \"Topic5\", \"Topic5\", \"Topic5\", \"Topic5\", \"Topic5\", \"Topic5\", \"Topic5\", \"Topic5\", \"Topic5\", \"Topic5\", \"Topic5\", \"Topic5\", \"Topic5\", \"Topic5\", \"Topic5\", \"Topic5\", \"Topic5\", \"Topic5\", \"Topic5\", \"Topic5\", \"Topic5\", \"Topic5\", \"Topic5\", \"Topic5\", \"Topic5\", \"Topic5\", \"Topic5\", \"Topic5\", \"Topic5\", \"Topic5\", \"Topic5\", \"Topic5\", \"Topic5\", \"Topic5\", \"Topic5\", \"Topic5\", \"Topic5\", \"Topic5\", \"Topic5\", \"Topic5\", \"Topic5\", \"Topic5\", \"Topic6\", \"Topic6\", \"Topic6\", \"Topic6\", \"Topic6\", \"Topic6\", \"Topic6\", \"Topic6\", \"Topic6\", \"Topic6\", \"Topic6\", \"Topic6\", \"Topic6\", \"Topic6\", \"Topic6\", \"Topic6\", \"Topic6\", \"Topic6\", \"Topic6\", \"Topic6\", \"Topic6\", \"Topic6\", \"Topic6\", \"Topic6\", \"Topic6\", \"Topic6\", \"Topic6\", \"Topic6\", \"Topic6\", \"Topic6\", \"Topic6\", \"Topic6\", \"Topic6\", \"Topic6\", \"Topic6\", \"Topic6\", \"Topic6\", \"Topic6\", \"Topic6\", \"Topic6\", \"Topic6\", \"Topic6\", \"Topic6\", \"Topic6\", \"Topic6\", \"Topic7\", \"Topic7\", \"Topic7\", \"Topic7\", \"Topic7\", \"Topic7\", \"Topic7\", \"Topic7\", \"Topic7\", \"Topic7\", \"Topic7\", \"Topic7\", \"Topic7\", \"Topic7\", \"Topic7\", \"Topic7\", \"Topic7\", \"Topic7\", \"Topic7\", \"Topic7\", \"Topic7\", \"Topic7\", \"Topic7\", \"Topic7\", \"Topic7\", \"Topic7\", \"Topic7\", \"Topic7\", \"Topic7\", \"Topic7\", \"Topic7\", \"Topic7\", \"Topic7\", \"Topic7\", \"Topic7\", \"Topic7\", \"Topic7\", \"Topic7\", \"Topic7\", \"Topic7\", \"Topic7\", \"Topic7\", \"Topic8\", \"Topic8\", \"Topic8\", \"Topic8\", \"Topic8\", \"Topic8\", \"Topic8\", \"Topic8\", \"Topic8\", \"Topic8\", \"Topic8\", \"Topic8\", \"Topic8\", \"Topic8\", \"Topic8\", \"Topic8\", \"Topic8\", \"Topic8\", \"Topic8\", \"Topic8\", \"Topic8\", \"Topic8\", \"Topic8\", \"Topic8\", \"Topic8\", \"Topic8\", \"Topic8\", \"Topic8\", \"Topic8\", \"Topic8\", \"Topic8\", \"Topic8\", \"Topic8\", \"Topic8\", \"Topic8\", \"Topic8\", \"Topic8\", \"Topic8\", \"Topic8\", \"Topic9\", \"Topic9\", \"Topic9\", \"Topic9\", \"Topic9\", \"Topic9\", \"Topic9\", \"Topic9\", \"Topic9\", \"Topic9\", \"Topic9\", \"Topic9\", \"Topic9\", \"Topic9\", \"Topic9\", \"Topic9\", \"Topic9\", \"Topic9\", \"Topic9\", \"Topic9\", \"Topic9\", \"Topic9\", \"Topic9\", \"Topic9\", \"Topic9\", \"Topic9\", \"Topic9\", \"Topic9\", \"Topic9\", \"Topic9\", \"Topic9\", \"Topic9\", \"Topic9\", \"Topic9\", \"Topic9\", \"Topic9\", \"Topic9\", \"Topic10\", \"Topic10\", \"Topic10\", \"Topic10\", \"Topic10\", \"Topic10\", \"Topic10\", \"Topic10\", \"Topic10\", \"Topic10\", \"Topic10\", \"Topic10\", \"Topic10\", \"Topic10\", \"Topic10\", \"Topic10\", \"Topic10\", \"Topic10\", \"Topic10\", \"Topic10\", \"Topic10\", \"Topic10\", \"Topic10\", \"Topic10\", \"Topic10\", \"Topic10\", \"Topic10\", \"Topic10\", \"Topic10\", \"Topic10\", \"Topic10\", \"Topic10\", \"Topic10\", \"Topic10\", \"Topic10\", \"Topic10\"], \"logprob\": [30.0, 29.0, 28.0, 27.0, 26.0, 25.0, 24.0, 23.0, 22.0, 21.0, 20.0, 19.0, 18.0, 17.0, 16.0, 15.0, 14.0, 13.0, 12.0, 11.0, 10.0, 9.0, 8.0, 7.0, 6.0, 5.0, 4.0, 3.0, 2.0, 1.0, -2.9386, -3.3161, -3.5138, -4.1468, -3.6055, -4.7813, -4.8567, -4.8666, -4.9216, -4.946, -5.0041, -5.0976, -5.1174, -5.2117, -5.2848, -5.2468, -5.5486, -2.9187, -5.6688, -5.7037, -5.7172, -5.7563, -5.7725, -5.9252, -5.9275, -5.9694, -6.01, -6.0124, -6.0133, -6.0311, -3.1754, -4.3474, -4.4627, -4.0151, -4.9949, -4.9733, -4.0525, -4.1124, -3.9883, -4.3286, -4.7105, -4.6211, -4.1277, -4.4831, -3.8963, -4.1754, -4.0391, -4.3023, -4.4991, -4.6846, -4.2716, -4.4891, -4.4524, -4.8227, -4.8261, -2.4983, -2.9993, -3.1301, -3.4683, -3.6521, -3.7049, -3.8203, -3.9286, -3.9732, -4.027, -4.0621, -4.1773, -4.3842, -4.4828, -4.5191, -4.6131, -4.7551, -4.782, -4.8337, -4.8798, -5.0238, -5.0502, -5.1687, -5.2004, -5.2352, -5.2441, -5.3446, -5.3685, -5.3981, -5.5117, -4.6473, -4.8457, -4.806, -4.8109, -4.5163, -4.9196, -4.4508, -4.3764, -4.6389, -4.5388, -3.4098, -3.4928, -4.0582, -4.447, -4.6347, -4.7044, -4.7385, -4.7993, -4.8543, -4.8769, -5.0117, -5.0649, -5.1048, -5.1055, -5.1118, -5.2471, -5.2519, -5.253, -5.2614, -5.3013, -5.323, -5.3528, -5.3751, -5.3798, -5.4191, -5.426, -5.4296, -5.5, -5.5146, -5.5253, -4.2108, -4.1565, -4.1435, -4.0241, -4.397, -4.7872, -5.0274, -4.8124, -4.6365, -4.7452, -5.0553, -4.5866, -5.0876, -3.3794, -4.2346, -4.3568, -4.3966, -4.4466, -4.6893, -4.8208, -4.8652, -4.8866, -4.9281, -4.9411, -5.0151, -5.0315, -5.0559, -5.188, -5.235, -5.2317, -5.3143, -5.3272, -5.3204, -5.3796, -5.3814, -5.3864, -5.4046, -5.4246, -5.4823, -5.5232, -5.5396, -5.5872, -5.5632, -3.4816, -3.2433, -3.0617, -4.4999, -5.1951, -4.1885, -4.2199, -4.6319, -3.8644, -4.401, -4.6918, -4.8033, -5.214, -4.8345, -4.595, -4.8294, -4.5699, -4.9337, -3.835, -4.062, -4.0667, -4.1579, -4.3983, -4.4731, -4.6887, -4.7243, -4.7611, -4.7997, -4.8226, -4.8566, -4.8943, -4.9022, -4.9382, -4.9452, -4.999, -5.019, -5.0374, -5.0456, -5.046, -5.0813, -5.1564, -5.195, -5.4633, -5.5053, -5.5723, -5.5926, -5.6103, -5.6389, -4.9014, -4.9527, -4.6935, -4.7194, -4.7932, -4.383, -4.3346, -4.8668, -4.3978, -4.4744, -4.6578, -4.7292, -4.7732, -4.6918, -4.8925, -4.8857, -3.5482, -3.8653, -3.9512, -4.0186, -4.3273, -4.3882, -4.411, -4.4351, -4.8134, -4.818, -4.8412, -4.9143, -5.043, -5.0435, -5.1287, -5.1312, -5.1319, -5.1623, -5.1715, -5.2, -5.2486, -5.3233, -5.3242, -5.3794, -5.3803, -5.3856, -5.4008, -5.4331, -5.4718, -5.4841, -2.5191, -3.741, -3.0518, -4.0615, -4.7462, -4.2626, -3.1376, -3.4293, -4.7746, -4.5759, -4.8452, -4.239, -4.9625, -4.9598, -5.1285, -3.6009, -3.6934, -3.7488, -3.7772, -3.8764, -4.0402, -3.9448, -4.1737, -3.9045, -4.2017, -4.2472, -4.2649, -4.2867, -4.3534, -4.5674, -4.598, -4.6047, -4.6626, -4.7724, -4.8008, -5.0639, -5.153, -5.1536, -5.2759, -5.3054, -5.3388, -5.4191, -5.4315, -5.4379, -5.4456, -3.8916, -4.0059, -3.8253, -5.2909, -4.2576, -4.7094, -4.0095, -4.4797, -4.7692, -4.7521, -4.5298, -4.7164, -2.9452, -2.9804, -3.3959, -3.4672, -3.484, -3.5087, -3.7293, -3.9112, -3.9414, -4.6039, -4.6151, -4.6172, -4.6256, -4.715, -4.822, -4.8617, -4.8624, -4.9091, -4.9261, -5.0653, -5.0749, -5.1766, -5.2726, -5.2833, -5.2963, -5.3269, -5.3316, -5.3557, -5.3706, -5.3721, -4.7442, -4.7906, -4.0606, -3.993, -4.3903, -4.642, -4.586, -4.8599, -5.039, -2.3835, -3.2738, -3.3826, -3.6501, -3.7518, -3.8204, -4.1991, -4.3621, -3.8836, -4.5176, -4.5255, -4.5687, -4.5856, -4.606, -4.6231, -4.6708, -4.7794, -4.8381, -4.847, -4.8654, -4.8902, -4.9323, -4.9489, -4.981, -5.0183, -5.0573, -5.0603, -5.1112, -5.2338, -5.2589, -5.2587, -5.0924, -4.1131, -4.4972, -5.0379, -4.9232, -5.0082, -3.6993, -3.9859, -4.378, -4.4076, -4.5048, -4.5108, -4.6476, -4.742, -4.7444, -4.7658, -4.8014, -4.9096, -4.9473, -5.0863, -5.0963, -5.1046, -5.1084, -5.1378, -5.1533, -5.1807, -5.2053, -5.249, -5.2695, -5.3034, -5.3604, -5.3797, -5.3892, -5.407, -5.4207, -5.5063, -5.4865, -5.3595, -4.9916, -4.9352, -5.0373, -5.1402], \"loglift\": [30.0, 29.0, 28.0, 27.0, 26.0, 25.0, 24.0, 23.0, 22.0, 21.0, 20.0, 19.0, 18.0, 17.0, 16.0, 15.0, 14.0, 13.0, 12.0, 11.0, 10.0, 9.0, 8.0, 7.0, 6.0, 5.0, 4.0, 3.0, 2.0, 1.0, 1.7098, 1.7097, 1.7096, 1.7092, 1.7088, 1.7084, 1.7083, 1.7082, 1.7081, 1.7081, 1.708, 1.7078, 1.7077, 1.7075, 1.7073, 1.7071, 1.7065, 1.7061, 1.706, 1.7059, 1.7058, 1.7056, 1.7055, 1.7048, 1.7048, 1.7046, 1.7043, 1.7043, 1.7043, 1.7042, 1.693, 1.6922, 1.6784, 1.6519, 1.6739, 1.6402, 1.5594, 1.5475, 1.4196, 1.4716, 1.5266, 1.5088, 1.3487, 1.4396, 1.2173, 1.3099, 1.1177, 1.1371, 1.1972, 1.3102, 0.814, 0.8968, 0.463, 1.3682, 1.3311, 2.0425, 2.0424, 2.0423, 2.0421, 2.042, 2.042, 2.0419, 2.0418, 2.0417, 2.0417, 2.0416, 2.0415, 2.0412, 2.041, 2.041, 2.0408, 2.0405, 2.0404, 2.0403, 2.0402, 2.0398, 2.0397, 2.0393, 2.0392, 2.039, 2.039, 2.0386, 2.0385, 2.0384, 2.0379, 1.9899, 1.939, 1.9211, 1.8742, 1.6566, 1.8532, 1.5054, 1.4323, 1.3875, 0.9216, 2.1773, 2.1773, 2.1767, 2.1761, 2.1758, 2.1756, 2.1755, 2.1754, 2.1752, 2.1751, 2.1747, 2.1746, 2.1744, 2.1744, 2.1744, 2.1739, 2.1739, 2.1739, 2.1738, 2.1737, 2.1736, 2.1734, 2.1733, 2.1733, 2.1731, 2.1731, 2.1731, 2.1727, 2.1726, 2.1726, 2.1427, 2.1154, 2.0991, 1.9033, 1.6795, 1.7876, 1.9166, 1.728, 1.4292, 1.2109, 1.6273, 0.499, 1.6505, 2.1922, 2.1913, 2.1911, 2.191, 2.1909, 2.1904, 2.19, 2.1899, 2.1898, 2.1897, 2.1897, 2.1894, 2.1894, 2.1893, 2.1888, 2.1886, 2.1885, 2.1882, 2.1882, 2.188, 2.1879, 2.1879, 2.1879, 2.1878, 2.1877, 2.1874, 2.1871, 2.1871, 2.1868, 2.1865, 2.106, 2.0545, 1.8537, 2.025, 2.1365, 1.8993, 1.6954, 1.8714, 1.2924, 1.4078, 1.6225, 1.7183, 2.045, 1.4952, 0.8129, 1.2471, 0.5437, 1.0611, 2.1987, 2.1984, 2.1984, 2.1983, 2.1979, 2.1978, 2.1973, 2.1972, 2.1971, 2.197, 2.1969, 2.1969, 2.1967, 2.1967, 2.1966, 2.1966, 2.1964, 2.1963, 2.1963, 2.1963, 2.1963, 2.1961, 2.1959, 2.1957, 2.1945, 2.1943, 2.1939, 2.1938, 2.1936, 2.1935, 2.1275, 2.1258, 2.0951, 2.0084, 2.0209, 1.9133, 1.8918, 1.8063, 0.988, 1.002, 1.3523, 1.2972, 1.3558, 0.7476, 1.625, 1.3973, 2.2193, 2.219, 2.2189, 2.2188, 2.2183, 2.2182, 2.2182, 2.2181, 2.2172, 2.2172, 2.2172, 2.2169, 2.2165, 2.2165, 2.2162, 2.2162, 2.2162, 2.2161, 2.216, 2.2159, 2.2157, 2.2154, 2.2154, 2.2151, 2.2151, 2.2151, 2.215, 2.2148, 2.2146, 2.2145, 2.1914, 2.1973, 2.1817, 2.1915, 2.1957, 2.162, 2.081, 1.9787, 1.8972, 1.5532, 1.7433, 0.8466, 1.6589, 0.8444, 0.3319, 2.3126, 2.3125, 2.3124, 2.3124, 2.3123, 2.3121, 2.3119, 2.3119, 2.3118, 2.3118, 2.3117, 2.3117, 2.3117, 2.3115, 2.3111, 2.311, 2.311, 2.3108, 2.3105, 2.3104, 2.3095, 2.3091, 2.3091, 2.3085, 2.3084, 2.3082, 2.3078, 2.3077, 2.3077, 2.3076, 2.2497, 2.0061, 1.8857, 2.2698, 1.7524, 1.9557, 1.451, 1.586, 1.8444, 1.7611, 0.9555, 0.98, 2.8876, 2.8876, 2.8872, 2.8871, 2.8871, 2.887, 2.8867, 2.8863, 2.8862, 2.8841, 2.8841, 2.8841, 2.884, 2.8836, 2.883, 2.8828, 2.8828, 2.8826, 2.8825, 2.8816, 2.8815, 2.8807, 2.88, 2.8799, 2.8798, 2.8795, 2.8795, 2.8792, 2.8791, 2.8791, 2.8746, 2.7359, 2.5037, 2.479, 2.5579, 2.4697, 2.2038, 1.9715, 1.688, 3.0048, 3.004, 3.0039, 3.0034, 3.0032, 3.0031, 3.002, 3.0014, 3.0011, 3.0007, 3.0007, 3.0005, 3.0004, 3.0003, 3.0002, 3.0, 2.9993, 2.999, 2.9989, 2.9988, 2.9986, 2.9983, 2.9982, 2.998, 2.9977, 2.9974, 2.9974, 2.997, 2.9959, 2.9956, 2.9956, 2.9753, 2.8363, 1.9013, 2.6844, 1.6653, 0.7028, 3.1897, 3.1889, 3.1873, 3.1872, 3.1867, 3.1866, 3.1858, 3.1852, 3.1852, 3.185, 3.1848, 3.1839, 3.1834, 3.1823, 3.1822, 3.1821, 3.1821, 3.1818, 3.1816, 3.1814, 3.1811, 3.1806, 3.1803, 3.1799, 3.1792, 3.179, 3.1789, 3.1786, 3.1784, 3.1772, 3.177, 3.0895, 2.7753, 2.3169, 1.682, 2.0825]}, \"token.table\": {\"Topic\": [7, 1, 3, 3, 3, 8, 4, 9, 7, 7, 6, 10, 10, 1, 9, 3, 10, 1, 2, 3, 5, 6, 7, 4, 9, 7, 8, 6, 7, 5, 3, 6, 3, 10, 9, 1, 8, 9, 8, 10, 1, 6, 7, 3, 4, 1, 4, 6, 3, 8, 4, 7, 5, 10, 2, 5, 2, 5, 9, 4, 2, 5, 7, 10, 5, 3, 8, 2, 4, 9, 4, 1, 6, 2, 4, 8, 1, 2, 9, 2, 1, 10, 2, 8, 1, 2, 3, 5, 8, 10, 7, 1, 4, 9, 3, 3, 5, 5, 7, 5, 2, 3, 1, 6, 2, 3, 1, 2, 4, 5, 6, 9, 5, 6, 2, 8, 2, 3, 7, 5, 7, 9, 5, 2, 3, 7, 2, 7, 2, 6, 10, 2, 5, 7, 2, 7, 1, 1, 9, 9, 3, 8, 8, 10, 10, 9, 1, 7, 9, 2, 4, 5, 7, 9, 2, 3, 2, 6, 7, 2, 6, 6, 6, 3, 10, 7, 10, 1, 6, 10, 1, 6, 2, 5, 6, 10, 4, 2, 10, 2, 3, 7, 9, 10, 8, 1, 2, 2, 3, 1, 4, 6, 1, 5, 6, 1, 4, 10, 1, 4, 6, 7, 5, 7, 1, 1, 4, 7, 10, 5, 4, 1, 5, 6, 7, 4, 4, 8, 10, 4, 5, 8, 3, 6, 9, 4, 2, 3, 5, 7, 8, 3, 2, 9, 7, 9, 6, 1, 6, 7, 9, 2, 3, 2, 5, 8, 8, 5, 2, 4, 6, 3, 1, 4, 5, 6, 1, 6, 10, 8, 5, 3, 1, 1, 4, 6, 9, 7, 4, 8, 1, 4, 9, 4, 4, 4, 7, 8, 1, 2, 3, 4, 5, 6, 7, 9, 4, 3, 7, 8, 5, 6, 2, 3, 5, 9, 5, 8, 1, 2, 3, 4, 5, 6, 7, 4, 1, 2, 3, 4, 8, 8, 6, 7, 8, 2, 6, 10, 5, 2, 4, 5, 7, 3, 1, 1, 5, 7, 10, 4, 1, 2, 5, 7, 9, 6, 5, 7, 1, 1, 2, 7, 1, 5, 7, 8, 6, 4, 5, 8, 3, 5, 5, 3, 2, 9, 7, 10, 5, 1, 9, 1, 2, 4, 5, 6, 7, 10, 5, 1, 5, 2, 8, 1, 7, 2, 5, 10, 6, 5, 9, 2, 8, 8, 4, 2, 2, 3, 7, 8, 4, 1, 5, 8, 3, 7, 9, 7, 6, 3, 3, 3, 3, 7, 2, 2, 4, 6, 9, 1, 7, 8, 2, 1, 6, 3, 8, 9, 1, 7, 4, 9, 4, 2, 8, 6, 3, 8, 7, 3, 7, 3, 1, 8, 3, 7, 8, 1, 2, 4, 7, 9, 5, 2, 4, 5, 2, 2, 4, 8, 5, 3, 1, 4, 10, 8, 7, 2, 1, 7, 3, 1, 2, 5, 6, 7, 8, 3, 5, 9, 3, 1, 2, 10, 1, 3, 10, 9, 1, 6, 5, 6, 6, 3, 9, 8, 10, 8, 1, 4, 3, 2, 1, 4, 1, 6, 2, 3, 5, 8, 1, 4, 1, 5, 7, 4, 5, 6, 10, 5, 7, 2, 8, 2, 6, 2, 3, 6, 1, 7, 4, 1, 4, 6, 1, 1, 5, 6, 7, 8, 1, 6, 1, 10, 1, 1, 2, 9, 5, 5, 5, 7, 3, 9, 5, 6, 10, 6, 10, 1, 4, 2, 6, 10, 4, 7, 5, 6, 5, 3, 7, 8, 1, 2, 3, 5, 6, 7, 2, 7, 2, 3, 6, 8, 6, 2, 8, 10, 10, 1, 4, 4, 5, 6, 6, 4, 5, 8, 6, 9, 9, 4, 10, 8, 1, 5, 6, 1, 3, 5, 6, 4, 2, 3, 4, 6, 6, 7], \"Freq\": [0.9984947438392295, 0.3603270277311124, 0.6368938253317469, 0.9950679920414599, 0.317225783645749, 0.6813880352798996, 0.9931705750533344, 0.9915163302898623, 0.9981237460942739, 0.9967893425050433, 0.9977699454529254, 0.9934280328530188, 0.9934044788470108, 0.0022300675292643607, 0.9968401855811692, 0.9990227691889243, 0.9920378797124221, 0.5639196472077678, 0.059387623610883275, 0.10143195891062365, 0.2338716151048058, 0.009459975442441584, 0.03153325147480528, 0.9957778973283092, 0.9953370022490975, 0.9970999346043804, 0.9957501441585015, 0.9959124236638764, 0.9960325255401159, 0.9976576279764022, 0.05489206056789012, 0.9430174507817021, 0.9960199400597798, 0.9835928137416133, 0.9920770447210779, 0.9317248982208827, 0.03910524207861369, 0.02550341874692197, 0.9973624953389771, 0.987073325951591, 0.025064219884398328, 0.2739161173080674, 0.7000078553428389, 0.9959793787666107, 0.9968782087055874, 0.6703872013796809, 0.322371987548699, 0.006410806570570719, 0.9978928045526342, 0.9984268168280694, 0.9967209193374765, 0.9956808782818534, 0.9923372237647712, 0.9910609911695959, 0.06766857833618078, 0.9284128947724003, 0.16207850296636564, 0.835327669134346, 0.9975358282298009, 0.9976633746385201, 0.9952583140740132, 0.06043929344648842, 0.9383995561428465, 0.9925444097318901, 0.9960191975514594, 0.9246125271485157, 0.0750954336770368, 0.5429145540719627, 0.4562307177075316, 0.9913030593333826, 0.9978514126221941, 0.9988617914829386, 0.0009274482743574175, 0.9992198148084348, 0.9971210794978203, 0.9941975870499811, 0.9989975996210734, 0.9993883440734027, 0.9992290752926039, 0.9972948321052442, 0.9988152654593848, 0.9895828912275463, 0.9950452635941025, 0.9964700206229826, 0.06765484207475368, 0.2938757202622113, 0.0021142138148360526, 0.23467773344680182, 0.39958641100401393, 0.9953645414580188, 0.9939275663457395, 0.2532760947123576, 0.7457573899863863, 0.9985913066371181, 0.9974372981222897, 0.9994022146222262, 0.9973293797853287, 0.995170755316522, 0.9978970876752888, 0.9984915889180579, 0.9995597347547057, 0.9958175068962972, 0.997170572679215, 0.99831217964042, 0.8457078123694869, 0.1534329508402525, 0.4518699022198589, 0.12867317148639199, 0.13018697350387895, 0.03557434741094367, 0.2528049369203231, 0.9924552798737141, 0.9965626360245764, 0.994025147765487, 0.827429325692028, 0.17146728195063712, 0.32931807079026937, 0.5893060214141663, 0.07895930352281313, 0.03092788823932139, 0.12133248463118392, 0.8445692557660841, 0.9971053731534812, 0.5841816726504092, 0.3806432618174612, 0.034363627802965244, 0.996549751708165, 0.9992578788694758, 0.12937809946264198, 0.8702468253757514, 0.9908217376464453, 0.9998607713567832, 0.9975840339047957, 0.9967048495076148, 0.9979375694040266, 0.998848114069563, 0.9964564548426097, 0.9967335611629631, 0.993716630081514, 0.9912673142928051, 0.9950222302994537, 0.9979672040874674, 0.9955349316890449, 0.9913926104651138, 0.9876707789506458, 0.9969961616483032, 0.2636608687399432, 0.7350827753915731, 0.9984270471478773, 0.24957486797038825, 0.23449067265349666, 0.06582194320098152, 0.11793098156842521, 0.33185229697161517, 0.0327756104241133, 0.9649139708858955, 0.9018963787534824, 0.01008832638426714, 0.08675960690469742, 0.9971152047856829, 0.9952170236332327, 0.994678441362268, 0.9958140261580583, 0.9952990647279968, 0.9953292778334998, 0.9941372949423507, 0.9922860789287137, 0.9979880370570363, 0.9979745194808335, 0.9952441975459589, 0.8319962771660038, 0.16686601351295727, 0.027232550439647733, 0.43048377810366223, 0.5132288352087457, 0.02827995622578803, 0.9928130322226275, 0.997363350587519, 0.9929788313701134, 0.1572159416816028, 0.09033021210653495, 0.6516187056540117, 0.09998382256066846, 0.9927348343337199, 0.9971710325026769, 0.9974498488711142, 0.9979512024842162, 0.999595841421227, 0.995638921168188, 0.5530328688961943, 0.40645538931769004, 0.0404078457216417, 0.7878473045480048, 0.2050664754421601, 0.006031366924769415, 0.2872167200748297, 0.7122850186904497, 0.9954742351122321, 0.2765889398105879, 0.608157332488724, 0.1141880944172152, 0.993948325498817, 0.7515068058655628, 0.24761344509573735, 0.9941335195567885, 0.4336593514411363, 0.5647656669931078, 0.579602098917144, 0.4153815042239532, 0.9963355953835727, 0.9968587291454587, 0.8176217458319205, 0.13731852397946356, 0.02830229120187417, 0.015723495112152316, 0.9967005360106367, 0.30107162924730785, 0.6641285939278849, 0.03394435035631412, 0.7248903335444659, 0.27411819335715093, 0.995057070678104, 0.11607874408036656, 0.6201921469436728, 0.26200630806711306, 0.9937014398060423, 0.009830672720055023, 0.4728553578346466, 0.01277987453607153, 0.4826860305547016, 0.020644412712115548, 0.9949918535409641, 0.9964110741868271, 0.995705917751791, 0.9988525785707191, 0.9959090407036069, 0.996276270211927, 0.9961168337941154, 0.03945837114985177, 0.9557694345186318, 0.9941425321723973, 0.9976783671629724, 0.9966698634157788, 0.14200294879327663, 0.7354136453765627, 0.12237652497631969, 0.9983659350991682, 0.9975785020761867, 0.07368870207881308, 0.3547339844259141, 0.5706590184242966, 0.997737288799783, 0.9997604068203825, 0.019905828973221493, 0.0017309416498453474, 0.9771165613376986, 0.9981005977082369, 0.9960254872974085, 0.9885971697199938, 0.9926914000679304, 0.9977638215026844, 0.9963928811768863, 0.99949202287092, 0.9918502974863347, 0.9982407310868362, 0.9977207554132304, 0.9914266609815356, 0.999063030345833, 0.9983332059728771, 0.99042181078478, 0.8497867255958222, 0.14938425091430027, 0.9928199796683154, 0.9929733966233256, 0.997881917033425, 0.9978657118679666, 0.9985015526620278, 0.9912715520437069, 0.6108574193919146, 0.0163148254868648, 0.03225023642752344, 0.19236317492652216, 0.11344494931564128, 0.0015176581848246324, 0.0326296509737296, 0.0003794145462061581, 0.9973537786377465, 0.9979111796468105, 0.9984335050937205, 0.9898632995529592, 0.9013639954412094, 0.09722577928354618, 0.5189295803081775, 0.07467292685673228, 0.4055023496397234, 0.9980945902238486, 0.995217403631007, 0.9946770289944381, 0.4080479598239086, 0.01106820867515123, 0.18668378632088406, 0.008854566940120984, 0.005903044626747322, 0.2530930383717914, 0.12580863860755231, 0.997562060696866, 0.02918033939271925, 0.012969039730097444, 0.0907832781106821, 0.86244114205148, 0.9987824629127656, 0.9987710798576366, 0.3724102229050696, 0.6257852147445918, 0.9982574138114149, 0.999397282239249, 0.9977410097126779, 0.9930345710981932, 0.9990396420317844, 0.10426513317510866, 0.8450144375236418, 0.04979827256124592, 0.9983903242167412, 0.997038470926845, 0.9978152486628457, 0.9830532945669193, 0.007125726085655712, 0.009797873367776605, 0.9877071994837793, 0.9954500839673255, 0.443337116653381, 0.19227879441371357, 0.2978826918637324, 0.031880421871703805, 0.03437107983043066, 0.9991633978465648, 0.9965226738652491, 0.9981658259412094, 0.996979188093799, 0.598638929610606, 0.13725886921832284, 0.26364574879559044, 0.20760442135884102, 0.07999436419331489, 0.40949495956101667, 0.30093117958437504, 0.9973961854214594, 0.9965976373045197, 0.28038751155786285, 0.7176019363599541, 0.9965392695179096, 0.9976991738353306, 0.9987886246463541, 0.9938348960313146, 0.26795643386516615, 0.7265741764420852, 0.9938431968242133, 0.9867613425190661, 0.9957715442075356, 0.9937101013573127, 0.9922359895686519, 0.31956127504137005, 0.6796149034270232, 0.05328456432581259, 0.010656912865162517, 0.010656912865162517, 0.010656912865162517, 0.905837593538814, 0.9985413036217796, 0.9986180250222257, 0.9948956428325806, 0.9984770212238142, 0.9982244688832164, 0.9917944672852166, 0.9988140387428578, 0.43555189061108857, 0.5622017311433909, 0.9928911655007211, 0.9985615270035008, 0.9980907670362488, 0.9970449738572995, 0.9988616118586641, 0.9930040366033555, 0.9933815681458851, 0.9971092307950119, 0.9991337389387528, 0.9974667025866674, 0.019587567827142955, 0.3217957571602057, 0.6575826341969421, 0.9955613682786837, 0.5509820474454517, 0.4483601139966314, 0.9896390964601443, 0.2122426643543024, 0.5752083802065876, 0.2107046740328944, 0.9982889370429457, 0.9984916832864453, 0.9987356045231112, 0.9974120892019531, 0.9931537028075487, 0.7602773680484649, 0.23972709803329975, 0.9987748442923967, 0.14419067148562265, 0.1297716043370604, 0.7245581242152538, 0.9935361348546656, 0.6701645650612753, 0.2569514383280916, 0.0720784548629122, 0.9989405935227457, 0.02125137676965972, 0.9752020673188294, 0.007278703749882386, 0.007278703749882386, 0.9680675987343573, 0.9970330056688649, 0.9978124514696931, 0.9943912524682326, 0.9944753740843628, 0.995659798495963, 0.9488547057112479, 0.050489516450690254, 0.9930796663949722, 0.9388357374835173, 0.05920585731878037, 0.9992058196920591, 0.768949464660243, 0.2271358418688718, 0.9961275444865075, 0.996967676718173, 0.9956202037865199, 0.010139918929729408, 0.48468812484106566, 0.5049679627005245, 0.1523385684720051, 0.028163432826757248, 0.49798069861857136, 0.32003900939496877, 0.9953133696964318, 0.9979470113740406, 0.02440480055036242, 0.944814421306888, 0.027891200628985625, 0.9991073878279647, 0.08288967027735572, 0.9166622360084045, 0.9993209094418807, 0.9980254050905635, 0.9952155853799253, 0.7480514298386537, 0.2515571179988393, 0.9843653036733695, 0.9975818553605624, 0.9966855053452597, 0.998765696661736, 0.943576168895929, 0.056086695353953823, 0.9990863056384529, 0.6841063791731349, 0.1443626059987403, 0.10881062093934901, 0.009695995925288527, 0.014005327447638983, 0.03878398370115411, 0.3230158052443159, 0.6749045316277885, 0.9929045303533663, 0.9954827285414277, 0.9950042726643786, 0.9962452722844991, 0.9918719660133979, 0.5877720825890459, 0.18899423877461283, 0.221123259366297, 0.9935852448344034, 0.9649355155777608, 0.03414110762751854, 0.9978401628019332, 0.9949925317998394, 0.9948722547034968, 0.9964745776222921, 0.9900629987125823, 0.9941240393593046, 0.9962436629148343, 0.9866437972595732, 0.7626539014297856, 0.23603925217435826, 0.9953603777811127, 0.9948844235688986, 0.9987976190628466, 0.995596983599638, 0.9993263949947394, 0.9952707374705857, 0.9971984009348553, 0.6771923119973406, 0.1357656084439113, 0.18647324533260107, 0.9689811681705565, 0.029684324626669128, 0.996867280718707, 0.4286857965999629, 0.5709611260572175, 0.03678747796844703, 0.0008555227434522565, 0.9624630863837885, 0.9943378101981567, 0.8253508181720755, 0.1715509783729487, 0.004646516733240631, 0.9850615474470138, 0.027269788706410055, 0.9722272495328802, 0.8857339951447969, 0.11238345314740433, 0.9942117585047093, 0.9960013031153239, 0.003723369357440463, 0.9984702324309626, 0.12863660224128468, 0.8708059350305405, 0.9959586801386864, 0.997732475054668, 0.008149110751389885, 0.04482010913264437, 0.7853705486652002, 0.14923059063482727, 0.01171434670512296, 0.9826672990182276, 0.017239777175758378, 0.99788055491432, 0.9905995447109279, 0.9982503208871212, 0.9949709973989097, 0.9974678409990816, 0.9917314437935857, 0.9951921381004278, 0.9973709225492585, 0.9983986701247133, 0.9978099131990026, 0.9980581228815053, 0.9990833508061997, 0.9977604017131069, 0.3340537243086988, 0.6573315220267943, 0.9963907648880228, 0.9907332266971403, 0.7109203855647745, 0.2886024762715934, 0.05315340443695994, 0.6159541572988887, 0.32830043916945845, 0.9924613829160773, 0.997209415128953, 0.9298116280253889, 0.06696704246166235, 0.9977498534167837, 0.9965224529294098, 0.9979907754989068, 0.9941470726145888, 0.0134181559201899, 0.32579282574221075, 0.004293809894460768, 0.08265584046836978, 0.15135679877974206, 0.4218668221307704, 0.995138566292594, 0.9957970442811408, 0.4208693374669361, 0.5757346780932979, 0.9954323522368305, 0.9881322762655874, 0.9959420724355449, 0.9992758463370182, 0.8600644748500257, 0.13557666598621093, 0.9888939059554617, 0.8599035404702975, 0.1392581623274338, 0.9993148679415568, 0.9944125237864158, 0.998853005133737, 0.9974513983771873, 0.621908719122067, 0.3722146947363992, 0.0031017891228033267, 0.9975460867561646, 0.9940468971455518, 0.9947724200113791, 0.9949278222788424, 0.9966076616324284, 0.989443652707429, 0.6969643306797366, 0.30212694772814874, 0.001090711002628696, 0.0048170119930034195, 0.012422820403008818, 0.010901658721007738, 0.9717687878516897, 0.9942333454038873, 0.0029812282920858284, 0.6071768288214804, 0.3885534207351863, 0.9958002068459233, 0.9963677662591898, 0.9936706160469468], \"Term\": [\"access\", \"account\", \"account\", \"action\", \"activity\", \"activity\", \"actually\", \"addition\", \"address\", \"advise\", \"afternoon\", \"agency\", \"agent\", \"agree\", \"agree\", \"agreement\", \"airport\", \"also\", \"also\", \"also\", \"also\", \"also\", \"also\", \"always\", \"analyst\", \"application\", \"apply\", \"approval\", \"approve\", \"area\", \"ask\", \"ask\", \"asset\", \"assistant\", \"associate\", \"attach\", \"attach\", \"attach\", \"attend\", \"authorize\", \"available\", \"available\", \"available\", \"avoid\", \"away\", \"back\", \"back\", \"back\", \"bad\", \"balance\", \"ball\", \"basis\", \"become\", \"bed\", \"begin\", \"begin\", \"believe\", \"believe\", \"bid\", \"big\", \"bill\", \"book\", \"book\", \"bottle\", \"break\", \"business\", \"business\", \"buy\", \"buy\", \"buying\", \"ca\", \"call\", \"call\", \"capacity\", \"car\", \"card\", \"cc\", \"ce\", \"change\", \"charge\", \"check\", \"city\", \"citygate\", \"clear\", \"close\", \"close\", \"close\", \"close\", \"close\", \"club\", \"column\", \"come\", \"come\", \"comment\", \"commodity\", \"company\", \"concern\", \"confirmation\", \"contact\", \"continue\", \"contract\", \"control\", \"copy\", \"correct\", \"cost\", \"cost\", \"could\", \"could\", \"could\", \"could\", \"could\", \"counterparty\", \"couple\", \"course\", \"create\", \"create\", \"current\", \"current\", \"current\", \"currently\", \"currently\", \"currently\", \"curve\", \"customer\", \"customer\", \"customer\", \"daily\", \"date\", \"day\", \"day\", \"deadline\", \"deal\", \"deliver\", \"delivery\", \"demand\", \"desk\", \"dg\", \"dinner\", \"directly\", \"director\", \"discount\", \"discuss\", \"discussion\", \"dog\", \"double\", \"ee\", \"email\", \"email\", \"ena\", \"end\", \"end\", \"end\", \"end\", \"end\", \"energy\", \"energy\", \"enter\", \"enter\", \"enter\", \"estimate\", \"evening\", \"event\", \"ever\", \"execute\", \"expire\", \"extend\", \"fare\", \"fax\", \"feel\", \"final\", \"find\", \"find\", \"first\", \"first\", \"first\", \"first\", \"flip\", \"flow\", \"fly\", \"follow\", \"follow\", \"follow\", \"follow\", \"foot\", \"forget\", \"friend\", \"fuel\", \"gas\", \"gather\", \"get\", \"get\", \"get\", \"give\", \"give\", \"give\", \"go\", \"go\", \"golf\", \"good\", \"good\", \"good\", \"grant\", \"group\", \"group\", \"guess\", \"guy\", \"guy\", \"happen\", \"happen\", \"head\", \"hear\", \"help\", \"help\", \"help\", \"help\", \"hit\", \"hold\", \"hold\", \"hold\", \"hope\", \"hope\", \"hotel\", \"however\", \"however\", \"however\", \"husband\", \"include\", \"include\", \"include\", \"include\", \"include\", \"incremental\", \"index\", \"indicate\", \"information\", \"injection\", \"instead\", \"interested\", \"internet\", \"internet\", \"interview\", \"invoice\", \"involve\", \"issue\", \"issue\", \"issue\", \"item\", \"join\", \"keep\", \"keep\", \"keep\", \"kind\", \"know\", \"last\", \"last\", \"last\", \"late\", \"later\", \"law\", \"lawyer\", \"learn\", \"legal\", \"let\", \"letter\", \"life\", \"like\", \"link\", \"list\", \"little\", \"locate\", \"look\", \"look\", \"loss\", \"lot\", \"love\", \"lunch\", \"mail\", \"maintenance\", \"make\", \"make\", \"make\", \"make\", \"make\", \"make\", \"make\", \"make\", \"man\", \"management\", \"manager\", \"manual\", \"many\", \"many\", \"market\", \"market\", \"market\", \"marketing\", \"master\", \"match\", \"may\", \"may\", \"may\", \"may\", \"may\", \"may\", \"may\", \"maybe\", \"mean\", \"mean\", \"mean\", \"mean\", \"meet\", \"meeting\", \"message\", \"message\", \"meter\", \"month\", \"morning\", \"mouth\", \"move\", \"much\", \"much\", \"much\", \"name\", \"nature\", \"nee\", \"need\", \"need\", \"need\", \"negotiate\", \"never\", \"new\", \"new\", \"new\", \"new\", \"new\", \"next\", \"nominate\", \"note\", \"notice\", \"number\", \"number\", \"number\", \"office\", \"office\", \"office\", \"office\", \"ok\", \"old\", \"open\", \"open\", \"opportunity\", \"option\", \"order\", \"organization\", \"original\", \"original\", \"page\", \"partner\", \"party\", \"pass\", \"path\", \"pay\", \"pay\", \"pear\", \"pear\", \"pear\", \"pear\", \"pear\", \"person\", \"phone\", \"physical\", \"pipeline\", \"plan\", \"please\", \"pm\", \"point\", \"point\", \"policy\", \"pool\", \"position\", \"post\", \"power\", \"pre\", \"present\", \"pretty\", \"price\", \"pricing\", \"prior\", \"prior\", \"prior\", \"pro\", \"problem\", \"problem\", \"procedure\", \"process\", \"process\", \"process\", \"product\", \"production\", \"program\", \"project\", \"propose\", \"provide\", \"provide\", \"purchase\", \"put\", \"put\", \"put\", \"quarter\", \"question\", \"question\", \"question\", \"rate\", \"really\", \"really\", \"rebook\", \"rebook\", \"rebook\", \"receipt\", \"receive\", \"receive_quality\", \"recognize\", \"regulated_service\", \"release\", \"release\", \"remember\", \"report\", \"report\", \"request\", \"require\", \"require\", \"requirement\", \"reservation\", \"resource\", \"review\", \"review\", \"review\", \"right\", \"right\", \"right\", \"right\", \"role\", \"room\", \"run\", \"run\", \"run\", \"sale\", \"say\", \"say\", \"schedule\", \"second\", \"section\", \"see\", \"see\", \"seek\", \"segment\", \"select\", \"sell\", \"send\", \"send\", \"service\", \"set\", \"set\", \"set\", \"set\", \"set\", \"set\", \"several\", \"several\", \"shall\", \"share\", \"sheet\", \"shipper\", \"shirt\", \"sign\", \"sign\", \"sign\", \"sitara\", \"soon\", \"soon\", \"space\", \"speak\", \"special\", \"specific\", \"staff\", \"statement\", \"station\", \"status\", \"still\", \"still\", \"stock\", \"stop\", \"storage\", \"stuff\", \"subject\", \"suggest\", \"supply\", \"support\", \"support\", \"support\", \"sure\", \"sure\", \"swing\", \"system\", \"system\", \"take\", \"take\", \"take\", \"tax\", \"team\", \"team\", \"telescope\", \"telescope\", \"tell\", \"tell\", \"term\", \"term\", \"th\", \"thank\", \"thank\", \"thing\", \"think\", \"think\", \"thought\", \"ticket\", \"time\", \"time\", \"time\", \"time\", \"time\", \"today\", \"today\", \"together\", \"toilet\", \"tomorrow\", \"tonight\", \"total\", \"track\", \"trade\", \"trading\", \"transaction\", \"transco\", \"transmission\", \"transport\", \"transportation\", \"travel\", \"travel\", \"trip\", \"true\", \"try\", \"try\", \"turn\", \"turn\", \"turn\", \"twice\", \"type\", \"understand\", \"understand\", \"unify\", \"unit\", \"update\", \"usage\", \"use\", \"use\", \"use\", \"use\", \"use\", \"use\", \"utility\", \"vacation\", \"value\", \"value\", \"verify\", \"version\", \"visit\", \"volume\", \"wait\", \"wait\", \"walk\", \"want\", \"want\", \"way\", \"website\", \"week\", \"weekend\", \"well\", \"well\", \"well\", \"wife\", \"withdraw\", \"withdrawal\", \"wo\", \"woman\", \"wonder\", \"work\", \"work\", \"work\", \"would\", \"would\", \"would\", \"would\", \"yard\", \"year\", \"year\", \"year\", \"yesterday\", \"yet\", \"zone\"]}, \"R\": 30, \"lambda.step\": 0.01, \"plot.opts\": {\"xlab\": \"PC1\", \"ylab\": \"PC2\"}, \"topic.order\": [1, 3, 6, 7, 5, 10, 8, 2, 4, 9]};\n",
              "\n",
              "function LDAvis_load_lib(url, callback){\n",
              "  var s = document.createElement('script');\n",
              "  s.src = url;\n",
              "  s.async = true;\n",
              "  s.onreadystatechange = s.onload = callback;\n",
              "  s.onerror = function(){console.warn(\"failed to load library \" + url);};\n",
              "  document.getElementsByTagName(\"head\")[0].appendChild(s);\n",
              "}\n",
              "\n",
              "if(typeof(LDAvis) !== \"undefined\"){\n",
              "   // already loaded: just create the visualization\n",
              "   !function(LDAvis){\n",
              "       new LDAvis(\"#\" + \"ldavis_el5531401127551583529905680057\", ldavis_el5531401127551583529905680057_data);\n",
              "   }(LDAvis);\n",
              "}else if(typeof define === \"function\" && define.amd){\n",
              "   // require.js is available: use it to load d3/LDAvis\n",
              "   require.config({paths: {d3: \"https://d3js.org/d3.v5\"}});\n",
              "   require([\"d3\"], function(d3){\n",
              "      window.d3 = d3;\n",
              "      LDAvis_load_lib(\"https://cdn.jsdelivr.net/gh/bmabey/pyLDAvis@3.3.1/pyLDAvis/js/ldavis.v3.0.0.js\", function(){\n",
              "        new LDAvis(\"#\" + \"ldavis_el5531401127551583529905680057\", ldavis_el5531401127551583529905680057_data);\n",
              "      });\n",
              "    });\n",
              "}else{\n",
              "    // require.js not available: dynamically load d3 & LDAvis\n",
              "    LDAvis_load_lib(\"https://d3js.org/d3.v5.js\", function(){\n",
              "         LDAvis_load_lib(\"https://cdn.jsdelivr.net/gh/bmabey/pyLDAvis@3.3.1/pyLDAvis/js/ldavis.v3.0.0.js\", function(){\n",
              "                 new LDAvis(\"#\" + \"ldavis_el5531401127551583529905680057\", ldavis_el5531401127551583529905680057_data);\n",
              "            })\n",
              "         });\n",
              "}\n",
              "</script>"
            ],
            "text/plain": [
              "<IPython.core.display.HTML object>"
            ]
          },
          "metadata": {
            "tags": []
          },
          "execution_count": 96
        }
      ]
    },
    {
      "cell_type": "code",
      "metadata": {
        "id": "Dxn0T3hrpeOQ"
      },
      "source": [
        ""
      ],
      "execution_count": null,
      "outputs": []
    },
    {
      "cell_type": "code",
      "metadata": {
        "colab": {
          "base_uri": "https://localhost:8080/"
        },
        "id": "AxO2yKtq5O_K",
        "outputId": "d8be5c6e-592d-4fc7-a3dc-c3f0cc92c67c"
      },
      "source": [
        "# Select the model and print the topics\n",
        "optimal_model = model_list[2]\n",
        "model_topics = optimal_model.show_topics(formatted=False)\n",
        "optimal_model.print_topics(num_words=10)"
      ],
      "execution_count": null,
      "outputs": [
        {
          "output_type": "execute_result",
          "data": {
            "text/plain": [
              "[(0,\n",
              "  '0.058*\"give\" + 0.052*\"make\" + 0.049*\"work\" + 0.029*\"guy\" + 0.026*\"time\" + 0.024*\"people\" + 0.023*\"talk\" + 0.022*\"issue\" + 0.021*\"good\" + 0.020*\"move\"'),\n",
              " (1,\n",
              "  '0.033*\"company\" + 0.024*\"price\" + 0.023*\"market\" + 0.021*\"year\" + 0.021*\"trade\" + 0.015*\"energy\" + 0.014*\"high\" + 0.013*\"offer\" + 0.011*\"share\" + 0.011*\"demand\"'),\n",
              " (2,\n",
              "  '0.040*\"send\" + 0.037*\"email\" + 0.034*\"message\" + 0.032*\"mail\" + 0.021*\"call\" + 0.020*\"copy\" + 0.020*\"receive\" + 0.016*\"address\" + 0.013*\"information\" + 0.012*\"free\"'),\n",
              " (3,\n",
              "  '0.021*\"game\" + 0.016*\"year\" + 0.014*\"play\" + 0.012*\"run\" + 0.010*\"team\" + 0.009*\"man\" + 0.008*\"season\" + 0.008*\"time\" + 0.008*\"good\" + 0.007*\"lose\"'),\n",
              " (4,\n",
              "  '0.051*\"request\" + 0.029*\"system\" + 0.028*\"date\" + 0.023*\"number\" + 0.021*\"list\" + 0.020*\"comment\" + 0.019*\"receive\" + 0.019*\"contact\" + 0.019*\"follow\" + 0.018*\"regard\"'),\n",
              " (5,\n",
              "  '0.118*\"deal\" + 0.045*\"gas\" + 0.039*\"volume\" + 0.034*\"contract\" + 0.030*\"month\" + 0.028*\"change\" + 0.023*\"meter\" + 0.020*\"show\" + 0.018*\"flow\" + 0.018*\"ticket\"'),\n",
              " (6,\n",
              "  '0.036*\"review\" + 0.022*\"employee\" + 0.021*\"process\" + 0.020*\"year\" + 0.018*\"information\" + 0.017*\"list\" + 0.017*\"program\" + 0.016*\"complete\" + 0.016*\"team\" + 0.016*\"follow\"'),\n",
              " (7,\n",
              "  '0.087*\"week\" + 0.082*\"call\" + 0.070*\"day\" + 0.053*\"today\" + 0.040*\"back\" + 0.038*\"work\" + 0.030*\"start\" + 0.029*\"tomorrow\" + 0.028*\"time\" + 0.026*\"send\"'),\n",
              " (8,\n",
              "  '0.098*\"subject\" + 0.026*\"good\" + 0.024*\"pm\" + 0.022*\"night\" + 0.020*\"make\" + 0.019*\"dinner\" + 0.018*\"cc\" + 0.018*\"weekend\" + 0.018*\"hope\" + 0.018*\"love\"'),\n",
              " (9,\n",
              "  '0.035*\"rate\" + 0.027*\"contract\" + 0.025*\"capacity\" + 0.024*\"issue\" + 0.022*\"service\" + 0.021*\"agreement\" + 0.021*\"order\" + 0.019*\"draft\" + 0.017*\"pipeline\" + 0.016*\"point\"'),\n",
              " (10,\n",
              "  '0.037*\"business\" + 0.021*\"group\" + 0.020*\"team\" + 0.019*\"report\" + 0.017*\"support\" + 0.016*\"operation\" + 0.014*\"risk\" + 0.014*\"continue\" + 0.013*\"trading\" + 0.013*\"product\"'),\n",
              " (11,\n",
              "  '0.076*\"meeting\" + 0.048*\"schedule\" + 0.043*\"plan\" + 0.034*\"time\" + 0.031*\"meet\" + 0.029*\"attend\" + 0.027*\"discuss\" + 0.023*\"date\" + 0.016*\"question\" + 0.016*\"group\"'),\n",
              " (12,\n",
              "  '0.037*\"power\" + 0.021*\"project\" + 0.020*\"gas\" + 0.016*\"plant\" + 0.015*\"market\" + 0.014*\"state\" + 0.011*\"utility\" + 0.011*\"site\" + 0.010*\"price\" + 0.010*\"unit\"'),\n",
              " (13,\n",
              "  '0.028*\"cost\" + 0.028*\"pay\" + 0.019*\"due\" + 0.017*\"report\" + 0.016*\"total\" + 0.016*\"charge\" + 0.014*\"book\" + 0.012*\"amount\" + 0.012*\"item\" + 0.012*\"credit\"')]"
            ]
          },
          "metadata": {
            "tags": []
          },
          "execution_count": 296
        }
      ]
    },
    {
      "cell_type": "code",
      "metadata": {
        "id": "fHh7PKrT78yJ"
      },
      "source": [
        "model = gensim.models.wrappers.ldamallet.malletmodel2ldamodel(optimal_model)"
      ],
      "execution_count": null,
      "outputs": []
    },
    {
      "cell_type": "code",
      "metadata": {
        "id": "HNav5PVX5cfT"
      },
      "source": [
        "#Visualize the topics\n",
        "pyLDAvis.enable_notebook()\n",
        "vis_1 = pyLDAvis.gensim_models.prepare(model, corpus,id2word)"
      ],
      "execution_count": null,
      "outputs": []
    },
    {
      "cell_type": "code",
      "metadata": {
        "colab": {
          "base_uri": "https://localhost:8080/",
          "height": 861
        },
        "id": "d4CLSldb8gXW",
        "outputId": "28e2d971-5efe-49c4-f6c0-fb49fbc537f5"
      },
      "source": [
        "pyLDAvis.display(vis_1)"
      ],
      "execution_count": null,
      "outputs": [
        {
          "output_type": "execute_result",
          "data": {
            "text/html": [
              "\n",
              "<link rel=\"stylesheet\" type=\"text/css\" href=\"https://cdn.jsdelivr.net/gh/bmabey/pyLDAvis@3.3.1/pyLDAvis/js/ldavis.v1.0.0.css\">\n",
              "\n",
              "\n",
              "<div id=\"ldavis_el3071402996356091683696022232\"></div>\n",
              "<script type=\"text/javascript\">\n",
              "\n",
              "var ldavis_el3071402996356091683696022232_data = {\"mdsDat\": {\"x\": [-2.9295043254521796e-06, 0.00023809642347146398, -0.000867643409527293, -0.0001028256618429905, -0.00022917467068035214, 0.0007277263983218424, -0.00013107603365187804, 0.0005136209518335315, -0.00029091462348353935, 0.00013900191012525894, 0.0007677971271476897, -0.0003552481488457034, -8.857273868880093e-05, -0.00031785801985377646], \"y\": [-0.0007126494185365001, -0.0004388567921742652, -0.00025105990586240455, 0.00045944437697812346, 0.00014330170740840242, -0.0002797344556095636, -0.00039853330950997924, 0.0004863463665871245, -0.0002677439345253526, 0.0007490728572020165, -0.00021501942964443672, -0.00011991142419214422, 0.00032871327149374606, 0.0005166300903852327], \"topics\": [1, 2, 3, 4, 5, 6, 7, 8, 9, 10, 11, 12, 13, 14], \"cluster\": [1, 1, 1, 1, 1, 1, 1, 1, 1, 1, 1, 1, 1, 1], \"Freq\": [9.044340113561965, 8.922275013958432, 8.623232332076116, 8.287193493348843, 7.306179650059826, 6.834608586678828, 6.795350888777, 6.713588361751242, 6.539461203847926, 6.43216513725706, 6.318410023390101, 6.186801386185908, 6.140833662040224, 5.8555601470665435]}, \"tinfo\": {\"Term\": [\"intra\", \"decide\", \"thanx\", \"illegally\", \"string\", \"grow\", \"conjecture\", \"pastoria\", \"oslo\", \"lance\", \"transcendental\", \"injection\", \"hamstre\", \"rahil\", \"businessman\", \"baby\", \"dominion_transmission\", \"epb\", \"springboro_dth\", \"eusa\", \"pbcs\", \"pumpkin\", \"ro\", \"dealticket\", \"oversight\", \"leehouse\", \"game\", \"clipper\", \"spanking\", \"eagle\", \"explicitly\", \"cappuccino\", \"restrictive\", \"kicker\", \"meaningless\", \"noble\", \"bitter\", \"somewhat\", \"provided\", \"base\", \"brightness\", \"mobility\", \"diabete\", \"gbp\", \"procedure\", \"disney\", \"regan\", \"guestroom\", \"socialize\", \"weather\", \"suited\", \"voodoo\", \"wedding\", \"km\", \"builder\", \"brandywine\", \"scorer\", \"disassembly\", \"dockage\", \"mmbtus\", \"bracket\", \"appliance\", \"kid\", \"formality\", \"municipal\", \"coporate\", \"time\", \"dramas\", \"shiny\", \"imme\", \"etown_dth\", \"profitable\", \"drunker\", \"african\", \"vapor\", \"tunnel\", \"plate\", \"inferior\", \"scarry\", \"vary\", \"stakeholder\", \"excite\", \"acutal\", \"foolproof\", \"soon\", \"quarantine\", \"edwards\", \"jeffrey\", \"shankman\", \"shop\", \"connor\", \"worksheet\", \"freeway\", \"agent\", \"brainstorming_session\", \"individually\", \"ogden\", \"setup\", \"garre\", \"tightrope\", \"docs\", \"midcontinent\", \"bridge\", \"capricious\", \"yes\", \"abbreviation\", \"expenditure\", \"az\", \"runner\", \"wishful\", \"overhaul\", \"find\", \"favorable\", \"film\", \"spectator\", \"gun\", \"cataloge\", \"repay\", \"district\", \"meanwhile\", \"inadvertently\", \"ultimately\", \"christensen\", \"pero\", \"skull\", \"double\", \"suppier\", \"normalized\", \"iopen\", \"fizer\", \"erase\", \"across\", \"extent\", \"rangle\", \"velocity\", \"onerous\", \"daate\", \"camper\", \"annihilate\", \"bueno\", \"riparian\", \"clearance\", \"simmer\", \"disease\", \"brew\", \"handsomely\", \"extend\", \"simultaneously\", \"ous\", \"stingray\", \"freshmen\", \"national\", \"blitz\", \"econd\", \"matching\", \"will\", \"arrest\", \"affluent\", \"idiotic\", \"paste\", \"rum\", \"boondoggle\", \"goodbye\", \"leasing\", \"george_grant\", \"val\", \"improved\", \"pbr\", \"openness\", \"shure\", \"wreak\", \"elite\", \"ttc\", \"applewhi\", \"ifs\", \"controversial\", \"eur\", \"goss\", \"cleanser\", \"faulty\", \"fax\", \"withholding\", \"vanguard\", \"stand\", \"auditorium\", \"infection\", \"rpm\", \"piggyback\", \"grandma\", \"technicality\", \"smile\", \"latrove\", \"redskin\", \"nite\", \"bidder\", \"freeze\", \"underestimate\", \"preservation\", \"powerpoint\", \"eusa\", \"ready\", \"competitive\", \"schematic\", \"bring\", \"mohave\", \"remedy\", \"decent\", \"strap\", \"usher\", \"michelle_bruce\", \"eldo\", \"ski_trip\", \"pricier\", \"surprize\", \"visitor\", \"corporate\", \"report\", \"pi\", \"daddy\", \"revenue\", \"rumor\", \"boot\", \"coed\", \"aim\", \"stumpy\", \"reallocate\", \"requrie\", \"pgev\", \"tighten\", \"indicated_shipper\", \"cubr\", \"pud\", \"mthod\", \"obstacle\", \"edge\", \"ragley\", \"unfinaled\", \"uniform\", \"seats\", \"novsek\", \"volatility\", \"backfire\", \"priska\", \"equiva\", \"gaze\", \"capacitycenter\", \"apologetic\", \"cip\", \"weekly\", \"safely\", \"whisper\", \"devoid\", \"sportsplex\", \"freak\", \"negotiate\", \"lindy\", \"generalize\", \"rival\", \"estimated\", \"brag\", \"expediently\", \"gtc\", \"private\", \"proxy_volume\", \"nominate\", \"spur\", \"americ\", \"steve_kean\", \"corman\", \"pick_up\", \"profitable\", \"team\", \"net\", \"attatione\", \"uncapped\", \"compose\", \"nominated\", \"lompoc\", \"dkt\", \"entreron\", \"stir\", \"reflect\", \"wez\", \"tnw\", \"reestablish\", \"samalayuca\", \"contributor\", \"beavy\", \"spy\", \"briceism\", \"sigh\", \"proforma\", \"evidence\", \"placing\", \"euros\", \"ncern\", \"apachi\", \"delighted\", \"shpchan\", \"pendergrass\", \"dewville\", \"mutually\", \"augusta\", \"mileage\", \"remind\", \"glaze\", \"fyi\", \"route\", \"consecutive\", \"legal_fee\", \"fantastic\", \"guide\", \"vsnement\", \"litiagation\", \"underwear\", \"consortium\", \"materially\", \"differentiate\", \"bid\", \"energize\", \"overhauls\", \"skiing\", \"sacrifice\", \"activation\", \"stooge\", \"letterhead\", \"normalized\", \"highly_recommend\", \"smarter\", \"greenfield\", \"proceeding\", \"probe\", \"chase\", \"finite\", \"newsletter\", \"isleta\", \"stellar\", \"churn\", \"assistant\", \"enthusiasm\", \"icould\", \"readily\", \"attach\", \"empower\", \"san_jose\", \"classmate\", \"needed\", \"mob\", \"feast\", \"ish\", \"info\", \"cgp\", \"teco_tap\", \"oa\", \"gradation\", \"soak\", \"handful\", \"submit\", \"fletch\", \"extended\", \"creat\", \"nursing\", \"eecc\", \"dolore\", \"denote\", \"wkup\", \"thinking\", \"hourly\", \"sirara\", \"sprd\", \"undersell\", \"stablilize\", \"groundwater\", \"culturally\", \"thai\", \"backbone\", \"equipment\", \"cathy_phillip\", \"hh\", \"unintentionally\", \"pop\", \"prostitute\", \"anticompetitive\", \"insistent\", \"duplicity\", \"either\", \"aggressor\", \"scurvy\", \"dpowell\", \"motel\", \"pleasant\", \"ploy\", \"alive\", \"impediment\", \"thruput\", \"recipient\", \"camella\", \"exection\", \"directo\", \"cry\", \"missionary\", \"supply\", \"refaxed\", \"pgsmi\", \"hike\", \"brenda_herod\", \"redneck\", \"scarcity\", \"oversight\", \"cleared\", \"davenport\", \"manti\", \"maintenance\", \"acqusition\", \"educated\", \"fibre\", \"learnt\", \"trasnco\", \"win\", \"starting\", \"handwritten\", \"apparently\", \"invlove\", \"traveling\", \"intra\", \"participate\", \"pbcs\", \"urls\", \"requestor\", \"goodwill\", \"crazy\", \"gradation\", \"apparrent\", \"price_spike\", \"agressive\", \"geophysicist\", \"delivery_quantity\", \"contained\", \"deer\", \"comm_fuel\", \"inspection\", \"spokesmodel\", \"obligate\", \"gaslamp\", \"upfront\", \"sound\", \"vol_mgmt\", \"nful\", \"institution\", \"functional\", \"thankfully\", \"hostess\", \"pragmatic\", \"innocence\", \"spectron\", \"crank\", \"acknowledge\", \"inception\", \"discontent\", \"scanty\", \"lagrasta\", \"reluctantly\", \"sorority\", \"form\", \"thanx\", \"eog\", \"expat\", \"felony\", \"aim\", \"elektryon\", \"hardwork\", \"open_dpr\", \"surreptitiously\", \"frontn\", \"charlene_jackson\", \"mendel\", \"voaltilitie\", \"bunche\", \"guilt\", \"astro\", \"lrc\", \"enthusiastic\", \"pathing\", \"comedy\", \"sanitize\", \"kit\", \"bonding\", \"engraved\", \"successor\", \"eld\", \"milk\", \"sweatpant\", \"utilized\", \"ce\", \"unrealistic\", \"substitute\", \"punishment\", \"caldwell\", \"guessing\", \"feel\", \"shari\", \"feedb\", \"sportswriter\", \"whack\", \"hamstre\", \"mentor\", \"hole\", \"trailere\", \"secret\", \"sacrifice\", \"instance\", \"kotex\", \"enlist\", \"preference\", \"terrebonne\", \"sequence\", \"dive\", \"reebok\", \"rollout\", \"check\", \"heartbeat\", \"passionate\", \"whole\", \"rooster\", \"extraction\", \"invitaion\", \"comer\", \"gravitate\", \"mentally\", \"audience\", \"triangle\", \"establishment\", \"custody\", \"trena\", \"consumer\", \"pml\", \"string\", \"outsourcing\", \"respected\", \"bride\", \"conjecture\", \"researcher\", \"ab\", \"oslo\", \"allergic\", \"mi\", \"grouping\", \"login_id\", \"eml\", \"sagewave\", \"writeoff\", \"schuedule\", \"established\", \"hispanic\", \"nicole\", \"posture\", \"epb\", \"inconvience\", \"favourable\", \"geaccone\", \"kern\", \"matthew\", \"school\", \"eagle\", \"unavailability\", \"pkg\", \"internship\", \"elimination\", \"nothing\", \"shortname\", \"work\", \"photographer\", \"accrue\", \"oa\", \"improved\", \"rahil\", \"illegally\", \"trevino\", \"wehre\", \"groveport\", \"recapture\", \"sweeter\", \"tendancy\", \"sc\", \"nanny\", \"touchdown\", \"depelchin\", \"david_port\", \"doggoneit\", \"sempra\", \"adage\", \"faulk\", \"aloud\", \"late\", \"decide\", \"downsize\", \"archive\", \"hrgis\", \"disciple\", \"defender\", \"grow\", \"inorder\", \"offset\", \"offence\", \"scientist\", \"nope\", \"poetry\", \"tor\", \"husbanding\", \"du\", \"recycling\", \"sud\", \"distress\", \"pumpkin\", \"uncorrected\"], \"Freq\": [26.0, 27.0, 27.0, 27.0, 27.0, 27.0, 28.0, 27.0, 28.0, 27.0, 27.0, 28.0, 27.0, 26.0, 26.0, 26.0, 27.0, 26.0, 26.0, 26.0, 27.0, 28.0, 27.0, 27.0, 28.0, 27.0, 27.0, 27.0, 26.0, 28.0, 3.4169559248488746, 3.5689080689340793, 3.6044395111855745, 3.3481722557504177, 3.355648555234113, 3.257806117918261, 3.242991809106905, 3.366701395670286, 3.242092381494047, 3.4206112915516593, 3.4469481806283513, 3.2924155309259655, 3.1902399304619165, 3.2599439553676666, 3.3334030883248293, 3.2106784283865824, 3.2982592855492796, 3.144976138986426, 3.372474636859457, 3.3525512122871506, 3.206566628367421, 3.1998946131817947, 3.3302821539249843, 3.1167523477617087, 3.386056478147641, 3.278703640682951, 3.0905536874395785, 3.034346374038129, 3.199737937242708, 3.14320983373059, 3.290062225624209, 3.193923069063965, 3.2124501901000944, 3.262419973835987, 3.2609284509806513, 3.2309743996834337, 3.284712595042472, 3.2855128823272475, 3.285051811301785, 3.26641591554636, 3.2210857192059823, 3.2343160656930032, 3.2337044642115553, 3.2360090454749773, 3.362978233444875, 3.4231246194717224, 3.3994179023001823, 3.299057841404497, 3.3407517796773303, 3.2431556515072453, 3.293210388901089, 3.307218184072213, 3.1635557177417337, 3.288089208311425, 3.2007650811257586, 3.2092819362452922, 3.203766219739374, 3.058603898113818, 3.259476972747062, 3.089610820319219, 3.374932677548086, 3.2131327300855994, 3.2233537998486366, 3.168501133235637, 3.242653640272696, 3.204270476838306, 3.251906656667905, 3.1282194991462653, 3.103947322555413, 3.184766513361775, 3.115331316511095, 3.0481227543849454, 3.04413819219357, 3.128134144216277, 3.2976720266844315, 3.2093851108191567, 3.1879387170808333, 3.1845361995350543, 3.1759219438485577, 3.19775755874037, 3.1997482816310896, 3.225841599209893, 3.212467902382485, 3.1780104483884424, 3.392166751264319, 3.150685290198332, 3.161794539669105, 3.2560374179803406, 3.0386064133232846, 3.02568240951707, 3.0734262994403165, 3.070939903633343, 3.0888170196715343, 3.163139478026431, 3.20972666033545, 3.1207030799837456, 3.28047960934822, 3.179410779037372, 3.1884753301339797, 3.067467706502091, 3.1283939824737566, 3.063908947138713, 3.0092668551724087, 3.1813888955413216, 3.0135514079333223, 2.969813302079269, 3.044034146353427, 3.1483590624880913, 2.974231374123324, 2.9521715812387668, 3.025353741096837, 3.1085974767021947, 2.964786566301703, 2.9735130299205283, 3.141518006165665, 3.123254290213461, 3.032975114842704, 3.1607174373270204, 3.108774611482995, 3.1013895774081264, 3.0744451705702533, 3.038747378928586, 3.0549056486469444, 3.054512422418301, 3.0659400152773246, 3.058258093345215, 3.2429249553519917, 3.2641533381285885, 3.127737216746837, 3.029258477032655, 3.166219079439961, 3.1126867849736537, 3.086011918438979, 3.020643775632533, 3.005676399763379, 2.9659079226924834, 3.12463713846539, 2.9482862692547434, 3.048739412114525, 3.0779570858356045, 3.0328262886628967, 2.915173894536995, 2.98438074254619, 3.0530533795746524, 2.9757451808249185, 2.9647536535717554, 2.8494843847162974, 2.9493961090165484, 2.900231118608056, 3.1082152539348358, 2.9170584407532596, 2.949508133918382, 2.896590922643147, 2.8174541120840226, 2.8972159800958224, 2.933675714817722, 2.984730258327557, 2.9660733324902884, 2.9632208407304526, 2.9931760630616466, 2.9870014764752755, 2.965985559108612, 2.9396837553390425, 2.9528841665728893, 2.772769899113939, 2.645375847241164, 2.741003895521047, 2.6857178207856864, 2.7645288370984127, 2.569454101280286, 2.593258263734032, 2.701452446363491, 2.690216355108081, 2.594643833518455, 2.6062455531610578, 2.5104845352683127, 2.6733486042572863, 2.6277533223148715, 2.600252954205894, 2.6189308197736922, 2.5607203367216544, 2.562123701629994, 2.624369779158416, 2.6050432201513183, 2.53709917607328, 2.599973337811422, 2.640048913549057, 2.743118532287536, 2.68985994414408, 2.66660771343072, 2.6888179169161646, 2.585205271606178, 2.6962336452079683, 2.559370579860606, 2.639118652288335, 2.6483703639902596, 2.620596874319246, 2.661641140609617, 2.5908033024090953, 2.6528400879641585, 2.64878947874487, 2.653826742182753, 2.6227223943409292, 2.6149401962102843, 2.6046034711879704, 2.6038747951927586, 2.6892906160011503, 2.6077452431489174, 2.5194422355114203, 2.496561570348431, 2.5070265942263092, 2.5428277159829333, 2.487795145856367, 2.5503166509033117, 2.2832180242630393, 2.293549484128447, 2.337818526474805, 2.355935833746565, 2.368298308268956, 2.456788428553543, 2.528579366207881, 2.5292115016300847, 2.2848813533741934, 2.4419335270366895, 2.314911961222811, 2.460584488341477, 2.33431311693316, 2.2991640384670307, 2.534157863657271, 2.384948283617524, 2.4937574727037872, 2.5035187184076073, 2.309136672360161, 2.523355936859617, 2.378753231411672, 2.336230424207776, 2.3985652890444924, 2.391387387243656, 2.4739045014467282, 2.405440521065569, 2.4485057530482988, 2.4475158091167253, 2.476187821144535, 2.423565688175352, 2.4281801457420418, 2.4173518281111512, 2.469642962511926, 2.416733829930546, 2.4802179306398253, 2.443054492918285, 2.4183732648529923, 2.4155901781779834, 2.5844143417144387, 2.5926876653541, 2.615201975363684, 2.552497458673853, 2.421449711253683, 2.5079435222775013, 2.430445274298404, 2.4440258154791703, 2.4767040649206202, 2.451921303595879, 2.4792967422613215, 2.3995748190716233, 2.4370296863796823, 2.4372630140453873, 2.462412048039028, 2.480565131845243, 2.3888506121105246, 2.3554127016466198, 2.463627637650555, 2.5127495981092824, 2.330847223298692, 2.378296374828883, 2.577439267420154, 2.40148230548629, 2.4952594696754216, 2.335160765348034, 2.3687812164579665, 2.427184099039806, 2.3755036904427507, 2.3526996307257173, 2.570125528342738, 2.4559012852849063, 2.5005704560861397, 2.47978834831509, 2.4642440428326, 2.4085348296621634, 2.496380977761857, 2.455898579507067, 2.4144120506827362, 2.4212827898964577, 2.416758204698656, 2.535622743179194, 2.3912217642426166, 2.4817241123942373, 2.522136693369876, 2.526956987368319, 2.4266248379348356, 2.427466156622067, 2.439532555678945, 2.382428175910867, 2.396774309997812, 2.3545953022779966, 2.4413147375278474, 2.3493265696326047, 2.4575010619073083, 2.394340085149081, 2.3513752287698773, 2.3661000827163066, 2.400929923429808, 2.445453357095281, 2.4294176145993127, 2.4848643366488283, 2.342678330415657, 2.3413058892744907, 2.404947054176862, 2.3422041052525193, 2.4449908480119587, 2.4254877661967233, 2.411062198279916, 2.31494875743548, 2.251855344204381, 2.6046334165098863, 2.4150510741427107, 2.4235917947196164, 2.398587986880173, 2.391804809538214, 2.3949286234211726, 2.4201188252676493, 2.388781664141268, 2.3919447289506928, 2.457085299533807, 2.408627597432869, 2.3994420398062846, 2.459952581544516, 2.4059900859472685, 2.463532390091705, 2.2342088252391274, 2.340889880287378, 2.327193554424603, 2.3895018091277223, 2.3973054365778093, 2.3657298973872063, 2.4355587951767115, 2.414988295660774, 2.306036091999742, 2.3825627999454073, 2.3714264416803084, 2.292886644709494, 2.3793787586580093, 2.3032426408296782, 2.3964607307437285, 2.3148425085626267, 2.2032614760160545, 2.3800563571236744, 2.3108716448136595, 2.2680799963300307, 2.2868971301690464, 2.319007457425168, 2.305601687364857, 2.2145002413100743, 2.2865747559369702, 2.3250309748341826, 2.327440475413533, 2.3265816897961034, 2.3545296963778264, 2.3588113771958983, 2.356982083546672, 2.3350241700617906, 2.3909678456574377, 2.3332362247670098, 2.3506662820770385, 2.3245623614865867, 2.3209691876331444, 2.4724550978161917, 2.5500706364654633, 2.4346731024639743, 2.44917222449433, 2.383816683030187, 2.3003229119468394, 2.264111500762307, 2.278753918954852, 2.417914482693239, 2.1782336690161093, 2.3713239033045737, 2.25309249283474, 2.328176387786221, 2.2548957273564114, 2.189485995171553, 2.2086711985941694, 2.2132329066990097, 2.238385343546608, 2.3002395762766814, 2.207266507122574, 2.3148942466943923, 2.2929680154009278, 2.28517391127175, 2.3221793312888415, 2.2756785204942873, 2.3171651055044085, 2.3129107532047315, 2.2138533738541675, 2.180316654320934, 2.25731056514906, 2.230334905962678, 2.376234096456248, 2.3523565926394863, 2.286633436381315, 2.299239976519456, 2.308594496724759, 2.3024666863140326, 2.297358432557132, 2.286695424324446, 2.3080958554111835, 2.3205027544609327, 2.2898967582508143, 2.281066483145739, 2.4932849963102965, 2.420600242330327, 2.401160697681438, 2.3342401147766254, 2.2673966376402688, 2.340766954139737, 2.294902467327848, 2.301675814648934, 2.183801498967218, 2.385673173918073, 2.2392399172646167, 2.305365714023982, 2.207430953299198, 2.2619332133493804, 2.285426635426216, 2.186401348675902, 2.3122335247585584, 2.1893316841397628, 2.2632479100868186, 2.3113019133969033, 2.234487020143, 2.195528069797376, 2.282155751979692, 2.2493904716304636, 2.1348200350079782, 2.197319055610775, 2.24361177998316, 2.168787260049895, 2.3128318503809537, 2.2354704792657825, 2.34614003209447, 2.2331249167644756, 2.2720428397643393, 2.291841958007527, 2.2816794514277974, 2.244949839007928, 2.283127481667917, 2.261977545925024, 2.2732560036815403, 2.2572332156786405, 2.2522507153285263, 2.246621153584194, 2.250433398266352, 2.2966205068987824, 2.280356360046018, 2.210338770073495, 2.235477538326306, 2.312444212491168, 2.2618603691438017, 2.213942467706674, 2.2153217528476814, 2.2293681520836945, 2.3188331107081073, 2.1429625392055134, 2.1479426208710835, 2.2035583630632796, 2.1973886706737904, 2.182284689118084, 2.210051916285689, 2.126279564306648, 2.1925856835852082, 2.2733172626202256, 2.210546489509463, 2.081180370038208, 2.114567363589828, 2.192751332157182, 2.1591485173384477, 2.2032979433230033, 2.1699772894938527, 2.170926484838384, 2.099225808243692, 2.1263793890997262, 2.0544994905919496, 2.1751049429419593, 2.1796335617131, 2.187114872756837, 2.2496801317222674, 2.240902672046586, 2.1925657134661316, 2.180618022087131, 2.167810064738286, 2.1717494865846336, 2.1749249579514944, 2.42172352209219, 2.382521626212846, 2.4339494214841877, 2.2992484867454985, 2.353049011982854, 2.244551813924075, 2.2255006796699703, 2.2490342662828784, 2.194277555200083, 2.33304045080499, 2.167920213646214, 2.2365513319476955, 2.2856423586842123, 2.223710541203405, 2.214960055966053, 2.1491377030366197, 2.254677391588144, 2.154484616802985, 2.174936834750208, 2.2495411166929555, 2.3329850609236145, 2.137226668656024, 2.1751138303734123, 2.218545651355051, 2.127816863985006, 2.06630563885534, 2.1082155491350965, 2.1592659491291486, 2.150861157867778, 2.092064181344955, 2.235812804541986, 2.1555897964032913, 2.240041256434729, 2.2186611143220274, 2.1805445840568747, 2.18132823988806, 2.17815411161219, 2.1911552405580283, 2.184683347629224, 2.184003766631545, 2.18131005705313, 2.1843229610984976, 2.1842674509928393, 2.1789493213861095, 2.189644443258761, 2.201647698862761, 2.175713183390144, 2.2806055834289922, 2.103250420046764, 2.1003676112279437, 2.128102596180206, 2.168501344392682, 2.0640866706863856, 2.1227631588671363, 2.0615143226026875, 2.215333798236215, 2.096129168588733, 2.180113523074489, 1.9945495213073052, 2.0847319023971136, 2.101303743175011, 2.095911167938526, 2.112140483080503, 2.065526946800892, 2.0937056351712546, 2.054180193029114, 2.0449386086245336, 2.0534597079914088, 2.1622445966923047, 2.0652965355439283, 2.0421231201423833, 2.0878327556586167, 2.1464848222047523, 1.920503555759536, 2.112664298799552, 2.118626812898024, 2.1454944593425838, 2.138613768854052, 2.118521317904698, 2.0779133016852778, 2.090662540641568, 2.078346437027781, 2.0679860710124682, 2.068103773655124], \"Total\": [26.0, 27.0, 27.0, 27.0, 27.0, 27.0, 28.0, 27.0, 28.0, 27.0, 27.0, 28.0, 27.0, 26.0, 26.0, 26.0, 27.0, 26.0, 26.0, 26.0, 27.0, 28.0, 27.0, 27.0, 28.0, 27.0, 27.0, 27.0, 26.0, 28.0, 27.607152235023918, 28.986581806845354, 29.66682950856991, 27.678630813437685, 27.765067143088487, 27.04130310126449, 26.968807362466485, 28.039203015193927, 27.147858982735148, 28.796594075131793, 29.171445136771204, 27.91364458826946, 27.10494901415195, 27.76212931586905, 28.389845163312117, 27.34516940681023, 28.110653596834396, 26.857025549821238, 28.825362205607814, 28.67796632374774, 27.431403725372736, 27.388634974048422, 28.551970972097404, 26.72896445087092, 29.058199006051648, 28.174307024056127, 26.565024064754134, 26.08230173301463, 27.510522715763162, 27.043506296842402, 28.320636867014112, 27.504803085588335, 27.728347011434362, 28.227917692587926, 28.213135992442123, 27.926233880904533, 28.6270046342008, 28.836931766736402, 28.91429483743142, 28.703943186387146, 27.863343035311274, 28.285014121018573, 28.44457644376957, 29.137059801884533, 27.655369930374626, 28.23121339887161, 28.179558145955202, 27.38462503771769, 27.818333270743064, 27.028112911848705, 27.5683716693544, 27.837260067582424, 26.779277499029373, 27.98715922915224, 27.24668402266101, 27.329926748380235, 27.285649158716044, 26.070125264432498, 27.798870871144665, 26.36037358535487, 28.922375447699395, 27.724901063818244, 27.86814813439223, 27.401641967659913, 28.096440531065497, 27.76458616863405, 28.18765784414288, 27.19106933517143, 27.035873497357223, 27.74236212096533, 27.141001267864937, 26.61866761373077, 26.727364206968197, 27.514563242835756, 29.17222210430685, 28.40507610482961, 28.180008338712646, 28.16899540159638, 28.16567066877833, 28.546906748437852, 28.58949426512905, 29.268620789604974, 29.20794657254025, 28.589975889113532, 27.89847140526688, 27.225910996404092, 27.371774776948502, 28.189433910378654, 26.329644485013457, 26.257539861307, 26.715710492650526, 26.721433264593244, 26.895253187531658, 27.60905373230571, 28.03816270758641, 27.31965086941163, 28.871747762653484, 27.995818088255344, 28.238104069297002, 27.31686595836535, 27.92613555684464, 27.419434593685168, 27.03257772823143, 28.59424577454748, 27.139022323950993, 26.747587979189472, 27.420605152748244, 28.381932912478703, 26.834902397105814, 26.674919558864477, 27.355037859899646, 28.11297989589034, 26.8256003434838, 26.95780757845653, 28.616335602102353, 28.444411372193183, 27.574493994221832, 29.143976466068906, 28.515783763670917, 28.506955475155717, 28.353203523570567, 27.702334428638913, 28.135968255602062, 28.33553882589883, 28.901177781884613, 28.71868592090013, 26.707015268109092, 27.574130748790086, 27.457814814225227, 27.120452291486043, 28.593711786809955, 28.22700164394726, 28.10774611420744, 27.526911319388656, 27.613634217646453, 27.254723343872374, 28.717114517431625, 27.100000506866795, 28.070908924739907, 28.378180867189087, 28.02321843946799, 27.10801104672239, 27.78812400395992, 28.49161246364853, 27.818092056006265, 27.721577533722566, 26.682315032242315, 27.62116028531689, 27.18739531826495, 29.192768342654624, 27.42505889268193, 27.77565709491689, 27.311782717959638, 26.61049234332512, 27.372137791651976, 27.728744837363255, 28.26997700138516, 28.146584302652943, 28.179097034629773, 28.595461552167478, 28.59782005986317, 28.261869702629134, 28.08769803011876, 28.84224730477251, 27.615443281303257, 26.623734058915684, 27.765527627009078, 27.54993156821663, 28.419988127319318, 26.486920688111393, 26.884497319181804, 28.03612636759351, 27.96670286119476, 26.980122974677258, 27.103472003742002, 26.25763670968765, 28.018282818219188, 27.545200331817423, 27.286190337808282, 27.529699550450466, 26.945709665006845, 27.004062634142333, 27.692771763034987, 27.4895895554602, 26.807282020121157, 27.480414891874414, 27.907764145271496, 29.016775040812156, 28.4679189399643, 28.246756055135652, 28.519413067350975, 27.42282836094399, 28.620972834894076, 27.17079475941693, 28.060729311940335, 28.397294923192522, 28.021290786228633, 29.066293369106205, 27.595456615603844, 29.04057451786177, 28.973539742140016, 29.745640985627183, 28.742012577138667, 28.83866280702889, 29.049593976902155, 29.692611220644995, 27.927616300757048, 27.973637055957248, 27.20126217960898, 27.333175106947696, 27.587512287124444, 28.18971505555701, 27.594886458399596, 28.49900331475833, 25.536320043145114, 25.689303231621818, 26.265907351755608, 26.498521583619652, 26.649008496457622, 27.69035705269971, 28.53752949982414, 28.563267123334363, 25.87149561538717, 27.66244172879884, 26.23225938610341, 27.907506803079276, 26.502018624951873, 26.104445866740864, 28.821207313719754, 27.133175050199874, 28.39163404120902, 28.515892543774772, 26.309904074608767, 28.791066800475136, 27.175485165487302, 26.71550580716706, 27.43445779648869, 27.371441469415753, 28.54159967770818, 27.62714789866428, 28.285014121018573, 28.313514832636187, 28.800610763275373, 28.022962831443106, 28.116506170245778, 27.93772569657548, 29.379631778470646, 28.018585214557834, 29.718330846648477, 28.833701456894655, 28.869965886953665, 28.848712166585987, 27.080538041262205, 27.206324313829448, 28.03433651019564, 27.743447385954887, 26.409424893715403, 27.81567347824043, 26.965960729057706, 27.2977054218194, 27.688047957619826, 27.442952179502008, 27.77944225216552, 26.928991395579747, 27.407447649101826, 27.437097396178668, 27.787350398207394, 28.09864650410991, 27.06887597504391, 26.70039080197956, 27.94791689823219, 28.548953173633215, 26.50378715720632, 27.062590398842087, 29.334361840589587, 27.38856890652467, 28.465723228110907, 26.639518413852738, 27.0255927212053, 27.700512854150784, 27.149322024672838, 26.930036778387983, 29.476399995969143, 28.201818048029924, 28.9399506128596, 28.66850961299584, 28.515151882679735, 27.66590514206881, 29.448805484076686, 29.092557329242858, 28.08609775034349, 28.470835891892868, 28.54865795849384, 27.21643290224351, 26.256174748564607, 27.452742351750278, 27.995818088255344, 28.070242366777272, 27.10313369099042, 27.310686404183752, 27.600355072441413, 27.13680415204116, 27.310545313394528, 26.837660552185774, 27.870399366646424, 26.88287899542778, 28.145690472559153, 27.474903439844596, 27.003584731817107, 27.18224638916154, 27.612916513630932, 28.132524097016834, 27.962095422744547, 28.6091832108874, 26.975640288103754, 26.980834751851837, 27.71844655566787, 27.021076121488374, 28.244028644129184, 28.058051737295106, 27.943553437907834, 26.830977339842207, 26.13803332062306, 30.328455460879347, 28.074784358746633, 28.199512397631697, 27.965354491301582, 27.85201458384765, 28.15873745151512, 28.862486511527084, 28.485880051171034, 29.04060013806361, 27.33606206904002, 27.088292493170822, 27.04033880022326, 27.783776596773833, 27.307457147440278, 28.0976439814796, 25.54075808691471, 26.80659969996622, 26.726897864096475, 27.522925088191204, 27.62687976985264, 27.35147788224094, 28.21850318417604, 28.04481274033169, 26.85746450118768, 27.791155099279887, 27.663925743747964, 26.815907484894332, 27.834455575182165, 26.97354668872272, 28.105886720531288, 27.163724229896673, 25.908724572090296, 27.99010947992184, 27.225475236567377, 26.838186076833775, 27.061032369490583, 27.491728139443282, 27.373741585560964, 26.353432703921293, 27.237387919354607, 27.71290707541042, 27.844315663307764, 27.987897756693606, 28.57241585294733, 28.75632211236888, 28.837356558279662, 28.259641126434648, 30.384573912839464, 28.238649330074953, 29.212222211368623, 28.26700493412777, 28.003604739088825, 27.122166826818255, 28.24547202001483, 27.360845844811852, 28.123808852237396, 27.464030039368804, 26.527734836212247, 26.275262050045395, 26.52862520202016, 28.208938154971808, 25.73919844947578, 28.074870802052683, 26.684420556991828, 27.68715039266096, 26.83587391739073, 26.113123243725838, 26.42819324674997, 26.484826457846598, 26.792464789314327, 27.54863608555716, 26.482559608174117, 27.77555634876205, 27.616080731710866, 27.541265217262747, 28.12228003250906, 27.56804838231837, 28.08611670334969, 28.074784358746633, 26.90494840190226, 26.503262160540206, 27.450793346739058, 27.12881064591104, 29.004189127277915, 28.7285373419437, 27.867854776906366, 28.049051894142593, 28.36734173190739, 28.45711829093062, 28.394857261494764, 28.182136840200304, 28.811116870095628, 29.286644529582, 28.59823143411995, 28.581089837238228, 28.134546722879897, 28.09097938205642, 27.99743269518929, 27.313198846805626, 26.53638102355318, 27.459789768465825, 27.09131365518416, 27.312939754726106, 25.994250473754928, 28.45693873137583, 26.71478840874831, 27.54634291552263, 26.44910963490729, 27.149764503727994, 27.486528567243926, 26.35448519054925, 27.888563380173096, 26.545847119794246, 27.485324251623517, 28.080958410875173, 27.17079475941693, 26.718964707524336, 27.826901332376565, 27.42802556384755, 26.06495327930748, 26.84417368517263, 27.4955240141466, 26.579054858016626, 28.412946825088696, 27.463876086123282, 28.95401626208649, 27.510146251063617, 28.164847529582907, 28.60105951736752, 28.437628212797783, 27.74341647891934, 28.618227902772965, 28.135809618333184, 28.623034172227694, 28.260495621867005, 28.278319367946807, 27.97187707400666, 28.680518748392448, 26.636605014817246, 27.173073641896984, 26.35157177517943, 26.768451910810157, 27.739982100258594, 27.180134296390104, 26.814429884582108, 26.91716930754534, 27.232598599258708, 28.350212371691757, 26.373296502966305, 26.559261476742474, 27.279230359496246, 27.36986979828927, 27.23348042576389, 27.60942990437314, 26.678563887623373, 27.52063086259105, 28.54865795849384, 27.785524223464453, 26.195842481040327, 26.626012160637686, 27.62536784441201, 27.244383548648585, 27.87224196484957, 27.46827944829979, 27.510233165635285, 26.659635083885384, 27.01013816136875, 26.098267821695284, 27.65527579502898, 27.747970980177637, 27.862193508256862, 29.223052512437597, 29.223159958821046, 28.296989408666477, 28.27221357089611, 27.743589302667356, 28.082097792841395, 28.340155060583864, 28.12527940246232, 28.03997959199971, 28.98901012267897, 27.542533514095037, 28.25222059901609, 27.052664725922224, 27.051458279695723, 27.36991313514553, 26.83564966930088, 28.545778664003965, 26.63716610230827, 27.521191189036834, 28.216995649915187, 27.576134327685317, 27.503105458016854, 26.685903086776882, 28.048680482301275, 26.82255276939922, 27.10489907689247, 28.074542486123477, 29.17026240215494, 26.735435620592042, 27.350269783725114, 27.93021244039968, 26.854422357954682, 26.11996720480107, 26.691009755011926, 27.38800388459611, 27.295745361723494, 26.568047382930967, 28.43580466510013, 27.395147636513858, 28.644166385755458, 28.473351390576635, 27.832730749232038, 27.85359260731338, 27.795181392419128, 28.11667881742293, 28.25929414539146, 28.27487050112625, 28.681444246328528, 29.94567161333667, 30.328455460879347, 28.717114517431625, 26.45679909273085, 27.3015430487141, 27.171505281844457, 28.96337981410754, 27.05240448349122, 27.05675517891317, 27.451668490467153, 28.00537692893089, 26.695546068664992, 27.56598011327224, 26.803880962592903, 28.80610036751906, 27.36298125631828, 28.502359681802186, 26.13740095202055, 27.39958080400004, 27.619325605631452, 27.587876405815468, 27.8018925567448, 27.209606578277374, 27.582853218129973, 27.071576441968805, 26.962066321440847, 27.07772212074289, 28.585280280556667, 27.371401451127117, 27.096413938361962, 27.715125690502, 28.497155033018302, 25.504571779181074, 28.150631747664292, 28.37646715146, 28.97642044397092, 28.853071871122282, 28.799261899107183, 27.958557863372878, 28.584530932629455, 28.819526380295017, 28.17002221849542, 28.289761680135456], \"Category\": [\"Default\", \"Default\", \"Default\", \"Default\", \"Default\", \"Default\", \"Default\", \"Default\", \"Default\", \"Default\", \"Default\", \"Default\", \"Default\", \"Default\", \"Default\", \"Default\", \"Default\", \"Default\", \"Default\", \"Default\", \"Default\", \"Default\", \"Default\", \"Default\", \"Default\", \"Default\", \"Default\", \"Default\", \"Default\", \"Default\", \"Topic1\", \"Topic1\", \"Topic1\", \"Topic1\", \"Topic1\", \"Topic1\", \"Topic1\", \"Topic1\", \"Topic1\", \"Topic1\", \"Topic1\", \"Topic1\", \"Topic1\", \"Topic1\", \"Topic1\", \"Topic1\", \"Topic1\", \"Topic1\", \"Topic1\", \"Topic1\", \"Topic1\", \"Topic1\", \"Topic1\", \"Topic1\", \"Topic1\", \"Topic1\", \"Topic1\", \"Topic1\", \"Topic1\", \"Topic1\", \"Topic1\", \"Topic1\", \"Topic1\", \"Topic1\", \"Topic1\", \"Topic1\", \"Topic1\", \"Topic1\", \"Topic1\", \"Topic1\", \"Topic1\", \"Topic1\", \"Topic1\", \"Topic1\", \"Topic2\", \"Topic2\", \"Topic2\", \"Topic2\", \"Topic2\", \"Topic2\", \"Topic2\", \"Topic2\", \"Topic2\", \"Topic2\", \"Topic2\", \"Topic2\", \"Topic2\", \"Topic2\", \"Topic2\", \"Topic2\", \"Topic2\", \"Topic2\", \"Topic2\", \"Topic2\", \"Topic2\", \"Topic2\", \"Topic2\", \"Topic2\", \"Topic2\", \"Topic2\", \"Topic2\", \"Topic2\", \"Topic2\", \"Topic2\", \"Topic2\", \"Topic2\", \"Topic2\", \"Topic2\", \"Topic2\", \"Topic2\", \"Topic2\", \"Topic2\", \"Topic2\", \"Topic2\", \"Topic3\", \"Topic3\", \"Topic3\", \"Topic3\", \"Topic3\", \"Topic3\", \"Topic3\", \"Topic3\", \"Topic3\", \"Topic3\", \"Topic3\", \"Topic3\", \"Topic3\", \"Topic3\", \"Topic3\", \"Topic3\", \"Topic3\", \"Topic3\", \"Topic3\", \"Topic3\", \"Topic3\", \"Topic3\", \"Topic3\", \"Topic3\", \"Topic3\", \"Topic3\", \"Topic3\", \"Topic3\", \"Topic3\", \"Topic3\", \"Topic3\", \"Topic3\", \"Topic3\", \"Topic3\", \"Topic3\", \"Topic3\", \"Topic3\", \"Topic3\", \"Topic3\", \"Topic3\", \"Topic3\", \"Topic3\", \"Topic4\", \"Topic4\", \"Topic4\", \"Topic4\", \"Topic4\", \"Topic4\", \"Topic4\", \"Topic4\", \"Topic4\", \"Topic4\", \"Topic4\", \"Topic4\", \"Topic4\", \"Topic4\", \"Topic4\", \"Topic4\", \"Topic4\", \"Topic4\", \"Topic4\", \"Topic4\", \"Topic4\", \"Topic4\", \"Topic4\", \"Topic4\", \"Topic4\", \"Topic4\", \"Topic4\", \"Topic4\", \"Topic4\", \"Topic4\", \"Topic4\", \"Topic4\", \"Topic4\", \"Topic4\", \"Topic4\", \"Topic4\", \"Topic4\", \"Topic4\", \"Topic5\", \"Topic5\", \"Topic5\", \"Topic5\", \"Topic5\", \"Topic5\", \"Topic5\", \"Topic5\", \"Topic5\", \"Topic5\", \"Topic5\", \"Topic5\", \"Topic5\", \"Topic5\", \"Topic5\", \"Topic5\", \"Topic5\", \"Topic5\", \"Topic5\", \"Topic5\", \"Topic5\", \"Topic5\", \"Topic5\", \"Topic5\", \"Topic5\", \"Topic5\", \"Topic5\", \"Topic5\", \"Topic5\", \"Topic5\", \"Topic5\", \"Topic5\", \"Topic5\", \"Topic5\", \"Topic5\", \"Topic5\", \"Topic5\", \"Topic5\", \"Topic5\", \"Topic5\", \"Topic5\", \"Topic5\", \"Topic6\", \"Topic6\", \"Topic6\", \"Topic6\", \"Topic6\", \"Topic6\", \"Topic6\", \"Topic6\", \"Topic6\", \"Topic6\", \"Topic6\", \"Topic6\", \"Topic6\", \"Topic6\", \"Topic6\", \"Topic6\", \"Topic6\", \"Topic6\", \"Topic6\", \"Topic6\", \"Topic6\", \"Topic6\", \"Topic6\", \"Topic6\", \"Topic6\", \"Topic6\", \"Topic6\", \"Topic6\", \"Topic6\", \"Topic6\", \"Topic6\", \"Topic6\", \"Topic6\", \"Topic6\", \"Topic6\", \"Topic6\", \"Topic6\", \"Topic6\", \"Topic6\", \"Topic6\", \"Topic6\", \"Topic6\", \"Topic6\", \"Topic6\", \"Topic6\", \"Topic6\", \"Topic7\", \"Topic7\", \"Topic7\", \"Topic7\", \"Topic7\", \"Topic7\", \"Topic7\", \"Topic7\", \"Topic7\", \"Topic7\", \"Topic7\", \"Topic7\", \"Topic7\", \"Topic7\", \"Topic7\", \"Topic7\", \"Topic7\", \"Topic7\", \"Topic7\", \"Topic7\", \"Topic7\", \"Topic7\", \"Topic7\", \"Topic7\", \"Topic7\", \"Topic7\", \"Topic7\", \"Topic7\", \"Topic7\", \"Topic7\", \"Topic7\", \"Topic7\", \"Topic7\", \"Topic7\", \"Topic7\", \"Topic7\", \"Topic7\", \"Topic7\", \"Topic7\", \"Topic7\", \"Topic7\", \"Topic8\", \"Topic8\", \"Topic8\", \"Topic8\", \"Topic8\", \"Topic8\", \"Topic8\", \"Topic8\", \"Topic8\", \"Topic8\", \"Topic8\", \"Topic8\", \"Topic8\", \"Topic8\", \"Topic8\", \"Topic8\", \"Topic8\", \"Topic8\", \"Topic8\", \"Topic8\", \"Topic8\", \"Topic8\", \"Topic8\", \"Topic8\", \"Topic8\", \"Topic8\", \"Topic8\", \"Topic8\", \"Topic8\", \"Topic8\", \"Topic8\", \"Topic8\", \"Topic8\", \"Topic8\", \"Topic8\", \"Topic8\", \"Topic8\", \"Topic8\", \"Topic8\", \"Topic9\", \"Topic9\", \"Topic9\", \"Topic9\", \"Topic9\", \"Topic9\", \"Topic9\", \"Topic9\", \"Topic9\", \"Topic9\", \"Topic9\", \"Topic9\", \"Topic9\", \"Topic9\", \"Topic9\", \"Topic9\", \"Topic9\", \"Topic9\", \"Topic9\", \"Topic9\", \"Topic9\", \"Topic9\", \"Topic9\", \"Topic9\", \"Topic9\", \"Topic9\", \"Topic9\", \"Topic9\", \"Topic9\", \"Topic9\", \"Topic9\", \"Topic9\", \"Topic9\", \"Topic9\", \"Topic9\", \"Topic9\", \"Topic9\", \"Topic9\", \"Topic9\", \"Topic9\", \"Topic9\", \"Topic9\", \"Topic9\", \"Topic10\", \"Topic10\", \"Topic10\", \"Topic10\", \"Topic10\", \"Topic10\", \"Topic10\", \"Topic10\", \"Topic10\", \"Topic10\", \"Topic10\", \"Topic10\", \"Topic10\", \"Topic10\", \"Topic10\", \"Topic10\", \"Topic10\", \"Topic10\", \"Topic10\", \"Topic10\", \"Topic10\", \"Topic10\", \"Topic10\", \"Topic10\", \"Topic10\", \"Topic10\", \"Topic10\", \"Topic10\", \"Topic10\", \"Topic10\", \"Topic10\", \"Topic10\", \"Topic10\", \"Topic10\", \"Topic10\", \"Topic10\", \"Topic10\", \"Topic10\", \"Topic10\", \"Topic10\", \"Topic10\", \"Topic10\", \"Topic10\", \"Topic11\", \"Topic11\", \"Topic11\", \"Topic11\", \"Topic11\", \"Topic11\", \"Topic11\", \"Topic11\", \"Topic11\", \"Topic11\", \"Topic11\", \"Topic11\", \"Topic11\", \"Topic11\", \"Topic11\", \"Topic11\", \"Topic11\", \"Topic11\", \"Topic11\", \"Topic11\", \"Topic11\", \"Topic11\", \"Topic11\", \"Topic11\", \"Topic11\", \"Topic11\", \"Topic11\", \"Topic11\", \"Topic11\", \"Topic11\", \"Topic11\", \"Topic11\", \"Topic11\", \"Topic11\", \"Topic11\", \"Topic11\", \"Topic11\", \"Topic11\", \"Topic11\", \"Topic11\", \"Topic11\", \"Topic11\", \"Topic11\", \"Topic12\", \"Topic12\", \"Topic12\", \"Topic12\", \"Topic12\", \"Topic12\", \"Topic12\", \"Topic12\", \"Topic12\", \"Topic12\", \"Topic12\", \"Topic12\", \"Topic12\", \"Topic12\", \"Topic12\", \"Topic12\", \"Topic12\", \"Topic12\", \"Topic12\", \"Topic12\", \"Topic12\", \"Topic12\", \"Topic12\", \"Topic12\", \"Topic12\", \"Topic12\", \"Topic12\", \"Topic12\", \"Topic12\", \"Topic12\", \"Topic12\", \"Topic12\", \"Topic12\", \"Topic12\", \"Topic12\", \"Topic12\", \"Topic12\", \"Topic12\", \"Topic12\", \"Topic12\", \"Topic13\", \"Topic13\", \"Topic13\", \"Topic13\", \"Topic13\", \"Topic13\", \"Topic13\", \"Topic13\", \"Topic13\", \"Topic13\", \"Topic13\", \"Topic13\", \"Topic13\", \"Topic13\", \"Topic13\", \"Topic13\", \"Topic13\", \"Topic13\", \"Topic13\", \"Topic13\", \"Topic13\", \"Topic13\", \"Topic13\", \"Topic13\", \"Topic13\", \"Topic13\", \"Topic13\", \"Topic13\", \"Topic13\", \"Topic13\", \"Topic13\", \"Topic13\", \"Topic13\", \"Topic13\", \"Topic13\", \"Topic13\", \"Topic13\", \"Topic13\", \"Topic13\", \"Topic13\", \"Topic13\", \"Topic13\", \"Topic13\", \"Topic13\", \"Topic14\", \"Topic14\", \"Topic14\", \"Topic14\", \"Topic14\", \"Topic14\", \"Topic14\", \"Topic14\", \"Topic14\", \"Topic14\", \"Topic14\", \"Topic14\", \"Topic14\", \"Topic14\", \"Topic14\", \"Topic14\", \"Topic14\", \"Topic14\", \"Topic14\", \"Topic14\", \"Topic14\", \"Topic14\", \"Topic14\", \"Topic14\", \"Topic14\", \"Topic14\", \"Topic14\", \"Topic14\", \"Topic14\", \"Topic14\", \"Topic14\", \"Topic14\", \"Topic14\", \"Topic14\", \"Topic14\", \"Topic14\", \"Topic14\", \"Topic14\", \"Topic14\", \"Topic14\"], \"logprob\": [30.0, 29.0, 28.0, 27.0, 26.0, 25.0, 24.0, 23.0, 22.0, 21.0, 20.0, 19.0, 18.0, 17.0, 16.0, 15.0, 14.0, 13.0, 12.0, 11.0, 10.0, 9.0, 8.0, 7.0, 6.0, 5.0, 4.0, 3.0, 2.0, 1.0, -9.3353, -9.2918, -9.2819, -9.3556, -9.3534, -9.383, -9.3875, -9.3501, -9.3878, -9.3342, -9.3265, -9.3724, -9.4039, -9.3823, -9.36, -9.3975, -9.3706, -9.4182, -9.3484, -9.3543, -9.3988, -9.4009, -9.361, -9.4272, -9.3444, -9.3766, -9.4357, -9.454, -9.401, -9.4188, -9.3731, -9.4028, -9.397, -9.3816, -9.382, -9.3912, -9.3747, -9.3745, -9.3746, -9.3803, -9.3943, -9.3902, -9.3904, -9.3897, -9.3376, -9.3199, -9.3268, -9.3568, -9.3442, -9.3739, -9.3586, -9.3543, -9.3987, -9.3601, -9.387, -9.3844, -9.3861, -9.4325, -9.3689, -9.4224, -9.3341, -9.3832, -9.38, -9.3972, -9.374, -9.386, -9.3712, -9.41, -9.4178, -9.3921, -9.4141, -9.4359, -9.4372, -9.41, -9.3572, -9.3844, -9.3911, -9.3921, -9.3948, -9.388, -9.3874, -9.3792, -9.3834, -9.3942, -9.2949, -9.3687, -9.3652, -9.3358, -9.4049, -9.4092, -9.3936, -9.3944, -9.3886, -9.3648, -9.3502, -9.3783, -9.3284, -9.3596, -9.3568, -9.3955, -9.3758, -9.3967, -9.4146, -9.359, -9.4132, -9.4278, -9.4032, -9.3695, -9.4264, -9.4338, -9.4093, -9.3822, -9.4295, -9.4266, -9.3716, -9.3775, -9.4068, -9.3655, -9.3821, -9.3845, -9.3932, -9.4049, -9.3996, -9.3997, -9.396, -9.3985, -9.3001, -9.2936, -9.3363, -9.3683, -9.3241, -9.3411, -9.3497, -9.3711, -9.3761, -9.3894, -9.3373, -9.3954, -9.3619, -9.3523, -9.3671, -9.4067, -9.3832, -9.3605, -9.3861, -9.3898, -9.4295, -9.395, -9.4118, -9.3425, -9.406, -9.395, -9.4131, -9.4408, -9.4128, -9.4003, -9.3831, -9.3894, -9.3903, -9.3803, -9.3823, -9.3894, -9.3983, -9.3938, -9.3308, -9.3778, -9.3423, -9.3627, -9.3337, -9.4069, -9.3977, -9.3568, -9.361, -9.3972, -9.3927, -9.4301, -9.3673, -9.3845, -9.395, -9.3878, -9.4103, -9.4098, -9.3858, -9.3932, -9.4196, -9.3951, -9.3798, -9.3415, -9.3611, -9.3698, -9.3615, -9.4008, -9.3588, -9.4108, -9.3802, -9.3767, -9.3872, -9.3717, -9.3986, -9.375, -9.3765, -9.3746, -9.3864, -9.3894, -9.3933, -9.3936, -9.2946, -9.3254, -9.3598, -9.369, -9.3648, -9.3506, -9.3725, -9.3477, -9.4583, -9.4538, -9.4347, -9.4269, -9.4217, -9.385, -9.3562, -9.356, -9.4576, -9.3911, -9.4445, -9.3835, -9.4362, -9.4513, -9.354, -9.4147, -9.3701, -9.3662, -9.447, -9.3583, -9.4173, -9.4353, -9.409, -9.412, -9.3781, -9.4062, -9.3884, -9.3888, -9.3772, -9.3986, -9.3967, -9.4012, -9.3798, -9.4015, -9.3755, -9.3906, -9.4008, -9.4019, -9.3286, -9.3254, -9.3168, -9.3411, -9.3938, -9.3587, -9.3901, -9.3845, -9.3712, -9.3813, -9.3701, -9.4028, -9.3873, -9.3872, -9.377, -9.3696, -9.4073, -9.4214, -9.3765, -9.3567, -9.4319, -9.4117, -9.3313, -9.402, -9.3637, -9.43, -9.4157, -9.3914, -9.4129, -9.4226, -9.3342, -9.3796, -9.3616, -9.37, -9.3762, -9.3991, -9.3633, -9.3796, -9.3967, -9.3938, -9.3957, -9.3356, -9.3942, -9.3571, -9.3409, -9.339, -9.3795, -9.3792, -9.3742, -9.3979, -9.3919, -9.4097, -9.3735, -9.4119, -9.3669, -9.3929, -9.411, -9.4048, -9.3902, -9.3718, -9.3784, -9.3558, -9.4147, -9.4153, -9.3885, -9.4149, -9.372, -9.38, -9.386, -9.4266, -9.4543, -9.3087, -9.3843, -9.3808, -9.3911, -9.394, -9.3927, -9.3822, -9.3952, -9.3939, -9.3408, -9.3607, -9.3645, -9.3396, -9.3618, -9.3381, -9.4359, -9.3892, -9.3951, -9.3687, -9.3654, -9.3787, -9.3496, -9.358, -9.4042, -9.3716, -9.3762, -9.4099, -9.3729, -9.4054, -9.3657, -9.4004, -9.4498, -9.3726, -9.4021, -9.4208, -9.4125, -9.3986, -9.4044, -9.4447, -9.4127, -9.396, -9.395, -9.3953, -9.3834, -9.3816, -9.3824, -9.3917, -9.368, -9.3925, -9.385, -9.3962, -9.3978, -9.318, -9.2871, -9.3334, -9.3274, -9.3545, -9.3901, -9.406, -9.3996, -9.3403, -9.4447, -9.3597, -9.4109, -9.3781, -9.4101, -9.4395, -9.4308, -9.4287, -9.4174, -9.3902, -9.4314, -9.3838, -9.3933, -9.3968, -9.3807, -9.4009, -9.3829, -9.3847, -9.4285, -9.4437, -9.409, -9.421, -9.3577, -9.3678, -9.3961, -9.3906, -9.3866, -9.3892, -9.3914, -9.3961, -9.3868, -9.3814, -9.3947, -9.3986, -9.2918, -9.3213, -9.3294, -9.3577, -9.3867, -9.3549, -9.3747, -9.3717, -9.4243, -9.3359, -9.3992, -9.3701, -9.4135, -9.3891, -9.3788, -9.4231, -9.3671, -9.4218, -9.3886, -9.3675, -9.4013, -9.4189, -9.3802, -9.3947, -9.447, -9.4181, -9.3973, -9.4312, -9.3669, -9.4009, -9.3526, -9.402, -9.3847, -9.376, -9.3804, -9.3967, -9.3798, -9.3891, -9.3841, -9.3912, -9.3934, -9.3959, -9.3942, -9.3529, -9.36, -9.3912, -9.3798, -9.346, -9.3681, -9.3895, -9.3889, -9.3826, -9.3432, -9.4221, -9.4198, -9.3942, -9.397, -9.4039, -9.3913, -9.4299, -9.3992, -9.3631, -9.3911, -9.4514, -9.4355, -9.3991, -9.4146, -9.3943, -9.4096, -9.4092, -9.4427, -9.4299, -9.4643, -9.4072, -9.4051, -9.4017, -9.3735, -9.3774, -9.3992, -9.4047, -9.4106, -9.4088, -9.4073, -9.2924, -9.3087, -9.2873, -9.3443, -9.3211, -9.3683, -9.3769, -9.3663, -9.391, -9.3297, -9.4031, -9.3719, -9.3502, -9.3777, -9.3816, -9.4118, -9.3638, -9.4093, -9.3998, -9.3661, -9.3297, -9.4173, -9.3998, -9.38, -9.4217, -9.4511, -9.431, -9.4071, -9.411, -9.4387, -9.3722, -9.4088, -9.3704, -9.3799, -9.3973, -9.3969, -9.3984, -9.3924, -9.3954, -9.3957, -9.3969, -9.3955, -9.3956, -9.398, -9.3455, -9.3401, -9.3519, -9.3048, -9.3858, -9.3872, -9.374, -9.3552, -9.4046, -9.3766, -9.4058, -9.3339, -9.3892, -9.3499, -9.4389, -9.3946, -9.3867, -9.3893, -9.3816, -9.4039, -9.3903, -9.4094, -9.4139, -9.4098, -9.3581, -9.404, -9.4153, -9.3932, -9.3654, -9.4767, -9.3813, -9.3785, -9.3659, -9.3691, -9.3786, -9.3979, -9.3918, -9.3977, -9.4027, -9.4026], \"loglift\": [30.0, 29.0, 28.0, 27.0, 26.0, 25.0, 24.0, 23.0, 22.0, 21.0, 20.0, 19.0, 18.0, 17.0, 16.0, 15.0, 14.0, 13.0, 12.0, 11.0, 10.0, 9.0, 8.0, 7.0, 6.0, 5.0, 4.0, 3.0, 2.0, 1.0, 0.3137, 0.3085, 0.2952, 0.2908, 0.2899, 0.2867, 0.2848, 0.2834, 0.278, 0.2726, 0.2673, 0.2655, 0.2634, 0.2611, 0.261, 0.261, 0.2603, 0.2583, 0.2574, 0.2566, 0.2565, 0.256, 0.2544, 0.2541, 0.2534, 0.2521, 0.2518, 0.2518, 0.2515, 0.2508, 0.2503, 0.2499, 0.2476, 0.2452, 0.2453, 0.2462, 0.238, 0.2309, 0.2281, 0.2297, 0.2454, 0.2345, 0.2287, 0.2054, 0.3096, 0.3067, 0.3016, 0.3003, 0.2971, 0.2963, 0.2918, 0.2864, 0.2807, 0.2752, 0.2751, 0.2747, 0.2746, 0.2738, 0.2732, 0.2728, 0.2684, 0.2615, 0.2596, 0.2593, 0.2574, 0.2573, 0.257, 0.2542, 0.2521, 0.252, 0.2519, 0.2495, 0.2441, 0.2423, 0.2366, 0.2361, 0.2374, 0.2367, 0.2341, 0.2275, 0.2267, 0.2113, 0.2092, 0.2198, 0.3436, 0.2942, 0.2923, 0.2923, 0.2914, 0.2899, 0.2883, 0.2872, 0.2865, 0.2841, 0.2833, 0.2812, 0.2758, 0.2754, 0.2696, 0.2641, 0.2617, 0.2591, 0.2554, 0.2548, 0.2529, 0.2528, 0.2526, 0.2518, 0.251, 0.2495, 0.2488, 0.2487, 0.2482, 0.2462, 0.2414, 0.2416, 0.2434, 0.2293, 0.2345, 0.2324, 0.2291, 0.2406, 0.2304, 0.2232, 0.2072, 0.211, 0.382, 0.3566, 0.3181, 0.2985, 0.2898, 0.2857, 0.2813, 0.2808, 0.2727, 0.2724, 0.2723, 0.2721, 0.2705, 0.2691, 0.2669, 0.2606, 0.2592, 0.257, 0.2553, 0.255, 0.2536, 0.2535, 0.2525, 0.2506, 0.2496, 0.2479, 0.2467, 0.245, 0.2447, 0.2442, 0.2422, 0.2403, 0.2382, 0.2335, 0.2314, 0.2362, 0.2334, 0.2114, 0.3179, 0.3075, 0.301, 0.2884, 0.2862, 0.2835, 0.2778, 0.2767, 0.2751, 0.2748, 0.2747, 0.269, 0.2669, 0.2668, 0.2657, 0.264, 0.2629, 0.2613, 0.2601, 0.2601, 0.2588, 0.2585, 0.2583, 0.2577, 0.2572, 0.2563, 0.255, 0.2549, 0.2542, 0.2541, 0.2525, 0.2441, 0.2469, 0.2258, 0.2508, 0.2234, 0.2242, 0.1998, 0.2223, 0.216, 0.2047, 0.1826, 0.3428, 0.3104, 0.3039, 0.29, 0.2849, 0.2775, 0.2769, 0.2695, 0.2687, 0.2672, 0.2641, 0.263, 0.2626, 0.2609, 0.2596, 0.259, 0.2563, 0.2559, 0.2556, 0.2547, 0.2537, 0.2536, 0.2519, 0.2516, 0.2509, 0.2504, 0.2501, 0.2487, 0.2474, 0.2465, 0.2462, 0.2455, 0.2376, 0.2421, 0.2363, 0.2349, 0.2295, 0.2354, 0.234, 0.2359, 0.2069, 0.2327, 0.1998, 0.2149, 0.2035, 0.203, 0.3396, 0.3382, 0.3168, 0.303, 0.2996, 0.2828, 0.2824, 0.2758, 0.2749, 0.2737, 0.2726, 0.271, 0.2689, 0.2679, 0.2655, 0.2617, 0.2614, 0.261, 0.2602, 0.2587, 0.2579, 0.2572, 0.257, 0.2549, 0.2546, 0.2546, 0.2545, 0.2542, 0.2528, 0.2513, 0.2493, 0.248, 0.2402, 0.2413, 0.2404, 0.2477, 0.2211, 0.2169, 0.2351, 0.2243, 0.2197, 0.3277, 0.3049, 0.2975, 0.2941, 0.2933, 0.2879, 0.2806, 0.275, 0.2683, 0.2679, 0.2676, 0.266, 0.2637, 0.2628, 0.2609, 0.2601, 0.2597, 0.2586, 0.2583, 0.2578, 0.2575, 0.2574, 0.2566, 0.2565, 0.2555, 0.2542, 0.2528, 0.2509, 0.2509, 0.2494, 0.2462, 0.2479, 0.247, 0.245, 0.2462, 0.2365, 0.2223, 0.2224, 0.2044, 0.3181, 0.3073, 0.3052, 0.303, 0.2981, 0.2932, 0.2909, 0.2892, 0.2863, 0.2834, 0.2829, 0.2796, 0.2775, 0.2752, 0.2723, 0.2708, 0.2707, 0.2681, 0.2679, 0.2668, 0.2653, 0.2648, 0.2627, 0.2626, 0.2608, 0.2564, 0.2564, 0.2546, 0.2531, 0.2507, 0.2498, 0.2492, 0.2455, 0.2399, 0.2312, 0.2266, 0.223, 0.2339, 0.1851, 0.2339, 0.2074, 0.2292, 0.237, 0.3487, 0.339, 0.3246, 0.303, 0.2997, 0.2987, 0.2924, 0.2893, 0.2871, 0.2744, 0.2724, 0.2721, 0.268, 0.2672, 0.2651, 0.2618, 0.2617, 0.2615, 0.2609, 0.2591, 0.2591, 0.2553, 0.2546, 0.2498, 0.2495, 0.2489, 0.2475, 0.2463, 0.2461, 0.2456, 0.2454, 0.2419, 0.2414, 0.2435, 0.2425, 0.2353, 0.2294, 0.2294, 0.2323, 0.2195, 0.2085, 0.219, 0.2158, 0.3383, 0.3103, 0.3055, 0.302, 0.3018, 0.2995, 0.2932, 0.288, 0.2849, 0.2828, 0.2826, 0.2811, 0.2783, 0.2766, 0.2746, 0.2723, 0.2717, 0.2664, 0.2649, 0.2644, 0.2636, 0.2628, 0.2608, 0.2608, 0.2595, 0.2589, 0.2558, 0.2557, 0.2533, 0.2533, 0.2488, 0.2505, 0.2443, 0.2376, 0.2389, 0.2474, 0.2332, 0.2409, 0.2287, 0.2344, 0.2315, 0.2399, 0.2166, 0.3319, 0.3049, 0.3044, 0.3, 0.2982, 0.2965, 0.2886, 0.2854, 0.2801, 0.2792, 0.2726, 0.2679, 0.2667, 0.2606, 0.2587, 0.2576, 0.2533, 0.2529, 0.2524, 0.2515, 0.2501, 0.2497, 0.2492, 0.2476, 0.2451, 0.2444, 0.2433, 0.2412, 0.241, 0.2409, 0.24, 0.2387, 0.2381, 0.2186, 0.2147, 0.2251, 0.2205, 0.2335, 0.2232, 0.2155, 0.338, 0.3247, 0.3128, 0.3071, 0.3047, 0.3009, 0.2925, 0.2913, 0.2863, 0.2859, 0.2817, 0.2802, 0.2769, 0.2724, 0.2711, 0.2711, 0.2693, 0.2685, 0.2675, 0.2661, 0.2642, 0.2637, 0.2586, 0.2574, 0.2549, 0.2533, 0.2517, 0.2499, 0.2493, 0.2487, 0.2472, 0.2479, 0.2418, 0.2381, 0.2436, 0.2432, 0.2438, 0.2383, 0.2303, 0.2294, 0.2139, 0.1721, 0.1594, 0.2116, 0.346, 0.32, 0.313, 0.2962, 0.2835, 0.282, 0.2806, 0.2794, 0.278, 0.2739, 0.2727, 0.2726, 0.2687, 0.2672, 0.2648, 0.2619, 0.2618, 0.2604, 0.2604, 0.2596, 0.2595, 0.2592, 0.2587, 0.2586, 0.256, 0.2536, 0.2524, 0.2519, 0.2518, 0.2515, 0.2482, 0.243, 0.2347, 0.2357, 0.2281, 0.2384, 0.2224, 0.2083, 0.2261, 0.2219]}, \"token.table\": {\"Topic\": [1, 2, 3, 4, 5, 6, 7, 8, 9, 10, 11, 12, 13, 14, 1, 2, 3, 4, 5, 6, 7, 8, 9, 10, 11, 12, 13, 14, 1, 2, 3, 4, 5, 6, 7, 8, 9, 10, 11, 12, 13, 14, 1, 2, 3, 4, 5, 6, 7, 8, 9, 10, 11, 12, 13, 14, 1, 2, 3, 4, 5, 6, 7, 8, 9, 10, 11, 12, 13, 14, 1, 2, 3, 4, 5, 6, 7, 8, 9, 10, 11, 12, 13, 14, 1, 2, 3, 4, 5, 6, 7, 8, 9, 10, 11, 12, 13, 14, 1, 2, 3, 4, 5, 6, 7, 8, 9, 10, 11, 12, 13, 14, 1, 2, 3, 4, 5, 6, 7, 8, 9, 10, 11, 12, 13, 14, 1, 2, 3, 4, 5, 6, 7, 8, 9, 10, 11, 12, 13, 14, 1, 2, 3, 4, 5, 6, 7, 8, 9, 10, 11, 12, 13, 14, 1, 2, 3, 4, 5, 6, 7, 8, 9, 10, 11, 12, 13, 14, 1, 2, 3, 4, 5, 6, 7, 8, 9, 10, 11, 12, 13, 14, 1, 2, 3, 4, 5, 6, 7, 8, 9, 10, 11, 12, 13, 14, 1, 2, 3, 4, 5, 6, 7, 8, 9, 10, 11, 12, 13, 14, 1, 2, 3, 4, 5, 6, 7, 8, 9, 10, 11, 12, 13, 14, 1, 2, 3, 4, 5, 6, 7, 8, 9, 10, 11, 12, 13, 14, 1, 2, 3, 4, 5, 6, 7, 8, 9, 10, 11, 12, 13, 14, 1, 2, 3, 4, 5, 6, 7, 8, 9, 10, 11, 12, 13, 14, 1, 2, 3, 4, 5, 6, 7, 8, 9, 10, 11, 12, 13, 14, 1, 2, 3, 4, 5, 6, 7, 8, 9, 10, 11, 12, 13, 14, 1, 2, 3, 4, 5, 6, 7, 8, 9, 10, 11, 12, 13, 14, 1, 2, 3, 4, 5, 6, 7, 8, 9, 10, 11, 12, 13, 14, 1, 2, 3, 4, 5, 6, 7, 8, 9, 10, 11, 12, 13, 14, 1, 2, 3, 4, 5, 6, 7, 8, 9, 10, 11, 12, 13, 14, 1, 2, 3, 4, 5, 6, 7, 8, 9, 10, 11, 12, 13, 14, 1, 2, 3, 4, 5, 6, 7, 8, 9, 10, 11, 12, 13, 14, 1, 2, 3, 4, 5, 6, 7, 8, 9, 10, 11, 12, 13, 14, 1, 2, 3, 4, 5, 6, 7, 8, 9, 10, 11, 12, 13, 14, 1, 2, 3, 4, 5, 6, 7, 8, 9, 10, 11, 12, 13, 14, 1, 2, 3, 4, 5, 6, 7, 8, 9, 10, 11, 12, 13, 14, 1, 2, 3, 4, 5, 6, 7, 8, 9, 10, 11, 12, 13, 14, 1, 2, 3, 4, 5, 6, 7, 8, 9, 10, 11, 12, 13, 14, 1, 2, 3, 4, 5, 6, 7, 8, 9, 10, 11, 12, 13, 14, 1, 2, 3, 4, 5, 6, 7, 8, 9, 10, 11, 12, 13, 14, 1, 2, 3, 4, 5, 6, 7, 8, 9, 10, 11, 12, 13, 14, 1, 2, 3, 4, 5, 6, 7, 8, 9, 10, 11, 12, 13, 14, 1, 2, 3, 4, 5, 6, 7, 8, 9, 10, 11, 12, 13, 14, 1, 2, 3, 4, 5, 6, 7, 8, 9, 10, 11, 12, 13, 14, 1, 2, 3, 4, 5, 6, 7, 8, 9, 10, 11, 12, 13, 14, 1, 2, 3, 4, 5, 6, 7, 8, 9, 10, 11, 12, 13, 14, 1, 2, 3, 4, 5, 6, 7, 8, 9, 10, 11, 12, 13, 14, 1, 2, 3, 4, 5, 6, 7, 8, 9, 10, 11, 12, 13, 14, 1, 2, 3, 4, 5, 6, 7, 8, 9, 10, 11, 12, 13, 14, 1, 2, 3, 4, 5, 6, 7, 8, 9, 10, 11, 12, 13, 14, 1, 2, 3, 4, 5, 6, 7, 8, 9, 10, 11, 12, 13, 14, 1, 2, 3, 4, 5, 6, 7, 8, 9, 10, 11, 12, 13, 14, 1, 2, 3, 4, 5, 6, 7, 8, 9, 10, 11, 12, 13, 14, 1, 2, 3, 4, 5, 6, 7, 8, 9, 10, 11, 12, 13, 14, 1, 2, 3, 4, 5, 6, 7, 8, 9, 10, 11, 12, 13, 14, 1, 2, 3, 4, 5, 6, 7, 8, 9, 10, 11, 12, 13, 14, 1, 2, 3, 4, 5, 6, 7, 8, 9, 10, 11, 12, 13, 14, 1, 2, 3, 4, 5, 6, 7, 8, 9, 10, 11, 12, 13, 14, 1, 2, 3, 4, 5, 6, 7, 8, 9, 10, 11, 12, 13, 14, 1, 2, 3, 4, 5, 6, 7, 8, 9, 10, 11, 12, 13, 14, 1, 2, 3, 4, 5, 6, 7, 8, 9, 10, 11, 12, 13, 14, 1, 2, 3, 4, 5, 6, 7, 8, 9, 10, 11, 12, 13, 14, 1, 2, 3, 4, 5, 6, 7, 8, 9, 10, 11, 12, 13, 14, 1, 2, 3, 4, 5, 6, 7, 8, 9, 10, 11, 12, 13, 14, 1, 2, 3, 4, 5, 6, 7, 8, 9, 10, 11, 12, 13, 14, 1, 2, 3, 4, 5, 6, 7, 8, 9, 10, 11, 12, 13, 14, 1, 2, 3, 4, 5, 6, 7, 8, 9, 10, 11, 12, 13, 14, 1, 2, 3, 4, 5, 6, 7, 8, 9, 10, 11, 12, 13, 14, 1, 2, 3, 4, 5, 6, 7, 8, 9, 10, 11, 12, 13, 14, 1, 2, 3, 4, 5, 6, 7, 8, 9, 10, 11, 12, 13, 14, 1, 2, 3, 4, 5, 6, 7, 8, 9, 10, 11, 12, 13, 14, 1, 2, 3, 4, 5, 6, 7, 8, 9, 10, 11, 12, 13, 14, 1, 2, 3, 4, 5, 6, 7, 8, 9, 10, 11, 12, 13, 14, 1, 2, 3, 4, 5, 6, 7, 8, 9, 10, 11, 12, 13, 14, 1, 2, 3, 4, 5, 6, 7, 8, 9, 10, 11, 12, 13, 14, 1, 2, 3, 4, 5, 6, 7, 8, 9, 10, 11, 12, 13, 14, 1, 2, 3, 4, 5, 6, 7, 8, 9, 10, 11, 12, 13, 14, 1, 2, 3, 4, 5, 6, 7, 8, 9, 10, 11, 12, 13, 14, 1, 2, 3, 4, 5, 6, 7, 8, 9, 10, 11, 12, 13, 14, 1, 2, 3, 4, 5, 6, 7, 8, 9, 10, 11, 12, 13, 14, 1, 2, 3, 4, 5, 6, 7, 8, 9, 10, 11, 12, 13, 14, 1, 2, 3, 4, 5, 6, 7, 8, 9, 10, 11, 12, 13, 14, 1, 2, 3, 4, 5, 6, 7, 8, 9, 10, 11, 12, 13, 14, 1, 2, 3, 4, 5, 6, 7, 8, 9, 10, 11, 12, 13, 14, 1, 2, 3, 4, 5, 6, 7, 8, 9, 10, 11, 12, 13, 14, 1, 2, 3, 4, 5, 6, 7, 8, 9, 10, 11, 12, 13, 14, 1, 2, 3, 4, 5, 6, 7, 8, 9, 10, 11, 12, 13, 14, 1, 2, 3, 4, 5, 6, 7, 8, 9, 10, 11, 12, 13, 14, 1, 2, 3, 4, 5, 6, 7, 8, 9, 10, 11, 12, 13, 14, 1, 2, 3, 4, 5, 6, 7, 8, 9, 10, 11, 12, 13, 14, 1, 2, 3, 4, 5, 6, 7, 8, 9, 10, 11, 12, 13, 14, 1, 2, 3, 4, 5, 6, 7, 8, 9, 10, 11, 12, 13, 14, 1, 2, 3, 4, 5, 6, 7, 8, 9, 10, 11, 12, 13, 14, 1, 2, 3, 4, 5, 6, 7, 8, 9, 10, 11, 12, 13, 14, 1, 2, 3, 4, 5, 6, 7, 8, 9, 10, 11, 12, 13, 14, 1, 2, 3, 4, 5, 6, 7, 8, 9, 10, 11, 12, 13, 14, 1, 2, 3, 4, 5, 6, 7, 8, 9, 10, 11, 12, 13, 14, 1, 2, 3, 4, 5, 6, 7, 8, 9, 10, 11, 12, 13, 14, 1, 2, 3, 4, 5, 6, 7, 8, 9, 10, 11, 12, 13, 14, 1, 2, 3, 4, 5, 6, 7, 8, 9, 10, 11, 12, 13, 14, 1, 2, 3, 4, 5, 6, 7, 8, 9, 10, 11, 12, 13, 14, 1, 2, 3, 4, 5, 6, 7, 8, 9, 10, 11, 12, 13, 14, 1, 2, 3, 4, 5, 6, 7, 8, 9, 10, 11, 12, 13, 14, 1, 2, 3, 4, 5, 6, 7, 8, 9, 10, 11, 12, 13, 14, 1, 2, 3, 4, 5, 6, 7, 8, 9, 10, 11, 12, 13, 14, 1, 2, 3, 4, 5, 6, 7, 8, 9, 10, 11, 12, 13, 14, 1, 2, 3, 4, 5, 6, 7, 8, 9, 10, 11, 12, 13, 14, 1, 2, 3, 4, 5, 6, 7, 8, 9, 10, 11, 12, 13, 14, 1, 2, 3, 4, 5, 6, 7, 8, 9, 10, 11, 12, 13, 14, 1, 2, 3, 4, 5, 6, 7, 8, 9, 10, 11, 12, 13, 14, 1, 2, 3, 4, 5, 6, 7, 8, 9, 10, 11, 12, 13, 14, 1, 2, 3, 4, 5, 6, 7, 8, 9, 10, 11, 12, 13, 14, 1, 2, 3, 4, 5, 6, 7, 8, 9, 10, 11, 12, 13, 14, 1, 2, 3, 4, 5, 6, 7, 8, 9, 10, 11, 12, 13, 14, 1, 2, 3, 4, 5, 6, 7, 8, 9, 10, 11, 12, 13, 14, 1, 2, 3, 4, 5, 6, 7, 8, 9, 10, 11, 12, 13, 14, 1, 2, 3, 4, 5, 6, 7, 8, 9, 10, 11, 12, 13, 14, 1, 2, 3, 4, 5, 6, 7, 8, 9, 10, 11, 12, 13, 14, 1, 2, 3, 4, 5, 6, 7, 8, 9, 10, 11, 12, 13, 14, 1, 2, 3, 4, 5, 6, 7, 8, 9, 10, 11, 12, 13, 14, 1, 2, 3, 4, 5, 6, 7, 8, 9, 10, 11, 12, 13, 14, 1, 2, 3, 4, 5, 6, 7, 8, 9, 10, 11, 12, 13, 14, 1, 2, 3, 4, 5, 6, 7, 8, 9, 10, 11, 12, 13, 14, 1, 2, 3, 4, 5, 6, 7, 8, 9, 10, 11, 12, 13, 14, 1, 2, 3, 4, 5, 6, 7, 8, 9, 10, 11, 12, 13, 14, 1, 2, 3, 4, 5, 6, 7, 8, 9, 10, 11, 12, 13, 14, 1, 2, 3, 4, 5, 6, 7, 8, 9, 10, 11, 12, 13, 14, 1, 2, 3, 4, 5, 6, 7, 8, 9, 10, 11, 12, 13, 14, 1, 2, 3, 4, 5, 6, 7, 8, 9, 10, 11, 12, 13, 14, 1, 2, 3, 4, 5, 6, 7, 8, 9, 10, 11, 12, 13, 14, 1, 2, 3, 4, 5, 6, 7, 8, 9, 10, 11, 12, 13, 14, 1, 2, 3, 4, 5, 6, 7, 8, 9, 10, 11, 12, 13, 14, 1, 2, 3, 4, 5, 6, 7, 8, 9, 10, 11, 12, 13, 14, 1, 2, 3, 4, 5, 6, 7, 8, 9, 10, 11, 12, 13, 14, 1, 2, 3, 4, 5, 6, 7, 8, 9, 10, 11, 12, 13, 14, 1, 2, 3, 4, 5, 6, 7, 8, 9, 10, 11, 12, 13, 14, 1, 2, 3, 4, 5, 6, 7, 8, 9, 10, 11, 12, 13, 14, 1, 2, 3, 4, 5, 6, 7, 8, 9, 10, 11, 12, 13, 14, 1, 2, 3, 4, 5, 6, 7, 8, 9, 10, 11, 12, 13, 14, 1, 2, 3, 4, 5, 6, 7, 8, 9, 10, 11, 12, 13, 14, 1, 2, 3, 4, 5, 6, 7, 8, 9, 10, 11, 12, 13, 14, 1, 2, 3, 4, 5, 6, 7, 8, 9, 10, 11, 12, 13, 14, 1, 2, 3, 4, 5, 6, 7, 8, 9, 10, 11, 12, 13, 14, 1, 2, 3, 4, 5, 6, 7, 8, 9, 10, 11, 12, 13, 14, 1, 2, 3, 4, 5, 6, 7, 8, 9, 10, 11, 12, 13, 14, 1, 2, 3, 4, 5, 6, 7, 8, 9, 10, 11, 12, 13, 14, 1, 2, 3, 4, 5, 6, 7, 8, 9, 10, 11, 12, 13, 14, 1, 2, 3, 4, 5, 6, 7, 8, 9, 10, 11, 12, 13, 14, 1, 2, 3, 4, 5, 6, 7, 8, 9, 10, 11, 12, 13, 14, 1, 2, 3, 4, 5, 6, 7, 8, 9, 10, 11, 12, 13, 14, 1, 2, 3, 4, 5, 6, 7, 8, 9, 10, 11, 12, 13, 14, 1, 2, 3, 4, 5, 6, 7, 8, 9, 10, 11, 12, 13, 14, 1, 2, 3, 4, 5, 6, 7, 8, 9, 10, 11, 12, 13, 14, 1, 2, 3, 4, 5, 6, 7, 8, 9, 10, 11, 12, 13, 14, 1, 2, 3, 4, 5, 6, 7, 8, 9, 10, 11, 12, 13, 14, 1, 2, 3, 4, 5, 6, 7, 8, 9, 10, 11, 12, 13, 14, 1, 2, 3, 4, 5, 6, 7, 8, 9, 10, 11, 12, 13, 14, 1, 2, 3, 4, 5, 6, 7, 8, 9, 10, 11, 12, 13, 14, 1, 2, 3, 4, 5, 6, 7, 8, 9, 10, 11, 12, 13, 14, 1, 2, 3, 4, 5, 6, 7, 8, 9, 10, 11, 12, 13, 14, 1, 2, 3, 4, 5, 6, 7, 8, 9, 10, 11, 12, 13, 14, 1, 2, 3, 4, 5, 6, 7, 8, 9, 10, 11, 12, 13, 14, 1, 2, 3, 4, 5, 6, 7, 8, 9, 10, 11, 12, 13, 14, 1, 2, 3, 4, 5, 6, 7, 8, 9, 10, 11, 12, 13, 14, 1, 2, 3, 4, 5, 6, 7, 8, 9, 10, 11, 12, 13, 14, 1, 2, 3, 4, 5, 6, 7, 8, 9, 10, 11, 12, 13, 14, 1, 2, 3, 4, 5, 6, 7, 8, 9, 10, 11, 12, 13, 14, 1, 2, 3, 4, 5, 6, 7, 8, 9, 10, 11, 12, 13, 14, 1, 2, 3, 4, 5, 6, 7, 8, 9, 10, 11, 12, 13, 14, 1, 2, 3, 4, 5, 6, 7, 8, 9, 10, 11, 12, 13, 14, 1, 2, 3, 4, 5, 6, 7, 8, 9, 10, 11, 12, 13, 14, 1, 2, 3, 4, 5, 6, 7, 8, 9, 10, 11, 12, 13, 14, 1, 2, 3, 4, 5, 6, 7, 8, 9, 10, 11, 12, 13, 14, 1, 2, 3, 4, 5, 6, 7, 8, 9, 10, 11, 12, 13, 14, 1, 2, 3, 4, 5, 6, 7, 8, 9, 10, 11, 12, 13, 14, 1, 2, 3, 4, 5, 6, 7, 8, 9, 10, 11, 12, 13, 14, 1, 2, 3, 4, 5, 6, 7, 8, 9, 10, 11, 12, 13, 14, 1, 2, 3, 4, 5, 6, 7, 8, 9, 10, 11, 12, 13, 14, 1, 2, 3, 4, 5, 6, 7, 8, 9, 10, 11, 12, 13, 14, 1, 2, 3, 4, 5, 6, 7, 8, 9, 10, 11, 12, 13, 14, 1, 2, 3, 4, 5, 6, 7, 8, 9, 10, 11, 12, 13, 14, 1, 2, 3, 4, 5, 6, 7, 8, 9, 10, 11, 12, 13, 14, 1, 2, 3, 4, 5, 6, 7, 8, 9, 10, 11, 12, 13, 14, 1, 2, 3, 4, 5, 6, 7, 8, 9, 10, 11, 12, 13, 14, 1, 2, 3, 4, 5, 6, 7, 8, 9, 10, 11, 12, 13, 14, 1, 2, 3, 4, 5, 6, 7, 8, 9, 10, 11, 12, 13, 14, 1, 2, 3, 4, 5, 6, 7, 8, 9, 10, 11, 12, 13, 14, 1, 2, 3, 4, 5, 6, 7, 8, 9, 10, 11, 12, 13, 14, 1, 2, 3, 4, 5, 6, 7, 8, 9, 10, 11, 12, 13, 14, 1, 2, 3, 4, 5, 6, 7, 8, 9, 10, 11, 12, 13, 14, 1, 2, 3, 4, 5, 6, 7, 8, 9, 10, 11, 12, 13, 14, 1, 2, 3, 4, 5, 6, 7, 8, 9, 10, 11, 12, 13, 14, 1, 2, 3, 4, 5, 6, 7, 8, 9, 10, 11, 12, 13, 14, 1, 2, 3, 4, 5, 6, 7, 8, 9, 10, 11, 12, 13, 14, 1, 2, 3, 4, 5, 6, 7, 8, 9, 10, 11, 12, 13, 14, 1, 2, 3, 4, 5, 6, 7, 8, 9, 10, 11, 12, 13, 14, 1, 2, 3, 4, 5, 6, 7, 8, 9, 10, 11, 12, 13, 14, 1, 2, 3, 4, 5, 6, 7, 8, 9, 10, 11, 12, 13, 14, 1, 2, 3, 4, 5, 6, 7, 8, 9, 10, 11, 12, 13, 14, 1, 2, 3, 4, 5, 6, 7, 8, 9, 10, 11, 12, 13, 14, 1, 2, 3, 4, 5, 6, 7, 8, 9, 10, 11, 12, 13, 14, 1, 2, 3, 4, 5, 6, 7, 8, 9, 10, 11, 12, 13, 14, 1, 2, 3, 4, 5, 6, 7, 8, 9, 10, 11, 12, 13, 14, 1, 2, 3, 4, 5, 6, 7, 8, 9, 10, 11, 12, 13, 14, 1, 2, 3, 4, 5, 6, 7, 8, 9, 10, 11, 12, 13, 14, 1, 2, 3, 4, 5, 6, 7, 8, 9, 10, 11, 12, 13, 14, 1, 2, 3, 4, 5, 6, 7, 8, 9, 10, 11, 12, 13, 14, 1, 2, 3, 4, 5, 6, 7, 8, 9, 10, 11, 12, 13, 14, 1, 2, 3, 4, 5, 6, 7, 8, 9, 10, 11, 12, 13, 14, 1, 2, 3, 4, 5, 6, 7, 8, 9, 10, 11, 12, 13, 14, 1, 2, 3, 4, 5, 6, 7, 8, 9, 10, 11, 12, 13, 14, 1, 2, 3, 4, 5, 6, 7, 8, 9, 10, 11, 12, 13, 14, 1, 2, 3, 4, 5, 6, 7, 8, 9, 10, 11, 12, 13, 14, 1, 2, 3, 4, 5, 6, 7, 8, 9, 10, 11, 12, 13, 14, 1, 2, 3, 4, 5, 6, 7, 8, 9, 10, 11, 12, 13, 14, 1, 2, 3, 4, 5, 6, 7, 8, 9, 10, 11, 12, 13, 14, 1, 2, 3, 4, 5, 6, 7, 8, 9, 10, 11, 12, 13, 14, 1, 2, 3, 4, 5, 6, 7, 8, 9, 10, 11, 12, 13, 14, 1, 2, 3, 4, 5, 6, 7, 8, 9, 10, 11, 12, 13, 14, 1, 2, 3, 4, 5, 6, 7, 8, 9, 10, 11, 12, 13, 14, 1, 2, 3, 4, 5, 6, 7, 8, 9, 10, 11, 12, 13, 14, 1, 2, 3, 4, 5, 6, 7, 8, 9, 10, 11, 12, 13, 14, 1, 2, 3, 4, 5, 6, 7, 8, 9, 10, 11, 12, 13, 14, 1, 2, 3, 4, 5, 6, 7, 8, 9, 10, 11, 12, 13, 14, 1, 2, 3, 4, 5, 6, 7, 8, 9, 10, 11, 12, 13, 14, 1, 2, 3, 4, 5, 6, 7, 8, 9, 10, 11, 12, 13, 14, 1, 2, 3, 4, 5, 6, 7, 8, 9, 10, 11, 12, 13, 14, 1, 2, 3, 4, 5, 6, 7, 8, 9, 10, 11, 12, 13, 14, 1, 2, 3, 4, 5, 6, 7, 8, 9, 10, 11, 12, 13, 14, 1, 2, 3, 4, 5, 6, 7, 8, 9, 10, 11, 12, 13, 14, 1, 2, 3, 4, 5, 6, 7, 8, 9, 10, 11, 12, 13, 14, 1, 2, 3, 4, 5, 6, 7, 8, 9, 10, 11, 12, 13, 14, 1, 2, 3, 4, 5, 6, 7, 8, 9, 10, 11, 12, 13, 14, 1, 2, 3, 4, 5, 6, 7, 8, 9, 10, 11, 12, 13, 14, 1, 2, 3, 4, 5, 6, 7, 8, 9, 10, 11, 12, 13, 14, 1, 2, 3, 4, 5, 6, 7, 8, 9, 10, 11, 12, 13, 14, 1, 2, 3, 4, 5, 6, 7, 8, 9, 10, 11, 12, 13, 14, 1, 2, 3, 4, 5, 6, 7, 8, 9, 10, 11, 12, 13, 14, 1, 2, 3, 4, 5, 6, 7, 8, 9, 10, 11, 12, 13, 14, 1, 2, 3, 4, 5, 6, 7, 8, 9, 10, 11, 12, 13, 14, 1, 2, 3, 4, 5, 6, 7, 8, 9, 10, 11, 12, 13, 14, 1, 2, 3, 4, 5, 6, 7, 8, 9, 10, 11, 12, 13, 14, 1, 2, 3, 4, 5, 6, 7, 8, 9, 10, 11, 12, 13, 14, 1, 2, 3, 4, 5, 6, 7, 8, 9, 10, 11, 12, 13, 14, 1, 2, 3, 4, 5, 6, 7, 8, 9, 10, 11, 12, 13, 14, 1, 2, 3, 4, 5, 6, 7, 8, 9, 10, 11, 12, 13, 14, 1, 2, 3, 4, 5, 6, 7, 8, 9, 10, 11, 12, 13, 14, 1, 2, 3, 4, 5, 6, 7, 8, 9, 10, 11, 12, 13, 14, 1, 2, 3, 4, 5, 6, 7, 8, 9, 10, 11, 12, 13, 14, 1, 2, 3, 4, 5, 6, 7, 8, 9, 10, 11, 12, 13, 14, 1, 2, 3, 4, 5, 6, 7, 8, 9, 10, 11, 12, 13, 14, 1, 2, 3, 4, 5, 6, 7, 8, 9, 10, 11, 12, 13, 14, 1, 2, 3, 4, 5, 6, 7, 8, 9, 10, 11, 12, 13, 14, 1, 2, 3, 4, 5, 6, 7, 8, 9, 10, 11, 12, 13, 14, 1, 2, 3, 4, 5, 6, 7, 8, 9, 10, 11, 12, 13, 14, 1, 2, 3, 4, 5, 6, 7, 8, 9, 10, 11, 12, 13, 14, 1, 2, 3, 4, 5, 6, 7, 8, 9, 10, 11, 12, 13, 14, 1, 2, 3, 4, 5, 6, 7, 8, 9, 10, 11, 12, 13, 14, 1, 2, 3, 4, 5, 6, 7, 8, 9, 10, 11, 12, 13, 14, 1, 2, 3, 4, 5, 6, 7, 8, 9, 10, 11, 12, 13, 14, 1, 2, 3, 4, 5, 6, 7, 8, 9, 10, 11, 12, 13, 14, 1, 2, 3, 4, 5, 6, 7, 8, 9, 10, 11, 12, 13, 14, 1, 2, 3, 4, 5, 6, 7, 8, 9, 10, 11, 12, 13, 14, 1, 2, 3, 4, 5, 6, 7, 8, 9, 10, 11, 12, 13, 14, 1, 2, 3, 4, 5, 6, 7, 8, 9, 10, 11, 12, 13, 14, 1, 2, 3, 4, 5, 6, 7, 8, 9, 10, 11, 12, 13, 14, 1, 2, 3, 4, 5, 6, 7, 8, 9, 10, 11, 12, 13, 14, 1, 2, 3, 4, 5, 6, 7, 8, 9, 10, 11, 12, 13, 14, 1, 2, 3, 4, 5, 6, 7, 8, 9, 10, 11, 12, 13, 14, 1, 2, 3, 4, 5, 6, 7, 8, 9, 10, 11, 12, 13, 14, 1, 2, 3, 4, 5, 6, 7, 8, 9, 10, 11, 12, 13, 14, 1, 2, 3, 4, 5, 6, 7, 8, 9, 10, 11, 12, 13, 14, 1, 2, 3, 4, 5, 6, 7, 8, 9, 10, 11, 12, 13, 14, 1, 2, 3, 4, 5, 6, 7, 8, 9, 10, 11, 12, 13, 14, 1, 2, 3, 4, 5, 6, 7, 8, 9, 10, 11, 12, 13, 14, 1, 2, 3, 4, 5, 6, 7, 8, 9, 10, 11, 12, 13, 14, 1, 2, 3, 4, 5, 6, 7, 8, 9, 10, 11, 12, 13, 14, 1, 2, 3, 4, 5, 6, 7, 8, 9, 10, 11, 12, 13, 14, 1, 2, 3, 4, 5, 6, 7, 8, 9, 10, 11, 12, 13, 14, 1, 2, 3, 4, 5, 6, 7, 8, 9, 10, 11, 12, 13, 14, 1, 2, 3, 4, 5, 6, 7, 8, 9, 10, 11, 12, 13, 14, 1, 2, 3, 4, 5, 6, 7, 8, 9, 10, 11, 12, 13, 14, 1, 2, 3, 4, 5, 6, 7, 8, 9, 10, 11, 12, 13, 14, 1, 2, 3, 4, 5, 6, 7, 8, 9, 10, 11, 12, 13, 14, 1, 2, 3, 4, 5, 6, 7, 8, 9, 10, 11, 12, 13, 14, 1, 2, 3, 4, 5, 6, 7, 8, 9, 10, 11, 12, 13, 14, 1, 2, 3, 4, 5, 6, 7, 8, 9, 10, 11, 12, 13, 14, 1, 2, 3, 4, 5, 6, 7, 8, 9, 10, 11, 12, 13, 14, 1, 2, 3, 4, 5, 6, 7, 8, 9, 10, 11, 12, 13, 14, 1, 2, 3, 4, 5, 6, 7, 8, 9, 10, 11, 12, 13, 14, 1, 2, 3, 4, 5, 6, 7, 8, 9, 10, 11, 12, 13, 14, 1, 2, 3, 4, 5, 6, 7, 8, 9, 10, 11, 12, 13, 14, 1, 2, 3, 4, 5, 6, 7, 8, 9, 10, 11, 12, 13, 14, 1, 2, 3, 4, 5, 6, 7, 8, 9, 10, 11, 12, 13, 14, 1, 2, 3, 4, 5, 6, 7, 8, 9, 10, 11, 12, 13, 14, 1, 2, 3, 4, 5, 6, 7, 8, 9, 10, 11, 12, 13, 14, 1, 2, 3, 4, 5, 6, 7, 8, 9, 10, 11, 12, 13, 14, 1, 2, 3, 4, 5, 6, 7, 8, 9, 10, 11, 12, 13, 14, 1, 2, 3, 4, 5, 6, 7, 8, 9, 10, 11, 12, 13, 14, 1, 2, 3, 4, 5, 6, 7, 8, 9, 10, 11, 12, 13, 14, 1, 2, 3, 4, 5, 6, 7, 8, 9, 10, 11, 12, 13, 14, 1, 2, 3, 4, 5, 6, 7, 8, 9, 10, 11, 12, 13, 14, 1, 2, 3, 4, 5, 6, 7, 8, 9, 10, 11, 12, 13, 14, 1, 2, 3, 4, 5, 6, 7, 8, 9, 10, 11, 12, 13, 14, 1, 2, 3, 4, 5, 6, 7, 8, 9, 10, 11, 12, 13, 14, 1, 2, 3, 4, 5, 6, 7, 8, 9, 10, 11, 12, 13, 14, 1, 2, 3, 4, 5, 6, 7, 8, 9, 10, 11, 12, 13, 14, 1, 2, 3, 4, 5, 6, 7, 8, 9, 10, 11, 12, 13, 14, 1, 2, 3, 4, 5, 6, 7, 8, 9, 10, 11, 12, 13, 14, 1, 2, 3, 4, 5, 6, 7, 8, 9, 10, 11, 12, 13, 14, 1, 2, 3, 4, 5, 6, 7, 8, 9, 10, 11, 12, 13, 14, 1, 2, 3, 4, 5, 6, 7, 8, 9, 10, 11, 12, 13, 14, 1, 2, 3, 4, 5, 6, 7, 8, 9, 10, 11, 12, 13, 14, 1, 2, 3, 4, 5, 6, 7, 8, 9, 10, 11, 12, 13, 14, 1, 2, 3, 4, 5, 6, 7, 8, 9, 10, 11, 12, 13, 14, 1, 2, 3, 4, 5, 6, 7, 8, 9, 10, 11, 12, 13, 14, 1, 2, 3, 4, 5, 6, 7, 8, 9, 10, 11, 12, 13, 14, 1, 2, 3, 4, 5, 6, 7, 8, 9, 10, 11, 12, 13, 14, 1, 2, 3, 4, 5, 6, 7, 8, 9, 10, 11, 12, 13, 14, 1, 2, 3, 4, 5, 6, 7, 8, 9, 10, 11, 12, 13, 14, 1, 2, 3, 4, 5, 6, 7, 8, 9, 10, 11, 12, 13, 14, 1, 2, 3, 4, 5, 6, 7, 8, 9, 10, 11, 12, 13, 14, 1, 2, 3, 4, 5, 6, 7, 8, 9, 10, 11, 12, 13, 14, 1, 2, 3, 4, 5, 6, 7, 8, 9, 10, 11, 12, 13, 14, 1, 2, 3, 4, 5, 6, 7, 8, 9, 10, 11, 12, 13, 14, 1, 2, 3, 4, 5, 6, 7, 8, 9, 10, 11, 12, 13, 14, 1, 2, 3, 4, 5, 6, 7, 8, 9, 10, 11, 12, 13, 14, 1, 2, 3, 4, 5, 6, 7, 8, 9, 10, 11, 12, 13, 14, 1, 2, 3, 4, 5, 6, 7, 8, 9, 10, 11, 12, 13, 14, 1, 2, 3, 4, 5, 6, 7, 8, 9, 10, 11, 12, 13, 14, 1, 2, 3, 4, 5, 6, 7, 8, 9, 10, 11, 12, 13, 14, 1, 2, 3, 4, 5, 6, 7, 8, 9, 10, 11, 12, 13, 14, 1, 2, 3, 4, 5, 6, 7, 8, 9, 10, 11, 12, 13, 14, 1, 2, 3, 4, 5, 6, 7, 8, 9, 10, 11, 12, 13, 14, 1, 2, 3, 4, 5, 6, 7, 8, 9, 10, 11, 12, 13, 14, 1, 2, 3, 4, 5, 6, 7, 8, 9, 10, 11, 12, 13, 14, 1, 2, 3, 4, 5, 6, 7, 8, 9, 10, 11, 12, 13, 14, 1, 2, 3, 4, 5, 6, 7, 8, 9, 10, 11, 12, 13, 14, 1, 2, 3, 4, 5, 6, 7, 8, 9, 10, 11, 12, 13, 14, 1, 2, 3, 4, 5, 6, 7, 8, 9, 10, 11, 12, 13, 14, 1, 2, 3, 4, 5, 6, 7, 8, 9, 10, 11, 12, 13, 14, 1, 2, 3, 4, 5, 6, 7, 8, 9, 10, 11, 12, 13, 14, 1, 2, 3, 4, 5, 6, 7, 8, 9, 10, 11, 12, 13, 14, 1, 2, 3, 4, 5, 6, 7, 8, 9, 10, 11, 12, 13, 14, 1, 2, 3, 4, 5, 6, 7, 8, 9, 10, 11, 12, 13, 14, 1, 2, 3, 4, 5, 6, 7, 8, 9, 10, 11, 12, 13, 14, 1, 2, 3, 4, 5, 6, 7, 8, 9, 10, 11, 12, 13, 14, 1, 2, 3, 4, 5, 6, 7, 8, 9, 10, 11, 12, 13, 14, 1, 2, 3, 4, 5, 6, 7, 8, 9, 10, 11, 12, 13, 14, 1, 2, 3, 4, 5, 6, 7, 8, 9, 10, 11, 12, 13, 14, 1, 2, 3, 4, 5, 6, 7, 8, 9, 10, 11, 12, 13, 14, 1, 2, 3, 4, 5, 6, 7, 8, 9, 10, 11, 12, 13, 14, 1, 2, 3, 4, 5, 6, 7, 8, 9, 10, 11, 12, 13, 14, 1, 2, 3, 4, 5, 6, 7, 8, 9, 10, 11, 12, 13, 14, 1, 2, 3, 4, 5, 6, 7, 8, 9, 10, 11, 12, 13, 14, 1, 2, 3, 4, 5, 6, 7, 8, 9, 10, 11, 12, 13, 14, 1, 2, 3, 4, 5, 6, 7, 8, 9, 10, 11, 12, 13, 14, 1, 2, 3, 4, 5, 6, 7, 8, 9, 10, 11, 12, 13, 14, 1, 2, 3, 4, 5, 6, 7, 8, 9, 10, 11, 12, 13, 14, 1, 2, 3, 4, 5, 6, 7, 8, 9, 10, 11, 12, 13, 14, 1, 2, 3, 4, 5, 6, 7, 8, 9, 10, 11, 12, 13, 14, 1, 2, 3, 4, 5, 6, 7, 8, 9, 10, 11, 12, 13, 14, 1, 2, 3, 4, 5, 6, 7, 8, 9, 10, 11, 12, 13, 14, 1, 2, 3, 4, 5, 6, 7, 8, 9, 10, 11, 12, 13, 14, 1, 2, 3, 4, 5, 6, 7, 8, 9, 10, 11, 12, 13, 14, 1, 2, 3, 4, 5, 6, 7, 8, 9, 10, 11, 12, 13, 14, 1, 2, 3, 4, 5, 6, 7, 8, 9, 10, 11, 12, 13, 14, 1, 2, 3, 4, 5, 6, 7, 8, 9, 10, 11, 12, 13, 14, 1, 2, 3, 4, 5, 6, 7, 8, 9, 10, 11, 12, 13, 14, 1, 2, 3, 4, 5, 6, 7, 8, 9, 10, 11, 12, 13, 14, 1, 2, 3, 4, 5, 6, 7, 8, 9, 10, 11, 12, 13, 14, 1, 2, 3, 4, 5, 6, 7, 8, 9, 10, 11, 12, 13, 14, 1, 2, 3, 4, 5, 6, 7, 8, 9, 10, 11, 12, 13, 14, 1, 2, 3, 4, 5, 6, 7, 8, 9, 10, 11, 12, 13, 14, 1, 2, 3, 4, 5, 6, 7, 8, 9, 10, 11, 12, 13, 14, 1, 2, 3, 4, 5, 6, 7, 8, 9, 10, 11, 12, 13, 14, 1, 2, 3, 4, 5, 6, 7, 8, 9, 10, 11, 12, 13, 14, 1, 2, 3, 4, 5, 6, 7, 8, 9, 10, 11, 12, 13, 14, 1, 2, 3, 4, 5, 6, 7, 8, 9, 10, 11, 12, 13, 14, 1, 2, 3, 4, 5, 6, 7, 8, 9, 10, 11, 12, 13, 14, 1, 2, 3, 4, 5, 6, 7, 8, 9, 10, 11, 12, 13, 14, 1, 2, 3, 4, 5, 6, 7, 8, 9, 10, 11, 12, 13, 14, 1, 2, 3, 4, 5, 6, 7, 8, 9, 10, 11, 12, 13, 14, 1, 2, 3, 4, 5, 6, 7, 8, 9, 10, 11, 12, 13, 14, 1, 2, 3, 4, 5, 6, 7, 8, 9, 10, 11, 12, 13, 14, 1, 2, 3, 4, 5, 6, 7, 8, 9, 10, 11, 12, 13, 14, 1, 2, 3, 4, 5, 6, 7, 8, 9, 10, 11, 12, 13, 14, 1, 2, 3, 4, 5, 6, 7, 8, 9, 10, 11, 12, 13, 14, 1, 2, 3, 4, 5, 6, 7, 8, 9, 10, 11, 12, 13, 14, 1, 2, 3, 4, 5, 6, 7, 8, 9, 10, 11, 12, 13, 14, 1, 2, 3, 4, 5, 6, 7, 8, 9, 10, 11, 12, 13, 14, 1, 2, 3, 4, 5, 6, 7, 8, 9, 10, 11, 12, 13, 14, 1, 2, 3, 4, 5, 6, 7, 8, 9, 10, 11, 12, 13, 14, 1, 2, 3, 4, 5, 6, 7, 8, 9, 10, 11, 12, 13, 14, 1, 2, 3, 4, 5, 6, 7, 8, 9, 10, 11, 12, 13, 14, 1, 2, 3, 4, 5, 6, 7, 8, 9, 10, 11, 12, 13, 14, 1, 2, 3, 4, 5, 6, 7, 8, 9, 10, 11, 12, 13, 14, 1, 2, 3, 4, 5, 6, 7, 8, 9, 10, 11, 12, 13, 14, 1, 2, 3, 4, 5, 6, 7, 8, 9, 10, 11, 12, 13, 14, 1, 2, 3, 4, 5, 6, 7, 8, 9, 10, 11, 12, 13, 14, 1, 2, 3, 4, 5, 6, 7, 8, 9, 10, 11, 12, 13, 14, 1, 2, 3, 4, 5, 6, 7, 8, 9, 10, 11, 12, 13, 14, 1, 2, 3, 4, 5, 6, 7, 8, 9, 10, 11, 12, 13, 14, 1, 2, 3, 4, 5, 6, 7, 8, 9, 10, 11, 12, 13, 14, 1, 2, 3, 4, 5, 6, 7, 8, 9, 10, 11, 12, 13, 14, 1, 2, 3, 4, 5, 6, 7, 8, 9, 10, 11, 12, 13, 14, 1, 2, 3, 4, 5, 6, 7, 8, 9, 10, 11, 12, 13, 14, 1, 2, 3, 4, 5, 6, 7, 8, 9, 10, 11, 12, 13, 14, 1, 2, 3, 4, 5, 6, 7, 8, 9, 10, 11, 12, 13, 14, 1, 2, 3, 4, 5, 6, 7, 8, 9, 10, 11, 12, 13, 14, 1, 2, 3, 4, 5, 6, 7, 8, 9, 10, 11, 12, 13, 14, 1, 2, 3, 4, 5, 6, 7, 8, 9, 10, 11, 12, 13, 14, 1, 2, 3, 4, 5, 6, 7, 8, 9, 10, 11, 12, 13, 14, 1, 2, 3, 4, 5, 6, 7, 8, 9, 10, 11, 12, 13, 14, 1, 2, 3, 4, 5, 6, 7, 8, 9, 10, 11, 12, 13, 14, 1, 2, 3, 4, 5, 6, 7, 8, 9, 10, 11, 12, 13, 14, 1, 2, 3, 4, 5, 6, 7, 8, 9, 10, 11, 12, 13, 14, 1, 2, 3, 4, 5, 6, 7, 8, 9, 10, 11, 12, 13, 14, 1, 2, 3, 4, 5, 6, 7, 8, 9, 10, 11, 12, 13, 14, 1, 2, 3, 4, 5, 6, 7, 8, 9, 10, 11, 12, 13, 14, 1, 2, 3, 4, 5, 6, 7, 8, 9, 10, 11, 12, 13, 14, 1, 2, 3, 4, 5, 6, 7, 8, 9, 10, 11, 12, 13, 14, 1, 2, 3, 4, 5, 6, 7, 8, 9, 10, 11, 12, 13, 14, 1, 2, 3, 4, 5, 6, 7, 8, 9, 10, 11, 12, 13, 14, 1, 2, 3, 4, 5, 6, 7, 8, 9, 10, 11, 12, 13, 14, 1, 2, 3, 4, 5, 6, 7, 8, 9, 10, 11, 12, 13, 14, 1, 2, 3, 4, 5, 6, 7, 8, 9, 10, 11, 12, 13, 14, 1, 2, 3, 4, 5, 6, 7, 8, 9, 10, 11, 12, 13, 14, 1, 2, 3, 4, 5, 6, 7, 8, 9, 10, 11, 12, 13, 14, 1, 2, 3, 4, 5, 6, 7, 8, 9, 10, 11, 12, 13, 14, 1, 2, 3, 4, 5, 6, 7, 8, 9, 10, 11, 12, 13, 14, 1, 2, 3, 4, 5, 6, 7, 8, 9, 10, 11, 12, 13, 14, 1, 2, 3, 4, 5, 6, 7, 8, 9, 10, 11, 12, 13, 14, 1, 2, 3, 4, 5, 6, 7, 8, 9, 10, 11, 12, 13, 14, 1, 2, 3, 4, 5, 6, 7, 8, 9, 10, 11, 12, 13, 14, 1, 2, 3, 4, 5, 6, 7, 8, 9, 10, 11, 12, 13, 14, 1, 2, 3, 4, 5, 6, 7, 8, 9, 10, 11, 12, 13, 14, 1, 2, 3, 4, 5, 6, 7, 8, 9, 10, 11, 12, 13, 14, 1, 2, 3, 4, 5, 6, 7, 8, 9, 10, 11, 12, 13, 14, 1, 2, 3, 4, 5, 6, 7, 8, 9, 10, 11, 12, 13, 14, 1, 2, 3, 4, 5, 6, 7, 8, 9, 10, 11, 12, 13, 14, 1, 2, 3, 4, 5, 6, 7, 8, 9, 10, 11, 12, 13, 14, 1, 2, 3, 4, 5, 6, 7, 8, 9, 10, 11, 12, 13, 14, 1, 2, 3, 4, 5, 6, 7, 8, 9, 10, 11, 12, 13, 14, 1, 2, 3, 4, 5, 6, 7, 8, 9, 10, 11, 12, 13, 14, 1, 2, 3, 4, 5, 6, 7, 8, 9, 10, 11, 12, 13, 14, 1, 2, 3, 4, 5, 6, 7, 8, 9, 10, 11, 12, 13, 14, 1, 2, 3, 4, 5, 6, 7, 8, 9, 10, 11, 12, 13, 14, 1, 2, 3, 4, 5, 6, 7, 8, 9, 10, 11, 12, 13, 14, 1, 2, 3, 4, 5, 6, 7, 8, 9, 10, 11, 12, 13, 14, 1, 2, 3, 4, 5, 6, 7, 8, 9, 10, 11, 12, 13, 14, 1, 2, 3, 4, 5, 6, 7, 8, 9, 10, 11, 12, 13, 14, 1, 2, 3, 4, 5, 6, 7, 8, 9, 10, 11, 12, 13, 14, 1, 2, 3, 4, 5, 6, 7, 8, 9, 10, 11, 12, 13, 14, 1, 2, 3, 4, 5, 6, 7, 8, 9, 10, 11, 12, 13, 14, 1, 2, 3, 4, 5, 6, 7, 8, 9, 10, 11, 12, 13, 14, 1, 2, 3, 4, 5, 6, 7, 8, 9, 10, 11, 12, 13, 14, 1, 2, 3, 4, 5, 6, 7, 8, 9, 10, 11, 12, 13, 14, 1, 2, 3, 4, 5, 6, 7, 8, 9, 10, 11, 12, 13, 14, 1, 2, 3, 4, 5, 6, 7, 8, 9, 10, 11, 12, 13, 14, 1, 2, 3, 4, 5, 6, 7, 8, 9, 10, 11, 12, 13, 14, 1, 2, 3, 4, 5, 6, 7, 8, 9, 10, 11, 12, 13, 14, 1, 2, 3, 4, 5, 6, 7, 8, 9, 10, 11, 12, 13, 14, 1, 2, 3, 4, 5, 6, 7, 8, 9, 10, 11, 12, 13, 14, 1, 2, 3, 4, 5, 6, 7, 8, 9, 10, 11, 12, 13, 14, 1, 2, 3, 4, 5, 6, 7, 8, 9, 10, 11, 12, 13, 14, 1, 2, 3, 4, 5, 6, 7, 8, 9, 10, 11, 12, 13, 14, 1, 2, 3, 4, 5, 6, 7, 8, 9, 10, 11, 12, 13, 14, 1, 2, 3, 4, 5, 6, 7, 8, 9, 10, 11, 12, 13, 14, 1, 2, 3, 4, 5, 6, 7, 8, 9, 10, 11, 12, 13, 14, 1, 2, 3, 4, 5, 6, 7, 8, 9, 10, 11, 12, 13, 14, 1, 2, 3, 4, 5, 6, 7, 8, 9, 10, 11, 12, 13, 14, 1, 2, 3, 4, 5, 6, 7, 8, 9, 10, 11, 12, 13, 14, 1, 2, 3, 4, 5, 6, 7, 8, 9, 10, 11, 12, 13, 14, 1, 2, 3, 4, 5, 6, 7, 8, 9, 10, 11, 12, 13, 14, 1, 2, 3, 4, 5, 6, 7, 8, 9, 10, 11, 12, 13, 14, 1, 2, 3, 4, 5, 6, 7, 8, 9, 10, 11, 12, 13, 14, 1, 2, 3, 4, 5, 6, 7, 8, 9, 10, 11, 12, 13, 14, 1, 2, 3, 4, 5, 6, 7, 8, 9, 10, 11, 12, 13, 14, 1, 2, 3, 4, 5, 6, 7, 8, 9, 10, 11, 12, 13, 14, 1, 2, 3, 4, 5, 6, 7, 8, 9, 10, 11, 12, 13, 14, 1, 2, 3, 4, 5, 6, 7, 8, 9, 10, 11, 12, 13, 14, 1, 2, 3, 4, 5, 6, 7, 8, 9, 10, 11, 12, 13, 14, 1, 2, 3, 4, 5, 6, 7, 8, 9, 10, 11, 12, 13, 14, 1, 2, 3, 4, 5, 6, 7, 8, 9, 10, 11, 12, 13, 14, 1, 2, 3, 4, 5, 6, 7, 8, 9, 10, 11, 12, 13, 14, 1, 2, 3, 4, 5, 6, 7, 8, 9, 10, 11, 12, 13, 14, 1, 2, 3, 4, 5, 6, 7, 8, 9, 10, 11, 12, 13, 14, 1, 2, 3, 4, 5, 6, 7, 8, 9, 10, 11, 12, 13, 14, 1, 2, 3, 4, 5, 6, 7, 8, 9, 10, 11, 12, 13, 14, 1, 2, 3, 4, 5, 6, 7, 8, 9, 10, 11, 12, 13, 14, 1, 2, 3, 4, 5, 6, 7, 8, 9, 10, 11, 12, 13, 14, 1, 2, 3, 4, 5, 6, 7, 8, 9, 10, 11, 12, 13, 14, 1, 2, 3, 4, 5, 6, 7, 8, 9, 10, 11, 12, 13, 14, 1, 2, 3, 4, 5, 6, 7, 8, 9, 10, 11, 12, 13, 14, 1, 2, 3, 4, 5, 6, 7, 8, 9, 10, 11, 12, 13, 14, 1, 2, 3, 4, 5, 6, 7, 8, 9, 10, 11, 12, 13, 14, 1, 2, 3, 4, 5, 6, 7, 8, 9, 10, 11, 12, 13, 14, 1, 2, 3, 4, 5, 6, 7, 8, 9, 10, 11, 12, 13, 14, 1, 2, 3, 4, 5, 6, 7, 8, 9, 10, 11, 12, 13, 14, 1, 2, 3, 4, 5, 6, 7, 8, 9, 10, 11, 12, 13, 14, 1, 2, 3, 4, 5, 6, 7, 8, 9, 10, 11, 12, 13, 14, 1, 2, 3, 4, 5, 6, 7, 8, 9, 10, 11, 12, 13, 14, 1, 2, 3, 4, 5, 6, 7, 8, 9, 10, 11, 12, 13, 14, 1, 2, 3, 4, 5, 6, 7, 8, 9, 10, 11, 12, 13, 14, 1, 2, 3, 4, 5, 6, 7, 8, 9, 10, 11, 12, 13, 14, 1, 2, 3, 4, 5, 6, 7, 8, 9, 10, 11, 12, 13, 14, 1, 2, 3, 4, 5, 6, 7, 8, 9, 10, 11, 12, 13, 14, 1, 2, 3, 4, 5, 6, 7, 8, 9, 10, 11, 12, 13, 14, 1, 2, 3, 4, 5, 6, 7, 8, 9, 10, 11, 12, 13, 14, 1, 2, 3, 4, 5, 6, 7, 8, 9, 10, 11, 12, 13, 14, 1, 2, 3, 4, 5, 6, 7, 8, 9, 10, 11, 12, 13, 14, 1, 2, 3, 4, 5, 6, 7, 8, 9, 10, 11, 12, 13, 14, 1, 2, 3, 4, 5, 6, 7, 8, 9, 10, 11, 12, 13, 14, 1, 2, 3, 4, 5, 6, 7, 8, 9, 10, 11, 12, 13, 14, 1, 2, 3, 4, 5, 6, 7, 8, 9, 10, 11, 12, 13, 14, 1, 2, 3, 4, 5, 6, 7, 8, 9, 10, 11, 12, 13, 14, 1, 2, 3, 4, 5, 6, 7, 8, 9, 10, 11, 12, 13, 14, 1, 2, 3, 4, 5, 6, 7, 8, 9, 10, 11, 12, 13, 14, 1, 2, 3, 4, 5, 6, 7, 8, 9, 10, 11, 12, 13, 14, 1, 2, 3, 4, 5, 6, 7, 8, 9, 10, 11, 12, 13, 14, 1, 2, 3, 4, 5, 6, 7, 8, 9, 10, 11, 12, 13, 14, 1, 2, 3, 4, 5, 6, 7, 8, 9, 10, 11, 12, 13, 14, 1, 2, 3, 4, 5, 6, 7, 8, 9, 10, 11, 12, 13, 14, 1, 2, 3, 4, 5, 6, 7, 8, 9, 10, 11, 12, 13, 14, 1, 2, 3, 4, 5, 6, 7, 8, 9, 10, 11, 12, 13, 14, 1, 2, 3, 4, 5, 6, 7, 8, 9, 10, 11, 12, 13, 14, 1, 2, 3, 4, 5, 6, 7, 8, 9, 10, 11, 12, 13, 14, 1, 2, 3, 4, 5, 6, 7, 8, 9, 10, 11, 12, 13, 14, 1, 2, 3, 4, 5, 6, 7, 8, 9, 10, 11, 12, 13, 14, 1, 2, 3, 4, 5, 6, 7, 8, 9, 10, 11, 12, 13, 14, 1, 2, 3, 4, 5, 6, 7, 8, 9, 10, 11, 12, 13, 14, 1, 2, 3, 4, 5, 6, 7, 8, 9, 10, 11, 12, 13, 14, 1, 2, 3, 4, 5, 6, 7, 8, 9, 10, 11, 12, 13, 14, 1, 2, 3, 4, 5, 6, 7, 8, 9, 10, 11, 12, 13, 14, 1, 2, 3, 4, 5, 6, 7, 8, 9, 10, 11, 12, 13, 14, 1, 2, 3, 4, 5, 6, 7, 8, 9, 10, 11, 12, 13, 14, 1, 2, 3, 4, 5, 6, 7, 8, 9, 10, 11, 12, 13, 14, 1, 2, 3, 4, 5, 6, 7, 8, 9, 10, 11, 12, 13, 14, 1, 2, 3, 4, 5, 6, 7, 8, 9, 10, 11, 12, 13, 14, 1, 2, 3, 4, 5, 6, 7, 8, 9, 10, 11, 12, 13, 14, 1, 2, 3, 4, 5, 6, 7, 8, 9, 10, 11, 12, 13, 14, 1, 2, 3, 4, 5, 6, 7, 8, 9, 10, 11, 12, 13, 14, 1, 2, 3, 4, 5, 6, 7, 8, 9, 10, 11, 12, 13, 14, 1, 2, 3, 4, 5, 6, 7, 8, 9, 10, 11, 12, 13, 14, 1, 2, 3, 4, 5, 6, 7, 8, 9, 10, 11, 12, 13, 14, 1, 2, 3, 4, 5, 6, 7, 8, 9, 10, 11, 12, 13, 14, 1, 2, 3, 4, 5, 6, 7, 8, 9, 10, 11, 12, 13, 14, 1, 2, 3, 4, 5, 6, 7, 8, 9, 10, 11, 12, 13, 14, 1, 2, 3, 4, 5, 6, 7, 8, 9, 10, 11, 12, 13, 14, 1, 2, 3, 4, 5, 6, 7, 8, 9, 10, 11, 12, 13, 14, 1, 2, 3, 4, 5, 6, 7, 8, 9, 10, 11, 12, 13, 14, 1, 2, 3, 4, 5, 6, 7, 8, 9, 10, 11, 12, 13, 14, 1, 2, 3, 4, 5, 6, 7, 8, 9, 10, 11, 12, 13, 14, 1, 2, 3, 4, 5, 6, 7, 8, 9, 10, 11, 12, 13, 14, 1, 2, 3, 4, 5, 6, 7, 8, 9, 10, 11, 12, 13, 14, 1, 2, 3, 4, 5, 6, 7, 8, 9, 10, 11, 12, 13, 14, 1, 2, 3, 4, 5, 6, 7, 8, 9, 10, 11, 12, 13, 14, 1, 2, 3, 4, 5, 6, 7, 8, 9, 10, 11, 12, 13, 14, 1, 2, 3, 4, 5, 6, 7, 8, 9, 10, 11, 12, 13, 14, 1, 2, 3, 4, 5, 6, 7, 8, 9, 10, 11, 12, 13, 14, 1, 2, 3, 4, 5, 6, 7, 8, 9, 10, 11, 12, 13, 14, 1, 2, 3, 4, 5, 6, 7, 8, 9, 10, 11, 12, 13, 14, 1, 2, 3, 4, 5, 6, 7, 8, 9, 10, 11, 12, 13, 14, 1, 2, 3, 4, 5, 6, 7, 8, 9, 10, 11, 12, 13, 14, 1, 2, 3, 4, 5, 6, 7, 8, 9, 10, 11, 12, 13, 14, 1, 2, 3, 4, 5, 6, 7, 8, 9, 10, 11, 12, 13, 14, 1, 2, 3, 4, 5, 6, 7, 8, 9, 10, 11, 12, 13, 14, 1, 2, 3, 4, 5, 6, 7, 8, 9, 10, 11, 12, 13, 14, 1, 2, 3, 4, 5, 6, 7, 8, 9, 10, 11, 12, 13, 14, 1, 2, 3, 4, 5, 6, 7, 8, 9, 10, 11, 12, 13, 14, 1, 2, 3, 4, 5, 6, 7, 8, 9, 10, 11, 12, 13, 14, 1, 2, 3, 4, 5, 6, 7, 8, 9, 10, 11, 12, 13, 14, 1, 2, 3, 4, 5, 6, 7, 8, 9, 10, 11, 12, 13, 14, 1, 2, 3, 4, 5, 6, 7, 8, 9, 10, 11, 12, 13, 14, 1, 2, 3, 4, 5, 6, 7, 8, 9, 10, 11, 12, 13, 14, 1, 2, 3, 4, 5, 6, 7, 8, 9, 10, 11, 12, 13, 14, 1, 2, 3, 4, 5, 6, 7, 8, 9, 10, 11, 12, 13, 14, 1, 2, 3, 4, 5, 6, 7, 8, 9, 10, 11, 12, 13, 14, 1, 2, 3, 4, 5, 6, 7, 8, 9, 10, 11, 12, 13, 14, 1, 2, 3, 4, 5, 6, 7, 8, 9, 10, 11, 12, 13, 14, 1, 2, 3, 4, 5, 6, 7, 8, 9, 10, 11, 12, 13, 14, 1, 2, 3, 4, 5, 6, 7, 8, 9, 10, 11, 12, 13, 14, 1, 2, 3, 4, 5, 6, 7, 8, 9, 10, 11, 12, 13, 14, 1, 2, 3, 4, 5, 6, 7, 8, 9, 10, 11, 12, 13, 14, 1, 2, 3, 4, 5, 6, 7, 8, 9, 10, 11, 12, 13, 14, 1, 2, 3, 4, 5, 6, 7, 8, 9, 10, 11, 12, 13, 14, 1, 2, 3, 4, 5, 6, 7, 8, 9, 10, 11, 12, 13, 14, 1, 2, 3, 4, 5, 6, 7, 8, 9, 10, 11, 12, 13, 14, 1, 2, 3, 4, 5, 6, 7, 8, 9, 10, 11, 12, 13, 14, 1, 2, 3, 4, 5, 6, 7, 8, 9, 10, 11, 12, 13, 14, 1, 2, 3, 4, 5, 6, 7, 8, 9, 10, 11, 12, 13, 14, 1, 2, 3, 4, 5, 6, 7, 8, 9, 10, 11, 12, 13, 14, 1, 2, 3, 4, 5, 6, 7, 8, 9, 10, 11, 12, 13, 14, 1, 2, 3, 4, 5, 6, 7, 8, 9, 10, 11, 12, 13, 14, 1, 2, 3, 4, 5, 6, 7, 8, 9, 10, 11, 12, 13, 14, 1, 2, 3, 4, 5, 6, 7, 8, 9, 10, 11, 12, 13, 14], \"Freq\": [0.07267127306599677, 0.10900690959899514, 0.07267127306599677, 0.07267127306599677, 0.07267127306599677, 0.07267127306599677, 0.07267127306599677, 0.07267127306599677, 0.07267127306599677, 0.07267127306599677, 0.07267127306599677, 0.036335636532998386, 0.07267127306599677, 0.036335636532998386, 0.10561492561852073, 0.10561492561852073, 0.07040995041234716, 0.07040995041234716, 0.07040995041234716, 0.07040995041234716, 0.07040995041234716, 0.07040995041234716, 0.07040995041234716, 0.07040995041234716, 0.07040995041234716, 0.07040995041234716, 0.07040995041234716, 0.03520497520617358, 0.10018142316981507, 0.06678761544654338, 0.06678761544654338, 0.10018142316981507, 0.06678761544654338, 0.06678761544654338, 0.06678761544654338, 0.06678761544654338, 0.06678761544654338, 0.06678761544654338, 0.06678761544654338, 0.06678761544654338, 0.06678761544654338, 0.06678761544654338, 0.07694009111819931, 0.07694009111819931, 0.07694009111819931, 0.07694009111819931, 0.07694009111819931, 0.07694009111819931, 0.07694009111819931, 0.07694009111819931, 0.07694009111819931, 0.03847004555909966, 0.07694009111819931, 0.07694009111819931, 0.07694009111819931, 0.07694009111819931, 0.07089951379993725, 0.07089951379993725, 0.10634927069990587, 0.07089951379993725, 0.07089951379993725, 0.07089951379993725, 0.07089951379993725, 0.07089951379993725, 0.07089951379993725, 0.07089951379993725, 0.07089951379993725, 0.07089951379993725, 0.07089951379993725, 0.07089951379993725, 0.07294096430641243, 0.07294096430641243, 0.10941144645961864, 0.07294096430641243, 0.07294096430641243, 0.07294096430641243, 0.07294096430641243, 0.07294096430641243, 0.03647048215320622, 0.07294096430641243, 0.03647048215320622, 0.07294096430641243, 0.07294096430641243, 0.07294096430641243, 0.07348501573235688, 0.11022752359853533, 0.07348501573235688, 0.07348501573235688, 0.07348501573235688, 0.07348501573235688, 0.07348501573235688, 0.11022752359853533, 0.07348501573235688, 0.07348501573235688, 0.07348501573235688, 0.03674250786617844, 0.07348501573235688, 0.03674250786617844, 0.07468461387998578, 0.11202692081997867, 0.07468461387998578, 0.07468461387998578, 0.07468461387998578, 0.07468461387998578, 0.03734230693999289, 0.03734230693999289, 0.07468461387998578, 0.07468461387998578, 0.07468461387998578, 0.07468461387998578, 0.07468461387998578, 0.07468461387998578, 0.07299381747139802, 0.07299381747139802, 0.07299381747139802, 0.07299381747139802, 0.07299381747139802, 0.07299381747139802, 0.07299381747139802, 0.07299381747139802, 0.07299381747139802, 0.07299381747139802, 0.07299381747139802, 0.07299381747139802, 0.07299381747139802, 0.07299381747139802, 0.07253175152539512, 0.1087976272880927, 0.07253175152539512, 0.1087976272880927, 0.07253175152539512, 0.07253175152539512, 0.07253175152539512, 0.07253175152539512, 0.07253175152539512, 0.07253175152539512, 0.07253175152539512, 0.07253175152539512, 0.03626587576269756, 0.03626587576269756, 0.10296165846514017, 0.10296165846514017, 0.10296165846514017, 0.10296165846514017, 0.06864110564342678, 0.06864110564342678, 0.06864110564342678, 0.06864110564342678, 0.03432055282171339, 0.03432055282171339, 0.06864110564342678, 0.06864110564342678, 0.06864110564342678, 0.03432055282171339, 0.10948249026611884, 0.10948249026611884, 0.07298832684407923, 0.07298832684407923, 0.07298832684407923, 0.07298832684407923, 0.07298832684407923, 0.07298832684407923, 0.07298832684407923, 0.07298832684407923, 0.07298832684407923, 0.07298832684407923, 0.07298832684407923, 0.07298832684407923, 0.1101909139852445, 0.07346060932349634, 0.07346060932349634, 0.07346060932349634, 0.07346060932349634, 0.07346060932349634, 0.07346060932349634, 0.07346060932349634, 0.07346060932349634, 0.07346060932349634, 0.07346060932349634, 0.07346060932349634, 0.07346060932349634, 0.03673030466174817, 0.07285763929433335, 0.10928645894150002, 0.07285763929433335, 0.07285763929433335, 0.07285763929433335, 0.07285763929433335, 0.07285763929433335, 0.036428819647166676, 0.07285763929433335, 0.07285763929433335, 0.07285763929433335, 0.07285763929433335, 0.07285763929433335, 0.07285763929433335, 0.07360844677930646, 0.07360844677930646, 0.07360844677930646, 0.07360844677930646, 0.1104126701689597, 0.07360844677930646, 0.07360844677930646, 0.07360844677930646, 0.07360844677930646, 0.03680422338965323, 0.07360844677930646, 0.07360844677930646, 0.03680422338965323, 0.07360844677930646, 0.11014272032555042, 0.07342848021703362, 0.07342848021703362, 0.07342848021703362, 0.07342848021703362, 0.07342848021703362, 0.07342848021703362, 0.07342848021703362, 0.07342848021703362, 0.07342848021703362, 0.07342848021703362, 0.03671424010851681, 0.07342848021703362, 0.03671424010851681, 0.07252648163930944, 0.10878972245896416, 0.07252648163930944, 0.07252648163930944, 0.07252648163930944, 0.07252648163930944, 0.07252648163930944, 0.07252648163930944, 0.07252648163930944, 0.07252648163930944, 0.07252648163930944, 0.07252648163930944, 0.07252648163930944, 0.03626324081965472, 0.07249561258649122, 0.07249561258649122, 0.07249561258649122, 0.07249561258649122, 0.07249561258649122, 0.07249561258649122, 0.07249561258649122, 0.07249561258649122, 0.07249561258649122, 0.07249561258649122, 0.07249561258649122, 0.07249561258649122, 0.07249561258649122, 0.07249561258649122, 0.1093515323777956, 0.07290102158519707, 0.07290102158519707, 0.07290102158519707, 0.07290102158519707, 0.07290102158519707, 0.07290102158519707, 0.07290102158519707, 0.07290102158519707, 0.07290102158519707, 0.07290102158519707, 0.07290102158519707, 0.07290102158519707, 0.07290102158519707, 0.11179470510478005, 0.07452980340318671, 0.11179470510478005, 0.07452980340318671, 0.07452980340318671, 0.07452980340318671, 0.07452980340318671, 0.07452980340318671, 0.07452980340318671, 0.07452980340318671, 0.07452980340318671, 0.07452980340318671, 0.07452980340318671, 0.07452980340318671, 0.07115946989635465, 0.07115946989635465, 0.07115946989635465, 0.10673920484453198, 0.07115946989635465, 0.07115946989635465, 0.07115946989635465, 0.07115946989635465, 0.07115946989635465, 0.07115946989635465, 0.07115946989635465, 0.07115946989635465, 0.07115946989635465, 0.07115946989635465, 0.07197519631555167, 0.07197519631555167, 0.1079627944733275, 0.07197519631555167, 0.07197519631555167, 0.07197519631555167, 0.07197519631555167, 0.07197519631555167, 0.07197519631555167, 0.07197519631555167, 0.07197519631555167, 0.07197519631555167, 0.07197519631555167, 0.07197519631555167, 0.07614433315460242, 0.07614433315460242, 0.07614433315460242, 0.07614433315460242, 0.07614433315460242, 0.07614433315460242, 0.07614433315460242, 0.07614433315460242, 0.07614433315460242, 0.07614433315460242, 0.07614433315460242, 0.07614433315460242, 0.07614433315460242, 0.03807216657730121, 0.07551493694637612, 0.07551493694637612, 0.07551493694637612, 0.07551493694637612, 0.07551493694637612, 0.07551493694637612, 0.07551493694637612, 0.07551493694637612, 0.07551493694637612, 0.07551493694637612, 0.07551493694637612, 0.03775746847318806, 0.03775746847318806, 0.07551493694637612, 0.07433576790872395, 0.07433576790872395, 0.07433576790872395, 0.07433576790872395, 0.07433576790872395, 0.07433576790872395, 0.07433576790872395, 0.07433576790872395, 0.07433576790872395, 0.07433576790872395, 0.07433576790872395, 0.07433576790872395, 0.07433576790872395, 0.07433576790872395, 0.07019609727430244, 0.10529414591145367, 0.07019609727430244, 0.10529414591145367, 0.07019609727430244, 0.07019609727430244, 0.07019609727430244, 0.07019609727430244, 0.07019609727430244, 0.07019609727430244, 0.07019609727430244, 0.07019609727430244, 0.07019609727430244, 0.03509804863715122, 0.10907185885551411, 0.07271457257034274, 0.07271457257034274, 0.07271457257034274, 0.07271457257034274, 0.07271457257034274, 0.07271457257034274, 0.07271457257034274, 0.07271457257034274, 0.07271457257034274, 0.07271457257034274, 0.07271457257034274, 0.07271457257034274, 0.07271457257034274, 0.07387822442801739, 0.07387822442801739, 0.07387822442801739, 0.07387822442801739, 0.07387822442801739, 0.07387822442801739, 0.07387822442801739, 0.07387822442801739, 0.07387822442801739, 0.07387822442801739, 0.07387822442801739, 0.036939112214008696, 0.07387822442801739, 0.07387822442801739, 0.07488669100317641, 0.1123300365047646, 0.07488669100317641, 0.1123300365047646, 0.07488669100317641, 0.07488669100317641, 0.07488669100317641, 0.07488669100317641, 0.07488669100317641, 0.07488669100317641, 0.037443345501588204, 0.07488669100317641, 0.07488669100317641, 0.037443345501588204, 0.07406424072443575, 0.07406424072443575, 0.07406424072443575, 0.07406424072443575, 0.07406424072443575, 0.07406424072443575, 0.07406424072443575, 0.07406424072443575, 0.07406424072443575, 0.07406424072443575, 0.07406424072443575, 0.07406424072443575, 0.07406424072443575, 0.037032120362217875, 0.07270044956313798, 0.10905067434470697, 0.07270044956313798, 0.07270044956313798, 0.07270044956313798, 0.07270044956313798, 0.07270044956313798, 0.07270044956313798, 0.07270044956313798, 0.07270044956313798, 0.07270044956313798, 0.07270044956313798, 0.07270044956313798, 0.07270044956313798, 0.10728809678404076, 0.07152539785602717, 0.07152539785602717, 0.07152539785602717, 0.07152539785602717, 0.07152539785602717, 0.07152539785602717, 0.07152539785602717, 0.07152539785602717, 0.07152539785602717, 0.07152539785602717, 0.07152539785602717, 0.07152539785602717, 0.07152539785602717, 0.07137004077798313, 0.10705506116697469, 0.10705506116697469, 0.07137004077798313, 0.07137004077798313, 0.07137004077798313, 0.07137004077798313, 0.07137004077798313, 0.07137004077798313, 0.035685020388991566, 0.07137004077798313, 0.07137004077798313, 0.07137004077798313, 0.035685020388991566, 0.07121975055972614, 0.07121975055972614, 0.07121975055972614, 0.07121975055972614, 0.07121975055972614, 0.07121975055972614, 0.07121975055972614, 0.07121975055972614, 0.07121975055972614, 0.07121975055972614, 0.07121975055972614, 0.07121975055972614, 0.07121975055972614, 0.07121975055972614, 0.07306700029144107, 0.07306700029144107, 0.07306700029144107, 0.1096005004371616, 0.07306700029144107, 0.07306700029144107, 0.07306700029144107, 0.07306700029144107, 0.07306700029144107, 0.07306700029144107, 0.07306700029144107, 0.07306700029144107, 0.07306700029144107, 0.07306700029144107, 0.0754609138738199, 0.0754609138738199, 0.0754609138738199, 0.0754609138738199, 0.0754609138738199, 0.0754609138738199, 0.0754609138738199, 0.0754609138738199, 0.0754609138738199, 0.0754609138738199, 0.0754609138738199, 0.0754609138738199, 0.0754609138738199, 0.03773045693690995, 0.07100004709030755, 0.10650007063546134, 0.07100004709030755, 0.10650007063546134, 0.07100004709030755, 0.07100004709030755, 0.07100004709030755, 0.07100004709030755, 0.07100004709030755, 0.07100004709030755, 0.07100004709030755, 0.07100004709030755, 0.035500023545153775, 0.07100004709030755, 0.07577649119109882, 0.07577649119109882, 0.07577649119109882, 0.07577649119109882, 0.07577649119109882, 0.07577649119109882, 0.07577649119109882, 0.07577649119109882, 0.07577649119109882, 0.07577649119109882, 0.07577649119109882, 0.07577649119109882, 0.07577649119109882, 0.07577649119109882, 0.07131443588224672, 0.10697165382337007, 0.07131443588224672, 0.07131443588224672, 0.07131443588224672, 0.07131443588224672, 0.07131443588224672, 0.07131443588224672, 0.07131443588224672, 0.07131443588224672, 0.07131443588224672, 0.03565721794112336, 0.07131443588224672, 0.07131443588224672, 0.10642179227734383, 0.07094786151822922, 0.10642179227734383, 0.07094786151822922, 0.07094786151822922, 0.10642179227734383, 0.07094786151822922, 0.07094786151822922, 0.07094786151822922, 0.07094786151822922, 0.03547393075911461, 0.07094786151822922, 0.07094786151822922, 0.07094786151822922, 0.10417898700703444, 0.06945265800468962, 0.10417898700703444, 0.06945265800468962, 0.06945265800468962, 0.06945265800468962, 0.06945265800468962, 0.06945265800468962, 0.06945265800468962, 0.06945265800468962, 0.06945265800468962, 0.06945265800468962, 0.06945265800468962, 0.06945265800468962, 0.10785286224857478, 0.10785286224857478, 0.07190190816571652, 0.07190190816571652, 0.07190190816571652, 0.07190190816571652, 0.10785286224857478, 0.07190190816571652, 0.07190190816571652, 0.07190190816571652, 0.07190190816571652, 0.07190190816571652, 0.07190190816571652, 0.07190190816571652, 0.1018717041552716, 0.1018717041552716, 0.06791446943684773, 0.06791446943684773, 0.06791446943684773, 0.06791446943684773, 0.06791446943684773, 0.06791446943684773, 0.06791446943684773, 0.06791446943684773, 0.06791446943684773, 0.06791446943684773, 0.06791446943684773, 0.06791446943684773, 0.0724232444732864, 0.0724232444732864, 0.1086348667099296, 0.0724232444732864, 0.1086348667099296, 0.0724232444732864, 0.0724232444732864, 0.0724232444732864, 0.0724232444732864, 0.0362116222366432, 0.0724232444732864, 0.0724232444732864, 0.0724232444732864, 0.0724232444732864, 0.11123962434375997, 0.07415974956250665, 0.07415974956250665, 0.07415974956250665, 0.07415974956250665, 0.07415974956250665, 0.07415974956250665, 0.07415974956250665, 0.07415974956250665, 0.07415974956250665, 0.07415974956250665, 0.037079874781253325, 0.07415974956250665, 0.07415974956250665, 0.07108338983862006, 0.07108338983862006, 0.10662508475793007, 0.07108338983862006, 0.07108338983862006, 0.07108338983862006, 0.03554169491931003, 0.07108338983862006, 0.07108338983862006, 0.07108338983862006, 0.07108338983862006, 0.07108338983862006, 0.07108338983862006, 0.03554169491931003, 0.06987379423040191, 0.10481069134560286, 0.06987379423040191, 0.06987379423040191, 0.06987379423040191, 0.06987379423040191, 0.06987379423040191, 0.06987379423040191, 0.06987379423040191, 0.06987379423040191, 0.06987379423040191, 0.06987379423040191, 0.06987379423040191, 0.06987379423040191, 0.0708541426123756, 0.0708541426123756, 0.0708541426123756, 0.10628121391856342, 0.0708541426123756, 0.0708541426123756, 0.0354270713061878, 0.0708541426123756, 0.0708541426123756, 0.0708541426123756, 0.0708541426123756, 0.0708541426123756, 0.0708541426123756, 0.0708541426123756, 0.07293193735072312, 0.07293193735072312, 0.07293193735072312, 0.07293193735072312, 0.10939790602608467, 0.07293193735072312, 0.07293193735072312, 0.07293193735072312, 0.07293193735072312, 0.07293193735072312, 0.07293193735072312, 0.07293193735072312, 0.07293193735072312, 0.07293193735072312, 0.10592982121437351, 0.10592982121437351, 0.10592982121437351, 0.07061988080958234, 0.07061988080958234, 0.07061988080958234, 0.07061988080958234, 0.07061988080958234, 0.07061988080958234, 0.07061988080958234, 0.07061988080958234, 0.07061988080958234, 0.07061988080958234, 0.07061988080958234, 0.07371050370256124, 0.07371050370256124, 0.11056575555384185, 0.07371050370256124, 0.07371050370256124, 0.07371050370256124, 0.07371050370256124, 0.07371050370256124, 0.07371050370256124, 0.07371050370256124, 0.07371050370256124, 0.07371050370256124, 0.07371050370256124, 0.07371050370256124, 0.10677509119644457, 0.10677509119644457, 0.07118339413096304, 0.07118339413096304, 0.07118339413096304, 0.07118339413096304, 0.07118339413096304, 0.07118339413096304, 0.07118339413096304, 0.07118339413096304, 0.07118339413096304, 0.07118339413096304, 0.07118339413096304, 0.07118339413096304, 0.10647999247820022, 0.10647999247820022, 0.07098666165213348, 0.07098666165213348, 0.07098666165213348, 0.07098666165213348, 0.07098666165213348, 0.07098666165213348, 0.07098666165213348, 0.07098666165213348, 0.07098666165213348, 0.07098666165213348, 0.07098666165213348, 0.07098666165213348, 0.1106106314866265, 0.07374042099108433, 0.07374042099108433, 0.07374042099108433, 0.07374042099108433, 0.07374042099108433, 0.07374042099108433, 0.07374042099108433, 0.07374042099108433, 0.07374042099108433, 0.07374042099108433, 0.07374042099108433, 0.03687021049554216, 0.07374042099108433, 0.10483522564571822, 0.06989015043047882, 0.10483522564571822, 0.06989015043047882, 0.06989015043047882, 0.06989015043047882, 0.06989015043047882, 0.06989015043047882, 0.06989015043047882, 0.06989015043047882, 0.06989015043047882, 0.06989015043047882, 0.06989015043047882, 0.06989015043047882, 0.07326623132218925, 0.07326623132218925, 0.07326623132218925, 0.07326623132218925, 0.07326623132218925, 0.07326623132218925, 0.07326623132218925, 0.07326623132218925, 0.07326623132218925, 0.07326623132218925, 0.036633115661094624, 0.07326623132218925, 0.036633115661094624, 0.07326623132218925, 0.11179159204153359, 0.07452772802768906, 0.07452772802768906, 0.11179159204153359, 0.07452772802768906, 0.07452772802768906, 0.07452772802768906, 0.07452772802768906, 0.07452772802768906, 0.07452772802768906, 0.07452772802768906, 0.07452772802768906, 0.07452772802768906, 0.03726386401384453, 0.07482967585253214, 0.11224451377879821, 0.07482967585253214, 0.07482967585253214, 0.07482967585253214, 0.07482967585253214, 0.07482967585253214, 0.07482967585253214, 0.03741483792626607, 0.07482967585253214, 0.07482967585253214, 0.07482967585253214, 0.07482967585253214, 0.03741483792626607, 0.10284029419641054, 0.10284029419641054, 0.06856019613094036, 0.06856019613094036, 0.06856019613094036, 0.06856019613094036, 0.06856019613094036, 0.06856019613094036, 0.06856019613094036, 0.06856019613094036, 0.06856019613094036, 0.06856019613094036, 0.06856019613094036, 0.06856019613094036, 0.11119296983248411, 0.07412864655498941, 0.07412864655498941, 0.07412864655498941, 0.11119296983248411, 0.07412864655498941, 0.07412864655498941, 0.07412864655498941, 0.07412864655498941, 0.037064323277494704, 0.037064323277494704, 0.07412864655498941, 0.07412864655498941, 0.07412864655498941, 0.11246519388295793, 0.07497679592197196, 0.11246519388295793, 0.07497679592197196, 0.07497679592197196, 0.07497679592197196, 0.07497679592197196, 0.07497679592197196, 0.07497679592197196, 0.07497679592197196, 0.07497679592197196, 0.07497679592197196, 0.07497679592197196, 0.03748839796098598, 0.10324108522263273, 0.10324108522263273, 0.10324108522263273, 0.06882739014842182, 0.06882739014842182, 0.06882739014842182, 0.06882739014842182, 0.06882739014842182, 0.06882739014842182, 0.06882739014842182, 0.06882739014842182, 0.06882739014842182, 0.06882739014842182, 0.06882739014842182, 0.07282293270360855, 0.07282293270360855, 0.07282293270360855, 0.07282293270360855, 0.07282293270360855, 0.07282293270360855, 0.07282293270360855, 0.07282293270360855, 0.07282293270360855, 0.07282293270360855, 0.07282293270360855, 0.07282293270360855, 0.07282293270360855, 0.07282293270360855, 0.07638171095221447, 0.07638171095221447, 0.07638171095221447, 0.07638171095221447, 0.07638171095221447, 0.07638171095221447, 0.07638171095221447, 0.07638171095221447, 0.07638171095221447, 0.07638171095221447, 0.07638171095221447, 0.07638171095221447, 0.07638171095221447, 0.07638171095221447, 0.07458670606120064, 0.07458670606120064, 0.07458670606120064, 0.07458670606120064, 0.07458670606120064, 0.07458670606120064, 0.03729335303060032, 0.07458670606120064, 0.07458670606120064, 0.07458670606120064, 0.07458670606120064, 0.07458670606120064, 0.07458670606120064, 0.07458670606120064, 0.06999758124385881, 0.10499637186578821, 0.06999758124385881, 0.06999758124385881, 0.06999758124385881, 0.06999758124385881, 0.06999758124385881, 0.06999758124385881, 0.06999758124385881, 0.06999758124385881, 0.06999758124385881, 0.06999758124385881, 0.06999758124385881, 0.034998790621929406, 0.07046736408571591, 0.10570104612857385, 0.10570104612857385, 0.07046736408571591, 0.07046736408571591, 0.07046736408571591, 0.035233682042857956, 0.07046736408571591, 0.07046736408571591, 0.07046736408571591, 0.07046736408571591, 0.07046736408571591, 0.07046736408571591, 0.07046736408571591, 0.11678012334360241, 0.0778534155624016, 0.0778534155624016, 0.0778534155624016, 0.0778534155624016, 0.0778534155624016, 0.0778534155624016, 0.0778534155624016, 0.0778534155624016, 0.0778534155624016, 0.0778534155624016, 0.0389267077812008, 0.0778534155624016, 0.0389267077812008, 0.13799488420726366, 0.06899744210363183, 0.10349616315544774, 0.10349616315544774, 0.10349616315544774, 0.06899744210363183, 0.06899744210363183, 0.06899744210363183, 0.06899744210363183, 0.06899744210363183, 0.06899744210363183, 0.034498721051815916, 0.06899744210363183, 0.06899744210363183, 0.07268877875140396, 0.10903316812710594, 0.07268877875140396, 0.07268877875140396, 0.07268877875140396, 0.07268877875140396, 0.07268877875140396, 0.07268877875140396, 0.07268877875140396, 0.07268877875140396, 0.07268877875140396, 0.07268877875140396, 0.07268877875140396, 0.03634438937570198, 0.07306796933329752, 0.07306796933329752, 0.1096019539999463, 0.07306796933329752, 0.07306796933329752, 0.07306796933329752, 0.07306796933329752, 0.07306796933329752, 0.07306796933329752, 0.07306796933329752, 0.03653398466664876, 0.07306796933329752, 0.07306796933329752, 0.07306796933329752, 0.10794801400959886, 0.07196534267306591, 0.07196534267306591, 0.07196534267306591, 0.07196534267306591, 0.07196534267306591, 0.07196534267306591, 0.07196534267306591, 0.07196534267306591, 0.07196534267306591, 0.07196534267306591, 0.07196534267306591, 0.07196534267306591, 0.035982671336532955, 0.07589680103574702, 0.07589680103574702, 0.07589680103574702, 0.07589680103574702, 0.07589680103574702, 0.07589680103574702, 0.07589680103574702, 0.07589680103574702, 0.07589680103574702, 0.07589680103574702, 0.07589680103574702, 0.07589680103574702, 0.07589680103574702, 0.07589680103574702, 0.07454070623920708, 0.07454070623920708, 0.07454070623920708, 0.07454070623920708, 0.07454070623920708, 0.07454070623920708, 0.07454070623920708, 0.07454070623920708, 0.07454070623920708, 0.07454070623920708, 0.07454070623920708, 0.03727035311960354, 0.07454070623920708, 0.03727035311960354, 0.0727391119722246, 0.0727391119722246, 0.0727391119722246, 0.0727391119722246, 0.0727391119722246, 0.0727391119722246, 0.0727391119722246, 0.0727391119722246, 0.0727391119722246, 0.0727391119722246, 0.0727391119722246, 0.0727391119722246, 0.0727391119722246, 0.0727391119722246, 0.10984767845439697, 0.07323178563626465, 0.07323178563626465, 0.07323178563626465, 0.07323178563626465, 0.07323178563626465, 0.07323178563626465, 0.07323178563626465, 0.07323178563626465, 0.07323178563626465, 0.07323178563626465, 0.07323178563626465, 0.07323178563626465, 0.03661589281813232, 0.07404627062813399, 0.07404627062813399, 0.07404627062813399, 0.07404627062813399, 0.07404627062813399, 0.07404627062813399, 0.07404627062813399, 0.07404627062813399, 0.07404627062813399, 0.07404627062813399, 0.07404627062813399, 0.07404627062813399, 0.07404627062813399, 0.07404627062813399, 0.11154384675548497, 0.07436256450365665, 0.11154384675548497, 0.07436256450365665, 0.07436256450365665, 0.07436256450365665, 0.07436256450365665, 0.07436256450365665, 0.07436256450365665, 0.07436256450365665, 0.07436256450365665, 0.07436256450365665, 0.037181282251828325, 0.07436256450365665, 0.10919055663174221, 0.07279370442116147, 0.07279370442116147, 0.07279370442116147, 0.07279370442116147, 0.07279370442116147, 0.07279370442116147, 0.07279370442116147, 0.07279370442116147, 0.07279370442116147, 0.07279370442116147, 0.07279370442116147, 0.07279370442116147, 0.07279370442116147, 0.0754759088611314, 0.0754759088611314, 0.0754759088611314, 0.0754759088611314, 0.0754759088611314, 0.0754759088611314, 0.0754759088611314, 0.0754759088611314, 0.0754759088611314, 0.0754759088611314, 0.0754759088611314, 0.0754759088611314, 0.0754759088611314, 0.0377379544305657, 0.07412669097877816, 0.07412669097877816, 0.07412669097877816, 0.07412669097877816, 0.07412669097877816, 0.07412669097877816, 0.07412669097877816, 0.07412669097877816, 0.07412669097877816, 0.07412669097877816, 0.07412669097877816, 0.07412669097877816, 0.07412669097877816, 0.07412669097877816, 0.07356350163696507, 0.1103452524554476, 0.07356350163696507, 0.1103452524554476, 0.07356350163696507, 0.07356350163696507, 0.07356350163696507, 0.07356350163696507, 0.07356350163696507, 0.07356350163696507, 0.07356350163696507, 0.07356350163696507, 0.07356350163696507, 0.07356350163696507, 0.07114151567733193, 0.07114151567733193, 0.1067122735159979, 0.1067122735159979, 0.1067122735159979, 0.07114151567733193, 0.07114151567733193, 0.035570757838665965, 0.07114151567733193, 0.07114151567733193, 0.07114151567733193, 0.035570757838665965, 0.07114151567733193, 0.035570757838665965, 0.07282252448504696, 0.07282252448504696, 0.10923378672757045, 0.07282252448504696, 0.07282252448504696, 0.07282252448504696, 0.07282252448504696, 0.07282252448504696, 0.07282252448504696, 0.07282252448504696, 0.03641126224252348, 0.07282252448504696, 0.07282252448504696, 0.03641126224252348, 0.07310104244211575, 0.10965156366317363, 0.07310104244211575, 0.07310104244211575, 0.07310104244211575, 0.07310104244211575, 0.07310104244211575, 0.07310104244211575, 0.07310104244211575, 0.07310104244211575, 0.07310104244211575, 0.07310104244211575, 0.07310104244211575, 0.07310104244211575, 0.06987882667501934, 0.10481824001252901, 0.06987882667501934, 0.06987882667501934, 0.10481824001252901, 0.06987882667501934, 0.06987882667501934, 0.06987882667501934, 0.06987882667501934, 0.06987882667501934, 0.03493941333750967, 0.06987882667501934, 0.06987882667501934, 0.06987882667501934, 0.10813376219470054, 0.07208917479646702, 0.07208917479646702, 0.07208917479646702, 0.07208917479646702, 0.07208917479646702, 0.07208917479646702, 0.07208917479646702, 0.07208917479646702, 0.07208917479646702, 0.07208917479646702, 0.07208917479646702, 0.07208917479646702, 0.03604458739823351, 0.10601834550926448, 0.10601834550926448, 0.10601834550926448, 0.07067889700617631, 0.07067889700617631, 0.07067889700617631, 0.07067889700617631, 0.07067889700617631, 0.07067889700617631, 0.07067889700617631, 0.07067889700617631, 0.07067889700617631, 0.07067889700617631, 0.03533944850308816, 0.07130365787578205, 0.07130365787578205, 0.10695548681367308, 0.10695548681367308, 0.07130365787578205, 0.07130365787578205, 0.07130365787578205, 0.07130365787578205, 0.07130365787578205, 0.07130365787578205, 0.035651828937891025, 0.07130365787578205, 0.07130365787578205, 0.035651828937891025, 0.0713365310805478, 0.0713365310805478, 0.0713365310805478, 0.0713365310805478, 0.10700479662082168, 0.0713365310805478, 0.0713365310805478, 0.0713365310805478, 0.0713365310805478, 0.0713365310805478, 0.0713365310805478, 0.0713365310805478, 0.0713365310805478, 0.0713365310805478, 0.07158778855950876, 0.07158778855950876, 0.07158778855950876, 0.07158778855950876, 0.07158778855950876, 0.07158778855950876, 0.07158778855950876, 0.07158778855950876, 0.07158778855950876, 0.07158778855950876, 0.07158778855950876, 0.07158778855950876, 0.07158778855950876, 0.07158778855950876, 0.07006289874033061, 0.07006289874033061, 0.07006289874033061, 0.07006289874033061, 0.07006289874033061, 0.07006289874033061, 0.07006289874033061, 0.07006289874033061, 0.07006289874033061, 0.07006289874033061, 0.07006289874033061, 0.07006289874033061, 0.07006289874033061, 0.07006289874033061, 0.10372591993437498, 0.10372591993437498, 0.10372591993437498, 0.06915061328958332, 0.06915061328958332, 0.06915061328958332, 0.06915061328958332, 0.06915061328958332, 0.06915061328958332, 0.06915061328958332, 0.06915061328958332, 0.06915061328958332, 0.06915061328958332, 0.06915061328958332, 0.07400392733776101, 0.07400392733776101, 0.07400392733776101, 0.07400392733776101, 0.07400392733776101, 0.07400392733776101, 0.07400392733776101, 0.07400392733776101, 0.07400392733776101, 0.07400392733776101, 0.07400392733776101, 0.037001963668880505, 0.07400392733776101, 0.07400392733776101, 0.10464443532286233, 0.06976295688190821, 0.06976295688190821, 0.06976295688190821, 0.06976295688190821, 0.06976295688190821, 0.06976295688190821, 0.06976295688190821, 0.06976295688190821, 0.06976295688190821, 0.06976295688190821, 0.06976295688190821, 0.06976295688190821, 0.06976295688190821, 0.07261496111011317, 0.07261496111011317, 0.07261496111011317, 0.07261496111011317, 0.07261496111011317, 0.07261496111011317, 0.07261496111011317, 0.07261496111011317, 0.07261496111011317, 0.07261496111011317, 0.07261496111011317, 0.07261496111011317, 0.07261496111011317, 0.07261496111011317, 0.06961718851867886, 0.1044257827780183, 0.06961718851867886, 0.1044257827780183, 0.06961718851867886, 0.06961718851867886, 0.06961718851867886, 0.06961718851867886, 0.06961718851867886, 0.06961718851867886, 0.06961718851867886, 0.06961718851867886, 0.06961718851867886, 0.06961718851867886, 0.0757305396860776, 0.0757305396860776, 0.0757305396860776, 0.0757305396860776, 0.0757305396860776, 0.0757305396860776, 0.0757305396860776, 0.0757305396860776, 0.0757305396860776, 0.0757305396860776, 0.0757305396860776, 0.0378652698430388, 0.0757305396860776, 0.0757305396860776, 0.10821894952949843, 0.07214596635299896, 0.07214596635299896, 0.10821894952949843, 0.07214596635299896, 0.07214596635299896, 0.07214596635299896, 0.07214596635299896, 0.07214596635299896, 0.07214596635299896, 0.07214596635299896, 0.07214596635299896, 0.07214596635299896, 0.07214596635299896, 0.10742587105708325, 0.10742587105708325, 0.07161724737138883, 0.07161724737138883, 0.07161724737138883, 0.07161724737138883, 0.07161724737138883, 0.07161724737138883, 0.07161724737138883, 0.07161724737138883, 0.07161724737138883, 0.07161724737138883, 0.07161724737138883, 0.035808623685694416, 0.07007315716652203, 0.07007315716652203, 0.10510973574978305, 0.07007315716652203, 0.07007315716652203, 0.07007315716652203, 0.07007315716652203, 0.07007315716652203, 0.07007315716652203, 0.07007315716652203, 0.07007315716652203, 0.07007315716652203, 0.07007315716652203, 0.07007315716652203, 0.10916865745309615, 0.07277910496873076, 0.10916865745309615, 0.07277910496873076, 0.10916865745309615, 0.07277910496873076, 0.07277910496873076, 0.07277910496873076, 0.03638955248436538, 0.07277910496873076, 0.07277910496873076, 0.07277910496873076, 0.07277910496873076, 0.07277910496873076, 0.07322536563109905, 0.07322536563109905, 0.07322536563109905, 0.07322536563109905, 0.07322536563109905, 0.07322536563109905, 0.07322536563109905, 0.07322536563109905, 0.036612682815549524, 0.07322536563109905, 0.07322536563109905, 0.07322536563109905, 0.07322536563109905, 0.07322536563109905, 0.10681433932951669, 0.10681433932951669, 0.10681433932951669, 0.07120955955301111, 0.07120955955301111, 0.07120955955301111, 0.07120955955301111, 0.07120955955301111, 0.07120955955301111, 0.07120955955301111, 0.07120955955301111, 0.07120955955301111, 0.03560477977650556, 0.07120955955301111, 0.07021022332493398, 0.07021022332493398, 0.10531533498740096, 0.10531533498740096, 0.07021022332493398, 0.07021022332493398, 0.07021022332493398, 0.07021022332493398, 0.07021022332493398, 0.07021022332493398, 0.07021022332493398, 0.07021022332493398, 0.07021022332493398, 0.07021022332493398, 0.07077230708811652, 0.10615846063217478, 0.10615846063217478, 0.07077230708811652, 0.07077230708811652, 0.07077230708811652, 0.07077230708811652, 0.07077230708811652, 0.07077230708811652, 0.07077230708811652, 0.07077230708811652, 0.07077230708811652, 0.07077230708811652, 0.07077230708811652, 0.10354275061658093, 0.10354275061658093, 0.06902850041105395, 0.06902850041105395, 0.10354275061658093, 0.06902850041105395, 0.06902850041105395, 0.06902850041105395, 0.06902850041105395, 0.06902850041105395, 0.06902850041105395, 0.06902850041105395, 0.06902850041105395, 0.06902850041105395, 0.07312219137155222, 0.07312219137155222, 0.07312219137155222, 0.07312219137155222, 0.07312219137155222, 0.07312219137155222, 0.07312219137155222, 0.07312219137155222, 0.07312219137155222, 0.07312219137155222, 0.07312219137155222, 0.03656109568577611, 0.07312219137155222, 0.07312219137155222, 0.07132672808972494, 0.10699009213458742, 0.10699009213458742, 0.07132672808972494, 0.07132672808972494, 0.07132672808972494, 0.07132672808972494, 0.07132672808972494, 0.07132672808972494, 0.07132672808972494, 0.07132672808972494, 0.07132672808972494, 0.07132672808972494, 0.07132672808972494, 0.10940677579099028, 0.07293785052732686, 0.10940677579099028, 0.07293785052732686, 0.07293785052732686, 0.07293785052732686, 0.07293785052732686, 0.07293785052732686, 0.07293785052732686, 0.07293785052732686, 0.07293785052732686, 0.07293785052732686, 0.07293785052732686, 0.07293785052732686, 0.1053817810260971, 0.07025452068406474, 0.07025452068406474, 0.07025452068406474, 0.1053817810260971, 0.07025452068406474, 0.07025452068406474, 0.07025452068406474, 0.07025452068406474, 0.07025452068406474, 0.07025452068406474, 0.07025452068406474, 0.07025452068406474, 0.07025452068406474, 0.0753927921983696, 0.0753927921983696, 0.0753927921983696, 0.0753927921983696, 0.0753927921983696, 0.0753927921983696, 0.0753927921983696, 0.0753927921983696, 0.0753927921983696, 0.0753927921983696, 0.0753927921983696, 0.0753927921983696, 0.0753927921983696, 0.0753927921983696, 0.07309145086441148, 0.07309145086441148, 0.07309145086441148, 0.10963717629661722, 0.07309145086441148, 0.07309145086441148, 0.07309145086441148, 0.07309145086441148, 0.07309145086441148, 0.07309145086441148, 0.07309145086441148, 0.07309145086441148, 0.03654572543220574, 0.07309145086441148, 0.07290216626389182, 0.07290216626389182, 0.07290216626389182, 0.07290216626389182, 0.07290216626389182, 0.07290216626389182, 0.07290216626389182, 0.07290216626389182, 0.07290216626389182, 0.07290216626389182, 0.07290216626389182, 0.07290216626389182, 0.07290216626389182, 0.07290216626389182, 0.10707294303022803, 0.10707294303022803, 0.10707294303022803, 0.07138196202015203, 0.10707294303022803, 0.07138196202015203, 0.07138196202015203, 0.07138196202015203, 0.07138196202015203, 0.07138196202015203, 0.03569098101007601, 0.07138196202015203, 0.07138196202015203, 0.03569098101007601, 0.07350345159333131, 0.07350345159333131, 0.11025517738999696, 0.07350345159333131, 0.07350345159333131, 0.07350345159333131, 0.07350345159333131, 0.07350345159333131, 0.036751725796665656, 0.07350345159333131, 0.036751725796665656, 0.07350345159333131, 0.07350345159333131, 0.07350345159333131, 0.07176727509206654, 0.07176727509206654, 0.07176727509206654, 0.07176727509206654, 0.07176727509206654, 0.07176727509206654, 0.07176727509206654, 0.07176727509206654, 0.07176727509206654, 0.07176727509206654, 0.07176727509206654, 0.07176727509206654, 0.07176727509206654, 0.07176727509206654, 0.10494911963625421, 0.10494911963625421, 0.06996607975750281, 0.10494911963625421, 0.06996607975750281, 0.06996607975750281, 0.06996607975750281, 0.06996607975750281, 0.06996607975750281, 0.06996607975750281, 0.034983039878751405, 0.06996607975750281, 0.06996607975750281, 0.06996607975750281, 0.07117780565364476, 0.10676670848046714, 0.07117780565364476, 0.10676670848046714, 0.07117780565364476, 0.07117780565364476, 0.07117780565364476, 0.07117780565364476, 0.07117780565364476, 0.07117780565364476, 0.07117780565364476, 0.07117780565364476, 0.03558890282682238, 0.07117780565364476, 0.06895555642750364, 0.10343333464125547, 0.06895555642750364, 0.06895555642750364, 0.06895555642750364, 0.06895555642750364, 0.06895555642750364, 0.06895555642750364, 0.06895555642750364, 0.06895555642750364, 0.06895555642750364, 0.06895555642750364, 0.06895555642750364, 0.06895555642750364, 0.07396357030790926, 0.1109453554618639, 0.07396357030790926, 0.07396357030790926, 0.07396357030790926, 0.07396357030790926, 0.07396357030790926, 0.07396357030790926, 0.07396357030790926, 0.07396357030790926, 0.07396357030790926, 0.07396357030790926, 0.07396357030790926, 0.03698178515395463, 0.06942973795422663, 0.10414460693133995, 0.06942973795422663, 0.06942973795422663, 0.06942973795422663, 0.06942973795422663, 0.06942973795422663, 0.06942973795422663, 0.06942973795422663, 0.06942973795422663, 0.06942973795422663, 0.06942973795422663, 0.06942973795422663, 0.06942973795422663, 0.10503000189180711, 0.07002000126120474, 0.10503000189180711, 0.07002000126120474, 0.07002000126120474, 0.10503000189180711, 0.07002000126120474, 0.07002000126120474, 0.07002000126120474, 0.07002000126120474, 0.07002000126120474, 0.07002000126120474, 0.03501000063060237, 0.07002000126120474, 0.10734252613259206, 0.10734252613259206, 0.07156168408839471, 0.07156168408839471, 0.07156168408839471, 0.07156168408839471, 0.07156168408839471, 0.07156168408839471, 0.07156168408839471, 0.07156168408839471, 0.07156168408839471, 0.07156168408839471, 0.035780842044197354, 0.07156168408839471, 0.1106808944165012, 0.07378726294433413, 0.07378726294433413, 0.07378726294433413, 0.07378726294433413, 0.07378726294433413, 0.07378726294433413, 0.07378726294433413, 0.07378726294433413, 0.07378726294433413, 0.07378726294433413, 0.07378726294433413, 0.07378726294433413, 0.036893631472167066, 0.07229114643926099, 0.07229114643926099, 0.07229114643926099, 0.07229114643926099, 0.07229114643926099, 0.07229114643926099, 0.07229114643926099, 0.07229114643926099, 0.07229114643926099, 0.07229114643926099, 0.07229114643926099, 0.07229114643926099, 0.07229114643926099, 0.036145573219630495, 0.06935448455402089, 0.10403172683103135, 0.06935448455402089, 0.06935448455402089, 0.06935448455402089, 0.06935448455402089, 0.06935448455402089, 0.06935448455402089, 0.06935448455402089, 0.06935448455402089, 0.06935448455402089, 0.06935448455402089, 0.06935448455402089, 0.06935448455402089, 0.11502052352237915, 0.07668034901491944, 0.07668034901491944, 0.07668034901491944, 0.07668034901491944, 0.07668034901491944, 0.03834017450745972, 0.07668034901491944, 0.07668034901491944, 0.07668034901491944, 0.07668034901491944, 0.07668034901491944, 0.07668034901491944, 0.03834017450745972, 0.07386145670162926, 0.07386145670162926, 0.1107921850524439, 0.07386145670162926, 0.07386145670162926, 0.07386145670162926, 0.07386145670162926, 0.07386145670162926, 0.07386145670162926, 0.07386145670162926, 0.07386145670162926, 0.07386145670162926, 0.07386145670162926, 0.07386145670162926, 0.11229735209198169, 0.07486490139465446, 0.07486490139465446, 0.07486490139465446, 0.07486490139465446, 0.07486490139465446, 0.07486490139465446, 0.07486490139465446, 0.07486490139465446, 0.07486490139465446, 0.07486490139465446, 0.07486490139465446, 0.07486490139465446, 0.03743245069732723, 0.11128501423081101, 0.11128501423081101, 0.11128501423081101, 0.07419000948720735, 0.07419000948720735, 0.07419000948720735, 0.07419000948720735, 0.07419000948720735, 0.07419000948720735, 0.03709500474360367, 0.07419000948720735, 0.07419000948720735, 0.03709500474360367, 0.07419000948720735, 0.10970859077043639, 0.07313906051362426, 0.07313906051362426, 0.07313906051362426, 0.07313906051362426, 0.07313906051362426, 0.07313906051362426, 0.07313906051362426, 0.07313906051362426, 0.07313906051362426, 0.07313906051362426, 0.07313906051362426, 0.03656953025681213, 0.07313906051362426, 0.10409608958914786, 0.10409608958914786, 0.0693973930594319, 0.0693973930594319, 0.0693973930594319, 0.0693973930594319, 0.0693973930594319, 0.0693973930594319, 0.0693973930594319, 0.0693973930594319, 0.0693973930594319, 0.0693973930594319, 0.0693973930594319, 0.0693973930594319, 0.07596000778280079, 0.07596000778280079, 0.11394001167420117, 0.07596000778280079, 0.07596000778280079, 0.07596000778280079, 0.07596000778280079, 0.07596000778280079, 0.07596000778280079, 0.07596000778280079, 0.037980003891400396, 0.07596000778280079, 0.07596000778280079, 0.07596000778280079, 0.07281125866526723, 0.07281125866526723, 0.07281125866526723, 0.07281125866526723, 0.07281125866526723, 0.07281125866526723, 0.07281125866526723, 0.07281125866526723, 0.07281125866526723, 0.07281125866526723, 0.07281125866526723, 0.07281125866526723, 0.07281125866526723, 0.03640562933263362, 0.10094779600780737, 0.10094779600780737, 0.10094779600780737, 0.06729853067187158, 0.06729853067187158, 0.06729853067187158, 0.06729853067187158, 0.06729853067187158, 0.06729853067187158, 0.06729853067187158, 0.06729853067187158, 0.06729853067187158, 0.06729853067187158, 0.03364926533593579, 0.10904918205283828, 0.10904918205283828, 0.07269945470189218, 0.07269945470189218, 0.07269945470189218, 0.07269945470189218, 0.03634972735094609, 0.07269945470189218, 0.07269945470189218, 0.07269945470189218, 0.07269945470189218, 0.07269945470189218, 0.03634972735094609, 0.07269945470189218, 0.07368924898021388, 0.11053387347032083, 0.07368924898021388, 0.07368924898021388, 0.07368924898021388, 0.07368924898021388, 0.07368924898021388, 0.07368924898021388, 0.07368924898021388, 0.07368924898021388, 0.07368924898021388, 0.03684462449010694, 0.07368924898021388, 0.03684462449010694, 0.07016962884223701, 0.10525444326335552, 0.07016962884223701, 0.07016962884223701, 0.07016962884223701, 0.07016962884223701, 0.07016962884223701, 0.07016962884223701, 0.07016962884223701, 0.07016962884223701, 0.07016962884223701, 0.07016962884223701, 0.07016962884223701, 0.07016962884223701, 0.11074895181216476, 0.07383263454144318, 0.07383263454144318, 0.07383263454144318, 0.07383263454144318, 0.07383263454144318, 0.07383263454144318, 0.07383263454144318, 0.07383263454144318, 0.07383263454144318, 0.07383263454144318, 0.07383263454144318, 0.07383263454144318, 0.03691631727072159, 0.07351728533325731, 0.07351728533325731, 0.07351728533325731, 0.07351728533325731, 0.07351728533325731, 0.07351728533325731, 0.07351728533325731, 0.07351728533325731, 0.07351728533325731, 0.07351728533325731, 0.07351728533325731, 0.07351728533325731, 0.07351728533325731, 0.07351728533325731, 0.10981106655938058, 0.07320737770625373, 0.10981106655938058, 0.07320737770625373, 0.07320737770625373, 0.07320737770625373, 0.07320737770625373, 0.07320737770625373, 0.07320737770625373, 0.07320737770625373, 0.07320737770625373, 0.07320737770625373, 0.07320737770625373, 0.03660368885312686, 0.07250881495774401, 0.10876322243661601, 0.07250881495774401, 0.07250881495774401, 0.07250881495774401, 0.07250881495774401, 0.07250881495774401, 0.07250881495774401, 0.07250881495774401, 0.07250881495774401, 0.07250881495774401, 0.07250881495774401, 0.07250881495774401, 0.07250881495774401, 0.0739070103716686, 0.11086051555750288, 0.0739070103716686, 0.11086051555750288, 0.0739070103716686, 0.0739070103716686, 0.0739070103716686, 0.0739070103716686, 0.0739070103716686, 0.0739070103716686, 0.0739070103716686, 0.0739070103716686, 0.0739070103716686, 0.0739070103716686, 0.10403325930328415, 0.10403325930328415, 0.06935550620218943, 0.10403325930328415, 0.06935550620218943, 0.06935550620218943, 0.06935550620218943, 0.06935550620218943, 0.06935550620218943, 0.06935550620218943, 0.06935550620218943, 0.06935550620218943, 0.06935550620218943, 0.06935550620218943, 0.10546826056385566, 0.10546826056385566, 0.0703121737092371, 0.0703121737092371, 0.0703121737092371, 0.0703121737092371, 0.0703121737092371, 0.0703121737092371, 0.0703121737092371, 0.0703121737092371, 0.03515608685461855, 0.0703121737092371, 0.0703121737092371, 0.0703121737092371, 0.10416933637083957, 0.06944622424722638, 0.06944622424722638, 0.06944622424722638, 0.06944622424722638, 0.06944622424722638, 0.06944622424722638, 0.03472311212361319, 0.06944622424722638, 0.06944622424722638, 0.06944622424722638, 0.06944622424722638, 0.06944622424722638, 0.06944622424722638, 0.07719407392807223, 0.07719407392807223, 0.07719407392807223, 0.07719407392807223, 0.07719407392807223, 0.07719407392807223, 0.07719407392807223, 0.07719407392807223, 0.07719407392807223, 0.07719407392807223, 0.07719407392807223, 0.038597036964036116, 0.038597036964036116, 0.038597036964036116, 0.06982224488804066, 0.06982224488804066, 0.10473336733206098, 0.10473336733206098, 0.06982224488804066, 0.06982224488804066, 0.06982224488804066, 0.06982224488804066, 0.06982224488804066, 0.06982224488804066, 0.06982224488804066, 0.06982224488804066, 0.06982224488804066, 0.06982224488804066, 0.07058274106903482, 0.10587411160355223, 0.10587411160355223, 0.07058274106903482, 0.07058274106903482, 0.07058274106903482, 0.07058274106903482, 0.07058274106903482, 0.07058274106903482, 0.07058274106903482, 0.07058274106903482, 0.07058274106903482, 0.07058274106903482, 0.03529137053451741, 0.06884777809941975, 0.10327166714912962, 0.10327166714912962, 0.10327166714912962, 0.10327166714912962, 0.06884777809941975, 0.06884777809941975, 0.06884777809941975, 0.06884777809941975, 0.06884777809941975, 0.034423889049709874, 0.06884777809941975, 0.06884777809941975, 0.06884777809941975, 0.07770249737674848, 0.07770249737674848, 0.07770249737674848, 0.07770249737674848, 0.07770249737674848, 0.07770249737674848, 0.07770249737674848, 0.07770249737674848, 0.07770249737674848, 0.07770249737674848, 0.07770249737674848, 0.07770249737674848, 0.07770249737674848, 0.03885124868837424, 0.07329860427239006, 0.10994790640858508, 0.07329860427239006, 0.07329860427239006, 0.07329860427239006, 0.07329860427239006, 0.07329860427239006, 0.07329860427239006, 0.07329860427239006, 0.07329860427239006, 0.07329860427239006, 0.07329860427239006, 0.03664930213619503, 0.07329860427239006, 0.10974514150660009, 0.07316342767106672, 0.07316342767106672, 0.07316342767106672, 0.07316342767106672, 0.07316342767106672, 0.07316342767106672, 0.07316342767106672, 0.07316342767106672, 0.07316342767106672, 0.07316342767106672, 0.07316342767106672, 0.07316342767106672, 0.07316342767106672, 0.07145381126267694, 0.07145381126267694, 0.07145381126267694, 0.07145381126267694, 0.07145381126267694, 0.07145381126267694, 0.07145381126267694, 0.07145381126267694, 0.07145381126267694, 0.07145381126267694, 0.07145381126267694, 0.07145381126267694, 0.07145381126267694, 0.07145381126267694, 0.07150038571628552, 0.07150038571628552, 0.07150038571628552, 0.07150038571628552, 0.07150038571628552, 0.07150038571628552, 0.07150038571628552, 0.07150038571628552, 0.07150038571628552, 0.07150038571628552, 0.07150038571628552, 0.07150038571628552, 0.07150038571628552, 0.03575019285814276, 0.07422331884609104, 0.07422331884609104, 0.07422331884609104, 0.07422331884609104, 0.11133497826913656, 0.07422331884609104, 0.07422331884609104, 0.07422331884609104, 0.07422331884609104, 0.07422331884609104, 0.07422331884609104, 0.07422331884609104, 0.07422331884609104, 0.07422331884609104, 0.07485319966146665, 0.07485319966146665, 0.07485319966146665, 0.07485319966146665, 0.07485319966146665, 0.07485319966146665, 0.07485319966146665, 0.07485319966146665, 0.07485319966146665, 0.07485319966146665, 0.07485319966146665, 0.07485319966146665, 0.07485319966146665, 0.07485319966146665, 0.10793237711404977, 0.10793237711404977, 0.07195491807603317, 0.10793237711404977, 0.07195491807603317, 0.07195491807603317, 0.07195491807603317, 0.07195491807603317, 0.07195491807603317, 0.07195491807603317, 0.07195491807603317, 0.07195491807603317, 0.07195491807603317, 0.07195491807603317, 0.07377892817561835, 0.07377892817561835, 0.07377892817561835, 0.11066839226342753, 0.07377892817561835, 0.07377892817561835, 0.07377892817561835, 0.07377892817561835, 0.07377892817561835, 0.07377892817561835, 0.03688946408780917, 0.07377892817561835, 0.07377892817561835, 0.03688946408780917, 0.07456411838181637, 0.07456411838181637, 0.07456411838181637, 0.07456411838181637, 0.07456411838181637, 0.07456411838181637, 0.07456411838181637, 0.07456411838181637, 0.07456411838181637, 0.07456411838181637, 0.07456411838181637, 0.07456411838181637, 0.07456411838181637, 0.07456411838181637, 0.10486143480175734, 0.06990762320117157, 0.06990762320117157, 0.06990762320117157, 0.06990762320117157, 0.06990762320117157, 0.06990762320117157, 0.06990762320117157, 0.06990762320117157, 0.06990762320117157, 0.06990762320117157, 0.06990762320117157, 0.06990762320117157, 0.06990762320117157, 0.10311915745490347, 0.10311915745490347, 0.10311915745490347, 0.06874610496993563, 0.06874610496993563, 0.06874610496993563, 0.06874610496993563, 0.06874610496993563, 0.06874610496993563, 0.06874610496993563, 0.06874610496993563, 0.06874610496993563, 0.06874610496993563, 0.06874610496993563, 0.10615525078331262, 0.07077016718887508, 0.10615525078331262, 0.07077016718887508, 0.07077016718887508, 0.07077016718887508, 0.07077016718887508, 0.07077016718887508, 0.07077016718887508, 0.07077016718887508, 0.07077016718887508, 0.07077016718887508, 0.07077016718887508, 0.07077016718887508, 0.07511451538194222, 0.07511451538194222, 0.07511451538194222, 0.07511451538194222, 0.07511451538194222, 0.07511451538194222, 0.07511451538194222, 0.07511451538194222, 0.07511451538194222, 0.07511451538194222, 0.07511451538194222, 0.07511451538194222, 0.03755725769097111, 0.07511451538194222, 0.07357743621945337, 0.07357743621945337, 0.07357743621945337, 0.07357743621945337, 0.07357743621945337, 0.07357743621945337, 0.07357743621945337, 0.07357743621945337, 0.07357743621945337, 0.07357743621945337, 0.07357743621945337, 0.07357743621945337, 0.07357743621945337, 0.07357743621945337, 0.10489121908852012, 0.10489121908852012, 0.06992747939234674, 0.06992747939234674, 0.06992747939234674, 0.06992747939234674, 0.06992747939234674, 0.06992747939234674, 0.06992747939234674, 0.06992747939234674, 0.06992747939234674, 0.06992747939234674, 0.06992747939234674, 0.06992747939234674, 0.10404491440285223, 0.06936327626856816, 0.10404491440285223, 0.06936327626856816, 0.06936327626856816, 0.06936327626856816, 0.06936327626856816, 0.06936327626856816, 0.06936327626856816, 0.06936327626856816, 0.06936327626856816, 0.06936327626856816, 0.06936327626856816, 0.06936327626856816, 0.07534135154830583, 0.07534135154830583, 0.07534135154830583, 0.07534135154830583, 0.07534135154830583, 0.07534135154830583, 0.07534135154830583, 0.07534135154830583, 0.07534135154830583, 0.07534135154830583, 0.07534135154830583, 0.07534135154830583, 0.07534135154830583, 0.037670675774152916, 0.07656977454521394, 0.07656977454521394, 0.07656977454521394, 0.07656977454521394, 0.07656977454521394, 0.07656977454521394, 0.03828488727260697, 0.07656977454521394, 0.07656977454521394, 0.07656977454521394, 0.07656977454521394, 0.07656977454521394, 0.07656977454521394, 0.07656977454521394, 0.07446719327922995, 0.07446719327922995, 0.11170078991884493, 0.07446719327922995, 0.07446719327922995, 0.07446719327922995, 0.07446719327922995, 0.07446719327922995, 0.07446719327922995, 0.07446719327922995, 0.07446719327922995, 0.07446719327922995, 0.07446719327922995, 0.07446719327922995, 0.10526683922474009, 0.07017789281649339, 0.07017789281649339, 0.10526683922474009, 0.07017789281649339, 0.10526683922474009, 0.07017789281649339, 0.07017789281649339, 0.07017789281649339, 0.07017789281649339, 0.07017789281649339, 0.07017789281649339, 0.07017789281649339, 0.07017789281649339, 0.10742624928871357, 0.07161749952580905, 0.10742624928871357, 0.07161749952580905, 0.07161749952580905, 0.07161749952580905, 0.07161749952580905, 0.07161749952580905, 0.07161749952580905, 0.07161749952580905, 0.07161749952580905, 0.07161749952580905, 0.07161749952580905, 0.07161749952580905, 0.1122106272205026, 0.07480708481366839, 0.07480708481366839, 0.07480708481366839, 0.07480708481366839, 0.07480708481366839, 0.07480708481366839, 0.07480708481366839, 0.07480708481366839, 0.07480708481366839, 0.07480708481366839, 0.037403542406834196, 0.07480708481366839, 0.037403542406834196, 0.1066656070174846, 0.1066656070174846, 0.1066656070174846, 0.07111040467832307, 0.07111040467832307, 0.07111040467832307, 0.07111040467832307, 0.03555520233916153, 0.07111040467832307, 0.07111040467832307, 0.07111040467832307, 0.07111040467832307, 0.07111040467832307, 0.07111040467832307, 0.10409001841404161, 0.10409001841404161, 0.06939334560936107, 0.10409001841404161, 0.06939334560936107, 0.10409001841404161, 0.06939334560936107, 0.06939334560936107, 0.06939334560936107, 0.06939334560936107, 0.06939334560936107, 0.06939334560936107, 0.06939334560936107, 0.034696672804680535, 0.10766834389535002, 0.07177889593023334, 0.07177889593023334, 0.10766834389535002, 0.07177889593023334, 0.07177889593023334, 0.07177889593023334, 0.07177889593023334, 0.07177889593023334, 0.07177889593023334, 0.07177889593023334, 0.07177889593023334, 0.07177889593023334, 0.03588944796511667, 0.07495601478294685, 0.11243402217442028, 0.07495601478294685, 0.11243402217442028, 0.07495601478294685, 0.037478007391473424, 0.07495601478294685, 0.037478007391473424, 0.07495601478294685, 0.07495601478294685, 0.07495601478294685, 0.07495601478294685, 0.037478007391473424, 0.07495601478294685, 0.07297286582851659, 0.07297286582851659, 0.07297286582851659, 0.10945929874277488, 0.07297286582851659, 0.07297286582851659, 0.07297286582851659, 0.07297286582851659, 0.07297286582851659, 0.07297286582851659, 0.03648643291425829, 0.07297286582851659, 0.07297286582851659, 0.03648643291425829, 0.07550896623848376, 0.07550896623848376, 0.07550896623848376, 0.07550896623848376, 0.11326344935772563, 0.07550896623848376, 0.07550896623848376, 0.07550896623848376, 0.07550896623848376, 0.07550896623848376, 0.07550896623848376, 0.07550896623848376, 0.07550896623848376, 0.07550896623848376, 0.07199568594089005, 0.07199568594089005, 0.07199568594089005, 0.07199568594089005, 0.07199568594089005, 0.07199568594089005, 0.07199568594089005, 0.07199568594089005, 0.07199568594089005, 0.07199568594089005, 0.07199568594089005, 0.07199568594089005, 0.07199568594089005, 0.07199568594089005, 0.07184615135054466, 0.107769227025817, 0.07184615135054466, 0.07184615135054466, 0.07184615135054466, 0.07184615135054466, 0.07184615135054466, 0.07184615135054466, 0.07184615135054466, 0.07184615135054466, 0.07184615135054466, 0.07184615135054466, 0.07184615135054466, 0.07184615135054466, 0.10432488509055954, 0.10432488509055954, 0.06954992339370636, 0.10432488509055954, 0.06954992339370636, 0.06954992339370636, 0.06954992339370636, 0.06954992339370636, 0.06954992339370636, 0.06954992339370636, 0.06954992339370636, 0.06954992339370636, 0.06954992339370636, 0.03477496169685318, 0.10914915802104079, 0.07276610534736053, 0.07276610534736053, 0.07276610534736053, 0.07276610534736053, 0.07276610534736053, 0.07276610534736053, 0.07276610534736053, 0.03638305267368026, 0.07276610534736053, 0.07276610534736053, 0.03638305267368026, 0.07276610534736053, 0.07276610534736053, 0.07044328611368762, 0.07044328611368762, 0.07044328611368762, 0.10566492917053143, 0.07044328611368762, 0.07044328611368762, 0.07044328611368762, 0.07044328611368762, 0.07044328611368762, 0.07044328611368762, 0.07044328611368762, 0.07044328611368762, 0.07044328611368762, 0.07044328611368762, 0.10645844969033283, 0.10645844969033283, 0.07097229979355522, 0.07097229979355522, 0.07097229979355522, 0.07097229979355522, 0.07097229979355522, 0.07097229979355522, 0.03548614989677761, 0.07097229979355522, 0.07097229979355522, 0.07097229979355522, 0.07097229979355522, 0.07097229979355522, 0.10866749219407132, 0.07244499479604755, 0.07244499479604755, 0.07244499479604755, 0.07244499479604755, 0.07244499479604755, 0.07244499479604755, 0.07244499479604755, 0.07244499479604755, 0.07244499479604755, 0.07244499479604755, 0.07244499479604755, 0.07244499479604755, 0.07244499479604755, 0.10879619407081931, 0.10879619407081931, 0.10879619407081931, 0.07253079604721287, 0.07253079604721287, 0.07253079604721287, 0.07253079604721287, 0.07253079604721287, 0.07253079604721287, 0.07253079604721287, 0.07253079604721287, 0.036265398023606434, 0.07253079604721287, 0.036265398023606434, 0.10394114861870482, 0.10394114861870482, 0.06929409907913654, 0.06929409907913654, 0.06929409907913654, 0.06929409907913654, 0.06929409907913654, 0.06929409907913654, 0.06929409907913654, 0.06929409907913654, 0.06929409907913654, 0.06929409907913654, 0.06929409907913654, 0.06929409907913654, 0.11097720795109209, 0.07398480530072805, 0.11097720795109209, 0.07398480530072805, 0.07398480530072805, 0.07398480530072805, 0.07398480530072805, 0.07398480530072805, 0.07398480530072805, 0.07398480530072805, 0.07398480530072805, 0.07398480530072805, 0.07398480530072805, 0.07398480530072805, 0.10265868011985307, 0.10265868011985307, 0.06843912007990205, 0.10265868011985307, 0.06843912007990205, 0.06843912007990205, 0.06843912007990205, 0.06843912007990205, 0.06843912007990205, 0.06843912007990205, 0.06843912007990205, 0.06843912007990205, 0.06843912007990205, 0.034219560039951025, 0.07366666461071972, 0.07366666461071972, 0.07366666461071972, 0.07366666461071972, 0.07366666461071972, 0.07366666461071972, 0.07366666461071972, 0.07366666461071972, 0.07366666461071972, 0.03683333230535986, 0.07366666461071972, 0.07366666461071972, 0.07366666461071972, 0.07366666461071972, 0.10861959639551495, 0.07241306426367664, 0.07241306426367664, 0.10861959639551495, 0.07241306426367664, 0.07241306426367664, 0.07241306426367664, 0.07241306426367664, 0.07241306426367664, 0.07241306426367664, 0.07241306426367664, 0.03620653213183832, 0.07241306426367664, 0.07241306426367664, 0.06851011786633907, 0.1027651767995086, 0.06851011786633907, 0.1027651767995086, 0.06851011786633907, 0.06851011786633907, 0.06851011786633907, 0.06851011786633907, 0.06851011786633907, 0.06851011786633907, 0.06851011786633907, 0.06851011786633907, 0.06851011786633907, 0.06851011786633907, 0.06847451583194462, 0.10271177374791693, 0.06847451583194462, 0.06847451583194462, 0.06847451583194462, 0.06847451583194462, 0.06847451583194462, 0.06847451583194462, 0.06847451583194462, 0.06847451583194462, 0.06847451583194462, 0.06847451583194462, 0.06847451583194462, 0.06847451583194462, 0.07302467198512645, 0.07302467198512645, 0.07302467198512645, 0.07302467198512645, 0.07302467198512645, 0.07302467198512645, 0.07302467198512645, 0.07302467198512645, 0.07302467198512645, 0.07302467198512645, 0.036512335992563226, 0.07302467198512645, 0.07302467198512645, 0.07302467198512645, 0.10938900848816469, 0.07292600565877647, 0.07292600565877647, 0.10938900848816469, 0.07292600565877647, 0.07292600565877647, 0.07292600565877647, 0.07292600565877647, 0.07292600565877647, 0.07292600565877647, 0.07292600565877647, 0.07292600565877647, 0.07292600565877647, 0.07292600565877647, 0.07081142797296096, 0.10621714195944144, 0.10621714195944144, 0.07081142797296096, 0.07081142797296096, 0.07081142797296096, 0.07081142797296096, 0.07081142797296096, 0.07081142797296096, 0.07081142797296096, 0.07081142797296096, 0.07081142797296096, 0.07081142797296096, 0.07081142797296096, 0.07583428183788296, 0.07583428183788296, 0.07583428183788296, 0.07583428183788296, 0.07583428183788296, 0.07583428183788296, 0.07583428183788296, 0.07583428183788296, 0.07583428183788296, 0.03791714091894148, 0.07583428183788296, 0.07583428183788296, 0.03791714091894148, 0.07583428183788296, 0.07344139387617755, 0.11016209081426634, 0.07344139387617755, 0.07344139387617755, 0.07344139387617755, 0.07344139387617755, 0.07344139387617755, 0.07344139387617755, 0.07344139387617755, 0.07344139387617755, 0.07344139387617755, 0.07344139387617755, 0.07344139387617755, 0.07344139387617755, 0.10683396044054402, 0.10683396044054402, 0.07122264029369602, 0.07122264029369602, 0.07122264029369602, 0.07122264029369602, 0.07122264029369602, 0.03561132014684801, 0.07122264029369602, 0.07122264029369602, 0.07122264029369602, 0.07122264029369602, 0.07122264029369602, 0.07122264029369602, 0.07123808384022094, 0.10685712576033142, 0.07123808384022094, 0.07123808384022094, 0.07123808384022094, 0.07123808384022094, 0.07123808384022094, 0.03561904192011047, 0.07123808384022094, 0.07123808384022094, 0.07123808384022094, 0.07123808384022094, 0.07123808384022094, 0.07123808384022094, 0.06995458855079197, 0.10493188282618796, 0.10493188282618796, 0.06995458855079197, 0.06995458855079197, 0.06995458855079197, 0.06995458855079197, 0.06995458855079197, 0.06995458855079197, 0.06995458855079197, 0.06995458855079197, 0.06995458855079197, 0.06995458855079197, 0.06995458855079197, 0.10249885095595206, 0.10249885095595206, 0.06833256730396804, 0.10249885095595206, 0.06833256730396804, 0.06833256730396804, 0.06833256730396804, 0.06833256730396804, 0.06833256730396804, 0.06833256730396804, 0.06833256730396804, 0.06833256730396804, 0.06833256730396804, 0.06833256730396804, 0.07452214384003421, 0.07452214384003421, 0.07452214384003421, 0.07452214384003421, 0.07452214384003421, 0.07452214384003421, 0.07452214384003421, 0.07452214384003421, 0.07452214384003421, 0.07452214384003421, 0.07452214384003421, 0.07452214384003421, 0.07452214384003421, 0.07452214384003421, 0.07321484108199945, 0.07321484108199945, 0.10982226162299918, 0.07321484108199945, 0.07321484108199945, 0.07321484108199945, 0.07321484108199945, 0.07321484108199945, 0.07321484108199945, 0.07321484108199945, 0.07321484108199945, 0.07321484108199945, 0.036607420540999726, 0.036607420540999726, 0.10653886755986572, 0.07102591170657714, 0.07102591170657714, 0.07102591170657714, 0.07102591170657714, 0.07102591170657714, 0.07102591170657714, 0.07102591170657714, 0.07102591170657714, 0.07102591170657714, 0.07102591170657714, 0.07102591170657714, 0.07102591170657714, 0.07102591170657714, 0.07146134352631052, 0.10719201528946577, 0.07146134352631052, 0.07146134352631052, 0.07146134352631052, 0.07146134352631052, 0.07146134352631052, 0.07146134352631052, 0.07146134352631052, 0.07146134352631052, 0.07146134352631052, 0.07146134352631052, 0.07146134352631052, 0.07146134352631052, 0.07588841085452894, 0.07588841085452894, 0.07588841085452894, 0.07588841085452894, 0.07588841085452894, 0.07588841085452894, 0.07588841085452894, 0.07588841085452894, 0.07588841085452894, 0.07588841085452894, 0.07588841085452894, 0.07588841085452894, 0.07588841085452894, 0.07588841085452894, 0.10627776489470701, 0.10627776489470701, 0.07085184326313801, 0.07085184326313801, 0.07085184326313801, 0.07085184326313801, 0.07085184326313801, 0.07085184326313801, 0.07085184326313801, 0.07085184326313801, 0.07085184326313801, 0.07085184326313801, 0.035425921631569005, 0.07085184326313801, 0.072300197488273, 0.1084502962324095, 0.072300197488273, 0.072300197488273, 0.072300197488273, 0.072300197488273, 0.072300197488273, 0.072300197488273, 0.072300197488273, 0.072300197488273, 0.072300197488273, 0.072300197488273, 0.072300197488273, 0.072300197488273, 0.0717665196250263, 0.10764977943753945, 0.10764977943753945, 0.0717665196250263, 0.0717665196250263, 0.0717665196250263, 0.0717665196250263, 0.0717665196250263, 0.0717665196250263, 0.0717665196250263, 0.0717665196250263, 0.0717665196250263, 0.0717665196250263, 0.03588325981251315, 0.07512094267371355, 0.07512094267371355, 0.07512094267371355, 0.07512094267371355, 0.11268141401057032, 0.07512094267371355, 0.07512094267371355, 0.07512094267371355, 0.07512094267371355, 0.07512094267371355, 0.07512094267371355, 0.07512094267371355, 0.07512094267371355, 0.03756047133685678, 0.10580814959784146, 0.10580814959784146, 0.10580814959784146, 0.10580814959784146, 0.07053876639856096, 0.07053876639856096, 0.07053876639856096, 0.07053876639856096, 0.07053876639856096, 0.07053876639856096, 0.07053876639856096, 0.07053876639856096, 0.07053876639856096, 0.03526938319928048, 0.07450406272347654, 0.07450406272347654, 0.07450406272347654, 0.07450406272347654, 0.07450406272347654, 0.07450406272347654, 0.07450406272347654, 0.07450406272347654, 0.07450406272347654, 0.07450406272347654, 0.07450406272347654, 0.07450406272347654, 0.07450406272347654, 0.07450406272347654, 0.07119723284826207, 0.1067958492723931, 0.07119723284826207, 0.07119723284826207, 0.07119723284826207, 0.07119723284826207, 0.07119723284826207, 0.07119723284826207, 0.07119723284826207, 0.07119723284826207, 0.07119723284826207, 0.07119723284826207, 0.07119723284826207, 0.07119723284826207, 0.10538990968047472, 0.10538990968047472, 0.07025993978698315, 0.07025993978698315, 0.07025993978698315, 0.07025993978698315, 0.07025993978698315, 0.07025993978698315, 0.07025993978698315, 0.07025993978698315, 0.07025993978698315, 0.07025993978698315, 0.07025993978698315, 0.07025993978698315, 0.07226130187928277, 0.07226130187928277, 0.10839195281892415, 0.07226130187928277, 0.07226130187928277, 0.07226130187928277, 0.07226130187928277, 0.07226130187928277, 0.07226130187928277, 0.07226130187928277, 0.07226130187928277, 0.07226130187928277, 0.07226130187928277, 0.07226130187928277, 0.07397578628985306, 0.11096367943477958, 0.07397578628985306, 0.07397578628985306, 0.07397578628985306, 0.07397578628985306, 0.07397578628985306, 0.07397578628985306, 0.07397578628985306, 0.07397578628985306, 0.07397578628985306, 0.07397578628985306, 0.07397578628985306, 0.03698789314492653, 0.07096693949576979, 0.1064504092436547, 0.07096693949576979, 0.1064504092436547, 0.07096693949576979, 0.07096693949576979, 0.07096693949576979, 0.07096693949576979, 0.07096693949576979, 0.07096693949576979, 0.07096693949576979, 0.07096693949576979, 0.07096693949576979, 0.07096693949576979, 0.0783198204213012, 0.0783198204213012, 0.0783198204213012, 0.0783198204213012, 0.0783198204213012, 0.0783198204213012, 0.0783198204213012, 0.0783198204213012, 0.0783198204213012, 0.0783198204213012, 0.0783198204213012, 0.0783198204213012, 0.0783198204213012, 0.0783198204213012, 0.10806087551379485, 0.07204058367586323, 0.07204058367586323, 0.07204058367586323, 0.07204058367586323, 0.07204058367586323, 0.07204058367586323, 0.07204058367586323, 0.07204058367586323, 0.07204058367586323, 0.07204058367586323, 0.07204058367586323, 0.07204058367586323, 0.07204058367586323, 0.07327149244308884, 0.07327149244308884, 0.07327149244308884, 0.07327149244308884, 0.07327149244308884, 0.07327149244308884, 0.07327149244308884, 0.07327149244308884, 0.07327149244308884, 0.07327149244308884, 0.07327149244308884, 0.07327149244308884, 0.07327149244308884, 0.07327149244308884, 0.07546594953023628, 0.07546594953023628, 0.07546594953023628, 0.07546594953023628, 0.07546594953023628, 0.07546594953023628, 0.07546594953023628, 0.07546594953023628, 0.07546594953023628, 0.07546594953023628, 0.07546594953023628, 0.07546594953023628, 0.07546594953023628, 0.07546594953023628, 0.11058354305157021, 0.07372236203438014, 0.07372236203438014, 0.07372236203438014, 0.07372236203438014, 0.07372236203438014, 0.07372236203438014, 0.07372236203438014, 0.07372236203438014, 0.07372236203438014, 0.07372236203438014, 0.07372236203438014, 0.07372236203438014, 0.07372236203438014, 0.07242798916782575, 0.07242798916782575, 0.10864198375173864, 0.10864198375173864, 0.07242798916782575, 0.07242798916782575, 0.07242798916782575, 0.07242798916782575, 0.07242798916782575, 0.07242798916782575, 0.07242798916782575, 0.07242798916782575, 0.07242798916782575, 0.036213994583912876, 0.07302316549746957, 0.07302316549746957, 0.07302316549746957, 0.07302316549746957, 0.07302316549746957, 0.07302316549746957, 0.07302316549746957, 0.07302316549746957, 0.07302316549746957, 0.07302316549746957, 0.07302316549746957, 0.03651158274873478, 0.07302316549746957, 0.07302316549746957, 0.07115476252964563, 0.07115476252964563, 0.10673214379446844, 0.10673214379446844, 0.07115476252964563, 0.07115476252964563, 0.07115476252964563, 0.07115476252964563, 0.07115476252964563, 0.07115476252964563, 0.07115476252964563, 0.07115476252964563, 0.035577381264822815, 0.035577381264822815, 0.10882163141893439, 0.0725477542792896, 0.0725477542792896, 0.0725477542792896, 0.0725477542792896, 0.0725477542792896, 0.0725477542792896, 0.0725477542792896, 0.0725477542792896, 0.0725477542792896, 0.0725477542792896, 0.0725477542792896, 0.0725477542792896, 0.0362738771396448, 0.10861238155859686, 0.10861238155859686, 0.10861238155859686, 0.10861238155859686, 0.07240825437239791, 0.07240825437239791, 0.07240825437239791, 0.07240825437239791, 0.07240825437239791, 0.07240825437239791, 0.07240825437239791, 0.07240825437239791, 0.036204127186198955, 0.036204127186198955, 0.07123830318493274, 0.07123830318493274, 0.1068574547773991, 0.07123830318493274, 0.07123830318493274, 0.07123830318493274, 0.07123830318493274, 0.07123830318493274, 0.07123830318493274, 0.07123830318493274, 0.07123830318493274, 0.07123830318493274, 0.07123830318493274, 0.07123830318493274, 0.07097459501779514, 0.07097459501779514, 0.07097459501779514, 0.1064618925266927, 0.07097459501779514, 0.07097459501779514, 0.07097459501779514, 0.07097459501779514, 0.07097459501779514, 0.07097459501779514, 0.07097459501779514, 0.07097459501779514, 0.07097459501779514, 0.07097459501779514, 0.07074083516611637, 0.10611125274917456, 0.07074083516611637, 0.10611125274917456, 0.07074083516611637, 0.07074083516611637, 0.07074083516611637, 0.07074083516611637, 0.07074083516611637, 0.07074083516611637, 0.07074083516611637, 0.07074083516611637, 0.07074083516611637, 0.035370417583058186, 0.07323140731071548, 0.10984711096607323, 0.07323140731071548, 0.07323140731071548, 0.07323140731071548, 0.07323140731071548, 0.07323140731071548, 0.07323140731071548, 0.07323140731071548, 0.07323140731071548, 0.07323140731071548, 0.03661570365535774, 0.07323140731071548, 0.07323140731071548, 0.10858989596333998, 0.07239326397555998, 0.07239326397555998, 0.07239326397555998, 0.07239326397555998, 0.07239326397555998, 0.07239326397555998, 0.07239326397555998, 0.07239326397555998, 0.07239326397555998, 0.07239326397555998, 0.07239326397555998, 0.07239326397555998, 0.07239326397555998, 0.07494593656794846, 0.07494593656794846, 0.11241890485192267, 0.07494593656794846, 0.07494593656794846, 0.03747296828397423, 0.07494593656794846, 0.07494593656794846, 0.03747296828397423, 0.03747296828397423, 0.07494593656794846, 0.07494593656794846, 0.07494593656794846, 0.07494593656794846, 0.07393058170561155, 0.11089587255841733, 0.07393058170561155, 0.07393058170561155, 0.07393058170561155, 0.07393058170561155, 0.07393058170561155, 0.07393058170561155, 0.07393058170561155, 0.07393058170561155, 0.07393058170561155, 0.036965290852805775, 0.07393058170561155, 0.07393058170561155, 0.0730689659267572, 0.0730689659267572, 0.0730689659267572, 0.0730689659267572, 0.0730689659267572, 0.0730689659267572, 0.0730689659267572, 0.0730689659267572, 0.0730689659267572, 0.0730689659267572, 0.0730689659267572, 0.0730689659267572, 0.0730689659267572, 0.0730689659267572, 0.07013632825729717, 0.07013632825729717, 0.10520449238594574, 0.10520449238594574, 0.07013632825729717, 0.10520449238594574, 0.07013632825729717, 0.07013632825729717, 0.07013632825729717, 0.07013632825729717, 0.07013632825729717, 0.07013632825729717, 0.07013632825729717, 0.07013632825729717, 0.07430201805950547, 0.07430201805950547, 0.07430201805950547, 0.07430201805950547, 0.07430201805950547, 0.07430201805950547, 0.07430201805950547, 0.07430201805950547, 0.07430201805950547, 0.037151009029752734, 0.07430201805950547, 0.07430201805950547, 0.07430201805950547, 0.07430201805950547, 0.11170261555714119, 0.11170261555714119, 0.07446841037142746, 0.07446841037142746, 0.07446841037142746, 0.07446841037142746, 0.07446841037142746, 0.07446841037142746, 0.07446841037142746, 0.07446841037142746, 0.03723420518571373, 0.03723420518571373, 0.03723420518571373, 0.07446841037142746, 0.07426651572956815, 0.07426651572956815, 0.07426651572956815, 0.07426651572956815, 0.07426651572956815, 0.07426651572956815, 0.07426651572956815, 0.07426651572956815, 0.07426651572956815, 0.07426651572956815, 0.037133257864784074, 0.07426651572956815, 0.07426651572956815, 0.07426651572956815, 0.06907504582080647, 0.1036125687312097, 0.1036125687312097, 0.06907504582080647, 0.06907504582080647, 0.06907504582080647, 0.06907504582080647, 0.06907504582080647, 0.06907504582080647, 0.06907504582080647, 0.06907504582080647, 0.06907504582080647, 0.06907504582080647, 0.06907504582080647, 0.07345943356180637, 0.07345943356180637, 0.11018915034270955, 0.07345943356180637, 0.07345943356180637, 0.07345943356180637, 0.07345943356180637, 0.07345943356180637, 0.07345943356180637, 0.07345943356180637, 0.07345943356180637, 0.07345943356180637, 0.07345943356180637, 0.036729716780903185, 0.07307305495932642, 0.07307305495932642, 0.10960958243898963, 0.07307305495932642, 0.07307305495932642, 0.07307305495932642, 0.07307305495932642, 0.07307305495932642, 0.07307305495932642, 0.07307305495932642, 0.07307305495932642, 0.07307305495932642, 0.07307305495932642, 0.07307305495932642, 0.07151706232159816, 0.10727559348239722, 0.07151706232159816, 0.07151706232159816, 0.07151706232159816, 0.07151706232159816, 0.07151706232159816, 0.07151706232159816, 0.07151706232159816, 0.07151706232159816, 0.07151706232159816, 0.07151706232159816, 0.07151706232159816, 0.07151706232159816, 0.070312581752181, 0.1054688726282715, 0.1054688726282715, 0.070312581752181, 0.070312581752181, 0.070312581752181, 0.070312581752181, 0.070312581752181, 0.070312581752181, 0.070312581752181, 0.0351562908760905, 0.070312581752181, 0.070312581752181, 0.0351562908760905, 0.07567675857849086, 0.07567675857849086, 0.07567675857849086, 0.07567675857849086, 0.07567675857849086, 0.07567675857849086, 0.07567675857849086, 0.07567675857849086, 0.07567675857849086, 0.07567675857849086, 0.07567675857849086, 0.03783837928924543, 0.07567675857849086, 0.07567675857849086, 0.07187289652236638, 0.07187289652236638, 0.07187289652236638, 0.07187289652236638, 0.07187289652236638, 0.07187289652236638, 0.07187289652236638, 0.07187289652236638, 0.07187289652236638, 0.07187289652236638, 0.07187289652236638, 0.07187289652236638, 0.07187289652236638, 0.03593644826118319, 0.11495015763100276, 0.07663343842066851, 0.07663343842066851, 0.07663343842066851, 0.07663343842066851, 0.07663343842066851, 0.07663343842066851, 0.07663343842066851, 0.038316719210334256, 0.07663343842066851, 0.07663343842066851, 0.07663343842066851, 0.038316719210334256, 0.038316719210334256, 0.10844447848035446, 0.10844447848035446, 0.10844447848035446, 0.07229631898690297, 0.07229631898690297, 0.07229631898690297, 0.07229631898690297, 0.07229631898690297, 0.07229631898690297, 0.07229631898690297, 0.07229631898690297, 0.07229631898690297, 0.07229631898690297, 0.03614815949345149, 0.10687474517678802, 0.07124983011785868, 0.07124983011785868, 0.07124983011785868, 0.07124983011785868, 0.07124983011785868, 0.07124983011785868, 0.10687474517678802, 0.07124983011785868, 0.07124983011785868, 0.07124983011785868, 0.07124983011785868, 0.07124983011785868, 0.07124983011785868, 0.07141937684930613, 0.07141937684930613, 0.07141937684930613, 0.07141937684930613, 0.07141937684930613, 0.07141937684930613, 0.07141937684930613, 0.07141937684930613, 0.07141937684930613, 0.07141937684930613, 0.07141937684930613, 0.035709688424653066, 0.07141937684930613, 0.07141937684930613, 0.07312542127793226, 0.07312542127793226, 0.07312542127793226, 0.07312542127793226, 0.07312542127793226, 0.07312542127793226, 0.07312542127793226, 0.07312542127793226, 0.07312542127793226, 0.07312542127793226, 0.07312542127793226, 0.07312542127793226, 0.07312542127793226, 0.03656271063896613, 0.07243901836898176, 0.07243901836898176, 0.10865852755347263, 0.07243901836898176, 0.07243901836898176, 0.07243901836898176, 0.07243901836898176, 0.07243901836898176, 0.07243901836898176, 0.07243901836898176, 0.07243901836898176, 0.07243901836898176, 0.07243901836898176, 0.07243901836898176, 0.07322467101775985, 0.10983700652663979, 0.07322467101775985, 0.07322467101775985, 0.07322467101775985, 0.07322467101775985, 0.07322467101775985, 0.07322467101775985, 0.07322467101775985, 0.07322467101775985, 0.07322467101775985, 0.07322467101775985, 0.07322467101775985, 0.07322467101775985, 0.10677051791165952, 0.10677051791165952, 0.07118034527443969, 0.07118034527443969, 0.07118034527443969, 0.07118034527443969, 0.07118034527443969, 0.07118034527443969, 0.07118034527443969, 0.07118034527443969, 0.07118034527443969, 0.07118034527443969, 0.07118034527443969, 0.07118034527443969, 0.0741782909423954, 0.0741782909423954, 0.0741782909423954, 0.0741782909423954, 0.0741782909423954, 0.0741782909423954, 0.0741782909423954, 0.0370891454711977, 0.0741782909423954, 0.0741782909423954, 0.0741782909423954, 0.0741782909423954, 0.0741782909423954, 0.0741782909423954, 0.0693167094628045, 0.10397506419420674, 0.10397506419420674, 0.0693167094628045, 0.0693167094628045, 0.0693167094628045, 0.0693167094628045, 0.0693167094628045, 0.0693167094628045, 0.0693167094628045, 0.0693167094628045, 0.0693167094628045, 0.0693167094628045, 0.0693167094628045, 0.07242987168750224, 0.10864480753125336, 0.07242987168750224, 0.07242987168750224, 0.07242987168750224, 0.07242987168750224, 0.07242987168750224, 0.07242987168750224, 0.07242987168750224, 0.07242987168750224, 0.07242987168750224, 0.07242987168750224, 0.07242987168750224, 0.07242987168750224, 0.0728390082580005, 0.10925851238700077, 0.0728390082580005, 0.10925851238700077, 0.0728390082580005, 0.0728390082580005, 0.0728390082580005, 0.0728390082580005, 0.0728390082580005, 0.0728390082580005, 0.0728390082580005, 0.0728390082580005, 0.0728390082580005, 0.03641950412900025, 0.07189565682554334, 0.10784348523831502, 0.07189565682554334, 0.10784348523831502, 0.07189565682554334, 0.07189565682554334, 0.07189565682554334, 0.07189565682554334, 0.07189565682554334, 0.07189565682554334, 0.07189565682554334, 0.07189565682554334, 0.07189565682554334, 0.07189565682554334, 0.07325593269330613, 0.1098838990399592, 0.07325593269330613, 0.07325593269330613, 0.07325593269330613, 0.07325593269330613, 0.07325593269330613, 0.07325593269330613, 0.07325593269330613, 0.07325593269330613, 0.07325593269330613, 0.07325593269330613, 0.07325593269330613, 0.07325593269330613, 0.10451525703349186, 0.06967683802232791, 0.10451525703349186, 0.06967683802232791, 0.06967683802232791, 0.06967683802232791, 0.06967683802232791, 0.06967683802232791, 0.06967683802232791, 0.06967683802232791, 0.06967683802232791, 0.06967683802232791, 0.06967683802232791, 0.06967683802232791, 0.10825280768403726, 0.07216853845602485, 0.07216853845602485, 0.07216853845602485, 0.07216853845602485, 0.07216853845602485, 0.07216853845602485, 0.07216853845602485, 0.07216853845602485, 0.07216853845602485, 0.07216853845602485, 0.07216853845602485, 0.07216853845602485, 0.07216853845602485, 0.06964488019107827, 0.1044673202866174, 0.06964488019107827, 0.1044673202866174, 0.06964488019107827, 0.06964488019107827, 0.06964488019107827, 0.06964488019107827, 0.034822440095539135, 0.06964488019107827, 0.06964488019107827, 0.06964488019107827, 0.06964488019107827, 0.06964488019107827, 0.07486231745737021, 0.07486231745737021, 0.11229347618605531, 0.07486231745737021, 0.07486231745737021, 0.07486231745737021, 0.07486231745737021, 0.07486231745737021, 0.07486231745737021, 0.07486231745737021, 0.07486231745737021, 0.07486231745737021, 0.07486231745737021, 0.037431158728685104, 0.10542244295210446, 0.0702816286347363, 0.0702816286347363, 0.0702816286347363, 0.0702816286347363, 0.0702816286347363, 0.0702816286347363, 0.0702816286347363, 0.0702816286347363, 0.0702816286347363, 0.0702816286347363, 0.0702816286347363, 0.0702816286347363, 0.0702816286347363, 0.07493159750632696, 0.11239739625949043, 0.07493159750632696, 0.07493159750632696, 0.07493159750632696, 0.07493159750632696, 0.07493159750632696, 0.07493159750632696, 0.07493159750632696, 0.03746579875316348, 0.07493159750632696, 0.07493159750632696, 0.07493159750632696, 0.07493159750632696, 0.06886916093102341, 0.06886916093102341, 0.10330374139653513, 0.10330374139653513, 0.10330374139653513, 0.06886916093102341, 0.06886916093102341, 0.06886916093102341, 0.06886916093102341, 0.06886916093102341, 0.06886916093102341, 0.06886916093102341, 0.06886916093102341, 0.06886916093102341, 0.07203420889663471, 0.10805131334495206, 0.07203420889663471, 0.07203420889663471, 0.07203420889663471, 0.07203420889663471, 0.07203420889663471, 0.07203420889663471, 0.07203420889663471, 0.07203420889663471, 0.07203420889663471, 0.07203420889663471, 0.07203420889663471, 0.07203420889663471, 0.07212731812170195, 0.10819097718255292, 0.07212731812170195, 0.10819097718255292, 0.07212731812170195, 0.07212731812170195, 0.07212731812170195, 0.07212731812170195, 0.07212731812170195, 0.07212731812170195, 0.07212731812170195, 0.07212731812170195, 0.07212731812170195, 0.036063659060850975, 0.0730336821207279, 0.10955052318109185, 0.0730336821207279, 0.0730336821207279, 0.0730336821207279, 0.0730336821207279, 0.0730336821207279, 0.0730336821207279, 0.0730336821207279, 0.0730336821207279, 0.03651684106036395, 0.0730336821207279, 0.0730336821207279, 0.0730336821207279, 0.07157285863603975, 0.10735928795405962, 0.07157285863603975, 0.07157285863603975, 0.07157285863603975, 0.07157285863603975, 0.07157285863603975, 0.07157285863603975, 0.07157285863603975, 0.07157285863603975, 0.07157285863603975, 0.035786429318019876, 0.07157285863603975, 0.07157285863603975, 0.07098052219797488, 0.07098052219797488, 0.07098052219797488, 0.07098052219797488, 0.07098052219797488, 0.07098052219797488, 0.07098052219797488, 0.07098052219797488, 0.07098052219797488, 0.07098052219797488, 0.07098052219797488, 0.07098052219797488, 0.07098052219797488, 0.07098052219797488, 0.07283376955408277, 0.10925065433112417, 0.07283376955408277, 0.07283376955408277, 0.07283376955408277, 0.07283376955408277, 0.07283376955408277, 0.07283376955408277, 0.07283376955408277, 0.07283376955408277, 0.07283376955408277, 0.036416884777041386, 0.036416884777041386, 0.07283376955408277, 0.07381050512992364, 0.07381050512992364, 0.07381050512992364, 0.07381050512992364, 0.07381050512992364, 0.07381050512992364, 0.07381050512992364, 0.07381050512992364, 0.03690525256496182, 0.03690525256496182, 0.07381050512992364, 0.07381050512992364, 0.03690525256496182, 0.07381050512992364, 0.11044140982325867, 0.07362760654883911, 0.07362760654883911, 0.07362760654883911, 0.07362760654883911, 0.036813803274419556, 0.07362760654883911, 0.07362760654883911, 0.07362760654883911, 0.07362760654883911, 0.07362760654883911, 0.07362760654883911, 0.07362760654883911, 0.036813803274419556, 0.10575541509501472, 0.10575541509501472, 0.07050361006334314, 0.07050361006334314, 0.07050361006334314, 0.07050361006334314, 0.07050361006334314, 0.07050361006334314, 0.07050361006334314, 0.07050361006334314, 0.07050361006334314, 0.07050361006334314, 0.07050361006334314, 0.03525180503167157, 0.10796989021594726, 0.0719799268106315, 0.0719799268106315, 0.0719799268106315, 0.0719799268106315, 0.0719799268106315, 0.0719799268106315, 0.0719799268106315, 0.0719799268106315, 0.0719799268106315, 0.0719799268106315, 0.0719799268106315, 0.0719799268106315, 0.0719799268106315, 0.10663047212203017, 0.07108698141468678, 0.07108698141468678, 0.07108698141468678, 0.07108698141468678, 0.07108698141468678, 0.07108698141468678, 0.07108698141468678, 0.07108698141468678, 0.07108698141468678, 0.07108698141468678, 0.07108698141468678, 0.07108698141468678, 0.07108698141468678, 0.0718040228489186, 0.0718040228489186, 0.0718040228489186, 0.1077060342733779, 0.0718040228489186, 0.0718040228489186, 0.0718040228489186, 0.0718040228489186, 0.0718040228489186, 0.0718040228489186, 0.0718040228489186, 0.0718040228489186, 0.0718040228489186, 0.0718040228489186, 0.07552140086121732, 0.07552140086121732, 0.07552140086121732, 0.07552140086121732, 0.07552140086121732, 0.07552140086121732, 0.07552140086121732, 0.07552140086121732, 0.07552140086121732, 0.07552140086121732, 0.07552140086121732, 0.07552140086121732, 0.07552140086121732, 0.03776070043060866, 0.10265830266909401, 0.06843886844606267, 0.10265830266909401, 0.06843886844606267, 0.06843886844606267, 0.06843886844606267, 0.06843886844606267, 0.06843886844606267, 0.06843886844606267, 0.06843886844606267, 0.06843886844606267, 0.06843886844606267, 0.06843886844606267, 0.034219434223031336, 0.1119717810059974, 0.07464785400399826, 0.07464785400399826, 0.07464785400399826, 0.07464785400399826, 0.07464785400399826, 0.07464785400399826, 0.07464785400399826, 0.07464785400399826, 0.07464785400399826, 0.07464785400399826, 0.03732392700199913, 0.07464785400399826, 0.07464785400399826, 0.07082628476373452, 0.07082628476373452, 0.10623942714560178, 0.07082628476373452, 0.07082628476373452, 0.07082628476373452, 0.07082628476373452, 0.07082628476373452, 0.07082628476373452, 0.07082628476373452, 0.07082628476373452, 0.07082628476373452, 0.07082628476373452, 0.07082628476373452, 0.07128078666066381, 0.07128078666066381, 0.07128078666066381, 0.07128078666066381, 0.07128078666066381, 0.07128078666066381, 0.07128078666066381, 0.07128078666066381, 0.07128078666066381, 0.07128078666066381, 0.07128078666066381, 0.07128078666066381, 0.07128078666066381, 0.07128078666066381, 0.07439679360012588, 0.07439679360012588, 0.07439679360012588, 0.07439679360012588, 0.07439679360012588, 0.07439679360012588, 0.07439679360012588, 0.07439679360012588, 0.07439679360012588, 0.07439679360012588, 0.07439679360012588, 0.07439679360012588, 0.07439679360012588, 0.07439679360012588, 0.07671616379721052, 0.1150742456958158, 0.07671616379721052, 0.07671616379721052, 0.07671616379721052, 0.07671616379721052, 0.07671616379721052, 0.03835808189860526, 0.07671616379721052, 0.07671616379721052, 0.07671616379721052, 0.07671616379721052, 0.07671616379721052, 0.07671616379721052, 0.07527839630717195, 0.07527839630717195, 0.07527839630717195, 0.11291759446075793, 0.07527839630717195, 0.07527839630717195, 0.07527839630717195, 0.07527839630717195, 0.07527839630717195, 0.07527839630717195, 0.037639198153585976, 0.07527839630717195, 0.07527839630717195, 0.07527839630717195, 0.10838686422825262, 0.07225790948550176, 0.07225790948550176, 0.07225790948550176, 0.07225790948550176, 0.07225790948550176, 0.07225790948550176, 0.07225790948550176, 0.07225790948550176, 0.07225790948550176, 0.07225790948550176, 0.07225790948550176, 0.07225790948550176, 0.07225790948550176, 0.10819252942711974, 0.07212835295141316, 0.07212835295141316, 0.07212835295141316, 0.07212835295141316, 0.07212835295141316, 0.07212835295141316, 0.07212835295141316, 0.07212835295141316, 0.07212835295141316, 0.07212835295141316, 0.07212835295141316, 0.07212835295141316, 0.07212835295141316, 0.07108379062590783, 0.10662568593886176, 0.10662568593886176, 0.07108379062590783, 0.07108379062590783, 0.07108379062590783, 0.07108379062590783, 0.07108379062590783, 0.07108379062590783, 0.07108379062590783, 0.07108379062590783, 0.07108379062590783, 0.07108379062590783, 0.07108379062590783, 0.11223779378038157, 0.07482519585358771, 0.07482519585358771, 0.07482519585358771, 0.07482519585358771, 0.07482519585358771, 0.037412597926793856, 0.07482519585358771, 0.07482519585358771, 0.037412597926793856, 0.037412597926793856, 0.07482519585358771, 0.07482519585358771, 0.07482519585358771, 0.07634799306216371, 0.07634799306216371, 0.11452198959324555, 0.07634799306216371, 0.07634799306216371, 0.07634799306216371, 0.07634799306216371, 0.07634799306216371, 0.07634799306216371, 0.07634799306216371, 0.038173996531081854, 0.07634799306216371, 0.07634799306216371, 0.038173996531081854, 0.07561691216102104, 0.11342536824153157, 0.07561691216102104, 0.07561691216102104, 0.07561691216102104, 0.07561691216102104, 0.07561691216102104, 0.07561691216102104, 0.07561691216102104, 0.07561691216102104, 0.07561691216102104, 0.03780845608051052, 0.07561691216102104, 0.07561691216102104, 0.07303845922961062, 0.07303845922961062, 0.07303845922961062, 0.07303845922961062, 0.07303845922961062, 0.07303845922961062, 0.07303845922961062, 0.07303845922961062, 0.07303845922961062, 0.07303845922961062, 0.07303845922961062, 0.07303845922961062, 0.07303845922961062, 0.07303845922961062, 0.10790632306332662, 0.10790632306332662, 0.10790632306332662, 0.07193754870888441, 0.07193754870888441, 0.07193754870888441, 0.07193754870888441, 0.07193754870888441, 0.07193754870888441, 0.07193754870888441, 0.07193754870888441, 0.07193754870888441, 0.07193754870888441, 0.07193754870888441, 0.07076672637174973, 0.07076672637174973, 0.1061500895576246, 0.1061500895576246, 0.07076672637174973, 0.07076672637174973, 0.07076672637174973, 0.035383363185874865, 0.07076672637174973, 0.07076672637174973, 0.07076672637174973, 0.07076672637174973, 0.07076672637174973, 0.07076672637174973, 0.07495010040515801, 0.11242515060773701, 0.11242515060773701, 0.07495010040515801, 0.07495010040515801, 0.07495010040515801, 0.07495010040515801, 0.07495010040515801, 0.07495010040515801, 0.07495010040515801, 0.07495010040515801, 0.07495010040515801, 0.07495010040515801, 0.07495010040515801, 0.07265617187465906, 0.10898425781198857, 0.07265617187465906, 0.10898425781198857, 0.07265617187465906, 0.07265617187465906, 0.07265617187465906, 0.07265617187465906, 0.07265617187465906, 0.07265617187465906, 0.07265617187465906, 0.07265617187465906, 0.07265617187465906, 0.07265617187465906, 0.07383903956923327, 0.07383903956923327, 0.07383903956923327, 0.07383903956923327, 0.07383903956923327, 0.07383903956923327, 0.07383903956923327, 0.07383903956923327, 0.07383903956923327, 0.07383903956923327, 0.07383903956923327, 0.07383903956923327, 0.07383903956923327, 0.07383903956923327, 0.07220082929620958, 0.07220082929620958, 0.07220082929620958, 0.07220082929620958, 0.07220082929620958, 0.07220082929620958, 0.07220082929620958, 0.07220082929620958, 0.07220082929620958, 0.07220082929620958, 0.07220082929620958, 0.07220082929620958, 0.07220082929620958, 0.03610041464810479, 0.07285246677268611, 0.10927870015902917, 0.07285246677268611, 0.07285246677268611, 0.07285246677268611, 0.07285246677268611, 0.07285246677268611, 0.07285246677268611, 0.07285246677268611, 0.07285246677268611, 0.07285246677268611, 0.07285246677268611, 0.07285246677268611, 0.07285246677268611, 0.07166530547183537, 0.10749795820775306, 0.07166530547183537, 0.07166530547183537, 0.07166530547183537, 0.07166530547183537, 0.07166530547183537, 0.07166530547183537, 0.07166530547183537, 0.07166530547183537, 0.07166530547183537, 0.07166530547183537, 0.07166530547183537, 0.07166530547183537, 0.10637612067742452, 0.07091741378494967, 0.07091741378494967, 0.07091741378494967, 0.07091741378494967, 0.07091741378494967, 0.07091741378494967, 0.07091741378494967, 0.07091741378494967, 0.07091741378494967, 0.07091741378494967, 0.07091741378494967, 0.07091741378494967, 0.03545870689247484, 0.07130460205648535, 0.07130460205648535, 0.07130460205648535, 0.07130460205648535, 0.07130460205648535, 0.07130460205648535, 0.07130460205648535, 0.07130460205648535, 0.07130460205648535, 0.07130460205648535, 0.07130460205648535, 0.07130460205648535, 0.07130460205648535, 0.07130460205648535, 0.07138119161565819, 0.10707178742348727, 0.07138119161565819, 0.07138119161565819, 0.07138119161565819, 0.07138119161565819, 0.07138119161565819, 0.07138119161565819, 0.035690595807829094, 0.07138119161565819, 0.07138119161565819, 0.07138119161565819, 0.07138119161565819, 0.07138119161565819, 0.10651575503289888, 0.07101050335526592, 0.07101050335526592, 0.07101050335526592, 0.07101050335526592, 0.07101050335526592, 0.07101050335526592, 0.07101050335526592, 0.07101050335526592, 0.07101050335526592, 0.07101050335526592, 0.07101050335526592, 0.07101050335526592, 0.07101050335526592, 0.07539026183112195, 0.07539026183112195, 0.07539026183112195, 0.07539026183112195, 0.07539026183112195, 0.07539026183112195, 0.07539026183112195, 0.07539026183112195, 0.07539026183112195, 0.07539026183112195, 0.07539026183112195, 0.037695130915560975, 0.037695130915560975, 0.07539026183112195, 0.07611722372894639, 0.07611722372894639, 0.07611722372894639, 0.07611722372894639, 0.07611722372894639, 0.07611722372894639, 0.07611722372894639, 0.07611722372894639, 0.07611722372894639, 0.07611722372894639, 0.07611722372894639, 0.07611722372894639, 0.07611722372894639, 0.07611722372894639, 0.10380199805837717, 0.10380199805837717, 0.10380199805837717, 0.06920133203891811, 0.06920133203891811, 0.06920133203891811, 0.06920133203891811, 0.06920133203891811, 0.06920133203891811, 0.06920133203891811, 0.06920133203891811, 0.06920133203891811, 0.06920133203891811, 0.06920133203891811, 0.1052072249989388, 0.1052072249989388, 0.07013814999929253, 0.07013814999929253, 0.07013814999929253, 0.07013814999929253, 0.07013814999929253, 0.07013814999929253, 0.07013814999929253, 0.07013814999929253, 0.07013814999929253, 0.07013814999929253, 0.07013814999929253, 0.03506907499964627, 0.07033386336538747, 0.1055007950480812, 0.1055007950480812, 0.07033386336538747, 0.07033386336538747, 0.07033386336538747, 0.07033386336538747, 0.07033386336538747, 0.07033386336538747, 0.07033386336538747, 0.07033386336538747, 0.07033386336538747, 0.07033386336538747, 0.07033386336538747, 0.108049441571287, 0.108049441571287, 0.108049441571287, 0.07203296104752467, 0.07203296104752467, 0.07203296104752467, 0.07203296104752467, 0.036016480523762336, 0.07203296104752467, 0.07203296104752467, 0.07203296104752467, 0.07203296104752467, 0.07203296104752467, 0.036016480523762336, 0.0761685980698897, 0.0761685980698897, 0.11425289710483455, 0.0761685980698897, 0.0761685980698897, 0.0761685980698897, 0.0761685980698897, 0.0761685980698897, 0.0761685980698897, 0.0761685980698897, 0.0761685980698897, 0.03808429903494485, 0.03808429903494485, 0.0761685980698897, 0.11287083066067553, 0.07524722044045036, 0.07524722044045036, 0.07524722044045036, 0.07524722044045036, 0.07524722044045036, 0.07524722044045036, 0.07524722044045036, 0.07524722044045036, 0.07524722044045036, 0.07524722044045036, 0.07524722044045036, 0.03762361022022518, 0.03762361022022518, 0.07208872572979279, 0.10813308859468918, 0.07208872572979279, 0.07208872572979279, 0.07208872572979279, 0.07208872572979279, 0.07208872572979279, 0.07208872572979279, 0.07208872572979279, 0.036044362864896394, 0.07208872572979279, 0.07208872572979279, 0.07208872572979279, 0.036044362864896394, 0.11015852373984075, 0.0734390158265605, 0.0734390158265605, 0.0734390158265605, 0.0734390158265605, 0.0734390158265605, 0.0734390158265605, 0.0734390158265605, 0.0734390158265605, 0.0734390158265605, 0.0734390158265605, 0.0734390158265605, 0.0734390158265605, 0.0734390158265605, 0.10907859130960547, 0.07271906087307031, 0.10907859130960547, 0.07271906087307031, 0.07271906087307031, 0.07271906087307031, 0.07271906087307031, 0.07271906087307031, 0.07271906087307031, 0.07271906087307031, 0.07271906087307031, 0.07271906087307031, 0.07271906087307031, 0.07271906087307031, 0.10897321979494365, 0.10897321979494365, 0.0726488131966291, 0.0726488131966291, 0.10897321979494365, 0.0726488131966291, 0.0726488131966291, 0.0726488131966291, 0.0726488131966291, 0.0726488131966291, 0.0726488131966291, 0.0726488131966291, 0.0726488131966291, 0.03632440659831455, 0.07513524076495606, 0.1127028611474341, 0.07513524076495606, 0.07513524076495606, 0.07513524076495606, 0.07513524076495606, 0.07513524076495606, 0.07513524076495606, 0.07513524076495606, 0.07513524076495606, 0.07513524076495606, 0.07513524076495606, 0.07513524076495606, 0.03756762038247803, 0.07390275544670598, 0.07390275544670598, 0.07390275544670598, 0.07390275544670598, 0.07390275544670598, 0.07390275544670598, 0.07390275544670598, 0.07390275544670598, 0.07390275544670598, 0.07390275544670598, 0.07390275544670598, 0.07390275544670598, 0.07390275544670598, 0.07390275544670598, 0.06973374566706889, 0.06973374566706889, 0.10460061850060334, 0.10460061850060334, 0.06973374566706889, 0.06973374566706889, 0.06973374566706889, 0.06973374566706889, 0.06973374566706889, 0.06973374566706889, 0.06973374566706889, 0.06973374566706889, 0.06973374566706889, 0.03486687283353444, 0.09873431197704913, 0.09873431197704913, 0.09873431197704913, 0.09873431197704913, 0.06582287465136609, 0.06582287465136609, 0.06582287465136609, 0.06582287465136609, 0.06582287465136609, 0.06582287465136609, 0.06582287465136609, 0.06582287465136609, 0.06582287465136609, 0.06582287465136609, 0.11093236088067027, 0.07395490725378018, 0.07395490725378018, 0.07395490725378018, 0.07395490725378018, 0.07395490725378018, 0.07395490725378018, 0.07395490725378018, 0.07395490725378018, 0.07395490725378018, 0.07395490725378018, 0.07395490725378018, 0.07395490725378018, 0.03697745362689009, 0.11102444575159852, 0.07401629716773235, 0.07401629716773235, 0.07401629716773235, 0.07401629716773235, 0.07401629716773235, 0.037008148583866175, 0.07401629716773235, 0.07401629716773235, 0.07401629716773235, 0.07401629716773235, 0.07401629716773235, 0.037008148583866175, 0.07401629716773235, 0.10747432104443759, 0.0716495473629584, 0.0716495473629584, 0.10747432104443759, 0.0716495473629584, 0.0716495473629584, 0.0716495473629584, 0.0716495473629584, 0.0716495473629584, 0.0716495473629584, 0.0716495473629584, 0.0716495473629584, 0.0358247736814792, 0.0358247736814792, 0.073791283999477, 0.073791283999477, 0.073791283999477, 0.073791283999477, 0.1106869259992155, 0.073791283999477, 0.073791283999477, 0.073791283999477, 0.073791283999477, 0.073791283999477, 0.073791283999477, 0.073791283999477, 0.0368956419997385, 0.073791283999477, 0.10912373295645252, 0.07274915530430168, 0.07274915530430168, 0.07274915530430168, 0.07274915530430168, 0.07274915530430168, 0.07274915530430168, 0.07274915530430168, 0.07274915530430168, 0.07274915530430168, 0.07274915530430168, 0.07274915530430168, 0.07274915530430168, 0.07274915530430168, 0.10437682441159996, 0.0695845496077333, 0.0695845496077333, 0.0695845496077333, 0.10437682441159996, 0.0695845496077333, 0.0695845496077333, 0.0695845496077333, 0.0695845496077333, 0.0695845496077333, 0.0695845496077333, 0.0695845496077333, 0.0695845496077333, 0.03479227480386665, 0.10633344697319912, 0.10633344697319912, 0.07088896464879942, 0.07088896464879942, 0.07088896464879942, 0.07088896464879942, 0.07088896464879942, 0.07088896464879942, 0.07088896464879942, 0.07088896464879942, 0.07088896464879942, 0.07088896464879942, 0.07088896464879942, 0.07088896464879942, 0.07005510807475519, 0.10508266211213278, 0.07005510807475519, 0.07005510807475519, 0.07005510807475519, 0.07005510807475519, 0.10508266211213278, 0.07005510807475519, 0.07005510807475519, 0.07005510807475519, 0.07005510807475519, 0.07005510807475519, 0.07005510807475519, 0.07005510807475519, 0.07255319752033981, 0.07255319752033981, 0.07255319752033981, 0.07255319752033981, 0.07255319752033981, 0.07255319752033981, 0.07255319752033981, 0.07255319752033981, 0.07255319752033981, 0.036276598760169906, 0.07255319752033981, 0.07255319752033981, 0.07255319752033981, 0.07255319752033981, 0.10829412256674564, 0.07219608171116376, 0.10829412256674564, 0.07219608171116376, 0.07219608171116376, 0.07219608171116376, 0.07219608171116376, 0.07219608171116376, 0.07219608171116376, 0.07219608171116376, 0.07219608171116376, 0.07219608171116376, 0.07219608171116376, 0.07219608171116376, 0.0728940081059213, 0.0728940081059213, 0.0728940081059213, 0.0728940081059213, 0.0728940081059213, 0.0728940081059213, 0.0728940081059213, 0.0728940081059213, 0.03644700405296065, 0.0728940081059213, 0.0728940081059213, 0.0728940081059213, 0.0728940081059213, 0.03644700405296065, 0.10823117356071889, 0.07215411570714593, 0.07215411570714593, 0.07215411570714593, 0.07215411570714593, 0.07215411570714593, 0.07215411570714593, 0.07215411570714593, 0.07215411570714593, 0.07215411570714593, 0.07215411570714593, 0.07215411570714593, 0.07215411570714593, 0.036077057853572965, 0.07624200304528492, 0.11436300456792736, 0.07624200304528492, 0.07624200304528492, 0.07624200304528492, 0.07624200304528492, 0.07624200304528492, 0.07624200304528492, 0.03812100152264246, 0.07624200304528492, 0.07624200304528492, 0.03812100152264246, 0.03812100152264246, 0.03812100152264246, 0.10416445764495387, 0.10416445764495387, 0.06944297176330258, 0.06944297176330258, 0.06944297176330258, 0.06944297176330258, 0.06944297176330258, 0.06944297176330258, 0.06944297176330258, 0.06944297176330258, 0.06944297176330258, 0.06944297176330258, 0.03472148588165129, 0.06944297176330258, 0.07176072268248429, 0.10764108402372645, 0.10764108402372645, 0.07176072268248429, 0.07176072268248429, 0.07176072268248429, 0.07176072268248429, 0.07176072268248429, 0.07176072268248429, 0.07176072268248429, 0.035880361341242145, 0.07176072268248429, 0.07176072268248429, 0.07176072268248429, 0.10496450684995601, 0.06997633789997067, 0.06997633789997067, 0.06997633789997067, 0.06997633789997067, 0.06997633789997067, 0.06997633789997067, 0.06997633789997067, 0.06997633789997067, 0.06997633789997067, 0.06997633789997067, 0.06997633789997067, 0.06997633789997067, 0.06997633789997067, 0.10741056862355432, 0.0716070457490362, 0.0716070457490362, 0.0716070457490362, 0.0716070457490362, 0.0716070457490362, 0.0716070457490362, 0.0716070457490362, 0.0716070457490362, 0.0716070457490362, 0.0716070457490362, 0.0716070457490362, 0.0716070457490362, 0.0358035228745181, 0.06934272419434741, 0.1040140862915211, 0.06934272419434741, 0.1040140862915211, 0.06934272419434741, 0.06934272419434741, 0.06934272419434741, 0.06934272419434741, 0.06934272419434741, 0.06934272419434741, 0.06934272419434741, 0.06934272419434741, 0.06934272419434741, 0.06934272419434741, 0.11094139911695734, 0.07396093274463823, 0.07396093274463823, 0.07396093274463823, 0.07396093274463823, 0.07396093274463823, 0.07396093274463823, 0.07396093274463823, 0.03698046637231912, 0.07396093274463823, 0.03698046637231912, 0.07396093274463823, 0.07396093274463823, 0.07396093274463823, 0.07359574218531295, 0.07359574218531295, 0.07359574218531295, 0.07359574218531295, 0.07359574218531295, 0.07359574218531295, 0.07359574218531295, 0.07359574218531295, 0.07359574218531295, 0.07359574218531295, 0.07359574218531295, 0.07359574218531295, 0.07359574218531295, 0.07359574218531295, 0.10211155887251099, 0.10211155887251099, 0.068074372581674, 0.068074372581674, 0.068074372581674, 0.068074372581674, 0.068074372581674, 0.068074372581674, 0.068074372581674, 0.068074372581674, 0.068074372581674, 0.068074372581674, 0.068074372581674, 0.068074372581674, 0.07104636293520993, 0.10656954440281488, 0.07104636293520993, 0.10656954440281488, 0.07104636293520993, 0.07104636293520993, 0.07104636293520993, 0.07104636293520993, 0.07104636293520993, 0.07104636293520993, 0.07104636293520993, 0.07104636293520993, 0.07104636293520993, 0.07104636293520993, 0.1071588617465172, 0.0714392411643448, 0.1071588617465172, 0.0714392411643448, 0.0714392411643448, 0.0714392411643448, 0.0714392411643448, 0.1071588617465172, 0.0714392411643448, 0.0714392411643448, 0.0714392411643448, 0.0714392411643448, 0.0357196205821724, 0.0357196205821724, 0.10669823486197111, 0.07113215657464741, 0.07113215657464741, 0.07113215657464741, 0.07113215657464741, 0.07113215657464741, 0.07113215657464741, 0.07113215657464741, 0.07113215657464741, 0.07113215657464741, 0.07113215657464741, 0.07113215657464741, 0.07113215657464741, 0.07113215657464741, 0.0731711552783207, 0.0731711552783207, 0.0731711552783207, 0.0731711552783207, 0.0731711552783207, 0.0731711552783207, 0.0731711552783207, 0.0731711552783207, 0.0731711552783207, 0.0731711552783207, 0.0731711552783207, 0.0731711552783207, 0.0731711552783207, 0.0731711552783207, 0.10330365025989563, 0.06886910017326375, 0.10330365025989563, 0.06886910017326375, 0.06886910017326375, 0.06886910017326375, 0.06886910017326375, 0.06886910017326375, 0.06886910017326375, 0.06886910017326375, 0.06886910017326375, 0.06886910017326375, 0.06886910017326375, 0.06886910017326375, 0.09891700564407897, 0.06594467042938598, 0.06594467042938598, 0.09891700564407897, 0.06594467042938598, 0.06594467042938598, 0.06594467042938598, 0.09891700564407897, 0.06594467042938598, 0.06594467042938598, 0.06594467042938598, 0.06594467042938598, 0.06594467042938598, 0.06594467042938598, 0.1056529346977275, 0.070435289798485, 0.1056529346977275, 0.070435289798485, 0.070435289798485, 0.070435289798485, 0.070435289798485, 0.070435289798485, 0.070435289798485, 0.070435289798485, 0.070435289798485, 0.070435289798485, 0.070435289798485, 0.070435289798485, 0.10402701470849077, 0.10402701470849077, 0.06935134313899385, 0.10402701470849077, 0.10402701470849077, 0.06935134313899385, 0.06935134313899385, 0.06935134313899385, 0.06935134313899385, 0.06935134313899385, 0.06935134313899385, 0.06935134313899385, 0.06935134313899385, 0.06935134313899385, 0.07018244444691742, 0.10527366667037612, 0.10527366667037612, 0.07018244444691742, 0.07018244444691742, 0.07018244444691742, 0.07018244444691742, 0.07018244444691742, 0.07018244444691742, 0.07018244444691742, 0.07018244444691742, 0.03509122222345871, 0.07018244444691742, 0.07018244444691742, 0.07216276131431733, 0.07216276131431733, 0.07216276131431733, 0.108244141971476, 0.07216276131431733, 0.07216276131431733, 0.07216276131431733, 0.07216276131431733, 0.07216276131431733, 0.07216276131431733, 0.07216276131431733, 0.07216276131431733, 0.07216276131431733, 0.07216276131431733, 0.07095303948481765, 0.1064295592272265, 0.07095303948481765, 0.07095303948481765, 0.07095303948481765, 0.07095303948481765, 0.07095303948481765, 0.07095303948481765, 0.07095303948481765, 0.07095303948481765, 0.07095303948481765, 0.07095303948481765, 0.07095303948481765, 0.07095303948481765, 0.07477309735577158, 0.07477309735577158, 0.11215964603365737, 0.07477309735577158, 0.07477309735577158, 0.07477309735577158, 0.07477309735577158, 0.07477309735577158, 0.03738654867788579, 0.07477309735577158, 0.07477309735577158, 0.07477309735577158, 0.07477309735577158, 0.07477309735577158, 0.10937717674998279, 0.07291811783332186, 0.07291811783332186, 0.07291811783332186, 0.07291811783332186, 0.07291811783332186, 0.07291811783332186, 0.07291811783332186, 0.03645905891666093, 0.07291811783332186, 0.07291811783332186, 0.07291811783332186, 0.07291811783332186, 0.07291811783332186, 0.07124813825452327, 0.07124813825452327, 0.07124813825452327, 0.1068722073817849, 0.07124813825452327, 0.07124813825452327, 0.07124813825452327, 0.07124813825452327, 0.07124813825452327, 0.07124813825452327, 0.07124813825452327, 0.03562406912726163, 0.07124813825452327, 0.07124813825452327, 0.07087926811251472, 0.07087926811251472, 0.07087926811251472, 0.10631890216877207, 0.07087926811251472, 0.07087926811251472, 0.07087926811251472, 0.07087926811251472, 0.03543963405625736, 0.07087926811251472, 0.07087926811251472, 0.07087926811251472, 0.07087926811251472, 0.07087926811251472, 0.10520489371300386, 0.07013659580866924, 0.10520489371300386, 0.07013659580866924, 0.07013659580866924, 0.07013659580866924, 0.07013659580866924, 0.07013659580866924, 0.07013659580866924, 0.07013659580866924, 0.07013659580866924, 0.07013659580866924, 0.07013659580866924, 0.03506829790433462, 0.07393316764372587, 0.07393316764372587, 0.07393316764372587, 0.07393316764372587, 0.07393316764372587, 0.07393316764372587, 0.07393316764372587, 0.07393316764372587, 0.07393316764372587, 0.07393316764372587, 0.07393316764372587, 0.07393316764372587, 0.07393316764372587, 0.07393316764372587, 0.10493365052837385, 0.10493365052837385, 0.10493365052837385, 0.0699557670189159, 0.0699557670189159, 0.0699557670189159, 0.0699557670189159, 0.0699557670189159, 0.0699557670189159, 0.0699557670189159, 0.0699557670189159, 0.0699557670189159, 0.0699557670189159, 0.0699557670189159, 0.1068144114097627, 0.07120960760650846, 0.07120960760650846, 0.07120960760650846, 0.07120960760650846, 0.07120960760650846, 0.07120960760650846, 0.07120960760650846, 0.07120960760650846, 0.07120960760650846, 0.07120960760650846, 0.07120960760650846, 0.07120960760650846, 0.07120960760650846, 0.07111412293078821, 0.10667118439618233, 0.07111412293078821, 0.07111412293078821, 0.07111412293078821, 0.07111412293078821, 0.07111412293078821, 0.07111412293078821, 0.07111412293078821, 0.07111412293078821, 0.035557061465394106, 0.07111412293078821, 0.07111412293078821, 0.07111412293078821, 0.0720057584045167, 0.0720057584045167, 0.10800863760677505, 0.0720057584045167, 0.0720057584045167, 0.0720057584045167, 0.0720057584045167, 0.0720057584045167, 0.0720057584045167, 0.0720057584045167, 0.0720057584045167, 0.0720057584045167, 0.0720057584045167, 0.0720057584045167, 0.07231893165062916, 0.07231893165062916, 0.07231893165062916, 0.07231893165062916, 0.07231893165062916, 0.07231893165062916, 0.07231893165062916, 0.07231893165062916, 0.07231893165062916, 0.07231893165062916, 0.07231893165062916, 0.07231893165062916, 0.07231893165062916, 0.07231893165062916, 0.07374508280703941, 0.11061762421055912, 0.07374508280703941, 0.11061762421055912, 0.07374508280703941, 0.07374508280703941, 0.07374508280703941, 0.07374508280703941, 0.07374508280703941, 0.07374508280703941, 0.07374508280703941, 0.07374508280703941, 0.07374508280703941, 0.036872541403519705, 0.07354817826285996, 0.07354817826285996, 0.07354817826285996, 0.07354817826285996, 0.07354817826285996, 0.07354817826285996, 0.07354817826285996, 0.07354817826285996, 0.07354817826285996, 0.07354817826285996, 0.07354817826285996, 0.07354817826285996, 0.07354817826285996, 0.07354817826285996, 0.10549402986603187, 0.10549402986603187, 0.07032935324402124, 0.07032935324402124, 0.07032935324402124, 0.07032935324402124, 0.07032935324402124, 0.07032935324402124, 0.07032935324402124, 0.07032935324402124, 0.07032935324402124, 0.07032935324402124, 0.07032935324402124, 0.07032935324402124, 0.07242157275791308, 0.07242157275791308, 0.07242157275791308, 0.07242157275791308, 0.07242157275791308, 0.07242157275791308, 0.07242157275791308, 0.07242157275791308, 0.07242157275791308, 0.07242157275791308, 0.07242157275791308, 0.03621078637895654, 0.07242157275791308, 0.07242157275791308, 0.0738007366270427, 0.0738007366270427, 0.11070110494056405, 0.11070110494056405, 0.0738007366270427, 0.03690036831352135, 0.0738007366270427, 0.0738007366270427, 0.0738007366270427, 0.0738007366270427, 0.0738007366270427, 0.0738007366270427, 0.03690036831352135, 0.0738007366270427, 0.07490527066936116, 0.07490527066936116, 0.11235790600404175, 0.11235790600404175, 0.07490527066936116, 0.07490527066936116, 0.07490527066936116, 0.07490527066936116, 0.07490527066936116, 0.07490527066936116, 0.07490527066936116, 0.07490527066936116, 0.07490527066936116, 0.03745263533468058, 0.07244000534722327, 0.07244000534722327, 0.10866000802083489, 0.07244000534722327, 0.07244000534722327, 0.07244000534722327, 0.07244000534722327, 0.07244000534722327, 0.07244000534722327, 0.07244000534722327, 0.03622000267361163, 0.07244000534722327, 0.07244000534722327, 0.07244000534722327, 0.10321233471030127, 0.06880822314020085, 0.06880822314020085, 0.06880822314020085, 0.10321233471030127, 0.06880822314020085, 0.06880822314020085, 0.06880822314020085, 0.06880822314020085, 0.06880822314020085, 0.06880822314020085, 0.06880822314020085, 0.06880822314020085, 0.034404111570100426, 0.070753870268913, 0.10613080540336951, 0.10613080540336951, 0.070753870268913, 0.070753870268913, 0.070753870268913, 0.070753870268913, 0.070753870268913, 0.070753870268913, 0.070753870268913, 0.070753870268913, 0.070753870268913, 0.070753870268913, 0.070753870268913, 0.10459724322927098, 0.06973149548618066, 0.06973149548618066, 0.06973149548618066, 0.06973149548618066, 0.06973149548618066, 0.06973149548618066, 0.06973149548618066, 0.06973149548618066, 0.06973149548618066, 0.06973149548618066, 0.06973149548618066, 0.06973149548618066, 0.06973149548618066, 0.10338847083387087, 0.10338847083387087, 0.06892564722258059, 0.06892564722258059, 0.10338847083387087, 0.06892564722258059, 0.06892564722258059, 0.06892564722258059, 0.06892564722258059, 0.06892564722258059, 0.06892564722258059, 0.03446282361129029, 0.06892564722258059, 0.06892564722258059, 0.10858884206954436, 0.07239256137969624, 0.07239256137969624, 0.07239256137969624, 0.07239256137969624, 0.07239256137969624, 0.07239256137969624, 0.07239256137969624, 0.07239256137969624, 0.07239256137969624, 0.07239256137969624, 0.07239256137969624, 0.07239256137969624, 0.07239256137969624, 0.07105657931685483, 0.07105657931685483, 0.07105657931685483, 0.10658486897528224, 0.07105657931685483, 0.07105657931685483, 0.07105657931685483, 0.07105657931685483, 0.07105657931685483, 0.07105657931685483, 0.07105657931685483, 0.07105657931685483, 0.07105657931685483, 0.035528289658427414, 0.07185784312792176, 0.07185784312792176, 0.07185784312792176, 0.07185784312792176, 0.07185784312792176, 0.07185784312792176, 0.07185784312792176, 0.07185784312792176, 0.07185784312792176, 0.07185784312792176, 0.07185784312792176, 0.07185784312792176, 0.07185784312792176, 0.07185784312792176, 0.07426939875394997, 0.07426939875394997, 0.07426939875394997, 0.07426939875394997, 0.07426939875394997, 0.07426939875394997, 0.07426939875394997, 0.07426939875394997, 0.07426939875394997, 0.07426939875394997, 0.07426939875394997, 0.07426939875394997, 0.037134699376974986, 0.07426939875394997, 0.07097343363728623, 0.10646015045592934, 0.10646015045592934, 0.07097343363728623, 0.07097343363728623, 0.07097343363728623, 0.07097343363728623, 0.07097343363728623, 0.07097343363728623, 0.07097343363728623, 0.07097343363728623, 0.07097343363728623, 0.03548671681864311, 0.07097343363728623, 0.0730627193856084, 0.0730627193856084, 0.0730627193856084, 0.0730627193856084, 0.0730627193856084, 0.0730627193856084, 0.0730627193856084, 0.0730627193856084, 0.0730627193856084, 0.0730627193856084, 0.0730627193856084, 0.0730627193856084, 0.0730627193856084, 0.0365313596928042, 0.07589144163759765, 0.07589144163759765, 0.07589144163759765, 0.07589144163759765, 0.07589144163759765, 0.07589144163759765, 0.07589144163759765, 0.07589144163759765, 0.07589144163759765, 0.03794572081879882, 0.07589144163759765, 0.07589144163759765, 0.07589144163759765, 0.07589144163759765, 0.0707908956391786, 0.0707908956391786, 0.0707908956391786, 0.1061863434587679, 0.0707908956391786, 0.0707908956391786, 0.0707908956391786, 0.0707908956391786, 0.0707908956391786, 0.0707908956391786, 0.0707908956391786, 0.0707908956391786, 0.0707908956391786, 0.0707908956391786, 0.1057214058391214, 0.1057214058391214, 0.07048093722608094, 0.07048093722608094, 0.07048093722608094, 0.07048093722608094, 0.07048093722608094, 0.07048093722608094, 0.07048093722608094, 0.07048093722608094, 0.07048093722608094, 0.07048093722608094, 0.07048093722608094, 0.07048093722608094, 0.1077800854375204, 0.07185339029168027, 0.07185339029168027, 0.07185339029168027, 0.07185339029168027, 0.07185339029168027, 0.07185339029168027, 0.07185339029168027, 0.07185339029168027, 0.07185339029168027, 0.07185339029168027, 0.07185339029168027, 0.07185339029168027, 0.03592669514584013, 0.11171344369324537, 0.07447562912883025, 0.07447562912883025, 0.07447562912883025, 0.07447562912883025, 0.07447562912883025, 0.07447562912883025, 0.07447562912883025, 0.07447562912883025, 0.07447562912883025, 0.07447562912883025, 0.07447562912883025, 0.07447562912883025, 0.07447562912883025, 0.10555950926369974, 0.10555950926369974, 0.10555950926369974, 0.07037300617579982, 0.10555950926369974, 0.07037300617579982, 0.07037300617579982, 0.07037300617579982, 0.07037300617579982, 0.07037300617579982, 0.07037300617579982, 0.07037300617579982, 0.07037300617579982, 0.07037300617579982, 0.075368227424261, 0.11305234113639151, 0.075368227424261, 0.075368227424261, 0.075368227424261, 0.075368227424261, 0.075368227424261, 0.075368227424261, 0.075368227424261, 0.075368227424261, 0.075368227424261, 0.075368227424261, 0.075368227424261, 0.075368227424261, 0.07239722603022479, 0.10859583904533718, 0.07239722603022479, 0.07239722603022479, 0.07239722603022479, 0.07239722603022479, 0.07239722603022479, 0.07239722603022479, 0.07239722603022479, 0.07239722603022479, 0.07239722603022479, 0.07239722603022479, 0.07239722603022479, 0.07239722603022479, 0.10889319244121073, 0.07259546162747382, 0.07259546162747382, 0.07259546162747382, 0.10889319244121073, 0.07259546162747382, 0.07259546162747382, 0.07259546162747382, 0.07259546162747382, 0.07259546162747382, 0.07259546162747382, 0.07259546162747382, 0.07259546162747382, 0.03629773081373691, 0.07546240866068672, 0.11319361299103009, 0.07546240866068672, 0.07546240866068672, 0.07546240866068672, 0.07546240866068672, 0.07546240866068672, 0.07546240866068672, 0.07546240866068672, 0.07546240866068672, 0.07546240866068672, 0.07546240866068672, 0.07546240866068672, 0.07546240866068672, 0.10833151790188356, 0.07222101193458903, 0.07222101193458903, 0.07222101193458903, 0.10833151790188356, 0.07222101193458903, 0.07222101193458903, 0.07222101193458903, 0.07222101193458903, 0.07222101193458903, 0.07222101193458903, 0.07222101193458903, 0.07222101193458903, 0.07222101193458903, 0.10871579430205741, 0.07247719620137161, 0.07247719620137161, 0.07247719620137161, 0.07247719620137161, 0.07247719620137161, 0.07247719620137161, 0.07247719620137161, 0.07247719620137161, 0.07247719620137161, 0.07247719620137161, 0.07247719620137161, 0.036238598100685804, 0.07247719620137161, 0.07601700083468436, 0.07601700083468436, 0.07601700083468436, 0.07601700083468436, 0.07601700083468436, 0.07601700083468436, 0.07601700083468436, 0.07601700083468436, 0.07601700083468436, 0.07601700083468436, 0.07601700083468436, 0.03800850041734218, 0.07601700083468436, 0.07601700083468436, 0.07370064613336443, 0.07370064613336443, 0.07370064613336443, 0.07370064613336443, 0.07370064613336443, 0.07370064613336443, 0.07370064613336443, 0.07370064613336443, 0.07370064613336443, 0.07370064613336443, 0.07370064613336443, 0.07370064613336443, 0.07370064613336443, 0.03685032306668221, 0.10567158724334527, 0.07044772482889684, 0.10567158724334527, 0.07044772482889684, 0.07044772482889684, 0.07044772482889684, 0.07044772482889684, 0.07044772482889684, 0.07044772482889684, 0.07044772482889684, 0.07044772482889684, 0.07044772482889684, 0.07044772482889684, 0.03522386241444842, 0.10869425382847556, 0.07246283588565038, 0.07246283588565038, 0.07246283588565038, 0.07246283588565038, 0.07246283588565038, 0.07246283588565038, 0.07246283588565038, 0.07246283588565038, 0.07246283588565038, 0.07246283588565038, 0.07246283588565038, 0.07246283588565038, 0.07246283588565038, 0.10606323147530983, 0.07070882098353988, 0.07070882098353988, 0.07070882098353988, 0.07070882098353988, 0.07070882098353988, 0.07070882098353988, 0.07070882098353988, 0.07070882098353988, 0.03535441049176994, 0.07070882098353988, 0.07070882098353988, 0.07070882098353988, 0.07070882098353988, 0.07287845662223841, 0.07287845662223841, 0.07287845662223841, 0.07287845662223841, 0.07287845662223841, 0.07287845662223841, 0.07287845662223841, 0.07287845662223841, 0.07287845662223841, 0.07287845662223841, 0.07287845662223841, 0.036439228311119204, 0.07287845662223841, 0.036439228311119204, 0.07414671949077328, 0.11122007923615992, 0.07414671949077328, 0.07414671949077328, 0.07414671949077328, 0.07414671949077328, 0.07414671949077328, 0.07414671949077328, 0.07414671949077328, 0.07414671949077328, 0.07414671949077328, 0.07414671949077328, 0.07414671949077328, 0.07414671949077328, 0.11050595193926228, 0.11050595193926228, 0.07367063462617485, 0.07367063462617485, 0.07367063462617485, 0.07367063462617485, 0.07367063462617485, 0.07367063462617485, 0.07367063462617485, 0.07367063462617485, 0.07367063462617485, 0.07367063462617485, 0.07367063462617485, 0.07367063462617485, 0.10419898716467468, 0.10419898716467468, 0.10419898716467468, 0.06946599144311645, 0.06946599144311645, 0.10419898716467468, 0.06946599144311645, 0.06946599144311645, 0.06946599144311645, 0.06946599144311645, 0.034732995721558226, 0.06946599144311645, 0.034732995721558226, 0.06946599144311645, 0.1008551135761227, 0.1008551135761227, 0.0672367423840818, 0.1008551135761227, 0.1008551135761227, 0.0672367423840818, 0.0672367423840818, 0.0672367423840818, 0.0672367423840818, 0.0672367423840818, 0.0672367423840818, 0.0672367423840818, 0.0672367423840818, 0.0672367423840818, 0.07099745908921834, 0.1064961886338275, 0.07099745908921834, 0.07099745908921834, 0.07099745908921834, 0.07099745908921834, 0.07099745908921834, 0.07099745908921834, 0.07099745908921834, 0.07099745908921834, 0.07099745908921834, 0.07099745908921834, 0.03549872954460917, 0.07099745908921834, 0.07358315371773669, 0.11037473057660503, 0.07358315371773669, 0.07358315371773669, 0.07358315371773669, 0.07358315371773669, 0.07358315371773669, 0.07358315371773669, 0.07358315371773669, 0.07358315371773669, 0.07358315371773669, 0.07358315371773669, 0.07358315371773669, 0.07358315371773669, 0.10976977829542851, 0.10976977829542851, 0.07317985219695235, 0.07317985219695235, 0.07317985219695235, 0.07317985219695235, 0.07317985219695235, 0.07317985219695235, 0.03658992609847617, 0.07317985219695235, 0.03658992609847617, 0.07317985219695235, 0.07317985219695235, 0.03658992609847617, 0.10103523660169464, 0.10103523660169464, 0.10103523660169464, 0.10103523660169464, 0.10103523660169464, 0.06735682440112975, 0.06735682440112975, 0.06735682440112975, 0.06735682440112975, 0.06735682440112975, 0.06735682440112975, 0.033678412200564875, 0.06735682440112975, 0.06735682440112975, 0.11339240206213254, 0.07559493470808835, 0.07559493470808835, 0.07559493470808835, 0.07559493470808835, 0.07559493470808835, 0.07559493470808835, 0.07559493470808835, 0.07559493470808835, 0.03779746735404418, 0.03779746735404418, 0.07559493470808835, 0.07559493470808835, 0.07559493470808835, 0.10491621369046153, 0.10491621369046153, 0.10491621369046153, 0.06994414246030768, 0.06994414246030768, 0.06994414246030768, 0.06994414246030768, 0.06994414246030768, 0.06994414246030768, 0.06994414246030768, 0.06994414246030768, 0.06994414246030768, 0.06994414246030768, 0.06994414246030768, 0.10663813846401786, 0.07109209230934524, 0.07109209230934524, 0.10663813846401786, 0.07109209230934524, 0.03554604615467262, 0.03554604615467262, 0.07109209230934524, 0.07109209230934524, 0.07109209230934524, 0.07109209230934524, 0.07109209230934524, 0.07109209230934524, 0.07109209230934524, 0.07439231525348332, 0.07439231525348332, 0.11158847288022498, 0.07439231525348332, 0.11158847288022498, 0.07439231525348332, 0.07439231525348332, 0.03719615762674166, 0.07439231525348332, 0.07439231525348332, 0.03719615762674166, 0.07439231525348332, 0.07439231525348332, 0.07439231525348332, 0.10564386530879927, 0.10564386530879927, 0.07042924353919951, 0.07042924353919951, 0.10564386530879927, 0.07042924353919951, 0.07042924353919951, 0.07042924353919951, 0.07042924353919951, 0.07042924353919951, 0.07042924353919951, 0.07042924353919951, 0.07042924353919951, 0.07042924353919951, 0.07391869375226158, 0.07391869375226158, 0.07391869375226158, 0.07391869375226158, 0.07391869375226158, 0.07391869375226158, 0.03695934687613079, 0.07391869375226158, 0.07391869375226158, 0.07391869375226158, 0.07391869375226158, 0.07391869375226158, 0.07391869375226158, 0.07391869375226158, 0.07145945784805072, 0.07145945784805072, 0.10718918677207608, 0.07145945784805072, 0.07145945784805072, 0.07145945784805072, 0.07145945784805072, 0.07145945784805072, 0.07145945784805072, 0.07145945784805072, 0.07145945784805072, 0.07145945784805072, 0.07145945784805072, 0.07145945784805072, 0.07153444787007777, 0.07153444787007777, 0.07153444787007777, 0.10730167180511666, 0.07153444787007777, 0.07153444787007777, 0.07153444787007777, 0.07153444787007777, 0.07153444787007777, 0.07153444787007777, 0.07153444787007777, 0.03576722393503889, 0.07153444787007777, 0.07153444787007777, 0.0708078094281021, 0.0708078094281021, 0.0708078094281021, 0.10621171414215314, 0.0708078094281021, 0.0708078094281021, 0.0708078094281021, 0.0708078094281021, 0.0708078094281021, 0.10621171414215314, 0.0708078094281021, 0.03540390471405105, 0.0708078094281021, 0.0708078094281021, 0.07120555048175814, 0.10680832572263721, 0.10680832572263721, 0.10680832572263721, 0.07120555048175814, 0.07120555048175814, 0.07120555048175814, 0.07120555048175814, 0.07120555048175814, 0.07120555048175814, 0.07120555048175814, 0.03560277524087907, 0.07120555048175814, 0.03560277524087907, 0.07270021987666475, 0.07270021987666475, 0.07270021987666475, 0.07270021987666475, 0.07270021987666475, 0.07270021987666475, 0.07270021987666475, 0.07270021987666475, 0.07270021987666475, 0.07270021987666475, 0.07270021987666475, 0.07270021987666475, 0.07270021987666475, 0.036350109938332376, 0.07134108557456433, 0.07134108557456433, 0.07134108557456433, 0.07134108557456433, 0.07134108557456433, 0.07134108557456433, 0.10701162836184648, 0.07134108557456433, 0.07134108557456433, 0.07134108557456433, 0.07134108557456433, 0.07134108557456433, 0.03567054278728216, 0.03567054278728216, 0.10269674036754656, 0.10269674036754656, 0.10269674036754656, 0.06846449357836437, 0.06846449357836437, 0.06846449357836437, 0.06846449357836437, 0.06846449357836437, 0.06846449357836437, 0.06846449357836437, 0.06846449357836437, 0.06846449357836437, 0.06846449357836437, 0.034232246789182186, 0.10399077722002265, 0.10399077722002265, 0.06932718481334843, 0.06932718481334843, 0.06932718481334843, 0.06932718481334843, 0.06932718481334843, 0.06932718481334843, 0.06932718481334843, 0.06932718481334843, 0.06932718481334843, 0.06932718481334843, 0.06932718481334843, 0.06932718481334843, 0.10672110449747198, 0.10672110449747198, 0.07114740299831465, 0.07114740299831465, 0.07114740299831465, 0.07114740299831465, 0.07114740299831465, 0.07114740299831465, 0.07114740299831465, 0.07114740299831465, 0.07114740299831465, 0.07114740299831465, 0.07114740299831465, 0.035573701499157326, 0.11049819601890334, 0.11049819601890334, 0.07366546401260222, 0.07366546401260222, 0.07366546401260222, 0.07366546401260222, 0.07366546401260222, 0.07366546401260222, 0.07366546401260222, 0.07366546401260222, 0.07366546401260222, 0.07366546401260222, 0.07366546401260222, 0.03683273200630111, 0.07616831713046392, 0.11425247569569588, 0.07616831713046392, 0.07616831713046392, 0.11425247569569588, 0.07616831713046392, 0.07616831713046392, 0.07616831713046392, 0.07616831713046392, 0.07616831713046392, 0.07616831713046392, 0.07616831713046392, 0.03808415856523196, 0.03808415856523196, 0.10226914143565713, 0.06817942762377142, 0.06817942762377142, 0.06817942762377142, 0.06817942762377142, 0.06817942762377142, 0.10226914143565713, 0.06817942762377142, 0.06817942762377142, 0.06817942762377142, 0.06817942762377142, 0.06817942762377142, 0.06817942762377142, 0.03408971381188571, 0.07094856911133818, 0.07094856911133818, 0.10642285366700727, 0.10642285366700727, 0.07094856911133818, 0.07094856911133818, 0.07094856911133818, 0.07094856911133818, 0.07094856911133818, 0.07094856911133818, 0.07094856911133818, 0.07094856911133818, 0.07094856911133818, 0.07094856911133818, 0.0716646446339868, 0.0716646446339868, 0.0716646446339868, 0.0716646446339868, 0.1074969669509802, 0.0716646446339868, 0.0716646446339868, 0.0716646446339868, 0.0716646446339868, 0.0716646446339868, 0.0716646446339868, 0.0716646446339868, 0.0358323223169934, 0.0716646446339868, 0.07111798892863669, 0.10667698339295503, 0.07111798892863669, 0.07111798892863669, 0.07111798892863669, 0.07111798892863669, 0.07111798892863669, 0.07111798892863669, 0.07111798892863669, 0.07111798892863669, 0.07111798892863669, 0.07111798892863669, 0.07111798892863669, 0.07111798892863669, 0.07137429946599468, 0.10706144919899202, 0.10706144919899202, 0.07137429946599468, 0.10706144919899202, 0.07137429946599468, 0.07137429946599468, 0.07137429946599468, 0.03568714973299734, 0.07137429946599468, 0.07137429946599468, 0.07137429946599468, 0.07137429946599468, 0.07137429946599468, 0.07508306222660405, 0.07508306222660405, 0.07508306222660405, 0.07508306222660405, 0.07508306222660405, 0.07508306222660405, 0.07508306222660405, 0.07508306222660405, 0.07508306222660405, 0.07508306222660405, 0.07508306222660405, 0.07508306222660405, 0.07508306222660405, 0.07508306222660405, 0.07307293925722448, 0.10960940888583673, 0.07307293925722448, 0.07307293925722448, 0.07307293925722448, 0.07307293925722448, 0.07307293925722448, 0.07307293925722448, 0.07307293925722448, 0.03653646962861224, 0.07307293925722448, 0.07307293925722448, 0.07307293925722448, 0.07307293925722448, 0.13483072058119702, 0.06741536029059851, 0.10112304043589776, 0.10112304043589776, 0.06741536029059851, 0.06741536029059851, 0.06741536029059851, 0.06741536029059851, 0.06741536029059851, 0.06741536029059851, 0.06741536029059851, 0.06741536029059851, 0.06741536029059851, 0.06741536029059851, 0.07080459066153093, 0.07080459066153093, 0.1062068859922964, 0.07080459066153093, 0.1062068859922964, 0.07080459066153093, 0.07080459066153093, 0.07080459066153093, 0.07080459066153093, 0.07080459066153093, 0.07080459066153093, 0.07080459066153093, 0.07080459066153093, 0.07080459066153093, 0.07311267526819416, 0.07311267526819416, 0.10966901290229125, 0.07311267526819416, 0.07311267526819416, 0.07311267526819416, 0.07311267526819416, 0.07311267526819416, 0.07311267526819416, 0.07311267526819416, 0.07311267526819416, 0.03655633763409708, 0.07311267526819416, 0.07311267526819416, 0.07661530186121127, 0.07661530186121127, 0.07661530186121127, 0.07661530186121127, 0.07661530186121127, 0.07661530186121127, 0.03830765093060563, 0.07661530186121127, 0.07661530186121127, 0.07661530186121127, 0.07661530186121127, 0.03830765093060563, 0.07661530186121127, 0.07661530186121127, 0.07308162876847592, 0.07308162876847592, 0.07308162876847592, 0.07308162876847592, 0.07308162876847592, 0.07308162876847592, 0.07308162876847592, 0.07308162876847592, 0.07308162876847592, 0.07308162876847592, 0.07308162876847592, 0.07308162876847592, 0.07308162876847592, 0.07308162876847592, 0.07501978154265566, 0.07501978154265566, 0.07501978154265566, 0.07501978154265566, 0.07501978154265566, 0.07501978154265566, 0.07501978154265566, 0.07501978154265566, 0.07501978154265566, 0.07501978154265566, 0.07501978154265566, 0.07501978154265566, 0.07501978154265566, 0.07501978154265566, 0.07178185735474514, 0.1076727860321177, 0.07178185735474514, 0.07178185735474514, 0.07178185735474514, 0.07178185735474514, 0.07178185735474514, 0.07178185735474514, 0.07178185735474514, 0.07178185735474514, 0.07178185735474514, 0.07178185735474514, 0.07178185735474514, 0.07178185735474514, 0.07507643227363997, 0.07507643227363997, 0.07507643227363997, 0.11261464841045996, 0.07507643227363997, 0.07507643227363997, 0.07507643227363997, 0.07507643227363997, 0.07507643227363997, 0.07507643227363997, 0.07507643227363997, 0.07507643227363997, 0.07507643227363997, 0.07507643227363997, 0.10611964770445365, 0.07074643180296909, 0.07074643180296909, 0.10611964770445365, 0.07074643180296909, 0.07074643180296909, 0.07074643180296909, 0.07074643180296909, 0.07074643180296909, 0.07074643180296909, 0.07074643180296909, 0.07074643180296909, 0.07074643180296909, 0.035373215901484546, 0.06994544866758375, 0.10491817300137563, 0.06994544866758375, 0.10491817300137563, 0.06994544866758375, 0.06994544866758375, 0.06994544866758375, 0.06994544866758375, 0.06994544866758375, 0.06994544866758375, 0.06994544866758375, 0.06994544866758375, 0.06994544866758375, 0.03497272433379187, 0.10519150562163568, 0.07012767041442379, 0.10519150562163568, 0.07012767041442379, 0.10519150562163568, 0.07012767041442379, 0.07012767041442379, 0.07012767041442379, 0.07012767041442379, 0.07012767041442379, 0.07012767041442379, 0.07012767041442379, 0.07012767041442379, 0.07012767041442379, 0.10651264211952541, 0.10651264211952541, 0.0710084280796836, 0.0710084280796836, 0.0710084280796836, 0.0710084280796836, 0.0710084280796836, 0.0710084280796836, 0.0710084280796836, 0.0355042140398418, 0.0710084280796836, 0.0710084280796836, 0.0710084280796836, 0.0355042140398418, 0.1050837487478964, 0.1050837487478964, 0.0700558324985976, 0.0700558324985976, 0.0700558324985976, 0.0700558324985976, 0.0700558324985976, 0.0700558324985976, 0.0700558324985976, 0.0700558324985976, 0.0700558324985976, 0.0700558324985976, 0.0700558324985976, 0.0700558324985976, 0.10834096484528757, 0.07222730989685838, 0.07222730989685838, 0.07222730989685838, 0.07222730989685838, 0.07222730989685838, 0.07222730989685838, 0.07222730989685838, 0.07222730989685838, 0.07222730989685838, 0.07222730989685838, 0.07222730989685838, 0.07222730989685838, 0.07222730989685838, 0.07378739888779164, 0.07378739888779164, 0.11068109833168746, 0.07378739888779164, 0.07378739888779164, 0.07378739888779164, 0.07378739888779164, 0.07378739888779164, 0.07378739888779164, 0.07378739888779164, 0.07378739888779164, 0.07378739888779164, 0.07378739888779164, 0.03689369944389582, 0.10813364173043431, 0.0720890944869562, 0.0720890944869562, 0.0720890944869562, 0.0720890944869562, 0.0360445472434781, 0.10813364173043431, 0.0720890944869562, 0.0720890944869562, 0.0720890944869562, 0.0720890944869562, 0.0720890944869562, 0.0720890944869562, 0.0720890944869562, 0.11121144736360526, 0.07414096490907017, 0.07414096490907017, 0.07414096490907017, 0.07414096490907017, 0.07414096490907017, 0.07414096490907017, 0.07414096490907017, 0.07414096490907017, 0.07414096490907017, 0.07414096490907017, 0.07414096490907017, 0.07414096490907017, 0.037070482454535085, 0.06988552913879793, 0.06988552913879793, 0.06988552913879793, 0.06988552913879793, 0.06988552913879793, 0.06988552913879793, 0.06988552913879793, 0.06988552913879793, 0.06988552913879793, 0.06988552913879793, 0.06988552913879793, 0.06988552913879793, 0.06988552913879793, 0.06988552913879793, 0.11237829682462928, 0.07491886454975286, 0.07491886454975286, 0.07491886454975286, 0.07491886454975286, 0.07491886454975286, 0.07491886454975286, 0.07491886454975286, 0.07491886454975286, 0.03745943227487643, 0.07491886454975286, 0.07491886454975286, 0.07491886454975286, 0.07491886454975286, 0.0726049191405724, 0.0726049191405724, 0.10890737871085861, 0.0726049191405724, 0.0726049191405724, 0.0726049191405724, 0.0726049191405724, 0.0726049191405724, 0.0726049191405724, 0.0726049191405724, 0.0726049191405724, 0.0363024595702862, 0.0726049191405724, 0.0726049191405724, 0.0730971553783027, 0.10964573306745407, 0.0730971553783027, 0.0730971553783027, 0.0730971553783027, 0.0730971553783027, 0.0730971553783027, 0.0730971553783027, 0.0730971553783027, 0.0730971553783027, 0.0730971553783027, 0.03654857768915135, 0.03654857768915135, 0.03654857768915135, 0.07189503341321417, 0.10784255011982126, 0.07189503341321417, 0.10784255011982126, 0.07189503341321417, 0.07189503341321417, 0.07189503341321417, 0.07189503341321417, 0.07189503341321417, 0.07189503341321417, 0.07189503341321417, 0.07189503341321417, 0.07189503341321417, 0.07189503341321417, 0.07151361424070847, 0.07151361424070847, 0.07151361424070847, 0.07151361424070847, 0.1072704213610627, 0.07151361424070847, 0.07151361424070847, 0.07151361424070847, 0.07151361424070847, 0.07151361424070847, 0.035756807120354235, 0.07151361424070847, 0.07151361424070847, 0.035756807120354235, 0.07300562955661107, 0.1095084443349166, 0.07300562955661107, 0.07300562955661107, 0.07300562955661107, 0.07300562955661107, 0.07300562955661107, 0.07300562955661107, 0.07300562955661107, 0.07300562955661107, 0.07300562955661107, 0.07300562955661107, 0.07300562955661107, 0.07300562955661107, 0.06856297596597043, 0.10284446394895565, 0.06856297596597043, 0.06856297596597043, 0.06856297596597043, 0.06856297596597043, 0.06856297596597043, 0.06856297596597043, 0.06856297596597043, 0.06856297596597043, 0.06856297596597043, 0.06856297596597043, 0.06856297596597043, 0.06856297596597043, 0.07841731346505353, 0.07841731346505353, 0.07841731346505353, 0.07841731346505353, 0.07841731346505353, 0.07841731346505353, 0.07841731346505353, 0.07841731346505353, 0.07841731346505353, 0.07841731346505353, 0.07841731346505353, 0.07841731346505353, 0.07841731346505353, 0.07841731346505353, 0.11293044541150374, 0.07528696360766916, 0.07528696360766916, 0.07528696360766916, 0.07528696360766916, 0.07528696360766916, 0.07528696360766916, 0.07528696360766916, 0.07528696360766916, 0.07528696360766916, 0.03764348180383458, 0.07528696360766916, 0.07528696360766916, 0.07528696360766916, 0.07452068460492428, 0.07452068460492428, 0.07452068460492428, 0.07452068460492428, 0.07452068460492428, 0.07452068460492428, 0.07452068460492428, 0.07452068460492428, 0.07452068460492428, 0.07452068460492428, 0.07452068460492428, 0.07452068460492428, 0.07452068460492428, 0.07452068460492428, 0.07352599988905184, 0.07352599988905184, 0.07352599988905184, 0.07352599988905184, 0.07352599988905184, 0.11028899983357776, 0.07352599988905184, 0.07352599988905184, 0.07352599988905184, 0.07352599988905184, 0.07352599988905184, 0.07352599988905184, 0.07352599988905184, 0.07352599988905184, 0.07267275267002005, 0.07267275267002005, 0.07267275267002005, 0.07267275267002005, 0.07267275267002005, 0.07267275267002005, 0.07267275267002005, 0.07267275267002005, 0.07267275267002005, 0.07267275267002005, 0.07267275267002005, 0.07267275267002005, 0.07267275267002005, 0.03633637633501002, 0.07651870221034315, 0.07651870221034315, 0.07651870221034315, 0.07651870221034315, 0.07651870221034315, 0.07651870221034315, 0.07651870221034315, 0.03825935110517158, 0.07651870221034315, 0.07651870221034315, 0.03825935110517158, 0.07651870221034315, 0.07651870221034315, 0.07651870221034315, 0.10763396800958387, 0.07175597867305591, 0.07175597867305591, 0.07175597867305591, 0.07175597867305591, 0.07175597867305591, 0.07175597867305591, 0.07175597867305591, 0.07175597867305591, 0.07175597867305591, 0.07175597867305591, 0.07175597867305591, 0.07175597867305591, 0.07175597867305591, 0.07355356184587473, 0.11033034276881211, 0.07355356184587473, 0.11033034276881211, 0.07355356184587473, 0.07355356184587473, 0.03677678092293737, 0.07355356184587473, 0.07355356184587473, 0.07355356184587473, 0.07355356184587473, 0.07355356184587473, 0.07355356184587473, 0.07355356184587473, 0.0719453681867348, 0.10791805228010219, 0.0719453681867348, 0.0719453681867348, 0.0719453681867348, 0.0719453681867348, 0.0719453681867348, 0.0719453681867348, 0.0719453681867348, 0.0719453681867348, 0.0719453681867348, 0.0719453681867348, 0.0719453681867348, 0.0719453681867348, 0.07054620874717112, 0.07054620874717112, 0.07054620874717112, 0.07054620874717112, 0.07054620874717112, 0.07054620874717112, 0.07054620874717112, 0.07054620874717112, 0.07054620874717112, 0.07054620874717112, 0.07054620874717112, 0.07054620874717112, 0.07054620874717112, 0.07054620874717112, 0.10375490797431818, 0.06916993864954545, 0.10375490797431818, 0.06916993864954545, 0.06916993864954545, 0.06916993864954545, 0.06916993864954545, 0.06916993864954545, 0.06916993864954545, 0.06916993864954545, 0.06916993864954545, 0.06916993864954545, 0.06916993864954545, 0.03458496932477272, 0.07587145885941265, 0.11380718828911897, 0.07587145885941265, 0.07587145885941265, 0.07587145885941265, 0.07587145885941265, 0.07587145885941265, 0.07587145885941265, 0.07587145885941265, 0.07587145885941265, 0.07587145885941265, 0.07587145885941265, 0.07587145885941265, 0.07587145885941265, 0.10615976409620413, 0.07077317606413609, 0.10615976409620413, 0.07077317606413609, 0.07077317606413609, 0.07077317606413609, 0.07077317606413609, 0.07077317606413609, 0.07077317606413609, 0.07077317606413609, 0.035386588032068046, 0.07077317606413609, 0.07077317606413609, 0.07077317606413609, 0.11082839209008322, 0.11082839209008322, 0.07388559472672214, 0.07388559472672214, 0.07388559472672214, 0.07388559472672214, 0.07388559472672214, 0.03694279736336107, 0.03694279736336107, 0.07388559472672214, 0.07388559472672214, 0.03694279736336107, 0.07388559472672214, 0.07388559472672214, 0.07047668098811803, 0.07047668098811803, 0.10571502148217704, 0.10571502148217704, 0.07047668098811803, 0.07047668098811803, 0.07047668098811803, 0.07047668098811803, 0.07047668098811803, 0.07047668098811803, 0.07047668098811803, 0.07047668098811803, 0.07047668098811803, 0.07047668098811803, 0.07223333342463366, 0.07223333342463366, 0.1083500001369505, 0.07223333342463366, 0.07223333342463366, 0.07223333342463366, 0.07223333342463366, 0.07223333342463366, 0.07223333342463366, 0.07223333342463366, 0.07223333342463366, 0.07223333342463366, 0.07223333342463366, 0.07223333342463366, 0.11183347107192437, 0.07455564738128291, 0.11183347107192437, 0.07455564738128291, 0.07455564738128291, 0.07455564738128291, 0.07455564738128291, 0.07455564738128291, 0.07455564738128291, 0.07455564738128291, 0.07455564738128291, 0.037277823690641455, 0.037277823690641455, 0.07455564738128291, 0.10293722284235209, 0.10293722284235209, 0.10293722284235209, 0.10293722284235209, 0.06862481522823473, 0.06862481522823473, 0.06862481522823473, 0.06862481522823473, 0.06862481522823473, 0.06862481522823473, 0.06862481522823473, 0.06862481522823473, 0.06862481522823473, 0.034312407614117364, 0.07830621131894512, 0.07830621131894512, 0.07830621131894512, 0.07830621131894512, 0.07830621131894512, 0.07830621131894512, 0.07830621131894512, 0.07830621131894512, 0.07830621131894512, 0.07830621131894512, 0.07830621131894512, 0.07830621131894512, 0.07830621131894512, 0.03915310565947256, 0.07406292997822182, 0.11109439496733274, 0.07406292997822182, 0.07406292997822182, 0.11109439496733274, 0.07406292997822182, 0.07406292997822182, 0.07406292997822182, 0.07406292997822182, 0.07406292997822182, 0.07406292997822182, 0.07406292997822182, 0.07406292997822182, 0.07406292997822182, 0.07024732282516175, 0.1053709842377426, 0.07024732282516175, 0.07024732282516175, 0.07024732282516175, 0.07024732282516175, 0.07024732282516175, 0.07024732282516175, 0.07024732282516175, 0.07024732282516175, 0.07024732282516175, 0.07024732282516175, 0.07024732282516175, 0.03512366141258087, 0.0713313500908835, 0.0713313500908835, 0.10699702513632524, 0.0713313500908835, 0.0713313500908835, 0.0713313500908835, 0.0713313500908835, 0.0713313500908835, 0.0713313500908835, 0.0713313500908835, 0.0713313500908835, 0.0713313500908835, 0.0713313500908835, 0.0713313500908835, 0.07379220509342198, 0.07379220509342198, 0.07379220509342198, 0.07379220509342198, 0.07379220509342198, 0.07379220509342198, 0.07379220509342198, 0.07379220509342198, 0.07379220509342198, 0.07379220509342198, 0.07379220509342198, 0.07379220509342198, 0.03689610254671099, 0.07379220509342198, 0.06993540052400656, 0.06993540052400656, 0.10490310078600984, 0.10490310078600984, 0.06993540052400656, 0.06993540052400656, 0.06993540052400656, 0.06993540052400656, 0.06993540052400656, 0.06993540052400656, 0.06993540052400656, 0.06993540052400656, 0.06993540052400656, 0.06993540052400656, 0.07092321213922718, 0.07092321213922718, 0.07092321213922718, 0.07092321213922718, 0.07092321213922718, 0.07092321213922718, 0.07092321213922718, 0.07092321213922718, 0.07092321213922718, 0.07092321213922718, 0.07092321213922718, 0.03546160606961359, 0.07092321213922718, 0.07092321213922718, 0.10407501486369412, 0.06938334324246274, 0.10407501486369412, 0.06938334324246274, 0.06938334324246274, 0.06938334324246274, 0.06938334324246274, 0.06938334324246274, 0.06938334324246274, 0.06938334324246274, 0.06938334324246274, 0.06938334324246274, 0.06938334324246274, 0.06938334324246274, 0.10699305534377547, 0.07132870356251698, 0.07132870356251698, 0.07132870356251698, 0.07132870356251698, 0.07132870356251698, 0.07132870356251698, 0.07132870356251698, 0.07132870356251698, 0.07132870356251698, 0.07132870356251698, 0.07132870356251698, 0.07132870356251698, 0.07132870356251698, 0.07340342767349613, 0.11010514151024418, 0.07340342767349613, 0.07340342767349613, 0.07340342767349613, 0.07340342767349613, 0.07340342767349613, 0.07340342767349613, 0.07340342767349613, 0.07340342767349613, 0.07340342767349613, 0.07340342767349613, 0.07340342767349613, 0.07340342767349613, 0.07276291711800331, 0.07276291711800331, 0.07276291711800331, 0.10914437567700495, 0.07276291711800331, 0.07276291711800331, 0.07276291711800331, 0.07276291711800331, 0.07276291711800331, 0.07276291711800331, 0.07276291711800331, 0.07276291711800331, 0.07276291711800331, 0.036381458559001656, 0.06829051371794506, 0.10243577057691758, 0.10243577057691758, 0.06829051371794506, 0.06829051371794506, 0.06829051371794506, 0.06829051371794506, 0.06829051371794506, 0.06829051371794506, 0.06829051371794506, 0.06829051371794506, 0.06829051371794506, 0.06829051371794506, 0.06829051371794506, 0.07416390639870157, 0.07416390639870157, 0.07416390639870157, 0.07416390639870157, 0.07416390639870157, 0.07416390639870157, 0.07416390639870157, 0.07416390639870157, 0.07416390639870157, 0.07416390639870157, 0.07416390639870157, 0.07416390639870157, 0.07416390639870157, 0.07416390639870157, 0.07168851550850293, 0.10753277326275439, 0.10753277326275439, 0.07168851550850293, 0.07168851550850293, 0.07168851550850293, 0.07168851550850293, 0.07168851550850293, 0.07168851550850293, 0.07168851550850293, 0.07168851550850293, 0.07168851550850293, 0.07168851550850293, 0.035844257754251464, 0.110736601339593, 0.073824400893062, 0.073824400893062, 0.110736601339593, 0.073824400893062, 0.073824400893062, 0.073824400893062, 0.073824400893062, 0.073824400893062, 0.073824400893062, 0.073824400893062, 0.036912200446531, 0.073824400893062, 0.036912200446531, 0.10542177775449983, 0.07028118516966655, 0.07028118516966655, 0.07028118516966655, 0.07028118516966655, 0.07028118516966655, 0.07028118516966655, 0.07028118516966655, 0.07028118516966655, 0.07028118516966655, 0.07028118516966655, 0.07028118516966655, 0.07028118516966655, 0.07028118516966655, 0.07730515582603166, 0.07730515582603166, 0.07730515582603166, 0.1159577337390475, 0.07730515582603166, 0.07730515582603166, 0.07730515582603166, 0.07730515582603166, 0.07730515582603166, 0.07730515582603166, 0.03865257791301583, 0.07730515582603166, 0.07730515582603166, 0.07730515582603166, 0.07530329869116913, 0.07530329869116913, 0.07530329869116913, 0.07530329869116913, 0.07530329869116913, 0.07530329869116913, 0.07530329869116913, 0.07530329869116913, 0.03765164934558456, 0.07530329869116913, 0.07530329869116913, 0.07530329869116913, 0.07530329869116913, 0.03765164934558456, 0.07460849277361054, 0.07460849277361054, 0.07460849277361054, 0.07460849277361054, 0.07460849277361054, 0.07460849277361054, 0.07460849277361054, 0.07460849277361054, 0.07460849277361054, 0.07460849277361054, 0.07460849277361054, 0.07460849277361054, 0.03730424638680527, 0.07460849277361054, 0.0751319048240588, 0.0751319048240588, 0.0751319048240588, 0.0751319048240588, 0.0751319048240588, 0.0751319048240588, 0.0751319048240588, 0.0751319048240588, 0.0751319048240588, 0.0751319048240588, 0.0751319048240588, 0.0751319048240588, 0.0751319048240588, 0.0751319048240588, 0.07486289102800567, 0.07486289102800567, 0.07486289102800567, 0.07486289102800567, 0.07486289102800567, 0.07486289102800567, 0.07486289102800567, 0.07486289102800567, 0.07486289102800567, 0.07486289102800567, 0.07486289102800567, 0.037431445514002834, 0.07486289102800567, 0.07486289102800567, 0.11125136723822676, 0.07416757815881785, 0.07416757815881785, 0.07416757815881785, 0.07416757815881785, 0.07416757815881785, 0.07416757815881785, 0.07416757815881785, 0.03708378907940892, 0.03708378907940892, 0.07416757815881785, 0.07416757815881785, 0.07416757815881785, 0.07416757815881785, 0.07266669489494437, 0.07266669489494437, 0.07266669489494437, 0.07266669489494437, 0.07266669489494437, 0.07266669489494437, 0.07266669489494437, 0.07266669489494437, 0.07266669489494437, 0.07266669489494437, 0.07266669489494437, 0.07266669489494437, 0.07266669489494437, 0.07266669489494437, 0.07254690353087642, 0.10882035529631462, 0.07254690353087642, 0.07254690353087642, 0.07254690353087642, 0.07254690353087642, 0.07254690353087642, 0.07254690353087642, 0.07254690353087642, 0.07254690353087642, 0.07254690353087642, 0.03627345176543821, 0.07254690353087642, 0.07254690353087642, 0.07515832379935927, 0.07515832379935927, 0.07515832379935927, 0.11273748569903891, 0.07515832379935927, 0.07515832379935927, 0.07515832379935927, 0.07515832379935927, 0.07515832379935927, 0.07515832379935927, 0.07515832379935927, 0.07515832379935927, 0.07515832379935927, 0.07515832379935927, 0.07658984263709387, 0.07658984263709387, 0.07658984263709387, 0.07658984263709387, 0.07658984263709387, 0.07658984263709387, 0.07658984263709387, 0.07658984263709387, 0.07658984263709387, 0.07658984263709387, 0.07658984263709387, 0.07658984263709387, 0.07658984263709387, 0.038294921318546934, 0.10658825381899485, 0.10658825381899485, 0.0710588358793299, 0.0710588358793299, 0.0710588358793299, 0.0710588358793299, 0.0710588358793299, 0.0710588358793299, 0.0710588358793299, 0.0710588358793299, 0.03552941793966495, 0.0710588358793299, 0.0710588358793299, 0.03552941793966495, 0.07306885909661558, 0.10960328864492336, 0.07306885909661558, 0.07306885909661558, 0.07306885909661558, 0.07306885909661558, 0.07306885909661558, 0.07306885909661558, 0.07306885909661558, 0.07306885909661558, 0.07306885909661558, 0.03653442954830779, 0.07306885909661558, 0.03653442954830779, 0.07015831633592136, 0.07015831633592136, 0.10523747450388203, 0.10523747450388203, 0.07015831633592136, 0.07015831633592136, 0.07015831633592136, 0.07015831633592136, 0.07015831633592136, 0.07015831633592136, 0.07015831633592136, 0.07015831633592136, 0.07015831633592136, 0.07015831633592136, 0.10391422046521016, 0.06927614697680679, 0.06927614697680679, 0.06927614697680679, 0.06927614697680679, 0.06927614697680679, 0.06927614697680679, 0.06927614697680679, 0.06927614697680679, 0.06927614697680679, 0.06927614697680679, 0.06927614697680679, 0.06927614697680679, 0.06927614697680679, 0.07617255823258631, 0.07617255823258631, 0.11425883734887948, 0.07617255823258631, 0.07617255823258631, 0.07617255823258631, 0.07617255823258631, 0.07617255823258631, 0.07617255823258631, 0.07617255823258631, 0.07617255823258631, 0.07617255823258631, 0.038086279116293156, 0.038086279116293156, 0.07260793081580179, 0.10891189622370269, 0.10891189622370269, 0.07260793081580179, 0.10891189622370269, 0.07260793081580179, 0.07260793081580179, 0.07260793081580179, 0.07260793081580179, 0.07260793081580179, 0.07260793081580179, 0.036303965407900894, 0.036303965407900894, 0.036303965407900894, 0.07392987050490347, 0.07392987050490347, 0.07392987050490347, 0.07392987050490347, 0.07392987050490347, 0.03696493525245174, 0.07392987050490347, 0.07392987050490347, 0.07392987050490347, 0.07392987050490347, 0.07392987050490347, 0.07392987050490347, 0.07392987050490347, 0.07392987050490347, 0.10691097749634922, 0.07127398499756614, 0.07127398499756614, 0.07127398499756614, 0.10691097749634922, 0.07127398499756614, 0.07127398499756614, 0.07127398499756614, 0.07127398499756614, 0.07127398499756614, 0.07127398499756614, 0.07127398499756614, 0.07127398499756614, 0.07127398499756614, 0.07180809108005672, 0.07180809108005672, 0.07180809108005672, 0.07180809108005672, 0.07180809108005672, 0.07180809108005672, 0.07180809108005672, 0.07180809108005672, 0.07180809108005672, 0.07180809108005672, 0.07180809108005672, 0.07180809108005672, 0.07180809108005672, 0.07180809108005672, 0.07209809987517461, 0.07209809987517461, 0.07209809987517461, 0.07209809987517461, 0.07209809987517461, 0.07209809987517461, 0.07209809987517461, 0.07209809987517461, 0.07209809987517461, 0.07209809987517461, 0.07209809987517461, 0.07209809987517461, 0.036049049937587306, 0.036049049937587306, 0.10608834142387083, 0.07072556094924722, 0.07072556094924722, 0.10608834142387083, 0.07072556094924722, 0.07072556094924722, 0.07072556094924722, 0.07072556094924722, 0.07072556094924722, 0.07072556094924722, 0.07072556094924722, 0.07072556094924722, 0.07072556094924722, 0.03536278047462361, 0.10495187089375944, 0.10495187089375944, 0.10495187089375944, 0.06996791392917297, 0.06996791392917297, 0.06996791392917297, 0.06996791392917297, 0.06996791392917297, 0.06996791392917297, 0.06996791392917297, 0.06996791392917297, 0.06996791392917297, 0.06996791392917297, 0.06996791392917297, 0.10936370701383916, 0.10936370701383916, 0.0729091380092261, 0.0729091380092261, 0.0729091380092261, 0.0729091380092261, 0.0729091380092261, 0.0729091380092261, 0.0729091380092261, 0.0729091380092261, 0.0729091380092261, 0.0729091380092261, 0.03645456900461305, 0.0729091380092261, 0.10390780719830874, 0.10390780719830874, 0.10390780719830874, 0.06927187146553916, 0.06927187146553916, 0.06927187146553916, 0.06927187146553916, 0.06927187146553916, 0.06927187146553916, 0.06927187146553916, 0.06927187146553916, 0.06927187146553916, 0.06927187146553916, 0.06927187146553916, 0.07082491717725124, 0.07082491717725124, 0.07082491717725124, 0.07082491717725124, 0.07082491717725124, 0.07082491717725124, 0.07082491717725124, 0.07082491717725124, 0.07082491717725124, 0.07082491717725124, 0.07082491717725124, 0.07082491717725124, 0.07082491717725124, 0.07082491717725124, 0.07275481490784005, 0.10913222236176008, 0.07275481490784005, 0.07275481490784005, 0.10913222236176008, 0.07275481490784005, 0.07275481490784005, 0.07275481490784005, 0.07275481490784005, 0.07275481490784005, 0.07275481490784005, 0.07275481490784005, 0.07275481490784005, 0.03637740745392003, 0.11509707950950553, 0.07673138633967035, 0.07673138633967035, 0.07673138633967035, 0.07673138633967035, 0.07673138633967035, 0.07673138633967035, 0.07673138633967035, 0.07673138633967035, 0.03836569316983517, 0.07673138633967035, 0.03836569316983517, 0.07673138633967035, 0.03836569316983517, 0.11262696572371661, 0.07508464381581108, 0.07508464381581108, 0.07508464381581108, 0.07508464381581108, 0.07508464381581108, 0.07508464381581108, 0.07508464381581108, 0.07508464381581108, 0.07508464381581108, 0.07508464381581108, 0.07508464381581108, 0.07508464381581108, 0.03754232190790554, 0.10928297495074946, 0.10928297495074946, 0.07285531663383298, 0.07285531663383298, 0.07285531663383298, 0.07285531663383298, 0.07285531663383298, 0.07285531663383298, 0.07285531663383298, 0.07285531663383298, 0.07285531663383298, 0.03642765831691649, 0.07285531663383298, 0.07285531663383298, 0.07063764466623751, 0.10595646699935625, 0.10595646699935625, 0.07063764466623751, 0.07063764466623751, 0.07063764466623751, 0.07063764466623751, 0.07063764466623751, 0.07063764466623751, 0.07063764466623751, 0.07063764466623751, 0.07063764466623751, 0.035318822333118755, 0.07063764466623751, 0.06994116868340612, 0.06994116868340612, 0.10491175302510919, 0.10491175302510919, 0.06994116868340612, 0.06994116868340612, 0.06994116868340612, 0.06994116868340612, 0.06994116868340612, 0.06994116868340612, 0.06994116868340612, 0.06994116868340612, 0.06994116868340612, 0.06994116868340612, 0.07651685096070286, 0.07651685096070286, 0.07651685096070286, 0.07651685096070286, 0.07651685096070286, 0.07651685096070286, 0.07651685096070286, 0.07651685096070286, 0.03825842548035143, 0.07651685096070286, 0.07651685096070286, 0.07651685096070286, 0.07651685096070286, 0.03825842548035143, 0.07141485740668267, 0.07141485740668267, 0.07141485740668267, 0.07141485740668267, 0.07141485740668267, 0.07141485740668267, 0.07141485740668267, 0.07141485740668267, 0.07141485740668267, 0.07141485740668267, 0.07141485740668267, 0.07141485740668267, 0.035707428703341336, 0.07141485740668267, 0.11011443861972829, 0.07340962574648553, 0.07340962574648553, 0.07340962574648553, 0.07340962574648553, 0.07340962574648553, 0.07340962574648553, 0.07340962574648553, 0.07340962574648553, 0.07340962574648553, 0.07340962574648553, 0.07340962574648553, 0.036704812873242766, 0.07340962574648553, 0.07087548148625866, 0.07087548148625866, 0.07087548148625866, 0.07087548148625866, 0.07087548148625866, 0.07087548148625866, 0.07087548148625866, 0.07087548148625866, 0.07087548148625866, 0.07087548148625866, 0.07087548148625866, 0.07087548148625866, 0.07087548148625866, 0.07087548148625866, 0.07143512127608949, 0.10715268191413424, 0.07143512127608949, 0.07143512127608949, 0.07143512127608949, 0.07143512127608949, 0.07143512127608949, 0.07143512127608949, 0.07143512127608949, 0.07143512127608949, 0.07143512127608949, 0.07143512127608949, 0.07143512127608949, 0.07143512127608949, 0.07171398442925411, 0.07171398442925411, 0.07171398442925411, 0.07171398442925411, 0.07171398442925411, 0.07171398442925411, 0.07171398442925411, 0.07171398442925411, 0.07171398442925411, 0.07171398442925411, 0.07171398442925411, 0.07171398442925411, 0.07171398442925411, 0.07171398442925411, 0.10986010099007741, 0.10986010099007741, 0.07324006732671827, 0.07324006732671827, 0.07324006732671827, 0.07324006732671827, 0.07324006732671827, 0.07324006732671827, 0.07324006732671827, 0.07324006732671827, 0.036620033663359135, 0.07324006732671827, 0.07324006732671827, 0.036620033663359135, 0.10774191889920613, 0.07182794593280409, 0.07182794593280409, 0.07182794593280409, 0.07182794593280409, 0.07182794593280409, 0.07182794593280409, 0.07182794593280409, 0.07182794593280409, 0.07182794593280409, 0.07182794593280409, 0.035913972966402044, 0.07182794593280409, 0.035913972966402044, 0.10871354809558219, 0.07247569873038812, 0.07247569873038812, 0.07247569873038812, 0.10871354809558219, 0.07247569873038812, 0.07247569873038812, 0.07247569873038812, 0.07247569873038812, 0.07247569873038812, 0.07247569873038812, 0.07247569873038812, 0.07247569873038812, 0.07247569873038812, 0.10813787185529, 0.10813787185529, 0.07209191457019333, 0.07209191457019333, 0.07209191457019333, 0.07209191457019333, 0.07209191457019333, 0.07209191457019333, 0.07209191457019333, 0.07209191457019333, 0.07209191457019333, 0.07209191457019333, 0.07209191457019333, 0.036045957285096665, 0.10479615448190788, 0.10479615448190788, 0.06986410298793859, 0.10479615448190788, 0.06986410298793859, 0.06986410298793859, 0.06986410298793859, 0.06986410298793859, 0.06986410298793859, 0.06986410298793859, 0.06986410298793859, 0.06986410298793859, 0.06986410298793859, 0.06986410298793859, 0.07351231930229418, 0.11026847895344127, 0.07351231930229418, 0.07351231930229418, 0.07351231930229418, 0.07351231930229418, 0.11026847895344127, 0.07351231930229418, 0.07351231930229418, 0.07351231930229418, 0.07351231930229418, 0.07351231930229418, 0.07351231930229418, 0.03675615965114709, 0.1035324568747485, 0.1035324568747485, 0.1035324568747485, 0.069021637916499, 0.069021637916499, 0.069021637916499, 0.069021637916499, 0.069021637916499, 0.069021637916499, 0.069021637916499, 0.069021637916499, 0.069021637916499, 0.069021637916499, 0.069021637916499, 0.07461606036794337, 0.07461606036794337, 0.07461606036794337, 0.07461606036794337, 0.07461606036794337, 0.07461606036794337, 0.07461606036794337, 0.07461606036794337, 0.07461606036794337, 0.037308030183971684, 0.07461606036794337, 0.037308030183971684, 0.07461606036794337, 0.07461606036794337, 0.07496655398785664, 0.07496655398785664, 0.07496655398785664, 0.07496655398785664, 0.07496655398785664, 0.07496655398785664, 0.07496655398785664, 0.07496655398785664, 0.07496655398785664, 0.07496655398785664, 0.07496655398785664, 0.07496655398785664, 0.07496655398785664, 0.03748327699392832, 0.07368231194649608, 0.11052346791974411, 0.07368231194649608, 0.07368231194649608, 0.07368231194649608, 0.07368231194649608, 0.03684115597324804, 0.07368231194649608, 0.07368231194649608, 0.07368231194649608, 0.07368231194649608, 0.07368231194649608, 0.07368231194649608, 0.07368231194649608, 0.07223567509244795, 0.10835351263867193, 0.10835351263867193, 0.10835351263867193, 0.07223567509244795, 0.07223567509244795, 0.07223567509244795, 0.07223567509244795, 0.07223567509244795, 0.07223567509244795, 0.07223567509244795, 0.07223567509244795, 0.036117837546223976, 0.07223567509244795, 0.07259887545026354, 0.1088983131753953, 0.1088983131753953, 0.07259887545026354, 0.07259887545026354, 0.07259887545026354, 0.07259887545026354, 0.07259887545026354, 0.07259887545026354, 0.07259887545026354, 0.07259887545026354, 0.07259887545026354, 0.07259887545026354, 0.07259887545026354, 0.103487493615831, 0.103487493615831, 0.068991662410554, 0.068991662410554, 0.068991662410554, 0.068991662410554, 0.068991662410554, 0.068991662410554, 0.068991662410554, 0.068991662410554, 0.068991662410554, 0.068991662410554, 0.068991662410554, 0.068991662410554, 0.07360652195211159, 0.11040978292816739, 0.07360652195211159, 0.07360652195211159, 0.07360652195211159, 0.036803260976055796, 0.07360652195211159, 0.036803260976055796, 0.07360652195211159, 0.07360652195211159, 0.07360652195211159, 0.07360652195211159, 0.07360652195211159, 0.07360652195211159, 0.07057124407839412, 0.07057124407839412, 0.07057124407839412, 0.07057124407839412, 0.07057124407839412, 0.07057124407839412, 0.07057124407839412, 0.07057124407839412, 0.07057124407839412, 0.07057124407839412, 0.07057124407839412, 0.07057124407839412, 0.07057124407839412, 0.03528562203919706, 0.07197319256654361, 0.07197319256654361, 0.07197319256654361, 0.10795978884981541, 0.07197319256654361, 0.07197319256654361, 0.07197319256654361, 0.07197319256654361, 0.07197319256654361, 0.07197319256654361, 0.07197319256654361, 0.07197319256654361, 0.07197319256654361, 0.07197319256654361, 0.07084357203293072, 0.10626535804939609, 0.07084357203293072, 0.07084357203293072, 0.07084357203293072, 0.07084357203293072, 0.07084357203293072, 0.07084357203293072, 0.07084357203293072, 0.07084357203293072, 0.07084357203293072, 0.07084357203293072, 0.07084357203293072, 0.07084357203293072, 0.07484628463586436, 0.07484628463586436, 0.11226942695379653, 0.07484628463586436, 0.07484628463586436, 0.07484628463586436, 0.07484628463586436, 0.07484628463586436, 0.07484628463586436, 0.07484628463586436, 0.03742314231793218, 0.07484628463586436, 0.07484628463586436, 0.03742314231793218, 0.10536167516244194, 0.0702411167749613, 0.0702411167749613, 0.0702411167749613, 0.0702411167749613, 0.0702411167749613, 0.0702411167749613, 0.0702411167749613, 0.0702411167749613, 0.0702411167749613, 0.0702411167749613, 0.0702411167749613, 0.0702411167749613, 0.0702411167749613, 0.07113259335601572, 0.07113259335601572, 0.1066988900340236, 0.07113259335601572, 0.07113259335601572, 0.07113259335601572, 0.07113259335601572, 0.07113259335601572, 0.07113259335601572, 0.07113259335601572, 0.07113259335601572, 0.07113259335601572, 0.07113259335601572, 0.07113259335601572, 0.10604543205136098, 0.10604543205136098, 0.07069695470090731, 0.10604543205136098, 0.07069695470090731, 0.07069695470090731, 0.07069695470090731, 0.07069695470090731, 0.07069695470090731, 0.07069695470090731, 0.07069695470090731, 0.07069695470090731, 0.07069695470090731, 0.07069695470090731, 0.07203176639994727, 0.07203176639994727, 0.07203176639994727, 0.07203176639994727, 0.1080476495999209, 0.07203176639994727, 0.07203176639994727, 0.07203176639994727, 0.07203176639994727, 0.07203176639994727, 0.07203176639994727, 0.07203176639994727, 0.07203176639994727, 0.07203176639994727, 0.11224647227129356, 0.0748309815141957, 0.0748309815141957, 0.0748309815141957, 0.0748309815141957, 0.0748309815141957, 0.0748309815141957, 0.0748309815141957, 0.0748309815141957, 0.0748309815141957, 0.0748309815141957, 0.0748309815141957, 0.03741549075709785, 0.03741549075709785, 0.10366292742279028, 0.06910861828186018, 0.10366292742279028, 0.06910861828186018, 0.06910861828186018, 0.06910861828186018, 0.10366292742279028, 0.06910861828186018, 0.06910861828186018, 0.06910861828186018, 0.06910861828186018, 0.06910861828186018, 0.06910861828186018, 0.06910861828186018, 0.07161370231034665, 0.07161370231034665, 0.10742055346551999, 0.07161370231034665, 0.07161370231034665, 0.10742055346551999, 0.07161370231034665, 0.07161370231034665, 0.035806851155173326, 0.07161370231034665, 0.07161370231034665, 0.07161370231034665, 0.07161370231034665, 0.07161370231034665, 0.10724383082539216, 0.10724383082539216, 0.0714958872169281, 0.0714958872169281, 0.0714958872169281, 0.10724383082539216, 0.0714958872169281, 0.0714958872169281, 0.0714958872169281, 0.0714958872169281, 0.0714958872169281, 0.03574794360846405, 0.0714958872169281, 0.03574794360846405, 0.1118738943177638, 0.07458259621184254, 0.07458259621184254, 0.07458259621184254, 0.07458259621184254, 0.07458259621184254, 0.03729129810592127, 0.07458259621184254, 0.07458259621184254, 0.07458259621184254, 0.07458259621184254, 0.07458259621184254, 0.07458259621184254, 0.03729129810592127, 0.07471481752713242, 0.11207222629069863, 0.07471481752713242, 0.07471481752713242, 0.07471481752713242, 0.07471481752713242, 0.07471481752713242, 0.07471481752713242, 0.07471481752713242, 0.07471481752713242, 0.07471481752713242, 0.07471481752713242, 0.07471481752713242, 0.07471481752713242, 0.1041264735944283, 0.1041264735944283, 0.1041264735944283, 0.0694176490629522, 0.0694176490629522, 0.0694176490629522, 0.0694176490629522, 0.0694176490629522, 0.0694176490629522, 0.0694176490629522, 0.0694176490629522, 0.0694176490629522, 0.0694176490629522, 0.0694176490629522, 0.10892745762891143, 0.10892745762891143, 0.07261830508594096, 0.07261830508594096, 0.07261830508594096, 0.07261830508594096, 0.07261830508594096, 0.07261830508594096, 0.07261830508594096, 0.07261830508594096, 0.03630915254297048, 0.07261830508594096, 0.03630915254297048, 0.07261830508594096, 0.07329715050872311, 0.07329715050872311, 0.07329715050872311, 0.07329715050872311, 0.10994572576308467, 0.07329715050872311, 0.07329715050872311, 0.07329715050872311, 0.07329715050872311, 0.07329715050872311, 0.07329715050872311, 0.07329715050872311, 0.07329715050872311, 0.036648575254361555, 0.07360227357262547, 0.11040341035893819, 0.07360227357262547, 0.07360227357262547, 0.07360227357262547, 0.07360227357262547, 0.07360227357262547, 0.07360227357262547, 0.07360227357262547, 0.07360227357262547, 0.07360227357262547, 0.07360227357262547, 0.07360227357262547, 0.07360227357262547, 0.07338177587664474, 0.07338177587664474, 0.07338177587664474, 0.11007266381496711, 0.07338177587664474, 0.07338177587664474, 0.07338177587664474, 0.07338177587664474, 0.07338177587664474, 0.07338177587664474, 0.07338177587664474, 0.07338177587664474, 0.07338177587664474, 0.07338177587664474, 0.07322846775157021, 0.10984270162735532, 0.07322846775157021, 0.10984270162735532, 0.07322846775157021, 0.07322846775157021, 0.07322846775157021, 0.07322846775157021, 0.03661423387578511, 0.07322846775157021, 0.07322846775157021, 0.07322846775157021, 0.07322846775157021, 0.07322846775157021, 0.0723186854862262, 0.1084780282293393, 0.0723186854862262, 0.0723186854862262, 0.0723186854862262, 0.0723186854862262, 0.0723186854862262, 0.0723186854862262, 0.0723186854862262, 0.0723186854862262, 0.0723186854862262, 0.0723186854862262, 0.0723186854862262, 0.0723186854862262, 0.07399702696680799, 0.110995540450212, 0.07399702696680799, 0.07399702696680799, 0.07399702696680799, 0.07399702696680799, 0.07399702696680799, 0.07399702696680799, 0.07399702696680799, 0.07399702696680799, 0.07399702696680799, 0.07399702696680799, 0.036998513483403994, 0.07399702696680799, 0.0736946223090336, 0.11054193346355042, 0.11054193346355042, 0.0736946223090336, 0.0736946223090336, 0.0736946223090336, 0.0736946223090336, 0.0736946223090336, 0.0736946223090336, 0.0736946223090336, 0.0736946223090336, 0.0736946223090336, 0.0736946223090336, 0.0368473111545168, 0.07460659377921376, 0.07460659377921376, 0.07460659377921376, 0.11190989066882064, 0.11190989066882064, 0.07460659377921376, 0.07460659377921376, 0.07460659377921376, 0.07460659377921376, 0.07460659377921376, 0.07460659377921376, 0.03730329688960688, 0.07460659377921376, 0.07460659377921376, 0.10558566904264197, 0.07039044602842798, 0.07039044602842798, 0.07039044602842798, 0.07039044602842798, 0.07039044602842798, 0.07039044602842798, 0.07039044602842798, 0.07039044602842798, 0.07039044602842798, 0.07039044602842798, 0.03519522301421399, 0.07039044602842798, 0.07039044602842798, 0.06993439453090942, 0.10490159179636413, 0.06993439453090942, 0.06993439453090942, 0.06993439453090942, 0.06993439453090942, 0.06993439453090942, 0.06993439453090942, 0.06993439453090942, 0.06993439453090942, 0.06993439453090942, 0.06993439453090942, 0.06993439453090942, 0.06993439453090942, 0.07249656943273691, 0.07249656943273691, 0.07249656943273691, 0.10874485414910537, 0.07249656943273691, 0.10874485414910537, 0.07249656943273691, 0.07249656943273691, 0.07249656943273691, 0.07249656943273691, 0.07249656943273691, 0.036248284716368456, 0.07249656943273691, 0.07249656943273691, 0.10953448402385123, 0.07302298934923415, 0.07302298934923415, 0.07302298934923415, 0.07302298934923415, 0.07302298934923415, 0.07302298934923415, 0.07302298934923415, 0.07302298934923415, 0.07302298934923415, 0.07302298934923415, 0.07302298934923415, 0.07302298934923415, 0.07302298934923415, 0.0678508908914758, 0.1017763363372137, 0.1017763363372137, 0.0678508908914758, 0.0678508908914758, 0.0678508908914758, 0.1017763363372137, 0.0678508908914758, 0.0678508908914758, 0.0678508908914758, 0.0678508908914758, 0.0678508908914758, 0.0678508908914758, 0.0678508908914758, 0.10460992826802194, 0.0697399521786813, 0.10460992826802194, 0.0697399521786813, 0.0697399521786813, 0.0697399521786813, 0.0697399521786813, 0.0697399521786813, 0.0697399521786813, 0.0697399521786813, 0.0697399521786813, 0.0697399521786813, 0.0697399521786813, 0.0697399521786813, 0.10507155540791804, 0.07004770360527869, 0.10507155540791804, 0.10507155540791804, 0.07004770360527869, 0.07004770360527869, 0.07004770360527869, 0.07004770360527869, 0.07004770360527869, 0.07004770360527869, 0.07004770360527869, 0.07004770360527869, 0.035023851802639346, 0.035023851802639346, 0.11257454476772678, 0.07504969651181785, 0.07504969651181785, 0.07504969651181785, 0.07504969651181785, 0.07504969651181785, 0.07504969651181785, 0.07504969651181785, 0.07504969651181785, 0.07504969651181785, 0.07504969651181785, 0.07504969651181785, 0.07504969651181785, 0.037524848255908926, 0.06905271459464948, 0.06905271459464948, 0.10357907189197423, 0.06905271459464948, 0.06905271459464948, 0.06905271459464948, 0.06905271459464948, 0.06905271459464948, 0.06905271459464948, 0.06905271459464948, 0.06905271459464948, 0.03452635729732474, 0.06905271459464948, 0.06905271459464948, 0.0738537763523247, 0.0738537763523247, 0.0738537763523247, 0.0738537763523247, 0.0738537763523247, 0.0738537763523247, 0.11078066452848705, 0.0738537763523247, 0.0738537763523247, 0.0738537763523247, 0.0738537763523247, 0.03692688817616235, 0.0738537763523247, 0.0738537763523247, 0.0733158514240771, 0.10997377713611564, 0.0733158514240771, 0.0733158514240771, 0.0733158514240771, 0.0733158514240771, 0.0733158514240771, 0.0733158514240771, 0.0733158514240771, 0.0733158514240771, 0.0733158514240771, 0.0733158514240771, 0.03665792571203855, 0.0733158514240771, 0.07008315138184351, 0.10512472707276527, 0.07008315138184351, 0.10512472707276527, 0.07008315138184351, 0.10512472707276527, 0.07008315138184351, 0.07008315138184351, 0.07008315138184351, 0.07008315138184351, 0.07008315138184351, 0.07008315138184351, 0.07008315138184351, 0.035041575690921756, 0.10811601331654537, 0.07207734221103025, 0.10811601331654537, 0.07207734221103025, 0.07207734221103025, 0.07207734221103025, 0.07207734221103025, 0.07207734221103025, 0.07207734221103025, 0.07207734221103025, 0.07207734221103025, 0.07207734221103025, 0.07207734221103025, 0.07207734221103025, 0.10446160413686405, 0.10446160413686405, 0.10446160413686405, 0.06964106942457603, 0.06964106942457603, 0.06964106942457603, 0.06964106942457603, 0.06964106942457603, 0.06964106942457603, 0.06964106942457603, 0.06964106942457603, 0.06964106942457603, 0.06964106942457603, 0.06964106942457603, 0.07452710525308882, 0.07452710525308882, 0.07452710525308882, 0.07452710525308882, 0.07452710525308882, 0.07452710525308882, 0.07452710525308882, 0.07452710525308882, 0.07452710525308882, 0.07452710525308882, 0.07452710525308882, 0.07452710525308882, 0.07452710525308882, 0.03726355262654441, 0.10509019511068976, 0.10509019511068976, 0.10509019511068976, 0.07006013007379318, 0.07006013007379318, 0.07006013007379318, 0.07006013007379318, 0.07006013007379318, 0.07006013007379318, 0.07006013007379318, 0.07006013007379318, 0.07006013007379318, 0.07006013007379318, 0.03503006503689659, 0.10800824584448869, 0.07200549722965913, 0.07200549722965913, 0.10800824584448869, 0.07200549722965913, 0.07200549722965913, 0.07200549722965913, 0.07200549722965913, 0.07200549722965913, 0.07200549722965913, 0.07200549722965913, 0.07200549722965913, 0.03600274861482956, 0.07200549722965913, 0.07198445441834692, 0.10797668162752039, 0.07198445441834692, 0.07198445441834692, 0.07198445441834692, 0.07198445441834692, 0.07198445441834692, 0.07198445441834692, 0.07198445441834692, 0.07198445441834692, 0.07198445441834692, 0.07198445441834692, 0.07198445441834692, 0.07198445441834692, 0.07073418779832556, 0.07073418779832556, 0.07073418779832556, 0.07073418779832556, 0.07073418779832556, 0.07073418779832556, 0.07073418779832556, 0.07073418779832556, 0.07073418779832556, 0.07073418779832556, 0.07073418779832556, 0.07073418779832556, 0.07073418779832556, 0.07073418779832556, 0.10820597675333393, 0.10820597675333393, 0.07213731783555595, 0.07213731783555595, 0.07213731783555595, 0.07213731783555595, 0.07213731783555595, 0.07213731783555595, 0.07213731783555595, 0.07213731783555595, 0.07213731783555595, 0.07213731783555595, 0.07213731783555595, 0.07213731783555595, 0.10705408468624683, 0.07136938979083123, 0.07136938979083123, 0.10705408468624683, 0.07136938979083123, 0.07136938979083123, 0.07136938979083123, 0.07136938979083123, 0.07136938979083123, 0.07136938979083123, 0.07136938979083123, 0.07136938979083123, 0.07136938979083123, 0.03568469489541561, 0.1068583753941074, 0.07123891692940494, 0.07123891692940494, 0.07123891692940494, 0.07123891692940494, 0.07123891692940494, 0.07123891692940494, 0.07123891692940494, 0.07123891692940494, 0.07123891692940494, 0.07123891692940494, 0.07123891692940494, 0.07123891692940494, 0.07123891692940494, 0.10283755516714971, 0.10283755516714971, 0.10283755516714971, 0.06855837011143313, 0.06855837011143313, 0.06855837011143313, 0.06855837011143313, 0.06855837011143313, 0.06855837011143313, 0.06855837011143313, 0.06855837011143313, 0.06855837011143313, 0.06855837011143313, 0.06855837011143313], \"Term\": [\"ab\", \"ab\", \"ab\", \"ab\", \"ab\", \"ab\", \"ab\", \"ab\", \"ab\", \"ab\", \"ab\", \"ab\", \"ab\", \"ab\", \"abbreviation\", \"abbreviation\", \"abbreviation\", \"abbreviation\", \"abbreviation\", \"abbreviation\", \"abbreviation\", \"abbreviation\", \"abbreviation\", \"abbreviation\", \"abbreviation\", \"abbreviation\", \"abbreviation\", \"abbreviation\", \"accrue\", \"accrue\", \"accrue\", \"accrue\", \"accrue\", \"accrue\", \"accrue\", \"accrue\", \"accrue\", \"accrue\", \"accrue\", \"accrue\", \"accrue\", \"accrue\", \"acknowledge\", \"acknowledge\", \"acknowledge\", \"acknowledge\", \"acknowledge\", \"acknowledge\", \"acknowledge\", \"acknowledge\", \"acknowledge\", \"acknowledge\", \"acknowledge\", \"acknowledge\", \"acknowledge\", \"acknowledge\", \"acqusition\", \"acqusition\", \"acqusition\", \"acqusition\", \"acqusition\", \"acqusition\", \"acqusition\", \"acqusition\", \"acqusition\", \"acqusition\", \"acqusition\", \"acqusition\", \"acqusition\", \"acqusition\", \"across\", \"across\", \"across\", \"across\", \"across\", \"across\", \"across\", \"across\", \"across\", \"across\", \"across\", \"across\", \"across\", \"across\", \"activation\", \"activation\", \"activation\", \"activation\", \"activation\", \"activation\", \"activation\", \"activation\", \"activation\", \"activation\", \"activation\", \"activation\", \"activation\", \"activation\", \"acutal\", \"acutal\", \"acutal\", \"acutal\", \"acutal\", \"acutal\", \"acutal\", \"acutal\", \"acutal\", \"acutal\", \"acutal\", \"acutal\", \"acutal\", \"acutal\", \"adage\", \"adage\", \"adage\", \"adage\", \"adage\", \"adage\", \"adage\", \"adage\", \"adage\", \"adage\", \"adage\", \"adage\", \"adage\", \"adage\", \"affluent\", \"affluent\", \"affluent\", \"affluent\", \"affluent\", \"affluent\", \"affluent\", \"affluent\", \"affluent\", \"affluent\", \"affluent\", \"affluent\", \"affluent\", \"affluent\", \"african\", \"african\", \"african\", \"african\", \"african\", \"african\", \"african\", \"african\", \"african\", \"african\", \"african\", \"african\", \"african\", \"african\", \"agent\", \"agent\", \"agent\", \"agent\", \"agent\", \"agent\", \"agent\", \"agent\", \"agent\", \"agent\", \"agent\", \"agent\", \"agent\", \"agent\", \"aggressor\", \"aggressor\", \"aggressor\", \"aggressor\", \"aggressor\", \"aggressor\", \"aggressor\", \"aggressor\", \"aggressor\", \"aggressor\", \"aggressor\", \"aggressor\", \"aggressor\", \"aggressor\", \"agressive\", \"agressive\", \"agressive\", \"agressive\", \"agressive\", \"agressive\", \"agressive\", \"agressive\", \"agressive\", \"agressive\", \"agressive\", \"agressive\", \"agressive\", \"agressive\", \"aim\", \"aim\", \"aim\", \"aim\", \"aim\", \"aim\", \"aim\", \"aim\", \"aim\", \"aim\", \"aim\", \"aim\", \"aim\", \"aim\", \"alive\", \"alive\", \"alive\", \"alive\", \"alive\", \"alive\", \"alive\", \"alive\", \"alive\", \"alive\", \"alive\", \"alive\", \"alive\", \"alive\", \"allergic\", \"allergic\", \"allergic\", \"allergic\", \"allergic\", \"allergic\", \"allergic\", \"allergic\", \"allergic\", \"allergic\", \"allergic\", \"allergic\", \"allergic\", \"allergic\", \"aloud\", \"aloud\", \"aloud\", \"aloud\", \"aloud\", \"aloud\", \"aloud\", \"aloud\", \"aloud\", \"aloud\", \"aloud\", \"aloud\", \"aloud\", \"aloud\", \"americ\", \"americ\", \"americ\", \"americ\", \"americ\", \"americ\", \"americ\", \"americ\", \"americ\", \"americ\", \"americ\", \"americ\", \"americ\", \"americ\", \"annihilate\", \"annihilate\", \"annihilate\", \"annihilate\", \"annihilate\", \"annihilate\", \"annihilate\", \"annihilate\", \"annihilate\", \"annihilate\", \"annihilate\", \"annihilate\", \"annihilate\", \"annihilate\", \"anticompetitive\", \"anticompetitive\", \"anticompetitive\", \"anticompetitive\", \"anticompetitive\", \"anticompetitive\", \"anticompetitive\", \"anticompetitive\", \"anticompetitive\", \"anticompetitive\", \"anticompetitive\", \"anticompetitive\", \"anticompetitive\", \"anticompetitive\", \"apachi\", \"apachi\", \"apachi\", \"apachi\", \"apachi\", \"apachi\", \"apachi\", \"apachi\", \"apachi\", \"apachi\", \"apachi\", \"apachi\", \"apachi\", \"apachi\", \"apologetic\", \"apologetic\", \"apologetic\", \"apologetic\", \"apologetic\", \"apologetic\", \"apologetic\", \"apologetic\", \"apologetic\", \"apologetic\", \"apologetic\", \"apologetic\", \"apologetic\", \"apologetic\", \"apparently\", \"apparently\", \"apparently\", \"apparently\", \"apparently\", \"apparently\", \"apparently\", \"apparently\", \"apparently\", \"apparently\", \"apparently\", \"apparently\", \"apparently\", \"apparently\", \"apparrent\", \"apparrent\", \"apparrent\", \"apparrent\", \"apparrent\", \"apparrent\", \"apparrent\", \"apparrent\", \"apparrent\", \"apparrent\", \"apparrent\", \"apparrent\", \"apparrent\", \"apparrent\", \"applewhi\", \"applewhi\", \"applewhi\", \"applewhi\", \"applewhi\", \"applewhi\", \"applewhi\", \"applewhi\", \"applewhi\", \"applewhi\", \"applewhi\", \"applewhi\", \"applewhi\", \"applewhi\", \"appliance\", \"appliance\", \"appliance\", \"appliance\", \"appliance\", \"appliance\", \"appliance\", \"appliance\", \"appliance\", \"appliance\", \"appliance\", \"appliance\", \"appliance\", \"appliance\", \"archive\", \"archive\", \"archive\", \"archive\", \"archive\", \"archive\", \"archive\", \"archive\", \"archive\", \"archive\", \"archive\", \"archive\", \"archive\", \"archive\", \"arrest\", \"arrest\", \"arrest\", \"arrest\", \"arrest\", \"arrest\", \"arrest\", \"arrest\", \"arrest\", \"arrest\", \"arrest\", \"arrest\", \"arrest\", \"arrest\", \"assistant\", \"assistant\", \"assistant\", \"assistant\", \"assistant\", \"assistant\", \"assistant\", \"assistant\", \"assistant\", \"assistant\", \"assistant\", \"assistant\", \"assistant\", \"assistant\", \"astro\", \"astro\", \"astro\", \"astro\", \"astro\", \"astro\", \"astro\", \"astro\", \"astro\", \"astro\", \"astro\", \"astro\", \"astro\", \"astro\", \"attach\", \"attach\", \"attach\", \"attach\", \"attach\", \"attach\", \"attach\", \"attach\", \"attach\", \"attach\", \"attach\", \"attach\", \"attach\", \"attach\", \"attatione\", \"attatione\", \"attatione\", \"attatione\", \"attatione\", \"attatione\", \"attatione\", \"attatione\", \"attatione\", \"attatione\", \"attatione\", \"attatione\", \"attatione\", \"attatione\", \"audience\", \"audience\", \"audience\", \"audience\", \"audience\", \"audience\", \"audience\", \"audience\", \"audience\", \"audience\", \"audience\", \"audience\", \"audience\", \"audience\", \"auditorium\", \"auditorium\", \"auditorium\", \"auditorium\", \"auditorium\", \"auditorium\", \"auditorium\", \"auditorium\", \"auditorium\", \"auditorium\", \"auditorium\", \"auditorium\", \"auditorium\", \"auditorium\", \"augusta\", \"augusta\", \"augusta\", \"augusta\", \"augusta\", \"augusta\", \"augusta\", \"augusta\", \"augusta\", \"augusta\", \"augusta\", \"augusta\", \"augusta\", \"augusta\", \"az\", \"az\", \"az\", \"az\", \"az\", \"az\", \"az\", \"az\", \"az\", \"az\", \"az\", \"az\", \"az\", \"az\", \"baby\", \"baby\", \"baby\", \"baby\", \"baby\", \"baby\", \"baby\", \"baby\", \"baby\", \"baby\", \"baby\", \"baby\", \"baby\", \"baby\", \"backbone\", \"backbone\", \"backbone\", \"backbone\", \"backbone\", \"backbone\", \"backbone\", \"backbone\", \"backbone\", \"backbone\", \"backbone\", \"backbone\", \"backbone\", \"backbone\", \"backfire\", \"backfire\", \"backfire\", \"backfire\", \"backfire\", \"backfire\", \"backfire\", \"backfire\", \"backfire\", \"backfire\", \"backfire\", \"backfire\", \"backfire\", \"backfire\", \"base\", \"base\", \"base\", \"base\", \"base\", \"base\", \"base\", \"base\", \"base\", \"base\", \"base\", \"base\", \"base\", \"base\", \"beavy\", \"beavy\", \"beavy\", \"beavy\", \"beavy\", \"beavy\", \"beavy\", \"beavy\", \"beavy\", \"beavy\", \"beavy\", \"beavy\", \"beavy\", \"beavy\", \"bid\", \"bid\", \"bid\", \"bid\", \"bid\", \"bid\", \"bid\", \"bid\", \"bid\", \"bid\", \"bid\", \"bid\", \"bid\", \"bid\", \"bidder\", \"bidder\", \"bidder\", \"bidder\", \"bidder\", \"bidder\", \"bidder\", \"bidder\", \"bidder\", \"bidder\", \"bidder\", \"bidder\", \"bidder\", \"bidder\", \"bitter\", \"bitter\", \"bitter\", \"bitter\", \"bitter\", \"bitter\", \"bitter\", \"bitter\", \"bitter\", \"bitter\", \"bitter\", \"bitter\", \"bitter\", \"bitter\", \"blitz\", \"blitz\", \"blitz\", \"blitz\", \"blitz\", \"blitz\", \"blitz\", \"blitz\", \"blitz\", \"blitz\", \"blitz\", \"blitz\", \"blitz\", \"blitz\", \"bonding\", \"bonding\", \"bonding\", \"bonding\", \"bonding\", \"bonding\", \"bonding\", \"bonding\", \"bonding\", \"bonding\", \"bonding\", \"bonding\", \"bonding\", \"bonding\", \"boondoggle\", \"boondoggle\", \"boondoggle\", \"boondoggle\", \"boondoggle\", \"boondoggle\", \"boondoggle\", \"boondoggle\", \"boondoggle\", \"boondoggle\", \"boondoggle\", \"boondoggle\", \"boondoggle\", \"boondoggle\", \"boot\", \"boot\", \"boot\", \"boot\", \"boot\", \"boot\", \"boot\", \"boot\", \"boot\", \"boot\", \"boot\", \"boot\", \"boot\", \"boot\", \"bracket\", \"bracket\", \"bracket\", \"bracket\", \"bracket\", \"bracket\", \"bracket\", \"bracket\", \"bracket\", \"bracket\", \"bracket\", \"bracket\", \"bracket\", \"bracket\", \"brag\", \"brag\", \"brag\", \"brag\", \"brag\", \"brag\", \"brag\", \"brag\", \"brag\", \"brag\", \"brag\", \"brag\", \"brag\", \"brag\", \"brainstorming_session\", \"brainstorming_session\", \"brainstorming_session\", \"brainstorming_session\", \"brainstorming_session\", \"brainstorming_session\", \"brainstorming_session\", \"brainstorming_session\", \"brainstorming_session\", \"brainstorming_session\", \"brainstorming_session\", \"brainstorming_session\", \"brainstorming_session\", \"brainstorming_session\", \"brandywine\", \"brandywine\", \"brandywine\", \"brandywine\", \"brandywine\", \"brandywine\", \"brandywine\", \"brandywine\", \"brandywine\", \"brandywine\", \"brandywine\", \"brandywine\", \"brandywine\", \"brandywine\", \"brenda_herod\", \"brenda_herod\", \"brenda_herod\", \"brenda_herod\", \"brenda_herod\", \"brenda_herod\", \"brenda_herod\", \"brenda_herod\", \"brenda_herod\", \"brenda_herod\", \"brenda_herod\", \"brenda_herod\", \"brenda_herod\", \"brenda_herod\", \"brew\", \"brew\", \"brew\", \"brew\", \"brew\", \"brew\", \"brew\", \"brew\", \"brew\", \"brew\", \"brew\", \"brew\", \"brew\", \"brew\", \"briceism\", \"briceism\", \"briceism\", \"briceism\", \"briceism\", \"briceism\", \"briceism\", \"briceism\", \"briceism\", \"briceism\", \"briceism\", \"briceism\", \"briceism\", \"briceism\", \"bride\", \"bride\", \"bride\", \"bride\", \"bride\", \"bride\", \"bride\", \"bride\", \"bride\", \"bride\", \"bride\", \"bride\", \"bride\", \"bride\", \"bridge\", \"bridge\", \"bridge\", \"bridge\", \"bridge\", \"bridge\", \"bridge\", \"bridge\", \"bridge\", \"bridge\", \"bridge\", \"bridge\", \"bridge\", \"bridge\", \"brightness\", \"brightness\", \"brightness\", \"brightness\", \"brightness\", \"brightness\", \"brightness\", \"brightness\", \"brightness\", \"brightness\", \"brightness\", \"brightness\", \"brightness\", \"brightness\", \"bring\", \"bring\", \"bring\", \"bring\", \"bring\", \"bring\", \"bring\", \"bring\", \"bring\", \"bring\", \"bring\", \"bring\", \"bring\", \"bring\", \"bueno\", \"bueno\", \"bueno\", \"bueno\", \"bueno\", \"bueno\", \"bueno\", \"bueno\", \"bueno\", \"bueno\", \"bueno\", \"bueno\", \"bueno\", \"bueno\", \"builder\", \"builder\", \"builder\", \"builder\", \"builder\", \"builder\", \"builder\", \"builder\", \"builder\", \"builder\", \"builder\", \"builder\", \"builder\", \"builder\", \"bunche\", \"bunche\", \"bunche\", \"bunche\", \"bunche\", \"bunche\", \"bunche\", \"bunche\", \"bunche\", \"bunche\", \"bunche\", \"bunche\", \"bunche\", \"bunche\", \"businessman\", \"businessman\", \"businessman\", \"businessman\", \"businessman\", \"businessman\", \"businessman\", \"businessman\", \"businessman\", \"businessman\", \"businessman\", \"businessman\", \"businessman\", \"businessman\", \"caldwell\", \"caldwell\", \"caldwell\", \"caldwell\", \"caldwell\", \"caldwell\", \"caldwell\", \"caldwell\", \"caldwell\", \"caldwell\", \"caldwell\", \"caldwell\", \"caldwell\", \"caldwell\", \"camella\", \"camella\", \"camella\", \"camella\", \"camella\", \"camella\", \"camella\", \"camella\", \"camella\", \"camella\", \"camella\", \"camella\", \"camella\", \"camella\", \"camper\", \"camper\", \"camper\", \"camper\", \"camper\", \"camper\", \"camper\", \"camper\", \"camper\", \"camper\", \"camper\", \"camper\", \"camper\", \"camper\", \"capacitycenter\", \"capacitycenter\", \"capacitycenter\", \"capacitycenter\", \"capacitycenter\", \"capacitycenter\", \"capacitycenter\", \"capacitycenter\", \"capacitycenter\", \"capacitycenter\", \"capacitycenter\", \"capacitycenter\", \"capacitycenter\", \"capacitycenter\", \"cappuccino\", \"cappuccino\", \"cappuccino\", \"cappuccino\", \"cappuccino\", \"cappuccino\", \"cappuccino\", \"cappuccino\", \"cappuccino\", \"cappuccino\", \"cappuccino\", \"cappuccino\", \"cappuccino\", \"cappuccino\", \"capricious\", \"capricious\", \"capricious\", \"capricious\", \"capricious\", \"capricious\", \"capricious\", \"capricious\", \"capricious\", \"capricious\", \"capricious\", \"capricious\", \"capricious\", \"capricious\", \"cataloge\", \"cataloge\", \"cataloge\", \"cataloge\", \"cataloge\", \"cataloge\", \"cataloge\", \"cataloge\", \"cataloge\", \"cataloge\", \"cataloge\", \"cataloge\", \"cataloge\", \"cataloge\", \"cathy_phillip\", \"cathy_phillip\", \"cathy_phillip\", \"cathy_phillip\", \"cathy_phillip\", \"cathy_phillip\", \"cathy_phillip\", \"cathy_phillip\", \"cathy_phillip\", \"cathy_phillip\", \"cathy_phillip\", \"cathy_phillip\", \"cathy_phillip\", \"cathy_phillip\", \"ce\", \"ce\", \"ce\", \"ce\", \"ce\", \"ce\", \"ce\", \"ce\", \"ce\", \"ce\", \"ce\", \"ce\", \"ce\", \"ce\", \"cgp\", \"cgp\", \"cgp\", \"cgp\", \"cgp\", \"cgp\", \"cgp\", \"cgp\", \"cgp\", \"cgp\", \"cgp\", \"cgp\", \"cgp\", \"cgp\", \"charlene_jackson\", \"charlene_jackson\", \"charlene_jackson\", \"charlene_jackson\", \"charlene_jackson\", \"charlene_jackson\", \"charlene_jackson\", \"charlene_jackson\", \"charlene_jackson\", \"charlene_jackson\", \"charlene_jackson\", \"charlene_jackson\", \"charlene_jackson\", \"charlene_jackson\", \"chase\", \"chase\", \"chase\", \"chase\", \"chase\", \"chase\", \"chase\", \"chase\", \"chase\", \"chase\", \"chase\", \"chase\", \"chase\", \"chase\", \"check\", \"check\", \"check\", \"check\", \"check\", \"check\", \"check\", \"check\", \"check\", \"check\", \"check\", \"check\", \"check\", \"check\", \"christensen\", \"christensen\", \"christensen\", \"christensen\", \"christensen\", \"christensen\", \"christensen\", \"christensen\", \"christensen\", \"christensen\", \"christensen\", \"christensen\", \"christensen\", \"christensen\", \"churn\", \"churn\", \"churn\", \"churn\", \"churn\", \"churn\", \"churn\", \"churn\", \"churn\", \"churn\", \"churn\", \"churn\", \"churn\", \"churn\", \"cip\", \"cip\", \"cip\", \"cip\", \"cip\", \"cip\", \"cip\", \"cip\", \"cip\", \"cip\", \"cip\", \"cip\", \"cip\", \"cip\", \"classmate\", \"classmate\", \"classmate\", \"classmate\", \"classmate\", \"classmate\", \"classmate\", \"classmate\", \"classmate\", \"classmate\", \"classmate\", \"classmate\", \"classmate\", \"classmate\", \"cleanser\", \"cleanser\", \"cleanser\", \"cleanser\", \"cleanser\", \"cleanser\", \"cleanser\", \"cleanser\", \"cleanser\", \"cleanser\", \"cleanser\", \"cleanser\", \"cleanser\", \"cleanser\", \"clearance\", \"clearance\", \"clearance\", \"clearance\", \"clearance\", \"clearance\", \"clearance\", \"clearance\", \"clearance\", \"clearance\", \"clearance\", \"clearance\", \"clearance\", \"clearance\", \"cleared\", \"cleared\", \"cleared\", \"cleared\", \"cleared\", \"cleared\", \"cleared\", \"cleared\", \"cleared\", \"cleared\", \"cleared\", \"cleared\", \"cleared\", \"cleared\", \"clipper\", \"clipper\", \"clipper\", \"clipper\", \"clipper\", \"clipper\", \"clipper\", \"clipper\", \"clipper\", \"clipper\", \"clipper\", \"clipper\", \"clipper\", \"clipper\", \"coed\", \"coed\", \"coed\", \"coed\", \"coed\", \"coed\", \"coed\", \"coed\", \"coed\", \"coed\", \"coed\", \"coed\", \"coed\", \"coed\", \"comedy\", \"comedy\", \"comedy\", \"comedy\", \"comedy\", \"comedy\", \"comedy\", \"comedy\", \"comedy\", \"comedy\", \"comedy\", \"comedy\", \"comedy\", \"comedy\", \"comer\", \"comer\", \"comer\", \"comer\", \"comer\", \"comer\", \"comer\", \"comer\", \"comer\", \"comer\", \"comer\", \"comer\", \"comer\", \"comer\", \"comm_fuel\", \"comm_fuel\", \"comm_fuel\", \"comm_fuel\", \"comm_fuel\", \"comm_fuel\", \"comm_fuel\", \"comm_fuel\", \"comm_fuel\", \"comm_fuel\", \"comm_fuel\", \"comm_fuel\", \"comm_fuel\", \"comm_fuel\", \"competitive\", \"competitive\", \"competitive\", \"competitive\", \"competitive\", \"competitive\", \"competitive\", \"competitive\", \"competitive\", \"competitive\", \"competitive\", \"competitive\", \"competitive\", \"competitive\", \"compose\", \"compose\", \"compose\", \"compose\", \"compose\", \"compose\", \"compose\", \"compose\", \"compose\", \"compose\", \"compose\", \"compose\", \"compose\", \"compose\", \"conjecture\", \"conjecture\", \"conjecture\", \"conjecture\", \"conjecture\", \"conjecture\", \"conjecture\", \"conjecture\", \"conjecture\", \"conjecture\", \"conjecture\", \"conjecture\", \"conjecture\", \"conjecture\", \"connor\", \"connor\", \"connor\", \"connor\", \"connor\", \"connor\", \"connor\", \"connor\", \"connor\", \"connor\", \"connor\", \"connor\", \"connor\", \"connor\", \"consecutive\", \"consecutive\", \"consecutive\", \"consecutive\", \"consecutive\", \"consecutive\", \"consecutive\", \"consecutive\", \"consecutive\", \"consecutive\", \"consecutive\", \"consecutive\", \"consecutive\", \"consecutive\", \"consortium\", \"consortium\", \"consortium\", \"consortium\", \"consortium\", \"consortium\", \"consortium\", \"consortium\", \"consortium\", \"consortium\", \"consortium\", \"consortium\", \"consortium\", \"consortium\", \"consumer\", \"consumer\", \"consumer\", \"consumer\", \"consumer\", \"consumer\", \"consumer\", \"consumer\", \"consumer\", \"consumer\", \"consumer\", \"consumer\", \"consumer\", \"consumer\", \"contained\", \"contained\", \"contained\", \"contained\", \"contained\", \"contained\", \"contained\", \"contained\", \"contained\", \"contained\", \"contained\", \"contained\", \"contained\", \"contained\", \"contributor\", \"contributor\", \"contributor\", \"contributor\", \"contributor\", \"contributor\", \"contributor\", \"contributor\", \"contributor\", \"contributor\", \"contributor\", \"contributor\", \"contributor\", \"contributor\", \"controversial\", \"controversial\", \"controversial\", \"controversial\", \"controversial\", \"controversial\", \"controversial\", \"controversial\", \"controversial\", \"controversial\", \"controversial\", \"controversial\", \"controversial\", \"controversial\", \"coporate\", \"coporate\", \"coporate\", \"coporate\", \"coporate\", \"coporate\", \"coporate\", \"coporate\", \"coporate\", \"coporate\", \"coporate\", \"coporate\", \"coporate\", \"coporate\", \"corman\", \"corman\", \"corman\", \"corman\", \"corman\", \"corman\", \"corman\", \"corman\", \"corman\", \"corman\", \"corman\", \"corman\", \"corman\", \"corman\", \"corporate\", \"corporate\", \"corporate\", \"corporate\", \"corporate\", \"corporate\", \"corporate\", \"corporate\", \"corporate\", \"corporate\", \"corporate\", \"corporate\", \"corporate\", \"corporate\", \"crank\", \"crank\", \"crank\", \"crank\", \"crank\", \"crank\", \"crank\", \"crank\", \"crank\", \"crank\", \"crank\", \"crank\", \"crank\", \"crank\", \"crazy\", \"crazy\", \"crazy\", \"crazy\", \"crazy\", \"crazy\", \"crazy\", \"crazy\", \"crazy\", \"crazy\", \"crazy\", \"crazy\", \"crazy\", \"crazy\", \"creat\", \"creat\", \"creat\", \"creat\", \"creat\", \"creat\", \"creat\", \"creat\", \"creat\", \"creat\", \"creat\", \"creat\", \"creat\", \"creat\", \"cry\", \"cry\", \"cry\", \"cry\", \"cry\", \"cry\", \"cry\", \"cry\", \"cry\", \"cry\", \"cry\", \"cry\", \"cry\", \"cry\", \"cubr\", \"cubr\", \"cubr\", \"cubr\", \"cubr\", \"cubr\", \"cubr\", \"cubr\", \"cubr\", \"cubr\", \"cubr\", \"cubr\", \"cubr\", \"cubr\", \"culturally\", \"culturally\", \"culturally\", \"culturally\", \"culturally\", \"culturally\", \"culturally\", \"culturally\", \"culturally\", \"culturally\", \"culturally\", \"culturally\", \"culturally\", \"culturally\", \"custody\", \"custody\", \"custody\", \"custody\", \"custody\", \"custody\", \"custody\", \"custody\", \"custody\", \"custody\", \"custody\", \"custody\", \"custody\", \"custody\", \"daate\", \"daate\", \"daate\", \"daate\", \"daate\", \"daate\", \"daate\", \"daate\", \"daate\", \"daate\", \"daate\", \"daate\", \"daate\", \"daate\", \"daddy\", \"daddy\", \"daddy\", \"daddy\", \"daddy\", \"daddy\", \"daddy\", \"daddy\", \"daddy\", \"daddy\", \"daddy\", \"daddy\", \"daddy\", \"daddy\", \"davenport\", \"davenport\", \"davenport\", \"davenport\", \"davenport\", \"davenport\", \"davenport\", \"davenport\", \"davenport\", \"davenport\", \"davenport\", \"davenport\", \"davenport\", \"davenport\", \"david_port\", \"david_port\", \"david_port\", \"david_port\", \"david_port\", \"david_port\", \"david_port\", \"david_port\", \"david_port\", \"david_port\", \"david_port\", \"david_port\", \"david_port\", \"david_port\", \"dealticket\", \"dealticket\", \"dealticket\", \"dealticket\", \"dealticket\", \"dealticket\", \"dealticket\", \"dealticket\", \"dealticket\", \"dealticket\", \"dealticket\", \"dealticket\", \"dealticket\", \"dealticket\", \"decent\", \"decent\", \"decent\", \"decent\", \"decent\", \"decent\", \"decent\", \"decent\", \"decent\", \"decent\", \"decent\", \"decent\", \"decent\", \"decent\", \"decide\", \"decide\", \"decide\", \"decide\", \"decide\", \"decide\", \"decide\", \"decide\", \"decide\", \"decide\", \"decide\", \"decide\", \"decide\", \"decide\", \"deer\", \"deer\", \"deer\", \"deer\", \"deer\", \"deer\", \"deer\", \"deer\", \"deer\", \"deer\", \"deer\", \"deer\", \"deer\", \"deer\", \"defender\", \"defender\", \"defender\", \"defender\", \"defender\", \"defender\", \"defender\", \"defender\", \"defender\", \"defender\", \"defender\", \"defender\", \"defender\", \"defender\", \"delighted\", \"delighted\", \"delighted\", \"delighted\", \"delighted\", \"delighted\", \"delighted\", \"delighted\", \"delighted\", \"delighted\", \"delighted\", \"delighted\", \"delighted\", \"delighted\", \"delivery_quantity\", \"delivery_quantity\", \"delivery_quantity\", \"delivery_quantity\", \"delivery_quantity\", \"delivery_quantity\", \"delivery_quantity\", \"delivery_quantity\", \"delivery_quantity\", \"delivery_quantity\", \"delivery_quantity\", \"delivery_quantity\", \"delivery_quantity\", \"delivery_quantity\", \"denote\", \"denote\", \"denote\", \"denote\", \"denote\", \"denote\", \"denote\", \"denote\", \"denote\", \"denote\", \"denote\", \"denote\", \"denote\", \"denote\", \"depelchin\", \"depelchin\", \"depelchin\", \"depelchin\", \"depelchin\", \"depelchin\", \"depelchin\", \"depelchin\", \"depelchin\", \"depelchin\", \"depelchin\", \"depelchin\", \"depelchin\", \"depelchin\", \"devoid\", \"devoid\", \"devoid\", \"devoid\", \"devoid\", \"devoid\", \"devoid\", \"devoid\", \"devoid\", \"devoid\", \"devoid\", \"devoid\", \"devoid\", \"devoid\", \"dewville\", \"dewville\", \"dewville\", \"dewville\", \"dewville\", \"dewville\", \"dewville\", \"dewville\", \"dewville\", \"dewville\", \"dewville\", \"dewville\", \"dewville\", \"dewville\", \"diabete\", \"diabete\", \"diabete\", \"diabete\", \"diabete\", \"diabete\", \"diabete\", \"diabete\", \"diabete\", \"diabete\", \"diabete\", \"diabete\", \"diabete\", \"diabete\", \"differentiate\", \"differentiate\", \"differentiate\", \"differentiate\", \"differentiate\", \"differentiate\", \"differentiate\", \"differentiate\", \"differentiate\", \"differentiate\", \"differentiate\", \"differentiate\", \"differentiate\", \"differentiate\", \"directo\", \"directo\", \"directo\", \"directo\", \"directo\", \"directo\", \"directo\", \"directo\", \"directo\", \"directo\", \"directo\", \"directo\", \"directo\", \"directo\", \"disassembly\", \"disassembly\", \"disassembly\", \"disassembly\", \"disassembly\", \"disassembly\", \"disassembly\", \"disassembly\", \"disassembly\", \"disassembly\", \"disassembly\", \"disassembly\", \"disassembly\", \"disassembly\", \"disciple\", \"disciple\", \"disciple\", \"disciple\", \"disciple\", \"disciple\", \"disciple\", \"disciple\", \"disciple\", \"disciple\", \"disciple\", \"disciple\", \"disciple\", \"disciple\", \"discontent\", \"discontent\", \"discontent\", \"discontent\", \"discontent\", \"discontent\", \"discontent\", \"discontent\", \"discontent\", \"discontent\", \"discontent\", \"discontent\", \"discontent\", \"discontent\", \"disease\", \"disease\", \"disease\", \"disease\", \"disease\", \"disease\", \"disease\", \"disease\", \"disease\", \"disease\", \"disease\", \"disease\", \"disease\", \"disease\", \"disney\", \"disney\", \"disney\", \"disney\", \"disney\", \"disney\", \"disney\", \"disney\", \"disney\", \"disney\", \"disney\", \"disney\", \"disney\", \"disney\", \"distress\", \"distress\", \"distress\", \"distress\", \"distress\", \"distress\", \"distress\", \"distress\", \"distress\", \"distress\", \"distress\", \"distress\", \"distress\", \"distress\", \"district\", \"district\", \"district\", \"district\", \"district\", \"district\", \"district\", \"district\", \"district\", \"district\", \"district\", \"district\", \"district\", \"district\", \"dive\", \"dive\", \"dive\", \"dive\", \"dive\", \"dive\", \"dive\", \"dive\", \"dive\", \"dive\", \"dive\", \"dive\", \"dive\", \"dive\", \"dkt\", \"dkt\", \"dkt\", \"dkt\", \"dkt\", \"dkt\", \"dkt\", \"dkt\", \"dkt\", \"dkt\", \"dkt\", \"dkt\", \"dkt\", \"dkt\", \"dockage\", \"dockage\", \"dockage\", \"dockage\", \"dockage\", \"dockage\", \"dockage\", \"dockage\", \"dockage\", \"dockage\", \"dockage\", \"dockage\", \"dockage\", \"dockage\", \"docs\", \"docs\", \"docs\", \"docs\", \"docs\", \"docs\", \"docs\", \"docs\", \"docs\", \"docs\", \"docs\", \"docs\", \"docs\", \"docs\", \"doggoneit\", \"doggoneit\", \"doggoneit\", \"doggoneit\", \"doggoneit\", \"doggoneit\", \"doggoneit\", \"doggoneit\", \"doggoneit\", \"doggoneit\", \"doggoneit\", \"doggoneit\", \"doggoneit\", \"doggoneit\", \"dolore\", \"dolore\", \"dolore\", \"dolore\", \"dolore\", \"dolore\", \"dolore\", \"dolore\", \"dolore\", \"dolore\", \"dolore\", \"dolore\", \"dolore\", \"dolore\", \"dominion_transmission\", \"dominion_transmission\", \"dominion_transmission\", \"dominion_transmission\", \"dominion_transmission\", \"dominion_transmission\", \"dominion_transmission\", \"dominion_transmission\", \"dominion_transmission\", \"dominion_transmission\", \"dominion_transmission\", \"dominion_transmission\", \"dominion_transmission\", \"dominion_transmission\", \"double\", \"double\", \"double\", \"double\", \"double\", \"double\", \"double\", \"double\", \"double\", \"double\", \"double\", \"double\", \"double\", \"double\", \"downsize\", \"downsize\", \"downsize\", \"downsize\", \"downsize\", \"downsize\", \"downsize\", \"downsize\", \"downsize\", \"downsize\", \"downsize\", \"downsize\", \"downsize\", \"downsize\", \"dpowell\", \"dpowell\", \"dpowell\", \"dpowell\", \"dpowell\", \"dpowell\", \"dpowell\", \"dpowell\", \"dpowell\", \"dpowell\", \"dpowell\", \"dpowell\", \"dpowell\", \"dpowell\", \"dramas\", \"dramas\", \"dramas\", \"dramas\", \"dramas\", \"dramas\", \"dramas\", \"dramas\", \"dramas\", \"dramas\", \"dramas\", \"dramas\", \"dramas\", \"dramas\", \"drunker\", \"drunker\", \"drunker\", \"drunker\", \"drunker\", \"drunker\", \"drunker\", \"drunker\", \"drunker\", \"drunker\", \"drunker\", \"drunker\", \"drunker\", \"drunker\", \"du\", \"du\", \"du\", \"du\", \"du\", \"du\", \"du\", \"du\", \"du\", \"du\", \"du\", \"du\", \"du\", \"du\", \"duplicity\", \"duplicity\", \"duplicity\", \"duplicity\", \"duplicity\", \"duplicity\", \"duplicity\", \"duplicity\", \"duplicity\", \"duplicity\", \"duplicity\", \"duplicity\", \"duplicity\", \"duplicity\", \"eagle\", \"eagle\", \"eagle\", \"eagle\", \"eagle\", \"eagle\", \"eagle\", \"eagle\", \"eagle\", \"eagle\", \"eagle\", \"eagle\", \"eagle\", \"eagle\", \"econd\", \"econd\", \"econd\", \"econd\", \"econd\", \"econd\", \"econd\", \"econd\", \"econd\", \"econd\", \"econd\", \"econd\", \"econd\", \"econd\", \"edge\", \"edge\", \"edge\", \"edge\", \"edge\", \"edge\", \"edge\", \"edge\", \"edge\", \"edge\", \"edge\", \"edge\", \"edge\", \"edge\", \"educated\", \"educated\", \"educated\", \"educated\", \"educated\", \"educated\", \"educated\", \"educated\", \"educated\", \"educated\", \"educated\", \"educated\", \"educated\", \"educated\", \"edwards\", \"edwards\", \"edwards\", \"edwards\", \"edwards\", \"edwards\", \"edwards\", \"edwards\", \"edwards\", \"edwards\", \"edwards\", \"edwards\", \"edwards\", \"edwards\", \"eecc\", \"eecc\", \"eecc\", \"eecc\", \"eecc\", \"eecc\", \"eecc\", \"eecc\", \"eecc\", \"eecc\", \"eecc\", \"eecc\", \"eecc\", \"eecc\", \"either\", \"either\", \"either\", \"either\", \"either\", \"either\", \"either\", \"either\", \"either\", \"either\", \"either\", \"either\", \"either\", \"either\", \"eld\", \"eld\", \"eld\", \"eld\", \"eld\", \"eld\", \"eld\", \"eld\", \"eld\", \"eld\", \"eld\", \"eld\", \"eld\", \"eld\", \"eldo\", \"eldo\", \"eldo\", \"eldo\", \"eldo\", \"eldo\", \"eldo\", \"eldo\", \"eldo\", \"eldo\", \"eldo\", \"eldo\", \"eldo\", \"eldo\", \"elektryon\", \"elektryon\", \"elektryon\", \"elektryon\", \"elektryon\", \"elektryon\", \"elektryon\", \"elektryon\", \"elektryon\", \"elektryon\", \"elektryon\", \"elektryon\", \"elektryon\", \"elektryon\", \"elimination\", \"elimination\", \"elimination\", \"elimination\", \"elimination\", \"elimination\", \"elimination\", \"elimination\", \"elimination\", \"elimination\", \"elimination\", \"elimination\", \"elimination\", \"elimination\", \"elite\", \"elite\", \"elite\", \"elite\", \"elite\", \"elite\", \"elite\", \"elite\", \"elite\", \"elite\", \"elite\", \"elite\", \"elite\", \"elite\", \"eml\", \"eml\", \"eml\", \"eml\", \"eml\", \"eml\", \"eml\", \"eml\", \"eml\", \"eml\", \"eml\", \"eml\", \"eml\", \"eml\", \"empower\", \"empower\", \"empower\", \"empower\", \"empower\", \"empower\", \"empower\", \"empower\", \"empower\", \"empower\", \"empower\", \"empower\", \"empower\", \"empower\", \"energize\", \"energize\", \"energize\", \"energize\", \"energize\", \"energize\", \"energize\", \"energize\", \"energize\", \"energize\", \"energize\", \"energize\", \"energize\", \"energize\", \"engraved\", \"engraved\", \"engraved\", \"engraved\", \"engraved\", \"engraved\", \"engraved\", \"engraved\", \"engraved\", \"engraved\", \"engraved\", \"engraved\", \"engraved\", \"engraved\", \"enlist\", \"enlist\", \"enlist\", \"enlist\", \"enlist\", \"enlist\", \"enlist\", \"enlist\", \"enlist\", \"enlist\", \"enlist\", \"enlist\", \"enlist\", \"enlist\", \"enthusiasm\", \"enthusiasm\", \"enthusiasm\", \"enthusiasm\", \"enthusiasm\", \"enthusiasm\", \"enthusiasm\", \"enthusiasm\", \"enthusiasm\", \"enthusiasm\", \"enthusiasm\", \"enthusiasm\", \"enthusiasm\", \"enthusiasm\", \"enthusiastic\", \"enthusiastic\", \"enthusiastic\", \"enthusiastic\", \"enthusiastic\", \"enthusiastic\", \"enthusiastic\", \"enthusiastic\", \"enthusiastic\", \"enthusiastic\", \"enthusiastic\", \"enthusiastic\", \"enthusiastic\", \"enthusiastic\", \"entreron\", \"entreron\", \"entreron\", \"entreron\", \"entreron\", \"entreron\", \"entreron\", \"entreron\", \"entreron\", \"entreron\", \"entreron\", \"entreron\", \"entreron\", \"entreron\", \"eog\", \"eog\", \"eog\", \"eog\", \"eog\", \"eog\", \"eog\", \"eog\", \"eog\", \"eog\", \"eog\", \"eog\", \"eog\", \"eog\", \"epb\", \"epb\", \"epb\", \"epb\", \"epb\", \"epb\", \"epb\", \"epb\", \"epb\", \"epb\", \"epb\", \"epb\", \"epb\", \"epb\", \"equipment\", \"equipment\", \"equipment\", \"equipment\", \"equipment\", \"equipment\", \"equipment\", \"equipment\", \"equipment\", \"equipment\", \"equipment\", \"equipment\", \"equipment\", \"equipment\", \"equiva\", \"equiva\", \"equiva\", \"equiva\", \"equiva\", \"equiva\", \"equiva\", \"equiva\", \"equiva\", \"equiva\", \"equiva\", \"equiva\", \"equiva\", \"equiva\", \"erase\", \"erase\", \"erase\", \"erase\", \"erase\", \"erase\", \"erase\", \"erase\", \"erase\", \"erase\", \"erase\", \"erase\", \"erase\", \"erase\", \"established\", \"established\", \"established\", \"established\", \"established\", \"established\", \"established\", \"established\", \"established\", \"established\", \"established\", \"established\", \"established\", \"established\", \"establishment\", \"establishment\", \"establishment\", \"establishment\", \"establishment\", \"establishment\", \"establishment\", \"establishment\", \"establishment\", \"establishment\", \"establishment\", \"establishment\", \"establishment\", \"establishment\", \"estimated\", \"estimated\", \"estimated\", \"estimated\", \"estimated\", \"estimated\", \"estimated\", \"estimated\", \"estimated\", \"estimated\", \"estimated\", \"estimated\", \"estimated\", \"estimated\", \"etown_dth\", \"etown_dth\", \"etown_dth\", \"etown_dth\", \"etown_dth\", \"etown_dth\", \"etown_dth\", \"etown_dth\", \"etown_dth\", \"etown_dth\", \"etown_dth\", \"etown_dth\", \"etown_dth\", \"etown_dth\", \"eur\", \"eur\", \"eur\", \"eur\", \"eur\", \"eur\", \"eur\", \"eur\", \"eur\", \"eur\", \"eur\", \"eur\", \"eur\", \"eur\", \"euros\", \"euros\", \"euros\", \"euros\", \"euros\", \"euros\", \"euros\", \"euros\", \"euros\", \"euros\", \"euros\", \"euros\", \"euros\", \"euros\", \"eusa\", \"eusa\", \"eusa\", \"eusa\", \"eusa\", \"eusa\", \"eusa\", \"eusa\", \"eusa\", \"eusa\", \"eusa\", \"eusa\", \"eusa\", \"eusa\", \"evidence\", \"evidence\", \"evidence\", \"evidence\", \"evidence\", \"evidence\", \"evidence\", \"evidence\", \"evidence\", \"evidence\", \"evidence\", \"evidence\", \"evidence\", \"evidence\", \"excite\", \"excite\", \"excite\", \"excite\", \"excite\", \"excite\", \"excite\", \"excite\", \"excite\", \"excite\", \"excite\", \"excite\", \"excite\", \"excite\", \"exection\", \"exection\", \"exection\", \"exection\", \"exection\", \"exection\", \"exection\", \"exection\", \"exection\", \"exection\", \"exection\", \"exection\", \"exection\", \"exection\", \"expat\", \"expat\", \"expat\", \"expat\", \"expat\", \"expat\", \"expat\", \"expat\", \"expat\", \"expat\", \"expat\", \"expat\", \"expat\", \"expat\", \"expediently\", \"expediently\", \"expediently\", \"expediently\", \"expediently\", \"expediently\", \"expediently\", \"expediently\", \"expediently\", \"expediently\", \"expediently\", \"expediently\", \"expediently\", \"expediently\", \"expenditure\", \"expenditure\", \"expenditure\", \"expenditure\", \"expenditure\", \"expenditure\", \"expenditure\", \"expenditure\", \"expenditure\", \"expenditure\", \"expenditure\", \"expenditure\", \"expenditure\", \"expenditure\", \"explicitly\", \"explicitly\", \"explicitly\", \"explicitly\", \"explicitly\", \"explicitly\", \"explicitly\", \"explicitly\", \"explicitly\", \"explicitly\", \"explicitly\", \"explicitly\", \"explicitly\", \"explicitly\", \"extend\", \"extend\", \"extend\", \"extend\", \"extend\", \"extend\", \"extend\", \"extend\", \"extend\", \"extend\", \"extend\", \"extend\", \"extend\", \"extend\", \"extended\", \"extended\", \"extended\", \"extended\", \"extended\", \"extended\", \"extended\", \"extended\", \"extended\", \"extended\", \"extended\", \"extended\", \"extended\", \"extended\", \"extent\", \"extent\", \"extent\", \"extent\", \"extent\", \"extent\", \"extent\", \"extent\", \"extent\", \"extent\", \"extent\", \"extent\", \"extent\", \"extent\", \"extraction\", \"extraction\", \"extraction\", \"extraction\", \"extraction\", \"extraction\", \"extraction\", \"extraction\", \"extraction\", \"extraction\", \"extraction\", \"extraction\", \"extraction\", \"extraction\", \"fantastic\", \"fantastic\", \"fantastic\", \"fantastic\", \"fantastic\", \"fantastic\", \"fantastic\", \"fantastic\", \"fantastic\", \"fantastic\", \"fantastic\", \"fantastic\", \"fantastic\", \"fantastic\", \"faulk\", \"faulk\", \"faulk\", \"faulk\", \"faulk\", \"faulk\", \"faulk\", \"faulk\", \"faulk\", \"faulk\", \"faulk\", \"faulk\", \"faulk\", \"faulk\", \"faulty\", \"faulty\", \"faulty\", \"faulty\", \"faulty\", \"faulty\", \"faulty\", \"faulty\", \"faulty\", \"faulty\", \"faulty\", \"faulty\", \"faulty\", \"faulty\", \"favorable\", \"favorable\", \"favorable\", \"favorable\", \"favorable\", \"favorable\", \"favorable\", \"favorable\", \"favorable\", \"favorable\", \"favorable\", \"favorable\", \"favorable\", \"favorable\", \"favourable\", \"favourable\", \"favourable\", \"favourable\", \"favourable\", \"favourable\", \"favourable\", \"favourable\", \"favourable\", \"favourable\", \"favourable\", \"favourable\", \"favourable\", \"favourable\", \"fax\", \"fax\", \"fax\", \"fax\", \"fax\", \"fax\", \"fax\", \"fax\", \"fax\", \"fax\", \"fax\", \"fax\", \"fax\", \"fax\", \"feast\", \"feast\", \"feast\", \"feast\", \"feast\", \"feast\", \"feast\", \"feast\", \"feast\", \"feast\", \"feast\", \"feast\", \"feast\", \"feast\", \"feedb\", \"feedb\", \"feedb\", \"feedb\", \"feedb\", \"feedb\", \"feedb\", \"feedb\", \"feedb\", \"feedb\", \"feedb\", \"feedb\", \"feedb\", \"feedb\", \"feel\", \"feel\", \"feel\", \"feel\", \"feel\", \"feel\", \"feel\", \"feel\", \"feel\", \"feel\", \"feel\", \"feel\", \"feel\", \"feel\", \"felony\", \"felony\", \"felony\", \"felony\", \"felony\", \"felony\", \"felony\", \"felony\", \"felony\", \"felony\", \"felony\", \"felony\", \"felony\", \"felony\", \"fibre\", \"fibre\", \"fibre\", \"fibre\", \"fibre\", \"fibre\", \"fibre\", \"fibre\", \"fibre\", \"fibre\", \"fibre\", \"fibre\", \"fibre\", \"fibre\", \"film\", \"film\", \"film\", \"film\", \"film\", \"film\", \"film\", \"film\", \"film\", \"film\", \"film\", \"film\", \"film\", \"film\", \"find\", \"find\", \"find\", \"find\", \"find\", \"find\", \"find\", \"find\", \"find\", \"find\", \"find\", \"find\", \"find\", \"find\", \"finite\", \"finite\", \"finite\", \"finite\", \"finite\", \"finite\", \"finite\", \"finite\", \"finite\", \"finite\", \"finite\", \"finite\", \"finite\", \"finite\", \"fizer\", \"fizer\", \"fizer\", \"fizer\", \"fizer\", \"fizer\", \"fizer\", \"fizer\", \"fizer\", \"fizer\", \"fizer\", \"fizer\", \"fizer\", \"fizer\", \"fletch\", \"fletch\", \"fletch\", \"fletch\", \"fletch\", \"fletch\", \"fletch\", \"fletch\", \"fletch\", \"fletch\", \"fletch\", \"fletch\", \"fletch\", \"fletch\", \"foolproof\", \"foolproof\", \"foolproof\", \"foolproof\", \"foolproof\", \"foolproof\", \"foolproof\", \"foolproof\", \"foolproof\", \"foolproof\", \"foolproof\", \"foolproof\", \"foolproof\", \"foolproof\", \"form\", \"form\", \"form\", \"form\", \"form\", \"form\", \"form\", \"form\", \"form\", \"form\", \"form\", \"form\", \"form\", \"form\", \"formality\", \"formality\", \"formality\", \"formality\", \"formality\", \"formality\", \"formality\", \"formality\", \"formality\", \"formality\", \"formality\", \"formality\", \"formality\", \"formality\", \"freak\", \"freak\", \"freak\", \"freak\", \"freak\", \"freak\", \"freak\", \"freak\", \"freak\", \"freak\", \"freak\", \"freak\", \"freak\", \"freak\", \"freeway\", \"freeway\", \"freeway\", \"freeway\", \"freeway\", \"freeway\", \"freeway\", \"freeway\", \"freeway\", \"freeway\", \"freeway\", \"freeway\", \"freeway\", \"freeway\", \"freeze\", \"freeze\", \"freeze\", \"freeze\", \"freeze\", \"freeze\", \"freeze\", \"freeze\", \"freeze\", \"freeze\", \"freeze\", \"freeze\", \"freeze\", \"freeze\", \"freshmen\", \"freshmen\", \"freshmen\", \"freshmen\", \"freshmen\", \"freshmen\", \"freshmen\", \"freshmen\", \"freshmen\", \"freshmen\", \"freshmen\", \"freshmen\", \"freshmen\", \"freshmen\", \"frontn\", \"frontn\", \"frontn\", \"frontn\", \"frontn\", \"frontn\", \"frontn\", \"frontn\", \"frontn\", \"frontn\", \"frontn\", \"frontn\", \"frontn\", \"frontn\", \"functional\", \"functional\", \"functional\", \"functional\", \"functional\", \"functional\", \"functional\", \"functional\", \"functional\", \"functional\", \"functional\", \"functional\", \"functional\", \"functional\", \"fyi\", \"fyi\", \"fyi\", \"fyi\", \"fyi\", \"fyi\", \"fyi\", \"fyi\", \"fyi\", \"fyi\", \"fyi\", \"fyi\", \"fyi\", \"fyi\", \"game\", \"game\", \"game\", \"game\", \"game\", \"game\", \"game\", \"game\", \"game\", \"game\", \"game\", \"game\", \"game\", \"game\", \"garre\", \"garre\", \"garre\", \"garre\", \"garre\", \"garre\", \"garre\", \"garre\", \"garre\", \"garre\", \"garre\", \"garre\", \"garre\", \"garre\", \"gaslamp\", \"gaslamp\", \"gaslamp\", \"gaslamp\", \"gaslamp\", \"gaslamp\", \"gaslamp\", \"gaslamp\", \"gaslamp\", \"gaslamp\", \"gaslamp\", \"gaslamp\", \"gaslamp\", \"gaslamp\", \"gaze\", \"gaze\", \"gaze\", \"gaze\", \"gaze\", \"gaze\", \"gaze\", \"gaze\", \"gaze\", \"gaze\", \"gaze\", \"gaze\", \"gaze\", \"gaze\", \"gbp\", \"gbp\", \"gbp\", \"gbp\", \"gbp\", \"gbp\", \"gbp\", \"gbp\", \"gbp\", \"gbp\", \"gbp\", \"gbp\", \"gbp\", \"gbp\", \"geaccone\", \"geaccone\", \"geaccone\", \"geaccone\", \"geaccone\", \"geaccone\", \"geaccone\", \"geaccone\", \"geaccone\", \"geaccone\", \"geaccone\", \"geaccone\", \"geaccone\", \"geaccone\", \"generalize\", \"generalize\", \"generalize\", \"generalize\", \"generalize\", \"generalize\", \"generalize\", \"generalize\", \"generalize\", \"generalize\", \"generalize\", \"generalize\", \"generalize\", \"generalize\", \"geophysicist\", \"geophysicist\", \"geophysicist\", \"geophysicist\", \"geophysicist\", \"geophysicist\", \"geophysicist\", \"geophysicist\", \"geophysicist\", \"geophysicist\", \"geophysicist\", \"geophysicist\", \"geophysicist\", \"geophysicist\", \"george_grant\", \"george_grant\", \"george_grant\", \"george_grant\", \"george_grant\", \"george_grant\", \"george_grant\", \"george_grant\", \"george_grant\", \"george_grant\", \"george_grant\", \"george_grant\", \"george_grant\", \"george_grant\", \"glaze\", \"glaze\", \"glaze\", \"glaze\", \"glaze\", \"glaze\", \"glaze\", \"glaze\", \"glaze\", \"glaze\", \"glaze\", \"glaze\", \"glaze\", \"glaze\", \"goodbye\", \"goodbye\", \"goodbye\", \"goodbye\", \"goodbye\", \"goodbye\", \"goodbye\", \"goodbye\", \"goodbye\", \"goodbye\", \"goodbye\", \"goodbye\", \"goodbye\", \"goodbye\", \"goodwill\", \"goodwill\", \"goodwill\", \"goodwill\", \"goodwill\", \"goodwill\", \"goodwill\", \"goodwill\", \"goodwill\", \"goodwill\", \"goodwill\", \"goodwill\", \"goodwill\", \"goodwill\", \"goss\", \"goss\", \"goss\", \"goss\", \"goss\", \"goss\", \"goss\", \"goss\", \"goss\", \"goss\", \"goss\", \"goss\", \"goss\", \"goss\", \"gradation\", \"gradation\", \"gradation\", \"gradation\", \"gradation\", \"gradation\", \"gradation\", \"gradation\", \"gradation\", \"gradation\", \"gradation\", \"gradation\", \"gradation\", \"gradation\", \"grandma\", \"grandma\", \"grandma\", \"grandma\", \"grandma\", \"grandma\", \"grandma\", \"grandma\", \"grandma\", \"grandma\", \"grandma\", \"grandma\", \"grandma\", \"grandma\", \"gravitate\", \"gravitate\", \"gravitate\", \"gravitate\", \"gravitate\", \"gravitate\", \"gravitate\", \"gravitate\", \"gravitate\", \"gravitate\", \"gravitate\", \"gravitate\", \"gravitate\", \"gravitate\", \"greenfield\", \"greenfield\", \"greenfield\", \"greenfield\", \"greenfield\", \"greenfield\", \"greenfield\", \"greenfield\", \"greenfield\", \"greenfield\", \"greenfield\", \"greenfield\", \"greenfield\", \"greenfield\", \"groundwater\", \"groundwater\", \"groundwater\", \"groundwater\", \"groundwater\", \"groundwater\", \"groundwater\", \"groundwater\", \"groundwater\", \"groundwater\", \"groundwater\", \"groundwater\", \"groundwater\", \"groundwater\", \"grouping\", \"grouping\", \"grouping\", \"grouping\", \"grouping\", \"grouping\", \"grouping\", \"grouping\", \"grouping\", \"grouping\", \"grouping\", \"grouping\", \"grouping\", \"grouping\", \"groveport\", \"groveport\", \"groveport\", \"groveport\", \"groveport\", \"groveport\", \"groveport\", \"groveport\", \"groveport\", \"groveport\", \"groveport\", \"groveport\", \"groveport\", \"groveport\", \"grow\", \"grow\", \"grow\", \"grow\", \"grow\", \"grow\", \"grow\", \"grow\", \"grow\", \"grow\", \"grow\", \"grow\", \"grow\", \"grow\", \"gtc\", \"gtc\", \"gtc\", \"gtc\", \"gtc\", \"gtc\", \"gtc\", \"gtc\", \"gtc\", \"gtc\", \"gtc\", \"gtc\", \"gtc\", \"gtc\", \"guessing\", \"guessing\", \"guessing\", \"guessing\", \"guessing\", \"guessing\", \"guessing\", \"guessing\", \"guessing\", \"guessing\", \"guessing\", \"guessing\", \"guessing\", \"guessing\", \"guestroom\", \"guestroom\", \"guestroom\", \"guestroom\", \"guestroom\", \"guestroom\", \"guestroom\", \"guestroom\", \"guestroom\", \"guestroom\", \"guestroom\", \"guestroom\", \"guestroom\", \"guestroom\", \"guide\", \"guide\", \"guide\", \"guide\", \"guide\", \"guide\", \"guide\", \"guide\", \"guide\", \"guide\", \"guide\", \"guide\", \"guide\", \"guide\", \"guilt\", \"guilt\", \"guilt\", \"guilt\", \"guilt\", \"guilt\", \"guilt\", \"guilt\", \"guilt\", \"guilt\", \"guilt\", \"guilt\", \"guilt\", \"guilt\", \"gun\", \"gun\", \"gun\", \"gun\", \"gun\", \"gun\", \"gun\", \"gun\", \"gun\", \"gun\", \"gun\", \"gun\", \"gun\", \"gun\", \"hamstre\", \"hamstre\", \"hamstre\", \"hamstre\", \"hamstre\", \"hamstre\", \"hamstre\", \"hamstre\", \"hamstre\", \"hamstre\", \"hamstre\", \"hamstre\", \"hamstre\", \"hamstre\", \"handful\", \"handful\", \"handful\", \"handful\", \"handful\", \"handful\", \"handful\", \"handful\", \"handful\", \"handful\", \"handful\", \"handful\", \"handful\", \"handful\", \"handsomely\", \"handsomely\", \"handsomely\", \"handsomely\", \"handsomely\", \"handsomely\", \"handsomely\", \"handsomely\", \"handsomely\", \"handsomely\", \"handsomely\", \"handsomely\", \"handsomely\", \"handsomely\", \"handwritten\", \"handwritten\", \"handwritten\", \"handwritten\", \"handwritten\", \"handwritten\", \"handwritten\", \"handwritten\", \"handwritten\", \"handwritten\", \"handwritten\", \"handwritten\", \"handwritten\", \"handwritten\", \"hardwork\", \"hardwork\", \"hardwork\", \"hardwork\", \"hardwork\", \"hardwork\", \"hardwork\", \"hardwork\", \"hardwork\", \"hardwork\", \"hardwork\", \"hardwork\", \"hardwork\", \"hardwork\", \"heartbeat\", \"heartbeat\", \"heartbeat\", \"heartbeat\", \"heartbeat\", \"heartbeat\", \"heartbeat\", \"heartbeat\", \"heartbeat\", \"heartbeat\", \"heartbeat\", \"heartbeat\", \"heartbeat\", \"heartbeat\", \"hh\", \"hh\", \"hh\", \"hh\", \"hh\", \"hh\", \"hh\", \"hh\", \"hh\", \"hh\", \"hh\", \"hh\", \"hh\", \"hh\", \"highly_recommend\", \"highly_recommend\", \"highly_recommend\", \"highly_recommend\", \"highly_recommend\", \"highly_recommend\", \"highly_recommend\", \"highly_recommend\", \"highly_recommend\", \"highly_recommend\", \"highly_recommend\", \"highly_recommend\", \"highly_recommend\", \"highly_recommend\", \"hike\", \"hike\", \"hike\", \"hike\", \"hike\", \"hike\", \"hike\", \"hike\", \"hike\", \"hike\", \"hike\", \"hike\", \"hike\", \"hike\", \"hispanic\", \"hispanic\", \"hispanic\", \"hispanic\", \"hispanic\", \"hispanic\", \"hispanic\", \"hispanic\", \"hispanic\", \"hispanic\", \"hispanic\", \"hispanic\", \"hispanic\", \"hispanic\", \"hole\", \"hole\", \"hole\", \"hole\", \"hole\", \"hole\", \"hole\", \"hole\", \"hole\", \"hole\", \"hole\", \"hole\", \"hole\", \"hole\", \"hostess\", \"hostess\", \"hostess\", \"hostess\", \"hostess\", \"hostess\", \"hostess\", \"hostess\", \"hostess\", \"hostess\", \"hostess\", \"hostess\", \"hostess\", \"hostess\", \"hourly\", \"hourly\", \"hourly\", \"hourly\", \"hourly\", \"hourly\", \"hourly\", \"hourly\", \"hourly\", \"hourly\", \"hourly\", \"hourly\", \"hourly\", \"hourly\", \"hrgis\", \"hrgis\", \"hrgis\", \"hrgis\", \"hrgis\", \"hrgis\", \"hrgis\", \"hrgis\", \"hrgis\", \"hrgis\", \"hrgis\", \"hrgis\", \"hrgis\", \"hrgis\", \"husbanding\", \"husbanding\", \"husbanding\", \"husbanding\", \"husbanding\", \"husbanding\", \"husbanding\", \"husbanding\", \"husbanding\", \"husbanding\", \"husbanding\", \"husbanding\", \"husbanding\", \"husbanding\", \"icould\", \"icould\", \"icould\", \"icould\", \"icould\", \"icould\", \"icould\", \"icould\", \"icould\", \"icould\", \"icould\", \"icould\", \"icould\", \"icould\", \"idiotic\", \"idiotic\", \"idiotic\", \"idiotic\", \"idiotic\", \"idiotic\", \"idiotic\", \"idiotic\", \"idiotic\", \"idiotic\", \"idiotic\", \"idiotic\", \"idiotic\", \"idiotic\", \"ifs\", \"ifs\", \"ifs\", \"ifs\", \"ifs\", \"ifs\", \"ifs\", \"ifs\", \"ifs\", \"ifs\", \"ifs\", \"ifs\", \"ifs\", \"ifs\", \"illegally\", \"illegally\", \"illegally\", \"illegally\", \"illegally\", \"illegally\", \"illegally\", \"illegally\", \"illegally\", \"illegally\", \"illegally\", \"illegally\", \"illegally\", \"illegally\", \"imme\", \"imme\", \"imme\", \"imme\", \"imme\", \"imme\", \"imme\", \"imme\", \"imme\", \"imme\", \"imme\", \"imme\", \"imme\", \"imme\", \"impediment\", \"impediment\", \"impediment\", \"impediment\", \"impediment\", \"impediment\", \"impediment\", \"impediment\", \"impediment\", \"impediment\", \"impediment\", \"impediment\", \"impediment\", \"impediment\", \"improved\", \"improved\", \"improved\", \"improved\", \"improved\", \"improved\", \"improved\", \"improved\", \"improved\", \"improved\", \"improved\", \"improved\", \"improved\", \"improved\", \"inadvertently\", \"inadvertently\", \"inadvertently\", \"inadvertently\", \"inadvertently\", \"inadvertently\", \"inadvertently\", \"inadvertently\", \"inadvertently\", \"inadvertently\", \"inadvertently\", \"inadvertently\", \"inadvertently\", \"inadvertently\", \"inception\", \"inception\", \"inception\", \"inception\", \"inception\", \"inception\", \"inception\", \"inception\", \"inception\", \"inception\", \"inception\", \"inception\", \"inception\", \"inception\", \"inconvience\", \"inconvience\", \"inconvience\", \"inconvience\", \"inconvience\", \"inconvience\", \"inconvience\", \"inconvience\", \"inconvience\", \"inconvience\", \"inconvience\", \"inconvience\", \"inconvience\", \"inconvience\", \"indicated_shipper\", \"indicated_shipper\", \"indicated_shipper\", \"indicated_shipper\", \"indicated_shipper\", \"indicated_shipper\", \"indicated_shipper\", \"indicated_shipper\", \"indicated_shipper\", \"indicated_shipper\", \"indicated_shipper\", \"indicated_shipper\", \"indicated_shipper\", \"indicated_shipper\", \"individually\", \"individually\", \"individually\", \"individually\", \"individually\", \"individually\", \"individually\", \"individually\", \"individually\", \"individually\", \"individually\", \"individually\", \"individually\", \"individually\", \"infection\", \"infection\", \"infection\", \"infection\", \"infection\", \"infection\", \"infection\", \"infection\", \"infection\", \"infection\", \"infection\", \"infection\", \"infection\", \"infection\", \"inferior\", \"inferior\", \"inferior\", \"inferior\", \"inferior\", \"inferior\", \"inferior\", \"inferior\", \"inferior\", \"inferior\", \"inferior\", \"inferior\", \"inferior\", \"inferior\", \"info\", \"info\", \"info\", \"info\", \"info\", \"info\", \"info\", \"info\", \"info\", \"info\", \"info\", \"info\", \"info\", \"info\", \"injection\", \"injection\", \"injection\", \"injection\", \"injection\", \"injection\", \"injection\", \"injection\", \"injection\", \"injection\", \"injection\", \"injection\", \"injection\", \"injection\", \"innocence\", \"innocence\", \"innocence\", \"innocence\", \"innocence\", \"innocence\", \"innocence\", \"innocence\", \"innocence\", \"innocence\", \"innocence\", \"innocence\", \"innocence\", \"innocence\", \"inorder\", \"inorder\", \"inorder\", \"inorder\", \"inorder\", \"inorder\", \"inorder\", \"inorder\", \"inorder\", \"inorder\", \"inorder\", \"inorder\", \"inorder\", \"inorder\", \"insistent\", \"insistent\", \"insistent\", \"insistent\", \"insistent\", \"insistent\", \"insistent\", \"insistent\", \"insistent\", \"insistent\", \"insistent\", \"insistent\", \"insistent\", \"insistent\", \"inspection\", \"inspection\", \"inspection\", \"inspection\", \"inspection\", \"inspection\", \"inspection\", \"inspection\", \"inspection\", \"inspection\", \"inspection\", \"inspection\", \"inspection\", \"inspection\", \"instance\", \"instance\", \"instance\", \"instance\", \"instance\", \"instance\", \"instance\", \"instance\", \"instance\", \"instance\", \"instance\", \"instance\", \"instance\", \"instance\", \"institution\", \"institution\", \"institution\", \"institution\", \"institution\", \"institution\", \"institution\", \"institution\", \"institution\", \"institution\", \"institution\", \"institution\", \"institution\", \"institution\", \"internship\", \"internship\", \"internship\", \"internship\", \"internship\", \"internship\", \"internship\", \"internship\", \"internship\", \"internship\", \"internship\", \"internship\", \"internship\", \"internship\", \"intra\", \"intra\", \"intra\", \"intra\", \"intra\", \"intra\", \"intra\", \"intra\", \"intra\", \"intra\", \"intra\", \"intra\", \"intra\", \"intra\", \"invitaion\", \"invitaion\", \"invitaion\", \"invitaion\", \"invitaion\", \"invitaion\", \"invitaion\", \"invitaion\", \"invitaion\", \"invitaion\", \"invitaion\", \"invitaion\", \"invitaion\", \"invitaion\", \"invlove\", \"invlove\", \"invlove\", \"invlove\", \"invlove\", \"invlove\", \"invlove\", \"invlove\", \"invlove\", \"invlove\", \"invlove\", \"invlove\", \"invlove\", \"invlove\", \"iopen\", \"iopen\", \"iopen\", \"iopen\", \"iopen\", \"iopen\", \"iopen\", \"iopen\", \"iopen\", \"iopen\", \"iopen\", \"iopen\", \"iopen\", \"iopen\", \"ish\", \"ish\", \"ish\", \"ish\", \"ish\", \"ish\", \"ish\", \"ish\", \"ish\", \"ish\", \"ish\", \"ish\", \"ish\", \"ish\", \"isleta\", \"isleta\", \"isleta\", \"isleta\", \"isleta\", \"isleta\", \"isleta\", \"isleta\", \"isleta\", \"isleta\", \"isleta\", \"isleta\", \"isleta\", \"isleta\", \"jeffrey\", \"jeffrey\", \"jeffrey\", \"jeffrey\", \"jeffrey\", \"jeffrey\", \"jeffrey\", \"jeffrey\", \"jeffrey\", \"jeffrey\", \"jeffrey\", \"jeffrey\", \"jeffrey\", \"jeffrey\", \"kern\", \"kern\", \"kern\", \"kern\", \"kern\", \"kern\", \"kern\", \"kern\", \"kern\", \"kern\", \"kern\", \"kern\", \"kern\", \"kern\", \"kicker\", \"kicker\", \"kicker\", \"kicker\", \"kicker\", \"kicker\", \"kicker\", \"kicker\", \"kicker\", \"kicker\", \"kicker\", \"kicker\", \"kicker\", \"kicker\", \"kid\", \"kid\", \"kid\", \"kid\", \"kid\", \"kid\", \"kid\", \"kid\", \"kid\", \"kid\", \"kid\", \"kid\", \"kid\", \"kid\", \"kit\", \"kit\", \"kit\", \"kit\", \"kit\", \"kit\", \"kit\", \"kit\", \"kit\", \"kit\", \"kit\", \"kit\", \"kit\", \"kit\", \"km\", \"km\", \"km\", \"km\", \"km\", \"km\", \"km\", \"km\", \"km\", \"km\", \"km\", \"km\", \"km\", \"km\", \"kotex\", \"kotex\", \"kotex\", \"kotex\", \"kotex\", \"kotex\", \"kotex\", \"kotex\", \"kotex\", \"kotex\", \"kotex\", \"kotex\", \"kotex\", \"kotex\", \"lagrasta\", \"lagrasta\", \"lagrasta\", \"lagrasta\", \"lagrasta\", \"lagrasta\", \"lagrasta\", \"lagrasta\", \"lagrasta\", \"lagrasta\", \"lagrasta\", \"lagrasta\", \"lagrasta\", \"lagrasta\", \"lance\", \"lance\", \"lance\", \"lance\", \"lance\", \"lance\", \"lance\", \"lance\", \"lance\", \"lance\", \"lance\", \"lance\", \"lance\", \"lance\", \"late\", \"late\", \"late\", \"late\", \"late\", \"late\", \"late\", \"late\", \"late\", \"late\", \"late\", \"late\", \"late\", \"late\", \"latrove\", \"latrove\", \"latrove\", \"latrove\", \"latrove\", \"latrove\", \"latrove\", \"latrove\", \"latrove\", \"latrove\", \"latrove\", \"latrove\", \"latrove\", \"latrove\", \"learnt\", \"learnt\", \"learnt\", \"learnt\", \"learnt\", \"learnt\", \"learnt\", \"learnt\", \"learnt\", \"learnt\", \"learnt\", \"learnt\", \"learnt\", \"learnt\", \"leasing\", \"leasing\", \"leasing\", \"leasing\", \"leasing\", \"leasing\", \"leasing\", \"leasing\", \"leasing\", \"leasing\", \"leasing\", \"leasing\", \"leasing\", \"leasing\", \"leehouse\", \"leehouse\", \"leehouse\", \"leehouse\", \"leehouse\", \"leehouse\", \"leehouse\", \"leehouse\", \"leehouse\", \"leehouse\", \"leehouse\", \"leehouse\", \"leehouse\", \"leehouse\", \"legal_fee\", \"legal_fee\", \"legal_fee\", \"legal_fee\", \"legal_fee\", \"legal_fee\", \"legal_fee\", \"legal_fee\", \"legal_fee\", \"legal_fee\", \"legal_fee\", \"legal_fee\", \"legal_fee\", \"legal_fee\", \"letterhead\", \"letterhead\", \"letterhead\", \"letterhead\", \"letterhead\", \"letterhead\", \"letterhead\", \"letterhead\", \"letterhead\", \"letterhead\", \"letterhead\", \"letterhead\", \"letterhead\", \"letterhead\", \"lindy\", \"lindy\", \"lindy\", \"lindy\", \"lindy\", \"lindy\", \"lindy\", \"lindy\", \"lindy\", \"lindy\", \"lindy\", \"lindy\", \"lindy\", \"lindy\", \"litiagation\", \"litiagation\", \"litiagation\", \"litiagation\", \"litiagation\", \"litiagation\", \"litiagation\", \"litiagation\", \"litiagation\", \"litiagation\", \"litiagation\", \"litiagation\", \"litiagation\", \"litiagation\", \"login_id\", \"login_id\", \"login_id\", \"login_id\", \"login_id\", \"login_id\", \"login_id\", \"login_id\", \"login_id\", \"login_id\", \"login_id\", \"login_id\", \"login_id\", \"login_id\", \"lompoc\", \"lompoc\", \"lompoc\", \"lompoc\", \"lompoc\", \"lompoc\", \"lompoc\", \"lompoc\", \"lompoc\", \"lompoc\", \"lompoc\", \"lompoc\", \"lompoc\", \"lompoc\", \"lrc\", \"lrc\", \"lrc\", \"lrc\", \"lrc\", \"lrc\", \"lrc\", \"lrc\", \"lrc\", \"lrc\", \"lrc\", \"lrc\", \"lrc\", \"lrc\", \"maintenance\", \"maintenance\", \"maintenance\", \"maintenance\", \"maintenance\", \"maintenance\", \"maintenance\", \"maintenance\", \"maintenance\", \"maintenance\", \"maintenance\", \"maintenance\", \"maintenance\", \"maintenance\", \"manti\", \"manti\", \"manti\", \"manti\", \"manti\", \"manti\", \"manti\", \"manti\", \"manti\", \"manti\", \"manti\", \"manti\", \"manti\", \"manti\", \"matching\", \"matching\", \"matching\", \"matching\", \"matching\", \"matching\", \"matching\", \"matching\", \"matching\", \"matching\", \"matching\", \"matching\", \"matching\", \"matching\", \"materially\", \"materially\", \"materially\", \"materially\", \"materially\", \"materially\", \"materially\", \"materially\", \"materially\", \"materially\", \"materially\", \"materially\", \"materially\", \"materially\", \"matthew\", \"matthew\", \"matthew\", \"matthew\", \"matthew\", \"matthew\", \"matthew\", \"matthew\", \"matthew\", \"matthew\", \"matthew\", \"matthew\", \"matthew\", \"matthew\", \"meaningless\", \"meaningless\", \"meaningless\", \"meaningless\", \"meaningless\", \"meaningless\", \"meaningless\", \"meaningless\", \"meaningless\", \"meaningless\", \"meaningless\", \"meaningless\", \"meaningless\", \"meaningless\", \"meanwhile\", \"meanwhile\", \"meanwhile\", \"meanwhile\", \"meanwhile\", \"meanwhile\", \"meanwhile\", \"meanwhile\", \"meanwhile\", \"meanwhile\", \"meanwhile\", \"meanwhile\", \"meanwhile\", \"meanwhile\", \"mendel\", \"mendel\", \"mendel\", \"mendel\", \"mendel\", \"mendel\", \"mendel\", \"mendel\", \"mendel\", \"mendel\", \"mendel\", \"mendel\", \"mendel\", \"mendel\", \"mentally\", \"mentally\", \"mentally\", \"mentally\", \"mentally\", \"mentally\", \"mentally\", \"mentally\", \"mentally\", \"mentally\", \"mentally\", \"mentally\", \"mentally\", \"mentally\", \"mentor\", \"mentor\", \"mentor\", \"mentor\", \"mentor\", \"mentor\", \"mentor\", \"mentor\", \"mentor\", \"mentor\", \"mentor\", \"mentor\", \"mentor\", \"mentor\", \"mi\", \"mi\", \"mi\", \"mi\", \"mi\", \"mi\", \"mi\", \"mi\", \"mi\", \"mi\", \"mi\", \"mi\", \"mi\", \"mi\", \"michelle_bruce\", \"michelle_bruce\", \"michelle_bruce\", \"michelle_bruce\", \"michelle_bruce\", \"michelle_bruce\", \"michelle_bruce\", \"michelle_bruce\", \"michelle_bruce\", \"michelle_bruce\", \"michelle_bruce\", \"michelle_bruce\", \"michelle_bruce\", \"michelle_bruce\", \"midcontinent\", \"midcontinent\", \"midcontinent\", \"midcontinent\", \"midcontinent\", \"midcontinent\", \"midcontinent\", \"midcontinent\", \"midcontinent\", \"midcontinent\", \"midcontinent\", \"midcontinent\", \"midcontinent\", \"midcontinent\", \"mileage\", \"mileage\", \"mileage\", \"mileage\", \"mileage\", \"mileage\", \"mileage\", \"mileage\", \"mileage\", \"mileage\", \"mileage\", \"mileage\", \"mileage\", \"mileage\", \"milk\", \"milk\", \"milk\", \"milk\", \"milk\", \"milk\", \"milk\", \"milk\", \"milk\", \"milk\", \"milk\", \"milk\", \"milk\", \"milk\", \"missionary\", \"missionary\", \"missionary\", \"missionary\", \"missionary\", \"missionary\", \"missionary\", \"missionary\", \"missionary\", \"missionary\", \"missionary\", \"missionary\", \"missionary\", \"missionary\", \"mmbtus\", \"mmbtus\", \"mmbtus\", \"mmbtus\", \"mmbtus\", \"mmbtus\", \"mmbtus\", \"mmbtus\", \"mmbtus\", \"mmbtus\", \"mmbtus\", \"mmbtus\", \"mmbtus\", \"mmbtus\", \"mob\", \"mob\", \"mob\", \"mob\", \"mob\", \"mob\", \"mob\", \"mob\", \"mob\", \"mob\", \"mob\", \"mob\", \"mob\", \"mob\", \"mobility\", \"mobility\", \"mobility\", \"mobility\", \"mobility\", \"mobility\", \"mobility\", \"mobility\", \"mobility\", \"mobility\", \"mobility\", \"mobility\", \"mobility\", \"mobility\", \"mohave\", \"mohave\", \"mohave\", \"mohave\", \"mohave\", \"mohave\", \"mohave\", \"mohave\", \"mohave\", \"mohave\", \"mohave\", \"mohave\", \"mohave\", \"mohave\", \"motel\", \"motel\", \"motel\", \"motel\", \"motel\", \"motel\", \"motel\", \"motel\", \"motel\", \"motel\", \"motel\", \"motel\", \"motel\", \"motel\", \"mthod\", \"mthod\", \"mthod\", \"mthod\", \"mthod\", \"mthod\", \"mthod\", \"mthod\", \"mthod\", \"mthod\", \"mthod\", \"mthod\", \"mthod\", \"mthod\", \"municipal\", \"municipal\", \"municipal\", \"municipal\", \"municipal\", \"municipal\", \"municipal\", \"municipal\", \"municipal\", \"municipal\", \"municipal\", \"municipal\", \"municipal\", \"municipal\", \"mutually\", \"mutually\", \"mutually\", \"mutually\", \"mutually\", \"mutually\", \"mutually\", \"mutually\", \"mutually\", \"mutually\", \"mutually\", \"mutually\", \"mutually\", \"mutually\", \"nanny\", \"nanny\", \"nanny\", \"nanny\", \"nanny\", \"nanny\", \"nanny\", \"nanny\", \"nanny\", \"nanny\", \"nanny\", \"nanny\", \"nanny\", \"nanny\", \"national\", \"national\", \"national\", \"national\", \"national\", \"national\", \"national\", \"national\", \"national\", \"national\", \"national\", \"national\", \"national\", \"national\", \"ncern\", \"ncern\", \"ncern\", \"ncern\", \"ncern\", \"ncern\", \"ncern\", \"ncern\", \"ncern\", \"ncern\", \"ncern\", \"ncern\", \"ncern\", \"ncern\", \"needed\", \"needed\", \"needed\", \"needed\", \"needed\", \"needed\", \"needed\", \"needed\", \"needed\", \"needed\", \"needed\", \"needed\", \"needed\", \"needed\", \"negotiate\", \"negotiate\", \"negotiate\", \"negotiate\", \"negotiate\", \"negotiate\", \"negotiate\", \"negotiate\", \"negotiate\", \"negotiate\", \"negotiate\", \"negotiate\", \"negotiate\", \"negotiate\", \"net\", \"net\", \"net\", \"net\", \"net\", \"net\", \"net\", \"net\", \"net\", \"net\", \"net\", \"net\", \"net\", \"net\", \"newsletter\", \"newsletter\", \"newsletter\", \"newsletter\", \"newsletter\", \"newsletter\", \"newsletter\", \"newsletter\", \"newsletter\", \"newsletter\", \"newsletter\", \"newsletter\", \"newsletter\", \"newsletter\", \"nful\", \"nful\", \"nful\", \"nful\", \"nful\", \"nful\", \"nful\", \"nful\", \"nful\", \"nful\", \"nful\", \"nful\", \"nful\", \"nful\", \"nicole\", \"nicole\", \"nicole\", \"nicole\", \"nicole\", \"nicole\", \"nicole\", \"nicole\", \"nicole\", \"nicole\", \"nicole\", \"nicole\", \"nicole\", \"nicole\", \"nite\", \"nite\", \"nite\", \"nite\", \"nite\", \"nite\", \"nite\", \"nite\", \"nite\", \"nite\", \"nite\", \"nite\", \"nite\", \"nite\", \"noble\", \"noble\", \"noble\", \"noble\", \"noble\", \"noble\", \"noble\", \"noble\", \"noble\", \"noble\", \"noble\", \"noble\", \"noble\", \"noble\", \"nominate\", \"nominate\", \"nominate\", \"nominate\", \"nominate\", \"nominate\", \"nominate\", \"nominate\", \"nominate\", \"nominate\", \"nominate\", \"nominate\", \"nominate\", \"nominate\", \"nominated\", \"nominated\", \"nominated\", \"nominated\", \"nominated\", \"nominated\", \"nominated\", \"nominated\", \"nominated\", \"nominated\", \"nominated\", \"nominated\", \"nominated\", \"nominated\", \"nope\", \"nope\", \"nope\", \"nope\", \"nope\", \"nope\", \"nope\", \"nope\", \"nope\", \"nope\", \"nope\", \"nope\", \"nope\", \"nope\", \"normalized\", \"normalized\", \"normalized\", \"normalized\", \"normalized\", \"normalized\", \"normalized\", \"normalized\", \"normalized\", \"normalized\", \"normalized\", \"normalized\", \"normalized\", \"normalized\", \"nothing\", \"nothing\", \"nothing\", \"nothing\", \"nothing\", \"nothing\", \"nothing\", \"nothing\", \"nothing\", \"nothing\", \"nothing\", \"nothing\", \"nothing\", \"nothing\", \"novsek\", \"novsek\", \"novsek\", \"novsek\", \"novsek\", \"novsek\", \"novsek\", \"novsek\", \"novsek\", \"novsek\", \"novsek\", \"novsek\", \"novsek\", \"novsek\", \"nursing\", \"nursing\", \"nursing\", \"nursing\", \"nursing\", \"nursing\", \"nursing\", \"nursing\", \"nursing\", \"nursing\", \"nursing\", \"nursing\", \"nursing\", \"nursing\", \"oa\", \"oa\", \"oa\", \"oa\", \"oa\", \"oa\", \"oa\", \"oa\", \"oa\", \"oa\", \"oa\", \"oa\", \"oa\", \"oa\", \"obligate\", \"obligate\", \"obligate\", \"obligate\", \"obligate\", \"obligate\", \"obligate\", \"obligate\", \"obligate\", \"obligate\", \"obligate\", \"obligate\", \"obligate\", \"obligate\", \"obstacle\", \"obstacle\", \"obstacle\", \"obstacle\", \"obstacle\", \"obstacle\", \"obstacle\", \"obstacle\", \"obstacle\", \"obstacle\", \"obstacle\", \"obstacle\", \"obstacle\", \"obstacle\", \"offence\", \"offence\", \"offence\", \"offence\", \"offence\", \"offence\", \"offence\", \"offence\", \"offence\", \"offence\", \"offence\", \"offence\", \"offence\", \"offence\", \"offset\", \"offset\", \"offset\", \"offset\", \"offset\", \"offset\", \"offset\", \"offset\", \"offset\", \"offset\", \"offset\", \"offset\", \"offset\", \"offset\", \"ogden\", \"ogden\", \"ogden\", \"ogden\", \"ogden\", \"ogden\", \"ogden\", \"ogden\", \"ogden\", \"ogden\", \"ogden\", \"ogden\", \"ogden\", \"ogden\", \"onerous\", \"onerous\", \"onerous\", \"onerous\", \"onerous\", \"onerous\", \"onerous\", \"onerous\", \"onerous\", \"onerous\", \"onerous\", \"onerous\", \"onerous\", \"onerous\", \"open_dpr\", \"open_dpr\", \"open_dpr\", \"open_dpr\", \"open_dpr\", \"open_dpr\", \"open_dpr\", \"open_dpr\", \"open_dpr\", \"open_dpr\", \"open_dpr\", \"open_dpr\", \"open_dpr\", \"open_dpr\", \"openness\", \"openness\", \"openness\", \"openness\", \"openness\", \"openness\", \"openness\", \"openness\", \"openness\", \"openness\", \"openness\", \"openness\", \"openness\", \"openness\", \"oslo\", \"oslo\", \"oslo\", \"oslo\", \"oslo\", \"oslo\", \"oslo\", \"oslo\", \"oslo\", \"oslo\", \"oslo\", \"oslo\", \"oslo\", \"oslo\", \"ous\", \"ous\", \"ous\", \"ous\", \"ous\", \"ous\", \"ous\", \"ous\", \"ous\", \"ous\", \"ous\", \"ous\", \"ous\", \"ous\", \"outsourcing\", \"outsourcing\", \"outsourcing\", \"outsourcing\", \"outsourcing\", \"outsourcing\", \"outsourcing\", \"outsourcing\", \"outsourcing\", \"outsourcing\", \"outsourcing\", \"outsourcing\", \"outsourcing\", \"outsourcing\", \"overhaul\", \"overhaul\", \"overhaul\", \"overhaul\", \"overhaul\", \"overhaul\", \"overhaul\", \"overhaul\", \"overhaul\", \"overhaul\", \"overhaul\", \"overhaul\", \"overhaul\", \"overhaul\", \"overhauls\", \"overhauls\", \"overhauls\", \"overhauls\", \"overhauls\", \"overhauls\", \"overhauls\", \"overhauls\", \"overhauls\", \"overhauls\", \"overhauls\", \"overhauls\", \"overhauls\", \"overhauls\", \"oversight\", \"oversight\", \"oversight\", \"oversight\", \"oversight\", \"oversight\", \"oversight\", \"oversight\", \"oversight\", \"oversight\", \"oversight\", \"oversight\", \"oversight\", \"oversight\", \"participate\", \"participate\", \"participate\", \"participate\", \"participate\", \"participate\", \"participate\", \"participate\", \"participate\", \"participate\", \"participate\", \"participate\", \"participate\", \"participate\", \"passionate\", \"passionate\", \"passionate\", \"passionate\", \"passionate\", \"passionate\", \"passionate\", \"passionate\", \"passionate\", \"passionate\", \"passionate\", \"passionate\", \"passionate\", \"passionate\", \"paste\", \"paste\", \"paste\", \"paste\", \"paste\", \"paste\", \"paste\", \"paste\", \"paste\", \"paste\", \"paste\", \"paste\", \"paste\", \"paste\", \"pastoria\", \"pastoria\", \"pastoria\", \"pastoria\", \"pastoria\", \"pastoria\", \"pastoria\", \"pastoria\", \"pastoria\", \"pastoria\", \"pastoria\", \"pastoria\", \"pastoria\", \"pastoria\", \"pathing\", \"pathing\", \"pathing\", \"pathing\", \"pathing\", \"pathing\", \"pathing\", \"pathing\", \"pathing\", \"pathing\", \"pathing\", \"pathing\", \"pathing\", \"pathing\", \"pbcs\", \"pbcs\", \"pbcs\", \"pbcs\", \"pbcs\", \"pbcs\", \"pbcs\", \"pbcs\", \"pbcs\", \"pbcs\", \"pbcs\", \"pbcs\", \"pbcs\", \"pbcs\", \"pbr\", \"pbr\", \"pbr\", \"pbr\", \"pbr\", \"pbr\", \"pbr\", \"pbr\", \"pbr\", \"pbr\", \"pbr\", \"pbr\", \"pbr\", \"pbr\", \"pendergrass\", \"pendergrass\", \"pendergrass\", \"pendergrass\", \"pendergrass\", \"pendergrass\", \"pendergrass\", \"pendergrass\", \"pendergrass\", \"pendergrass\", \"pendergrass\", \"pendergrass\", \"pendergrass\", \"pendergrass\", \"pero\", \"pero\", \"pero\", \"pero\", \"pero\", \"pero\", \"pero\", \"pero\", \"pero\", \"pero\", \"pero\", \"pero\", \"pero\", \"pero\", \"pgev\", \"pgev\", \"pgev\", \"pgev\", \"pgev\", \"pgev\", \"pgev\", \"pgev\", \"pgev\", \"pgev\", \"pgev\", \"pgev\", \"pgev\", \"pgev\", \"pgsmi\", \"pgsmi\", \"pgsmi\", \"pgsmi\", \"pgsmi\", \"pgsmi\", \"pgsmi\", \"pgsmi\", \"pgsmi\", \"pgsmi\", \"pgsmi\", \"pgsmi\", \"pgsmi\", \"pgsmi\", \"photographer\", \"photographer\", \"photographer\", \"photographer\", \"photographer\", \"photographer\", \"photographer\", \"photographer\", \"photographer\", \"photographer\", \"photographer\", \"photographer\", \"photographer\", \"photographer\", \"pi\", \"pi\", \"pi\", \"pi\", \"pi\", \"pi\", \"pi\", \"pi\", \"pi\", \"pi\", \"pi\", \"pi\", \"pi\", \"pi\", \"pick_up\", \"pick_up\", \"pick_up\", \"pick_up\", \"pick_up\", \"pick_up\", \"pick_up\", \"pick_up\", \"pick_up\", \"pick_up\", \"pick_up\", \"pick_up\", \"pick_up\", \"pick_up\", \"piggyback\", \"piggyback\", \"piggyback\", \"piggyback\", \"piggyback\", \"piggyback\", \"piggyback\", \"piggyback\", \"piggyback\", \"piggyback\", \"piggyback\", \"piggyback\", \"piggyback\", \"piggyback\", \"pkg\", \"pkg\", \"pkg\", \"pkg\", \"pkg\", \"pkg\", \"pkg\", \"pkg\", \"pkg\", \"pkg\", \"pkg\", \"pkg\", \"pkg\", \"pkg\", \"placing\", \"placing\", \"placing\", \"placing\", \"placing\", \"placing\", \"placing\", \"placing\", \"placing\", \"placing\", \"placing\", \"placing\", \"placing\", \"placing\", \"plate\", \"plate\", \"plate\", \"plate\", \"plate\", \"plate\", \"plate\", \"plate\", \"plate\", \"plate\", \"plate\", \"plate\", \"plate\", \"plate\", \"pleasant\", \"pleasant\", \"pleasant\", \"pleasant\", \"pleasant\", \"pleasant\", \"pleasant\", \"pleasant\", \"pleasant\", \"pleasant\", \"pleasant\", \"pleasant\", \"pleasant\", \"pleasant\", \"ploy\", \"ploy\", \"ploy\", \"ploy\", \"ploy\", \"ploy\", \"ploy\", \"ploy\", \"ploy\", \"ploy\", \"ploy\", \"ploy\", \"ploy\", \"ploy\", \"pml\", \"pml\", \"pml\", \"pml\", \"pml\", \"pml\", \"pml\", \"pml\", \"pml\", \"pml\", \"pml\", \"pml\", \"pml\", \"pml\", \"poetry\", \"poetry\", \"poetry\", \"poetry\", \"poetry\", \"poetry\", \"poetry\", \"poetry\", \"poetry\", \"poetry\", \"poetry\", \"poetry\", \"poetry\", \"poetry\", \"pop\", \"pop\", \"pop\", \"pop\", \"pop\", \"pop\", \"pop\", \"pop\", \"pop\", \"pop\", \"pop\", \"pop\", \"pop\", \"pop\", \"posture\", \"posture\", \"posture\", \"posture\", \"posture\", \"posture\", \"posture\", \"posture\", \"posture\", \"posture\", \"posture\", \"posture\", \"posture\", \"posture\", \"powerpoint\", \"powerpoint\", \"powerpoint\", \"powerpoint\", \"powerpoint\", \"powerpoint\", \"powerpoint\", \"powerpoint\", \"powerpoint\", \"powerpoint\", \"powerpoint\", \"powerpoint\", \"powerpoint\", \"powerpoint\", \"pragmatic\", \"pragmatic\", \"pragmatic\", \"pragmatic\", \"pragmatic\", \"pragmatic\", \"pragmatic\", \"pragmatic\", \"pragmatic\", \"pragmatic\", \"pragmatic\", \"pragmatic\", \"pragmatic\", \"pragmatic\", \"preference\", \"preference\", \"preference\", \"preference\", \"preference\", \"preference\", \"preference\", \"preference\", \"preference\", \"preference\", \"preference\", \"preference\", \"preference\", \"preference\", \"preservation\", \"preservation\", \"preservation\", \"preservation\", \"preservation\", \"preservation\", \"preservation\", \"preservation\", \"preservation\", \"preservation\", \"preservation\", \"preservation\", \"preservation\", \"preservation\", \"price_spike\", \"price_spike\", \"price_spike\", \"price_spike\", \"price_spike\", \"price_spike\", \"price_spike\", \"price_spike\", \"price_spike\", \"price_spike\", \"price_spike\", \"price_spike\", \"price_spike\", \"price_spike\", \"pricier\", \"pricier\", \"pricier\", \"pricier\", \"pricier\", \"pricier\", \"pricier\", \"pricier\", \"pricier\", \"pricier\", \"pricier\", \"pricier\", \"pricier\", \"pricier\", \"priska\", \"priska\", \"priska\", \"priska\", \"priska\", \"priska\", \"priska\", \"priska\", \"priska\", \"priska\", \"priska\", \"priska\", \"priska\", \"priska\", \"private\", \"private\", \"private\", \"private\", \"private\", \"private\", \"private\", \"private\", \"private\", \"private\", \"private\", \"private\", \"private\", \"private\", \"probe\", \"probe\", \"probe\", \"probe\", \"probe\", \"probe\", \"probe\", \"probe\", \"probe\", \"probe\", \"probe\", \"probe\", \"probe\", \"probe\", \"procedure\", \"procedure\", \"procedure\", \"procedure\", \"procedure\", \"procedure\", \"procedure\", \"procedure\", \"procedure\", \"procedure\", \"procedure\", \"procedure\", \"procedure\", \"procedure\", \"proceeding\", \"proceeding\", \"proceeding\", \"proceeding\", \"proceeding\", \"proceeding\", \"proceeding\", \"proceeding\", \"proceeding\", \"proceeding\", \"proceeding\", \"proceeding\", \"proceeding\", \"proceeding\", \"profitable\", \"profitable\", \"profitable\", \"profitable\", \"profitable\", \"profitable\", \"profitable\", \"profitable\", \"profitable\", \"profitable\", \"profitable\", \"profitable\", \"profitable\", \"profitable\", \"proforma\", \"proforma\", \"proforma\", \"proforma\", \"proforma\", \"proforma\", \"proforma\", \"proforma\", \"proforma\", \"proforma\", \"proforma\", \"proforma\", \"proforma\", \"proforma\", \"prostitute\", \"prostitute\", \"prostitute\", \"prostitute\", \"prostitute\", \"prostitute\", \"prostitute\", \"prostitute\", \"prostitute\", \"prostitute\", \"prostitute\", \"prostitute\", \"prostitute\", \"prostitute\", \"provided\", \"provided\", \"provided\", \"provided\", \"provided\", \"provided\", \"provided\", \"provided\", \"provided\", \"provided\", \"provided\", \"provided\", \"provided\", \"provided\", \"proxy_volume\", \"proxy_volume\", \"proxy_volume\", \"proxy_volume\", \"proxy_volume\", \"proxy_volume\", \"proxy_volume\", \"proxy_volume\", \"proxy_volume\", \"proxy_volume\", \"proxy_volume\", \"proxy_volume\", \"proxy_volume\", \"proxy_volume\", \"pud\", \"pud\", \"pud\", \"pud\", \"pud\", \"pud\", \"pud\", \"pud\", \"pud\", \"pud\", \"pud\", \"pud\", \"pud\", \"pud\", \"pumpkin\", \"pumpkin\", \"pumpkin\", \"pumpkin\", \"pumpkin\", \"pumpkin\", \"pumpkin\", \"pumpkin\", \"pumpkin\", \"pumpkin\", \"pumpkin\", \"pumpkin\", \"pumpkin\", \"pumpkin\", \"punishment\", \"punishment\", \"punishment\", \"punishment\", \"punishment\", \"punishment\", \"punishment\", \"punishment\", \"punishment\", \"punishment\", \"punishment\", \"punishment\", \"punishment\", \"punishment\", \"quarantine\", \"quarantine\", \"quarantine\", \"quarantine\", \"quarantine\", \"quarantine\", \"quarantine\", \"quarantine\", \"quarantine\", \"quarantine\", \"quarantine\", \"quarantine\", \"quarantine\", \"quarantine\", \"ragley\", \"ragley\", \"ragley\", \"ragley\", \"ragley\", \"ragley\", \"ragley\", \"ragley\", \"ragley\", \"ragley\", \"ragley\", \"ragley\", \"ragley\", \"ragley\", \"rahil\", \"rahil\", \"rahil\", \"rahil\", \"rahil\", \"rahil\", \"rahil\", \"rahil\", \"rahil\", \"rahil\", \"rahil\", \"rahil\", \"rahil\", \"rahil\", \"rangle\", \"rangle\", \"rangle\", \"rangle\", \"rangle\", \"rangle\", \"rangle\", \"rangle\", \"rangle\", \"rangle\", \"rangle\", \"rangle\", \"rangle\", \"rangle\", \"readily\", \"readily\", \"readily\", \"readily\", \"readily\", \"readily\", \"readily\", \"readily\", \"readily\", \"readily\", \"readily\", \"readily\", \"readily\", \"readily\", \"ready\", \"ready\", \"ready\", \"ready\", \"ready\", \"ready\", \"ready\", \"ready\", \"ready\", \"ready\", \"ready\", \"ready\", \"ready\", \"ready\", \"reallocate\", \"reallocate\", \"reallocate\", \"reallocate\", \"reallocate\", \"reallocate\", \"reallocate\", \"reallocate\", \"reallocate\", \"reallocate\", \"reallocate\", \"reallocate\", \"reallocate\", \"reallocate\", \"recapture\", \"recapture\", \"recapture\", \"recapture\", \"recapture\", \"recapture\", \"recapture\", \"recapture\", \"recapture\", \"recapture\", \"recapture\", \"recapture\", \"recapture\", \"recapture\", \"recipient\", \"recipient\", \"recipient\", \"recipient\", \"recipient\", \"recipient\", \"recipient\", \"recipient\", \"recipient\", \"recipient\", \"recipient\", \"recipient\", \"recipient\", \"recipient\", \"recycling\", \"recycling\", \"recycling\", \"recycling\", \"recycling\", \"recycling\", \"recycling\", \"recycling\", \"recycling\", \"recycling\", \"recycling\", \"recycling\", \"recycling\", \"recycling\", \"redneck\", \"redneck\", \"redneck\", \"redneck\", \"redneck\", \"redneck\", \"redneck\", \"redneck\", \"redneck\", \"redneck\", \"redneck\", \"redneck\", \"redneck\", \"redneck\", \"redskin\", \"redskin\", \"redskin\", \"redskin\", \"redskin\", \"redskin\", \"redskin\", \"redskin\", \"redskin\", \"redskin\", \"redskin\", \"redskin\", \"redskin\", \"redskin\", \"reebok\", \"reebok\", \"reebok\", \"reebok\", \"reebok\", \"reebok\", \"reebok\", \"reebok\", \"reebok\", \"reebok\", \"reebok\", \"reebok\", \"reebok\", \"reebok\", \"reestablish\", \"reestablish\", \"reestablish\", \"reestablish\", \"reestablish\", \"reestablish\", \"reestablish\", \"reestablish\", \"reestablish\", \"reestablish\", \"reestablish\", \"reestablish\", \"reestablish\", \"reestablish\", \"refaxed\", \"refaxed\", \"refaxed\", \"refaxed\", \"refaxed\", \"refaxed\", \"refaxed\", \"refaxed\", \"refaxed\", \"refaxed\", \"refaxed\", \"refaxed\", \"refaxed\", \"refaxed\", \"reflect\", \"reflect\", \"reflect\", \"reflect\", \"reflect\", \"reflect\", \"reflect\", \"reflect\", \"reflect\", \"reflect\", \"reflect\", \"reflect\", \"reflect\", \"reflect\", \"regan\", \"regan\", \"regan\", \"regan\", \"regan\", \"regan\", \"regan\", \"regan\", \"regan\", \"regan\", \"regan\", \"regan\", \"regan\", \"regan\", \"reluctantly\", \"reluctantly\", \"reluctantly\", \"reluctantly\", \"reluctantly\", \"reluctantly\", \"reluctantly\", \"reluctantly\", \"reluctantly\", \"reluctantly\", \"reluctantly\", \"reluctantly\", \"reluctantly\", \"reluctantly\", \"remedy\", \"remedy\", \"remedy\", \"remedy\", \"remedy\", \"remedy\", \"remedy\", \"remedy\", \"remedy\", \"remedy\", \"remedy\", \"remedy\", \"remedy\", \"remedy\", \"remind\", \"remind\", \"remind\", \"remind\", \"remind\", \"remind\", \"remind\", \"remind\", \"remind\", \"remind\", \"remind\", \"remind\", \"remind\", \"remind\", \"repay\", \"repay\", \"repay\", \"repay\", \"repay\", \"repay\", \"repay\", \"repay\", \"repay\", \"repay\", \"repay\", \"repay\", \"repay\", \"repay\", \"report\", \"report\", \"report\", \"report\", \"report\", \"report\", \"report\", \"report\", \"report\", \"report\", \"report\", \"report\", \"report\", \"report\", \"requestor\", \"requestor\", \"requestor\", \"requestor\", \"requestor\", \"requestor\", \"requestor\", \"requestor\", \"requestor\", \"requestor\", \"requestor\", \"requestor\", \"requestor\", \"requestor\", \"requrie\", \"requrie\", \"requrie\", \"requrie\", \"requrie\", \"requrie\", \"requrie\", \"requrie\", \"requrie\", \"requrie\", \"requrie\", \"requrie\", \"requrie\", \"requrie\", \"researcher\", \"researcher\", \"researcher\", \"researcher\", \"researcher\", \"researcher\", \"researcher\", \"researcher\", \"researcher\", \"researcher\", \"researcher\", \"researcher\", \"researcher\", \"researcher\", \"respected\", \"respected\", \"respected\", \"respected\", \"respected\", \"respected\", \"respected\", \"respected\", \"respected\", \"respected\", \"respected\", \"respected\", \"respected\", \"respected\", \"restrictive\", \"restrictive\", \"restrictive\", \"restrictive\", \"restrictive\", \"restrictive\", \"restrictive\", \"restrictive\", \"restrictive\", \"restrictive\", \"restrictive\", \"restrictive\", \"restrictive\", \"restrictive\", \"revenue\", \"revenue\", \"revenue\", \"revenue\", \"revenue\", \"revenue\", \"revenue\", \"revenue\", \"revenue\", \"revenue\", \"revenue\", \"revenue\", \"revenue\", \"revenue\", \"riparian\", \"riparian\", \"riparian\", \"riparian\", \"riparian\", \"riparian\", \"riparian\", \"riparian\", \"riparian\", \"riparian\", \"riparian\", \"riparian\", \"riparian\", \"riparian\", \"rival\", \"rival\", \"rival\", \"rival\", \"rival\", \"rival\", \"rival\", \"rival\", \"rival\", \"rival\", \"rival\", \"rival\", \"rival\", \"rival\", \"ro\", \"ro\", \"ro\", \"ro\", \"ro\", \"ro\", \"ro\", \"ro\", \"ro\", \"ro\", \"ro\", \"ro\", \"ro\", \"ro\", \"rollout\", \"rollout\", \"rollout\", \"rollout\", \"rollout\", \"rollout\", \"rollout\", \"rollout\", \"rollout\", \"rollout\", \"rollout\", \"rollout\", \"rollout\", \"rollout\", \"rooster\", \"rooster\", \"rooster\", \"rooster\", \"rooster\", \"rooster\", \"rooster\", \"rooster\", \"rooster\", \"rooster\", \"rooster\", \"rooster\", \"rooster\", \"rooster\", \"route\", \"route\", \"route\", \"route\", \"route\", \"route\", \"route\", \"route\", \"route\", \"route\", \"route\", \"route\", \"route\", \"route\", \"rpm\", \"rpm\", \"rpm\", \"rpm\", \"rpm\", \"rpm\", \"rpm\", \"rpm\", \"rpm\", \"rpm\", \"rpm\", \"rpm\", \"rpm\", \"rpm\", \"rum\", \"rum\", \"rum\", \"rum\", \"rum\", \"rum\", \"rum\", \"rum\", \"rum\", \"rum\", \"rum\", \"rum\", \"rum\", \"rum\", \"rumor\", \"rumor\", \"rumor\", \"rumor\", \"rumor\", \"rumor\", \"rumor\", \"rumor\", \"rumor\", \"rumor\", \"rumor\", \"rumor\", \"rumor\", \"rumor\", \"runner\", \"runner\", \"runner\", \"runner\", \"runner\", \"runner\", \"runner\", \"runner\", \"runner\", \"runner\", \"runner\", \"runner\", \"runner\", \"runner\", \"sacrifice\", \"sacrifice\", \"sacrifice\", \"sacrifice\", \"sacrifice\", \"sacrifice\", \"sacrifice\", \"sacrifice\", \"sacrifice\", \"sacrifice\", \"sacrifice\", \"sacrifice\", \"sacrifice\", \"sacrifice\", \"safely\", \"safely\", \"safely\", \"safely\", \"safely\", \"safely\", \"safely\", \"safely\", \"safely\", \"safely\", \"safely\", \"safely\", \"safely\", \"safely\", \"sagewave\", \"sagewave\", \"sagewave\", \"sagewave\", \"sagewave\", \"sagewave\", \"sagewave\", \"sagewave\", \"sagewave\", \"sagewave\", \"sagewave\", \"sagewave\", \"sagewave\", \"sagewave\", \"samalayuca\", \"samalayuca\", \"samalayuca\", \"samalayuca\", \"samalayuca\", \"samalayuca\", \"samalayuca\", \"samalayuca\", \"samalayuca\", \"samalayuca\", \"samalayuca\", \"samalayuca\", \"samalayuca\", \"samalayuca\", \"san_jose\", \"san_jose\", \"san_jose\", \"san_jose\", \"san_jose\", \"san_jose\", \"san_jose\", \"san_jose\", \"san_jose\", \"san_jose\", \"san_jose\", \"san_jose\", \"san_jose\", \"san_jose\", \"sanitize\", \"sanitize\", \"sanitize\", \"sanitize\", \"sanitize\", \"sanitize\", \"sanitize\", \"sanitize\", \"sanitize\", \"sanitize\", \"sanitize\", \"sanitize\", \"sanitize\", \"sanitize\", \"sc\", \"sc\", \"sc\", \"sc\", \"sc\", \"sc\", \"sc\", \"sc\", \"sc\", \"sc\", \"sc\", \"sc\", \"sc\", \"sc\", \"scanty\", \"scanty\", \"scanty\", \"scanty\", \"scanty\", \"scanty\", \"scanty\", \"scanty\", \"scanty\", \"scanty\", \"scanty\", \"scanty\", \"scanty\", \"scanty\", \"scarcity\", \"scarcity\", \"scarcity\", \"scarcity\", \"scarcity\", \"scarcity\", \"scarcity\", \"scarcity\", \"scarcity\", \"scarcity\", \"scarcity\", \"scarcity\", \"scarcity\", \"scarcity\", \"scarry\", \"scarry\", \"scarry\", \"scarry\", \"scarry\", \"scarry\", \"scarry\", \"scarry\", \"scarry\", \"scarry\", \"scarry\", \"scarry\", \"scarry\", \"scarry\", \"schematic\", \"schematic\", \"schematic\", \"schematic\", \"schematic\", \"schematic\", \"schematic\", \"schematic\", \"schematic\", \"schematic\", \"schematic\", \"schematic\", \"schematic\", \"schematic\", \"school\", \"school\", \"school\", \"school\", \"school\", \"school\", \"school\", \"school\", \"school\", \"school\", \"school\", \"school\", \"school\", \"school\", \"schuedule\", \"schuedule\", \"schuedule\", \"schuedule\", \"schuedule\", \"schuedule\", \"schuedule\", \"schuedule\", \"schuedule\", \"schuedule\", \"schuedule\", \"schuedule\", \"schuedule\", \"schuedule\", \"scientist\", \"scientist\", \"scientist\", \"scientist\", \"scientist\", \"scientist\", \"scientist\", \"scientist\", \"scientist\", \"scientist\", \"scientist\", \"scientist\", \"scientist\", \"scientist\", \"scorer\", \"scorer\", \"scorer\", \"scorer\", \"scorer\", \"scorer\", \"scorer\", \"scorer\", \"scorer\", \"scorer\", \"scorer\", \"scorer\", \"scorer\", \"scorer\", \"scurvy\", \"scurvy\", \"scurvy\", \"scurvy\", \"scurvy\", \"scurvy\", \"scurvy\", \"scurvy\", \"scurvy\", \"scurvy\", \"scurvy\", \"scurvy\", \"scurvy\", \"scurvy\", \"seats\", \"seats\", \"seats\", \"seats\", \"seats\", \"seats\", \"seats\", \"seats\", \"seats\", \"seats\", \"seats\", \"seats\", \"seats\", \"seats\", \"secret\", \"secret\", \"secret\", \"secret\", \"secret\", \"secret\", \"secret\", \"secret\", \"secret\", \"secret\", \"secret\", \"secret\", \"secret\", \"secret\", \"sempra\", \"sempra\", \"sempra\", \"sempra\", \"sempra\", \"sempra\", \"sempra\", \"sempra\", \"sempra\", \"sempra\", \"sempra\", \"sempra\", \"sempra\", \"sempra\", \"sequence\", \"sequence\", \"sequence\", \"sequence\", \"sequence\", \"sequence\", \"sequence\", \"sequence\", \"sequence\", \"sequence\", \"sequence\", \"sequence\", \"sequence\", \"sequence\", \"setup\", \"setup\", \"setup\", \"setup\", \"setup\", \"setup\", \"setup\", \"setup\", \"setup\", \"setup\", \"setup\", \"setup\", \"setup\", \"setup\", \"shankman\", \"shankman\", \"shankman\", \"shankman\", \"shankman\", \"shankman\", \"shankman\", \"shankman\", \"shankman\", \"shankman\", \"shankman\", \"shankman\", \"shankman\", \"shankman\", \"shari\", \"shari\", \"shari\", \"shari\", \"shari\", \"shari\", \"shari\", \"shari\", \"shari\", \"shari\", \"shari\", \"shari\", \"shari\", \"shari\", \"shiny\", \"shiny\", \"shiny\", \"shiny\", \"shiny\", \"shiny\", \"shiny\", \"shiny\", \"shiny\", \"shiny\", \"shiny\", \"shiny\", \"shiny\", \"shiny\", \"shop\", \"shop\", \"shop\", \"shop\", \"shop\", \"shop\", \"shop\", \"shop\", \"shop\", \"shop\", \"shop\", \"shop\", \"shop\", \"shop\", \"shortname\", \"shortname\", \"shortname\", \"shortname\", \"shortname\", \"shortname\", \"shortname\", \"shortname\", \"shortname\", \"shortname\", \"shortname\", \"shortname\", \"shortname\", \"shortname\", \"shpchan\", \"shpchan\", \"shpchan\", \"shpchan\", \"shpchan\", \"shpchan\", \"shpchan\", \"shpchan\", \"shpchan\", \"shpchan\", \"shpchan\", \"shpchan\", \"shpchan\", \"shpchan\", \"shure\", \"shure\", \"shure\", \"shure\", \"shure\", \"shure\", \"shure\", \"shure\", \"shure\", \"shure\", \"shure\", \"shure\", \"shure\", \"shure\", \"sigh\", \"sigh\", \"sigh\", \"sigh\", \"sigh\", \"sigh\", \"sigh\", \"sigh\", \"sigh\", \"sigh\", \"sigh\", \"sigh\", \"sigh\", \"sigh\", \"simmer\", \"simmer\", \"simmer\", \"simmer\", \"simmer\", \"simmer\", \"simmer\", \"simmer\", \"simmer\", \"simmer\", \"simmer\", \"simmer\", \"simmer\", \"simmer\", \"simultaneously\", \"simultaneously\", \"simultaneously\", \"simultaneously\", \"simultaneously\", \"simultaneously\", \"simultaneously\", \"simultaneously\", \"simultaneously\", \"simultaneously\", \"simultaneously\", \"simultaneously\", \"simultaneously\", \"simultaneously\", \"sirara\", \"sirara\", \"sirara\", \"sirara\", \"sirara\", \"sirara\", \"sirara\", \"sirara\", \"sirara\", \"sirara\", \"sirara\", \"sirara\", \"sirara\", \"sirara\", \"ski_trip\", \"ski_trip\", \"ski_trip\", \"ski_trip\", \"ski_trip\", \"ski_trip\", \"ski_trip\", \"ski_trip\", \"ski_trip\", \"ski_trip\", \"ski_trip\", \"ski_trip\", \"ski_trip\", \"ski_trip\", \"skiing\", \"skiing\", \"skiing\", \"skiing\", \"skiing\", \"skiing\", \"skiing\", \"skiing\", \"skiing\", \"skiing\", \"skiing\", \"skiing\", \"skiing\", \"skiing\", \"skull\", \"skull\", \"skull\", \"skull\", \"skull\", \"skull\", \"skull\", \"skull\", \"skull\", \"skull\", \"skull\", \"skull\", \"skull\", \"skull\", \"smarter\", \"smarter\", \"smarter\", \"smarter\", \"smarter\", \"smarter\", \"smarter\", \"smarter\", \"smarter\", \"smarter\", \"smarter\", \"smarter\", \"smarter\", \"smarter\", \"smile\", \"smile\", \"smile\", \"smile\", \"smile\", \"smile\", \"smile\", \"smile\", \"smile\", \"smile\", \"smile\", \"smile\", \"smile\", \"smile\", \"soak\", \"soak\", \"soak\", \"soak\", \"soak\", \"soak\", \"soak\", \"soak\", \"soak\", \"soak\", \"soak\", \"soak\", \"soak\", \"soak\", \"socialize\", \"socialize\", \"socialize\", \"socialize\", \"socialize\", \"socialize\", \"socialize\", \"socialize\", \"socialize\", \"socialize\", \"socialize\", \"socialize\", \"socialize\", \"socialize\", \"somewhat\", \"somewhat\", \"somewhat\", \"somewhat\", \"somewhat\", \"somewhat\", \"somewhat\", \"somewhat\", \"somewhat\", \"somewhat\", \"somewhat\", \"somewhat\", \"somewhat\", \"somewhat\", \"soon\", \"soon\", \"soon\", \"soon\", \"soon\", \"soon\", \"soon\", \"soon\", \"soon\", \"soon\", \"soon\", \"soon\", \"soon\", \"soon\", \"sorority\", \"sorority\", \"sorority\", \"sorority\", \"sorority\", \"sorority\", \"sorority\", \"sorority\", \"sorority\", \"sorority\", \"sorority\", \"sorority\", \"sorority\", \"sorority\", \"sound\", \"sound\", \"sound\", \"sound\", \"sound\", \"sound\", \"sound\", \"sound\", \"sound\", \"sound\", \"sound\", \"sound\", \"sound\", \"sound\", \"spanking\", \"spanking\", \"spanking\", \"spanking\", \"spanking\", \"spanking\", \"spanking\", \"spanking\", \"spanking\", \"spanking\", \"spanking\", \"spanking\", \"spanking\", \"spanking\", \"spectator\", \"spectator\", \"spectator\", \"spectator\", \"spectator\", \"spectator\", \"spectator\", \"spectator\", \"spectator\", \"spectator\", \"spectator\", \"spectator\", \"spectator\", \"spectator\", \"spectron\", \"spectron\", \"spectron\", \"spectron\", \"spectron\", \"spectron\", \"spectron\", \"spectron\", \"spectron\", \"spectron\", \"spectron\", \"spectron\", \"spectron\", \"spectron\", \"spokesmodel\", \"spokesmodel\", \"spokesmodel\", \"spokesmodel\", \"spokesmodel\", \"spokesmodel\", \"spokesmodel\", \"spokesmodel\", \"spokesmodel\", \"spokesmodel\", \"spokesmodel\", \"spokesmodel\", \"spokesmodel\", \"spokesmodel\", \"sportsplex\", \"sportsplex\", \"sportsplex\", \"sportsplex\", \"sportsplex\", \"sportsplex\", \"sportsplex\", \"sportsplex\", \"sportsplex\", \"sportsplex\", \"sportsplex\", \"sportsplex\", \"sportsplex\", \"sportsplex\", \"sportswriter\", \"sportswriter\", \"sportswriter\", \"sportswriter\", \"sportswriter\", \"sportswriter\", \"sportswriter\", \"sportswriter\", \"sportswriter\", \"sportswriter\", \"sportswriter\", \"sportswriter\", \"sportswriter\", \"sportswriter\", \"sprd\", \"sprd\", \"sprd\", \"sprd\", \"sprd\", \"sprd\", \"sprd\", \"sprd\", \"sprd\", \"sprd\", \"sprd\", \"sprd\", \"sprd\", \"sprd\", \"springboro_dth\", \"springboro_dth\", \"springboro_dth\", \"springboro_dth\", \"springboro_dth\", \"springboro_dth\", \"springboro_dth\", \"springboro_dth\", \"springboro_dth\", \"springboro_dth\", \"springboro_dth\", \"springboro_dth\", \"springboro_dth\", \"springboro_dth\", \"spur\", \"spur\", \"spur\", \"spur\", \"spur\", \"spur\", \"spur\", \"spur\", \"spur\", \"spur\", \"spur\", \"spur\", \"spur\", \"spur\", \"spy\", \"spy\", \"spy\", \"spy\", \"spy\", \"spy\", \"spy\", \"spy\", \"spy\", \"spy\", \"spy\", \"spy\", \"spy\", \"spy\", \"stablilize\", \"stablilize\", \"stablilize\", \"stablilize\", \"stablilize\", \"stablilize\", \"stablilize\", \"stablilize\", \"stablilize\", \"stablilize\", \"stablilize\", \"stablilize\", \"stablilize\", \"stablilize\", \"stakeholder\", \"stakeholder\", \"stakeholder\", \"stakeholder\", \"stakeholder\", \"stakeholder\", \"stakeholder\", \"stakeholder\", \"stakeholder\", \"stakeholder\", \"stakeholder\", \"stakeholder\", \"stakeholder\", \"stakeholder\", \"stand\", \"stand\", \"stand\", \"stand\", \"stand\", \"stand\", \"stand\", \"stand\", \"stand\", \"stand\", \"stand\", \"stand\", \"stand\", \"stand\", \"starting\", \"starting\", \"starting\", \"starting\", \"starting\", \"starting\", \"starting\", \"starting\", \"starting\", \"starting\", \"starting\", \"starting\", \"starting\", \"starting\", \"stellar\", \"stellar\", \"stellar\", \"stellar\", \"stellar\", \"stellar\", \"stellar\", \"stellar\", \"stellar\", \"stellar\", \"stellar\", \"stellar\", \"stellar\", \"stellar\", \"steve_kean\", \"steve_kean\", \"steve_kean\", \"steve_kean\", \"steve_kean\", \"steve_kean\", \"steve_kean\", \"steve_kean\", \"steve_kean\", \"steve_kean\", \"steve_kean\", \"steve_kean\", \"steve_kean\", \"steve_kean\", \"stingray\", \"stingray\", \"stingray\", \"stingray\", \"stingray\", \"stingray\", \"stingray\", \"stingray\", \"stingray\", \"stingray\", \"stingray\", \"stingray\", \"stingray\", \"stingray\", \"stir\", \"stir\", \"stir\", \"stir\", \"stir\", \"stir\", \"stir\", \"stir\", \"stir\", \"stir\", \"stir\", \"stir\", \"stir\", \"stir\", \"stooge\", \"stooge\", \"stooge\", \"stooge\", \"stooge\", \"stooge\", \"stooge\", \"stooge\", \"stooge\", \"stooge\", \"stooge\", \"stooge\", \"stooge\", \"stooge\", \"strap\", \"strap\", \"strap\", \"strap\", \"strap\", \"strap\", \"strap\", \"strap\", \"strap\", \"strap\", \"strap\", \"strap\", \"strap\", \"strap\", \"string\", \"string\", \"string\", \"string\", \"string\", \"string\", \"string\", \"string\", \"string\", \"string\", \"string\", \"string\", \"string\", \"string\", \"stumpy\", \"stumpy\", \"stumpy\", \"stumpy\", \"stumpy\", \"stumpy\", \"stumpy\", \"stumpy\", \"stumpy\", \"stumpy\", \"stumpy\", \"stumpy\", \"stumpy\", \"stumpy\", \"submit\", \"submit\", \"submit\", \"submit\", \"submit\", \"submit\", \"submit\", \"submit\", \"submit\", \"submit\", \"submit\", \"submit\", \"submit\", \"submit\", \"substitute\", \"substitute\", \"substitute\", \"substitute\", \"substitute\", \"substitute\", \"substitute\", \"substitute\", \"substitute\", \"substitute\", \"substitute\", \"substitute\", \"substitute\", \"substitute\", \"successor\", \"successor\", \"successor\", \"successor\", \"successor\", \"successor\", \"successor\", \"successor\", \"successor\", \"successor\", \"successor\", \"successor\", \"successor\", \"successor\", \"sud\", \"sud\", \"sud\", \"sud\", \"sud\", \"sud\", \"sud\", \"sud\", \"sud\", \"sud\", \"sud\", \"sud\", \"sud\", \"sud\", \"suited\", \"suited\", \"suited\", \"suited\", \"suited\", \"suited\", \"suited\", \"suited\", \"suited\", \"suited\", \"suited\", \"suited\", \"suited\", \"suited\", \"suppier\", \"suppier\", \"suppier\", \"suppier\", \"suppier\", \"suppier\", \"suppier\", \"suppier\", \"suppier\", \"suppier\", \"suppier\", \"suppier\", \"suppier\", \"suppier\", \"supply\", \"supply\", \"supply\", \"supply\", \"supply\", \"supply\", \"supply\", \"supply\", \"supply\", \"supply\", \"supply\", \"supply\", \"supply\", \"supply\", \"surprize\", \"surprize\", \"surprize\", \"surprize\", \"surprize\", \"surprize\", \"surprize\", \"surprize\", \"surprize\", \"surprize\", \"surprize\", \"surprize\", \"surprize\", \"surprize\", \"surreptitiously\", \"surreptitiously\", \"surreptitiously\", \"surreptitiously\", \"surreptitiously\", \"surreptitiously\", \"surreptitiously\", \"surreptitiously\", \"surreptitiously\", \"surreptitiously\", \"surreptitiously\", \"surreptitiously\", \"surreptitiously\", \"surreptitiously\", \"sweatpant\", \"sweatpant\", \"sweatpant\", \"sweatpant\", \"sweatpant\", \"sweatpant\", \"sweatpant\", \"sweatpant\", \"sweatpant\", \"sweatpant\", \"sweatpant\", \"sweatpant\", \"sweatpant\", \"sweatpant\", \"sweeter\", \"sweeter\", \"sweeter\", \"sweeter\", \"sweeter\", \"sweeter\", \"sweeter\", \"sweeter\", \"sweeter\", \"sweeter\", \"sweeter\", \"sweeter\", \"sweeter\", \"sweeter\", \"team\", \"team\", \"team\", \"team\", \"team\", \"team\", \"team\", \"team\", \"team\", \"team\", \"team\", \"team\", \"team\", \"team\", \"technicality\", \"technicality\", \"technicality\", \"technicality\", \"technicality\", \"technicality\", \"technicality\", \"technicality\", \"technicality\", \"technicality\", \"technicality\", \"technicality\", \"technicality\", \"technicality\", \"teco_tap\", \"teco_tap\", \"teco_tap\", \"teco_tap\", \"teco_tap\", \"teco_tap\", \"teco_tap\", \"teco_tap\", \"teco_tap\", \"teco_tap\", \"teco_tap\", \"teco_tap\", \"teco_tap\", \"teco_tap\", \"tendancy\", \"tendancy\", \"tendancy\", \"tendancy\", \"tendancy\", \"tendancy\", \"tendancy\", \"tendancy\", \"tendancy\", \"tendancy\", \"tendancy\", \"tendancy\", \"tendancy\", \"tendancy\", \"terrebonne\", \"terrebonne\", \"terrebonne\", \"terrebonne\", \"terrebonne\", \"terrebonne\", \"terrebonne\", \"terrebonne\", \"terrebonne\", \"terrebonne\", \"terrebonne\", \"terrebonne\", \"terrebonne\", \"terrebonne\", \"thai\", \"thai\", \"thai\", \"thai\", \"thai\", \"thai\", \"thai\", \"thai\", \"thai\", \"thai\", \"thai\", \"thai\", \"thai\", \"thai\", \"thankfully\", \"thankfully\", \"thankfully\", \"thankfully\", \"thankfully\", \"thankfully\", \"thankfully\", \"thankfully\", \"thankfully\", \"thankfully\", \"thankfully\", \"thankfully\", \"thankfully\", \"thankfully\", \"thanx\", \"thanx\", \"thanx\", \"thanx\", \"thanx\", \"thanx\", \"thanx\", \"thanx\", \"thanx\", \"thanx\", \"thanx\", \"thanx\", \"thanx\", \"thanx\", \"thinking\", \"thinking\", \"thinking\", \"thinking\", \"thinking\", \"thinking\", \"thinking\", \"thinking\", \"thinking\", \"thinking\", \"thinking\", \"thinking\", \"thinking\", \"thinking\", \"thruput\", \"thruput\", \"thruput\", \"thruput\", \"thruput\", \"thruput\", \"thruput\", \"thruput\", \"thruput\", \"thruput\", \"thruput\", \"thruput\", \"thruput\", \"thruput\", \"tighten\", \"tighten\", \"tighten\", \"tighten\", \"tighten\", \"tighten\", \"tighten\", \"tighten\", \"tighten\", \"tighten\", \"tighten\", \"tighten\", \"tighten\", \"tighten\", \"tightrope\", \"tightrope\", \"tightrope\", \"tightrope\", \"tightrope\", \"tightrope\", \"tightrope\", \"tightrope\", \"tightrope\", \"tightrope\", \"tightrope\", \"tightrope\", \"tightrope\", \"tightrope\", \"time\", \"time\", \"time\", \"time\", \"time\", \"time\", \"time\", \"time\", \"time\", \"time\", \"time\", \"time\", \"time\", \"time\", \"tnw\", \"tnw\", \"tnw\", \"tnw\", \"tnw\", \"tnw\", \"tnw\", \"tnw\", \"tnw\", \"tnw\", \"tnw\", \"tnw\", \"tnw\", \"tnw\", \"tor\", \"tor\", \"tor\", \"tor\", \"tor\", \"tor\", \"tor\", \"tor\", \"tor\", \"tor\", \"tor\", \"tor\", \"tor\", \"tor\", \"touchdown\", \"touchdown\", \"touchdown\", \"touchdown\", \"touchdown\", \"touchdown\", \"touchdown\", \"touchdown\", \"touchdown\", \"touchdown\", \"touchdown\", \"touchdown\", \"touchdown\", \"touchdown\", \"trailere\", \"trailere\", \"trailere\", \"trailere\", \"trailere\", \"trailere\", \"trailere\", \"trailere\", \"trailere\", \"trailere\", \"trailere\", \"trailere\", \"trailere\", \"trailere\", \"transcendental\", \"transcendental\", \"transcendental\", \"transcendental\", \"transcendental\", \"transcendental\", \"transcendental\", \"transcendental\", \"transcendental\", \"transcendental\", \"transcendental\", \"transcendental\", \"transcendental\", \"transcendental\", \"trasnco\", \"trasnco\", \"trasnco\", \"trasnco\", \"trasnco\", \"trasnco\", \"trasnco\", \"trasnco\", \"trasnco\", \"trasnco\", \"trasnco\", \"trasnco\", \"trasnco\", \"trasnco\", \"traveling\", \"traveling\", \"traveling\", \"traveling\", \"traveling\", \"traveling\", \"traveling\", \"traveling\", \"traveling\", \"traveling\", \"traveling\", \"traveling\", \"traveling\", \"traveling\", \"trena\", \"trena\", \"trena\", \"trena\", \"trena\", \"trena\", \"trena\", \"trena\", \"trena\", \"trena\", \"trena\", \"trena\", \"trena\", \"trena\", \"trevino\", \"trevino\", \"trevino\", \"trevino\", \"trevino\", \"trevino\", \"trevino\", \"trevino\", \"trevino\", \"trevino\", \"trevino\", \"trevino\", \"trevino\", \"trevino\", \"triangle\", \"triangle\", \"triangle\", \"triangle\", \"triangle\", \"triangle\", \"triangle\", \"triangle\", \"triangle\", \"triangle\", \"triangle\", \"triangle\", \"triangle\", \"triangle\", \"ttc\", \"ttc\", \"ttc\", \"ttc\", \"ttc\", \"ttc\", \"ttc\", \"ttc\", \"ttc\", \"ttc\", \"ttc\", \"ttc\", \"ttc\", \"ttc\", \"tunnel\", \"tunnel\", \"tunnel\", \"tunnel\", \"tunnel\", \"tunnel\", \"tunnel\", \"tunnel\", \"tunnel\", \"tunnel\", \"tunnel\", \"tunnel\", \"tunnel\", \"tunnel\", \"ultimately\", \"ultimately\", \"ultimately\", \"ultimately\", \"ultimately\", \"ultimately\", \"ultimately\", \"ultimately\", \"ultimately\", \"ultimately\", \"ultimately\", \"ultimately\", \"ultimately\", \"ultimately\", \"unavailability\", \"unavailability\", \"unavailability\", \"unavailability\", \"unavailability\", \"unavailability\", \"unavailability\", \"unavailability\", \"unavailability\", \"unavailability\", \"unavailability\", \"unavailability\", \"unavailability\", \"unavailability\", \"uncapped\", \"uncapped\", \"uncapped\", \"uncapped\", \"uncapped\", \"uncapped\", \"uncapped\", \"uncapped\", \"uncapped\", \"uncapped\", \"uncapped\", \"uncapped\", \"uncapped\", \"uncapped\", \"uncorrected\", \"uncorrected\", \"uncorrected\", \"uncorrected\", \"uncorrected\", \"uncorrected\", \"uncorrected\", \"uncorrected\", \"uncorrected\", \"uncorrected\", \"uncorrected\", \"uncorrected\", \"uncorrected\", \"uncorrected\", \"underestimate\", \"underestimate\", \"underestimate\", \"underestimate\", \"underestimate\", \"underestimate\", \"underestimate\", \"underestimate\", \"underestimate\", \"underestimate\", \"underestimate\", \"underestimate\", \"underestimate\", \"underestimate\", \"undersell\", \"undersell\", \"undersell\", \"undersell\", \"undersell\", \"undersell\", \"undersell\", \"undersell\", \"undersell\", \"undersell\", \"undersell\", \"undersell\", \"undersell\", \"undersell\", \"underwear\", \"underwear\", \"underwear\", \"underwear\", \"underwear\", \"underwear\", \"underwear\", \"underwear\", \"underwear\", \"underwear\", \"underwear\", \"underwear\", \"underwear\", \"underwear\", \"unfinaled\", \"unfinaled\", \"unfinaled\", \"unfinaled\", \"unfinaled\", \"unfinaled\", \"unfinaled\", \"unfinaled\", \"unfinaled\", \"unfinaled\", \"unfinaled\", \"unfinaled\", \"unfinaled\", \"unfinaled\", \"uniform\", \"uniform\", \"uniform\", \"uniform\", \"uniform\", \"uniform\", \"uniform\", \"uniform\", \"uniform\", \"uniform\", \"uniform\", \"uniform\", \"uniform\", \"uniform\", \"unintentionally\", \"unintentionally\", \"unintentionally\", \"unintentionally\", \"unintentionally\", \"unintentionally\", \"unintentionally\", \"unintentionally\", \"unintentionally\", \"unintentionally\", \"unintentionally\", \"unintentionally\", \"unintentionally\", \"unintentionally\", \"unrealistic\", \"unrealistic\", \"unrealistic\", \"unrealistic\", \"unrealistic\", \"unrealistic\", \"unrealistic\", \"unrealistic\", \"unrealistic\", \"unrealistic\", \"unrealistic\", \"unrealistic\", \"unrealistic\", \"unrealistic\", \"upfront\", \"upfront\", \"upfront\", \"upfront\", \"upfront\", \"upfront\", \"upfront\", \"upfront\", \"upfront\", \"upfront\", \"upfront\", \"upfront\", \"upfront\", \"upfront\", \"urls\", \"urls\", \"urls\", \"urls\", \"urls\", \"urls\", \"urls\", \"urls\", \"urls\", \"urls\", \"urls\", \"urls\", \"urls\", \"urls\", \"usher\", \"usher\", \"usher\", \"usher\", \"usher\", \"usher\", \"usher\", \"usher\", \"usher\", \"usher\", \"usher\", \"usher\", \"usher\", \"usher\", \"utilized\", \"utilized\", \"utilized\", \"utilized\", \"utilized\", \"utilized\", \"utilized\", \"utilized\", \"utilized\", \"utilized\", \"utilized\", \"utilized\", \"utilized\", \"utilized\", \"val\", \"val\", \"val\", \"val\", \"val\", \"val\", \"val\", \"val\", \"val\", \"val\", \"val\", \"val\", \"val\", \"val\", \"vanguard\", \"vanguard\", \"vanguard\", \"vanguard\", \"vanguard\", \"vanguard\", \"vanguard\", \"vanguard\", \"vanguard\", \"vanguard\", \"vanguard\", \"vanguard\", \"vanguard\", \"vanguard\", \"vapor\", \"vapor\", \"vapor\", \"vapor\", \"vapor\", \"vapor\", \"vapor\", \"vapor\", \"vapor\", \"vapor\", \"vapor\", \"vapor\", \"vapor\", \"vapor\", \"vary\", \"vary\", \"vary\", \"vary\", \"vary\", \"vary\", \"vary\", \"vary\", \"vary\", \"vary\", \"vary\", \"vary\", \"vary\", \"vary\", \"velocity\", \"velocity\", \"velocity\", \"velocity\", \"velocity\", \"velocity\", \"velocity\", \"velocity\", \"velocity\", \"velocity\", \"velocity\", \"velocity\", \"velocity\", \"velocity\", \"visitor\", \"visitor\", \"visitor\", \"visitor\", \"visitor\", \"visitor\", \"visitor\", \"visitor\", \"visitor\", \"visitor\", \"visitor\", \"visitor\", \"visitor\", \"visitor\", \"voaltilitie\", \"voaltilitie\", \"voaltilitie\", \"voaltilitie\", \"voaltilitie\", \"voaltilitie\", \"voaltilitie\", \"voaltilitie\", \"voaltilitie\", \"voaltilitie\", \"voaltilitie\", \"voaltilitie\", \"voaltilitie\", \"voaltilitie\", \"vol_mgmt\", \"vol_mgmt\", \"vol_mgmt\", \"vol_mgmt\", \"vol_mgmt\", \"vol_mgmt\", \"vol_mgmt\", \"vol_mgmt\", \"vol_mgmt\", \"vol_mgmt\", \"vol_mgmt\", \"vol_mgmt\", \"vol_mgmt\", \"vol_mgmt\", \"volatility\", \"volatility\", \"volatility\", \"volatility\", \"volatility\", \"volatility\", \"volatility\", \"volatility\", \"volatility\", \"volatility\", \"volatility\", \"volatility\", \"volatility\", \"volatility\", \"voodoo\", \"voodoo\", \"voodoo\", \"voodoo\", \"voodoo\", \"voodoo\", \"voodoo\", \"voodoo\", \"voodoo\", \"voodoo\", \"voodoo\", \"voodoo\", \"voodoo\", \"voodoo\", \"vsnement\", \"vsnement\", \"vsnement\", \"vsnement\", \"vsnement\", \"vsnement\", \"vsnement\", \"vsnement\", \"vsnement\", \"vsnement\", \"vsnement\", \"vsnement\", \"vsnement\", \"vsnement\", \"weather\", \"weather\", \"weather\", \"weather\", \"weather\", \"weather\", \"weather\", \"weather\", \"weather\", \"weather\", \"weather\", \"weather\", \"weather\", \"weather\", \"wedding\", \"wedding\", \"wedding\", \"wedding\", \"wedding\", \"wedding\", \"wedding\", \"wedding\", \"wedding\", \"wedding\", \"wedding\", \"wedding\", \"wedding\", \"wedding\", \"weekly\", \"weekly\", \"weekly\", \"weekly\", \"weekly\", \"weekly\", \"weekly\", \"weekly\", \"weekly\", \"weekly\", \"weekly\", \"weekly\", \"weekly\", \"weekly\", \"wehre\", \"wehre\", \"wehre\", \"wehre\", \"wehre\", \"wehre\", \"wehre\", \"wehre\", \"wehre\", \"wehre\", \"wehre\", \"wehre\", \"wehre\", \"wehre\", \"wez\", \"wez\", \"wez\", \"wez\", \"wez\", \"wez\", \"wez\", \"wez\", \"wez\", \"wez\", \"wez\", \"wez\", \"wez\", \"wez\", \"whack\", \"whack\", \"whack\", \"whack\", \"whack\", \"whack\", \"whack\", \"whack\", \"whack\", \"whack\", \"whack\", \"whack\", \"whack\", \"whack\", \"whisper\", \"whisper\", \"whisper\", \"whisper\", \"whisper\", \"whisper\", \"whisper\", \"whisper\", \"whisper\", \"whisper\", \"whisper\", \"whisper\", \"whisper\", \"whisper\", \"whole\", \"whole\", \"whole\", \"whole\", \"whole\", \"whole\", \"whole\", \"whole\", \"whole\", \"whole\", \"whole\", \"whole\", \"whole\", \"whole\", \"will\", \"will\", \"will\", \"will\", \"will\", \"will\", \"will\", \"will\", \"will\", \"will\", \"will\", \"will\", \"will\", \"will\", \"win\", \"win\", \"win\", \"win\", \"win\", \"win\", \"win\", \"win\", \"win\", \"win\", \"win\", \"win\", \"win\", \"win\", \"wishful\", \"wishful\", \"wishful\", \"wishful\", \"wishful\", \"wishful\", \"wishful\", \"wishful\", \"wishful\", \"wishful\", \"wishful\", \"wishful\", \"wishful\", \"wishful\", \"withholding\", \"withholding\", \"withholding\", \"withholding\", \"withholding\", \"withholding\", \"withholding\", \"withholding\", \"withholding\", \"withholding\", \"withholding\", \"withholding\", \"withholding\", \"withholding\", \"wkup\", \"wkup\", \"wkup\", \"wkup\", \"wkup\", \"wkup\", \"wkup\", \"wkup\", \"wkup\", \"wkup\", \"wkup\", \"wkup\", \"wkup\", \"wkup\", \"work\", \"work\", \"work\", \"work\", \"work\", \"work\", \"work\", \"work\", \"work\", \"work\", \"work\", \"work\", \"work\", \"work\", \"worksheet\", \"worksheet\", \"worksheet\", \"worksheet\", \"worksheet\", \"worksheet\", \"worksheet\", \"worksheet\", \"worksheet\", \"worksheet\", \"worksheet\", \"worksheet\", \"worksheet\", \"worksheet\", \"wreak\", \"wreak\", \"wreak\", \"wreak\", \"wreak\", \"wreak\", \"wreak\", \"wreak\", \"wreak\", \"wreak\", \"wreak\", \"wreak\", \"wreak\", \"wreak\", \"writeoff\", \"writeoff\", \"writeoff\", \"writeoff\", \"writeoff\", \"writeoff\", \"writeoff\", \"writeoff\", \"writeoff\", \"writeoff\", \"writeoff\", \"writeoff\", \"writeoff\", \"writeoff\", \"yes\", \"yes\", \"yes\", \"yes\", \"yes\", \"yes\", \"yes\", \"yes\", \"yes\", \"yes\", \"yes\", \"yes\", \"yes\", \"yes\"]}, \"R\": 30, \"lambda.step\": 0.01, \"plot.opts\": {\"xlab\": \"PC1\", \"ylab\": \"PC2\"}, \"topic.order\": [4, 11, 13, 2, 10, 14, 1, 7, 6, 9, 3, 12, 5, 8]};\n",
              "\n",
              "function LDAvis_load_lib(url, callback){\n",
              "  var s = document.createElement('script');\n",
              "  s.src = url;\n",
              "  s.async = true;\n",
              "  s.onreadystatechange = s.onload = callback;\n",
              "  s.onerror = function(){console.warn(\"failed to load library \" + url);};\n",
              "  document.getElementsByTagName(\"head\")[0].appendChild(s);\n",
              "}\n",
              "\n",
              "if(typeof(LDAvis) !== \"undefined\"){\n",
              "   // already loaded: just create the visualization\n",
              "   !function(LDAvis){\n",
              "       new LDAvis(\"#\" + \"ldavis_el3071402996356091683696022232\", ldavis_el3071402996356091683696022232_data);\n",
              "   }(LDAvis);\n",
              "}else if(typeof define === \"function\" && define.amd){\n",
              "   // require.js is available: use it to load d3/LDAvis\n",
              "   require.config({paths: {d3: \"https://d3js.org/d3.v5\"}});\n",
              "   require([\"d3\"], function(d3){\n",
              "      window.d3 = d3;\n",
              "      LDAvis_load_lib(\"https://cdn.jsdelivr.net/gh/bmabey/pyLDAvis@3.3.1/pyLDAvis/js/ldavis.v3.0.0.js\", function(){\n",
              "        new LDAvis(\"#\" + \"ldavis_el3071402996356091683696022232\", ldavis_el3071402996356091683696022232_data);\n",
              "      });\n",
              "    });\n",
              "}else{\n",
              "    // require.js not available: dynamically load d3 & LDAvis\n",
              "    LDAvis_load_lib(\"https://d3js.org/d3.v5.js\", function(){\n",
              "         LDAvis_load_lib(\"https://cdn.jsdelivr.net/gh/bmabey/pyLDAvis@3.3.1/pyLDAvis/js/ldavis.v3.0.0.js\", function(){\n",
              "                 new LDAvis(\"#\" + \"ldavis_el3071402996356091683696022232\", ldavis_el3071402996356091683696022232_data);\n",
              "            })\n",
              "         });\n",
              "}\n",
              "</script>"
            ],
            "text/plain": [
              "<IPython.core.display.HTML object>"
            ]
          },
          "metadata": {
            "tags": []
          },
          "execution_count": 305
        }
      ]
    },
    {
      "cell_type": "code",
      "metadata": {
        "colab": {
          "base_uri": "https://localhost:8080/"
        },
        "id": "iAQRSgv6cTIU",
        "outputId": "71e25c0d-2d12-4f00-f159-f1590748431d"
      },
      "source": [
        "# Select the model and print the topics\n",
        "optimal_model_1 = model_list[2]\n",
        "model_topics_1 = optimal_model_1.show_topics(formatted=False)\n",
        "optimal_model_1.print_topics(num_words=10)"
      ],
      "execution_count": null,
      "outputs": [
        {
          "output_type": "execute_result",
          "data": {
            "text/plain": [
              "[(0,\n",
              "  '0.075*\"meeting\" + 0.047*\"schedule\" + 0.035*\"plan\" + 0.033*\"date\" + 0.028*\"attend\" + 0.028*\"time\" + 0.025*\"discuss\" + 0.024*\"meet\" + 0.019*\"group\" + 0.016*\"question\"'),\n",
              " (1,\n",
              "  '0.034*\"market\" + 0.030*\"price\" + 0.030*\"company\" + 0.025*\"gas\" + 0.024*\"power\" + 0.018*\"trade\" + 0.015*\"high\" + 0.015*\"energy\" + 0.015*\"year\" + 0.010*\"share\"'),\n",
              " (2,\n",
              "  '0.034*\"year\" + 0.025*\"game\" + 0.023*\"run\" + 0.022*\"team\" + 0.018*\"time\" + 0.018*\"play\" + 0.016*\"start\" + 0.016*\"back\" + 0.013*\"good\" + 0.013*\"make\"'),\n",
              " (3,\n",
              "  '0.046*\"request\" + 0.043*\"review\" + 0.030*\"process\" + 0.022*\"follow\" + 0.022*\"employee\" + 0.020*\"number\" + 0.019*\"information\" + 0.017*\"complete\" + 0.016*\"approval\" + 0.016*\"comment\"'),\n",
              " (4,\n",
              "  '0.129*\"subject\" + 0.090*\"call\" + 0.050*\"send\" + 0.042*\"today\" + 0.041*\"pm\" + 0.035*\"give\" + 0.034*\"cc\" + 0.025*\"make\" + 0.023*\"tomorrow\" + 0.022*\"check\"'),\n",
              " (5,\n",
              "  '0.034*\"business\" + 0.025*\"team\" + 0.021*\"report\" + 0.021*\"group\" + 0.018*\"operation\" + 0.017*\"support\" + 0.014*\"trading\" + 0.014*\"risk\" + 0.013*\"continue\" + 0.012*\"role\"'),\n",
              " (6,\n",
              "  '0.035*\"project\" + 0.032*\"cost\" + 0.013*\"total\" + 0.012*\"estimate\" + 0.011*\"power\" + 0.011*\"provide\" + 0.011*\"charge\" + 0.011*\"fee\" + 0.010*\"amount\" + 0.010*\"pay\"'),\n",
              " (7,\n",
              "  '0.025*\"issue\" + 0.014*\"state\" + 0.013*\"system\" + 0.012*\"report\" + 0.012*\"problem\" + 0.011*\"service\" + 0.010*\"order\" + 0.010*\"require\" + 0.009*\"due\" + 0.009*\"date\"'),\n",
              " (8,\n",
              "  '0.073*\"work\" + 0.028*\"make\" + 0.026*\"time\" + 0.021*\"talk\" + 0.019*\"give\" + 0.017*\"program\" + 0.015*\"people\" + 0.015*\"interested\" + 0.015*\"regard\" + 0.015*\"good\"'),\n",
              " (9,\n",
              "  '0.036*\"email\" + 0.034*\"mail\" + 0.027*\"message\" + 0.027*\"send\" + 0.022*\"access\" + 0.021*\"receive\" + 0.021*\"copy\" + 0.020*\"information\" + 0.019*\"address\" + 0.018*\"update\"'),\n",
              " (10,\n",
              "  '0.118*\"deal\" + 0.043*\"gas\" + 0.040*\"volume\" + 0.035*\"month\" + 0.028*\"change\" + 0.025*\"day\" + 0.023*\"meter\" + 0.021*\"ticket\" + 0.018*\"show\" + 0.017*\"flow\"'),\n",
              " (11,\n",
              "  '0.010*\"man\" + 0.010*\"make\" + 0.009*\"friend\" + 0.009*\"love\" + 0.008*\"stop\" + 0.007*\"find\" + 0.007*\"day\" + 0.007*\"people\" + 0.007*\"life\" + 0.006*\"turn\"'),\n",
              " (12,\n",
              "  '0.065*\"contract\" + 0.036*\"rate\" + 0.027*\"capacity\" + 0.023*\"agreement\" + 0.021*\"pipeline\" + 0.020*\"customer\" + 0.018*\"service\" + 0.018*\"term\" + 0.017*\"point\" + 0.014*\"draft\"'),\n",
              " (13,\n",
              "  '0.059*\"week\" + 0.038*\"day\" + 0.036*\"good\" + 0.033*\"time\" + 0.028*\"back\" + 0.024*\"hope\" + 0.022*\"night\" + 0.022*\"work\" + 0.021*\"leave\" + 0.021*\"guy\"')]"
            ]
          },
          "metadata": {
            "tags": []
          },
          "execution_count": 205
        }
      ]
    }
  ]
}