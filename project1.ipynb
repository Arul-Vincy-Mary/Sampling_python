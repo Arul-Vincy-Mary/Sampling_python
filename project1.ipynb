{
  "nbformat": 4,
  "nbformat_minor": 0,
  "metadata": {
    "colab": {
      "name": "project1",
      "provenance": [],
      "collapsed_sections": [],
      "mount_file_id": "1iRyxD6uCLJ3gqn2y_-a3PFjjjAC0PGIh",
      "authorship_tag": "ABX9TyOtfxqD7jiK+prfc3Yogvn1",
      "include_colab_link": true
    },
    "kernelspec": {
      "name": "python3",
      "display_name": "Python 3"
    },
    "language_info": {
      "name": "python"
    }
  },
  "cells": [
    {
      "cell_type": "markdown",
      "metadata": {
        "id": "view-in-github",
        "colab_type": "text"
      },
      "source": [
        "<a href=\"https://colab.research.google.com/github/Arul-Vincy-Mary/nerd/blob/main/project1.ipynb\" target=\"_parent\"><img src=\"https://colab.research.google.com/assets/colab-badge.svg\" alt=\"Open In Colab\"/></a>"
      ]
    },
    {
      "cell_type": "code",
      "metadata": {
        "id": "6x5VBM2CcFgq"
      },
      "source": [
        "#data visualization\n",
        "!pip install pyLDAvis"
      ],
      "execution_count": null,
      "outputs": []
    },
    {
      "cell_type": "code",
      "metadata": {
        "id": "8dYCtyJjmyn9"
      },
      "source": [
        "from google.colab import drive\n",
        "drive.mount('/content/drive')"
      ],
      "execution_count": null,
      "outputs": []
    },
    {
      "cell_type": "code",
      "metadata": {
        "id": "-1Jsm7tqLqp3"
      },
      "source": [
        "import warnings\n",
        "warnings.filterwarnings(\"ignore\",category=DeprecationWarning)"
      ],
      "execution_count": 7,
      "outputs": []
    },
    {
      "cell_type": "code",
      "metadata": {
        "id": "lfIbYtIxcLjb"
      },
      "source": [
        "#reading the data\n",
        "import pandas as pd\n",
        "import numpy as np\n",
        "import email"
      ],
      "execution_count": 8,
      "outputs": []
    },
    {
      "cell_type": "code",
      "metadata": {
        "id": "lL96Uj7eOprw"
      },
      "source": [
        "data_1 = pd.read_csv(\"/content/drive/MyDrive/emails.csv\")"
      ],
      "execution_count": 9,
      "outputs": []
    },
    {
      "cell_type": "code",
      "metadata": {
        "id": "pFjaeBz6fmMb"
      },
      "source": [
        "#copy of the dataset\n",
        "data = data_1.copy(deep=True)"
      ],
      "execution_count": 10,
      "outputs": []
    },
    {
      "cell_type": "code",
      "metadata": {
        "id": "6dI6SKjb7KzP",
        "colab": {
          "base_uri": "https://localhost:8080/",
          "height": 203
        },
        "outputId": "28d71a4a-3242-4805-d10d-8c1107db41e2"
      },
      "source": [
        "data.head(5)"
      ],
      "execution_count": 11,
      "outputs": [
        {
          "output_type": "execute_result",
          "data": {
            "text/html": [
              "<div>\n",
              "<style scoped>\n",
              "    .dataframe tbody tr th:only-of-type {\n",
              "        vertical-align: middle;\n",
              "    }\n",
              "\n",
              "    .dataframe tbody tr th {\n",
              "        vertical-align: top;\n",
              "    }\n",
              "\n",
              "    .dataframe thead th {\n",
              "        text-align: right;\n",
              "    }\n",
              "</style>\n",
              "<table border=\"1\" class=\"dataframe\">\n",
              "  <thead>\n",
              "    <tr style=\"text-align: right;\">\n",
              "      <th></th>\n",
              "      <th>file</th>\n",
              "      <th>message</th>\n",
              "    </tr>\n",
              "  </thead>\n",
              "  <tbody>\n",
              "    <tr>\n",
              "      <th>0</th>\n",
              "      <td>allen-p/_sent_mail/1.</td>\n",
              "      <td>Message-ID: &lt;18782981.1075855378110.JavaMail.e...</td>\n",
              "    </tr>\n",
              "    <tr>\n",
              "      <th>1</th>\n",
              "      <td>allen-p/_sent_mail/10.</td>\n",
              "      <td>Message-ID: &lt;15464986.1075855378456.JavaMail.e...</td>\n",
              "    </tr>\n",
              "    <tr>\n",
              "      <th>2</th>\n",
              "      <td>allen-p/_sent_mail/100.</td>\n",
              "      <td>Message-ID: &lt;24216240.1075855687451.JavaMail.e...</td>\n",
              "    </tr>\n",
              "    <tr>\n",
              "      <th>3</th>\n",
              "      <td>allen-p/_sent_mail/1000.</td>\n",
              "      <td>Message-ID: &lt;13505866.1075863688222.JavaMail.e...</td>\n",
              "    </tr>\n",
              "    <tr>\n",
              "      <th>4</th>\n",
              "      <td>allen-p/_sent_mail/1001.</td>\n",
              "      <td>Message-ID: &lt;30922949.1075863688243.JavaMail.e...</td>\n",
              "    </tr>\n",
              "  </tbody>\n",
              "</table>\n",
              "</div>"
            ],
            "text/plain": [
              "                       file                                            message\n",
              "0     allen-p/_sent_mail/1.  Message-ID: <18782981.1075855378110.JavaMail.e...\n",
              "1    allen-p/_sent_mail/10.  Message-ID: <15464986.1075855378456.JavaMail.e...\n",
              "2   allen-p/_sent_mail/100.  Message-ID: <24216240.1075855687451.JavaMail.e...\n",
              "3  allen-p/_sent_mail/1000.  Message-ID: <13505866.1075863688222.JavaMail.e...\n",
              "4  allen-p/_sent_mail/1001.  Message-ID: <30922949.1075863688243.JavaMail.e..."
            ]
          },
          "metadata": {
            "tags": []
          },
          "execution_count": 11
        }
      ]
    },
    {
      "cell_type": "code",
      "metadata": {
        "colab": {
          "base_uri": "https://localhost:8080/"
        },
        "id": "aLl98d5q74eH",
        "outputId": "6bdadaa1-bab4-4de0-f8b7-3031abdc4587"
      },
      "source": [
        "data.shape"
      ],
      "execution_count": 12,
      "outputs": [
        {
          "output_type": "execute_result",
          "data": {
            "text/plain": [
              "(517401, 2)"
            ]
          },
          "metadata": {
            "tags": []
          },
          "execution_count": 12
        }
      ]
    },
    {
      "cell_type": "code",
      "metadata": {
        "id": "ug0_SkoS7wGn",
        "colab": {
          "base_uri": "https://localhost:8080/"
        },
        "outputId": "79b01bc7-ee23-4a64-b10f-67427d729bb0"
      },
      "source": [
        "#message\n",
        "print(data.loc[1]['message'])"
      ],
      "execution_count": 13,
      "outputs": [
        {
          "output_type": "stream",
          "text": [
            "Message-ID: <15464986.1075855378456.JavaMail.evans@thyme>\n",
            "Date: Fri, 4 May 2001 13:51:00 -0700 (PDT)\n",
            "From: phillip.allen@enron.com\n",
            "To: john.lavorato@enron.com\n",
            "Subject: Re:\n",
            "Mime-Version: 1.0\n",
            "Content-Type: text/plain; charset=us-ascii\n",
            "Content-Transfer-Encoding: 7bit\n",
            "X-From: Phillip K Allen\n",
            "X-To: John J Lavorato <John J Lavorato/ENRON@enronXgate@ENRON>\n",
            "X-cc: \n",
            "X-bcc: \n",
            "X-Folder: \\Phillip_Allen_Jan2002_1\\Allen, Phillip K.\\'Sent Mail\n",
            "X-Origin: Allen-P\n",
            "X-FileName: pallen (Non-Privileged).pst\n",
            "\n",
            "Traveling to have a business meeting takes the fun out of the trip.  Especially if you have to prepare a presentation.  I would suggest holding the business plan meetings here then take a trip without any formal business meetings.  I would even try and get some honest opinions on whether a trip is even desired or necessary.\n",
            "\n",
            "As far as the business meetings, I think it would be more productive to try and stimulate discussions across the different groups about what is working and what is not.  Too often the presenter speaks and the others are quiet just waiting for their turn.   The meetings might be better if held in a round table discussion format.  \n",
            "\n",
            "My suggestion for where to go is Austin.  Play golf and rent a ski boat and jet ski's.  Flying somewhere takes too much time.\n",
            "\n"
          ],
          "name": "stdout"
        }
      ]
    },
    {
      "cell_type": "markdown",
      "metadata": {
        "id": "s6dW6F_q7dWx"
      },
      "source": [
        "Extract headers:"
      ]
    },
    {
      "cell_type": "code",
      "metadata": {
        "id": "zIVz0arz7bjh"
      },
      "source": [
        "def get_field(field, messages):\n",
        "    column = []\n",
        "    for message in messages:\n",
        "        e = email.message_from_string(message)\n",
        "        column.append(e.get(field))\n",
        "    return column  "
      ],
      "execution_count": 14,
      "outputs": []
    },
    {
      "cell_type": "code",
      "metadata": {
        "id": "B93VqryoVGCv",
        "colab": {
          "base_uri": "https://localhost:8080/",
          "height": 203
        },
        "outputId": "4533fb46-ebea-4b68-aed3-cadbcf973ece"
      },
      "source": [
        "data['subject'] = get_field(\"Subject\", data['message'])\n",
        "data['X-Folder'] = get_field(\"X-Folder\", data['message'])\n",
        "data['X-From'] = get_field(\"X-From\", data['message'])\n",
        "data['X-To'] = get_field(\"X-To\", data['message'])\n",
        "data.head()   "
      ],
      "execution_count": 15,
      "outputs": [
        {
          "output_type": "execute_result",
          "data": {
            "text/html": [
              "<div>\n",
              "<style scoped>\n",
              "    .dataframe tbody tr th:only-of-type {\n",
              "        vertical-align: middle;\n",
              "    }\n",
              "\n",
              "    .dataframe tbody tr th {\n",
              "        vertical-align: top;\n",
              "    }\n",
              "\n",
              "    .dataframe thead th {\n",
              "        text-align: right;\n",
              "    }\n",
              "</style>\n",
              "<table border=\"1\" class=\"dataframe\">\n",
              "  <thead>\n",
              "    <tr style=\"text-align: right;\">\n",
              "      <th></th>\n",
              "      <th>file</th>\n",
              "      <th>message</th>\n",
              "      <th>subject</th>\n",
              "      <th>X-Folder</th>\n",
              "      <th>X-From</th>\n",
              "      <th>X-To</th>\n",
              "    </tr>\n",
              "  </thead>\n",
              "  <tbody>\n",
              "    <tr>\n",
              "      <th>0</th>\n",
              "      <td>allen-p/_sent_mail/1.</td>\n",
              "      <td>Message-ID: &lt;18782981.1075855378110.JavaMail.e...</td>\n",
              "      <td></td>\n",
              "      <td>\\Phillip_Allen_Jan2002_1\\Allen, Phillip K.\\'Se...</td>\n",
              "      <td>Phillip K Allen</td>\n",
              "      <td>Tim Belden &lt;Tim Belden/Enron@EnronXGate&gt;</td>\n",
              "    </tr>\n",
              "    <tr>\n",
              "      <th>1</th>\n",
              "      <td>allen-p/_sent_mail/10.</td>\n",
              "      <td>Message-ID: &lt;15464986.1075855378456.JavaMail.e...</td>\n",
              "      <td>Re:</td>\n",
              "      <td>\\Phillip_Allen_Jan2002_1\\Allen, Phillip K.\\'Se...</td>\n",
              "      <td>Phillip K Allen</td>\n",
              "      <td>John J Lavorato &lt;John J Lavorato/ENRON@enronXg...</td>\n",
              "    </tr>\n",
              "    <tr>\n",
              "      <th>2</th>\n",
              "      <td>allen-p/_sent_mail/100.</td>\n",
              "      <td>Message-ID: &lt;24216240.1075855687451.JavaMail.e...</td>\n",
              "      <td>Re: test</td>\n",
              "      <td>\\Phillip_Allen_Dec2000\\Notes Folders\\'sent mail</td>\n",
              "      <td>Phillip K Allen</td>\n",
              "      <td>Leah Van Arsdall</td>\n",
              "    </tr>\n",
              "    <tr>\n",
              "      <th>3</th>\n",
              "      <td>allen-p/_sent_mail/1000.</td>\n",
              "      <td>Message-ID: &lt;13505866.1075863688222.JavaMail.e...</td>\n",
              "      <td></td>\n",
              "      <td>\\Phillip_Allen_Dec2000\\Notes Folders\\'sent mail</td>\n",
              "      <td>Phillip K Allen</td>\n",
              "      <td>Randall L Gay</td>\n",
              "    </tr>\n",
              "    <tr>\n",
              "      <th>4</th>\n",
              "      <td>allen-p/_sent_mail/1001.</td>\n",
              "      <td>Message-ID: &lt;30922949.1075863688243.JavaMail.e...</td>\n",
              "      <td>Re: Hello</td>\n",
              "      <td>\\Phillip_Allen_Dec2000\\Notes Folders\\'sent mail</td>\n",
              "      <td>Phillip K Allen</td>\n",
              "      <td>Greg Piper</td>\n",
              "    </tr>\n",
              "  </tbody>\n",
              "</table>\n",
              "</div>"
            ],
            "text/plain": [
              "                       file  ...                                               X-To\n",
              "0     allen-p/_sent_mail/1.  ...           Tim Belden <Tim Belden/Enron@EnronXGate>\n",
              "1    allen-p/_sent_mail/10.  ...  John J Lavorato <John J Lavorato/ENRON@enronXg...\n",
              "2   allen-p/_sent_mail/100.  ...                                   Leah Van Arsdall\n",
              "3  allen-p/_sent_mail/1000.  ...                                      Randall L Gay\n",
              "4  allen-p/_sent_mail/1001.  ...                                         Greg Piper\n",
              "\n",
              "[5 rows x 6 columns]"
            ]
          },
          "metadata": {
            "tags": []
          },
          "execution_count": 15
        }
      ]
    },
    {
      "cell_type": "code",
      "metadata": {
        "id": "zv_5A_b87n80"
      },
      "source": [
        "#extract body of the message\n",
        "def body(messages):\n",
        "    column = []\n",
        "    for message in messages:\n",
        "        e = email.message_from_string(message)\n",
        "        column.append(e.get_payload())\n",
        "    return column"
      ],
      "execution_count": 16,
      "outputs": []
    },
    {
      "cell_type": "code",
      "metadata": {
        "colab": {
          "base_uri": "https://localhost:8080/",
          "height": 287
        },
        "id": "UtuDm_KEVUZV",
        "outputId": "25741c7d-c6ce-47c3-e430-02fbaaaf539f"
      },
      "source": [
        "data['body'] = body(data['message'])\n",
        "data.head()"
      ],
      "execution_count": 17,
      "outputs": [
        {
          "output_type": "execute_result",
          "data": {
            "text/html": [
              "<div>\n",
              "<style scoped>\n",
              "    .dataframe tbody tr th:only-of-type {\n",
              "        vertical-align: middle;\n",
              "    }\n",
              "\n",
              "    .dataframe tbody tr th {\n",
              "        vertical-align: top;\n",
              "    }\n",
              "\n",
              "    .dataframe thead th {\n",
              "        text-align: right;\n",
              "    }\n",
              "</style>\n",
              "<table border=\"1\" class=\"dataframe\">\n",
              "  <thead>\n",
              "    <tr style=\"text-align: right;\">\n",
              "      <th></th>\n",
              "      <th>file</th>\n",
              "      <th>message</th>\n",
              "      <th>subject</th>\n",
              "      <th>X-Folder</th>\n",
              "      <th>X-From</th>\n",
              "      <th>X-To</th>\n",
              "      <th>body</th>\n",
              "    </tr>\n",
              "  </thead>\n",
              "  <tbody>\n",
              "    <tr>\n",
              "      <th>0</th>\n",
              "      <td>allen-p/_sent_mail/1.</td>\n",
              "      <td>Message-ID: &lt;18782981.1075855378110.JavaMail.e...</td>\n",
              "      <td></td>\n",
              "      <td>\\Phillip_Allen_Jan2002_1\\Allen, Phillip K.\\'Se...</td>\n",
              "      <td>Phillip K Allen</td>\n",
              "      <td>Tim Belden &lt;Tim Belden/Enron@EnronXGate&gt;</td>\n",
              "      <td>Here is our forecast\\n\\n</td>\n",
              "    </tr>\n",
              "    <tr>\n",
              "      <th>1</th>\n",
              "      <td>allen-p/_sent_mail/10.</td>\n",
              "      <td>Message-ID: &lt;15464986.1075855378456.JavaMail.e...</td>\n",
              "      <td>Re:</td>\n",
              "      <td>\\Phillip_Allen_Jan2002_1\\Allen, Phillip K.\\'Se...</td>\n",
              "      <td>Phillip K Allen</td>\n",
              "      <td>John J Lavorato &lt;John J Lavorato/ENRON@enronXg...</td>\n",
              "      <td>Traveling to have a business meeting takes the...</td>\n",
              "    </tr>\n",
              "    <tr>\n",
              "      <th>2</th>\n",
              "      <td>allen-p/_sent_mail/100.</td>\n",
              "      <td>Message-ID: &lt;24216240.1075855687451.JavaMail.e...</td>\n",
              "      <td>Re: test</td>\n",
              "      <td>\\Phillip_Allen_Dec2000\\Notes Folders\\'sent mail</td>\n",
              "      <td>Phillip K Allen</td>\n",
              "      <td>Leah Van Arsdall</td>\n",
              "      <td>test successful.  way to go!!!</td>\n",
              "    </tr>\n",
              "    <tr>\n",
              "      <th>3</th>\n",
              "      <td>allen-p/_sent_mail/1000.</td>\n",
              "      <td>Message-ID: &lt;13505866.1075863688222.JavaMail.e...</td>\n",
              "      <td></td>\n",
              "      <td>\\Phillip_Allen_Dec2000\\Notes Folders\\'sent mail</td>\n",
              "      <td>Phillip K Allen</td>\n",
              "      <td>Randall L Gay</td>\n",
              "      <td>Randy,\\n\\n Can you send me a schedule of the s...</td>\n",
              "    </tr>\n",
              "    <tr>\n",
              "      <th>4</th>\n",
              "      <td>allen-p/_sent_mail/1001.</td>\n",
              "      <td>Message-ID: &lt;30922949.1075863688243.JavaMail.e...</td>\n",
              "      <td>Re: Hello</td>\n",
              "      <td>\\Phillip_Allen_Dec2000\\Notes Folders\\'sent mail</td>\n",
              "      <td>Phillip K Allen</td>\n",
              "      <td>Greg Piper</td>\n",
              "      <td>Let's shoot for Tuesday at 11:45.</td>\n",
              "    </tr>\n",
              "  </tbody>\n",
              "</table>\n",
              "</div>"
            ],
            "text/plain": [
              "                       file  ...                                               body\n",
              "0     allen-p/_sent_mail/1.  ...                          Here is our forecast\\n\\n \n",
              "1    allen-p/_sent_mail/10.  ...  Traveling to have a business meeting takes the...\n",
              "2   allen-p/_sent_mail/100.  ...                     test successful.  way to go!!!\n",
              "3  allen-p/_sent_mail/1000.  ...  Randy,\\n\\n Can you send me a schedule of the s...\n",
              "4  allen-p/_sent_mail/1001.  ...                Let's shoot for Tuesday at 11:45.  \n",
              "\n",
              "[5 rows x 7 columns]"
            ]
          },
          "metadata": {
            "tags": []
          },
          "execution_count": 17
        }
      ]
    },
    {
      "cell_type": "markdown",
      "metadata": {
        "id": "FtWnP6E5CORX"
      },
      "source": [
        "Look into X-Folder:"
      ]
    },
    {
      "cell_type": "code",
      "metadata": {
        "colab": {
          "base_uri": "https://localhost:8080/",
          "height": 52
        },
        "id": "eQs4MQJCC8nw",
        "outputId": "3fa040ff-cf24-4d0b-c3c1-896223c41d60"
      },
      "source": [
        "print(data['X-Folder'][0])\n",
        "\n",
        "# we only want last folder name\n",
        "data['X-Folder'][0].split(\"\\\\\")[-1]"
      ],
      "execution_count": 18,
      "outputs": [
        {
          "output_type": "stream",
          "text": [
            "\\Phillip_Allen_Jan2002_1\\Allen, Phillip K.\\'Sent Mail\n"
          ],
          "name": "stdout"
        },
        {
          "output_type": "execute_result",
          "data": {
            "application/vnd.google.colaboratory.intrinsic+json": {
              "type": "string"
            },
            "text/plain": [
              "\"'Sent Mail\""
            ]
          },
          "metadata": {
            "tags": []
          },
          "execution_count": 18
        }
      ]
    },
    {
      "cell_type": "code",
      "metadata": {
        "colab": {
          "base_uri": "https://localhost:8080/",
          "height": 304
        },
        "id": "OapU6V7IDDQB",
        "outputId": "b71abe41-eb32-4e88-f851-bcf741e892a5"
      },
      "source": [
        "def preprocess_folder(folders):\n",
        "    column = []\n",
        "    for folder in folders:\n",
        "        if (folder is None or folder == \"\"):\n",
        "            column.append(np.nan)\n",
        "        else:\n",
        "            column.append(folder.split(\"\\\\\")[-1].lower())\n",
        "    return column\n",
        "\n",
        "data['X-Folder'] = preprocess_folder(data['X-Folder'])\n",
        "data.head()"
      ],
      "execution_count": 19,
      "outputs": [
        {
          "output_type": "execute_result",
          "data": {
            "text/html": [
              "<div>\n",
              "<style scoped>\n",
              "    .dataframe tbody tr th:only-of-type {\n",
              "        vertical-align: middle;\n",
              "    }\n",
              "\n",
              "    .dataframe tbody tr th {\n",
              "        vertical-align: top;\n",
              "    }\n",
              "\n",
              "    .dataframe thead th {\n",
              "        text-align: right;\n",
              "    }\n",
              "</style>\n",
              "<table border=\"1\" class=\"dataframe\">\n",
              "  <thead>\n",
              "    <tr style=\"text-align: right;\">\n",
              "      <th></th>\n",
              "      <th>file</th>\n",
              "      <th>message</th>\n",
              "      <th>subject</th>\n",
              "      <th>X-Folder</th>\n",
              "      <th>X-From</th>\n",
              "      <th>X-To</th>\n",
              "      <th>body</th>\n",
              "    </tr>\n",
              "  </thead>\n",
              "  <tbody>\n",
              "    <tr>\n",
              "      <th>0</th>\n",
              "      <td>allen-p/_sent_mail/1.</td>\n",
              "      <td>Message-ID: &lt;18782981.1075855378110.JavaMail.e...</td>\n",
              "      <td></td>\n",
              "      <td>'sent mail</td>\n",
              "      <td>Phillip K Allen</td>\n",
              "      <td>Tim Belden &lt;Tim Belden/Enron@EnronXGate&gt;</td>\n",
              "      <td>Here is our forecast\\n\\n</td>\n",
              "    </tr>\n",
              "    <tr>\n",
              "      <th>1</th>\n",
              "      <td>allen-p/_sent_mail/10.</td>\n",
              "      <td>Message-ID: &lt;15464986.1075855378456.JavaMail.e...</td>\n",
              "      <td>Re:</td>\n",
              "      <td>'sent mail</td>\n",
              "      <td>Phillip K Allen</td>\n",
              "      <td>John J Lavorato &lt;John J Lavorato/ENRON@enronXg...</td>\n",
              "      <td>Traveling to have a business meeting takes the...</td>\n",
              "    </tr>\n",
              "    <tr>\n",
              "      <th>2</th>\n",
              "      <td>allen-p/_sent_mail/100.</td>\n",
              "      <td>Message-ID: &lt;24216240.1075855687451.JavaMail.e...</td>\n",
              "      <td>Re: test</td>\n",
              "      <td>'sent mail</td>\n",
              "      <td>Phillip K Allen</td>\n",
              "      <td>Leah Van Arsdall</td>\n",
              "      <td>test successful.  way to go!!!</td>\n",
              "    </tr>\n",
              "    <tr>\n",
              "      <th>3</th>\n",
              "      <td>allen-p/_sent_mail/1000.</td>\n",
              "      <td>Message-ID: &lt;13505866.1075863688222.JavaMail.e...</td>\n",
              "      <td></td>\n",
              "      <td>'sent mail</td>\n",
              "      <td>Phillip K Allen</td>\n",
              "      <td>Randall L Gay</td>\n",
              "      <td>Randy,\\n\\n Can you send me a schedule of the s...</td>\n",
              "    </tr>\n",
              "    <tr>\n",
              "      <th>4</th>\n",
              "      <td>allen-p/_sent_mail/1001.</td>\n",
              "      <td>Message-ID: &lt;30922949.1075863688243.JavaMail.e...</td>\n",
              "      <td>Re: Hello</td>\n",
              "      <td>'sent mail</td>\n",
              "      <td>Phillip K Allen</td>\n",
              "      <td>Greg Piper</td>\n",
              "      <td>Let's shoot for Tuesday at 11:45.</td>\n",
              "    </tr>\n",
              "  </tbody>\n",
              "</table>\n",
              "</div>"
            ],
            "text/plain": [
              "                       file  ...                                               body\n",
              "0     allen-p/_sent_mail/1.  ...                          Here is our forecast\\n\\n \n",
              "1    allen-p/_sent_mail/10.  ...  Traveling to have a business meeting takes the...\n",
              "2   allen-p/_sent_mail/100.  ...                     test successful.  way to go!!!\n",
              "3  allen-p/_sent_mail/1000.  ...  Randy,\\n\\n Can you send me a schedule of the s...\n",
              "4  allen-p/_sent_mail/1001.  ...                Let's shoot for Tuesday at 11:45.  \n",
              "\n",
              "[5 rows x 7 columns]"
            ]
          },
          "metadata": {
            "tags": []
          },
          "execution_count": 19
        }
      ]
    },
    {
      "cell_type": "code",
      "metadata": {
        "colab": {
          "base_uri": "https://localhost:8080/"
        },
        "id": "0KocrjI5q3Yv",
        "outputId": "e08cc100-2d8e-4406-8791-2888a65118f8"
      },
      "source": [
        "# view some unique folders\n",
        "data['X-Folder'].unique()[0:40]"
      ],
      "execution_count": 20,
      "outputs": [
        {
          "output_type": "execute_result",
          "data": {
            "text/plain": [
              "array([\"'sent mail\", 'all documents', 'contacts', 'deleted items',\n",
              "       'discussion threads', 'inbox', 'notes inbox', 'sent items', 'sent',\n",
              "       'straw', '2000 conference', 'active international', 'avaya', 'bmc',\n",
              "       'bridge', 'bristol babcock', 'colleen koenig', 'compaq',\n",
              "       'computer associates', 'continental airlines', 'cooper cameron',\n",
              "       'corestaff', 'dell', 'ebs', 'ees', 'enron europe', 'etol', 'fedex',\n",
              "       'ge', 'hp', 'human resources', \"kinko's\", 'nepco europe', 'nepco',\n",
              "       'oec', 'pcc values', 'personal', 'purchasing', 'requisite', 'sap'],\n",
              "      dtype=object)"
            ]
          },
          "metadata": {
            "tags": []
          },
          "execution_count": 20
        }
      ]
    },
    {
      "cell_type": "markdown",
      "metadata": {
        "id": "puBayS0FEJW8"
      },
      "source": [
        "Drop the following columns: file,message,date,subject,X-From,X-To"
      ]
    },
    {
      "cell_type": "code",
      "metadata": {
        "id": "iAwJaZglEHCB",
        "colab": {
          "base_uri": "https://localhost:8080/"
        },
        "outputId": "a95a5007-0443-4925-95dd-eaff71349ec7"
      },
      "source": [
        "cols_to_drop = ['file','message','subject','X-From','X-To']\n",
        "data.drop(cols_to_drop, axis=1, inplace=True)\n",
        "data.head()\n",
        "data.shape"
      ],
      "execution_count": 21,
      "outputs": [
        {
          "output_type": "execute_result",
          "data": {
            "text/plain": [
              "(517401, 2)"
            ]
          },
          "metadata": {
            "tags": []
          },
          "execution_count": 21
        }
      ]
    },
    {
      "cell_type": "code",
      "metadata": {
        "colab": {
          "base_uri": "https://localhost:8080/"
        },
        "id": "fNWPIgT8EWxa",
        "outputId": "6f2b06c5-3d68-4d93-9e1c-496a76ec1eda"
      },
      "source": [
        "#subset of the data set\n",
        "data = data[data[\"X-Folder\"]==\"'sent mail\"]\n",
        "data.columns\n",
        "data.shape"
      ],
      "execution_count": 22,
      "outputs": [
        {
          "output_type": "execute_result",
          "data": {
            "text/plain": [
              "(30237, 2)"
            ]
          },
          "metadata": {
            "tags": []
          },
          "execution_count": 22
        }
      ]
    },
    {
      "cell_type": "code",
      "metadata": {
        "colab": {
          "base_uri": "https://localhost:8080/",
          "height": 203
        },
        "id": "t3ipBRsEr0F6",
        "outputId": "1fb04ea0-e43f-409e-bb9c-4153b1f68dad"
      },
      "source": [
        "data.head()"
      ],
      "execution_count": 23,
      "outputs": [
        {
          "output_type": "execute_result",
          "data": {
            "text/html": [
              "<div>\n",
              "<style scoped>\n",
              "    .dataframe tbody tr th:only-of-type {\n",
              "        vertical-align: middle;\n",
              "    }\n",
              "\n",
              "    .dataframe tbody tr th {\n",
              "        vertical-align: top;\n",
              "    }\n",
              "\n",
              "    .dataframe thead th {\n",
              "        text-align: right;\n",
              "    }\n",
              "</style>\n",
              "<table border=\"1\" class=\"dataframe\">\n",
              "  <thead>\n",
              "    <tr style=\"text-align: right;\">\n",
              "      <th></th>\n",
              "      <th>X-Folder</th>\n",
              "      <th>body</th>\n",
              "    </tr>\n",
              "  </thead>\n",
              "  <tbody>\n",
              "    <tr>\n",
              "      <th>0</th>\n",
              "      <td>'sent mail</td>\n",
              "      <td>Here is our forecast\\n\\n</td>\n",
              "    </tr>\n",
              "    <tr>\n",
              "      <th>1</th>\n",
              "      <td>'sent mail</td>\n",
              "      <td>Traveling to have a business meeting takes the...</td>\n",
              "    </tr>\n",
              "    <tr>\n",
              "      <th>2</th>\n",
              "      <td>'sent mail</td>\n",
              "      <td>test successful.  way to go!!!</td>\n",
              "    </tr>\n",
              "    <tr>\n",
              "      <th>3</th>\n",
              "      <td>'sent mail</td>\n",
              "      <td>Randy,\\n\\n Can you send me a schedule of the s...</td>\n",
              "    </tr>\n",
              "    <tr>\n",
              "      <th>4</th>\n",
              "      <td>'sent mail</td>\n",
              "      <td>Let's shoot for Tuesday at 11:45.</td>\n",
              "    </tr>\n",
              "  </tbody>\n",
              "</table>\n",
              "</div>"
            ],
            "text/plain": [
              "     X-Folder                                               body\n",
              "0  'sent mail                          Here is our forecast\\n\\n \n",
              "1  'sent mail  Traveling to have a business meeting takes the...\n",
              "2  'sent mail                     test successful.  way to go!!!\n",
              "3  'sent mail  Randy,\\n\\n Can you send me a schedule of the s...\n",
              "4  'sent mail                Let's shoot for Tuesday at 11:45.  "
            ]
          },
          "metadata": {
            "tags": []
          },
          "execution_count": 23
        }
      ]
    },
    {
      "cell_type": "code",
      "metadata": {
        "colab": {
          "base_uri": "https://localhost:8080/",
          "height": 203
        },
        "id": "IVYKbrlRYaFw",
        "outputId": "53cbcde9-fe77-4acb-a281-5597f12b803f"
      },
      "source": [
        "df = data[:10000]\n",
        "df.head()"
      ],
      "execution_count": 24,
      "outputs": [
        {
          "output_type": "execute_result",
          "data": {
            "text/html": [
              "<div>\n",
              "<style scoped>\n",
              "    .dataframe tbody tr th:only-of-type {\n",
              "        vertical-align: middle;\n",
              "    }\n",
              "\n",
              "    .dataframe tbody tr th {\n",
              "        vertical-align: top;\n",
              "    }\n",
              "\n",
              "    .dataframe thead th {\n",
              "        text-align: right;\n",
              "    }\n",
              "</style>\n",
              "<table border=\"1\" class=\"dataframe\">\n",
              "  <thead>\n",
              "    <tr style=\"text-align: right;\">\n",
              "      <th></th>\n",
              "      <th>X-Folder</th>\n",
              "      <th>body</th>\n",
              "    </tr>\n",
              "  </thead>\n",
              "  <tbody>\n",
              "    <tr>\n",
              "      <th>0</th>\n",
              "      <td>'sent mail</td>\n",
              "      <td>Here is our forecast\\n\\n</td>\n",
              "    </tr>\n",
              "    <tr>\n",
              "      <th>1</th>\n",
              "      <td>'sent mail</td>\n",
              "      <td>Traveling to have a business meeting takes the...</td>\n",
              "    </tr>\n",
              "    <tr>\n",
              "      <th>2</th>\n",
              "      <td>'sent mail</td>\n",
              "      <td>test successful.  way to go!!!</td>\n",
              "    </tr>\n",
              "    <tr>\n",
              "      <th>3</th>\n",
              "      <td>'sent mail</td>\n",
              "      <td>Randy,\\n\\n Can you send me a schedule of the s...</td>\n",
              "    </tr>\n",
              "    <tr>\n",
              "      <th>4</th>\n",
              "      <td>'sent mail</td>\n",
              "      <td>Let's shoot for Tuesday at 11:45.</td>\n",
              "    </tr>\n",
              "  </tbody>\n",
              "</table>\n",
              "</div>"
            ],
            "text/plain": [
              "     X-Folder                                               body\n",
              "0  'sent mail                          Here is our forecast\\n\\n \n",
              "1  'sent mail  Traveling to have a business meeting takes the...\n",
              "2  'sent mail                     test successful.  way to go!!!\n",
              "3  'sent mail  Randy,\\n\\n Can you send me a schedule of the s...\n",
              "4  'sent mail                Let's shoot for Tuesday at 11:45.  "
            ]
          },
          "metadata": {
            "tags": []
          },
          "execution_count": 24
        }
      ]
    },
    {
      "cell_type": "code",
      "metadata": {
        "id": "wNEiLtlytnBg"
      },
      "source": [
        "df_1 = df.copy(deep=True)"
      ],
      "execution_count": 25,
      "outputs": []
    },
    {
      "cell_type": "markdown",
      "metadata": {
        "id": "HZRZJaofOLtT"
      },
      "source": [
        "Data cleaning:"
      ]
    },
    {
      "cell_type": "code",
      "metadata": {
        "id": "RZenCburOBE9"
      },
      "source": [
        "#view the emails\n",
        "for i in range(25):\n",
        "   print(\"################################################ EMAIL CONTENT NUMBER:\",i,\"############################################################################\")\n",
        "   print(df_1.body.iloc[i])"
      ],
      "execution_count": null,
      "outputs": []
    },
    {
      "cell_type": "markdown",
      "metadata": {
        "id": "R_wvF6mqgE8f"
      },
      "source": [
        "From the above emails, there are many emails contain ----forwarded by--- in it. Removing those for better model"
      ]
    },
    {
      "cell_type": "code",
      "metadata": {
        "colab": {
          "base_uri": "https://localhost:8080/"
        },
        "id": "edQGifmsK9Ey",
        "outputId": "a2c83a30-6b44-4425-b3e9-2d8f598a9434"
      },
      "source": [
        "#checking the emails contain ----forwarded by----\n",
        "df_1.body.str.contains('[- ]*Forwarded by').value_counts()"
      ],
      "execution_count": 27,
      "outputs": [
        {
          "output_type": "execute_result",
          "data": {
            "text/plain": [
              "False    6402\n",
              "True     3598\n",
              "Name: body, dtype: int64"
            ]
          },
          "metadata": {
            "tags": []
          },
          "execution_count": 27
        }
      ]
    },
    {
      "cell_type": "markdown",
      "metadata": {
        "id": "JA-9PXmtOjA4"
      },
      "source": [
        "Looking at the forwarded texts:"
      ]
    },
    {
      "cell_type": "code",
      "metadata": {
        "id": "N2n5oJVGt--X"
      },
      "source": [
        "import re\n",
        "#removing forwarded patterns\n",
        "def deal_forwarded(row):\n",
        "    condition = '[- ]*Forwarded by[\\S\\s]*Subject:[\\S\\t ]*'                      \n",
        "    return re.sub(condition, '', row).strip()\n",
        "df_1['content1'] = df_1.body.map(deal_forwarded)    "
      ],
      "execution_count": 28,
      "outputs": []
    },
    {
      "cell_type": "code",
      "metadata": {
        "colab": {
          "base_uri": "https://localhost:8080/"
        },
        "id": "Twk4BcbMOsUB",
        "outputId": "3d14d13f-4b52-4c57-ed23-9ac775ca297e"
      },
      "source": [
        "print(df_1.content1.str.contains('[- ]*Forwarded by').value_counts())"
      ],
      "execution_count": 29,
      "outputs": [
        {
          "output_type": "stream",
          "text": [
            "False    9966\n",
            "True       34\n",
            "Name: content1, dtype: int64\n"
          ],
          "name": "stdout"
        }
      ]
    },
    {
      "cell_type": "markdown",
      "metadata": {
        "id": "jeGRoMkqeCKN"
      },
      "source": [
        "There is another pattern of forwarded to clean."
      ]
    },
    {
      "cell_type": "code",
      "metadata": {
        "id": "SIHtDG5xeTv7"
      },
      "source": [
        "#checking for forwarded texts\n",
        "for email in df_1.content1[df_1.content1.str.contains('[- ]*Forwarded by')]:\n",
        "    print(email)\n",
        "    print(\"############################ END OF EMAIL ################################################################\")"
      ],
      "execution_count": null,
      "outputs": []
    },
    {
      "cell_type": "markdown",
      "metadata": {
        "id": "BGDBrENhRmZK"
      },
      "source": [
        "there is one more pattern:"
      ]
    },
    {
      "cell_type": "code",
      "metadata": {
        "id": "huatm38xO2QS"
      },
      "source": [
        "def deal_forwarded_patternless(row):\n",
        "    condition = '[- ]*Forwarded by[\\S\\s]*[-]+'\n",
        "    return re.sub(condition, '', row).strip()\n",
        "df_1['content2'] = df_1.content1.map(deal_forwarded_patternless)    "
      ],
      "execution_count": 31,
      "outputs": []
    },
    {
      "cell_type": "code",
      "metadata": {
        "colab": {
          "base_uri": "https://localhost:8080/"
        },
        "id": "dKOiP5PlRuyd",
        "outputId": "488ce003-193f-4927-f54a-d7a22f239ad3"
      },
      "source": [
        "print(df_1.content2.str.contains('[- ]Forwarded by').value_counts())"
      ],
      "execution_count": 32,
      "outputs": [
        {
          "output_type": "stream",
          "text": [
            "False    10000\n",
            "Name: content2, dtype: int64\n"
          ],
          "name": "stdout"
        }
      ]
    },
    {
      "cell_type": "markdown",
      "metadata": {
        "id": "-JmxPUtTRzz9"
      },
      "source": [
        "now there is no forwards in the data."
      ]
    },
    {
      "cell_type": "code",
      "metadata": {
        "colab": {
          "base_uri": "https://localhost:8080/",
          "height": 203
        },
        "id": "7U29v_LsOGFA",
        "outputId": "0da1fdf6-e7ae-4fe5-d594-304db3544bf7"
      },
      "source": [
        "df_1.head()"
      ],
      "execution_count": 33,
      "outputs": [
        {
          "output_type": "execute_result",
          "data": {
            "text/html": [
              "<div>\n",
              "<style scoped>\n",
              "    .dataframe tbody tr th:only-of-type {\n",
              "        vertical-align: middle;\n",
              "    }\n",
              "\n",
              "    .dataframe tbody tr th {\n",
              "        vertical-align: top;\n",
              "    }\n",
              "\n",
              "    .dataframe thead th {\n",
              "        text-align: right;\n",
              "    }\n",
              "</style>\n",
              "<table border=\"1\" class=\"dataframe\">\n",
              "  <thead>\n",
              "    <tr style=\"text-align: right;\">\n",
              "      <th></th>\n",
              "      <th>X-Folder</th>\n",
              "      <th>body</th>\n",
              "      <th>content1</th>\n",
              "      <th>content2</th>\n",
              "    </tr>\n",
              "  </thead>\n",
              "  <tbody>\n",
              "    <tr>\n",
              "      <th>0</th>\n",
              "      <td>'sent mail</td>\n",
              "      <td>Here is our forecast\\n\\n</td>\n",
              "      <td>Here is our forecast</td>\n",
              "      <td>Here is our forecast</td>\n",
              "    </tr>\n",
              "    <tr>\n",
              "      <th>1</th>\n",
              "      <td>'sent mail</td>\n",
              "      <td>Traveling to have a business meeting takes the...</td>\n",
              "      <td>Traveling to have a business meeting takes the...</td>\n",
              "      <td>Traveling to have a business meeting takes the...</td>\n",
              "    </tr>\n",
              "    <tr>\n",
              "      <th>2</th>\n",
              "      <td>'sent mail</td>\n",
              "      <td>test successful.  way to go!!!</td>\n",
              "      <td>test successful.  way to go!!!</td>\n",
              "      <td>test successful.  way to go!!!</td>\n",
              "    </tr>\n",
              "    <tr>\n",
              "      <th>3</th>\n",
              "      <td>'sent mail</td>\n",
              "      <td>Randy,\\n\\n Can you send me a schedule of the s...</td>\n",
              "      <td>Randy,\\n\\n Can you send me a schedule of the s...</td>\n",
              "      <td>Randy,\\n\\n Can you send me a schedule of the s...</td>\n",
              "    </tr>\n",
              "    <tr>\n",
              "      <th>4</th>\n",
              "      <td>'sent mail</td>\n",
              "      <td>Let's shoot for Tuesday at 11:45.</td>\n",
              "      <td>Let's shoot for Tuesday at 11:45.</td>\n",
              "      <td>Let's shoot for Tuesday at 11:45.</td>\n",
              "    </tr>\n",
              "  </tbody>\n",
              "</table>\n",
              "</div>"
            ],
            "text/plain": [
              "     X-Folder  ...                                           content2\n",
              "0  'sent mail  ...                               Here is our forecast\n",
              "1  'sent mail  ...  Traveling to have a business meeting takes the...\n",
              "2  'sent mail  ...                     test successful.  way to go!!!\n",
              "3  'sent mail  ...  Randy,\\n\\n Can you send me a schedule of the s...\n",
              "4  'sent mail  ...                  Let's shoot for Tuesday at 11:45.\n",
              "\n",
              "[5 rows x 4 columns]"
            ]
          },
          "metadata": {
            "tags": []
          },
          "execution_count": 33
        }
      ]
    },
    {
      "cell_type": "code",
      "metadata": {
        "id": "l7EtcD-QWady"
      },
      "source": [
        "#Getting the final content2 out:\n",
        "emails = pd.DataFrame(df_1['content2'])"
      ],
      "execution_count": 34,
      "outputs": []
    },
    {
      "cell_type": "code",
      "metadata": {
        "id": "j2aSUyXfg031"
      },
      "source": [
        "#Removing the emails that are empty:\n",
        "emails = emails.loc[~(emails.content2=='')]\n",
        "emails = emails.rename(columns={'content2':'body'}).reset_index(drop=True)"
      ],
      "execution_count": 35,
      "outputs": []
    },
    {
      "cell_type": "code",
      "metadata": {
        "colab": {
          "base_uri": "https://localhost:8080/",
          "height": 220
        },
        "id": "7Uykb_4Ig-1x",
        "outputId": "3c77b025-8870-4496-ace9-1cf1cea400ab"
      },
      "source": [
        "print(emails.shape)\n",
        "emails.head()"
      ],
      "execution_count": 36,
      "outputs": [
        {
          "output_type": "stream",
          "text": [
            "(9922, 1)\n"
          ],
          "name": "stdout"
        },
        {
          "output_type": "execute_result",
          "data": {
            "text/html": [
              "<div>\n",
              "<style scoped>\n",
              "    .dataframe tbody tr th:only-of-type {\n",
              "        vertical-align: middle;\n",
              "    }\n",
              "\n",
              "    .dataframe tbody tr th {\n",
              "        vertical-align: top;\n",
              "    }\n",
              "\n",
              "    .dataframe thead th {\n",
              "        text-align: right;\n",
              "    }\n",
              "</style>\n",
              "<table border=\"1\" class=\"dataframe\">\n",
              "  <thead>\n",
              "    <tr style=\"text-align: right;\">\n",
              "      <th></th>\n",
              "      <th>body</th>\n",
              "    </tr>\n",
              "  </thead>\n",
              "  <tbody>\n",
              "    <tr>\n",
              "      <th>0</th>\n",
              "      <td>Here is our forecast</td>\n",
              "    </tr>\n",
              "    <tr>\n",
              "      <th>1</th>\n",
              "      <td>Traveling to have a business meeting takes the...</td>\n",
              "    </tr>\n",
              "    <tr>\n",
              "      <th>2</th>\n",
              "      <td>test successful.  way to go!!!</td>\n",
              "    </tr>\n",
              "    <tr>\n",
              "      <th>3</th>\n",
              "      <td>Randy,\\n\\n Can you send me a schedule of the s...</td>\n",
              "    </tr>\n",
              "    <tr>\n",
              "      <th>4</th>\n",
              "      <td>Let's shoot for Tuesday at 11:45.</td>\n",
              "    </tr>\n",
              "  </tbody>\n",
              "</table>\n",
              "</div>"
            ],
            "text/plain": [
              "                                                body\n",
              "0                               Here is our forecast\n",
              "1  Traveling to have a business meeting takes the...\n",
              "2                     test successful.  way to go!!!\n",
              "3  Randy,\\n\\n Can you send me a schedule of the s...\n",
              "4                  Let's shoot for Tuesday at 11:45."
            ]
          },
          "metadata": {
            "tags": []
          },
          "execution_count": 36
        }
      ]
    },
    {
      "cell_type": "code",
      "metadata": {
        "colab": {
          "base_uri": "https://localhost:8080/"
        },
        "id": "bb3B95QIxE1o",
        "outputId": "fff4baa7-decc-4628-8bb7-f13310c277c0"
      },
      "source": [
        "emails = emails.drop_duplicates(subset='body', keep='first',inplace=False)\n",
        "emails.shape"
      ],
      "execution_count": 37,
      "outputs": [
        {
          "output_type": "execute_result",
          "data": {
            "text/plain": [
              "(9631, 1)"
            ]
          },
          "metadata": {
            "tags": []
          },
          "execution_count": 37
        }
      ]
    },
    {
      "cell_type": "code",
      "metadata": {
        "id": "Ky4iwbaILkmU",
        "colab": {
          "base_uri": "https://localhost:8080/",
          "height": 203
        },
        "outputId": "1750f1a4-b888-424a-c424-9d9752714ce2"
      },
      "source": [
        "#converting uppercase into lower case\n",
        "emails['body'] = emails['body'].str.lower()\n",
        "emails.head()"
      ],
      "execution_count": 39,
      "outputs": [
        {
          "output_type": "execute_result",
          "data": {
            "text/html": [
              "<div>\n",
              "<style scoped>\n",
              "    .dataframe tbody tr th:only-of-type {\n",
              "        vertical-align: middle;\n",
              "    }\n",
              "\n",
              "    .dataframe tbody tr th {\n",
              "        vertical-align: top;\n",
              "    }\n",
              "\n",
              "    .dataframe thead th {\n",
              "        text-align: right;\n",
              "    }\n",
              "</style>\n",
              "<table border=\"1\" class=\"dataframe\">\n",
              "  <thead>\n",
              "    <tr style=\"text-align: right;\">\n",
              "      <th></th>\n",
              "      <th>body</th>\n",
              "    </tr>\n",
              "  </thead>\n",
              "  <tbody>\n",
              "    <tr>\n",
              "      <th>0</th>\n",
              "      <td>here is our forecast</td>\n",
              "    </tr>\n",
              "    <tr>\n",
              "      <th>1</th>\n",
              "      <td>traveling to have a business meeting takes the...</td>\n",
              "    </tr>\n",
              "    <tr>\n",
              "      <th>2</th>\n",
              "      <td>test successful.  way to go!!!</td>\n",
              "    </tr>\n",
              "    <tr>\n",
              "      <th>3</th>\n",
              "      <td>randy,\\n\\n can you send me a schedule of the s...</td>\n",
              "    </tr>\n",
              "    <tr>\n",
              "      <th>4</th>\n",
              "      <td>let's shoot for tuesday at 11:45.</td>\n",
              "    </tr>\n",
              "  </tbody>\n",
              "</table>\n",
              "</div>"
            ],
            "text/plain": [
              "                                                body\n",
              "0                               here is our forecast\n",
              "1  traveling to have a business meeting takes the...\n",
              "2                     test successful.  way to go!!!\n",
              "3  randy,\\n\\n can you send me a schedule of the s...\n",
              "4                  let's shoot for tuesday at 11:45."
            ]
          },
          "metadata": {
            "tags": []
          },
          "execution_count": 39
        }
      ]
    },
    {
      "cell_type": "code",
      "metadata": {
        "id": "owymhe-OZehZ"
      },
      "source": [
        "#remove contracted\n",
        "def change_contracted_words(body):\n",
        "  column = []\n",
        "  Apos_dict={\"'s\":\" is\",\"n't\":\" not\",\"'m\":\" am\",\"'ll\":\" will\",\n",
        "             \"'d\":\" would\",\"'ve\":\" have\",\"'re\":\" are\"}\n",
        "  \n",
        "  for file in emails['body']:\n",
        "    for key,value in Apos_dict.items():\n",
        "      if key in file:\n",
        "        file = file.replace(key,value)\n",
        "    column.append(file)\n",
        "  \n",
        "  return column"
      ],
      "execution_count": 40,
      "outputs": []
    },
    {
      "cell_type": "code",
      "metadata": {
        "id": "X_SH0f8EMawP"
      },
      "source": [
        "emails['body'] = change_contracted_words(emails['body'])"
      ],
      "execution_count": 41,
      "outputs": []
    },
    {
      "cell_type": "code",
      "metadata": {
        "id": "QYSIb2G12Tg0"
      },
      "source": [
        "#removing repeated words\n",
        "def remove_duplicates(row):\n",
        "    condition = '[a-zA-Z]+(@|\\.)[a-zA-Z.]+'\n",
        "    return re.sub(condition, '', str(row)).strip()"
      ],
      "execution_count": 42,
      "outputs": []
    },
    {
      "cell_type": "code",
      "metadata": {
        "id": "UGDG3HJ3mAWo"
      },
      "source": [
        "emails['body'] = emails.body.map(remove_duplicates)"
      ],
      "execution_count": 43,
      "outputs": []
    },
    {
      "cell_type": "code",
      "metadata": {
        "id": "qVKEpkLdZoc7"
      },
      "source": [
        "! pip install texthero"
      ],
      "execution_count": null,
      "outputs": []
    },
    {
      "cell_type": "code",
      "metadata": {
        "id": "pC8KSSm0ZtGh"
      },
      "source": [
        "import texthero as hero"
      ],
      "execution_count": 45,
      "outputs": []
    },
    {
      "cell_type": "code",
      "metadata": {
        "id": "4aOXtI3UZxgy"
      },
      "source": [
        "emails['body'] = hero.remove_urls(emails['body'])"
      ],
      "execution_count": 46,
      "outputs": []
    },
    {
      "cell_type": "code",
      "metadata": {
        "id": "AoLn1rUCmRux"
      },
      "source": [
        "emails['body'] = hero.remove_html_tags(emails['body'])"
      ],
      "execution_count": 47,
      "outputs": []
    },
    {
      "cell_type": "code",
      "metadata": {
        "id": "V0xikZIrmZhM"
      },
      "source": [
        "emails['body'] = hero.remove_digits(emails['body'])"
      ],
      "execution_count": 48,
      "outputs": []
    },
    {
      "cell_type": "code",
      "metadata": {
        "id": "_nKrA7U6meO-"
      },
      "source": [
        "emails['body'] = hero.remove_punctuation(emails['body'])"
      ],
      "execution_count": 49,
      "outputs": []
    },
    {
      "cell_type": "code",
      "metadata": {
        "id": "PoCUUUOwmkQU"
      },
      "source": [
        "emails['body'] = hero.remove_brackets(emails['body'])"
      ],
      "execution_count": 50,
      "outputs": []
    },
    {
      "cell_type": "code",
      "metadata": {
        "id": "i3kJkFkfmotm"
      },
      "source": [
        "emails['body'] = hero.remove_diacritics(emails['body'])"
      ],
      "execution_count": 51,
      "outputs": []
    },
    {
      "cell_type": "code",
      "metadata": {
        "id": "U3epR8U9muXe"
      },
      "source": [
        "emails['body'] = hero.remove_whitespace(emails['body'])"
      ],
      "execution_count": 52,
      "outputs": []
    },
    {
      "cell_type": "code",
      "metadata": {
        "id": "3HQWAfyZQ4Eu"
      },
      "source": [
        "emails['body'].isnull().sum()"
      ],
      "execution_count": null,
      "outputs": []
    },
    {
      "cell_type": "code",
      "metadata": {
        "colab": {
          "base_uri": "https://localhost:8080/"
        },
        "id": "6Bv-nb54h6-I",
        "outputId": "c55ed5b6-2d47-4fda-a4ea-ad52dffb3b73"
      },
      "source": [
        "emails.shape"
      ],
      "execution_count": 54,
      "outputs": [
        {
          "output_type": "execute_result",
          "data": {
            "text/plain": [
              "(9631, 1)"
            ]
          },
          "metadata": {
            "tags": []
          },
          "execution_count": 54
        }
      ]
    },
    {
      "cell_type": "markdown",
      "metadata": {
        "id": "LZBXfyGv2doi"
      },
      "source": [
        "Model building"
      ]
    },
    {
      "cell_type": "code",
      "metadata": {
        "id": "oIW5XFuorGkn"
      },
      "source": [
        "import gensim\n",
        "import gensim.corpora as corpora\n",
        "from gensim.utils import simple_preprocess\n",
        "from gensim.models import CoherenceModel\n",
        "from gensim.models.phrases import Phrases, Phraser"
      ],
      "execution_count": 55,
      "outputs": []
    },
    {
      "cell_type": "code",
      "metadata": {
        "colab": {
          "base_uri": "https://localhost:8080/"
        },
        "id": "hi7qDJuUuBWO",
        "outputId": "e917fd83-2d68-4cd6-e50a-9b086d112059"
      },
      "source": [
        "#Tokenization\n",
        "import nltk\n",
        "nltk.download('punkt')\n",
        "from nltk.tokenize import word_tokenize\n",
        "# NLTK Stop words\n",
        "nltk.download('stopwords')\n",
        "from nltk.corpus import stopwords\n",
        "#spacy for lemmatization\n",
        "import spacy"
      ],
      "execution_count": 56,
      "outputs": [
        {
          "output_type": "stream",
          "text": [
            "[nltk_data] Downloading package punkt to /root/nltk_data...\n",
            "[nltk_data]   Package punkt is already up-to-date!\n",
            "[nltk_data] Downloading package stopwords to /root/nltk_data...\n",
            "[nltk_data]   Package stopwords is already up-to-date!\n"
          ],
          "name": "stderr"
        }
      ]
    },
    {
      "cell_type": "code",
      "metadata": {
        "colab": {
          "base_uri": "https://localhost:8080/",
          "height": 417
        },
        "id": "-JOuU_joinFj",
        "outputId": "22263b45-0e75-451f-dd72-ae36c1baea84"
      },
      "source": [
        "#tokenization\n",
        "emails['nltk_tokens'] = emails['body'].map(lambda r: word_tokenize(r))\n",
        "emails"
      ],
      "execution_count": 57,
      "outputs": [
        {
          "output_type": "execute_result",
          "data": {
            "text/html": [
              "<div>\n",
              "<style scoped>\n",
              "    .dataframe tbody tr th:only-of-type {\n",
              "        vertical-align: middle;\n",
              "    }\n",
              "\n",
              "    .dataframe tbody tr th {\n",
              "        vertical-align: top;\n",
              "    }\n",
              "\n",
              "    .dataframe thead th {\n",
              "        text-align: right;\n",
              "    }\n",
              "</style>\n",
              "<table border=\"1\" class=\"dataframe\">\n",
              "  <thead>\n",
              "    <tr style=\"text-align: right;\">\n",
              "      <th></th>\n",
              "      <th>body</th>\n",
              "      <th>nltk_tokens</th>\n",
              "    </tr>\n",
              "  </thead>\n",
              "  <tbody>\n",
              "    <tr>\n",
              "      <th>0</th>\n",
              "      <td>here is our forecast</td>\n",
              "      <td>[here, is, our, forecast]</td>\n",
              "    </tr>\n",
              "    <tr>\n",
              "      <th>1</th>\n",
              "      <td>traveling to have a business meeting takes the...</td>\n",
              "      <td>[traveling, to, have, a, business, meeting, ta...</td>\n",
              "    </tr>\n",
              "    <tr>\n",
              "      <th>2</th>\n",
              "      <td>test successful way to go</td>\n",
              "      <td>[test, successful, way, to, go]</td>\n",
              "    </tr>\n",
              "    <tr>\n",
              "      <th>3</th>\n",
              "      <td>randy can you send me a schedule of the salary...</td>\n",
              "      <td>[randy, can, you, send, me, a, schedule, of, t...</td>\n",
              "    </tr>\n",
              "    <tr>\n",
              "      <th>4</th>\n",
              "      <td>let is shoot for tuesday at</td>\n",
              "      <td>[let, is, shoot, for, tuesday, at]</td>\n",
              "    </tr>\n",
              "    <tr>\n",
              "      <th>...</th>\n",
              "      <td>...</td>\n",
              "      <td>...</td>\n",
              "    </tr>\n",
              "    <tr>\n",
              "      <th>9917</th>\n",
              "      <td>rick unfortunately i had to cancel i had a sic...</td>\n",
              "      <td>[rick, unfortunately, i, had, to, cancel, i, h...</td>\n",
              "    </tr>\n",
              "    <tr>\n",
              "      <th>9918</th>\n",
              "      <td>hi guys here is a spreadsheet with the list of...</td>\n",
              "      <td>[hi, guys, here, is, a, spreadsheet, with, the...</td>\n",
              "    </tr>\n",
              "    <tr>\n",
              "      <th>9919</th>\n",
              "      <td>i think everyone got the list make sure we are...</td>\n",
              "      <td>[i, think, everyone, got, the, list, make, sur...</td>\n",
              "    </tr>\n",
              "    <tr>\n",
              "      <th>9920</th>\n",
              "      <td>troy i am out of the office this morning i wil...</td>\n",
              "      <td>[troy, i, am, out, of, the, office, this, morn...</td>\n",
              "    </tr>\n",
              "    <tr>\n",
              "      <th>9921</th>\n",
              "      <td>shawn unfortunately i am out of the office thi...</td>\n",
              "      <td>[shawn, unfortunately, i, am, out, of, the, of...</td>\n",
              "    </tr>\n",
              "  </tbody>\n",
              "</table>\n",
              "<p>9631 rows × 2 columns</p>\n",
              "</div>"
            ],
            "text/plain": [
              "                                                   body                                        nltk_tokens\n",
              "0                                  here is our forecast                          [here, is, our, forecast]\n",
              "1     traveling to have a business meeting takes the...  [traveling, to, have, a, business, meeting, ta...\n",
              "2                             test successful way to go                    [test, successful, way, to, go]\n",
              "3     randy can you send me a schedule of the salary...  [randy, can, you, send, me, a, schedule, of, t...\n",
              "4                           let is shoot for tuesday at                 [let, is, shoot, for, tuesday, at]\n",
              "...                                                 ...                                                ...\n",
              "9917  rick unfortunately i had to cancel i had a sic...  [rick, unfortunately, i, had, to, cancel, i, h...\n",
              "9918  hi guys here is a spreadsheet with the list of...  [hi, guys, here, is, a, spreadsheet, with, the...\n",
              "9919  i think everyone got the list make sure we are...  [i, think, everyone, got, the, list, make, sur...\n",
              "9920  troy i am out of the office this morning i wil...  [troy, i, am, out, of, the, office, this, morn...\n",
              "9921  shawn unfortunately i am out of the office thi...  [shawn, unfortunately, i, am, out, of, the, of...\n",
              "\n",
              "[9631 rows x 2 columns]"
            ]
          },
          "metadata": {
            "tags": []
          },
          "execution_count": 57
        }
      ]
    },
    {
      "cell_type": "code",
      "metadata": {
        "id": "N7S6iiLpi2c1"
      },
      "source": [
        "#convert the tokens into list\n",
        "data_words = emails['nltk_tokens'].values.tolist()"
      ],
      "execution_count": 58,
      "outputs": []
    },
    {
      "cell_type": "code",
      "metadata": {
        "id": "JdcQdXr1jvuE"
      },
      "source": [
        "# Build the bigram and trigram models\n",
        "bigram = gensim.models.Phrases(data_words, min_count=5, threshold=100) # higher threshold fewer phrases.\n",
        "trigram = gensim.models.Phrases(bigram[data_words], threshold=100)"
      ],
      "execution_count": 59,
      "outputs": []
    },
    {
      "cell_type": "code",
      "metadata": {
        "id": "VMazvv6J5Vm1"
      },
      "source": [
        "bigram_mod = Phraser(bigram)\n",
        "trigram_mod = Phraser(trigram)"
      ],
      "execution_count": 60,
      "outputs": []
    },
    {
      "cell_type": "code",
      "metadata": {
        "id": "fTB2Nt3TcdkT"
      },
      "source": [
        "# Define functions for stopwords, bigrams, trigrams and lemmatization\n",
        "def remove_stopwords(texts):\n",
        "    return [[word for word in simple_preprocess(str(doc)) if word not in stop_words] for doc in texts]\n",
        "def make_bigrams(texts):\n",
        "    return [bigram_mod[doc] for doc in texts]\n",
        "def make_trigrams(texts):\n",
        "    return [trigram_mod[bigram_mod[doc]] for doc in texts]"
      ],
      "execution_count": 61,
      "outputs": []
    },
    {
      "cell_type": "code",
      "metadata": {
        "id": "DRgNwa9yh7wc"
      },
      "source": [
        "#Stop words removing\n",
        "stop_words = stopwords.words('english')\n",
        "data_stopwords = remove_stopwords(data_words)"
      ],
      "execution_count": 62,
      "outputs": []
    },
    {
      "cell_type": "code",
      "metadata": {
        "id": "43Wh2fFUiR1i"
      },
      "source": [
        "#Bigrams\n",
        "bigram_words = make_bigrams(data_stopwords)"
      ],
      "execution_count": 63,
      "outputs": []
    },
    {
      "cell_type": "code",
      "metadata": {
        "id": "kz9s-1SPcjo0"
      },
      "source": [
        "#lemmatization\n",
        "def lemmatization(texts, allowed_postags=['NOUN', 'ADJ','VERB','ADV']):\n",
        "    \"\"\"https://spacy.io/api/annotation\"\"\"\n",
        "    texts_out = []\n",
        "    for sent in texts:\n",
        "        doc = nlp(\" \".join(sent)) \n",
        "        texts_out.append([token.lemma_ for token in doc if token.pos_ in allowed_postags])\n",
        "    return texts_out"
      ],
      "execution_count": 64,
      "outputs": []
    },
    {
      "cell_type": "code",
      "metadata": {
        "id": "3X7vwTe6dr9M"
      },
      "source": [
        "# Initialize spacy 'en' model, keeping only tagger component (for efficiency)\n",
        "nlp = spacy.load(\"en\", disable=['parser', 'ner'])"
      ],
      "execution_count": 65,
      "outputs": []
    },
    {
      "cell_type": "code",
      "metadata": {
        "id": "96tM1c_7d0PM"
      },
      "source": [
        "#lemmatization with noun, adjctive, verb, adverb\n",
        "data_lemmatized = lemmatization(bigram_words, allowed_postags=['NOUN', 'ADJ', 'VERB', 'ADV'])"
      ],
      "execution_count": 66,
      "outputs": []
    },
    {
      "cell_type": "code",
      "metadata": {
        "id": "ZHYC1hWueQE7"
      },
      "source": [
        "#Dictionary\n",
        "id2word = corpora.Dictionary(data_lemmatized)"
      ],
      "execution_count": 67,
      "outputs": []
    },
    {
      "cell_type": "code",
      "metadata": {
        "id": "LwAwJGWjeT80"
      },
      "source": [
        "#Corpus\n",
        "texts = data_lemmatized"
      ],
      "execution_count": 68,
      "outputs": []
    },
    {
      "cell_type": "code",
      "metadata": {
        "id": "m0LtneTNeYCc"
      },
      "source": [
        "#Document-term Frequency\n",
        "corpus = [id2word.doc2bow(text) for text in texts]"
      ],
      "execution_count": 69,
      "outputs": []
    },
    {
      "cell_type": "code",
      "metadata": {
        "id": "qQaihp9irniL"
      },
      "source": [
        "# Build LDA model\n",
        "lda_model = gensim.models.ldamodel.LdaModel(corpus=corpus,\n",
        "                                            id2word=id2word,\n",
        "                                            num_topics=10,\n",
        "                                            random_state=100,\n",
        "                                            update_every=1,\n",
        "                                            chunksize=100,\n",
        "                                            passes=10,\n",
        "                                            alpha='auto',\n",
        "                                            per_word_topics=True)"
      ],
      "execution_count": 81,
      "outputs": []
    },
    {
      "cell_type": "code",
      "metadata": {
        "colab": {
          "base_uri": "https://localhost:8080/"
        },
        "id": "OP6gFisj4xPt",
        "outputId": "39afdada-a2fe-4fba-c0c7-9f0f811c90d6"
      },
      "source": [
        "from pprint import pprint\n",
        "# Print the Keyword in the 10 topics\n",
        "pprint(lda_model.print_topics())\n",
        "doc_lda = lda_model[corpus]\n",
        "doc_lda"
      ],
      "execution_count": 82,
      "outputs": [
        {
          "output_type": "stream",
          "text": [
            "[(0,\n",
            "  '0.054*\"thank\" + 0.052*\"know\" + 0.042*\"need\" + 0.036*\"let\" + 0.029*\"subject\" '\n",
            "  '+ 0.027*\"call\" + 0.021*\"make\" + 0.019*\"get\" + 0.018*\"see\" + 0.018*\"send\"'),\n",
            " (1,\n",
            "  '0.053*\"schedule\" + 0.052*\"meeting\" + 0.034*\"meter\" + 0.032*\"discuss\" + '\n",
            "  '0.031*\"plan\" + 0.031*\"balance\" + 0.024*\"meet\" + 0.020*\"attend\" + '\n",
            "  '0.019*\"item\" + 0.018*\"hold\"'),\n",
            " (2,\n",
            "  '0.081*\"deal\" + 0.050*\"gas\" + 0.044*\"contract\" + 0.031*\"volume\" + '\n",
            "  '0.026*\"month\" + 0.025*\"capacity\" + 0.022*\"ce\" + 0.020*\"price\" + '\n",
            "  '0.019*\"rate\" + 0.018*\"power\"'),\n",
            " (3,\n",
            "  '0.093*\"change\" + 0.038*\"transport\" + 0.034*\"comment\" + 0.026*\"marketing\" + '\n",
            "  '0.023*\"ee\" + 0.022*\"ena\" + 0.021*\"agree\" + 0.017*\"currently\" + 0.015*\"bid\" '\n",
            "  '+ 0.013*\"post\"'),\n",
            " (4,\n",
            "  '0.021*\"order\" + 0.017*\"continue\" + 0.017*\"person\" + 0.016*\"move\" + '\n",
            "  '0.014*\"new\" + 0.014*\"group\" + 0.013*\"issue\" + 0.012*\"area\" + '\n",
            "  '0.011*\"deliver\" + 0.011*\"work\"'),\n",
            " (5,\n",
            "  '0.033*\"service\" + 0.030*\"company\" + 0.019*\"provide\" + 0.017*\"agreement\" + '\n",
            "  '0.017*\"report\" + 0.016*\"business\" + 0.015*\"energy\" + 0.012*\"year\" + '\n",
            "  '0.012*\"project\" + 0.011*\"may\"'),\n",
            " (6,\n",
            "  '0.046*\"go\" + 0.034*\"way\" + 0.031*\"say\" + 0.030*\"think\" + 0.021*\"get\" + '\n",
            "  '0.015*\"come\" + 0.015*\"ca\" + 0.014*\"good\" + 0.013*\"little\" + 0.012*\"man\"'),\n",
            " (7,\n",
            "  '0.028*\"information\" + 0.025*\"request\" + 0.024*\"date\" + 0.023*\"pm\" + '\n",
            "  '0.022*\"follow\" + 0.021*\"name\" + 0.021*\"receive\" + 0.020*\"email\" + '\n",
            "  '0.020*\"mail\" + 0.019*\"book\"'),\n",
            " (8,\n",
            "  '0.024*\"woman\" + 0.018*\"golf\" + 0.012*\"agent\" + 0.012*\"club\" + 0.011*\"final\" '\n",
            "  '+ 0.011*\"tax\" + 0.010*\"station\" + 0.009*\"expire\" + 0.009*\"policy\" + '\n",
            "  '0.009*\"deadline\"'),\n",
            " (9,\n",
            "  '0.082*\"would\" + 0.047*\"take\" + 0.042*\"day\" + 0.033*\"time\" + 0.028*\"week\" + '\n",
            "  '0.024*\"last\" + 0.020*\"pool\" + 0.019*\"production\" + 0.018*\"next\" + '\n",
            "  '0.017*\"tell\"')]\n"
          ],
          "name": "stdout"
        },
        {
          "output_type": "execute_result",
          "data": {
            "text/plain": [
              "<gensim.interfaces.TransformedCorpus at 0x7f537b5d8410>"
            ]
          },
          "metadata": {
            "tags": []
          },
          "execution_count": 82
        }
      ]
    },
    {
      "cell_type": "code",
      "metadata": {
        "id": "lX9uAwM3fhvi",
        "colab": {
          "base_uri": "https://localhost:8080/"
        },
        "outputId": "554a8e6c-97e5-4b46-b5b1-7eef0c0a6ca0"
      },
      "source": [
        "#Perplexity score\n",
        "print('\\nPerplexity: ', lda_model.log_perplexity(corpus))"
      ],
      "execution_count": 73,
      "outputs": [
        {
          "output_type": "stream",
          "text": [
            "\n",
            "Perplexity:  -7.905784506388007\n"
          ],
          "name": "stdout"
        }
      ]
    },
    {
      "cell_type": "code",
      "metadata": {
        "colab": {
          "base_uri": "https://localhost:8080/"
        },
        "id": "t2q6u_YGf2se",
        "outputId": "4be945ba-f5d5-45bf-f147-b366217dbea2"
      },
      "source": [
        "#Coherence Score\n",
        "coherence_model_lda = CoherenceModel(model=lda_model, texts=data_lemmatized, dictionary=id2word, coherence='c_v')\n",
        "coherence_lda = coherence_model_lda.get_coherence()\n",
        "print('\\nCoherence Score: ', coherence_lda)"
      ],
      "execution_count": 74,
      "outputs": [
        {
          "output_type": "stream",
          "text": [
            "\n",
            "Coherence Score:  0.40661377273123467\n"
          ],
          "name": "stdout"
        }
      ]
    },
    {
      "cell_type": "markdown",
      "metadata": {
        "id": "xc1OnBI5g5Uk"
      },
      "source": [
        "Data vizulaisation:"
      ]
    },
    {
      "cell_type": "code",
      "metadata": {
        "id": "TYBDxyGbhxuq"
      },
      "source": [
        "import pyLDAvis.gensim_models\n",
        "import pyLDAvis"
      ],
      "execution_count": 72,
      "outputs": []
    },
    {
      "cell_type": "code",
      "metadata": {
        "id": "sCbyLfXMoY8D"
      },
      "source": [
        "#Visualize the topics\n",
        "pyLDAvis.enable_notebook()\n",
        "vis = pyLDAvis.gensim_models.prepare(lda_model, corpus, id2word)"
      ],
      "execution_count": null,
      "outputs": []
    },
    {
      "cell_type": "code",
      "metadata": {
        "id": "2fkietBLzLIs",
        "colab": {
          "base_uri": "https://localhost:8080/",
          "height": 861
        },
        "outputId": "fcb9330f-a43c-43af-8de4-6634b9a50aa4"
      },
      "source": [
        "pyLDAvis.display(vis)"
      ],
      "execution_count": 74,
      "outputs": [
        {
          "output_type": "execute_result",
          "data": {
            "text/html": [
              "\n",
              "<link rel=\"stylesheet\" type=\"text/css\" href=\"https://cdn.jsdelivr.net/gh/bmabey/pyLDAvis@3.3.1/pyLDAvis/js/ldavis.v1.0.0.css\">\n",
              "\n",
              "\n",
              "<div id=\"ldavis_el11631399965805451042830620928\"></div>\n",
              "<script type=\"text/javascript\">\n",
              "\n",
              "var ldavis_el11631399965805451042830620928_data = {\"mdsDat\": {\"x\": [0.3017116194335651, 0.0038584555588071215, -0.13086394544785188, 0.26367080185736025, 0.018710904729285858, 0.03187349301019385, -0.05663026504702911, -0.15860921425301822, -0.14042004662022914, -0.133301803221084], \"y\": [0.00417397215070771, -0.2850154275490291, -0.09612870812532286, 0.1547632291994794, -0.1245665970484617, 0.04592914842992267, -0.1204311758129355, 0.09500253308694737, 0.1317883527804101, 0.19448467288828258], \"topics\": [1, 2, 3, 4, 5, 6, 7, 8, 9, 10], \"cluster\": [1, 1, 1, 1, 1, 1, 1, 1, 1, 1], \"Freq\": [18.085473746899936, 12.966852786481963, 11.327150514462938, 11.159913000924542, 11.083514410052318, 10.859900462828124, 9.89111632434059, 5.566082727928133, 4.951960329479722, 4.108035696601735]}, \"tinfo\": {\"Term\": [\"deal\", \"would\", \"thank\", \"know\", \"change\", \"gas\", \"need\", \"go\", \"contract\", \"let\", \"take\", \"day\", \"think\", \"subject\", \"schedule\", \"call\", \"way\", \"volume\", \"meeting\", \"service\", \"company\", \"say\", \"week\", \"month\", \"time\", \"capacity\", \"get\", \"information\", \"ce\", \"request\", \"know\", \"let\", \"subject\", \"storage\", \"call\", \"cc\", \"ticket\", \"nee\", \"check\", \"phone\", \"tomorrow\", \"notice\", \"fax\", \"copy\", \"late\", \"dg\", \"together\", \"thank\", \"friend\", \"sheet\", \"receipt\", \"swing\", \"reservation\", \"interested\", \"pass\", \"dinner\", \"please\", \"guess\", \"tonight\", \"letter\", \"need\", \"today\", \"sure\", \"send\", \"soon\", \"attach\", \"want\", \"look\", \"see\", \"give\", \"find\", \"help\", \"work\", \"still\", \"make\", \"question\", \"get\", \"also\", \"number\", \"back\", \"may\", \"new\", \"go\", \"try\", \"set\", \"deal\", \"gas\", \"contract\", \"volume\", \"month\", \"capacity\", \"ce\", \"price\", \"rate\", \"power\", \"sell\", \"sale\", \"purchase\", \"demand\", \"invoice\", \"pipeline\", \"total\", \"charge\", \"supply\", \"fuel\", \"flow\", \"daily\", \"utility\", \"bill\", \"pricing\", \"index\", \"stop\", \"shipper\", \"citygate\", \"estimate\", \"release\", \"enter\", \"term\", \"cost\", \"pay\", \"create\", \"customer\", \"buy\", \"market\", \"use\", \"service\", \"company\", \"agreement\", \"project\", \"bad\", \"program\", \"opportunity\", \"management\", \"commodity\", \"specific\", \"transmission\", \"section\", \"control\", \"unit\", \"requirement\", \"incremental\", \"avoid\", \"nature\", \"kind\", \"organization\", \"discount\", \"execute\", \"asset\", \"legal\", \"stock\", \"propose\", \"involve\", \"share\", \"action\", \"gather\", \"energy\", \"report\", \"business\", \"provide\", \"year\", \"support\", \"require\", \"account\", \"include\", \"customer\", \"value\", \"may\", \"current\", \"way\", \"ca\", \"little\", \"man\", \"love\", \"thing\", \"ball\", \"hear\", \"hit\", \"old\", \"life\", \"lunch\", \"stuff\", \"big\", \"always\", \"maybe\", \"yard\", \"away\", \"car\", \"receive_quality\", \"actually\", \"wo\", \"never\", \"pro\", \"pretty\", \"twice\", \"flip\", \"husband\", \"lot\", \"regulated_service\", \"say\", \"think\", \"go\", \"much\", \"run\", \"come\", \"good\", \"hope\", \"get\", \"buy\", \"guy\", \"well\", \"mean\", \"right\", \"see\", \"year\", \"make\", \"back\", \"order\", \"person\", \"continue\", \"move\", \"area\", \"deliver\", \"position\", \"curve\", \"transaction\", \"option\", \"unify\", \"space\", \"transportation\", \"concern\", \"nominate\", \"learn\", \"room\", \"head\", \"party\", \"join\", \"second\", \"trading\", \"couple\", \"physical\", \"trade\", \"become\", \"break\", \"website\", \"master\", \"confirmation\", \"understand\", \"begin\", \"many\", \"team\", \"believe\", \"group\", \"issue\", \"several\", \"new\", \"work\", \"system\", \"market\", \"first\", \"also\", \"point\", \"problem\", \"week\", \"pool\", \"production\", \"next\", \"morning\", \"like\", \"correct\", \"afternoon\", \"later\", \"feel\", \"weekend\", \"yesterday\", \"approval\", \"yet\", \"instead\", \"evening\", \"visit\", \"ok\", \"verify\", \"wife\", \"suggest\", \"special\", \"ever\", \"remember\", \"course\", \"event\", \"thought\", \"speak\", \"th\", \"trip\", \"would\", \"last\", \"take\", \"tell\", \"really\", \"ask\", \"day\", \"time\", \"put\", \"first\", \"however\", \"may\", \"keep\", \"could\", \"use\", \"information\", \"request\", \"date\", \"pm\", \"name\", \"list\", \"mail\", \"contact\", \"receive\", \"access\", \"note\", \"update\", \"address\", \"desk\", \"type\", \"manager\", \"product\", \"delivery\", \"transco\", \"basis\", \"approve\", \"application\", \"zone\", \"select\", \"grant\", \"extend\", \"column\", \"vacation\", \"advise\", \"page\", \"book\", \"email\", \"follow\", \"internet\", \"system\", \"available\", \"use\", \"include\", \"message\", \"process\", \"question\", \"number\", \"schedule\", \"meeting\", \"meter\", \"balance\", \"discuss\", \"plan\", \"meet\", \"attend\", \"item\", \"match\", \"segment\", \"discussion\", \"resource\", \"forget\", \"lawyer\", \"apply\", \"clear\", \"statement\", \"card\", \"present\", \"manual\", \"usage\", \"locate\", \"pre\", \"procedure\", \"hotel\", \"maintenance\", \"wonder\", \"status\", \"version\", \"telescope\", \"wait\", \"activity\", \"hold\", \"open\", \"prior\", \"review\", \"close\", \"office\", \"change\", \"transport\", \"comment\", \"marketing\", \"ee\", \"ena\", \"bid\", \"post\", \"agree\", \"injection\", \"analyst\", \"withdrawal\", \"directly\", \"indicate\", \"interview\", \"quarter\", \"path\", \"withdraw\", \"director\", \"track\", \"associate\", \"staff\", \"sitara\", \"counterparty\", \"role\", \"addition\", \"recognize\", \"shall\", \"loss\", \"link\", \"buying\", \"rebook\", \"currently\", \"end\", \"original\", \"however\", \"follow\", \"woman\", \"golf\", \"club\", \"agent\", \"tax\", \"final\", \"station\", \"fly\", \"expire\", \"deadline\", \"policy\", \"agency\", \"fare\", \"negotiate\", \"law\", \"double\", \"dog\", \"bottle\", \"walk\", \"partner\", \"bed\", \"mouth\", \"airport\", \"foot\", \"shirt\", \"authorize\", \"seek\", \"city\", \"true\", \"assistant\", \"toilet\", \"pear\", \"travel\", \"happen\", \"sign\", \"turn\"], \"Freq\": [4673.0, 3944.0, 4297.0, 4197.0, 2002.0, 2832.0, 3368.0, 3213.0, 2485.0, 2877.0, 2337.0, 2372.0, 2192.0, 2361.0, 1283.0, 2156.0, 1667.0, 1772.0, 1239.0, 1641.0, 1510.0, 1640.0, 1370.0, 1474.0, 1963.0, 1399.0, 2524.0, 1184.0, 1246.0, 1079.0, 4195.889787568818, 2876.346220762993, 2360.4753920035714, 1253.3930782066739, 2153.6597132958013, 664.5522826470716, 616.2849695894791, 610.2205498607672, 577.5705726209952, 563.6654506339928, 531.8175131185675, 484.35131713700997, 474.84242982533294, 432.1108590138798, 401.64966191085676, 417.2260690495728, 308.54125339503247, 4280.24139631772, 273.5851167003042, 264.21053007687016, 260.6616002520606, 250.67297272426077, 246.63520537097554, 211.71145363198596, 211.22029102976495, 202.55022020413676, 194.4900014595396, 194.02989519948855, 193.86557153518459, 190.44616308036376, 3311.072123433602, 1025.5959340209101, 913.8927482266887, 1429.8861046818972, 536.7605829952387, 548.4603171758827, 1377.4104450511625, 1297.2371783523085, 1468.6941689069793, 1045.0221835047957, 713.3287868548947, 780.0461505767199, 1277.558492290357, 895.4244291258854, 1610.2371297133648, 1218.12082374741, 1396.0027680850508, 1072.9034344928648, 881.2402982894415, 731.9997933368002, 1106.3324590610573, 890.1021507931282, 923.3776466822629, 637.5996587317068, 635.4406616824577, 4672.522033745207, 2831.0156809123396, 2483.9651244063575, 1771.1543051053243, 1473.7597402936476, 1397.962403745928, 1245.63286486087, 1117.8400956642247, 1069.0044906522369, 1013.0252450326303, 978.079376096055, 871.6497364799714, 708.7402153253853, 642.1974459743876, 619.3110813353078, 563.7309684958611, 489.1119786046038, 476.1617551579606, 452.140545207591, 431.75754538769615, 373.85945119882064, 364.130946901499, 323.44798085121755, 313.36188702916235, 302.6401813990841, 299.9511685034207, 271.2622959688425, 264.869344632845, 257.1500256398405, 229.5361443759316, 544.7790941343956, 446.7564334616476, 464.8437847394892, 462.55969951120755, 621.0250449193754, 414.9450957593429, 663.1131255872682, 714.2708662742275, 549.3823514423572, 607.2188716469161, 1640.4316774113995, 1509.8348444515696, 857.7711967169164, 581.4394353578778, 481.94833115373024, 449.5014452788174, 434.4390733705579, 408.7879352356052, 386.9259785586414, 378.2691331899896, 330.5757904856227, 313.4363840659744, 301.19605434050266, 300.98217465996356, 299.09414848616996, 261.24548892233673, 259.981164836513, 259.7026104184674, 257.51617435860874, 247.4638756025339, 242.14235591240652, 235.04163373118058, 229.8510121963426, 228.76085685501928, 219.95734915274372, 218.43469595098952, 217.6600784372939, 202.8530538575673, 199.92295077490698, 197.79892421871799, 736.3637702237195, 777.4520146645217, 787.641221379943, 887.5112206152584, 611.2561536018405, 413.77940110984395, 325.42793101811395, 403.4919109834584, 481.0834278913925, 431.50883160011165, 316.46488613275386, 505.67360446396066, 306.39566746679526, 1666.0270178928697, 708.409527857852, 626.9319131394417, 602.482434370132, 573.1013845990582, 449.57467450870877, 394.18057265112776, 377.07320221429444, 369.10614735016065, 354.09374380131766, 349.50188300335543, 324.58015307789896, 319.295959377491, 311.6159171632544, 273.0426513331591, 260.52306526293586, 261.38469531997464, 240.6398500354998, 237.57227850958137, 239.19426549392054, 225.43223324894205, 225.03228750923768, 223.9090143247952, 219.8654221570222, 215.5114746458549, 203.426836968902, 195.2867501192156, 192.10194133854273, 183.18022724377417, 187.6326695348197, 1504.188776193267, 1908.98232648313, 2289.215810569906, 543.3270844559758, 271.11818858781584, 741.8272922421271, 718.9478088773966, 476.1326930882763, 1025.837092501112, 599.8313875896408, 448.4706220396923, 401.1496305814804, 266.0303467930981, 388.83999211257446, 494.066895888818, 390.8199990817612, 506.5861403586486, 352.10414924777746, 1049.191466413902, 836.1402637727955, 832.1760567573666, 759.6496508781221, 597.3207655981855, 554.2607000277119, 446.7741734067255, 431.1700275804863, 415.5861922311051, 399.84150152380175, 390.8007156969195, 377.73707578724446, 363.73603273296305, 360.8856902657555, 348.1330177796001, 345.69422256952856, 327.59356178161244, 321.0992302626237, 315.2565981647778, 312.6787508258388, 312.5380702400295, 301.71511922995927, 279.88472660878233, 269.2989648757831, 205.91406036178233, 197.44018110777952, 184.65820770539972, 180.935860472021, 177.77379289646672, 172.75834907270502, 361.19437332606503, 343.117641808211, 444.6403519939293, 433.29285690892505, 402.4631362605103, 606.5253018175532, 636.5934022012505, 373.9073295568054, 597.6026243538696, 553.576431467732, 460.8235047328241, 429.0337634822773, 410.56683558719146, 445.393422859702, 364.41788122498764, 366.8939047701463, 1369.4706443710486, 997.3345416507466, 915.2805197418091, 855.6152791518733, 628.320279013519, 591.2485886952902, 577.8755804813997, 564.1589415986076, 386.4386821993636, 384.67975235345165, 375.85917458767267, 349.370316052445, 307.1585482818959, 307.01753693491924, 281.95197774898844, 281.2488268723229, 281.0430606682245, 272.61105636746026, 270.137230239587, 262.5449337729093, 250.08633860301546, 232.0937073582641, 231.8735364118217, 219.4245148553011, 219.21458235649393, 218.0645742111757, 214.77085231022434, 207.94522055337816, 200.06267960904006, 197.6154911739321, 3832.728034947723, 1129.3751469629801, 2249.7447149462005, 819.6367536495592, 413.28916625085174, 670.3732178788689, 2064.8518246276144, 1542.319219909554, 401.7330171082381, 490.0588195114662, 374.33781218472626, 686.3743602528501, 332.92041055159325, 333.8241862473975, 281.98774583228567, 1183.249724438149, 1078.748516928483, 1020.6489348664628, 992.068668762576, 898.3385592715699, 762.6065768741581, 838.9249856028208, 667.2966498246471, 873.4274583019011, 648.869441447592, 620.0302927577159, 609.1170979508627, 596.0114546600448, 557.5345105741601, 450.1503530004034, 436.57639583463435, 433.6347904770085, 409.24327125757645, 366.6957386108282, 356.43526055633134, 273.98271110235765, 250.62137341312274, 250.4833942023148, 221.62934957072184, 215.2002772730987, 208.1178826970332, 192.06407418265727, 189.6930560559164, 188.50006874538326, 187.04971266407594, 884.8047283011031, 789.2532770800697, 945.4044872040187, 218.333450900148, 613.5886658859087, 390.5517709281632, 786.3800154333559, 491.4052489270575, 367.86214332618374, 374.21306239030065, 467.406877611095, 387.8372378528061, 1282.8028580341474, 1238.454335837661, 817.3570940305934, 761.1295358411006, 748.4545962585375, 730.2186449475726, 585.6452431156075, 488.22151885805596, 473.70670533082534, 244.23649656706303, 241.51716687499, 241.01187849896226, 238.9820017679306, 218.55197715254326, 196.37383149231192, 188.73716880828195, 188.60020960228135, 179.99480303696214, 176.9636066241097, 153.95685663173788, 152.48739043851214, 137.74301292782837, 125.13959699099316, 123.80456844598628, 122.20817248604493, 118.52205255204512, 117.96991090642435, 115.15759025237365, 113.46058186526749, 113.28803689111298, 212.25405719998244, 202.62704490690473, 420.5022904709991, 449.88970612962515, 302.3864586059175, 235.10125619163352, 248.6413399774354, 189.05928077734572, 158.0580567800424, 2001.4366054184243, 821.6468396287502, 736.9323231838299, 563.969149975372, 509.42607213405483, 475.6424813307021, 325.6979464806086, 276.71353853528615, 446.5058521410218, 236.8659791177851, 234.99335039496486, 225.07478643959934, 221.28977527111243, 216.8282636629506, 213.1473357037466, 203.2130481101632, 182.31673712523846, 171.92234111562902, 170.39025648531688, 167.28471667529416, 163.19436781246827, 156.4584258729905, 153.88674198009542, 149.0252679036407, 143.5707721634223, 138.07335978341516, 137.65918945179686, 130.8282892678889, 115.73148459904044, 112.86935802641636, 112.88337389158873, 133.31175506204227, 354.95870752881615, 241.7573846957831, 140.77564284104537, 157.88504288628462, 145.0219548351404, 445.40802656466826, 334.41161086552376, 225.94519059997825, 219.34740177939955, 199.02672659412386, 197.83967419721037, 172.54575563561426, 157.00338507976394, 156.6300891995182, 153.3105977091084, 147.95326112279253, 132.77336396837822, 127.86672368589461, 111.27490800630024, 110.16242257221599, 109.2537618862183, 108.8398502741111, 105.68951136110077, 104.06162109186563, 101.24853107313525, 98.78645486751176, 94.55898171572363, 92.63906056204563, 89.5521643443351, 84.58980212796438, 82.98036288573172, 82.19592178997615, 80.74605333329208, 79.64174134370008, 73.1109412358778, 74.56808615391496, 84.67234972582604, 122.32698935059182, 129.41394415374631, 116.86037171565964, 105.42970480550733], \"Total\": [4673.0, 3944.0, 4297.0, 4197.0, 2002.0, 2832.0, 3368.0, 3213.0, 2485.0, 2877.0, 2337.0, 2372.0, 2192.0, 2361.0, 1283.0, 2156.0, 1667.0, 1772.0, 1239.0, 1641.0, 1510.0, 1640.0, 1370.0, 1474.0, 1963.0, 1399.0, 2524.0, 1184.0, 1246.0, 1079.0, 4197.004703319961, 2877.4610879375036, 2361.5902896232124, 1254.5081369529066, 2156.4540483940496, 665.6671272727478, 617.3998420021572, 611.335489732834, 578.6854690076661, 564.7803956239959, 532.9323504913422, 485.4664025375372, 475.95751059016425, 433.2256912454418, 402.7649294939852, 418.48282659502974, 309.65623554768587, 4297.182237416061, 274.7004711399314, 265.32543904627005, 261.77663591545803, 251.78873161003702, 247.7512107903565, 212.8263965586197, 212.3355254278272, 203.6652181337045, 195.60500327511022, 195.14477301666219, 194.98051755235443, 191.56112705016517, 3368.0771309945185, 1044.0968123689665, 943.2585925094536, 1515.5105972994604, 556.5137645911752, 588.1563324352463, 1601.3420870894013, 1526.2650120237934, 1963.7683547303982, 1326.3990603163395, 856.9748704836404, 953.9862629976122, 1833.666269761688, 1173.5334076307608, 2635.639295004561, 1817.4635945284133, 2524.2618637439355, 1902.7533233277575, 1471.6714183701831, 1091.9060924854548, 2710.465476469798, 2007.501782258089, 3213.600733671204, 897.428032474589, 928.2181462841124, 4673.651444973917, 2832.145083260396, 2485.0944933904548, 1772.2836856220329, 1474.8891748321505, 1399.0917715944959, 1246.7627867226863, 1118.9694963365864, 1070.1338756436926, 1014.1546616687477, 979.208795178244, 872.7791910599223, 709.8698130065795, 643.3269184781373, 620.4405328355066, 564.8603593619957, 490.2414464540222, 477.2912280134147, 453.2699519853356, 432.8869658889789, 374.9887729043462, 365.2602961080239, 324.57796517223784, 314.49126815035766, 303.7695864561567, 301.0806032230445, 272.39349241787926, 265.998794786455, 258.2797485474505, 230.6654588160161, 574.3767538949506, 495.62239866551863, 524.9883920848108, 547.4704811665406, 913.7528069193796, 501.55348857986405, 1134.9210110479262, 1315.1241112539956, 1057.9472899645866, 1863.1470827233861, 1641.4998544555217, 1510.9032191411106, 858.839297459119, 582.5074863785765, 483.0178203901261, 450.5697052420116, 435.50717966979505, 409.8561221222343, 387.9943197449907, 379.3373301468453, 331.6440170379012, 314.50472584052983, 302.2642226739633, 302.05039912779193, 300.16237004110377, 262.3137095057283, 261.0495855214136, 260.7722887293439, 258.5851074027734, 248.53223085727382, 243.21065034349502, 236.10994117999806, 230.91907531342764, 229.82902413598077, 221.02547811735397, 219.50278466567823, 218.72839881020946, 203.92117041893738, 200.99129375012302, 198.8672789394222, 762.7623156571211, 827.6208362439838, 852.2489117075725, 1167.994668517748, 1006.2965963656965, 611.3478151022915, 422.65452376315477, 632.7584878210387, 1017.2241750742527, 1134.9210110479262, 548.8639748622707, 2710.465476469798, 519.254846074229, 1667.1420032348624, 709.5243863402751, 628.0467459442572, 603.597176263088, 574.2161656453508, 450.6893936420736, 395.29615865133565, 378.18794356266807, 370.2214862654484, 355.20850385113624, 350.6167854025192, 325.6950864911208, 320.4107338027719, 312.7306954413681, 274.1574869261291, 261.63782451209664, 262.5137937525291, 241.75467753764994, 238.68713154359506, 240.34802151880723, 226.54715871744375, 226.1470298267737, 225.0238114737099, 220.9808250287188, 216.62618934900644, 204.54193801313474, 196.4115793637577, 193.2169647303351, 184.29494465885313, 188.8194912003667, 1640.7350355467288, 2192.2217836879245, 3213.600733671204, 642.5925271679475, 286.82878451890076, 994.9615001698011, 1182.259725626693, 656.65107060561, 2524.2618637439355, 1315.1241112539956, 793.2492254750999, 644.7892142195508, 308.4268102809763, 781.15458831843, 1963.7683547303982, 1006.2965963656965, 2635.639295004561, 1091.9060924854548, 1050.272733304362, 837.22161767892, 833.2572582686097, 760.7309062477101, 598.401940855616, 555.3419293352289, 447.85525522822894, 432.25139469817645, 416.66740359966025, 400.9226279052137, 391.881962551202, 378.8183509656872, 364.8172028526052, 361.96683349930595, 349.21448451852154, 346.775603135677, 328.6749089567893, 322.18074063612397, 316.3377576398177, 313.75990549926587, 313.61940782539375, 302.7962064016685, 280.9659041680973, 270.3802345634138, 206.9952944798672, 198.52131012838677, 185.73947264222028, 182.0170949325364, 178.85547095592875, 173.83958915259223, 388.25084696924625, 369.44784490268984, 493.6964276468366, 524.6255442855116, 481.24846367436203, 807.7107558801903, 866.1795097776611, 554.152616861225, 2007.501782258089, 1833.666269761688, 1075.3796110875005, 1057.9472899645866, 954.7400893230205, 1902.7533233277575, 647.4546316549498, 818.5385332826695, 1370.5723275158612, 998.4364335939807, 916.3823873463806, 856.7169112623022, 629.4219901932054, 592.3502353054777, 578.9773312274834, 565.2606807029739, 387.5403651676816, 385.78147371213566, 376.96080186850963, 350.4719831063965, 308.2601011201409, 308.11922547225254, 283.05407605461517, 282.3505348852029, 282.1449828525517, 273.7127545248802, 271.23898075667273, 263.6470220772329, 251.18798635249556, 233.1958173855165, 232.97527704520522, 220.52616049164362, 220.31640384998508, 219.1663522764559, 215.8724546879469, 209.04683897376466, 201.16443019274587, 198.71725877651133, 3944.354714583609, 1155.4406863380027, 2337.7524583657296, 843.4243863361044, 423.5020585788464, 710.4854031631306, 2372.890495521338, 1963.4046396483084, 554.8210011727284, 954.7400893230205, 603.0390150793539, 2710.465476469798, 583.5359090601696, 1321.1767027074654, 1863.1470827233861, 1184.3584133678057, 1079.857104343236, 1021.7577978898073, 993.1774131417798, 899.4474052550436, 763.7152267848932, 840.2586972165313, 668.4052907786782, 874.9135140996268, 649.9780848709893, 621.1389917507499, 610.2258004262335, 597.1200746630141, 558.6432365961766, 451.25906983937836, 437.6854310992947, 434.74367428084315, 410.3519835502981, 367.80535703340155, 357.54411298934053, 275.0912919282061, 251.72991808299037, 251.59230964514472, 222.73816267899105, 216.3089327076129, 209.22653816624717, 193.17294193351583, 190.801844687305, 189.60868198048757, 188.15836840514794, 943.0946923929007, 1073.3480851552747, 1450.2342307448764, 228.0883837950594, 1075.3796110875005, 558.565009669656, 1863.1470827233861, 1017.2241750742527, 588.0610696989527, 650.1989965157146, 1817.4635945284133, 1471.6714183701831, 1283.872056612173, 1239.5234598551285, 818.4263000770324, 762.1991922997662, 749.5237402133122, 731.298552063828, 586.7144338358281, 489.29057881735554, 474.7758851563399, 245.30579185690937, 242.58664553708408, 242.0809437423451, 240.05141175762648, 219.62133412577649, 197.44306142508933, 189.80667905880122, 189.66955766200456, 181.06395134447035, 178.03304750572977, 155.02605217668636, 153.55657956570647, 138.8124797923805, 126.20887093589889, 124.87362968235284, 123.27728207027148, 119.59114818674074, 119.03904354147583, 116.22694903671037, 114.52969857402515, 114.35717607250409, 215.21501067073126, 236.0288387282338, 617.8565266853585, 677.5796554927662, 420.8462295763746, 357.3695169150639, 493.1005162952625, 472.98914960025513, 525.036907452363, 2002.5440537185532, 822.7542768070039, 738.039761146738, 565.0767712155891, 510.5336222024028, 476.7499629319418, 326.80534399372226, 277.8210018599546, 448.4169683328271, 237.9735688597781, 236.10096670974187, 226.1824138784661, 222.3974320665459, 217.93586075657336, 214.25501763245194, 204.3207261650085, 183.4241288427456, 173.03008668056472, 171.49765566138748, 168.39238204603433, 164.30177530222633, 157.5657498934497, 154.9942688773356, 150.1327273929529, 144.67807000220003, 139.18078041747535, 138.76665047952667, 131.93616484855576, 116.83891979255525, 113.97717860095449, 113.99138996348788, 137.38711632001227, 420.3326357891936, 729.2401112683934, 194.06142277547892, 603.0390150793539, 1450.2342307448764, 446.51462071747005, 335.5183964253188, 227.05243748845072, 220.4539557586034, 200.13314374257126, 198.94610049363496, 173.65225462833607, 158.11007964796354, 157.73670644870447, 154.41724507653166, 149.05960436450712, 133.87982174691768, 128.995026631056, 112.38145613018895, 111.26875224918132, 110.36063445233096, 109.94632464019656, 106.7962032602078, 105.16798049375701, 102.35501877630833, 99.89291992258582, 95.66633425300141, 93.74639778552068, 90.65862837406945, 85.69652389505784, 84.08694464652629, 83.3023879019547, 81.85264855213059, 80.74825664143337, 74.21768595070866, 75.7117065921701, 93.83578419774601, 185.59887208589765, 310.55776713449677, 529.1165666430954, 319.82901492753547], \"Category\": [\"Default\", \"Default\", \"Default\", \"Default\", \"Default\", \"Default\", \"Default\", \"Default\", \"Default\", \"Default\", \"Default\", \"Default\", \"Default\", \"Default\", \"Default\", \"Default\", \"Default\", \"Default\", \"Default\", \"Default\", \"Default\", \"Default\", \"Default\", \"Default\", \"Default\", \"Default\", \"Default\", \"Default\", \"Default\", \"Default\", \"Topic1\", \"Topic1\", \"Topic1\", \"Topic1\", \"Topic1\", \"Topic1\", \"Topic1\", \"Topic1\", \"Topic1\", \"Topic1\", \"Topic1\", \"Topic1\", \"Topic1\", \"Topic1\", \"Topic1\", \"Topic1\", \"Topic1\", \"Topic1\", \"Topic1\", \"Topic1\", \"Topic1\", \"Topic1\", \"Topic1\", \"Topic1\", \"Topic1\", \"Topic1\", \"Topic1\", \"Topic1\", \"Topic1\", \"Topic1\", \"Topic1\", \"Topic1\", \"Topic1\", \"Topic1\", \"Topic1\", \"Topic1\", \"Topic1\", \"Topic1\", \"Topic1\", \"Topic1\", \"Topic1\", \"Topic1\", \"Topic1\", \"Topic1\", \"Topic1\", \"Topic1\", \"Topic1\", \"Topic1\", \"Topic1\", \"Topic1\", \"Topic1\", \"Topic1\", \"Topic1\", \"Topic1\", \"Topic1\", \"Topic2\", \"Topic2\", \"Topic2\", \"Topic2\", \"Topic2\", \"Topic2\", \"Topic2\", \"Topic2\", \"Topic2\", \"Topic2\", \"Topic2\", \"Topic2\", \"Topic2\", \"Topic2\", \"Topic2\", \"Topic2\", \"Topic2\", \"Topic2\", \"Topic2\", \"Topic2\", \"Topic2\", \"Topic2\", \"Topic2\", \"Topic2\", \"Topic2\", \"Topic2\", \"Topic2\", \"Topic2\", \"Topic2\", \"Topic2\", \"Topic2\", \"Topic2\", \"Topic2\", \"Topic2\", \"Topic2\", \"Topic2\", \"Topic2\", \"Topic2\", \"Topic2\", \"Topic2\", \"Topic3\", \"Topic3\", \"Topic3\", \"Topic3\", \"Topic3\", \"Topic3\", \"Topic3\", \"Topic3\", \"Topic3\", \"Topic3\", \"Topic3\", \"Topic3\", \"Topic3\", \"Topic3\", \"Topic3\", \"Topic3\", \"Topic3\", \"Topic3\", \"Topic3\", \"Topic3\", \"Topic3\", \"Topic3\", \"Topic3\", \"Topic3\", \"Topic3\", \"Topic3\", \"Topic3\", \"Topic3\", \"Topic3\", \"Topic3\", \"Topic3\", \"Topic3\", \"Topic3\", \"Topic3\", \"Topic3\", \"Topic3\", \"Topic3\", \"Topic3\", \"Topic3\", \"Topic3\", \"Topic3\", \"Topic3\", \"Topic3\", \"Topic4\", \"Topic4\", \"Topic4\", \"Topic4\", \"Topic4\", \"Topic4\", \"Topic4\", \"Topic4\", \"Topic4\", \"Topic4\", \"Topic4\", \"Topic4\", \"Topic4\", \"Topic4\", \"Topic4\", \"Topic4\", \"Topic4\", \"Topic4\", \"Topic4\", \"Topic4\", \"Topic4\", \"Topic4\", \"Topic4\", \"Topic4\", \"Topic4\", \"Topic4\", \"Topic4\", \"Topic4\", \"Topic4\", \"Topic4\", \"Topic4\", \"Topic4\", \"Topic4\", \"Topic4\", \"Topic4\", \"Topic4\", \"Topic4\", \"Topic4\", \"Topic4\", \"Topic4\", \"Topic4\", \"Topic4\", \"Topic4\", \"Topic4\", \"Topic4\", \"Topic4\", \"Topic4\", \"Topic4\", \"Topic5\", \"Topic5\", \"Topic5\", \"Topic5\", \"Topic5\", \"Topic5\", \"Topic5\", \"Topic5\", \"Topic5\", \"Topic5\", \"Topic5\", \"Topic5\", \"Topic5\", \"Topic5\", \"Topic5\", \"Topic5\", \"Topic5\", \"Topic5\", \"Topic5\", \"Topic5\", \"Topic5\", \"Topic5\", \"Topic5\", \"Topic5\", \"Topic5\", \"Topic5\", \"Topic5\", \"Topic5\", \"Topic5\", \"Topic5\", \"Topic5\", \"Topic5\", \"Topic5\", \"Topic5\", \"Topic5\", \"Topic5\", \"Topic5\", \"Topic5\", \"Topic5\", \"Topic5\", \"Topic5\", \"Topic5\", \"Topic5\", \"Topic5\", \"Topic5\", \"Topic5\", \"Topic6\", \"Topic6\", \"Topic6\", \"Topic6\", \"Topic6\", \"Topic6\", \"Topic6\", \"Topic6\", \"Topic6\", \"Topic6\", \"Topic6\", \"Topic6\", \"Topic6\", \"Topic6\", \"Topic6\", \"Topic6\", \"Topic6\", \"Topic6\", \"Topic6\", \"Topic6\", \"Topic6\", \"Topic6\", \"Topic6\", \"Topic6\", \"Topic6\", \"Topic6\", \"Topic6\", \"Topic6\", \"Topic6\", \"Topic6\", \"Topic6\", \"Topic6\", \"Topic6\", \"Topic6\", \"Topic6\", \"Topic6\", \"Topic6\", \"Topic6\", \"Topic6\", \"Topic6\", \"Topic6\", \"Topic6\", \"Topic6\", \"Topic6\", \"Topic6\", \"Topic7\", \"Topic7\", \"Topic7\", \"Topic7\", \"Topic7\", \"Topic7\", \"Topic7\", \"Topic7\", \"Topic7\", \"Topic7\", \"Topic7\", \"Topic7\", \"Topic7\", \"Topic7\", \"Topic7\", \"Topic7\", \"Topic7\", \"Topic7\", \"Topic7\", \"Topic7\", \"Topic7\", \"Topic7\", \"Topic7\", \"Topic7\", \"Topic7\", \"Topic7\", \"Topic7\", \"Topic7\", \"Topic7\", \"Topic7\", \"Topic7\", \"Topic7\", \"Topic7\", \"Topic7\", \"Topic7\", \"Topic7\", \"Topic7\", \"Topic7\", \"Topic7\", \"Topic7\", \"Topic7\", \"Topic7\", \"Topic8\", \"Topic8\", \"Topic8\", \"Topic8\", \"Topic8\", \"Topic8\", \"Topic8\", \"Topic8\", \"Topic8\", \"Topic8\", \"Topic8\", \"Topic8\", \"Topic8\", \"Topic8\", \"Topic8\", \"Topic8\", \"Topic8\", \"Topic8\", \"Topic8\", \"Topic8\", \"Topic8\", \"Topic8\", \"Topic8\", \"Topic8\", \"Topic8\", \"Topic8\", \"Topic8\", \"Topic8\", \"Topic8\", \"Topic8\", \"Topic8\", \"Topic8\", \"Topic8\", \"Topic8\", \"Topic8\", \"Topic8\", \"Topic8\", \"Topic8\", \"Topic8\", \"Topic9\", \"Topic9\", \"Topic9\", \"Topic9\", \"Topic9\", \"Topic9\", \"Topic9\", \"Topic9\", \"Topic9\", \"Topic9\", \"Topic9\", \"Topic9\", \"Topic9\", \"Topic9\", \"Topic9\", \"Topic9\", \"Topic9\", \"Topic9\", \"Topic9\", \"Topic9\", \"Topic9\", \"Topic9\", \"Topic9\", \"Topic9\", \"Topic9\", \"Topic9\", \"Topic9\", \"Topic9\", \"Topic9\", \"Topic9\", \"Topic9\", \"Topic9\", \"Topic9\", \"Topic9\", \"Topic9\", \"Topic9\", \"Topic9\", \"Topic10\", \"Topic10\", \"Topic10\", \"Topic10\", \"Topic10\", \"Topic10\", \"Topic10\", \"Topic10\", \"Topic10\", \"Topic10\", \"Topic10\", \"Topic10\", \"Topic10\", \"Topic10\", \"Topic10\", \"Topic10\", \"Topic10\", \"Topic10\", \"Topic10\", \"Topic10\", \"Topic10\", \"Topic10\", \"Topic10\", \"Topic10\", \"Topic10\", \"Topic10\", \"Topic10\", \"Topic10\", \"Topic10\", \"Topic10\", \"Topic10\", \"Topic10\", \"Topic10\", \"Topic10\", \"Topic10\", \"Topic10\"], \"logprob\": [30.0, 29.0, 28.0, 27.0, 26.0, 25.0, 24.0, 23.0, 22.0, 21.0, 20.0, 19.0, 18.0, 17.0, 16.0, 15.0, 14.0, 13.0, 12.0, 11.0, 10.0, 9.0, 8.0, 7.0, 6.0, 5.0, 4.0, 3.0, 2.0, 1.0, -2.9386, -3.3161, -3.5138, -4.1468, -3.6055, -4.7813, -4.8567, -4.8666, -4.9216, -4.946, -5.0041, -5.0976, -5.1174, -5.2117, -5.2848, -5.2468, -5.5486, -2.9187, -5.6688, -5.7037, -5.7172, -5.7563, -5.7725, -5.9252, -5.9275, -5.9694, -6.01, -6.0124, -6.0133, -6.0311, -3.1754, -4.3474, -4.4627, -4.0151, -4.9949, -4.9733, -4.0525, -4.1124, -3.9883, -4.3286, -4.7105, -4.6211, -4.1277, -4.4831, -3.8963, -4.1754, -4.0391, -4.3023, -4.4991, -4.6846, -4.2716, -4.4891, -4.4524, -4.8227, -4.8261, -2.4983, -2.9993, -3.1301, -3.4683, -3.6521, -3.7049, -3.8203, -3.9286, -3.9732, -4.027, -4.0621, -4.1773, -4.3842, -4.4828, -4.5191, -4.6131, -4.7551, -4.782, -4.8337, -4.8798, -5.0238, -5.0502, -5.1687, -5.2004, -5.2352, -5.2441, -5.3446, -5.3685, -5.3981, -5.5117, -4.6473, -4.8457, -4.806, -4.8109, -4.5163, -4.9196, -4.4508, -4.3764, -4.6389, -4.5388, -3.4098, -3.4928, -4.0582, -4.447, -4.6347, -4.7044, -4.7385, -4.7993, -4.8543, -4.8769, -5.0117, -5.0649, -5.1048, -5.1055, -5.1118, -5.2471, -5.2519, -5.253, -5.2614, -5.3013, -5.323, -5.3528, -5.3751, -5.3798, -5.4191, -5.426, -5.4296, -5.5, -5.5146, -5.5253, -4.2108, -4.1565, -4.1435, -4.0241, -4.397, -4.7872, -5.0274, -4.8124, -4.6365, -4.7452, -5.0553, -4.5866, -5.0876, -3.3794, -4.2346, -4.3568, -4.3966, -4.4466, -4.6893, -4.8208, -4.8652, -4.8866, -4.9281, -4.9411, -5.0151, -5.0315, -5.0559, -5.188, -5.235, -5.2317, -5.3143, -5.3272, -5.3204, -5.3796, -5.3814, -5.3864, -5.4046, -5.4246, -5.4823, -5.5232, -5.5396, -5.5872, -5.5632, -3.4816, -3.2433, -3.0617, -4.4999, -5.1951, -4.1885, -4.2199, -4.6319, -3.8644, -4.401, -4.6918, -4.8033, -5.214, -4.8345, -4.595, -4.8294, -4.5699, -4.9337, -3.835, -4.062, -4.0667, -4.1579, -4.3983, -4.4731, -4.6887, -4.7243, -4.7611, -4.7997, -4.8226, -4.8566, -4.8943, -4.9022, -4.9382, -4.9452, -4.999, -5.019, -5.0374, -5.0456, -5.046, -5.0813, -5.1564, -5.195, -5.4633, -5.5053, -5.5723, -5.5926, -5.6103, -5.6389, -4.9014, -4.9527, -4.6935, -4.7194, -4.7932, -4.383, -4.3346, -4.8668, -4.3978, -4.4744, -4.6578, -4.7292, -4.7732, -4.6918, -4.8925, -4.8857, -3.5482, -3.8653, -3.9512, -4.0186, -4.3273, -4.3882, -4.411, -4.4351, -4.8134, -4.818, -4.8412, -4.9143, -5.043, -5.0435, -5.1287, -5.1312, -5.1319, -5.1623, -5.1715, -5.2, -5.2486, -5.3233, -5.3242, -5.3794, -5.3803, -5.3856, -5.4008, -5.4331, -5.4718, -5.4841, -2.5191, -3.741, -3.0518, -4.0615, -4.7462, -4.2626, -3.1376, -3.4293, -4.7746, -4.5759, -4.8452, -4.239, -4.9625, -4.9598, -5.1285, -3.6009, -3.6934, -3.7488, -3.7772, -3.8764, -4.0402, -3.9448, -4.1737, -3.9045, -4.2017, -4.2472, -4.2649, -4.2867, -4.3534, -4.5674, -4.598, -4.6047, -4.6626, -4.7724, -4.8008, -5.0639, -5.153, -5.1536, -5.2759, -5.3054, -5.3388, -5.4191, -5.4315, -5.4379, -5.4456, -3.8916, -4.0059, -3.8253, -5.2909, -4.2576, -4.7094, -4.0095, -4.4797, -4.7692, -4.7521, -4.5298, -4.7164, -2.9452, -2.9804, -3.3959, -3.4672, -3.484, -3.5087, -3.7293, -3.9112, -3.9414, -4.6039, -4.6151, -4.6172, -4.6256, -4.715, -4.822, -4.8617, -4.8624, -4.9091, -4.9261, -5.0653, -5.0749, -5.1766, -5.2726, -5.2833, -5.2963, -5.3269, -5.3316, -5.3557, -5.3706, -5.3721, -4.7442, -4.7906, -4.0606, -3.993, -4.3903, -4.642, -4.586, -4.8599, -5.039, -2.3835, -3.2738, -3.3826, -3.6501, -3.7518, -3.8204, -4.1991, -4.3621, -3.8836, -4.5176, -4.5255, -4.5687, -4.5856, -4.606, -4.6231, -4.6708, -4.7794, -4.8381, -4.847, -4.8654, -4.8902, -4.9323, -4.9489, -4.981, -5.0183, -5.0573, -5.0603, -5.1112, -5.2338, -5.2589, -5.2587, -5.0924, -4.1131, -4.4972, -5.0379, -4.9232, -5.0082, -3.6993, -3.9859, -4.378, -4.4076, -4.5048, -4.5108, -4.6476, -4.742, -4.7444, -4.7658, -4.8014, -4.9096, -4.9473, -5.0863, -5.0963, -5.1046, -5.1084, -5.1378, -5.1533, -5.1807, -5.2053, -5.249, -5.2695, -5.3034, -5.3604, -5.3797, -5.3892, -5.407, -5.4207, -5.5063, -5.4865, -5.3595, -4.9916, -4.9352, -5.0373, -5.1402], \"loglift\": [30.0, 29.0, 28.0, 27.0, 26.0, 25.0, 24.0, 23.0, 22.0, 21.0, 20.0, 19.0, 18.0, 17.0, 16.0, 15.0, 14.0, 13.0, 12.0, 11.0, 10.0, 9.0, 8.0, 7.0, 6.0, 5.0, 4.0, 3.0, 2.0, 1.0, 1.7098, 1.7097, 1.7096, 1.7092, 1.7088, 1.7084, 1.7083, 1.7082, 1.7081, 1.7081, 1.708, 1.7078, 1.7077, 1.7075, 1.7073, 1.7071, 1.7065, 1.7061, 1.706, 1.7059, 1.7058, 1.7056, 1.7055, 1.7048, 1.7048, 1.7046, 1.7043, 1.7043, 1.7043, 1.7042, 1.693, 1.6922, 1.6784, 1.6519, 1.6739, 1.6402, 1.5594, 1.5475, 1.4196, 1.4716, 1.5266, 1.5088, 1.3487, 1.4396, 1.2173, 1.3099, 1.1177, 1.1371, 1.1972, 1.3102, 0.814, 0.8968, 0.463, 1.3682, 1.3311, 2.0425, 2.0424, 2.0423, 2.0421, 2.042, 2.042, 2.0419, 2.0418, 2.0417, 2.0417, 2.0416, 2.0415, 2.0412, 2.041, 2.041, 2.0408, 2.0405, 2.0404, 2.0403, 2.0402, 2.0398, 2.0397, 2.0393, 2.0392, 2.039, 2.039, 2.0386, 2.0385, 2.0384, 2.0379, 1.9899, 1.939, 1.9211, 1.8742, 1.6566, 1.8532, 1.5054, 1.4323, 1.3875, 0.9216, 2.1773, 2.1773, 2.1767, 2.1761, 2.1758, 2.1756, 2.1755, 2.1754, 2.1752, 2.1751, 2.1747, 2.1746, 2.1744, 2.1744, 2.1744, 2.1739, 2.1739, 2.1739, 2.1738, 2.1737, 2.1736, 2.1734, 2.1733, 2.1733, 2.1731, 2.1731, 2.1731, 2.1727, 2.1726, 2.1726, 2.1427, 2.1154, 2.0991, 1.9033, 1.6795, 1.7876, 1.9166, 1.728, 1.4292, 1.2109, 1.6273, 0.499, 1.6505, 2.1922, 2.1913, 2.1911, 2.191, 2.1909, 2.1904, 2.19, 2.1899, 2.1898, 2.1897, 2.1897, 2.1894, 2.1894, 2.1893, 2.1888, 2.1886, 2.1885, 2.1882, 2.1882, 2.188, 2.1879, 2.1879, 2.1879, 2.1878, 2.1877, 2.1874, 2.1871, 2.1871, 2.1868, 2.1865, 2.106, 2.0545, 1.8537, 2.025, 2.1365, 1.8993, 1.6954, 1.8714, 1.2924, 1.4078, 1.6225, 1.7183, 2.045, 1.4952, 0.8129, 1.2471, 0.5437, 1.0611, 2.1987, 2.1984, 2.1984, 2.1983, 2.1979, 2.1978, 2.1973, 2.1972, 2.1971, 2.197, 2.1969, 2.1969, 2.1967, 2.1967, 2.1966, 2.1966, 2.1964, 2.1963, 2.1963, 2.1963, 2.1963, 2.1961, 2.1959, 2.1957, 2.1945, 2.1943, 2.1939, 2.1938, 2.1936, 2.1935, 2.1275, 2.1258, 2.0951, 2.0084, 2.0209, 1.9133, 1.8918, 1.8063, 0.988, 1.002, 1.3523, 1.2972, 1.3558, 0.7476, 1.625, 1.3973, 2.2193, 2.219, 2.2189, 2.2188, 2.2183, 2.2182, 2.2182, 2.2181, 2.2172, 2.2172, 2.2172, 2.2169, 2.2165, 2.2165, 2.2162, 2.2162, 2.2162, 2.2161, 2.216, 2.2159, 2.2157, 2.2154, 2.2154, 2.2151, 2.2151, 2.2151, 2.215, 2.2148, 2.2146, 2.2145, 2.1914, 2.1973, 2.1817, 2.1915, 2.1957, 2.162, 2.081, 1.9787, 1.8972, 1.5532, 1.7433, 0.8466, 1.6589, 0.8444, 0.3319, 2.3126, 2.3125, 2.3124, 2.3124, 2.3123, 2.3121, 2.3119, 2.3119, 2.3118, 2.3118, 2.3117, 2.3117, 2.3117, 2.3115, 2.3111, 2.311, 2.311, 2.3108, 2.3105, 2.3104, 2.3095, 2.3091, 2.3091, 2.3085, 2.3084, 2.3082, 2.3078, 2.3077, 2.3077, 2.3076, 2.2497, 2.0061, 1.8857, 2.2698, 1.7524, 1.9557, 1.451, 1.586, 1.8444, 1.7611, 0.9555, 0.98, 2.8876, 2.8876, 2.8872, 2.8871, 2.8871, 2.887, 2.8867, 2.8863, 2.8862, 2.8841, 2.8841, 2.8841, 2.884, 2.8836, 2.883, 2.8828, 2.8828, 2.8826, 2.8825, 2.8816, 2.8815, 2.8807, 2.88, 2.8799, 2.8798, 2.8795, 2.8795, 2.8792, 2.8791, 2.8791, 2.8746, 2.7359, 2.5037, 2.479, 2.5579, 2.4697, 2.2038, 1.9715, 1.688, 3.0048, 3.004, 3.0039, 3.0034, 3.0032, 3.0031, 3.002, 3.0014, 3.0011, 3.0007, 3.0007, 3.0005, 3.0004, 3.0003, 3.0002, 3.0, 2.9993, 2.999, 2.9989, 2.9988, 2.9986, 2.9983, 2.9982, 2.998, 2.9977, 2.9974, 2.9974, 2.997, 2.9959, 2.9956, 2.9956, 2.9753, 2.8363, 1.9013, 2.6844, 1.6653, 0.7028, 3.1897, 3.1889, 3.1873, 3.1872, 3.1867, 3.1866, 3.1858, 3.1852, 3.1852, 3.185, 3.1848, 3.1839, 3.1834, 3.1823, 3.1822, 3.1821, 3.1821, 3.1818, 3.1816, 3.1814, 3.1811, 3.1806, 3.1803, 3.1799, 3.1792, 3.179, 3.1789, 3.1786, 3.1784, 3.1772, 3.177, 3.0895, 2.7753, 2.3169, 1.682, 2.0825]}, \"token.table\": {\"Topic\": [7, 1, 3, 3, 3, 8, 4, 9, 7, 7, 6, 10, 10, 1, 9, 3, 10, 1, 2, 3, 5, 6, 7, 4, 9, 7, 8, 6, 7, 5, 3, 6, 3, 10, 9, 1, 8, 9, 8, 10, 1, 6, 7, 3, 4, 1, 4, 6, 3, 8, 4, 7, 5, 10, 2, 5, 2, 5, 9, 4, 2, 5, 7, 10, 5, 3, 8, 2, 4, 9, 4, 1, 6, 2, 4, 8, 1, 2, 9, 2, 1, 10, 2, 8, 1, 2, 3, 5, 8, 10, 7, 1, 4, 9, 3, 3, 5, 5, 7, 5, 2, 3, 1, 6, 2, 3, 1, 2, 4, 5, 6, 9, 5, 6, 2, 8, 2, 3, 7, 5, 7, 9, 5, 2, 3, 7, 2, 7, 2, 6, 10, 2, 5, 7, 2, 7, 1, 1, 9, 9, 3, 8, 8, 10, 10, 9, 1, 7, 9, 2, 4, 5, 7, 9, 2, 3, 2, 6, 7, 2, 6, 6, 6, 3, 10, 7, 10, 1, 6, 10, 1, 6, 2, 5, 6, 10, 4, 2, 10, 2, 3, 7, 9, 10, 8, 1, 2, 2, 3, 1, 4, 6, 1, 5, 6, 1, 4, 10, 1, 4, 6, 7, 5, 7, 1, 1, 4, 7, 10, 5, 4, 1, 5, 6, 7, 4, 4, 8, 10, 4, 5, 8, 3, 6, 9, 4, 2, 3, 5, 7, 8, 3, 2, 9, 7, 9, 6, 1, 6, 7, 9, 2, 3, 2, 5, 8, 8, 5, 2, 4, 6, 3, 1, 4, 5, 6, 1, 6, 10, 8, 5, 3, 1, 1, 4, 6, 9, 7, 4, 8, 1, 4, 9, 4, 4, 4, 7, 8, 1, 2, 3, 4, 5, 6, 7, 9, 4, 3, 7, 8, 5, 6, 2, 3, 5, 9, 5, 8, 1, 2, 3, 4, 5, 6, 7, 4, 1, 2, 3, 4, 8, 8, 6, 7, 8, 2, 6, 10, 5, 2, 4, 5, 7, 3, 1, 1, 5, 7, 10, 4, 1, 2, 5, 7, 9, 6, 5, 7, 1, 1, 2, 7, 1, 5, 7, 8, 6, 4, 5, 8, 3, 5, 5, 3, 2, 9, 7, 10, 5, 1, 9, 1, 2, 4, 5, 6, 7, 10, 5, 1, 5, 2, 8, 1, 7, 2, 5, 10, 6, 5, 9, 2, 8, 8, 4, 2, 2, 3, 7, 8, 4, 1, 5, 8, 3, 7, 9, 7, 6, 3, 3, 3, 3, 7, 2, 2, 4, 6, 9, 1, 7, 8, 2, 1, 6, 3, 8, 9, 1, 7, 4, 9, 4, 2, 8, 6, 3, 8, 7, 3, 7, 3, 1, 8, 3, 7, 8, 1, 2, 4, 7, 9, 5, 2, 4, 5, 2, 2, 4, 8, 5, 3, 1, 4, 10, 8, 7, 2, 1, 7, 3, 1, 2, 5, 6, 7, 8, 3, 5, 9, 3, 1, 2, 10, 1, 3, 10, 9, 1, 6, 5, 6, 6, 3, 9, 8, 10, 8, 1, 4, 3, 2, 1, 4, 1, 6, 2, 3, 5, 8, 1, 4, 1, 5, 7, 4, 5, 6, 10, 5, 7, 2, 8, 2, 6, 2, 3, 6, 1, 7, 4, 1, 4, 6, 1, 1, 5, 6, 7, 8, 1, 6, 1, 10, 1, 1, 2, 9, 5, 5, 5, 7, 3, 9, 5, 6, 10, 6, 10, 1, 4, 2, 6, 10, 4, 7, 5, 6, 5, 3, 7, 8, 1, 2, 3, 5, 6, 7, 2, 7, 2, 3, 6, 8, 6, 2, 8, 10, 10, 1, 4, 4, 5, 6, 6, 4, 5, 8, 6, 9, 9, 4, 10, 8, 1, 5, 6, 1, 3, 5, 6, 4, 2, 3, 4, 6, 6, 7], \"Freq\": [0.998495203309534, 0.3603270511394303, 0.6368938667069756, 0.9950679766689028, 0.3172257498864496, 0.6813879627663024, 0.9931706990888665, 0.991516210687039, 0.9981242053139041, 0.9967897990000785, 0.9977697357236911, 0.9934282721963816, 0.993404719123319, 0.0022300672602062937, 0.9968400653122133, 0.9990227537775669, 0.9920381176967638, 0.5639196562397337, 0.059387624562059566, 0.10143196053519908, 0.23387161885058858, 0.009459975593956392, 0.03153325197985464, 0.995778021825678, 0.9953368818218548, 0.9971003920052534, 0.9957499964553338, 0.9959122146668933, 0.9960329826489349, 0.9976571919977207, 0.0548920496133619, 0.943017262588525, 0.9960199246762955, 0.9835930488116084, 0.99207692491556, 0.9317250699844035, 0.03910524928766657, 0.0255034234484782, 0.9973623468890921, 0.987073562357445, 0.025064226647995402, 0.27391619122452115, 0.7000080442404429, 0.995979363386779, 0.9968783332536248, 0.6703873208856108, 0.3223720450160314, 0.0064108077133869885, 0.9978927891536092, 0.9984266681047668, 0.9967210441514083, 0.9956813357198624, 0.9923367918164406, 0.9910612291313758, 0.06766855009422193, 0.9284125072927248, 0.1620784394914534, 0.8353273419944137, 0.9975357073911933, 0.997663499451703, 0.9952581572164837, 0.06043931798128851, 0.9383999370779006, 0.9925446482561945, 0.9960187641770434, 0.9246125036653402, 0.07509543176977382, 0.5429145385519452, 0.45623070466550014, 0.9913029399518207, 0.9978515377771047, 0.9988619982902593, 0.0009274484663790709, 0.9992196569112464, 0.9971212040667993, 0.9941974396315576, 0.9989978064930424, 0.9993881861643533, 0.9992289539320316, 0.9972946747444132, 0.9988154722308104, 0.9895831281306976, 0.9950451068864372, 0.9964698728132337, 0.06765482892587424, 0.2938756631467662, 0.00211421340393357, 0.23467768783662626, 0.39958633334344473, 0.9953647822498966, 0.9939280215863797, 0.2532761317467997, 0.7457574990322435, 0.9985911854598153, 0.9974372827271176, 0.9994021992079518, 0.9973289445058844, 0.9951703224985463, 0.9978975468954755, 0.9984911523348479, 0.9995595767511595, 0.9958174915218897, 0.9971707789491473, 0.9983119697874675, 0.8457076973601346, 0.15343292997462485, 0.45186991170566193, 0.12867317418754193, 0.13018697623680714, 0.03557434815773218, 0.2528049422272883, 0.9924551600931879, 0.9965622014850619, 0.9940249394644194, 0.8274291963855379, 0.1714672551545934, 0.32931806278328896, 0.5893060070858855, 0.0789593016030108, 0.030927886376445432, 0.12133247732297824, 0.8445692048952406, 0.9971049377433466, 0.5841816245765163, 0.38064323049329574, 0.0343636249750892, 0.9965495945728217, 0.9992583390199005, 0.12937807310511829, 0.8702466480849161, 0.9908219766786459, 0.9998606132738851, 0.9975835980243105, 0.9967053076273668, 0.9979374118507645, 0.9988485735545715, 0.9964566608214376, 0.996733766620534, 0.9937165098825074, 0.9912671945536998, 0.9950222149326718, 0.9979670554359246, 0.9955347838386833, 0.9913928487987802, 0.9876710163992518, 0.9969960407391253, 0.2636609725344226, 0.7350830647691147, 0.9984269260823228, 0.24957486181532293, 0.23449066687044076, 0.06582194157766759, 0.11793097865998775, 0.3318522887874074, 0.03277560976313107, 0.9649139514265787, 0.9018962847594535, 0.010088325332879794, 0.08675959786276623, 0.9971150478297365, 0.9952168148512558, 0.9946782329297306, 0.9958138174248593, 0.9952990493561984, 0.9953295179968523, 0.994137750511971, 0.9922863178756348, 0.9979882435535538, 0.9979743098998093, 0.9952444381101844, 0.8319963916767045, 0.16686603647933906, 0.02723254243826283, 0.43048365162023167, 0.5132286844134148, 0.028279947916657555, 0.9928131560861622, 0.9973631933119277, 0.9929790709710907, 0.15721598288498095, 0.09033023578040572, 0.651618876431171, 0.09998384876457121, 0.9927350723711387, 0.9971708844760016, 0.9974500548287208, 0.9979510450559363, 0.9995956834036631, 0.9956389057865754, 0.5530329559111115, 0.40645545326991434, 0.040407852079465165, 0.7878473615254016, 0.2050664902726404, 0.006031367360960012, 0.2872167629068122, 0.7122851249119102, 0.9954744763878937, 0.27658897018306505, 0.6081573992710206, 0.11418810695631125, 0.9939487810733078, 0.7515066446509446, 0.24761339197724697, 0.9941337244192319, 0.4336594212165394, 0.5647657578634001, 0.5796023125129096, 0.4153816573009185, 0.9963351607119884, 0.9968588539563763, 0.817621836135341, 0.13731853914580727, 0.028302294327761802, 0.015723496848756558, 0.9967006607915442, 0.3010716132727481, 0.6641285586898855, 0.033944348555260816, 0.7248903128430129, 0.2741181855288704, 0.9950569235624558, 0.11607872500718498, 0.6201920450383883, 0.26200626501621754, 0.993701563772966, 0.009830674737227953, 0.47285545486066455, 0.012779877158396338, 0.4826861295978925, 0.0206444169481787, 0.9949918381764961, 0.9964109171714262, 0.9957057973234672, 0.9988530386135874, 0.9959089202030172, 0.9962760612060156, 0.9961170391831913, 0.03945838823640675, 0.9557698483929635, 0.9941424119429264, 0.9976782096602826, 0.99666984802078, 0.1420028973342636, 0.7354133788774465, 0.122376480629528, 0.998365786509809, 0.9975780669041933, 0.07368869564386342, 0.3547339534483658, 0.5706589685908493, 0.9977372733926937, 0.9997606142020365, 0.019905824913345468, 0.0017309412968126493, 0.9771163620507406, 0.9981008041217833, 0.996025278122925, 0.9885974074164146, 0.9926912527861262, 0.9977633860956086, 0.9963928657875244, 0.9994922301665073, 0.9918505018517857, 0.9982408560337146, 0.9977205456755135, 0.9914265415853494, 0.9990634902123084, 0.9983333311556556, 0.9904216642860796, 0.8497868913867107, 0.14938428005872786, 0.992819860077064, 0.9929735204552128, 0.9978820421330633, 0.9978658367290422, 0.9985020122722907, 0.9912714054938302, 0.6108574883716074, 0.016314827329179573, 0.03225024006930846, 0.1923631966486987, 0.11344496212615565, 0.0015176583562027512, 0.032629654658359146, 0.0003794145890506878, 0.9973539036862693, 0.997911164245147, 0.9984339640970613, 0.9898631529166068, 0.9013636216106645, 0.09722573896025145, 0.51892944498055, 0.07467290738335784, 0.40550224389190526, 0.9980944691581061, 0.9952169707118462, 0.9946768812630765, 0.40804799382299894, 0.011068209597368869, 0.18668380187562159, 0.008854567677895095, 0.00590304511859673, 0.2530930594598348, 0.1258086490900928, 0.9975621853862833, 0.02918034262910223, 0.01296904116848988, 0.09078328817942917, 0.862441237704577, 0.9987823141981401, 0.9987709310033498, 0.3724103010459664, 0.625785346049843, 0.99825726509901, 0.9993971243078303, 0.9977407999476331, 0.9930348093903211, 0.9990392052673195, 0.10426514029860313, 0.8450144952558434, 0.04979827596351195, 0.9983907838895447, 0.997038455531042, 0.9978154552528634, 0.9830534964685727, 0.007125727549153048, 0.009797875380085442, 0.987707436993977, 0.9954502082823821, 0.44333709083879635, 0.19227878321772518, 0.29788267451865197, 0.03188042001537412, 0.034371077829075225, 0.999163187684429, 0.9965222389896112, 0.998166285218161, 0.9969793943929542, 0.5986390637223029, 0.13725889996811033, 0.2636458078595386, 0.207604453044836, 0.07999437640259735, 0.40949502206091504, 0.3009312255145329, 0.9973959762082792, 0.9965977620523333, 0.2803874472602006, 0.7176017718015303, 0.996539254138272, 0.9976987382577174, 0.9987881878068398, 0.9938348806833278, 0.2679563988364749, 0.7265740814604416, 0.993843651946143, 0.9867615795247945, 0.9957711098106067, 0.993710306246982, 0.9922358696659448, 0.31956126185203954, 0.6796148753771115, 0.053284576270638796, 0.01065691525412776, 0.01065691525412776, 0.01065691525412776, 0.9058377966008595, 0.998540867014033, 0.9986182317409695, 0.9948952090908476, 0.9984768636217144, 0.9982243202038849, 0.9917946716687361, 0.9988144986724424, 0.4355517533007428, 0.5622015539059233, 0.9928914049582743, 0.9985613169295013, 0.9980903311544417, 0.9970448531448013, 0.9988614540637739, 0.9930038897357661, 0.9933814209787336, 0.9971093552866889, 0.9991335810853107, 0.9974665453999696, 0.019587568801128864, 0.3217957731614028, 0.6575826668950404, 0.995561492592892, 0.5509820022660488, 0.4483600772320175, 0.9896389501064486, 0.21224271452203738, 0.5752085161684202, 0.2107047238370951, 0.998289395970917, 0.9984914732479924, 0.9987355891100012, 0.997412073812221, 0.9931536874670309, 0.7602774429843269, 0.2397271216617247, 0.9987746865824657, 0.14419064857116715, 0.12977158371405043, 0.7245580090701149, 0.9935360147264655, 0.670164730488613, 0.2569515017554863, 0.07207847265517923, 0.9989404357066909, 0.021251372496751172, 0.9752018712398037, 0.007278702885580085, 0.007278702885580085, 0.9680674837821512, 0.9970332114906204, 0.9978129105691138, 0.9943913766783317, 0.994475254127145, 0.9956599226321551, 0.9488545563591464, 0.05048950850351421, 0.9930794582908387, 0.9388357155509546, 0.059205855935645785, 0.9992062798496314, 0.768949536151474, 0.22713586298628155, 0.9961275291071809, 0.9969678824658008, 0.9956200559291521, 0.010139920431569903, 0.4846881966290414, 0.5049680374921812, 0.15233860464952018, 0.028163439515037345, 0.49798081687952395, 0.3200390853981516, 0.9953132496017557, 0.997946575967933, 0.024404803066544148, 0.9448145187190663, 0.027891203504621882, 0.9991072300211741, 0.08288967874369906, 0.9166623296362013, 0.9993207605012651, 0.9980249697246459, 0.9952155700156544, 0.7480515695557565, 0.25155716498335173, 0.98436553939501, 0.9975817072049236, 0.9966859622522123, 0.9987655388879304, 0.9435763778545431, 0.05608670777457075, 0.999086290229359, 0.6841064275052826, 0.14436261619796514, 0.10881062862682449, 0.009695996610311092, 0.014005328437116023, 0.03878398644124437, 0.323015708224701, 0.6749043289164144, 0.9929044106319874, 0.9954827131629104, 0.99500447808158, 0.996245115368824, 0.9918722036390789, 0.5877721840635138, 0.18899427140305913, 0.22112329754157917, 0.9935851248917953, 0.964935701805129, 0.03414111421656881, 0.9978397272370754, 0.9949923233524902, 0.994872046167365, 0.996474562241666, 0.9900628791821288, 0.9941238919366882, 0.9962439034855489, 0.9866436514452499, 0.7626540447680222, 0.2360392965371421, 0.9953603624066838, 0.994884266854138, 0.998797826089379, 0.9955971081679171, 0.9993266022348584, 0.9952705287790776, 0.9971982436078696, 0.6771922460060301, 0.13576559521376932, 0.18647322716108075, 0.9689813665713728, 0.029684330704593476, 0.9968674864637763, 0.4286858289360758, 0.5709611691252724, 0.036787470671775346, 0.0008555225737622174, 0.9624628954824946, 0.9943380505528419, 0.8253505852249405, 0.17155092995437562, 0.004646516044040963, 0.9850614013366843, 0.02726978300913688, 0.9722270464127062, 0.8857338695688346, 0.11238343721411019, 0.9942115502644768, 0.9960015106488961, 0.003723370133266901, 0.9984703575193937, 0.12863661975185642, 0.8708060535684182, 0.9959584714538587, 0.9977326816320236, 0.00814910980492843, 0.044820103927106364, 0.7853704574499774, 0.14923057330275186, 0.011714345344584617, 0.982667495815923, 0.01723978062834953, 0.9978807610751801, 0.9905997814049577, 0.9982505275003806, 0.9949712024326166, 0.9974676836016176, 0.991731324011714, 0.9951917048048452, 0.9973704875264775, 0.9983982341937612, 0.9978103716598983, 0.9980581074742331, 0.9990832295519252, 0.9977599662345545, 0.33405375422381645, 0.6573315808920259, 0.9963905562056993, 0.990733463822556, 0.7109205160894784, 0.28860252925889485, 0.053153401369327724, 0.6159541217504447, 0.32830042022231826, 0.9924615067789387, 0.9972098736102378, 0.929811236261373, 0.06696701424597146, 0.9977494178464855, 0.9965224375441148, 0.9979912346784137, 0.994146925452267, 0.013418156962389238, 0.32579285104681066, 0.0042938102279645556, 0.0826558468883177, 0.1513568105357506, 0.42186685489751763, 0.99513840943762, 0.995797500340633, 0.42086930565622577, 0.5757346345773477, 0.9954321434433342, 0.9881321302334046, 0.9959418635023183, 0.9992756884056164, 0.86006439337583, 0.13557665314298797, 0.9888941435570654, 0.8599037089587989, 0.13925818961351644, 0.9993149934242875, 0.9944120911669677, 0.998852794935156, 0.9974511889200491, 0.6219086658969135, 0.37221466288094573, 0.0031017888573412144, 0.9975458775443958, 0.9940467770644629, 0.9947722996753344, 0.9949279465326062, 0.9966079034208637, 0.9894435064597382, 0.6969643391903015, 0.30212695141739204, 0.0010907110159472638, 0.004817010987817752, 0.012422817810687888, 0.01090165644611386, 0.9717685850687077, 0.9942334696745262, 0.0029812284080406202, 0.6071768524376063, 0.38855343584796087, 0.995799997781992, 0.9963675571670768, 0.9936710718726237], \"Term\": [\"access\", \"account\", \"account\", \"action\", \"activity\", \"activity\", \"actually\", \"addition\", \"address\", \"advise\", \"afternoon\", \"agency\", \"agent\", \"agree\", \"agree\", \"agreement\", \"airport\", \"also\", \"also\", \"also\", \"also\", \"also\", \"also\", \"always\", \"analyst\", \"application\", \"apply\", \"approval\", \"approve\", \"area\", \"ask\", \"ask\", \"asset\", \"assistant\", \"associate\", \"attach\", \"attach\", \"attach\", \"attend\", \"authorize\", \"available\", \"available\", \"available\", \"avoid\", \"away\", \"back\", \"back\", \"back\", \"bad\", \"balance\", \"ball\", \"basis\", \"become\", \"bed\", \"begin\", \"begin\", \"believe\", \"believe\", \"bid\", \"big\", \"bill\", \"book\", \"book\", \"bottle\", \"break\", \"business\", \"business\", \"buy\", \"buy\", \"buying\", \"ca\", \"call\", \"call\", \"capacity\", \"car\", \"card\", \"cc\", \"ce\", \"change\", \"charge\", \"check\", \"city\", \"citygate\", \"clear\", \"close\", \"close\", \"close\", \"close\", \"close\", \"club\", \"column\", \"come\", \"come\", \"comment\", \"commodity\", \"company\", \"concern\", \"confirmation\", \"contact\", \"continue\", \"contract\", \"control\", \"copy\", \"correct\", \"cost\", \"cost\", \"could\", \"could\", \"could\", \"could\", \"could\", \"counterparty\", \"couple\", \"course\", \"create\", \"create\", \"current\", \"current\", \"current\", \"currently\", \"currently\", \"currently\", \"curve\", \"customer\", \"customer\", \"customer\", \"daily\", \"date\", \"day\", \"day\", \"deadline\", \"deal\", \"deliver\", \"delivery\", \"demand\", \"desk\", \"dg\", \"dinner\", \"directly\", \"director\", \"discount\", \"discuss\", \"discussion\", \"dog\", \"double\", \"ee\", \"email\", \"email\", \"ena\", \"end\", \"end\", \"end\", \"end\", \"end\", \"energy\", \"energy\", \"enter\", \"enter\", \"enter\", \"estimate\", \"evening\", \"event\", \"ever\", \"execute\", \"expire\", \"extend\", \"fare\", \"fax\", \"feel\", \"final\", \"find\", \"find\", \"first\", \"first\", \"first\", \"first\", \"flip\", \"flow\", \"fly\", \"follow\", \"follow\", \"follow\", \"follow\", \"foot\", \"forget\", \"friend\", \"fuel\", \"gas\", \"gather\", \"get\", \"get\", \"get\", \"give\", \"give\", \"give\", \"go\", \"go\", \"golf\", \"good\", \"good\", \"good\", \"grant\", \"group\", \"group\", \"guess\", \"guy\", \"guy\", \"happen\", \"happen\", \"head\", \"hear\", \"help\", \"help\", \"help\", \"help\", \"hit\", \"hold\", \"hold\", \"hold\", \"hope\", \"hope\", \"hotel\", \"however\", \"however\", \"however\", \"husband\", \"include\", \"include\", \"include\", \"include\", \"include\", \"incremental\", \"index\", \"indicate\", \"information\", \"injection\", \"instead\", \"interested\", \"internet\", \"internet\", \"interview\", \"invoice\", \"involve\", \"issue\", \"issue\", \"issue\", \"item\", \"join\", \"keep\", \"keep\", \"keep\", \"kind\", \"know\", \"last\", \"last\", \"last\", \"late\", \"later\", \"law\", \"lawyer\", \"learn\", \"legal\", \"let\", \"letter\", \"life\", \"like\", \"link\", \"list\", \"little\", \"locate\", \"look\", \"look\", \"loss\", \"lot\", \"love\", \"lunch\", \"mail\", \"maintenance\", \"make\", \"make\", \"make\", \"make\", \"make\", \"make\", \"make\", \"make\", \"man\", \"management\", \"manager\", \"manual\", \"many\", \"many\", \"market\", \"market\", \"market\", \"marketing\", \"master\", \"match\", \"may\", \"may\", \"may\", \"may\", \"may\", \"may\", \"may\", \"maybe\", \"mean\", \"mean\", \"mean\", \"mean\", \"meet\", \"meeting\", \"message\", \"message\", \"meter\", \"month\", \"morning\", \"mouth\", \"move\", \"much\", \"much\", \"much\", \"name\", \"nature\", \"nee\", \"need\", \"need\", \"need\", \"negotiate\", \"never\", \"new\", \"new\", \"new\", \"new\", \"new\", \"next\", \"nominate\", \"note\", \"notice\", \"number\", \"number\", \"number\", \"office\", \"office\", \"office\", \"office\", \"ok\", \"old\", \"open\", \"open\", \"opportunity\", \"option\", \"order\", \"organization\", \"original\", \"original\", \"page\", \"partner\", \"party\", \"pass\", \"path\", \"pay\", \"pay\", \"pear\", \"pear\", \"pear\", \"pear\", \"pear\", \"person\", \"phone\", \"physical\", \"pipeline\", \"plan\", \"please\", \"pm\", \"point\", \"point\", \"policy\", \"pool\", \"position\", \"post\", \"power\", \"pre\", \"present\", \"pretty\", \"price\", \"pricing\", \"prior\", \"prior\", \"prior\", \"pro\", \"problem\", \"problem\", \"procedure\", \"process\", \"process\", \"process\", \"product\", \"production\", \"program\", \"project\", \"propose\", \"provide\", \"provide\", \"purchase\", \"put\", \"put\", \"put\", \"quarter\", \"question\", \"question\", \"question\", \"rate\", \"really\", \"really\", \"rebook\", \"rebook\", \"rebook\", \"receipt\", \"receive\", \"receive_quality\", \"recognize\", \"regulated_service\", \"release\", \"release\", \"remember\", \"report\", \"report\", \"request\", \"require\", \"require\", \"requirement\", \"reservation\", \"resource\", \"review\", \"review\", \"review\", \"right\", \"right\", \"right\", \"right\", \"role\", \"room\", \"run\", \"run\", \"run\", \"sale\", \"say\", \"say\", \"schedule\", \"second\", \"section\", \"see\", \"see\", \"seek\", \"segment\", \"select\", \"sell\", \"send\", \"send\", \"service\", \"set\", \"set\", \"set\", \"set\", \"set\", \"set\", \"several\", \"several\", \"shall\", \"share\", \"sheet\", \"shipper\", \"shirt\", \"sign\", \"sign\", \"sign\", \"sitara\", \"soon\", \"soon\", \"space\", \"speak\", \"special\", \"specific\", \"staff\", \"statement\", \"station\", \"status\", \"still\", \"still\", \"stock\", \"stop\", \"storage\", \"stuff\", \"subject\", \"suggest\", \"supply\", \"support\", \"support\", \"support\", \"sure\", \"sure\", \"swing\", \"system\", \"system\", \"take\", \"take\", \"take\", \"tax\", \"team\", \"team\", \"telescope\", \"telescope\", \"tell\", \"tell\", \"term\", \"term\", \"th\", \"thank\", \"thank\", \"thing\", \"think\", \"think\", \"thought\", \"ticket\", \"time\", \"time\", \"time\", \"time\", \"time\", \"today\", \"today\", \"together\", \"toilet\", \"tomorrow\", \"tonight\", \"total\", \"track\", \"trade\", \"trading\", \"transaction\", \"transco\", \"transmission\", \"transport\", \"transportation\", \"travel\", \"travel\", \"trip\", \"true\", \"try\", \"try\", \"turn\", \"turn\", \"turn\", \"twice\", \"type\", \"understand\", \"understand\", \"unify\", \"unit\", \"update\", \"usage\", \"use\", \"use\", \"use\", \"use\", \"use\", \"use\", \"utility\", \"vacation\", \"value\", \"value\", \"verify\", \"version\", \"visit\", \"volume\", \"wait\", \"wait\", \"walk\", \"want\", \"want\", \"way\", \"website\", \"week\", \"weekend\", \"well\", \"well\", \"well\", \"wife\", \"withdraw\", \"withdrawal\", \"wo\", \"woman\", \"wonder\", \"work\", \"work\", \"work\", \"would\", \"would\", \"would\", \"would\", \"yard\", \"year\", \"year\", \"year\", \"yesterday\", \"yet\", \"zone\"]}, \"R\": 30, \"lambda.step\": 0.01, \"plot.opts\": {\"xlab\": \"PC1\", \"ylab\": \"PC2\"}, \"topic.order\": [1, 3, 6, 7, 5, 10, 8, 2, 4, 9]};\n",
              "\n",
              "function LDAvis_load_lib(url, callback){\n",
              "  var s = document.createElement('script');\n",
              "  s.src = url;\n",
              "  s.async = true;\n",
              "  s.onreadystatechange = s.onload = callback;\n",
              "  s.onerror = function(){console.warn(\"failed to load library \" + url);};\n",
              "  document.getElementsByTagName(\"head\")[0].appendChild(s);\n",
              "}\n",
              "\n",
              "if(typeof(LDAvis) !== \"undefined\"){\n",
              "   // already loaded: just create the visualization\n",
              "   !function(LDAvis){\n",
              "       new LDAvis(\"#\" + \"ldavis_el11631399965805451042830620928\", ldavis_el11631399965805451042830620928_data);\n",
              "   }(LDAvis);\n",
              "}else if(typeof define === \"function\" && define.amd){\n",
              "   // require.js is available: use it to load d3/LDAvis\n",
              "   require.config({paths: {d3: \"https://d3js.org/d3.v5\"}});\n",
              "   require([\"d3\"], function(d3){\n",
              "      window.d3 = d3;\n",
              "      LDAvis_load_lib(\"https://cdn.jsdelivr.net/gh/bmabey/pyLDAvis@3.3.1/pyLDAvis/js/ldavis.v3.0.0.js\", function(){\n",
              "        new LDAvis(\"#\" + \"ldavis_el11631399965805451042830620928\", ldavis_el11631399965805451042830620928_data);\n",
              "      });\n",
              "    });\n",
              "}else{\n",
              "    // require.js not available: dynamically load d3 & LDAvis\n",
              "    LDAvis_load_lib(\"https://d3js.org/d3.v5.js\", function(){\n",
              "         LDAvis_load_lib(\"https://cdn.jsdelivr.net/gh/bmabey/pyLDAvis@3.3.1/pyLDAvis/js/ldavis.v3.0.0.js\", function(){\n",
              "                 new LDAvis(\"#\" + \"ldavis_el11631399965805451042830620928\", ldavis_el11631399965805451042830620928_data);\n",
              "            })\n",
              "         });\n",
              "}\n",
              "</script>"
            ],
            "text/plain": [
              "<IPython.core.display.HTML object>"
            ]
          },
          "metadata": {
            "tags": []
          },
          "execution_count": 74
        }
      ]
    }
  ]
}