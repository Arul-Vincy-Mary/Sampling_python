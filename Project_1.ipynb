{
  "nbformat": 4,
  "nbformat_minor": 0,
  "metadata": {
    "colab": {
      "name": "Project_1.ipynb",
      "provenance": [],
      "collapsed_sections": [],
      "include_colab_link": true
    },
    "kernelspec": {
      "display_name": "Python 3",
      "name": "python3"
    },
    "language_info": {
      "name": "python"
    }
  },
  "cells": [
    {
      "cell_type": "markdown",
      "metadata": {
        "id": "view-in-github",
        "colab_type": "text"
      },
      "source": [
        "<a href=\"https://colab.research.google.com/github/Arul-Vincy-Mary/nerd/blob/main/Project_1.ipynb\" target=\"_parent\"><img src=\"https://colab.research.google.com/assets/colab-badge.svg\" alt=\"Open In Colab\"/></a>"
      ]
    },
    {
      "cell_type": "code",
      "metadata": {
        "id": "yy90myBtm5Xk"
      },
      "source": [
        "pip install pyLDAvis"
      ],
      "execution_count": null,
      "outputs": []
    },
    {
      "cell_type": "code",
      "metadata": {
        "colab": {
          "base_uri": "https://localhost:8080/"
        },
        "id": "ui7lLqq_9YeI",
        "outputId": "a4628d00-8dec-4fbc-a5cf-65a1182b3e6f"
      },
      "source": [
        "from google.colab import drive\n",
        "drive.mount('/content/drive')"
      ],
      "execution_count": null,
      "outputs": [
        {
          "output_type": "stream",
          "text": [
            "Mounted at /content/drive\n"
          ],
          "name": "stdout"
        }
      ]
    },
    {
      "cell_type": "code",
      "metadata": {
        "id": "EqyhNwbKGuCD",
        "colab": {
          "base_uri": "https://localhost:8080/"
        },
        "outputId": "58ba114b-150d-41ec-ec2b-acff6b3c9d8f"
      },
      "source": [
        "import pandas as pd\n",
        "import numpy as np\n",
        "import re\n",
        "import email\n",
        "\n",
        "import nltk\n",
        "from nltk.stem import WordNetLemmatizer\n",
        "from nltk.stem import wordnet\n",
        "from nltk.corpus import stopwords\n",
        "from nltk.tokenize import word_tokenize\n",
        "from nltk import ne_chunk\n",
        "\n",
        "nltk.download('stopwords')\n",
        "nltk.download('punkt')\n",
        "\n",
        "# spacy for lemmatization\n",
        "import spacy\n",
        "import gensim\n",
        "import gensim.corpora as corpora\n",
        "from gensim.utils import simple_preprocess\n",
        "from gensim.models import CoherenceModel\n",
        "from gensim.models.phrases import Phrases, Phraser\n",
        "\n",
        "# for plotting\n",
        "import pyLDAvis\n",
        "import pyLDAvis.gensim_models\n",
        "import matplotlib.pyplot as plt\n",
        "\n",
        "import warnings\n",
        "warnings.filterwarnings(\"ignore\",category=DeprecationWarning)"
      ],
      "execution_count": null,
      "outputs": [
        {
          "output_type": "stream",
          "text": [
            "[nltk_data] Downloading package stopwords to /root/nltk_data...\n",
            "[nltk_data]   Package stopwords is already up-to-date!\n",
            "[nltk_data] Downloading package punkt to /root/nltk_data...\n",
            "[nltk_data]   Package punkt is already up-to-date!\n"
          ],
          "name": "stdout"
        },
        {
          "output_type": "stream",
          "text": [
            "/usr/local/lib/python3.7/dist-packages/past/types/oldstr.py:5: DeprecationWarning: Using or importing the ABCs from 'collections' instead of from 'collections.abc' is deprecated since Python 3.3,and in 3.9 it will stop working\n",
            "  from collections import Iterable\n",
            "/usr/local/lib/python3.7/dist-packages/sklearn/decomposition/_lda.py:29: DeprecationWarning: `np.float` is a deprecated alias for the builtin `float`. To silence this warning, use `float` by itself. Doing this will not modify any behavior and is safe. If you specifically wanted the numpy scalar type, use `np.float64` here.\n",
            "Deprecated in NumPy 1.20; for more details and guidance: https://numpy.org/devdocs/release/1.20.0-notes.html#deprecations\n",
            "  EPS = np.finfo(np.float).eps\n"
          ],
          "name": "stderr"
        }
      ]
    },
    {
      "cell_type": "code",
      "metadata": {
        "id": "yKjIfPDuv_tj"
      },
      "source": [
        "import nltk\n",
        "from nltk.stem import WordNetLemmatizer\n",
        "from nltk.stem import wordnet\n",
        "from nltk.corpus import stopwords\n",
        "from nltk.tokenize import word_tokenize\n",
        "from nltk import ne_chunk\n"
      ],
      "execution_count": null,
      "outputs": []
    },
    {
      "cell_type": "code",
      "metadata": {
        "id": "nchZM4x6LEUT"
      },
      "source": [
        "nltk.download('stopwords')\n",
        "nltk.download('punkt')"
      ],
      "execution_count": null,
      "outputs": []
    },
    {
      "cell_type": "code",
      "metadata": {
        "id": "JCB7cco4z4m1"
      },
      "source": [
        "# spacy for lemmatization\n",
        "import spacy\n",
        "import gensim\n",
        "import gensim.corpora as corpora\n",
        "from gensim.utils import simple_preprocess\n",
        "from gensim.models import CoherenceModel\n",
        "from gensim.models.phrases import Phrases, Phraser"
      ],
      "execution_count": null,
      "outputs": []
    },
    {
      "cell_type": "code",
      "metadata": {
        "id": "1Ta2Ik01iWhb"
      },
      "source": [
        "# for plotting\n",
        "import pyLDAvis\n",
        "import pyLDAvis.gensim_models\n",
        "import matplotlib.pyplot as plt"
      ],
      "execution_count": null,
      "outputs": []
    },
    {
      "cell_type": "code",
      "metadata": {
        "id": "lRQaUveBqBi4"
      },
      "source": [
        "import warnings\n",
        "warnings.filterwarnings(\"ignore\",category=DeprecationWarning)"
      ],
      "execution_count": null,
      "outputs": []
    },
    {
      "cell_type": "code",
      "metadata": {
        "id": "Q2uYTYHaI1g9"
      },
      "source": [
        "data = pd.read_csv('/content/drive/MyDrive/Dataset/emails.csv')"
      ],
      "execution_count": null,
      "outputs": []
    },
    {
      "cell_type": "code",
      "metadata": {
        "id": "lmdubQJtHeVu",
        "colab": {
          "base_uri": "https://localhost:8080/",
          "height": 69
        },
        "outputId": "4847a2fd-d148-4bf2-a64a-ad16fa054381"
      },
      "source": [
        "e = email.message_from_string(data.message[2054])\n",
        "e.get_payload()"
      ],
      "execution_count": null,
      "outputs": [
        {
          "output_type": "execute_result",
          "data": {
            "application/vnd.google.colaboratory.intrinsic+json": {
              "type": "string"
            },
            "text/plain": [
              "'Phillip;\\n\\nThis attachment is my start on your 1031 search.  From my experience, you\\nwill probably need to park the money until we find the right investment for\\nyou.  I have not had time to analize all of the possibilities.\\n\\nAre you coming on Friday? Do you want me to drive by these properties\\ntomorrow, or are we going to do it Friday?\\n\\nPlease reply\\n\\n\\n\\n - Phillip Allen 1031 Spreadsheet.xls '"
            ]
          },
          "metadata": {
            "tags": []
          },
          "execution_count": 124
        }
      ]
    },
    {
      "cell_type": "code",
      "metadata": {
        "id": "iSDMy9TgH6jB"
      },
      "source": [
        "e.items()"
      ],
      "execution_count": null,
      "outputs": []
    },
    {
      "cell_type": "code",
      "metadata": {
        "id": "xjKO6VHbIK-K"
      },
      "source": [
        "e.get_payload()"
      ],
      "execution_count": null,
      "outputs": []
    },
    {
      "cell_type": "code",
      "metadata": {
        "id": "F55FuG1lJjAa"
      },
      "source": [
        "df = data.copy(deep=True)"
      ],
      "execution_count": null,
      "outputs": []
    },
    {
      "cell_type": "code",
      "metadata": {
        "id": "Y8RPDG9PI-Qw"
      },
      "source": [
        "def get_field(field, messages):\n",
        "    column = []\n",
        "    for message in messages:\n",
        "        e = email.message_from_string(message)\n",
        "        column.append(e.get(field))\n",
        "    return column"
      ],
      "execution_count": null,
      "outputs": []
    },
    {
      "cell_type": "code",
      "metadata": {
        "id": "09dXuiXqILF3"
      },
      "source": [
        "df['Subject'] = get_field(\"Subject\", df['message'])\n",
        "df['Folder'] = get_field(\"X-Folder\", df['message'])\n",
        "df['From'] = get_field(\"X-From\", df['message'])\n",
        "df['To'] = get_field(\"X-To\", df['message'])"
      ],
      "execution_count": null,
      "outputs": []
    },
    {
      "cell_type": "code",
      "metadata": {
        "id": "mmnnUQ5vJWU1"
      },
      "source": [
        "def body(messages):\n",
        "    column = []\n",
        "    for message in messages:\n",
        "        e = email.message_from_string(message)\n",
        "        column.append(e.get_payload())\n",
        "    return column"
      ],
      "execution_count": null,
      "outputs": []
    },
    {
      "cell_type": "code",
      "metadata": {
        "id": "UgNUnxRFJYPO"
      },
      "source": [
        "df['body'] = body(df['message'])"
      ],
      "execution_count": null,
      "outputs": []
    },
    {
      "cell_type": "code",
      "metadata": {
        "id": "J0DpjGozM1mQ",
        "colab": {
          "base_uri": "https://localhost:8080/",
          "height": 279
        },
        "outputId": "5f727e13-4869-4193-c814-f1d4eb888770"
      },
      "source": [
        "df.head()"
      ],
      "execution_count": null,
      "outputs": [
        {
          "output_type": "execute_result",
          "data": {
            "text/html": [
              "<div>\n",
              "<style scoped>\n",
              "    .dataframe tbody tr th:only-of-type {\n",
              "        vertical-align: middle;\n",
              "    }\n",
              "\n",
              "    .dataframe tbody tr th {\n",
              "        vertical-align: top;\n",
              "    }\n",
              "\n",
              "    .dataframe thead th {\n",
              "        text-align: right;\n",
              "    }\n",
              "</style>\n",
              "<table border=\"1\" class=\"dataframe\">\n",
              "  <thead>\n",
              "    <tr style=\"text-align: right;\">\n",
              "      <th></th>\n",
              "      <th>file</th>\n",
              "      <th>message</th>\n",
              "      <th>Subject</th>\n",
              "      <th>Folder</th>\n",
              "      <th>From</th>\n",
              "      <th>To</th>\n",
              "      <th>body</th>\n",
              "    </tr>\n",
              "  </thead>\n",
              "  <tbody>\n",
              "    <tr>\n",
              "      <th>0</th>\n",
              "      <td>allen-p/_sent_mail/1.</td>\n",
              "      <td>Message-ID: &lt;18782981.1075855378110.JavaMail.e...</td>\n",
              "      <td></td>\n",
              "      <td>\\Phillip_Allen_Jan2002_1\\Allen, Phillip K.\\'Se...</td>\n",
              "      <td>Phillip K Allen</td>\n",
              "      <td>Tim Belden &lt;Tim Belden/Enron@EnronXGate&gt;</td>\n",
              "      <td>Here is our forecast\\n\\n</td>\n",
              "    </tr>\n",
              "    <tr>\n",
              "      <th>1</th>\n",
              "      <td>allen-p/_sent_mail/10.</td>\n",
              "      <td>Message-ID: &lt;15464986.1075855378456.JavaMail.e...</td>\n",
              "      <td>Re:</td>\n",
              "      <td>\\Phillip_Allen_Jan2002_1\\Allen, Phillip K.\\'Se...</td>\n",
              "      <td>Phillip K Allen</td>\n",
              "      <td>John J Lavorato &lt;John J Lavorato/ENRON@enronXg...</td>\n",
              "      <td>Traveling to have a business meeting takes the...</td>\n",
              "    </tr>\n",
              "    <tr>\n",
              "      <th>2</th>\n",
              "      <td>allen-p/_sent_mail/100.</td>\n",
              "      <td>Message-ID: &lt;24216240.1075855687451.JavaMail.e...</td>\n",
              "      <td>Re: test</td>\n",
              "      <td>\\Phillip_Allen_Dec2000\\Notes Folders\\'sent mail</td>\n",
              "      <td>Phillip K Allen</td>\n",
              "      <td>Leah Van Arsdall</td>\n",
              "      <td>test successful.  way to go!!!</td>\n",
              "    </tr>\n",
              "    <tr>\n",
              "      <th>3</th>\n",
              "      <td>allen-p/_sent_mail/1000.</td>\n",
              "      <td>Message-ID: &lt;13505866.1075863688222.JavaMail.e...</td>\n",
              "      <td></td>\n",
              "      <td>\\Phillip_Allen_Dec2000\\Notes Folders\\'sent mail</td>\n",
              "      <td>Phillip K Allen</td>\n",
              "      <td>Randall L Gay</td>\n",
              "      <td>Randy,\\n\\n Can you send me a schedule of the s...</td>\n",
              "    </tr>\n",
              "    <tr>\n",
              "      <th>4</th>\n",
              "      <td>allen-p/_sent_mail/1001.</td>\n",
              "      <td>Message-ID: &lt;30922949.1075863688243.JavaMail.e...</td>\n",
              "      <td>Re: Hello</td>\n",
              "      <td>\\Phillip_Allen_Dec2000\\Notes Folders\\'sent mail</td>\n",
              "      <td>Phillip K Allen</td>\n",
              "      <td>Greg Piper</td>\n",
              "      <td>Let's shoot for Tuesday at 11:45.</td>\n",
              "    </tr>\n",
              "  </tbody>\n",
              "</table>\n",
              "</div>"
            ],
            "text/plain": [
              "                       file  ...                                               body\n",
              "0     allen-p/_sent_mail/1.  ...                          Here is our forecast\\n\\n \n",
              "1    allen-p/_sent_mail/10.  ...  Traveling to have a business meeting takes the...\n",
              "2   allen-p/_sent_mail/100.  ...                     test successful.  way to go!!!\n",
              "3  allen-p/_sent_mail/1000.  ...  Randy,\\n\\n Can you send me a schedule of the s...\n",
              "4  allen-p/_sent_mail/1001.  ...                Let's shoot for Tuesday at 11:45.  \n",
              "\n",
              "[5 rows x 7 columns]"
            ]
          },
          "metadata": {
            "tags": []
          },
          "execution_count": 16
        }
      ]
    },
    {
      "cell_type": "code",
      "metadata": {
        "id": "CkDXOF_PhW1V"
      },
      "source": [
        "col = ['file','message']\n",
        "df = df.drop(columns = col, axis = 1)"
      ],
      "execution_count": null,
      "outputs": []
    },
    {
      "cell_type": "code",
      "metadata": {
        "id": "nyxh0pSB66ZS",
        "colab": {
          "base_uri": "https://localhost:8080/"
        },
        "outputId": "0ff0f9f7-5b01-4d96-88ed-daacdcf89616"
      },
      "source": [
        "print(df.shape)"
      ],
      "execution_count": null,
      "outputs": [
        {
          "output_type": "stream",
          "text": [
            "(517401, 5)\n"
          ],
          "name": "stdout"
        }
      ]
    },
    {
      "cell_type": "code",
      "metadata": {
        "id": "P4UwRGfDt6h5"
      },
      "source": [
        "def preprocess_folder(folders):\n",
        "    column = []\n",
        "    for folder in folders:\n",
        "        if (folder is None or folder == \"\"):\n",
        "            column.append(np.nan)\n",
        "        else:\n",
        "            column.append(folder.split(\"\\\\\")[-1].lower())\n",
        "    return column"
      ],
      "execution_count": null,
      "outputs": []
    },
    {
      "cell_type": "code",
      "metadata": {
        "id": "JIf9OFF1uXEQ"
      },
      "source": [
        "df['Folder'] = preprocess_folder(df['Folder'])"
      ],
      "execution_count": null,
      "outputs": []
    },
    {
      "cell_type": "code",
      "metadata": {
        "id": "YxZImC_qXM8v",
        "colab": {
          "base_uri": "https://localhost:8080/",
          "height": 343
        },
        "outputId": "8424f3b0-3468-4211-eefa-66b24f15df17"
      },
      "source": [
        "df.head(10)"
      ],
      "execution_count": null,
      "outputs": [
        {
          "output_type": "execute_result",
          "data": {
            "text/html": [
              "<div>\n",
              "<style scoped>\n",
              "    .dataframe tbody tr th:only-of-type {\n",
              "        vertical-align: middle;\n",
              "    }\n",
              "\n",
              "    .dataframe tbody tr th {\n",
              "        vertical-align: top;\n",
              "    }\n",
              "\n",
              "    .dataframe thead th {\n",
              "        text-align: right;\n",
              "    }\n",
              "</style>\n",
              "<table border=\"1\" class=\"dataframe\">\n",
              "  <thead>\n",
              "    <tr style=\"text-align: right;\">\n",
              "      <th></th>\n",
              "      <th>Subject</th>\n",
              "      <th>Folder</th>\n",
              "      <th>From</th>\n",
              "      <th>To</th>\n",
              "      <th>body</th>\n",
              "    </tr>\n",
              "  </thead>\n",
              "  <tbody>\n",
              "    <tr>\n",
              "      <th>0</th>\n",
              "      <td></td>\n",
              "      <td>'sent mail</td>\n",
              "      <td>Phillip K Allen</td>\n",
              "      <td>Tim Belden &lt;Tim Belden/Enron@EnronXGate&gt;</td>\n",
              "      <td>Here is our forecast\\n\\n</td>\n",
              "    </tr>\n",
              "    <tr>\n",
              "      <th>1</th>\n",
              "      <td>Re:</td>\n",
              "      <td>'sent mail</td>\n",
              "      <td>Phillip K Allen</td>\n",
              "      <td>John J Lavorato &lt;John J Lavorato/ENRON@enronXg...</td>\n",
              "      <td>Traveling to have a business meeting takes the...</td>\n",
              "    </tr>\n",
              "    <tr>\n",
              "      <th>2</th>\n",
              "      <td>Re: test</td>\n",
              "      <td>'sent mail</td>\n",
              "      <td>Phillip K Allen</td>\n",
              "      <td>Leah Van Arsdall</td>\n",
              "      <td>test successful.  way to go!!!</td>\n",
              "    </tr>\n",
              "    <tr>\n",
              "      <th>3</th>\n",
              "      <td></td>\n",
              "      <td>'sent mail</td>\n",
              "      <td>Phillip K Allen</td>\n",
              "      <td>Randall L Gay</td>\n",
              "      <td>Randy,\\n\\n Can you send me a schedule of the s...</td>\n",
              "    </tr>\n",
              "    <tr>\n",
              "      <th>4</th>\n",
              "      <td>Re: Hello</td>\n",
              "      <td>'sent mail</td>\n",
              "      <td>Phillip K Allen</td>\n",
              "      <td>Greg Piper</td>\n",
              "      <td>Let's shoot for Tuesday at 11:45.</td>\n",
              "    </tr>\n",
              "    <tr>\n",
              "      <th>5</th>\n",
              "      <td>Re: Hello</td>\n",
              "      <td>'sent mail</td>\n",
              "      <td>Phillip K Allen</td>\n",
              "      <td>Greg Piper</td>\n",
              "      <td>Greg,\\n\\n How about either next Tuesday or Thu...</td>\n",
              "    </tr>\n",
              "    <tr>\n",
              "      <th>6</th>\n",
              "      <td></td>\n",
              "      <td>'sent mail</td>\n",
              "      <td>Phillip K Allen</td>\n",
              "      <td>david.l.johnson@enron.com, John Shafer</td>\n",
              "      <td>Please cc the following distribution list with...</td>\n",
              "    </tr>\n",
              "    <tr>\n",
              "      <th>7</th>\n",
              "      <td>Re: PRC review - phone calls</td>\n",
              "      <td>'sent mail</td>\n",
              "      <td>Phillip K Allen</td>\n",
              "      <td>Joyce Teixeira</td>\n",
              "      <td>any morning between 10 and 11:30</td>\n",
              "    </tr>\n",
              "    <tr>\n",
              "      <th>8</th>\n",
              "      <td>Re: High Speed Internet Access</td>\n",
              "      <td>'sent mail</td>\n",
              "      <td>Phillip K Allen</td>\n",
              "      <td>Mark Scott</td>\n",
              "      <td>1. login:  pallen pw: ke9davis\\n\\n I don't thi...</td>\n",
              "    </tr>\n",
              "    <tr>\n",
              "      <th>9</th>\n",
              "      <td>FW: fixed forward or other Collar floor gas pr...</td>\n",
              "      <td>'sent mail</td>\n",
              "      <td>Phillip K Allen</td>\n",
              "      <td>zimam@enron.com</td>\n",
              "      <td>---------------------- Forwarded by Phillip K ...</td>\n",
              "    </tr>\n",
              "  </tbody>\n",
              "</table>\n",
              "</div>"
            ],
            "text/plain": [
              "                                             Subject  ...                                               body\n",
              "0                                                     ...                          Here is our forecast\\n\\n \n",
              "1                                                Re:  ...  Traveling to have a business meeting takes the...\n",
              "2                                           Re: test  ...                     test successful.  way to go!!!\n",
              "3                                                     ...  Randy,\\n\\n Can you send me a schedule of the s...\n",
              "4                                          Re: Hello  ...                Let's shoot for Tuesday at 11:45.  \n",
              "5                                          Re: Hello  ...  Greg,\\n\\n How about either next Tuesday or Thu...\n",
              "6                                                     ...  Please cc the following distribution list with...\n",
              "7                       Re: PRC review - phone calls  ...                   any morning between 10 and 11:30\n",
              "8                     Re: High Speed Internet Access  ...  1. login:  pallen pw: ke9davis\\n\\n I don't thi...\n",
              "9  FW: fixed forward or other Collar floor gas pr...  ...  ---------------------- Forwarded by Phillip K ...\n",
              "\n",
              "[10 rows x 5 columns]"
            ]
          },
          "metadata": {
            "tags": []
          },
          "execution_count": 21
        }
      ]
    },
    {
      "cell_type": "code",
      "metadata": {
        "id": "hNhJHaujCZxU"
      },
      "source": [
        ""
      ],
      "execution_count": null,
      "outputs": []
    },
    {
      "cell_type": "code",
      "metadata": {
        "id": "379p8_-FCZtB"
      },
      "source": [
        ""
      ],
      "execution_count": null,
      "outputs": []
    },
    {
      "cell_type": "code",
      "metadata": {
        "id": "OKJaQkvENeps"
      },
      "source": [
        "df_try = df.copy(deep=True)"
      ],
      "execution_count": null,
      "outputs": []
    },
    {
      "cell_type": "code",
      "metadata": {
        "id": "vYA_FfxZdqaF"
      },
      "source": [
        "new = df_try['Folder'].value_counts()"
      ],
      "execution_count": null,
      "outputs": []
    },
    {
      "cell_type": "code",
      "metadata": {
        "colab": {
          "base_uri": "https://localhost:8080/"
        },
        "id": "UFqqfaXQd4Ms",
        "outputId": "c96bc099-9e67-45f8-c9b3-2cd8b69752c3"
      },
      "source": [
        "new.head(35)"
      ],
      "execution_count": null,
      "outputs": [
        {
          "output_type": "execute_result",
          "data": {
            "text/plain": [
              "all documents          128103\n",
              "discussion threads      58609\n",
              "sent                    58168\n",
              "deleted items           50987\n",
              "inbox                   41507\n",
              "sent items              37920\n",
              "notes inbox             36665\n",
              "'sent mail              30237\n",
              "untitled                 8957\n",
              "personal                 2642\n",
              "attachments              2026\n",
              "meetings                 1872\n",
              "calendar                 1732\n",
              "schedule crawler         1398\n",
              "logistics                1192\n",
              "tw-commercial group      1159\n",
              "california               1052\n",
              "bill williams iii        1022\n",
              "deal discrepancies        897\n",
              "management                802\n",
              "esvl                      715\n",
              "e-mail bin                614\n",
              "resumes                   609\n",
              "tufco                     609\n",
              "ces                       576\n",
              "online trading            573\n",
              "junk                      560\n",
              "junk file                 511\n",
              "ooc                       511\n",
              "genco-jv_ipo              486\n",
              "projects                  468\n",
              "archives                  448\n",
              "contacts                  437\n",
              "corporate                 421\n",
              "hr                        402\n",
              "Name: Folder, dtype: int64"
            ]
          },
          "metadata": {
            "tags": []
          },
          "execution_count": 130
        }
      ]
    },
    {
      "cell_type": "code",
      "metadata": {
        "id": "QZTd0W_pQx-P"
      },
      "source": [
        "df_logistics = df_try[df_try.Folder=='logistics']\n",
        "df_meetings = df_try[df_try.Folder=='meetings']\n",
        "df_online_trade = df_try[df_try.Folder=='online trading']\n",
        "df_corporate = df_try[df_try.Folder=='corporate']\n",
        "df_projects = df_try[df_try.Folder=='projects']\n",
        "\n",
        "df_sent = df_try[df_try.Folder=='sent']\n",
        "df_sent = df_sent.sample(n=5000)\n",
        "\n",
        "df_sent_mail = df_try[df_try.Folder==\"'sent mail\"]\n",
        "df_sent_mail = df_sent_mail.sample(n=1000)"
      ],
      "execution_count": null,
      "outputs": []
    },
    {
      "cell_type": "code",
      "metadata": {
        "id": "zGPSBHT7Sxqt"
      },
      "source": [
        "df_meetings = df_try[df_try.Folder=='meetings']"
      ],
      "execution_count": null,
      "outputs": []
    },
    {
      "cell_type": "code",
      "metadata": {
        "id": "dd2JInpVSyuX"
      },
      "source": [
        "df_online_trade = df_try[df_try.Folder=='online trading']"
      ],
      "execution_count": null,
      "outputs": []
    },
    {
      "cell_type": "code",
      "metadata": {
        "id": "0Hh81SOraTrK"
      },
      "source": [
        "df_corporate = df_try[df_try.Folder=='corporate']"
      ],
      "execution_count": null,
      "outputs": []
    },
    {
      "cell_type": "code",
      "metadata": {
        "id": "CwrZszWpMzSw"
      },
      "source": [
        "df_projects = df_try[df_try.Folder=='projects']"
      ],
      "execution_count": null,
      "outputs": []
    },
    {
      "cell_type": "code",
      "metadata": {
        "id": "mYWfVEhLSzW0"
      },
      "source": [
        "df_sent = df_try[df_try.Folder=='sent']\n",
        "df_sent = df_sent.sample(n=5000)"
      ],
      "execution_count": null,
      "outputs": []
    },
    {
      "cell_type": "code",
      "metadata": {
        "id": "WFFkdzk2S0Ud"
      },
      "source": [
        "df_sent_mail = df_try[df_try.Folder==\"'sent mail\"]\n",
        "df_sent_mail = df_sent_mail.sample(n=1000)"
      ],
      "execution_count": null,
      "outputs": []
    },
    {
      "cell_type": "code",
      "metadata": {
        "id": "hWsy_TMQnVAq"
      },
      "source": [
        "def preprocess_body(body):\n",
        "  column = []\n",
        "  for file in body:\n",
        "    column.append(file.lower())\n",
        "  return column"
      ],
      "execution_count": null,
      "outputs": []
    },
    {
      "cell_type": "code",
      "metadata": {
        "id": "EAjtrDtRQqA7"
      },
      "source": [
        "def remove_forwarded_message(body):\n",
        "  column = []\n",
        "  for file in body:\n",
        "   pattern = re.compile(r'[- ]*forwarded by[\\S\\s]*subject:[\\S\\t ]*')\n",
        "   column.append(re.sub(pattern,'',file))\n",
        "  return column"
      ],
      "execution_count": null,
      "outputs": []
    },
    {
      "cell_type": "code",
      "metadata": {
        "id": "I5Ynr-SRv_Ly"
      },
      "source": [
        "def remove_email(body):\n",
        "  column = []\n",
        "  for file in body:\n",
        "   pattern = re.compile(r'[a-zA-Z0-9._+-]+@[a-zA-Z0-9]+\\.[a-zA-Z.]+')\n",
        "   column.append(re.sub(pattern,' ',file))\n",
        "  return column\n",
        "  "
      ],
      "execution_count": null,
      "outputs": []
    },
    {
      "cell_type": "code",
      "metadata": {
        "id": "fk_N1OUYhtCo"
      },
      "source": [
        "def remove_url(body):\n",
        "  column = []\n",
        "  for file in body:\n",
        "   pattern = re.compile(r'(https?:)//(www.)?[a-zA-Z0-9.]+\\.[a-zA-Z0-9.]+')\n",
        "   column.append(re.sub(pattern,' ',file))\n",
        "  return column\n",
        "  "
      ],
      "execution_count": null,
      "outputs": []
    },
    {
      "cell_type": "code",
      "metadata": {
        "id": "9zSH3SgmRErk"
      },
      "source": [
        "def remove_repeating_words(body):\n",
        "  column = []\n",
        "  for file in body:\n",
        "   pattern = re.compile(r'[a-zA-Z]+(@|\\.)[a-zA-Z.]+')\n",
        "   column.append(re.sub(pattern,' ',file))\n",
        "  return column\n",
        "  "
      ],
      "execution_count": null,
      "outputs": []
    },
    {
      "cell_type": "code",
      "metadata": {
        "id": "SpBfYCJEHZcC"
      },
      "source": [
        "def change_contracted_words(body):\n",
        "  column = []\n",
        "  Apos_dict={\"'s\":\" is\",\"n't\":\" not\",\"'m\":\" am\",\"'ll\":\" will\",\n",
        "             \"'d\":\" would\",\"'ve\":\" have\",\"'re\":\" are\"}\n",
        "  \n",
        "  for file in body:\n",
        "    for key,value in Apos_dict.items():\n",
        "      if key in file:\n",
        "        file = file.replace(key,value)\n",
        "    column.append(file)\n",
        "  \n",
        "  return column"
      ],
      "execution_count": null,
      "outputs": []
    },
    {
      "cell_type": "code",
      "metadata": {
        "id": "9UckdTh_2EoA"
      },
      "source": [
        "def remove_spec_characters(body):\n",
        "  column = []\n",
        "  for file in body:\n",
        "   pattern = re.compile(r'(^\\w\\s)|(\\W)')\n",
        "   column.append(re.sub(pattern,' ',file))\n",
        "  return column\n",
        "  "
      ],
      "execution_count": null,
      "outputs": []
    },
    {
      "cell_type": "code",
      "metadata": {
        "id": "UazMIgqYFD9s"
      },
      "source": [
        "def remove_num(body):\n",
        "  column = []\n",
        "  for file in body:\n",
        "   pattern = re.compile(r'(\\d)')\n",
        "   column.append(re.sub(pattern,' ',file))\n",
        "  return column"
      ],
      "execution_count": null,
      "outputs": []
    },
    {
      "cell_type": "code",
      "metadata": {
        "id": "B3WGNw3MZClF"
      },
      "source": [
        "def remove_extra_spaces(body):\n",
        "  column = []\n",
        "  for file in body:\n",
        "   column.append(re.sub('( +)|(_+)',' ',file))\n",
        "  return column"
      ],
      "execution_count": null,
      "outputs": []
    },
    {
      "cell_type": "code",
      "metadata": {
        "id": "iidlU8x3vDnY"
      },
      "source": [
        "df_try['body'] = preprocess_body(df_try['body'])"
      ],
      "execution_count": null,
      "outputs": []
    },
    {
      "cell_type": "code",
      "metadata": {
        "id": "VKCFbxLbV43N"
      },
      "source": [
        "df_try['body'] = remove_forwarded_message(df_try['body'])"
      ],
      "execution_count": null,
      "outputs": []
    },
    {
      "cell_type": "code",
      "metadata": {
        "id": "nx6LGWli0cxe"
      },
      "source": [
        "df_try['body'] = remove_email(df_try['body'])"
      ],
      "execution_count": null,
      "outputs": []
    },
    {
      "cell_type": "code",
      "metadata": {
        "id": "XCeTOih7EYuP"
      },
      "source": [
        "df_try['body'] = remove_url(df_try['body'])"
      ],
      "execution_count": null,
      "outputs": []
    },
    {
      "cell_type": "code",
      "metadata": {
        "id": "wgYeLMrrRPrR"
      },
      "source": [
        "df_try['body'] = remove_repeating_words(df_try['body'])"
      ],
      "execution_count": null,
      "outputs": []
    },
    {
      "cell_type": "code",
      "metadata": {
        "id": "XrVQQ2SpPMJO"
      },
      "source": [
        "df_try['body'] = change_contracted_words(df_try['body'])"
      ],
      "execution_count": null,
      "outputs": []
    },
    {
      "cell_type": "code",
      "metadata": {
        "id": "05hBFllF98e9"
      },
      "source": [
        "df_try['body'] = remove_spec_characters(df_try['body'])"
      ],
      "execution_count": null,
      "outputs": []
    },
    {
      "cell_type": "code",
      "metadata": {
        "id": "3onCz20GFKmI"
      },
      "source": [
        "df_try['body'] = remove_num(df_try['body'])"
      ],
      "execution_count": null,
      "outputs": []
    },
    {
      "cell_type": "code",
      "metadata": {
        "id": "0lTZH-LsZTbY"
      },
      "source": [
        "df_try['body'] = remove_extra_spaces(df_try['body'])"
      ],
      "execution_count": null,
      "outputs": []
    },
    {
      "cell_type": "code",
      "metadata": {
        "id": "3m_XY8JYUXw9"
      },
      "source": [
        "df_try.head(10)"
      ],
      "execution_count": null,
      "outputs": []
    },
    {
      "cell_type": "code",
      "metadata": {
        "id": "kavYaWir8UAC"
      },
      "source": [
        "df_try.isnull().sum()"
      ],
      "execution_count": null,
      "outputs": []
    },
    {
      "cell_type": "code",
      "metadata": {
        "id": "_2N4r-roU0BR",
        "colab": {
          "base_uri": "https://localhost:8080/"
        },
        "outputId": "43deb35e-4839-4bf2-ffa3-c8ca5498e641"
      },
      "source": [
        "df_logistics['body'] = preprocess_body(df_logistics['body'])\n",
        "df_logistics['body'] = remove_forwarded_message(df_logistics['body'])\n",
        "df_logistics['body'] = remove_email(df_logistics['body'])\n",
        "df_logistics['body'] = remove_url(df_logistics['body'])\n",
        "df_logistics['body'] = remove_repeating_words(df_logistics['body'])\n",
        "df_logistics['body'] = change_contracted_words(df_logistics['body'])\n",
        "df_logistics['body'] = remove_spec_characters(df_logistics['body'])\n",
        "df_logistics['body'] = remove_num(df_logistics['body'])\n",
        "df_logistics['body'] = remove_extra_spaces(df_logistics['body'])"
      ],
      "execution_count": null,
      "outputs": [
        {
          "output_type": "stream",
          "text": [
            "/usr/local/lib/python3.7/dist-packages/pandas/core/frame.py:3607: SettingWithCopyWarning: \n",
            "A value is trying to be set on a copy of a slice from a DataFrame.\n",
            "Try using .loc[row_indexer,col_indexer] = value instead\n",
            "\n",
            "See the caveats in the documentation: https://pandas.pydata.org/pandas-docs/stable/user_guide/indexing.html#returning-a-view-versus-a-copy\n",
            "  self._set_item(key, value)\n"
          ],
          "name": "stderr"
        }
      ]
    },
    {
      "cell_type": "code",
      "metadata": {
        "id": "-irLMZLatIoQ",
        "colab": {
          "base_uri": "https://localhost:8080/"
        },
        "outputId": "1575432c-faa8-4ff9-f777-207305302b5f"
      },
      "source": [
        "df_online_trade['body'] = preprocess_body(df_online_trade['body'])\n",
        "df_online_trade['body'] = remove_forwarded_message(df_online_trade['body'])\n",
        "df_online_trade['body'] = remove_email(df_online_trade['body'])\n",
        "df_online_trade['body'] = remove_url(df_online_trade['body'])\n",
        "df_online_trade['body'] = remove_repeating_words(df_online_trade['body'])\n",
        "df_online_trade['body'] = change_contracted_words(df_online_trade['body'])\n",
        "df_online_trade['body'] = remove_spec_characters(df_online_trade['body'])\n",
        "df_online_trade['body'] = remove_num(df_online_trade['body'])\n",
        "df_online_trade['body'] = remove_extra_spaces(df_online_trade['body'])"
      ],
      "execution_count": null,
      "outputs": [
        {
          "output_type": "stream",
          "text": [
            "/usr/local/lib/python3.7/dist-packages/pandas/core/frame.py:3607: SettingWithCopyWarning: \n",
            "A value is trying to be set on a copy of a slice from a DataFrame.\n",
            "Try using .loc[row_indexer,col_indexer] = value instead\n",
            "\n",
            "See the caveats in the documentation: https://pandas.pydata.org/pandas-docs/stable/user_guide/indexing.html#returning-a-view-versus-a-copy\n",
            "  self._set_item(key, value)\n"
          ],
          "name": "stderr"
        }
      ]
    },
    {
      "cell_type": "code",
      "metadata": {
        "id": "Q5XwMqeNt2xe",
        "colab": {
          "base_uri": "https://localhost:8080/"
        },
        "outputId": "d2b4ccd0-9039-4efe-808d-7754855522f8"
      },
      "source": [
        "df_meetings['body'] = preprocess_body(df_meetings['body'])\n",
        "df_meetings['body'] = remove_forwarded_message(df_meetings['body'])\n",
        "df_meetings['body'] = remove_email(df_meetings['body'])\n",
        "df_meetings['body'] = remove_url(df_meetings['body'])\n",
        "df_meetings['body'] = remove_repeating_words(df_meetings['body'])\n",
        "df_meetings['body'] = change_contracted_words(df_meetings['body'])\n",
        "df_meetings['body'] = remove_spec_characters(df_meetings['body'])\n",
        "df_meetings['body'] = remove_num(df_meetings['body'])\n",
        "df_meetings['body'] = remove_extra_spaces(df_meetings['body'])"
      ],
      "execution_count": null,
      "outputs": [
        {
          "output_type": "stream",
          "text": [
            "/usr/local/lib/python3.7/dist-packages/pandas/core/frame.py:3607: SettingWithCopyWarning: \n",
            "A value is trying to be set on a copy of a slice from a DataFrame.\n",
            "Try using .loc[row_indexer,col_indexer] = value instead\n",
            "\n",
            "See the caveats in the documentation: https://pandas.pydata.org/pandas-docs/stable/user_guide/indexing.html#returning-a-view-versus-a-copy\n",
            "  self._set_item(key, value)\n"
          ],
          "name": "stderr"
        }
      ]
    },
    {
      "cell_type": "code",
      "metadata": {
        "id": "u2EdQ8yWXRwn"
      },
      "source": [
        "df_sent['body'] = preprocess_body(df_sent['body'])\n",
        "df_sent['body'] = remove_forwarded_message(df_sent['body'])\n",
        "df_sent['body'] = remove_email(df_sent['body'])\n",
        "df_sent['body'] = remove_url(df_sent['body'])\n",
        "df_sent['body'] = remove_repeating_words(df_sent['body'])\n",
        "df_sent['body'] = change_contracted_words(df_sent['body'])\n",
        "df_sent['body'] = remove_spec_characters(df_sent['body'])\n",
        "df_sent['body'] = remove_num(df_sent['body'])\n",
        "df_sent['body'] = remove_extra_spaces(df_sent['body'])"
      ],
      "execution_count": null,
      "outputs": []
    },
    {
      "cell_type": "code",
      "metadata": {
        "id": "EpTWMEYHXRoZ",
        "colab": {
          "base_uri": "https://localhost:8080/"
        },
        "outputId": "9f6782ab-229f-4685-8046-5412104b41d8"
      },
      "source": [
        "df_corporate['body'] = preprocess_body(df_corporate['body'])\n",
        "df_corporate['body'] = remove_forwarded_message(df_corporate['body'])\n",
        "df_corporate['body'] = remove_email(df_corporate['body'])\n",
        "df_corporate['body'] = remove_url(df_corporate['body'])\n",
        "df_corporate['body'] = remove_repeating_words(df_corporate['body'])\n",
        "df_corporate['body'] = change_contracted_words(df_corporate['body'])\n",
        "df_corporate['body'] = remove_spec_characters(df_corporate['body'])\n",
        "df_corporate['body'] = remove_num(df_corporate['body'])\n",
        "df_corporate['body'] = remove_extra_spaces(df_corporate['body'])"
      ],
      "execution_count": null,
      "outputs": [
        {
          "output_type": "stream",
          "text": [
            "/usr/local/lib/python3.7/dist-packages/pandas/core/frame.py:3607: SettingWithCopyWarning: \n",
            "A value is trying to be set on a copy of a slice from a DataFrame.\n",
            "Try using .loc[row_indexer,col_indexer] = value instead\n",
            "\n",
            "See the caveats in the documentation: https://pandas.pydata.org/pandas-docs/stable/user_guide/indexing.html#returning-a-view-versus-a-copy\n",
            "  self._set_item(key, value)\n"
          ],
          "name": "stderr"
        }
      ]
    },
    {
      "cell_type": "code",
      "metadata": {
        "id": "iptW6oLXM7gU"
      },
      "source": [
        "df_sent_mail['body'] = preprocess_body(df_sent_mail['body'])\n",
        "df_sent_mail['body'] = remove_forwarded_message(df_sent_mail['body'])\n",
        "df_sent_mail['body'] = remove_email(df_sent_mail['body'])\n",
        "df_sent_mail['body'] = remove_url(df_sent_mail['body'])\n",
        "df_sent_mail['body'] = remove_repeating_words(df_sent_mail['body'])\n",
        "df_sent_mail['body'] = change_contracted_words(df_sent_mail['body'])\n",
        "df_sent_mail['body'] = remove_spec_characters(df_sent_mail['body'])\n",
        "df_sent_mail['body'] = remove_num(df_sent_mail['body'])\n",
        "df_sent_mail['body'] = remove_extra_spaces(df_sent_mail['body'])"
      ],
      "execution_count": null,
      "outputs": []
    },
    {
      "cell_type": "code",
      "metadata": {
        "id": "niFfulVpM7xl",
        "colab": {
          "base_uri": "https://localhost:8080/"
        },
        "outputId": "5d58995e-c8e9-475e-ad02-36a72c48c723"
      },
      "source": [
        "df_projects['body'] = preprocess_body(df_projects['body'])\n",
        "df_projects['body'] = remove_forwarded_message(df_projects['body'])\n",
        "df_projects['body'] = remove_email(df_projects['body'])\n",
        "df_projects['body'] = remove_url(df_projects['body'])\n",
        "df_projects['body'] = remove_repeating_words(df_projects['body'])\n",
        "df_projects['body'] = change_contracted_words(df_projects['body'])\n",
        "df_projects['body'] = remove_spec_characters(df_projects['body'])\n",
        "df_projects['body'] = remove_num(df_projects['body'])\n",
        "df_projects['body'] = remove_extra_spaces(df_projects['body'])"
      ],
      "execution_count": null,
      "outputs": [
        {
          "output_type": "stream",
          "text": [
            "/usr/local/lib/python3.7/dist-packages/pandas/core/frame.py:3607: SettingWithCopyWarning: \n",
            "A value is trying to be set on a copy of a slice from a DataFrame.\n",
            "Try using .loc[row_indexer,col_indexer] = value instead\n",
            "\n",
            "See the caveats in the documentation: https://pandas.pydata.org/pandas-docs/stable/user_guide/indexing.html#returning-a-view-versus-a-copy\n",
            "  self._set_item(key, value)\n"
          ],
          "name": "stderr"
        }
      ]
    },
    {
      "cell_type": "code",
      "metadata": {
        "id": "Hj6HoGZEZ2y5"
      },
      "source": [
        "df_try = pd.concat([df_logistics,df_meetings], ignore_index=True)\n",
        "df_try = pd.concat([df_try,df_online_trade],ignore_index=True)\n",
        "df_try = pd.concat([df_try,df_sent],ignore_index=True)\n",
        "df_try = pd.concat([df_try,df_sent_mail],ignore_index=True)\n",
        "df_try = pd.concat([df_try,df_projects],ignore_index=True)\n",
        "df_try = pd.concat([df_try,df_corporate],ignore_index=True)"
      ],
      "execution_count": null,
      "outputs": []
    },
    {
      "cell_type": "code",
      "metadata": {
        "colab": {
          "base_uri": "https://localhost:8080/"
        },
        "id": "S8j9N5D-aPJJ",
        "outputId": "4a4fcf14-e962-4930-8769-54a879508c2b"
      },
      "source": [
        "df_try.shape"
      ],
      "execution_count": null,
      "outputs": [
        {
          "output_type": "execute_result",
          "data": {
            "text/plain": [
              "(10526, 5)"
            ]
          },
          "metadata": {
            "tags": []
          },
          "execution_count": 52
        }
      ]
    },
    {
      "cell_type": "code",
      "metadata": {
        "id": "dkr4IKHzVaA6"
      },
      "source": [
        ""
      ],
      "execution_count": null,
      "outputs": []
    },
    {
      "cell_type": "code",
      "metadata": {
        "id": "dVNdN6vQw3hn"
      },
      "source": [
        ""
      ],
      "execution_count": null,
      "outputs": []
    },
    {
      "cell_type": "code",
      "metadata": {
        "id": "nL9Mh2Lrw3eh"
      },
      "source": [
        ""
      ],
      "execution_count": null,
      "outputs": []
    },
    {
      "cell_type": "code",
      "metadata": {
        "id": "LjwY92Br8T4i"
      },
      "source": [
        "df_main = df_try.copy(deep = True)"
      ],
      "execution_count": null,
      "outputs": []
    },
    {
      "cell_type": "code",
      "metadata": {
        "colab": {
          "base_uri": "https://localhost:8080/"
        },
        "id": "iPC4olZ57ov3",
        "outputId": "6c8e771c-6a23-4306-bad1-e4992fd28369"
      },
      "source": [
        "df_main.shape"
      ],
      "execution_count": null,
      "outputs": [
        {
          "output_type": "execute_result",
          "data": {
            "text/plain": [
              "(10526, 5)"
            ]
          },
          "metadata": {
            "tags": []
          },
          "execution_count": 64
        }
      ]
    },
    {
      "cell_type": "code",
      "metadata": {
        "id": "TGq6OmDHU58w",
        "colab": {
          "base_uri": "https://localhost:8080/",
          "height": 195
        },
        "outputId": "72ee2c8e-358f-40c9-ce0c-2e62ee797d4d"
      },
      "source": [
        "df_main.head()"
      ],
      "execution_count": null,
      "outputs": [
        {
          "output_type": "execute_result",
          "data": {
            "text/html": [
              "<div>\n",
              "<style scoped>\n",
              "    .dataframe tbody tr th:only-of-type {\n",
              "        vertical-align: middle;\n",
              "    }\n",
              "\n",
              "    .dataframe tbody tr th {\n",
              "        vertical-align: top;\n",
              "    }\n",
              "\n",
              "    .dataframe thead th {\n",
              "        text-align: right;\n",
              "    }\n",
              "</style>\n",
              "<table border=\"1\" class=\"dataframe\">\n",
              "  <thead>\n",
              "    <tr style=\"text-align: right;\">\n",
              "      <th></th>\n",
              "      <th>body</th>\n",
              "    </tr>\n",
              "  </thead>\n",
              "  <tbody>\n",
              "    <tr>\n",
              "      <th>0</th>\n",
              "      <td>Here is our forecast\\n\\n</td>\n",
              "    </tr>\n",
              "    <tr>\n",
              "      <th>1</th>\n",
              "      <td>Traveling to have a business meeting takes the...</td>\n",
              "    </tr>\n",
              "    <tr>\n",
              "      <th>2</th>\n",
              "      <td>test successful.  way to go!!!</td>\n",
              "    </tr>\n",
              "    <tr>\n",
              "      <th>3</th>\n",
              "      <td>Randy,\\n\\n Can you send me a schedule of the s...</td>\n",
              "    </tr>\n",
              "    <tr>\n",
              "      <th>4</th>\n",
              "      <td>Let's shoot for Tuesday at 11:45.</td>\n",
              "    </tr>\n",
              "  </tbody>\n",
              "</table>\n",
              "</div>"
            ],
            "text/plain": [
              "                                                body\n",
              "0                          Here is our forecast\\n\\n \n",
              "1  Traveling to have a business meeting takes the...\n",
              "2                     test successful.  way to go!!!\n",
              "3  Randy,\\n\\n Can you send me a schedule of the s...\n",
              "4                Let's shoot for Tuesday at 11:45.  "
            ]
          },
          "metadata": {
            "tags": []
          },
          "execution_count": 136
        }
      ]
    },
    {
      "cell_type": "code",
      "metadata": {
        "id": "aAui5KlYABAc"
      },
      "source": [
        "df_main.body[2477]"
      ],
      "execution_count": null,
      "outputs": []
    },
    {
      "cell_type": "code",
      "metadata": {
        "id": "0W1u2ejTANNY",
        "colab": {
          "base_uri": "https://localhost:8080/",
          "height": 52
        },
        "outputId": "f14d1251-8e80-4b17-e610-cef168a7f924"
      },
      "source": [
        "df.body[2477]"
      ],
      "execution_count": null,
      "outputs": [
        {
          "output_type": "execute_result",
          "data": {
            "application/vnd.google.colaboratory.intrinsic+json": {
              "type": "string"
            },
            "text/plain": [
              "'Richard,\\n\\n Compare your california production to the numbers in the 2000 California Gas \\nReport.  It shows 410.  But again that might be just what the two utilities \\nreceive.'"
            ]
          },
          "metadata": {
            "tags": []
          },
          "execution_count": 67
        }
      ]
    },
    {
      "cell_type": "code",
      "metadata": {
        "id": "yu9R5Utu4oee"
      },
      "source": [
        "col = ['Subject','Folder','From','To']\n",
        "df_main = df_main.drop(columns = col, axis = 1)"
      ],
      "execution_count": null,
      "outputs": []
    },
    {
      "cell_type": "code",
      "metadata": {
        "id": "N-k0zdUc5MJ4"
      },
      "source": [
        "def body_tokenize(body):\n",
        "  columns = []\n",
        "  for file in body:\n",
        "    columns.append(word_tokenize(file))\n",
        "  return columns"
      ],
      "execution_count": null,
      "outputs": []
    },
    {
      "cell_type": "code",
      "metadata": {
        "id": "kPxfw-zPOu-8"
      },
      "source": [
        "df_main['body_tokens'] = body_tokenize(df_main['body'])\n",
        "data_words = df_main.body_tokens. values.tolist()"
      ],
      "execution_count": null,
      "outputs": []
    },
    {
      "cell_type": "code",
      "metadata": {
        "id": "M3qymwBNz4Yh"
      },
      "source": [
        "data_words = df_main.body_tokens. values.tolist()"
      ],
      "execution_count": null,
      "outputs": []
    },
    {
      "cell_type": "code",
      "metadata": {
        "id": "e8AmHaSPz4UV"
      },
      "source": [
        "data_words"
      ],
      "execution_count": null,
      "outputs": []
    },
    {
      "cell_type": "code",
      "metadata": {
        "id": "7Fg1Py-9_kn1"
      },
      "source": [
        "bigram = Phrases(data_words, min_count=5, threshold=100)\n",
        "trigram = Phrases(bigram[data_words], threshold=100)"
      ],
      "execution_count": null,
      "outputs": []
    },
    {
      "cell_type": "code",
      "metadata": {
        "id": "kYgEHeuk_qWK"
      },
      "source": [
        "bigram_mod = Phraser(bigram)\n",
        "trigram_mod = Phraser(trigram)"
      ],
      "execution_count": null,
      "outputs": []
    },
    {
      "cell_type": "code",
      "metadata": {
        "id": "7sXJnZRZ__NQ"
      },
      "source": [
        "print(trigram_mod[bigram_mod[data_words[1653]]])"
      ],
      "execution_count": null,
      "outputs": []
    },
    {
      "cell_type": "code",
      "metadata": {
        "id": "JUTchvyYFuQe"
      },
      "source": [
        "#Define functions for stopwords, bigrams, trigrams and lemmatization\n",
        "def remove_stopwords(texts):\n",
        "    return [[word for word in simple_preprocess(str(doc)) \n",
        "                    if word not in stop_words] for doc in texts]\n",
        "def make_bigrams(texts):\n",
        "    return [bigram_mod[doc] for doc in texts]\n",
        "def make_trigrams(texts):\n",
        "    return [trigram_mod[bigram_mod[doc]] for doc in texts]"
      ],
      "execution_count": null,
      "outputs": []
    },
    {
      "cell_type": "code",
      "metadata": {
        "id": "yBHkhSGEA8N6"
      },
      "source": [
        "def lemmatization(texts, allowed_postags=['NOUN', 'ADJ', 'VERB', 'ADV']):\n",
        "    \"\"\"https://spacy.io/api/annotation\"\"\"\n",
        "    texts_out = []\n",
        "    for sent in texts:\n",
        "        doc = nlp(\" \".join(sent))\n",
        "        texts_out.append([token.lemma_ for token in doc \n",
        "                                        if token.pos_ in allowed_postags])\n",
        "    return texts_out"
      ],
      "execution_count": null,
      "outputs": []
    },
    {
      "cell_type": "code",
      "metadata": {
        "id": "adajdVwIoB1V"
      },
      "source": [
        "# Initialize spacy 'en' model, keeping only tagger component (for efficiency)\n",
        "nlp = spacy.load('en', disable=['parser', 'ner'])"
      ],
      "execution_count": null,
      "outputs": []
    },
    {
      "cell_type": "code",
      "metadata": {
        "id": "iR6AAtG5dNHX"
      },
      "source": [
        "stop_words = set(stopwords.words('english'))\n",
        "data_words_nostops = remove_stopwords(data_words)\n",
        "data_words_bigrams = make_bigrams(data_words_nostops)\n",
        "data_lemmatized = lemmatization(data_words_bigrams, \n",
        "                                allowed_postags=['NOUN', 'ADJ', 'VERB', 'ADV'])"
      ],
      "execution_count": null,
      "outputs": []
    },
    {
      "cell_type": "code",
      "metadata": {
        "colab": {
          "base_uri": "https://localhost:8080/"
        },
        "id": "9sLwg95ErKWI",
        "outputId": "7b4726d9-8d4c-4dda-8afb-0e7724c106aa"
      },
      "source": [
        "print(data_lemmatized[1653])"
      ],
      "execution_count": null,
      "outputs": [
        {
          "output_type": "stream",
          "text": [
            "['event', 'description', 'date']\n"
          ],
          "name": "stdout"
        }
      ]
    },
    {
      "cell_type": "code",
      "metadata": {
        "id": "yG7JxQQ6p3gv"
      },
      "source": [
        "# create dictionary and corpus both are needed for (LDA) topic modeling\n",
        "\n",
        "# Create Dictionary\n",
        "id2word = corpora.Dictionary(data_lemmatized)\n",
        "\n",
        "# Create Corpus\n",
        "texts = data_lemmatized\n",
        "\n",
        "# Term Document Frequency\n",
        "corpus = [id2word.doc2bow(text) for text in texts]"
      ],
      "execution_count": null,
      "outputs": []
    },
    {
      "cell_type": "code",
      "metadata": {
        "id": "9kMuAQdup3fD"
      },
      "source": [
        "#!wget http://mallet.cs.umass.edu/dist/mallet-2.0.8.zip"
      ],
      "execution_count": null,
      "outputs": []
    },
    {
      "cell_type": "code",
      "metadata": {
        "id": "mG47DwTZp3Zb"
      },
      "source": [
        "#!unzip mallet-2.0.8.zip"
      ],
      "execution_count": null,
      "outputs": []
    },
    {
      "cell_type": "code",
      "metadata": {
        "id": "lIEmXphTqTkw"
      },
      "source": [
        "mallet_path = './mallet-2.0.8/bin/mallet'"
      ],
      "execution_count": null,
      "outputs": []
    },
    {
      "cell_type": "code",
      "metadata": {
        "id": "WNNLPFNup3WT"
      },
      "source": [
        "# Build LDA model\n",
        "lda_model = gensim.models.ldamodel.LdaModel(corpus=corpus,\n",
        "                                           id2word=id2word,\n",
        "                                           num_topics=10,\n",
        "                                           random_state=100,\n",
        "                                           update_every=1,\n",
        "                                           chunksize=100,\n",
        "                                           passes=10,\n",
        "                                           alpha='auto',\n",
        "                                           per_word_topics=True)"
      ],
      "execution_count": null,
      "outputs": []
    },
    {
      "cell_type": "code",
      "metadata": {
        "id": "E4NuQGdZp3UH"
      },
      "source": [
        "# topic modeling\n",
        "# corpus, dictionary and number of topics required for LDA\n",
        "# alpha and eta are hyperparameters that affect sparsity of the topics\n",
        "# chunksize is the number of documents to be used in each training chunk\n",
        "# update_every determines how often the model parameters should be updated\n",
        "# passes is the total number of training passes\n",
        "# Print the Keyword in the 10 topics"
      ],
      "execution_count": null,
      "outputs": []
    },
    {
      "cell_type": "code",
      "metadata": {
        "colab": {
          "base_uri": "https://localhost:8080/"
        },
        "id": "TuPHexxqp3R0",
        "outputId": "637c62f6-917f-4586-db78-842ec20de592"
      },
      "source": [
        "print(lda_model.print_topics())# The weights reflect how important a keyword is to that topic."
      ],
      "execution_count": null,
      "outputs": [
        {
          "output_type": "stream",
          "text": [
            "[(0, '0.025*\"people\" + 0.020*\"keep\" + 0.017*\"move\" + 0.017*\"way\" + 0.016*\"world\" + 0.015*\"site\" + 0.014*\"learn\" + 0.014*\"facility\" + 0.014*\"manage\" + 0.014*\"important\"'), (1, '0.041*\"would\" + 0.027*\"thank\" + 0.024*\"know\" + 0.024*\"need\" + 0.023*\"question\" + 0.022*\"work\" + 0.020*\"help\" + 0.018*\"call\" + 0.017*\"make\" + 0.017*\"want\"'), (2, '0.102*\"employee\" + 0.076*\"time\" + 0.034*\"meeting\" + 0.028*\"meet\" + 0.028*\"schedule\" + 0.023*\"volunteer\" + 0.023*\"date\" + 0.016*\"plan\" + 0.016*\"participate\" + 0.015*\"attend\"'), (3, '0.038*\"year\" + 0.030*\"continue\" + 0.023*\"report\" + 0.019*\"support\" + 0.018*\"model\" + 0.015*\"risk\" + 0.015*\"process\" + 0.014*\"effort\" + 0.014*\"benefit\" + 0.013*\"team\"'), (4, '0.037*\"price\" + 0.030*\"deal\" + 0.026*\"day\" + 0.026*\"contract\" + 0.026*\"gas\" + 0.024*\"ticket\" + 0.022*\"month\" + 0.021*\"run\" + 0.020*\"unit\" + 0.019*\"pay\"'), (5, '0.020*\"go\" + 0.017*\"come\" + 0.016*\"well\" + 0.014*\"year\" + 0.011*\"enjoy\" + 0.011*\"game\" + 0.011*\"child\" + 0.010*\"feel\" + 0.009*\"fax\" + 0.009*\"draft\"'), (6, '0.033*\"cost\" + 0.023*\"value\" + 0.022*\"free\" + 0.021*\"state\" + 0.020*\"high\" + 0.020*\"rate\" + 0.019*\"increase\" + 0.017*\"plant\" + 0.017*\"bring\" + 0.016*\"expect\"'), (7, '0.025*\"information\" + 0.015*\"business\" + 0.013*\"include\" + 0.012*\"contact\" + 0.012*\"new\" + 0.012*\"available\" + 0.012*\"group\" + 0.011*\"provide\" + 0.011*\"good\" + 0.010*\"follow\"'), (8, '0.053*\"power\" + 0.053*\"event\" + 0.028*\"family\" + 0.023*\"build\" + 0.022*\"become\" + 0.022*\"consider\" + 0.018*\"director\" + 0.016*\"product\" + 0.016*\"building\" + 0.016*\"season\"'), (9, '0.068*\"company\" + 0.044*\"market\" + 0.027*\"say\" + 0.026*\"service\" + 0.024*\"stock\" + 0.023*\"energy\" + 0.022*\"customer\" + 0.022*\"dynegy\" + 0.021*\"offer\" + 0.016*\"right\"')]\n"
          ],
          "name": "stdout"
        }
      ]
    },
    {
      "cell_type": "code",
      "metadata": {
        "id": "T7huPGllTXlz"
      },
      "source": [
        "topics = lda_model.print_topics()"
      ],
      "execution_count": null,
      "outputs": []
    },
    {
      "cell_type": "code",
      "metadata": {
        "colab": {
          "base_uri": "https://localhost:8080/"
        },
        "id": "2NQHXqFheKC0",
        "outputId": "75d9f9ab-5826-468c-eb4e-05a4bd5a0951"
      },
      "source": [
        "topics[0]\n",
        "# 1 Project management"
      ],
      "execution_count": null,
      "outputs": [
        {
          "output_type": "execute_result",
          "data": {
            "text/plain": [
              "(0,\n",
              " '0.025*\"people\" + 0.020*\"keep\" + 0.017*\"move\" + 0.017*\"way\" + 0.016*\"world\" + 0.015*\"site\" + 0.014*\"learn\" + 0.014*\"facility\" + 0.014*\"manage\" + 0.014*\"important\"')"
            ]
          },
          "metadata": {
            "tags": []
          },
          "execution_count": 120
        }
      ]
    },
    {
      "cell_type": "code",
      "metadata": {
        "colab": {
          "base_uri": "https://localhost:8080/"
        },
        "id": "TI6DCOZFe_JT",
        "outputId": "34b98c15-cbb5-49b4-9f18-921efee4d5c6"
      },
      "source": [
        "topics[1]\n",
        "# 2 Employee appreciation/query"
      ],
      "execution_count": null,
      "outputs": [
        {
          "output_type": "execute_result",
          "data": {
            "text/plain": [
              "(1,\n",
              " '0.041*\"would\" + 0.027*\"thank\" + 0.024*\"know\" + 0.024*\"need\" + 0.023*\"question\" + 0.022*\"work\" + 0.020*\"help\" + 0.018*\"call\" + 0.017*\"make\" + 0.017*\"want\"')"
            ]
          },
          "metadata": {
            "tags": []
          },
          "execution_count": 93
        }
      ]
    },
    {
      "cell_type": "code",
      "metadata": {
        "colab": {
          "base_uri": "https://localhost:8080/"
        },
        "id": "GNW9Ykowe_A-",
        "outputId": "e5c730ea-b880-42fe-dbe0-8d8d872a57cd"
      },
      "source": [
        "topics[2]\n",
        "# 3 Meeting plan"
      ],
      "execution_count": null,
      "outputs": [
        {
          "output_type": "execute_result",
          "data": {
            "text/plain": [
              "(2,\n",
              " '0.102*\"employee\" + 0.076*\"time\" + 0.034*\"meeting\" + 0.028*\"meet\" + 0.028*\"schedule\" + 0.023*\"volunteer\" + 0.023*\"date\" + 0.016*\"plan\" + 0.016*\"participate\" + 0.015*\"attend\"')"
            ]
          },
          "metadata": {
            "tags": []
          },
          "execution_count": 94
        }
      ]
    },
    {
      "cell_type": "code",
      "metadata": {
        "colab": {
          "base_uri": "https://localhost:8080/"
        },
        "id": "ufDOojBfe-4o",
        "outputId": "10ffbad4-2b78-46a5-d391-39729232a5bc"
      },
      "source": [
        "topics[3]\n",
        "# 4 Proposistion analysis"
      ],
      "execution_count": null,
      "outputs": [
        {
          "output_type": "execute_result",
          "data": {
            "text/plain": [
              "(3,\n",
              " '0.038*\"year\" + 0.030*\"continue\" + 0.023*\"report\" + 0.019*\"support\" + 0.018*\"model\" + 0.015*\"risk\" + 0.015*\"process\" + 0.014*\"effort\" + 0.014*\"benefit\" + 0.013*\"team\"')"
            ]
          },
          "metadata": {
            "tags": []
          },
          "execution_count": 95
        }
      ]
    },
    {
      "cell_type": "code",
      "metadata": {
        "colab": {
          "base_uri": "https://localhost:8080/"
        },
        "id": "pFeG_Bede-qV",
        "outputId": "9c20c394-17d6-4dc1-a176-dfcab6c145bb"
      },
      "source": [
        "topics[4]\n",
        "# 5 Gas service request"
      ],
      "execution_count": null,
      "outputs": [
        {
          "output_type": "execute_result",
          "data": {
            "text/plain": [
              "(4,\n",
              " '0.037*\"price\" + 0.030*\"deal\" + 0.026*\"day\" + 0.026*\"contract\" + 0.026*\"gas\" + 0.024*\"ticket\" + 0.022*\"month\" + 0.021*\"run\" + 0.020*\"unit\" + 0.019*\"pay\"')"
            ]
          },
          "metadata": {
            "tags": []
          },
          "execution_count": 96
        }
      ]
    },
    {
      "cell_type": "code",
      "metadata": {
        "colab": {
          "base_uri": "https://localhost:8080/"
        },
        "id": "MJhJc8iSe-hr",
        "outputId": "a9159d4f-efb6-470d-9f71-73caaf75278f"
      },
      "source": [
        "topics[5]\n",
        "# 6 Entertainment "
      ],
      "execution_count": null,
      "outputs": [
        {
          "output_type": "execute_result",
          "data": {
            "text/plain": [
              "(5,\n",
              " '0.020*\"go\" + 0.017*\"come\" + 0.016*\"well\" + 0.014*\"year\" + 0.011*\"enjoy\" + 0.011*\"game\" + 0.011*\"child\" + 0.010*\"feel\" + 0.009*\"fax\" + 0.009*\"draft\"')"
            ]
          },
          "metadata": {
            "tags": []
          },
          "execution_count": 97
        }
      ]
    },
    {
      "cell_type": "code",
      "metadata": {
        "colab": {
          "base_uri": "https://localhost:8080/"
        },
        "id": "xrSog_4ne-aJ",
        "outputId": "4b4c8bd3-0810-457f-952d-7e7a477c2287"
      },
      "source": [
        "topics[6]\n",
        "# 7 Bank Offers"
      ],
      "execution_count": null,
      "outputs": [
        {
          "output_type": "execute_result",
          "data": {
            "text/plain": [
              "(6,\n",
              " '0.033*\"cost\" + 0.023*\"value\" + 0.022*\"free\" + 0.021*\"state\" + 0.020*\"high\" + 0.020*\"rate\" + 0.019*\"increase\" + 0.017*\"plant\" + 0.017*\"bring\" + 0.016*\"expect\"')"
            ]
          },
          "metadata": {
            "tags": []
          },
          "execution_count": 98
        }
      ]
    },
    {
      "cell_type": "code",
      "metadata": {
        "colab": {
          "base_uri": "https://localhost:8080/"
        },
        "id": "WffO29kCe-Sd",
        "outputId": "96e2f158-d2f7-4d5a-a5b3-945567c8d9c6"
      },
      "source": [
        "topics[7]\n",
        "# 8 Analysing a office event"
      ],
      "execution_count": null,
      "outputs": [
        {
          "output_type": "execute_result",
          "data": {
            "text/plain": [
              "(7,\n",
              " '0.025*\"information\" + 0.015*\"business\" + 0.013*\"include\" + 0.012*\"contact\" + 0.012*\"new\" + 0.012*\"available\" + 0.012*\"group\" + 0.011*\"provide\" + 0.011*\"good\" + 0.010*\"follow\"')"
            ]
          },
          "metadata": {
            "tags": []
          },
          "execution_count": 99
        }
      ]
    },
    {
      "cell_type": "code",
      "metadata": {
        "colab": {
          "base_uri": "https://localhost:8080/"
        },
        "id": "IEp43AxWe-Jh",
        "outputId": "cb6e061f-f69e-412c-bb7a-50caa3efb209"
      },
      "source": [
        "topics[8]\n",
        "#  9 Week/Month/Year meeting"
      ],
      "execution_count": null,
      "outputs": [
        {
          "output_type": "execute_result",
          "data": {
            "text/plain": [
              "(8,\n",
              " '0.053*\"power\" + 0.053*\"event\" + 0.028*\"family\" + 0.023*\"build\" + 0.022*\"become\" + 0.022*\"consider\" + 0.018*\"director\" + 0.016*\"product\" + 0.016*\"building\" + 0.016*\"season\"')"
            ]
          },
          "metadata": {
            "tags": []
          },
          "execution_count": 100
        }
      ]
    },
    {
      "cell_type": "code",
      "metadata": {
        "colab": {
          "base_uri": "https://localhost:8080/"
        },
        "id": "omrqimeWe-BL",
        "outputId": "29482b83-acd2-4304-c461-275331c02887"
      },
      "source": [
        "topics[9]\n",
        "# 10 Exchange Market"
      ],
      "execution_count": null,
      "outputs": [
        {
          "output_type": "execute_result",
          "data": {
            "text/plain": [
              "(9,\n",
              " '0.068*\"company\" + 0.044*\"market\" + 0.027*\"say\" + 0.026*\"service\" + 0.024*\"stock\" + 0.023*\"energy\" + 0.022*\"customer\" + 0.022*\"dynegy\" + 0.021*\"offer\" + 0.016*\"right\"')"
            ]
          },
          "metadata": {
            "tags": []
          },
          "execution_count": 101
        }
      ]
    },
    {
      "cell_type": "code",
      "metadata": {
        "id": "ZZFI_fnSe93D"
      },
      "source": [
        ""
      ],
      "execution_count": null,
      "outputs": []
    },
    {
      "cell_type": "code",
      "metadata": {
        "colab": {
          "base_uri": "https://localhost:8080/"
        },
        "id": "3pBUh6e4DSGq",
        "outputId": "41b73522-191e-47ad-f1e7-a11e2da3ba87"
      },
      "source": [
        "# Model perplexity and topic coherence provide a convenient\n",
        "# measure to judge how good a given topic model is.\n",
        "# Compute Perplexity\n",
        "# a measure of how good the model is. lower the better.\n",
        "print('\\nPerplexity: ', lda_model.log_perplexity(corpus))  "
      ],
      "execution_count": null,
      "outputs": [
        {
          "output_type": "stream",
          "text": [
            "\n",
            "Perplexity:  -7.880528126307022\n"
          ],
          "name": "stdout"
        }
      ]
    },
    {
      "cell_type": "code",
      "metadata": {
        "id": "T1pGc6qMDSD_",
        "colab": {
          "base_uri": "https://localhost:8080/"
        },
        "outputId": "fc7bb602-7740-4c74-f06d-a3139877269d"
      },
      "source": [
        "# Compute Coherence Score\n",
        "coherence_model_lda = CoherenceModel(model=lda_model, texts=data_lemmatized, \n",
        "                                     dictionary=id2word, coherence='c_v')\n",
        "coherence_lda = coherence_model_lda.get_coherence()\n",
        "print('\\nCoherence Score: ', coherence_lda)"
      ],
      "execution_count": null,
      "outputs": [
        {
          "output_type": "stream",
          "text": [
            "\n",
            "Coherence Score:  0.3561569551140615\n"
          ],
          "name": "stdout"
        }
      ]
    },
    {
      "cell_type": "code",
      "metadata": {
        "id": "wQ6rYw8TCH6I",
        "colab": {
          "base_uri": "https://localhost:8080/"
        },
        "outputId": "e2ca60a1-5cc0-494f-b4d1-ca83a5675056"
      },
      "source": [
        "# Visualize the topics\n",
        "pyLDAvis.enable_notebook(sort=True)\n",
        "vis = pyLDAvis.gensim_models.prepare(lda_model, corpus, id2word)"
      ],
      "execution_count": null,
      "outputs": [
        {
          "output_type": "stream",
          "text": [
            "/usr/local/lib/python3.7/dist-packages/pyLDAvis/_prepare.py:247: FutureWarning: In a future version of pandas all arguments of DataFrame.drop except for the argument 'labels' will be keyword-only\n",
            "  by='saliency', ascending=False).head(R).drop('saliency', 1)\n"
          ],
          "name": "stderr"
        }
      ]
    },
    {
      "cell_type": "code",
      "metadata": {
        "id": "t0mYn_17CH2v",
        "colab": {
          "base_uri": "https://localhost:8080/",
          "height": 860
        },
        "outputId": "dcb5457d-4df7-4109-cab5-eb5d53dcf72c"
      },
      "source": [
        "pyLDAvis.display(vis)"
      ],
      "execution_count": null,
      "outputs": [
        {
          "output_type": "execute_result",
          "data": {
            "text/html": [
              "\n",
              "<link rel=\"stylesheet\" type=\"text/css\" href=\"https://cdn.jsdelivr.net/gh/bmabey/pyLDAvis@3.3.1/pyLDAvis/js/ldavis.v1.0.0.css\">\n",
              "\n",
              "\n",
              "<div id=\"ldavis_el1991405527166802725575912863\"></div>\n",
              "<script type=\"text/javascript\">\n",
              "\n",
              "var ldavis_el1991405527166802725575912863_data = {\"mdsDat\": {\"x\": [-0.23274633543608855, -0.10908100772149662, -0.1148992958557081, -0.1290751851237489, -0.11354074188432546, -0.02890350311958592, 0.18670216505926635, 0.12590839418062993, 0.22416345920562114, 0.19147205069543585], \"y\": [-0.10986043791540732, -0.12163354312342754, 0.06234208480530178, -0.10886372515291066, 0.12271033935086567, 0.323624303557938, 0.0732023920791218, -0.1784116685746394, -0.04769860813474524, -0.015411136892097058], \"topics\": [1, 2, 3, 4, 5, 6, 7, 8, 9, 10], \"cluster\": [1, 1, 1, 1, 1, 1, 1, 1, 1, 1], \"Freq\": [20.409190891561817, 11.984653908019528, 11.781961726405656, 11.635741319095818, 11.365780830769541, 8.138519465305208, 7.525533741858359, 6.76471639768999, 5.926288260528553, 4.467613458765533]}, \"tinfo\": {\"Term\": [\"time\", \"thank\", \"know\", \"call\", \"power\", \"agreement\", \"date\", \"work\", \"go\", \"would\", \"price\", \"deal\", \"let\", \"get\", \"market\", \"think\", \"attach\", \"meeting\", \"request\", \"good\", \"gas\", \"issue\", \"send\", \"mail\", \"change\", \"want\", \"need\", \"contract\", \"may\", \"say\", \"know\", \"go\", \"deal\", \"let\", \"get\", \"think\", \"want\", \"come\", \"help\", \"look\", \"today\", \"back\", \"still\", \"much\", \"talk\", \"set\", \"tell\", \"put\", \"soon\", \"start\", \"hear\", \"check\", \"guy\", \"do\", \"move\", \"write\", \"kay\", \"sure\", \"ticket\", \"nee\", \"thank\", \"subject\", \"ask\", \"see\", \"leave\", \"need\", \"could\", \"would\", \"send\", \"make\", \"last\", \"take\", \"also\", \"give\", \"say\", \"mail\", \"project\", \"plan\", \"address\", \"people\", \"option\", \"process\", \"cost\", \"draft\", \"require\", \"letter\", \"sign\", \"home\", \"position\", \"application\", \"legal\", \"access\", \"site\", \"later\", \"lunch\", \"manager\", \"operation\", \"cc\", \"page\", \"equipment\", \"learn\", \"delete\", \"respond\", \"specific\", \"interested\", \"business\", \"name\", \"system\", \"include\", \"provide\", \"use\", \"must\", \"also\", \"new\", \"information\", \"price\", \"issue\", \"schedule\", \"month\", \"try\", \"thing\", \"keep\", \"production\", \"term\", \"able\", \"volume\", \"confirm\", \"long\", \"due\", \"hour\", \"shall\", \"financial\", \"expect\", \"feel\", \"afternoon\", \"trader\", \"fix\", \"section\", \"period\", \"determine\", \"total\", \"submit\", \"remember\", \"turn\", \"settlement\", \"contract\", \"point\", \"capacity\", \"year\", \"day\", \"counterparty\", \"transaction\", \"change\", \"pay\", \"well\", \"make\", \"first\", \"call\", \"good\", \"message\", \"week\", \"discuss\", \"like\", \"tomorrow\", \"available\", \"morning\", \"facility\", \"attend\", \"communication\", \"early\", \"bring\", \"weekend\", \"conference\", \"speak\", \"propose\", \"phone\", \"maybe\", \"confidential\", \"begin\", \"presentation\", \"discussion\", \"free\", \"support\", \"present\", \"involve\", \"datum\", \"purpose\", \"email\", \"work\", \"future\", \"contact\", \"regard\", \"information\", \"high\", \"may\", \"question\", \"would\", \"give\", \"hold\", \"market\", \"energy\", \"company\", \"right\", \"find\", \"believe\", \"run\", \"offer\", \"customer\", \"state\", \"rate\", \"sell\", \"amount\", \"second\", \"really\", \"part\", \"delivery\", \"transmission\", \"employee\", \"miss\", \"together\", \"enter\", \"sale\", \"entity\", \"answer\", \"actually\", \"allow\", \"utility\", \"post\", \"error\", \"purchase\", \"ca\", \"gas\", \"understand\", \"order\", \"may\", \"base\", \"follow\", \"receive\", \"attach\", \"request\", \"comment\", \"list\", \"review\", \"document\", \"trading\", \"form\", \"file\", \"book\", \"payment\", \"interest\", \"trade\", \"compression\", \"fax\", \"prepare\", \"detail\", \"approve\", \"original\", \"approval\", \"read\", \"recent\", \"storage\", \"potential\", \"behalf\", \"closing\", \"cash\", \"print\", \"locate\", \"hand\", \"agreement\", \"copy\", \"lawyer\", \"receive\", \"change\", \"send\", \"question\", \"note\", \"current\", \"risk\", \"game\", \"credit\", \"value\", \"continue\", \"increase\", \"job\", \"view\", \"visit\", \"plant\", \"structure\", \"electricity\", \"limit\", \"generation\", \"industry\", \"full\", \"room\", \"serve\", \"consider\", \"producer\", \"demand\", \"weather\", \"respect\", \"network\", \"research\", \"fact\", \"build\", \"focus\", \"top\", \"rather\", \"service\", \"say\", \"addition\", \"pm\", \"night\", \"love\", \"little\", \"party\", \"play\", \"late\", \"exist\", \"friend\", \"phone_fax\", \"even\", \"life\", \"lot\", \"join\", \"pick\", \"drive\", \"load\", \"story\", \"boy\", \"pretty\", \"realize\", \"sorry\", \"man\", \"family\", \"school\", \"mom\", \"child\", \"other\", \"watch\", \"girl\", \"money\", \"way\", \"shay\", \"well\", \"year\", \"mean\", \"take\", \"many\", \"meeting\", \"team\", \"report\", \"meet\", \"office\", \"hope\", \"notice\", \"staff\", \"final\", \"assignment\", \"dinner\", \"invite\", \"member\", \"supply\", \"finance\", \"performance\", \"ready\", \"lead\", \"model\", \"direct\", \"ee\", \"student\", \"management\", \"sheet\", \"trip\", \"floor\", \"decision\", \"standard\", \"past\", \"commoditylogic\", \"update\", \"group\", \"development\", \"opportunity\", \"event\", \"time\", \"power\", \"date\", \"product\", \"version\", \"curve\", \"sit\", \"interview\", \"memo\", \"test\", \"filing\", \"package\", \"natural_gas\", \"description\", \"consumer\", \"flight\", \"hearing\", \"progress\", \"building\", \"code\", \"cancel\", \"avoid\", \"doctor\", \"desire\", \"core\", \"weekly\", \"birthday\", \"factory\", \"portfolio\", \"flexible\", \"source\", \"event\", \"deliver\", \"effort\"], \"Freq\": [2680.0, 3689.0, 2951.0, 2052.0, 1305.0, 1642.0, 1187.0, 1788.0, 2176.0, 4113.0, 1534.0, 2042.0, 1983.0, 1902.0, 1356.0, 1836.0, 1134.0, 980.0, 1081.0, 1230.0, 1434.0, 1221.0, 1779.0, 1142.0, 1465.0, 1509.0, 2059.0, 1250.0, 2178.0, 1295.0, 2951.0614133880786, 2175.6112379992087, 2041.9897135971937, 1983.1547095516012, 1902.090982822735, 1835.8912083944035, 1508.5135071682143, 1047.8633761605986, 992.0709670619017, 949.2264601160385, 832.5506065150821, 756.5382847210636, 726.4395573189262, 679.6294047823575, 661.3144254912361, 638.5710120211971, 635.4025957501317, 576.859189661501, 537.2675573626522, 521.8930289141804, 491.30844929039876, 487.31992053287627, 465.2412377935423, 441.2424985476484, 415.32893632703735, 396.1420867241979, 391.6108948545426, 375.7876542138503, 356.9907207799747, 350.1284416408083, 3623.8796471767155, 1396.2792979024136, 691.9520983932317, 1523.5499855529524, 560.1214164012396, 1769.5574555508917, 1258.3446213953189, 2422.5027056654126, 1138.067015086698, 1148.1172008913795, 744.5794118065844, 851.227096529923, 817.7308324419665, 776.3677398475754, 701.4094152734108, 1142.25049558922, 830.1482711790795, 749.7632612683627, 655.9256577039189, 651.409710209607, 643.5421230055262, 563.442138963789, 538.9574672973937, 535.5408447415292, 504.9607990671124, 459.552413965956, 430.8499189778447, 428.577130159123, 388.02262030770765, 378.7182466924033, 369.30179568305033, 345.72652355266865, 341.2958421998579, 334.286087909302, 323.5814674870365, 281.2256017737492, 273.0208074328846, 268.8989747536886, 268.3128786535328, 252.4441566546184, 251.19163666999435, 247.32566599929947, 244.7935392468452, 239.85348648496318, 239.08706616609234, 798.7279417746234, 700.9004423271167, 515.6729647904901, 737.3210597343561, 762.7507591703876, 808.1481230452004, 321.5610435569184, 545.8158492830528, 398.711302341107, 384.85541658186645, 1533.6050992227736, 1220.6987592917744, 843.4658772369758, 749.4909110373862, 687.0328767210234, 597.4495997982648, 529.4462170289017, 526.3312039015119, 523.6032858502467, 476.7504046554884, 473.3696048561722, 399.57063077320726, 395.0896791804049, 394.31157182101197, 393.77558120101884, 386.7377351539388, 345.16424905058864, 327.49591542824163, 326.39978502293997, 313.6608815389066, 275.1804055270766, 261.2661315379191, 259.29117154273746, 256.5948828555351, 248.55491937459675, 246.36749256429815, 238.92771606084784, 230.72281315571942, 230.01273601613198, 209.67580502729365, 1114.6712134703796, 538.9757818709787, 429.43220925898504, 725.5696104950204, 868.7282794845678, 267.4058536663168, 459.39055109568994, 801.569513251204, 394.0669964090434, 421.4235209265699, 550.4255283168533, 392.88483330004277, 2051.8657502684873, 1229.340506699084, 842.0524170256257, 788.7100409663105, 740.0208409151692, 562.4286153281047, 558.3829318114103, 544.1386506842163, 439.255057625921, 380.15189459554375, 368.0213054180755, 358.69050718941554, 349.4239522897442, 348.88206125015927, 347.1769585190101, 342.7014908353541, 331.7360476457105, 293.22169863182995, 290.65420843284585, 252.2024565383705, 250.67074083158306, 244.95499827024423, 244.0782887790346, 242.04795676708343, 241.040764588777, 234.35962299492792, 227.0816275390313, 224.61114023974358, 219.98082596715784, 204.82551187894214, 769.0591548599027, 1717.7507239987012, 271.78965491152417, 571.3751882400209, 707.8512717220286, 805.5150422555773, 390.8322965958379, 1069.6240182695083, 688.7386549941224, 1320.509980426489, 613.1294011795673, 289.8896881247386, 1355.5038767642734, 906.0551448029993, 784.0852877706534, 769.2931492883687, 734.1735991095837, 635.3292220822023, 594.5987415399908, 559.2667322572846, 548.4211070561836, 525.1851965576578, 507.002074095436, 443.6707287433733, 425.98078476495584, 422.21312305488766, 417.29307673308676, 387.20645559394774, 384.78265299172904, 377.0123180443412, 362.3439163873866, 333.29593283357633, 331.5658082006507, 326.04649454447804, 320.7752776451361, 302.13377014365926, 296.04722887039503, 290.9658583510471, 289.57934662082096, 284.78601195380907, 280.8642822180496, 276.0127976751962, 615.0183729497163, 483.6101860523096, 1230.2629133391035, 412.43823545699263, 471.3208841548943, 612.2740525735024, 343.95951053191334, 396.5078227027058, 380.4012920043738, 1133.4621460909898, 1081.197139548624, 762.3394361187429, 733.886576807681, 709.5389007980189, 689.9405164505688, 682.3949838977024, 558.0273774702424, 544.155731312522, 483.6136329626565, 435.0504072114824, 397.9982867697973, 396.45569099988506, 345.51413485065007, 343.9689483695976, 336.65349975166026, 298.5112944192176, 290.7502722708454, 280.8426444430634, 271.9062454360625, 267.23073146998746, 199.2011037111168, 198.04504204332218, 188.29170545677866, 171.83749450611154, 169.5147060763285, 165.84647499440237, 157.86715664678914, 155.60929431674742, 146.1515002999419, 1628.1175626472484, 685.3084400746111, 217.30402883856658, 560.0795085500731, 662.8103591049747, 640.6772229779543, 398.51899092329785, 267.7493630545759, 218.9989584235225, 527.8619487287328, 469.70596813101395, 453.2568962504566, 411.6028766423356, 361.8540285062936, 337.6284209845324, 278.4242671483091, 277.77538405812754, 267.13828492448283, 254.2561535749765, 232.8818998668801, 228.81686477242897, 228.5958590993722, 224.4309016519577, 223.59654734295648, 219.34723882027797, 202.7099274937544, 202.34800841191017, 199.36505733850882, 196.96477815310564, 195.18969242172597, 186.38563877534207, 182.07421815606259, 177.66181048107103, 162.75893985849638, 162.05831221472906, 158.37743518078517, 156.84687174442368, 156.0095895028636, 154.40170202937938, 583.477814743794, 593.8746903197684, 192.42551114560916, 380.2059087569721, 355.6074917968155, 305.03753523619304, 275.4529141994734, 274.58035959063204, 269.1159588371934, 258.62034810560044, 255.09991039659883, 238.88481761605175, 214.21007485787482, 213.52771265294047, 184.84201331892373, 177.68891026593178, 175.76411241403832, 172.5375529539973, 158.5879127429969, 154.49041371843, 153.87606282411403, 151.03931524537285, 150.7096667556473, 148.11805897741297, 147.19449289478504, 146.64006612621887, 137.9567504558324, 133.32735154007742, 131.68026953069855, 131.00162790933538, 129.71028632784544, 126.85626375657428, 122.32831355041365, 190.15060416743825, 327.4914365378041, 239.49997005087982, 254.3061938769352, 247.04143742693333, 161.76435797609327, 177.8583104696884, 149.25344709448405, 979.9570017228865, 553.4645678551731, 529.6563756848662, 488.37099492080716, 438.0269440258191, 434.3535550431017, 392.7849061178514, 377.7764307809039, 311.5081145561872, 302.62688004642763, 295.6039509111249, 244.42634037679306, 215.88699977296278, 194.36486592704838, 188.03738381350112, 183.2922962555739, 173.76189680929718, 172.21770383897913, 165.50334289968768, 162.95266130306211, 158.71007393961747, 158.01952133222034, 152.27555402341198, 145.1568746320547, 142.46730485753557, 140.38296557630017, 137.91346627864556, 129.60936392192428, 120.05951258475032, 119.49137273903418, 234.69071090489675, 620.8275979311828, 320.4828145632644, 352.885179124971, 168.9620484054981, 2680.0481330071634, 1304.3528216085313, 1186.2807317431755, 551.9996742050806, 391.21372828669286, 305.73605087677765, 289.2730363210028, 251.81952176875652, 239.52590797607908, 226.69073476101644, 213.31845823226118, 166.97563891044175, 152.80009348353258, 144.13425782435192, 131.5562194628363, 127.7114825621433, 124.60689425402772, 124.4724130021542, 113.04339490846745, 103.58721622670218, 93.27971536120081, 92.55352766234648, 87.5052858740655, 83.3461325807806, 82.83926601880174, 81.86518752166693, 81.4426314842602, 77.85896408627897, 76.02962085534138, 74.24131490906574, 146.1963616263602, 230.62953980017406, 141.97988728952072, 140.2234693834637], \"Total\": [2680.0, 3689.0, 2951.0, 2052.0, 1305.0, 1642.0, 1187.0, 1788.0, 2176.0, 4113.0, 1534.0, 2042.0, 1983.0, 1902.0, 1356.0, 1836.0, 1134.0, 980.0, 1081.0, 1230.0, 1434.0, 1221.0, 1779.0, 1142.0, 1465.0, 1509.0, 2059.0, 1250.0, 2178.0, 1295.0, 2951.8098176024746, 2176.3596280971037, 2042.7381266594275, 1983.903095809263, 1902.8393822238838, 1836.6396355061843, 1509.2619142230476, 1048.6118318589276, 992.8194379376868, 949.9748952424956, 833.2990541863946, 757.2866955701139, 727.188014474993, 680.3778966350134, 662.0628108364278, 639.319483074423, 636.1510037186476, 577.6076915377291, 538.0160336778879, 522.6421134580773, 492.05684996566896, 488.0683065859604, 465.98965181489024, 441.9909001153911, 416.0773887547177, 396.8907612800058, 392.35935348548793, 376.53607699363556, 357.73914667025366, 350.8783341625904, 3689.764099502049, 1415.9980935388824, 700.9836903707504, 1640.8495959937795, 574.8869947614123, 2059.8266830913585, 1454.2841319424654, 4113.329695190347, 1779.4070147649943, 1911.8162908610439, 990.4970587908206, 1271.359715467847, 1430.1593701681882, 1390.1711248210102, 1295.9530322520955, 1142.9972146012208, 830.895005084892, 750.5100063832143, 656.6723841194589, 652.1564819697458, 644.2888771068227, 564.1888477389285, 539.7041909191619, 536.2875069840252, 505.7075429529383, 460.2991207461291, 431.5965854556723, 429.3240591367838, 388.7693224242383, 379.4650043776504, 370.0484385202628, 346.4731788322546, 342.0425877070718, 335.032967016507, 324.3282556913259, 281.9723009651727, 273.76748755150686, 269.6457536589048, 269.0595938857831, 253.1909582743889, 251.9385305533956, 248.072368874197, 245.54029836215997, 240.6001766257767, 239.83377699344942, 882.5561794651067, 765.8724871143205, 568.9167201585063, 902.5366332875159, 985.1472530787997, 1335.8358715985498, 359.40816436953435, 1430.1593701681882, 1161.7366530944153, 1191.0387679995824, 1534.3444716897748, 1221.4381557652225, 844.2052919690346, 750.230283316704, 687.7723020837203, 598.1890709464897, 530.1856871731851, 527.0708568767524, 524.3426340084659, 477.4898972518627, 474.10892790823385, 400.31000142467514, 395.8291076634317, 395.05098597118797, 394.5150060094171, 387.4770854587053, 345.9036077973833, 328.2353266965738, 327.13923385912875, 314.400330243843, 275.9198167995315, 262.00556048385346, 260.0305197291335, 257.3342041365368, 249.2943727837419, 247.10687939649026, 239.66716194127477, 231.4622817100024, 230.7522419500269, 210.415351507819, 1250.8190911612598, 608.9105511559869, 469.7648366100593, 973.284353183315, 1476.9008729625555, 277.65512523565957, 623.3259534779206, 1465.033603356858, 540.7621726130429, 676.4030439880819, 1911.8162908610439, 904.0806639254486, 2052.6166705065784, 1230.0914774691028, 842.8033161684755, 789.4610740819946, 740.7717636087548, 563.1795488589748, 559.1338513404362, 544.889630064493, 440.0060115510216, 380.90301005115634, 368.772232070541, 359.44145711375467, 350.17492700152803, 349.633087212325, 347.927932115109, 343.4523799801452, 332.48697867576067, 293.9726700895072, 291.4051083125486, 252.95341503641077, 251.4216419100394, 245.70596502877834, 244.82922914908113, 242.79887930977424, 241.79174219674326, 235.11054297145782, 227.83265268532577, 225.36212465005767, 220.73178962451294, 205.57648092269943, 781.8543696979734, 1788.4708555994061, 273.5764469197791, 606.869832310908, 927.257226819567, 1191.0387679995824, 491.18182052636485, 2178.154050388812, 1300.4668659936974, 4113.329695190347, 1390.1711248210102, 336.02351619061227, 1356.2487516437664, 906.7999955356609, 784.8301100854287, 770.0380856260754, 734.9184972672007, 636.0741503118735, 595.3437805267428, 560.0115905907464, 549.1659186125374, 525.9300015134106, 507.74686319474256, 444.4155509203068, 426.72564489344114, 422.9581663549011, 418.03801880082966, 387.9512887311765, 385.5274983702764, 377.7572841784701, 363.08878843455284, 334.04080429255725, 332.31072551479093, 326.79135812538266, 321.5200544009683, 302.87855058108187, 296.7921726565457, 291.71082357510846, 290.32424227416095, 285.5307758142746, 281.6092998443527, 276.7576358937029, 632.8984610426813, 493.4960959314186, 1434.7244335392206, 429.1643551687273, 705.3227519205795, 2178.154050388812, 474.94744665247606, 1144.8295301342544, 1031.8966589291815, 1134.2057571209527, 1081.9408623394193, 763.0830987798888, 734.6302956327345, 710.2825621735911, 690.6841465698669, 683.138709202171, 558.7710105911401, 544.8993625094024, 484.35738684345677, 435.7941800538448, 398.74201054513725, 397.19932671346294, 346.2591373770165, 344.71260395298185, 337.39728548518167, 299.2550931738499, 291.4939264540396, 281.58628870604787, 272.6498584366481, 267.9746311325315, 199.94506744042377, 198.78877421306615, 189.0357073821491, 172.58116627220505, 170.25838837956414, 166.59018386808418, 158.61084272481753, 156.35313424797522, 146.89572046751633, 1642.540612956349, 707.6519741719949, 220.57776732187494, 1031.8966589291815, 1465.033603356858, 1779.4070147649943, 1300.4668659936974, 645.3269543906828, 366.6404036481173, 528.6118044796438, 470.45602150102076, 454.00670261442264, 412.35279777923427, 362.60394104719285, 338.3782770140964, 279.17423006613564, 278.5253374579344, 267.8882382571659, 255.00597728548007, 233.63179783060033, 229.56661252020322, 229.34575296809953, 225.1807185880122, 224.34640660527234, 220.0971595477856, 203.45990934539483, 203.09803049763238, 200.1150061405434, 197.715020934991, 195.93950244570914, 187.13556334779634, 182.82418739097156, 178.41174827552646, 163.5088428214713, 162.80824497982857, 159.12733600052974, 157.59676315772455, 156.75954420842942, 155.15161414660383, 628.4392594450454, 1295.9530322520955, 245.32371415846964, 380.9692292264528, 356.3706783839541, 305.800675328358, 276.21611809118593, 275.34367351256316, 269.8791262456508, 259.38367433240177, 255.8635969233961, 239.64795260898714, 214.97329672671015, 214.29097810404016, 185.60514583880627, 178.45215392978835, 176.52741633460369, 173.30080515905365, 159.35113999398783, 155.25399005805724, 154.63928788887796, 151.8024709250165, 151.47285084174612, 148.881567645012, 147.95775222224, 147.40317554455658, 138.72007075225605, 134.0928301611508, 132.44346026272441, 131.7647998671015, 130.4735373481566, 127.6194544343431, 123.09149882280309, 227.38398657459973, 566.6999962424252, 356.1681080268052, 676.4030439880819, 973.284353183315, 315.9247307623832, 1271.359715467847, 401.49708819462336, 980.7136669591862, 554.2213003552038, 530.4130889403184, 489.12773021091715, 438.7836848001763, 435.1103132349708, 393.54178688579515, 378.5334251847762, 312.26489279340836, 303.38380371822444, 296.36063550680853, 245.1830016591844, 216.64364650354202, 195.12167370573346, 188.7941457789286, 184.0491013687046, 174.5187056476503, 172.97444942063908, 166.26006771853355, 163.7094066604522, 159.467058995477, 158.77626108225007, 153.03227312743041, 145.9136616982801, 143.22408780072908, 141.13972573972137, 138.67026392775082, 130.36617356141588, 120.81654065776118, 120.2483007375716, 242.3486902407071, 787.0018765186452, 405.0436959459256, 518.0823995729302, 400.23918203638516, 2680.78978767605, 1305.0729829711572, 1187.000899581746, 552.7198276047292, 391.93397244347597, 306.45623731166233, 289.99322208895563, 252.53972109953747, 240.24612030949226, 227.41093271978437, 214.03874143693307, 167.69595020424978, 153.52030999225968, 144.85439122917725, 132.27642851623773, 128.43164327114286, 125.3271693231744, 125.19275905540559, 113.76366820587107, 104.30739460339302, 93.99992463640237, 93.27369866160092, 88.22540250516515, 84.06658137019173, 83.55948377908545, 82.5853093148254, 82.16294382261835, 78.57938911903177, 76.74989114014473, 74.96247647915263, 166.98080864985556, 400.23918203638516, 269.6493682095453, 280.0685279802489], \"Category\": [\"Default\", \"Default\", \"Default\", \"Default\", \"Default\", \"Default\", \"Default\", \"Default\", \"Default\", \"Default\", \"Default\", \"Default\", \"Default\", \"Default\", \"Default\", \"Default\", \"Default\", \"Default\", \"Default\", \"Default\", \"Default\", \"Default\", \"Default\", \"Default\", \"Default\", \"Default\", \"Default\", \"Default\", \"Default\", \"Default\", \"Topic1\", \"Topic1\", \"Topic1\", \"Topic1\", \"Topic1\", \"Topic1\", \"Topic1\", \"Topic1\", \"Topic1\", \"Topic1\", \"Topic1\", \"Topic1\", \"Topic1\", \"Topic1\", \"Topic1\", \"Topic1\", \"Topic1\", \"Topic1\", \"Topic1\", \"Topic1\", \"Topic1\", \"Topic1\", \"Topic1\", \"Topic1\", \"Topic1\", \"Topic1\", \"Topic1\", \"Topic1\", \"Topic1\", \"Topic1\", \"Topic1\", \"Topic1\", \"Topic1\", \"Topic1\", \"Topic1\", \"Topic1\", \"Topic1\", \"Topic1\", \"Topic1\", \"Topic1\", \"Topic1\", \"Topic1\", \"Topic1\", \"Topic1\", \"Topic1\", \"Topic2\", \"Topic2\", \"Topic2\", \"Topic2\", \"Topic2\", \"Topic2\", \"Topic2\", \"Topic2\", \"Topic2\", \"Topic2\", \"Topic2\", \"Topic2\", \"Topic2\", \"Topic2\", \"Topic2\", \"Topic2\", \"Topic2\", \"Topic2\", \"Topic2\", \"Topic2\", \"Topic2\", \"Topic2\", \"Topic2\", \"Topic2\", \"Topic2\", \"Topic2\", \"Topic2\", \"Topic2\", \"Topic2\", \"Topic2\", \"Topic2\", \"Topic2\", \"Topic2\", \"Topic2\", \"Topic2\", \"Topic2\", \"Topic2\", \"Topic2\", \"Topic2\", \"Topic2\", \"Topic3\", \"Topic3\", \"Topic3\", \"Topic3\", \"Topic3\", \"Topic3\", \"Topic3\", \"Topic3\", \"Topic3\", \"Topic3\", \"Topic3\", \"Topic3\", \"Topic3\", \"Topic3\", \"Topic3\", \"Topic3\", \"Topic3\", \"Topic3\", \"Topic3\", \"Topic3\", \"Topic3\", \"Topic3\", \"Topic3\", \"Topic3\", \"Topic3\", \"Topic3\", \"Topic3\", \"Topic3\", \"Topic3\", \"Topic3\", \"Topic3\", \"Topic3\", \"Topic3\", \"Topic3\", \"Topic3\", \"Topic3\", \"Topic3\", \"Topic3\", \"Topic3\", \"Topic3\", \"Topic3\", \"Topic3\", \"Topic4\", \"Topic4\", \"Topic4\", \"Topic4\", \"Topic4\", \"Topic4\", \"Topic4\", \"Topic4\", \"Topic4\", \"Topic4\", \"Topic4\", \"Topic4\", \"Topic4\", \"Topic4\", \"Topic4\", \"Topic4\", \"Topic4\", \"Topic4\", \"Topic4\", \"Topic4\", \"Topic4\", \"Topic4\", \"Topic4\", \"Topic4\", \"Topic4\", \"Topic4\", \"Topic4\", \"Topic4\", \"Topic4\", \"Topic4\", \"Topic4\", \"Topic4\", \"Topic4\", \"Topic4\", \"Topic4\", \"Topic4\", \"Topic4\", \"Topic4\", \"Topic4\", \"Topic4\", \"Topic4\", \"Topic4\", \"Topic5\", \"Topic5\", \"Topic5\", \"Topic5\", \"Topic5\", \"Topic5\", \"Topic5\", \"Topic5\", \"Topic5\", \"Topic5\", \"Topic5\", \"Topic5\", \"Topic5\", \"Topic5\", \"Topic5\", \"Topic5\", \"Topic5\", \"Topic5\", \"Topic5\", \"Topic5\", \"Topic5\", \"Topic5\", \"Topic5\", \"Topic5\", \"Topic5\", \"Topic5\", \"Topic5\", \"Topic5\", \"Topic5\", \"Topic5\", \"Topic5\", \"Topic5\", \"Topic5\", \"Topic5\", \"Topic5\", \"Topic5\", \"Topic5\", \"Topic5\", \"Topic5\", \"Topic6\", \"Topic6\", \"Topic6\", \"Topic6\", \"Topic6\", \"Topic6\", \"Topic6\", \"Topic6\", \"Topic6\", \"Topic6\", \"Topic6\", \"Topic6\", \"Topic6\", \"Topic6\", \"Topic6\", \"Topic6\", \"Topic6\", \"Topic6\", \"Topic6\", \"Topic6\", \"Topic6\", \"Topic6\", \"Topic6\", \"Topic6\", \"Topic6\", \"Topic6\", \"Topic6\", \"Topic6\", \"Topic6\", \"Topic6\", \"Topic6\", \"Topic6\", \"Topic6\", \"Topic6\", \"Topic6\", \"Topic6\", \"Topic6\", \"Topic6\", \"Topic6\", \"Topic7\", \"Topic7\", \"Topic7\", \"Topic7\", \"Topic7\", \"Topic7\", \"Topic7\", \"Topic7\", \"Topic7\", \"Topic7\", \"Topic7\", \"Topic7\", \"Topic7\", \"Topic7\", \"Topic7\", \"Topic7\", \"Topic7\", \"Topic7\", \"Topic7\", \"Topic7\", \"Topic7\", \"Topic7\", \"Topic7\", \"Topic7\", \"Topic7\", \"Topic7\", \"Topic7\", \"Topic7\", \"Topic7\", \"Topic7\", \"Topic7\", \"Topic7\", \"Topic7\", \"Topic8\", \"Topic8\", \"Topic8\", \"Topic8\", \"Topic8\", \"Topic8\", \"Topic8\", \"Topic8\", \"Topic8\", \"Topic8\", \"Topic8\", \"Topic8\", \"Topic8\", \"Topic8\", \"Topic8\", \"Topic8\", \"Topic8\", \"Topic8\", \"Topic8\", \"Topic8\", \"Topic8\", \"Topic8\", \"Topic8\", \"Topic8\", \"Topic8\", \"Topic8\", \"Topic8\", \"Topic8\", \"Topic8\", \"Topic8\", \"Topic8\", \"Topic8\", \"Topic8\", \"Topic8\", \"Topic8\", \"Topic8\", \"Topic8\", \"Topic8\", \"Topic9\", \"Topic9\", \"Topic9\", \"Topic9\", \"Topic9\", \"Topic9\", \"Topic9\", \"Topic9\", \"Topic9\", \"Topic9\", \"Topic9\", \"Topic9\", \"Topic9\", \"Topic9\", \"Topic9\", \"Topic9\", \"Topic9\", \"Topic9\", \"Topic9\", \"Topic9\", \"Topic9\", \"Topic9\", \"Topic9\", \"Topic9\", \"Topic9\", \"Topic9\", \"Topic9\", \"Topic9\", \"Topic9\", \"Topic9\", \"Topic9\", \"Topic9\", \"Topic9\", \"Topic9\", \"Topic9\", \"Topic10\", \"Topic10\", \"Topic10\", \"Topic10\", \"Topic10\", \"Topic10\", \"Topic10\", \"Topic10\", \"Topic10\", \"Topic10\", \"Topic10\", \"Topic10\", \"Topic10\", \"Topic10\", \"Topic10\", \"Topic10\", \"Topic10\", \"Topic10\", \"Topic10\", \"Topic10\", \"Topic10\", \"Topic10\", \"Topic10\", \"Topic10\", \"Topic10\", \"Topic10\", \"Topic10\", \"Topic10\", \"Topic10\", \"Topic10\", \"Topic10\", \"Topic10\", \"Topic10\", \"Topic10\"], \"logprob\": [30.0, 29.0, 28.0, 27.0, 26.0, 25.0, 24.0, 23.0, 22.0, 21.0, 20.0, 19.0, 18.0, 17.0, 16.0, 15.0, 14.0, 13.0, 12.0, 11.0, 10.0, 9.0, 8.0, 7.0, 6.0, 5.0, 4.0, 3.0, 2.0, 1.0, -3.2682, -3.5731, -3.6365, -3.6657, -3.7075, -3.7429, -3.9393, -4.3037, -4.3584, -4.4025, -4.5337, -4.6294, -4.67, -4.7366, -4.7639, -4.7989, -4.8039, -4.9006, -4.9717, -5.0007, -5.0611, -5.0692, -5.1156, -5.1686, -5.2291, -5.2764, -5.2879, -5.3291, -5.3805, -5.3999, -3.0629, -4.0166, -4.7186, -3.9294, -4.93, -3.7797, -4.1206, -3.4656, -4.2211, -4.2123, -4.6453, -4.5115, -4.5516, -4.6035, -4.7051, -3.685, -4.0042, -4.106, -4.2398, -4.2467, -4.2588, -4.3917, -4.4362, -4.4425, -4.5013, -4.5955, -4.66, -4.6653, -4.7647, -4.789, -4.8142, -4.8802, -4.8931, -4.9138, -4.9464, -5.0866, -5.1163, -5.1315, -5.1336, -5.1946, -5.1996, -5.2151, -5.2254, -5.2458, -5.249, -4.0428, -4.1734, -4.4803, -4.1228, -4.0889, -4.0311, -4.9526, -4.4235, -4.7376, -4.7729, -3.3734, -3.6016, -3.9712, -4.0894, -4.1764, -4.3161, -4.4369, -4.4428, -4.448, -4.5418, -4.5489, -4.7184, -4.7296, -4.7316, -4.733, -4.751, -4.8647, -4.9173, -4.9206, -4.9604, -5.0913, -5.1432, -5.1508, -5.1612, -5.1931, -5.2019, -5.2326, -5.2675, -5.2706, -5.3632, -3.6924, -4.4191, -4.6463, -4.1218, -3.9417, -5.12, -4.5788, -4.0222, -4.7322, -4.6651, -4.3981, -4.7352, -3.0698, -3.582, -3.9604, -4.0259, -4.0896, -4.364, -4.3712, -4.3971, -4.6112, -4.7557, -4.7881, -4.8138, -4.84, -4.8415, -4.8464, -4.8594, -4.8919, -5.0153, -5.0241, -5.166, -5.1721, -5.1952, -5.1988, -5.2071, -5.2113, -5.2394, -5.2709, -5.2819, -5.3027, -5.3741, -4.0511, -3.2475, -5.0912, -4.3482, -4.134, -4.0048, -4.728, -3.7212, -4.1614, -3.5105, -4.2777, -5.0268, -3.4609, -3.8637, -4.0083, -4.0273, -4.074, -4.2186, -4.2849, -4.3462, -4.3657, -4.409, -4.4443, -4.5777, -4.6184, -4.6273, -4.639, -4.7138, -4.7201, -4.7405, -4.7802, -4.8638, -4.869, -4.8857, -4.902, -4.9619, -4.9823, -4.9996, -5.0044, -5.021, -5.0349, -5.0523, -4.2511, -4.4915, -3.5578, -4.6507, -4.5172, -4.2556, -4.8323, -4.6901, -4.7316, -3.3058, -3.353, -3.7024, -3.7404, -3.7742, -3.8022, -3.8132, -4.0144, -4.0395, -4.1575, -4.2633, -4.3523, -4.3562, -4.4937, -4.4982, -4.5197, -4.64, -4.6663, -4.701, -4.7333, -4.7507, -5.0445, -5.0503, -5.1008, -5.1922, -5.2058, -5.2277, -5.277, -5.2914, -5.3541, -2.9436, -3.8089, -4.9575, -4.0107, -3.8423, -3.8763, -4.351, -4.7487, -4.9497, -3.9916, -4.1084, -4.144, -4.2404, -4.3692, -4.4385, -4.6313, -4.6337, -4.6727, -4.7221, -4.8099, -4.8276, -4.8285, -4.8469, -4.8506, -4.8698, -4.9487, -4.9505, -4.9653, -4.9775, -4.9865, -5.0327, -5.0561, -5.0806, -5.1682, -5.1725, -5.1955, -5.2052, -5.2106, -5.2209, -3.8915, -3.8738, -5.0008, -4.2132, -4.2801, -4.4335, -4.5355, -4.5387, -4.5588, -4.5985, -4.6122, -4.6779, -4.7869, -4.7901, -4.9344, -4.9739, -4.9848, -5.0033, -5.0876, -5.1138, -5.1177, -5.1364, -5.1385, -5.1559, -5.1621, -5.1659, -5.227, -5.2611, -5.2735, -5.2787, -5.2886, -5.3108, -5.3472, -4.9061, -4.3624, -4.6753, -4.6154, -4.6443, -5.0678, -4.9729, -5.1482, -3.1341, -3.7054, -3.7493, -3.8305, -3.9393, -3.9477, -4.0483, -4.0873, -4.2801, -4.3091, -4.3326, -4.5227, -4.6468, -4.7518, -4.7849, -4.8105, -4.8639, -4.8728, -4.9126, -4.9281, -4.9545, -4.9589, -4.9959, -5.0438, -5.0625, -5.0772, -5.0949, -5.157, -5.2336, -5.2383, -4.5633, -3.5905, -4.2517, -4.1554, -4.8919, -1.8454, -2.5656, -2.6605, -3.4255, -3.7698, -4.0163, -4.0717, -4.2103, -4.2604, -4.3154, -4.3762, -4.6212, -4.7099, -4.7683, -4.8596, -4.8893, -4.9139, -4.9149, -5.0113, -5.0986, -5.2034, -5.2112, -5.2673, -5.316, -5.3221, -5.334, -5.3391, -5.3841, -5.4079, -5.4317, -4.7541, -4.2982, -4.7833, -4.7958], \"loglift\": [30.0, 29.0, 28.0, 27.0, 26.0, 25.0, 24.0, 23.0, 22.0, 21.0, 20.0, 19.0, 18.0, 17.0, 16.0, 15.0, 14.0, 13.0, 12.0, 11.0, 10.0, 9.0, 8.0, 7.0, 6.0, 5.0, 4.0, 3.0, 2.0, 1.0, 1.5889, 1.5888, 1.5888, 1.5888, 1.5888, 1.5888, 1.5887, 1.5885, 1.5884, 1.5884, 1.5883, 1.5882, 1.5882, 1.5881, 1.5881, 1.588, 1.588, 1.5879, 1.5878, 1.5878, 1.5877, 1.5877, 1.5876, 1.5875, 1.5874, 1.5873, 1.5873, 1.5872, 1.5871, 1.587, 1.5712, 1.5752, 1.5762, 1.515, 1.5632, 1.4373, 1.4445, 1.0598, 1.1422, 1.0793, 1.3038, 1.188, 1.0302, 1.0066, 0.9753, 2.1209, 2.1206, 2.1205, 2.1204, 2.1204, 2.1204, 2.1202, 2.1202, 2.1201, 2.1201, 2.1199, 2.1198, 2.1198, 2.1196, 2.1196, 2.1195, 2.1194, 2.1194, 2.1193, 2.1192, 2.1189, 2.1188, 2.1188, 2.1188, 2.1186, 2.1186, 2.1185, 2.1185, 2.1184, 2.1184, 2.0217, 2.0329, 2.0233, 1.9194, 1.8657, 1.619, 2.0103, 1.1583, 1.0521, 0.9918, 2.1381, 2.138, 2.1377, 2.1376, 2.1375, 2.1374, 2.1372, 2.1372, 2.1372, 2.1371, 2.137, 2.1368, 2.1367, 2.1367, 2.1367, 2.1367, 2.1365, 2.1363, 2.1363, 2.1362, 2.1359, 2.1358, 2.1358, 2.1357, 2.1356, 2.1356, 2.1355, 2.1354, 2.1354, 2.1351, 2.0234, 2.0166, 2.0488, 1.8449, 1.6079, 2.101, 1.8334, 1.5355, 1.8221, 1.6654, 0.8935, 1.3052, 2.1507, 2.1505, 2.1502, 2.1501, 2.1501, 2.1498, 2.1497, 2.1497, 2.1494, 2.1491, 2.1491, 2.149, 2.1489, 2.1489, 2.1489, 2.1489, 2.1488, 2.1485, 2.1485, 2.1481, 2.1481, 2.148, 2.148, 2.148, 2.148, 2.1479, 2.1478, 2.1478, 2.1477, 2.1474, 2.1346, 2.1107, 2.1445, 2.0908, 1.8811, 1.76, 1.9226, 1.4399, 1.5155, 1.0149, 1.3325, 2.0034, 2.174, 2.1737, 2.1736, 2.1736, 2.1735, 2.1734, 2.1733, 2.1732, 2.1732, 2.1731, 2.1731, 2.1729, 2.1728, 2.1728, 2.1728, 2.1726, 2.1726, 2.1726, 2.1725, 2.1723, 2.1723, 2.1723, 2.1722, 2.1721, 2.172, 2.172, 2.172, 2.172, 2.1719, 2.1719, 2.1459, 2.1543, 2.0208, 2.1348, 1.7714, 0.9055, 1.8519, 1.1142, 1.1766, 2.5079, 2.5079, 2.5076, 2.5075, 2.5075, 2.5075, 2.5075, 2.5072, 2.5072, 2.507, 2.5069, 2.5067, 2.5067, 2.5064, 2.5064, 2.5064, 2.5061, 2.506, 2.5059, 2.5058, 2.5058, 2.5048, 2.5048, 2.5046, 2.5042, 2.5042, 2.5041, 2.5039, 2.5038, 2.5035, 2.4997, 2.4765, 2.4936, 1.8975, 1.7154, 1.4871, 1.3258, 1.6289, 1.9932, 2.5854, 2.5853, 2.5852, 2.585, 2.5848, 2.5846, 2.5842, 2.5842, 2.5841, 2.5839, 2.5837, 2.5836, 2.5836, 2.5835, 2.5835, 2.5835, 2.5832, 2.5832, 2.5831, 2.5831, 2.583, 2.5829, 2.5828, 2.5827, 2.5823, 2.5823, 2.5821, 2.5821, 2.5821, 2.582, 2.5126, 1.8065, 2.344, 2.6914, 2.6913, 2.691, 2.6907, 2.6907, 2.6906, 2.6905, 2.6905, 2.6903, 2.6899, 2.6899, 2.6893, 2.6892, 2.6891, 2.689, 2.6886, 2.6885, 2.6885, 2.6884, 2.6884, 2.6883, 2.6883, 2.6883, 2.6879, 2.6877, 2.6877, 2.6876, 2.6876, 2.6875, 2.6872, 2.5146, 2.1451, 2.2966, 1.7152, 1.3223, 2.0241, 0.7266, 1.7039, 2.825, 2.8244, 2.8243, 2.8242, 2.824, 2.824, 2.8238, 2.8238, 2.8233, 2.8233, 2.8232, 2.8227, 2.8223, 2.8219, 2.8218, 2.8217, 2.8214, 2.8214, 2.8212, 2.8211, 2.821, 2.821, 2.8208, 2.8206, 2.8205, 2.8204, 2.8203, 2.8199, 2.8195, 2.8195, 2.7937, 2.5886, 2.5916, 2.4418, 1.9634, 3.108, 3.1078, 3.1077, 3.107, 3.1065, 3.106, 3.1058, 3.1055, 3.1053, 3.1051, 3.1049, 3.104, 3.1036, 3.1033, 3.1029, 3.1027, 3.1026, 3.1025, 3.102, 3.1014, 3.1006, 3.1006, 3.1001, 3.0997, 3.0997, 3.0996, 3.0995, 3.0991, 3.0989, 3.0986, 2.9754, 2.5571, 2.4669, 2.4165]}, \"token.table\": {\"Topic\": [3, 2, 5, 1, 7, 2, 3, 5, 6, 5, 1, 2, 5, 5, 5, 2, 6, 6, 1, 5, 9, 6, 4, 4, 10, 1, 2, 5, 4, 6, 5, 10, 6, 8, 4, 7, 10, 2, 3, 3, 5, 4, 10, 3, 7, 6, 2, 3, 6, 1, 8, 6, 10, 1, 6, 9, 4, 5, 6, 4, 4, 3, 7, 10, 4, 6, 7, 3, 5, 1, 6, 10, 2, 1, 5, 3, 5, 7, 5, 6, 10, 5, 10, 4, 1, 3, 1, 9, 2, 1, 10, 5, 7, 10, 10, 6, 3, 2, 9, 9, 9, 4, 4, 1, 10, 6, 2, 8, 3, 4, 9, 6, 10, 7, 1, 4, 5, 5, 5, 5, 2, 5, 8, 9, 10, 8, 3, 4, 7, 10, 8, 6, 3, 6, 10, 9, 9, 3, 5, 1, 3, 4, 3, 10, 10, 9, 7, 2, 3, 4, 5, 6, 6, 4, 8, 7, 4, 6, 7, 1, 5, 6, 7, 1, 8, 1, 4, 1, 4, 2, 9, 1, 6, 1, 10, 1, 3, 4, 4, 7, 2, 9, 3, 2, 3, 6, 7, 7, 2, 4, 6, 2, 10, 9, 4, 3, 7, 8, 1, 3, 1, 1, 3, 8, 2, 1, 6, 9, 2, 1, 10, 2, 1, 2, 8, 4, 7, 6, 8, 8, 6, 3, 1, 8, 8, 2, 2, 1, 2, 3, 8, 8, 9, 2, 2, 8, 5, 1, 3, 4, 5, 4, 1, 8, 9, 9, 9, 10, 4, 5, 9, 8, 1, 8, 3, 4, 1, 1, 2, 6, 2, 5, 10, 1, 1, 2, 3, 5, 7, 1, 2, 3, 8, 3, 4, 6, 7, 9, 5, 9, 2, 4, 9, 2, 3, 5, 6, 8, 10, 2, 5, 8, 9, 1, 3, 6, 2, 9, 3, 4, 8, 8, 2, 7, 8, 8, 1, 3, 4, 10, 2, 5, 6, 10, 6, 4, 4, 8, 3, 6, 2, 7, 10, 3, 10, 2, 4, 2, 3, 3, 5, 4, 1, 1, 4, 5, 6, 5, 7, 6, 9, 8, 5, 1, 5, 6, 6, 2, 4, 6, 3, 9, 6, 2, 7, 7, 2, 6, 5, 7, 7, 5, 5, 1, 7, 3, 8, 5, 3, 1, 6, 5, 1, 6, 7, 6, 7, 1, 3, 3, 1, 2, 3, 4, 5, 6, 7, 8, 9, 10, 9, 2, 10, 2, 1, 8, 8, 10, 4, 2, 9, 9, 1, 5, 1, 6, 8, 7, 9, 1, 5, 3, 9, 4, 1, 2, 3, 5, 1, 3, 4, 8, 1, 9, 1, 3, 10, 1, 6, 3, 1, 1, 10, 1, 5, 4, 7, 3, 6, 3, 6, 3, 6, 5, 9, 3, 3, 3, 5, 3, 9, 1, 2, 3, 4, 5, 5, 7, 10, 7, 7, 3, 1, 8, 5, 8, 7, 4, 4, 10, 3, 8, 2, 3, 4, 1, 2, 4, 5, 1, 3, 8], \"Freq\": [0.998974015461516, 0.998634298811096, 0.997563259510234, 0.21196483258202267, 0.7826393818413144, 0.9989760737078041, 0.9987266863125351, 0.008523381333507432, 0.9911474864964357, 0.9988831718921537, 0.5719642279474086, 0.38177563381330704, 0.046148702988421726, 0.9982995048408156, 0.9973308842701104, 0.9987745790197095, 0.9976165091727011, 0.99830553432091, 0.9871841663448704, 0.0114125337149696, 0.9987349235077133, 0.9989369150056041, 0.9979059375859045, 0.9983673206179614, 0.9970656394511179, 0.9996214173947714, 0.2737144939219398, 0.7242906608395946, 0.9971267892145165, 0.996632504665727, 0.998311281300542, 0.9858458841843711, 0.9992621422669202, 0.9947137163174841, 0.9981892811765251, 0.9929155101262678, 0.9932872399605724, 0.9053248037810491, 0.09404500464809395, 0.018237226341200344, 0.9807575054601074, 0.9996995685967871, 0.9893624953395427, 0.9132228863611236, 0.08514898707329824, 0.9964572710445441, 0.9976051777187573, 0.5474277164444302, 0.45254934663672974, 0.9978111535382553, 0.9941957194343796, 0.9984823750417037, 0.9970529931788458, 0.9994165316084189, 0.9985806280054943, 0.9896189739903613, 0.9987718247157702, 0.9989423060165997, 0.9992516085525439, 0.9986828451147394, 0.9983229689105672, 0.9992255966037025, 0.9944281732687238, 0.9979102208962061, 0.9408936968009782, 0.05767299367431566, 0.9983344333063544, 0.8914158793058031, 0.1079292768666219, 0.03108872836218909, 0.9679899512772513, 0.9933043653002379, 0.998695227995242, 0.8650304107490387, 0.13408658990148056, 0.9616246045283118, 0.03601590279132254, 0.997782626096431, 0.40093780864665174, 0.5973155108409302, 0.9985112480801024, 0.9978769283143369, 0.9991567827942687, 0.9966847112246143, 0.41167285572822254, 0.5883942625457654, 0.9996386582059666, 0.9951664912954947, 0.9956771933969768, 0.4709820046798995, 0.526609800508234, 0.9986317490386385, 0.995205140188771, 0.9941017236555466, 0.987312659170771, 0.9991475728244275, 0.9988191759787645, 0.20738503238231912, 0.7900382185993109, 0.998783119403858, 0.9956666713604089, 0.998958162761233, 0.996709707589898, 0.9977580983791013, 0.9974451518636942, 0.999009465363778, 0.9994638939369629, 0.9977964387703717, 0.997339619419999, 0.9966447426388043, 0.9970711255451807, 0.4963071038449654, 0.49987765854888605, 0.9975318165216497, 0.015348126793274228, 0.9835591253356568, 0.9970013162916787, 0.9991177817163659, 0.9975783994719988, 0.9970993304762046, 0.9952962053522535, 0.9972624571269503, 0.9986421355363878, 0.4222475149487899, 0.5771548872968667, 0.9966247761159449, 0.9962364602585396, 0.9976292913751585, 0.9950356016679087, 0.9926267037002017, 0.9948091811923738, 0.9979327592179396, 0.9965175871885201, 0.9983494887840195, 0.9951469466230293, 0.999151704852125, 0.9957935889608648, 0.997387689006376, 0.9987502052668206, 0.518759020863955, 0.43469572537214135, 0.04645603171916014, 0.9961620643394115, 0.9871605565296353, 0.996639120545771, 0.9919248409067822, 0.9962133539689054, 0.21138518323476563, 0.1843069159608907, 0.0890962342559756, 0.3467765196041403, 0.16858405109218913, 0.9986201671587714, 0.9967255201126801, 0.9972962314013826, 0.9950151126437078, 0.9942376365453663, 0.003655285428475611, 0.999030681976254, 0.1407935874498913, 0.8573074879374568, 0.0013939959153454584, 0.9947565733184623, 0.9995588790984015, 0.9911326222099679, 0.5582046599478269, 0.4409529079227035, 0.999834757044534, 0.999112685935075, 0.2109270701288693, 0.7890705454820953, 0.9978762364978796, 0.9939023378988471, 0.9978521791420184, 0.9973894780761325, 0.9991746354811617, 0.20359059684423392, 0.7960392336609545, 0.8630348354413832, 0.13391919860297324, 0.9992451875689535, 0.9974482029012003, 0.9986945844858311, 0.8165873525991473, 0.12298669760991228, 0.05872337813806622, 0.9988820883614801, 0.9984559297805834, 0.3232472446271665, 0.676720205635055, 0.9981391212224596, 0.9965235213992724, 0.997862826896349, 0.9951750257922495, 0.9983931432550169, 0.9996412787965118, 0.995793916702636, 0.9970122695638167, 0.9990841215271264, 0.9977636379067363, 0.9997256538691465, 0.7521476145618053, 0.24735055780891588, 0.9985208231266317, 0.996916819781332, 0.013600645416010096, 0.9837800184247303, 0.9943665123727643, 0.9962747637237779, 0.9741044850604236, 0.02435261212651059, 0.9971667532919333, 0.9995447883461794, 0.9993501600749437, 0.996739606350506, 0.9979055545227723, 0.9984924378863574, 0.9991420233599383, 0.99559722256764, 0.9919229769387033, 0.9977414316017794, 0.9979053898579467, 0.9989737673622978, 0.9974662456023576, 0.9973817084363915, 0.9989878905535806, 0.9991275441545422, 0.6004761050984474, 0.036091333843025146, 0.28768454512556274, 0.07532104454196552, 0.997264810998358, 0.993254539671048, 0.9965517855411877, 0.6276508781997554, 0.3711110351260459, 0.9998165884809369, 0.1795098009391046, 0.047746852423700456, 0.4912416547438412, 0.2809718623394681, 0.9962308671093706, 0.48429257067271525, 0.5127803689475808, 0.9976944054870271, 0.9992722983443282, 0.9970290081711144, 0.9989755492859772, 0.9990468521503599, 0.9968842001360837, 0.9984357776217568, 0.9966517013233818, 0.16272034173286476, 0.8355909440336299, 0.9983601257586338, 0.9977136413489548, 0.9974106048926566, 0.9994445783190749, 0.89591732164695, 0.10294702143148184, 0.91529596870786, 0.0835648245325293, 0.9966108067897601, 0.9974967557780772, 0.8592955973089975, 0.12670968977268268, 0.009224077033260425, 0.004854777385926539, 0.9976921459516748, 0.4992525616327119, 0.3434513311921587, 0.15752279099790736, 0.9989598516195692, 0.3874005235625867, 0.08832731937226976, 0.41529336125909294, 0.10847214659752427, 0.9986233053163618, 0.9981936256182139, 0.9982139609394702, 0.9971965715930294, 0.3184821567689119, 0.6813587959965206, 0.9995516341860193, 0.3303452204902589, 0.6677793942099224, 0.9979179074778748, 0.9963706253560596, 0.9958499283769099, 0.9960618617218574, 0.9975479170741055, 0.9987518379914857, 0.9932414828854088, 0.26998929916733333, 0.7286012593967762, 0.998177625837622, 0.9982266802497266, 0.9942998832327741, 0.9987012836569542, 0.9986098105318247, 0.9954724761562015, 0.9982642598874392, 0.9993204535863924, 0.996055083507498, 0.9967425185568053, 0.9974558857983864, 0.045983765508486214, 0.8851874860383596, 0.06733337092314053, 0.9902294175404701, 0.9980211339221906, 0.9978363646204531, 0.9945211018780947, 0.9991778368067091, 0.9988224994619908, 0.9963453320868989, 0.9966130304295645, 0.9968783129180018, 0.9997754925988717, 0.9961487959188432, 0.997892819498838, 0.9963835780831943, 0.9986976627781771, 0.9979682866871109, 0.9904726194677305, 0.9989228421408063, 0.9966912907611071, 0.7745035045425532, 0.22534702229154235, 0.026860548802714747, 0.9717198537452688, 0.9971957836805456, 0.9989479164723183, 0.1553288325002038, 0.5298097306566357, 0.0076895461633764255, 0.30681289191871935, 0.9985290638921069, 0.9925774916816807, 0.996362972388795, 0.9970277934062979, 0.9940787321160267, 0.9975169272789894, 0.0881871253410515, 0.3682539299955997, 0.5426900020987785, 0.9952733645669686, 0.17363035341576114, 0.7635421752693098, 0.06147161580558003, 0.9980027773571264, 0.9992211939167194, 0.9991303939317119, 0.998600885110776, 0.9968879798016376, 0.99549191273467, 0.9977995532066877, 0.9996021834286253, 0.998651903528601, 0.998842620474119, 0.9977395578968136, 0.9994225512418412, 0.9983825133336169, 0.5409146647713062, 0.45834994418567176, 0.9985722762217903, 0.9918501969133066, 0.9977346072705991, 0.9960369277798353, 0.9287871379076583, 0.07130452436692652, 0.9990649496412843, 0.6395388972602737, 0.3602323665587306, 0.9945935935718235, 0.0700147219300955, 0.9276950655737655, 0.9995002763361963, 0.9980260399023045, 0.9987687389097074, 0.061768584845738855, 0.028076629475335842, 0.022461303580268675, 0.056153258950671685, 0.07580689958340678, 0.008422988842600752, 0.022461303580268675, 0.6710314444605266, 0.04492260716053735, 0.005615325895067169, 0.9937383402784493, 0.9986177243384758, 0.9965750161958925, 0.9969518775013927, 0.998111517846518, 0.9935268533898689, 0.11977424329006746, 0.8743519760174924, 0.9985353451202804, 0.9975055021397171, 0.9985908108788125, 0.9971911919218571, 0.9987714088827845, 0.9982317009664129, 0.9983662898021625, 0.9960320988134836, 0.9958659413296229, 0.9972957541033929, 0.9951109751737512, 0.9858770335707848, 0.013418097161780022, 0.9972162980699114, 0.994251414082143, 0.9952765071382076, 0.9985762931458899, 0.906986878248607, 0.05448952175524577, 0.03866998318114216, 0.6693620929202093, 0.052699483226385464, 0.13764790394951426, 0.1400075823029345, 0.9983946978760442, 0.9977963669847748, 0.9981906753083476, 0.9993465455863344, 0.9981929948799307, 0.9821766113690238, 0.017616302356232492, 0.9980122155280967, 0.9996517359781316, 0.9979338390077422, 0.9997053899266252, 0.9996411202138149, 0.9990649549023446, 0.9979721289674772, 0.9951547179327115, 0.9955206451589143, 0.9969805419274335, 0.9966663619518138, 0.9983331215361799, 0.7363723545264808, 0.2615004221956783, 0.9979953154838112, 0.9914533384745157, 0.998877096269535, 0.9967400448911357, 0.037281754198131276, 0.9600051706018803, 0.028884001778789956, 0.9696772025736629, 0.07710528081323596, 0.6048647271562588, 0.10405469934990096, 0.011228924390277081, 0.2028692339843393, 0.9981410907011304, 0.9991444273419889, 0.9976170158517946, 0.9981138611562986, 0.9966842954250451, 0.9976610271544001, 0.999826462047058, 0.9951460814725408, 0.42173990044947807, 0.5770248847153947, 0.993931867746133, 0.999415963500758, 0.9973329760865477, 0.9929126703080553, 0.6224099724888552, 0.3755157553733236, 0.020688064266833943, 0.01845151677852757, 0.9605971462275867, 0.5890604885947209, 0.0437601683644448, 0.32115101338573104, 0.04594817678266704, 0.9977556512599763, 0.7459279475987427, 0.2537798940177541], \"Term\": [\"able\", \"access\", \"actually\", \"addition\", \"addition\", \"address\", \"afternoon\", \"agreement\", \"agreement\", \"allow\", \"also\", \"also\", \"also\", \"amount\", \"answer\", \"application\", \"approval\", \"approve\", \"ask\", \"ask\", \"assignment\", \"attach\", \"attend\", \"available\", \"avoid\", \"back\", \"base\", \"base\", \"begin\", \"behalf\", \"believe\", \"birthday\", \"book\", \"boy\", \"bring\", \"build\", \"building\", \"business\", \"business\", \"ca\", \"ca\", \"call\", \"cancel\", \"capacity\", \"capacity\", \"cash\", \"cc\", \"change\", \"change\", \"check\", \"child\", \"closing\", \"code\", \"come\", \"comment\", \"commoditylogic\", \"communication\", \"company\", \"compression\", \"conference\", \"confidential\", \"confirm\", \"consider\", \"consumer\", \"contact\", \"contact\", \"continue\", \"contract\", \"contract\", \"copy\", \"copy\", \"core\", \"cost\", \"could\", \"could\", \"counterparty\", \"counterparty\", \"credit\", \"current\", \"current\", \"curve\", \"customer\", \"date\", \"datum\", \"day\", \"day\", \"deal\", \"decision\", \"delete\", \"deliver\", \"deliver\", \"delivery\", \"demand\", \"description\", \"desire\", \"detail\", \"determine\", \"development\", \"development\", \"dinner\", \"direct\", \"discuss\", \"discussion\", \"do\", \"doctor\", \"document\", \"draft\", \"drive\", \"due\", \"early\", \"ee\", \"effort\", \"effort\", \"electricity\", \"email\", \"email\", \"employee\", \"energy\", \"enter\", \"entity\", \"equipment\", \"error\", \"even\", \"event\", \"event\", \"exist\", \"expect\", \"facility\", \"fact\", \"factory\", \"family\", \"fax\", \"feel\", \"file\", \"filing\", \"final\", \"finance\", \"financial\", \"find\", \"first\", \"first\", \"first\", \"fix\", \"flexible\", \"flight\", \"floor\", \"focus\", \"follow\", \"follow\", \"follow\", \"follow\", \"follow\", \"form\", \"free\", \"friend\", \"full\", \"future\", \"future\", \"game\", \"gas\", \"gas\", \"gas\", \"generation\", \"get\", \"girl\", \"give\", \"give\", \"go\", \"good\", \"group\", \"group\", \"guy\", \"hand\", \"hear\", \"hearing\", \"help\", \"high\", \"high\", \"hold\", \"hold\", \"home\", \"hope\", \"hour\", \"include\", \"include\", \"include\", \"increase\", \"industry\", \"information\", \"information\", \"interest\", \"interested\", \"interview\", \"invite\", \"involve\", \"issue\", \"job\", \"join\", \"kay\", \"keep\", \"know\", \"last\", \"last\", \"late\", \"later\", \"lawyer\", \"lawyer\", \"lead\", \"learn\", \"leave\", \"leave\", \"legal\", \"let\", \"letter\", \"life\", \"like\", \"limit\", \"list\", \"little\", \"load\", \"locate\", \"long\", \"look\", \"lot\", \"love\", \"lunch\", \"mail\", \"make\", \"make\", \"make\", \"make\", \"man\", \"management\", \"manager\", \"many\", \"many\", \"market\", \"may\", \"may\", \"may\", \"may\", \"maybe\", \"mean\", \"mean\", \"meet\", \"meeting\", \"member\", \"memo\", \"message\", \"miss\", \"model\", \"mom\", \"money\", \"money\", \"month\", \"morning\", \"move\", \"much\", \"must\", \"must\", \"name\", \"name\", \"natural_gas\", \"nee\", \"need\", \"need\", \"need\", \"need\", \"network\", \"new\", \"new\", \"new\", \"night\", \"note\", \"note\", \"note\", \"note\", \"notice\", \"offer\", \"office\", \"operation\", \"opportunity\", \"opportunity\", \"option\", \"order\", \"order\", \"original\", \"other\", \"package\", \"page\", \"part\", \"party\", \"past\", \"pay\", \"pay\", \"payment\", \"people\", \"performance\", \"period\", \"phone\", \"phone_fax\", \"pick\", \"plan\", \"plant\", \"play\", \"pm\", \"point\", \"point\", \"point\", \"portfolio\", \"position\", \"post\", \"potential\", \"power\", \"prepare\", \"present\", \"presentation\", \"pretty\", \"price\", \"print\", \"process\", \"producer\", \"product\", \"production\", \"progress\", \"project\", \"propose\", \"provide\", \"provide\", \"purchase\", \"purchase\", \"purpose\", \"put\", \"question\", \"question\", \"question\", \"question\", \"rate\", \"rather\", \"read\", \"ready\", \"realize\", \"really\", \"receive\", \"receive\", \"receive\", \"recent\", \"regard\", \"regard\", \"regard\", \"remember\", \"report\", \"request\", \"require\", \"research\", \"respect\", \"respond\", \"review\", \"right\", \"risk\", \"room\", \"run\", \"sale\", \"say\", \"say\", \"schedule\", \"school\", \"second\", \"section\", \"see\", \"see\", \"sell\", \"send\", \"send\", \"serve\", \"service\", \"service\", \"set\", \"settlement\", \"shall\", \"shay\", \"shay\", \"shay\", \"shay\", \"shay\", \"shay\", \"shay\", \"shay\", \"shay\", \"shay\", \"sheet\", \"sign\", \"sit\", \"site\", \"soon\", \"sorry\", \"source\", \"source\", \"speak\", \"specific\", \"staff\", \"standard\", \"start\", \"state\", \"still\", \"storage\", \"story\", \"structure\", \"student\", \"subject\", \"subject\", \"submit\", \"supply\", \"support\", \"sure\", \"system\", \"system\", \"system\", \"take\", \"take\", \"take\", \"take\", \"talk\", \"team\", \"tell\", \"term\", \"test\", \"thank\", \"thank\", \"thing\", \"think\", \"ticket\", \"time\", \"today\", \"together\", \"tomorrow\", \"top\", \"total\", \"trade\", \"trader\", \"trading\", \"transaction\", \"transaction\", \"transmission\", \"trip\", \"try\", \"turn\", \"understand\", \"understand\", \"update\", \"update\", \"use\", \"use\", \"use\", \"use\", \"use\", \"utility\", \"value\", \"version\", \"view\", \"visit\", \"volume\", \"want\", \"watch\", \"way\", \"way\", \"weather\", \"week\", \"weekend\", \"weekly\", \"well\", \"well\", \"work\", \"work\", \"work\", \"would\", \"would\", \"would\", \"would\", \"write\", \"year\", \"year\"]}, \"R\": 30, \"lambda.step\": 0.01, \"plot.opts\": {\"xlab\": \"PC1\", \"ylab\": \"PC2\"}, \"topic.order\": [10, 1, 4, 6, 8, 5, 3, 2, 7, 9]};\n",
              "\n",
              "function LDAvis_load_lib(url, callback){\n",
              "  var s = document.createElement('script');\n",
              "  s.src = url;\n",
              "  s.async = true;\n",
              "  s.onreadystatechange = s.onload = callback;\n",
              "  s.onerror = function(){console.warn(\"failed to load library \" + url);};\n",
              "  document.getElementsByTagName(\"head\")[0].appendChild(s);\n",
              "}\n",
              "\n",
              "if(typeof(LDAvis) !== \"undefined\"){\n",
              "   // already loaded: just create the visualization\n",
              "   !function(LDAvis){\n",
              "       new LDAvis(\"#\" + \"ldavis_el1991405527166802725575912863\", ldavis_el1991405527166802725575912863_data);\n",
              "   }(LDAvis);\n",
              "}else if(typeof define === \"function\" && define.amd){\n",
              "   // require.js is available: use it to load d3/LDAvis\n",
              "   require.config({paths: {d3: \"https://d3js.org/d3.v5\"}});\n",
              "   require([\"d3\"], function(d3){\n",
              "      window.d3 = d3;\n",
              "      LDAvis_load_lib(\"https://cdn.jsdelivr.net/gh/bmabey/pyLDAvis@3.3.1/pyLDAvis/js/ldavis.v3.0.0.js\", function(){\n",
              "        new LDAvis(\"#\" + \"ldavis_el1991405527166802725575912863\", ldavis_el1991405527166802725575912863_data);\n",
              "      });\n",
              "    });\n",
              "}else{\n",
              "    // require.js not available: dynamically load d3 & LDAvis\n",
              "    LDAvis_load_lib(\"https://d3js.org/d3.v5.js\", function(){\n",
              "         LDAvis_load_lib(\"https://cdn.jsdelivr.net/gh/bmabey/pyLDAvis@3.3.1/pyLDAvis/js/ldavis.v3.0.0.js\", function(){\n",
              "                 new LDAvis(\"#\" + \"ldavis_el1991405527166802725575912863\", ldavis_el1991405527166802725575912863_data);\n",
              "            })\n",
              "         });\n",
              "}\n",
              "</script>"
            ],
            "text/plain": [
              "<IPython.core.display.HTML object>"
            ]
          },
          "metadata": {
            "tags": []
          },
          "execution_count": 126
        }
      ]
    },
    {
      "cell_type": "code",
      "metadata": {
        "id": "f6jzdDbkChRU"
      },
      "source": [
        ""
      ],
      "execution_count": null,
      "outputs": []
    },
    {
      "cell_type": "code",
      "metadata": {
        "id": "FmKA5Hm3ChOy"
      },
      "source": [
        ""
      ],
      "execution_count": null,
      "outputs": []
    },
    {
      "cell_type": "code",
      "metadata": {
        "id": "5iyYECf6ChLl"
      },
      "source": [
        ""
      ],
      "execution_count": null,
      "outputs": []
    },
    {
      "cell_type": "code",
      "metadata": {
        "id": "jTv_viqYChIm"
      },
      "source": [
        ""
      ],
      "execution_count": null,
      "outputs": []
    },
    {
      "cell_type": "code",
      "metadata": {
        "id": "M08eaSWyChFk"
      },
      "source": [
        ""
      ],
      "execution_count": null,
      "outputs": []
    },
    {
      "cell_type": "code",
      "metadata": {
        "id": "uuDzdtIzCHlV"
      },
      "source": [
        ""
      ],
      "execution_count": null,
      "outputs": []
    },
    {
      "cell_type": "code",
      "metadata": {
        "id": "3UIyzu2mCHin"
      },
      "source": [
        ""
      ],
      "execution_count": null,
      "outputs": []
    },
    {
      "cell_type": "code",
      "metadata": {
        "id": "oYZpnkM0CHfI"
      },
      "source": [
        "id2word = corpora.Dictionary(data_lemmatized)\n",
        "id2word.filter_extremes(no_below=15, no_above=0.5, keep_n=100000)"
      ],
      "execution_count": null,
      "outputs": []
    },
    {
      "cell_type": "code",
      "metadata": {
        "id": "OqBX-DxNxnA_"
      },
      "source": [
        "lda_model = gensim.models.LdaMulticore(bow_corpus, num_topics=10, id2word=id2word, passes=2, workers=2)"
      ],
      "execution_count": null,
      "outputs": []
    },
    {
      "cell_type": "code",
      "metadata": {
        "id": "VpXATstdxUwj"
      },
      "source": [
        "for idx, topic in lda_model.print_topics(-1):\n",
        "    print('Topic: {} \\nWords: {}'.format(idx, topic))"
      ],
      "execution_count": null,
      "outputs": []
    },
    {
      "cell_type": "code",
      "metadata": {
        "id": "Dwh2EmbWw4YH"
      },
      "source": [
        "from gensim import corpora, models\n",
        "tfidf = models.TfidfModel(bow_corpus)\n",
        "corpus_tfidf = tfidf[bow_corpus]"
      ],
      "execution_count": null,
      "outputs": []
    },
    {
      "cell_type": "code",
      "metadata": {
        "id": "u2eJBo-OxveF"
      },
      "source": [
        "lda_model_tfidf = gensim.models.LdaMulticore(corpus_tfidf, num_topics=10, id2word=id2word, passes=2, workers=4)"
      ],
      "execution_count": null,
      "outputs": []
    },
    {
      "cell_type": "code",
      "metadata": {
        "colab": {
          "base_uri": "https://localhost:8080/"
        },
        "id": "R5HyC3e6xyd3",
        "outputId": "06054946-feab-4fbc-f2ee-35b062bb39fd"
      },
      "source": [
        "for idx, topic in lda_model_tfidf.print_topics(-1):\n",
        "    print('Topic: {} Word: {}'.format(idx, topic))"
      ],
      "execution_count": null,
      "outputs": [
        {
          "output_type": "stream",
          "text": [
            "Topic: 0 Word: 0.005*\"time\" + 0.005*\"know\" + 0.005*\"would\" + 0.005*\"go\" + 0.004*\"call\" + 0.004*\"thank\" + 0.004*\"work\" + 0.004*\"get\" + 0.004*\"let\" + 0.004*\"make\"\n",
            "Topic: 1 Word: 0.035*\"time\" + 0.025*\"pm\" + 0.022*\"date\" + 0.007*\"call\" + 0.007*\"weekly_priority\" + 0.006*\"thank\" + 0.006*\"check\" + 0.006*\"meeting\" + 0.006*\"room\" + 0.005*\"training\"\n",
            "Topic: 2 Word: 0.011*\"thank\" + 0.006*\"help\" + 0.005*\"would\" + 0.005*\"meeting\" + 0.005*\"come\" + 0.004*\"see\" + 0.004*\"model\" + 0.004*\"go\" + 0.004*\"know\" + 0.004*\"gas\"\n",
            "Topic: 3 Word: 0.011*\"attach\" + 0.008*\"time\" + 0.006*\"good\" + 0.006*\"look\" + 0.005*\"thank\" + 0.005*\"work\" + 0.005*\"message\" + 0.005*\"would\" + 0.005*\"find\" + 0.005*\"credit\"\n",
            "Topic: 4 Word: 0.074*\"time\" + 0.040*\"date\" + 0.024*\"description\" + 0.013*\"white_detaile\" + 0.012*\"chairperson_stacey\" + 0.011*\"pm\" + 0.009*\"meet\" + 0.008*\"event\" + 0.007*\"reminder\" + 0.007*\"meeting\"\n",
            "Topic: 5 Word: 0.010*\"time\" + 0.008*\"meeting\" + 0.008*\"deal\" + 0.007*\"meter\" + 0.007*\"thank\" + 0.006*\"date\" + 0.006*\"description\" + 0.006*\"know\" + 0.005*\"call\" + 0.005*\"let\"\n",
            "Topic: 6 Word: 0.007*\"thank\" + 0.006*\"would\" + 0.005*\"know\" + 0.005*\"let\" + 0.005*\"agreement\" + 0.005*\"deal\" + 0.005*\"question\" + 0.005*\"need\" + 0.005*\"attach\" + 0.004*\"model\"\n",
            "Topic: 7 Word: 0.007*\"attach\" + 0.006*\"see\" + 0.006*\"thank\" + 0.006*\"deal\" + 0.005*\"send\" + 0.005*\"price\" + 0.005*\"know\" + 0.005*\"give\" + 0.005*\"call\" + 0.005*\"would\"\n",
            "Topic: 8 Word: 0.008*\"contract\" + 0.007*\"get\" + 0.006*\"thank\" + 0.006*\"know\" + 0.005*\"day\" + 0.005*\"let\" + 0.005*\"need\" + 0.005*\"time\" + 0.004*\"send\" + 0.004*\"attach\"\n",
            "Topic: 9 Word: 0.007*\"thank\" + 0.006*\"deal\" + 0.006*\"know\" + 0.006*\"would\" + 0.006*\"go\" + 0.005*\"trade\" + 0.005*\"power\" + 0.005*\"time\" + 0.005*\"authorize\" + 0.005*\"gas\"\n"
          ],
          "name": "stdout"
        }
      ]
    },
    {
      "cell_type": "code",
      "metadata": {
        "id": "_QjhWXbjz4KJ"
      },
      "source": [
        "# Build the bigram and trigram models\n",
        "bigram = Phrases(data_words, min_count=5, threshold=100) # higher threshold fewer phrases.\n",
        "trigram = Phrases(bigram[data_words], threshold=100)\n",
        "# Faster way to get a sentence clubbed as a trigram/bigram\n",
        "bigram_mod = Phraser(bigram)\n",
        "trigram_mod = Phraser(trigram)\n",
        "# See trigram example\n",
        "print(trigram_mod[bigram_mod[data_words[200]]])"
      ],
      "execution_count": null,
      "outputs": []
    },
    {
      "cell_type": "code",
      "metadata": {
        "id": "wYD6-m2MDLHt"
      },
      "source": [
        "# Remove Stop Words\n",
        "data_words_nostops = remove_stopwords(data_words)\n",
        "# Form Bigrams\n",
        "data_words_bigrams = make_bigrams(data_words_nostops)\n",
        "# Do lemmatization keeping only noun, adj, vb, adv\n",
        "data_lemmatized = lemmatization(data_words_bigrams, allowed_postags=['NOUN', 'ADJ', 'VERB', 'ADV'])"
      ],
      "execution_count": null,
      "outputs": []
    },
    {
      "cell_type": "code",
      "metadata": {
        "id": "kpSDH8XEDSBL"
      },
      "source": [
        ""
      ],
      "execution_count": null,
      "outputs": []
    },
    {
      "cell_type": "code",
      "metadata": {
        "id": "STf6XZ-pDLFE"
      },
      "source": [
        ""
      ],
      "execution_count": null,
      "outputs": []
    },
    {
      "cell_type": "code",
      "metadata": {
        "id": "EPiHDwZZDLCU"
      },
      "source": [
        ""
      ],
      "execution_count": null,
      "outputs": []
    },
    {
      "cell_type": "code",
      "metadata": {
        "id": "x_oq18ToDK_8"
      },
      "source": [
        ""
      ],
      "execution_count": null,
      "outputs": []
    },
    {
      "cell_type": "code",
      "metadata": {
        "id": "xOIBtuSuDK9b"
      },
      "source": [
        ""
      ],
      "execution_count": null,
      "outputs": []
    },
    {
      "cell_type": "code",
      "metadata": {
        "id": "RSZA8z0xDK62"
      },
      "source": [
        ""
      ],
      "execution_count": null,
      "outputs": []
    },
    {
      "cell_type": "code",
      "metadata": {
        "id": "Zn6ptgsBDK36"
      },
      "source": [
        ""
      ],
      "execution_count": null,
      "outputs": []
    },
    {
      "cell_type": "code",
      "metadata": {
        "id": "F8ofmAm5DK1Y"
      },
      "source": [
        ""
      ],
      "execution_count": null,
      "outputs": []
    },
    {
      "cell_type": "code",
      "metadata": {
        "id": "qBMmVJGSDKy6"
      },
      "source": [
        ""
      ],
      "execution_count": null,
      "outputs": []
    },
    {
      "cell_type": "code",
      "metadata": {
        "id": "17Tn6-ERDKvp"
      },
      "source": [
        ""
      ],
      "execution_count": null,
      "outputs": []
    }
  ]
}